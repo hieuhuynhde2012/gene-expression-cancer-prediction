{
 "cells": [
  {
   "cell_type": "code",
   "execution_count": 1,
   "metadata": {},
   "outputs": [
    {
     "name": "stdout",
     "output_type": "stream",
     "text": [
      "Reading file: C:\\Users\\PC\\Desktop\\gene-expression-cancer-prediction\\rna_seq\\0019c951-16c5-48d0-85c8-58d96b12d330\\ba295155-272e-43eb-9d6a-e4c9c392e68b.rna_seq.augmented_star_gene_counts.tsv\n",
      "Processing sample: ba295155-272e-43eb-9d6a-e4c9c392e68b.rna_seq.augmented_star_gene_counts\n"
     ]
    },
    {
     "name": "stderr",
     "output_type": "stream",
     "text": [
      "C:\\Users\\PC\\AppData\\Local\\Temp\\ipykernel_4980\\1846137033.py:69: SettingWithCopyWarning: \n",
      "A value is trying to be set on a copy of a slice from a DataFrame.\n",
      "Try using .loc[row_indexer,col_indexer] = value instead\n",
      "\n",
      "See the caveats in the documentation: https://pandas.pydata.org/pandas-docs/stable/user_guide/indexing.html#returning-a-view-versus-a-copy\n",
      "  df_clean['sample_id'] = sample_id\n",
      "C:\\Users\\PC\\AppData\\Local\\Temp\\ipykernel_4980\\1846137033.py:69: SettingWithCopyWarning: \n",
      "A value is trying to be set on a copy of a slice from a DataFrame.\n",
      "Try using .loc[row_indexer,col_indexer] = value instead\n",
      "\n",
      "See the caveats in the documentation: https://pandas.pydata.org/pandas-docs/stable/user_guide/indexing.html#returning-a-view-versus-a-copy\n",
      "  df_clean['sample_id'] = sample_id\n"
     ]
    },
    {
     "name": "stdout",
     "output_type": "stream",
     "text": [
      "Finished processing sample: ba295155-272e-43eb-9d6a-e4c9c392e68b.rna_seq.augmented_star_gene_counts, shape: (60660, 10)\n",
      "Reading file: C:\\Users\\PC\\Desktop\\gene-expression-cancer-prediction\\rna_seq\\0022cd20-f64f-4773-b9ff-a3de0b71b259\\8d1641ea-7552-4d23-9298-094e0056386a.rna_seq.augmented_star_gene_counts.tsv\n",
      "Processing sample: 8d1641ea-7552-4d23-9298-094e0056386a.rna_seq.augmented_star_gene_counts\n",
      "Finished processing sample: 8d1641ea-7552-4d23-9298-094e0056386a.rna_seq.augmented_star_gene_counts, shape: (60660, 10)\n",
      "Reading file: C:\\Users\\PC\\Desktop\\gene-expression-cancer-prediction\\rna_seq\\00469928-b243-4cae-acd7-134508e99ceb\\2f51534b-248b-4999-bc3f-e42a2e98332e.rna_seq.augmented_star_gene_counts.tsv\n",
      "Processing sample: 2f51534b-248b-4999-bc3f-e42a2e98332e.rna_seq.augmented_star_gene_counts\n"
     ]
    },
    {
     "name": "stderr",
     "output_type": "stream",
     "text": [
      "C:\\Users\\PC\\AppData\\Local\\Temp\\ipykernel_4980\\1846137033.py:69: SettingWithCopyWarning: \n",
      "A value is trying to be set on a copy of a slice from a DataFrame.\n",
      "Try using .loc[row_indexer,col_indexer] = value instead\n",
      "\n",
      "See the caveats in the documentation: https://pandas.pydata.org/pandas-docs/stable/user_guide/indexing.html#returning-a-view-versus-a-copy\n",
      "  df_clean['sample_id'] = sample_id\n"
     ]
    },
    {
     "name": "stdout",
     "output_type": "stream",
     "text": [
      "Finished processing sample: 2f51534b-248b-4999-bc3f-e42a2e98332e.rna_seq.augmented_star_gene_counts, shape: (60660, 10)\n",
      "Reading file: C:\\Users\\PC\\Desktop\\gene-expression-cancer-prediction\\rna_seq\\0094f9d0-45ec-4aad-bca0-71c60bdd7113\\cafc9e36-c5f0-45df-ad03-16210ff0d870.rna_seq.augmented_star_gene_counts.tsv\n",
      "Processing sample: cafc9e36-c5f0-45df-ad03-16210ff0d870.rna_seq.augmented_star_gene_counts\n"
     ]
    },
    {
     "name": "stderr",
     "output_type": "stream",
     "text": [
      "C:\\Users\\PC\\AppData\\Local\\Temp\\ipykernel_4980\\1846137033.py:69: SettingWithCopyWarning: \n",
      "A value is trying to be set on a copy of a slice from a DataFrame.\n",
      "Try using .loc[row_indexer,col_indexer] = value instead\n",
      "\n",
      "See the caveats in the documentation: https://pandas.pydata.org/pandas-docs/stable/user_guide/indexing.html#returning-a-view-versus-a-copy\n",
      "  df_clean['sample_id'] = sample_id\n"
     ]
    },
    {
     "name": "stdout",
     "output_type": "stream",
     "text": [
      "Finished processing sample: cafc9e36-c5f0-45df-ad03-16210ff0d870.rna_seq.augmented_star_gene_counts, shape: (60660, 10)\n",
      "Reading file: C:\\Users\\PC\\Desktop\\gene-expression-cancer-prediction\\rna_seq\\00b13ccf-ad7c-4613-8366-7c583a399691\\c763a483-415e-4cb4-9cdf-4e6c31e8a9c9.rna_seq.augmented_star_gene_counts.tsv\n",
      "Processing sample: c763a483-415e-4cb4-9cdf-4e6c31e8a9c9.rna_seq.augmented_star_gene_counts\n"
     ]
    },
    {
     "name": "stderr",
     "output_type": "stream",
     "text": [
      "C:\\Users\\PC\\AppData\\Local\\Temp\\ipykernel_4980\\1846137033.py:69: SettingWithCopyWarning: \n",
      "A value is trying to be set on a copy of a slice from a DataFrame.\n",
      "Try using .loc[row_indexer,col_indexer] = value instead\n",
      "\n",
      "See the caveats in the documentation: https://pandas.pydata.org/pandas-docs/stable/user_guide/indexing.html#returning-a-view-versus-a-copy\n",
      "  df_clean['sample_id'] = sample_id\n"
     ]
    },
    {
     "name": "stdout",
     "output_type": "stream",
     "text": [
      "Finished processing sample: c763a483-415e-4cb4-9cdf-4e6c31e8a9c9.rna_seq.augmented_star_gene_counts, shape: (60660, 10)\n",
      "Reading file: C:\\Users\\PC\\Desktop\\gene-expression-cancer-prediction\\rna_seq\\010e405c-b91d-4046-898e-105d5830d9a9\\7135f14b-e84f-4ebf-8d95-b2a3c843fd4d.rna_seq.augmented_star_gene_counts.tsv\n",
      "Processing sample: 7135f14b-e84f-4ebf-8d95-b2a3c843fd4d.rna_seq.augmented_star_gene_counts\n"
     ]
    },
    {
     "name": "stderr",
     "output_type": "stream",
     "text": [
      "C:\\Users\\PC\\AppData\\Local\\Temp\\ipykernel_4980\\1846137033.py:69: SettingWithCopyWarning: \n",
      "A value is trying to be set on a copy of a slice from a DataFrame.\n",
      "Try using .loc[row_indexer,col_indexer] = value instead\n",
      "\n",
      "See the caveats in the documentation: https://pandas.pydata.org/pandas-docs/stable/user_guide/indexing.html#returning-a-view-versus-a-copy\n",
      "  df_clean['sample_id'] = sample_id\n",
      "C:\\Users\\PC\\AppData\\Local\\Temp\\ipykernel_4980\\1846137033.py:69: SettingWithCopyWarning: \n",
      "A value is trying to be set on a copy of a slice from a DataFrame.\n",
      "Try using .loc[row_indexer,col_indexer] = value instead\n",
      "\n",
      "See the caveats in the documentation: https://pandas.pydata.org/pandas-docs/stable/user_guide/indexing.html#returning-a-view-versus-a-copy\n",
      "  df_clean['sample_id'] = sample_id\n"
     ]
    },
    {
     "name": "stdout",
     "output_type": "stream",
     "text": [
      "Finished processing sample: 7135f14b-e84f-4ebf-8d95-b2a3c843fd4d.rna_seq.augmented_star_gene_counts, shape: (60660, 10)\n",
      "Reading file: C:\\Users\\PC\\Desktop\\gene-expression-cancer-prediction\\rna_seq\\017d71aa-0999-4d8e-9cb4-88b9013e61eb\\c6683fc6-49f4-4e53-94ac-251799c2c638.rna_seq.augmented_star_gene_counts.tsv\n",
      "Processing sample: c6683fc6-49f4-4e53-94ac-251799c2c638.rna_seq.augmented_star_gene_counts\n",
      "Finished processing sample: c6683fc6-49f4-4e53-94ac-251799c2c638.rna_seq.augmented_star_gene_counts, shape: (60660, 10)\n",
      "Reading file: C:\\Users\\PC\\Desktop\\gene-expression-cancer-prediction\\rna_seq\\02a0b95f-ea0f-4c0d-ba2d-9724ed9ad712\\5fd42405-ebfe-4210-bc2f-d8310e3e14ee.rna_seq.augmented_star_gene_counts.tsv\n",
      "Processing sample: 5fd42405-ebfe-4210-bc2f-d8310e3e14ee.rna_seq.augmented_star_gene_counts\n"
     ]
    },
    {
     "name": "stderr",
     "output_type": "stream",
     "text": [
      "C:\\Users\\PC\\AppData\\Local\\Temp\\ipykernel_4980\\1846137033.py:69: SettingWithCopyWarning: \n",
      "A value is trying to be set on a copy of a slice from a DataFrame.\n",
      "Try using .loc[row_indexer,col_indexer] = value instead\n",
      "\n",
      "See the caveats in the documentation: https://pandas.pydata.org/pandas-docs/stable/user_guide/indexing.html#returning-a-view-versus-a-copy\n",
      "  df_clean['sample_id'] = sample_id\n"
     ]
    },
    {
     "name": "stdout",
     "output_type": "stream",
     "text": [
      "Finished processing sample: 5fd42405-ebfe-4210-bc2f-d8310e3e14ee.rna_seq.augmented_star_gene_counts, shape: (60660, 10)\n",
      "Reading file: C:\\Users\\PC\\Desktop\\gene-expression-cancer-prediction\\rna_seq\\02a11397-2a9b-4dba-8c6a-6b9f0aa24372\\9ccd787f-fde1-4fe6-a11f-d6203eaf9faf.rna_seq.augmented_star_gene_counts.tsv\n",
      "Processing sample: 9ccd787f-fde1-4fe6-a11f-d6203eaf9faf.rna_seq.augmented_star_gene_counts\n"
     ]
    },
    {
     "name": "stderr",
     "output_type": "stream",
     "text": [
      "C:\\Users\\PC\\AppData\\Local\\Temp\\ipykernel_4980\\1846137033.py:69: SettingWithCopyWarning: \n",
      "A value is trying to be set on a copy of a slice from a DataFrame.\n",
      "Try using .loc[row_indexer,col_indexer] = value instead\n",
      "\n",
      "See the caveats in the documentation: https://pandas.pydata.org/pandas-docs/stable/user_guide/indexing.html#returning-a-view-versus-a-copy\n",
      "  df_clean['sample_id'] = sample_id\n"
     ]
    },
    {
     "name": "stdout",
     "output_type": "stream",
     "text": [
      "Finished processing sample: 9ccd787f-fde1-4fe6-a11f-d6203eaf9faf.rna_seq.augmented_star_gene_counts, shape: (60660, 10)\n",
      "Reading file: C:\\Users\\PC\\Desktop\\gene-expression-cancer-prediction\\rna_seq\\02e08315-4d34-421c-acc0-129b1e1de38b\\4a88d54f-c88c-4ffd-84c9-069b53f2cb28.rna_seq.augmented_star_gene_counts.tsv\n",
      "Processing sample: 4a88d54f-c88c-4ffd-84c9-069b53f2cb28.rna_seq.augmented_star_gene_counts\n"
     ]
    },
    {
     "name": "stderr",
     "output_type": "stream",
     "text": [
      "C:\\Users\\PC\\AppData\\Local\\Temp\\ipykernel_4980\\1846137033.py:69: SettingWithCopyWarning: \n",
      "A value is trying to be set on a copy of a slice from a DataFrame.\n",
      "Try using .loc[row_indexer,col_indexer] = value instead\n",
      "\n",
      "See the caveats in the documentation: https://pandas.pydata.org/pandas-docs/stable/user_guide/indexing.html#returning-a-view-versus-a-copy\n",
      "  df_clean['sample_id'] = sample_id\n",
      "C:\\Users\\PC\\AppData\\Local\\Temp\\ipykernel_4980\\1846137033.py:69: SettingWithCopyWarning: \n",
      "A value is trying to be set on a copy of a slice from a DataFrame.\n",
      "Try using .loc[row_indexer,col_indexer] = value instead\n",
      "\n",
      "See the caveats in the documentation: https://pandas.pydata.org/pandas-docs/stable/user_guide/indexing.html#returning-a-view-versus-a-copy\n",
      "  df_clean['sample_id'] = sample_id\n"
     ]
    },
    {
     "name": "stdout",
     "output_type": "stream",
     "text": [
      "Finished processing sample: 4a88d54f-c88c-4ffd-84c9-069b53f2cb28.rna_seq.augmented_star_gene_counts, shape: (60660, 10)\n",
      "Reading file: C:\\Users\\PC\\Desktop\\gene-expression-cancer-prediction\\rna_seq\\03891509-3109-450d-8564-77b024a6128e\\75668632-f0c7-495b-ba34-cd4b00aa9450.rna_seq.augmented_star_gene_counts.tsv\n",
      "Processing sample: 75668632-f0c7-495b-ba34-cd4b00aa9450.rna_seq.augmented_star_gene_counts\n",
      "Finished processing sample: 75668632-f0c7-495b-ba34-cd4b00aa9450.rna_seq.augmented_star_gene_counts, shape: (60660, 10)\n",
      "Reading file: C:\\Users\\PC\\Desktop\\gene-expression-cancer-prediction\\rna_seq\\03a1a105-4856-4e5c-b537-508bdbda50b5\\02bbe1b1-44ff-426b-a40e-47a01bc4cf7d.rna_seq.augmented_star_gene_counts.tsv\n",
      "Processing sample: 02bbe1b1-44ff-426b-a40e-47a01bc4cf7d.rna_seq.augmented_star_gene_counts\n",
      "Finished processing sample: 02bbe1b1-44ff-426b-a40e-47a01bc4cf7d.rna_seq.augmented_star_gene_counts, shape: (60660, 10)\n"
     ]
    },
    {
     "name": "stderr",
     "output_type": "stream",
     "text": [
      "C:\\Users\\PC\\AppData\\Local\\Temp\\ipykernel_4980\\1846137033.py:69: SettingWithCopyWarning: \n",
      "A value is trying to be set on a copy of a slice from a DataFrame.\n",
      "Try using .loc[row_indexer,col_indexer] = value instead\n",
      "\n",
      "See the caveats in the documentation: https://pandas.pydata.org/pandas-docs/stable/user_guide/indexing.html#returning-a-view-versus-a-copy\n",
      "  df_clean['sample_id'] = sample_id\n"
     ]
    },
    {
     "name": "stdout",
     "output_type": "stream",
     "text": [
      "Reading file: C:\\Users\\PC\\Desktop\\gene-expression-cancer-prediction\\rna_seq\\03d18286-1038-4c0c-9c05-d1269e280250\\8bfd50fb-d6d8-44cd-a492-1e0a983e40b6.rna_seq.augmented_star_gene_counts.tsv\n",
      "Processing sample: 8bfd50fb-d6d8-44cd-a492-1e0a983e40b6.rna_seq.augmented_star_gene_counts\n",
      "Finished processing sample: 8bfd50fb-d6d8-44cd-a492-1e0a983e40b6.rna_seq.augmented_star_gene_counts, shape: (60660, 10)\n"
     ]
    },
    {
     "name": "stderr",
     "output_type": "stream",
     "text": [
      "C:\\Users\\PC\\AppData\\Local\\Temp\\ipykernel_4980\\1846137033.py:69: SettingWithCopyWarning: \n",
      "A value is trying to be set on a copy of a slice from a DataFrame.\n",
      "Try using .loc[row_indexer,col_indexer] = value instead\n",
      "\n",
      "See the caveats in the documentation: https://pandas.pydata.org/pandas-docs/stable/user_guide/indexing.html#returning-a-view-versus-a-copy\n",
      "  df_clean['sample_id'] = sample_id\n"
     ]
    },
    {
     "name": "stdout",
     "output_type": "stream",
     "text": [
      "Reading file: C:\\Users\\PC\\Desktop\\gene-expression-cancer-prediction\\rna_seq\\04024f75-7405-4ccc-8976-91d0a3035b3a\\e6f4bdc7-ab3f-4a62-aa6d-5223b25bbc89.rna_seq.augmented_star_gene_counts.tsv\n",
      "Processing sample: e6f4bdc7-ab3f-4a62-aa6d-5223b25bbc89.rna_seq.augmented_star_gene_counts\n"
     ]
    },
    {
     "name": "stderr",
     "output_type": "stream",
     "text": [
      "C:\\Users\\PC\\AppData\\Local\\Temp\\ipykernel_4980\\1846137033.py:69: SettingWithCopyWarning: \n",
      "A value is trying to be set on a copy of a slice from a DataFrame.\n",
      "Try using .loc[row_indexer,col_indexer] = value instead\n",
      "\n",
      "See the caveats in the documentation: https://pandas.pydata.org/pandas-docs/stable/user_guide/indexing.html#returning-a-view-versus-a-copy\n",
      "  df_clean['sample_id'] = sample_id\n"
     ]
    },
    {
     "name": "stdout",
     "output_type": "stream",
     "text": [
      "Finished processing sample: e6f4bdc7-ab3f-4a62-aa6d-5223b25bbc89.rna_seq.augmented_star_gene_counts, shape: (60660, 10)\n",
      "Reading file: C:\\Users\\PC\\Desktop\\gene-expression-cancer-prediction\\rna_seq\\0427af63-b665-4c57-874b-65222c200bfe\\99296d22-e605-49cd-b37f-a1b900be5d53.rna_seq.augmented_star_gene_counts.tsv\n",
      "Processing sample: 99296d22-e605-49cd-b37f-a1b900be5d53.rna_seq.augmented_star_gene_counts\n"
     ]
    },
    {
     "name": "stderr",
     "output_type": "stream",
     "text": [
      "C:\\Users\\PC\\AppData\\Local\\Temp\\ipykernel_4980\\1846137033.py:69: SettingWithCopyWarning: \n",
      "A value is trying to be set on a copy of a slice from a DataFrame.\n",
      "Try using .loc[row_indexer,col_indexer] = value instead\n",
      "\n",
      "See the caveats in the documentation: https://pandas.pydata.org/pandas-docs/stable/user_guide/indexing.html#returning-a-view-versus-a-copy\n",
      "  df_clean['sample_id'] = sample_id\n"
     ]
    },
    {
     "name": "stdout",
     "output_type": "stream",
     "text": [
      "Finished processing sample: 99296d22-e605-49cd-b37f-a1b900be5d53.rna_seq.augmented_star_gene_counts, shape: (60660, 10)\n",
      "Reading file: C:\\Users\\PC\\Desktop\\gene-expression-cancer-prediction\\rna_seq\\0437af11-bb89-4901-9764-bb410c2e94c5\\5a61d29b-5ae6-41b6-8842-865463f72990.rna_seq.augmented_star_gene_counts.tsv\n",
      "Processing sample: 5a61d29b-5ae6-41b6-8842-865463f72990.rna_seq.augmented_star_gene_counts\n"
     ]
    },
    {
     "name": "stderr",
     "output_type": "stream",
     "text": [
      "C:\\Users\\PC\\AppData\\Local\\Temp\\ipykernel_4980\\1846137033.py:69: SettingWithCopyWarning: \n",
      "A value is trying to be set on a copy of a slice from a DataFrame.\n",
      "Try using .loc[row_indexer,col_indexer] = value instead\n",
      "\n",
      "See the caveats in the documentation: https://pandas.pydata.org/pandas-docs/stable/user_guide/indexing.html#returning-a-view-versus-a-copy\n",
      "  df_clean['sample_id'] = sample_id\n"
     ]
    },
    {
     "name": "stdout",
     "output_type": "stream",
     "text": [
      "Finished processing sample: 5a61d29b-5ae6-41b6-8842-865463f72990.rna_seq.augmented_star_gene_counts, shape: (60660, 10)\n",
      "Reading file: C:\\Users\\PC\\Desktop\\gene-expression-cancer-prediction\\rna_seq\\04a7cce8-c3b3-4994-9dac-c0e53099f37d\\676cce88-9f6e-4490-8e73-c0e88bd00075.rna_seq.augmented_star_gene_counts.tsv\n",
      "Processing sample: 676cce88-9f6e-4490-8e73-c0e88bd00075.rna_seq.augmented_star_gene_counts\n"
     ]
    },
    {
     "name": "stderr",
     "output_type": "stream",
     "text": [
      "C:\\Users\\PC\\AppData\\Local\\Temp\\ipykernel_4980\\1846137033.py:69: SettingWithCopyWarning: \n",
      "A value is trying to be set on a copy of a slice from a DataFrame.\n",
      "Try using .loc[row_indexer,col_indexer] = value instead\n",
      "\n",
      "See the caveats in the documentation: https://pandas.pydata.org/pandas-docs/stable/user_guide/indexing.html#returning-a-view-versus-a-copy\n",
      "  df_clean['sample_id'] = sample_id\n"
     ]
    },
    {
     "name": "stdout",
     "output_type": "stream",
     "text": [
      "Finished processing sample: 676cce88-9f6e-4490-8e73-c0e88bd00075.rna_seq.augmented_star_gene_counts, shape: (60660, 10)\n",
      "Reading file: C:\\Users\\PC\\Desktop\\gene-expression-cancer-prediction\\rna_seq\\04e03ae1-b2f3-446d-862d-172fea6320de\\58b399a0-3070-44aa-9a40-f0e2c0fea0fc.rna_seq.augmented_star_gene_counts.tsv\n",
      "Processing sample: 58b399a0-3070-44aa-9a40-f0e2c0fea0fc.rna_seq.augmented_star_gene_counts\n"
     ]
    },
    {
     "name": "stderr",
     "output_type": "stream",
     "text": [
      "C:\\Users\\PC\\AppData\\Local\\Temp\\ipykernel_4980\\1846137033.py:69: SettingWithCopyWarning: \n",
      "A value is trying to be set on a copy of a slice from a DataFrame.\n",
      "Try using .loc[row_indexer,col_indexer] = value instead\n",
      "\n",
      "See the caveats in the documentation: https://pandas.pydata.org/pandas-docs/stable/user_guide/indexing.html#returning-a-view-versus-a-copy\n",
      "  df_clean['sample_id'] = sample_id\n",
      "C:\\Users\\PC\\AppData\\Local\\Temp\\ipykernel_4980\\1846137033.py:69: SettingWithCopyWarning: \n",
      "A value is trying to be set on a copy of a slice from a DataFrame.\n",
      "Try using .loc[row_indexer,col_indexer] = value instead\n",
      "\n",
      "See the caveats in the documentation: https://pandas.pydata.org/pandas-docs/stable/user_guide/indexing.html#returning-a-view-versus-a-copy\n",
      "  df_clean['sample_id'] = sample_id\n"
     ]
    },
    {
     "name": "stdout",
     "output_type": "stream",
     "text": [
      "Finished processing sample: 58b399a0-3070-44aa-9a40-f0e2c0fea0fc.rna_seq.augmented_star_gene_counts, shape: (60660, 10)\n",
      "Reading file: C:\\Users\\PC\\Desktop\\gene-expression-cancer-prediction\\rna_seq\\055f6138-ea7a-468d-90c2-87a473486867\\43d15c49-f348-48a8-b00f-7f6a7b605a04.rna_seq.augmented_star_gene_counts.tsv\n",
      "Processing sample: 43d15c49-f348-48a8-b00f-7f6a7b605a04.rna_seq.augmented_star_gene_counts\n",
      "Finished processing sample: 43d15c49-f348-48a8-b00f-7f6a7b605a04.rna_seq.augmented_star_gene_counts, shape: (60660, 10)\n",
      "Reading file: C:\\Users\\PC\\Desktop\\gene-expression-cancer-prediction\\rna_seq\\05aa6d12-6d48-4ecb-8211-036e647ef72e\\08429604-2dc7-4827-8ba5-80818aa45a51.rna_seq.augmented_star_gene_counts.tsv\n",
      "Processing sample: 08429604-2dc7-4827-8ba5-80818aa45a51.rna_seq.augmented_star_gene_counts\n",
      "Finished processing sample: 08429604-2dc7-4827-8ba5-80818aa45a51.rna_seq.augmented_star_gene_counts, shape: (60660, 10)\n",
      "Reading file: C:\\Users\\PC\\Desktop\\gene-expression-cancer-prediction\\rna_seq\\06227b3b-56d0-4657-bb37-8f56a3dc15f7\\3574e83f-a983-425b-9082-63d5a32c01d6.rna_seq.augmented_star_gene_counts.tsv\n",
      "Processing sample: 3574e83f-a983-425b-9082-63d5a32c01d6.rna_seq.augmented_star_gene_counts\n"
     ]
    },
    {
     "name": "stderr",
     "output_type": "stream",
     "text": [
      "C:\\Users\\PC\\AppData\\Local\\Temp\\ipykernel_4980\\1846137033.py:69: SettingWithCopyWarning: \n",
      "A value is trying to be set on a copy of a slice from a DataFrame.\n",
      "Try using .loc[row_indexer,col_indexer] = value instead\n",
      "\n",
      "See the caveats in the documentation: https://pandas.pydata.org/pandas-docs/stable/user_guide/indexing.html#returning-a-view-versus-a-copy\n",
      "  df_clean['sample_id'] = sample_id\n",
      "C:\\Users\\PC\\AppData\\Local\\Temp\\ipykernel_4980\\1846137033.py:69: SettingWithCopyWarning: \n",
      "A value is trying to be set on a copy of a slice from a DataFrame.\n",
      "Try using .loc[row_indexer,col_indexer] = value instead\n",
      "\n",
      "See the caveats in the documentation: https://pandas.pydata.org/pandas-docs/stable/user_guide/indexing.html#returning-a-view-versus-a-copy\n",
      "  df_clean['sample_id'] = sample_id\n"
     ]
    },
    {
     "name": "stdout",
     "output_type": "stream",
     "text": [
      "Finished processing sample: 3574e83f-a983-425b-9082-63d5a32c01d6.rna_seq.augmented_star_gene_counts, shape: (60660, 10)\n",
      "Reading file: C:\\Users\\PC\\Desktop\\gene-expression-cancer-prediction\\rna_seq\\064215bd-9ec9-4a16-8ea2-9c6604156398\\af83a9af-a11f-4c29-a61f-8f0d2b5868c1.rna_seq.augmented_star_gene_counts.tsv\n",
      "Processing sample: af83a9af-a11f-4c29-a61f-8f0d2b5868c1.rna_seq.augmented_star_gene_counts\n",
      "Finished processing sample: af83a9af-a11f-4c29-a61f-8f0d2b5868c1.rna_seq.augmented_star_gene_counts, shape: (60660, 10)\n",
      "Reading file: C:\\Users\\PC\\Desktop\\gene-expression-cancer-prediction\\rna_seq\\0682b5b9-8529-4152-b6f9-1a13180eedee\\d5066dc8-74bb-415a-84aa-9f74b61faa20.rna_seq.augmented_star_gene_counts.tsv\n",
      "Processing sample: d5066dc8-74bb-415a-84aa-9f74b61faa20.rna_seq.augmented_star_gene_counts\n"
     ]
    },
    {
     "name": "stderr",
     "output_type": "stream",
     "text": [
      "C:\\Users\\PC\\AppData\\Local\\Temp\\ipykernel_4980\\1846137033.py:69: SettingWithCopyWarning: \n",
      "A value is trying to be set on a copy of a slice from a DataFrame.\n",
      "Try using .loc[row_indexer,col_indexer] = value instead\n",
      "\n",
      "See the caveats in the documentation: https://pandas.pydata.org/pandas-docs/stable/user_guide/indexing.html#returning-a-view-versus-a-copy\n",
      "  df_clean['sample_id'] = sample_id\n",
      "C:\\Users\\PC\\AppData\\Local\\Temp\\ipykernel_4980\\1846137033.py:69: SettingWithCopyWarning: \n",
      "A value is trying to be set on a copy of a slice from a DataFrame.\n",
      "Try using .loc[row_indexer,col_indexer] = value instead\n",
      "\n",
      "See the caveats in the documentation: https://pandas.pydata.org/pandas-docs/stable/user_guide/indexing.html#returning-a-view-versus-a-copy\n",
      "  df_clean['sample_id'] = sample_id\n"
     ]
    },
    {
     "name": "stdout",
     "output_type": "stream",
     "text": [
      "Finished processing sample: d5066dc8-74bb-415a-84aa-9f74b61faa20.rna_seq.augmented_star_gene_counts, shape: (60660, 10)\n",
      "Reading file: C:\\Users\\PC\\Desktop\\gene-expression-cancer-prediction\\rna_seq\\068841a8-af6a-4925-bad0-586005f59521\\f09cc0c7-2896-479b-84db-401f14780092.rna_seq.augmented_star_gene_counts.tsv\n",
      "Processing sample: f09cc0c7-2896-479b-84db-401f14780092.rna_seq.augmented_star_gene_counts\n",
      "Finished processing sample: f09cc0c7-2896-479b-84db-401f14780092.rna_seq.augmented_star_gene_counts, shape: (60660, 10)\n"
     ]
    },
    {
     "name": "stderr",
     "output_type": "stream",
     "text": [
      "C:\\Users\\PC\\AppData\\Local\\Temp\\ipykernel_4980\\1846137033.py:69: SettingWithCopyWarning: \n",
      "A value is trying to be set on a copy of a slice from a DataFrame.\n",
      "Try using .loc[row_indexer,col_indexer] = value instead\n",
      "\n",
      "See the caveats in the documentation: https://pandas.pydata.org/pandas-docs/stable/user_guide/indexing.html#returning-a-view-versus-a-copy\n",
      "  df_clean['sample_id'] = sample_id\n"
     ]
    },
    {
     "name": "stdout",
     "output_type": "stream",
     "text": [
      "Reading file: C:\\Users\\PC\\Desktop\\gene-expression-cancer-prediction\\rna_seq\\06fc39a9-8059-4ac7-9b2b-64f6c7d3b8a1\\d826d551-cb0f-4d0e-b21d-a7b0c9010a62.rna_seq.augmented_star_gene_counts.tsv\n",
      "Processing sample: d826d551-cb0f-4d0e-b21d-a7b0c9010a62.rna_seq.augmented_star_gene_counts\n",
      "Finished processing sample: d826d551-cb0f-4d0e-b21d-a7b0c9010a62.rna_seq.augmented_star_gene_counts, shape: (60660, 10)\n",
      "Reading file: C:\\Users\\PC\\Desktop\\gene-expression-cancer-prediction\\rna_seq\\0710056c-2f04-4182-90ca-45492dd6444c\\9d0f51bf-a66d-4ea1-8599-2aee772c165b.rna_seq.augmented_star_gene_counts.tsv\n",
      "Processing sample: 9d0f51bf-a66d-4ea1-8599-2aee772c165b.rna_seq.augmented_star_gene_counts\n"
     ]
    },
    {
     "name": "stderr",
     "output_type": "stream",
     "text": [
      "C:\\Users\\PC\\AppData\\Local\\Temp\\ipykernel_4980\\1846137033.py:69: SettingWithCopyWarning: \n",
      "A value is trying to be set on a copy of a slice from a DataFrame.\n",
      "Try using .loc[row_indexer,col_indexer] = value instead\n",
      "\n",
      "See the caveats in the documentation: https://pandas.pydata.org/pandas-docs/stable/user_guide/indexing.html#returning-a-view-versus-a-copy\n",
      "  df_clean['sample_id'] = sample_id\n",
      "C:\\Users\\PC\\AppData\\Local\\Temp\\ipykernel_4980\\1846137033.py:69: SettingWithCopyWarning: \n",
      "A value is trying to be set on a copy of a slice from a DataFrame.\n",
      "Try using .loc[row_indexer,col_indexer] = value instead\n",
      "\n",
      "See the caveats in the documentation: https://pandas.pydata.org/pandas-docs/stable/user_guide/indexing.html#returning-a-view-versus-a-copy\n",
      "  df_clean['sample_id'] = sample_id\n",
      "C:\\Users\\PC\\AppData\\Local\\Temp\\ipykernel_4980\\1846137033.py:69: SettingWithCopyWarning: \n",
      "A value is trying to be set on a copy of a slice from a DataFrame.\n",
      "Try using .loc[row_indexer,col_indexer] = value instead\n",
      "\n",
      "See the caveats in the documentation: https://pandas.pydata.org/pandas-docs/stable/user_guide/indexing.html#returning-a-view-versus-a-copy\n",
      "  df_clean['sample_id'] = sample_id\n"
     ]
    },
    {
     "name": "stdout",
     "output_type": "stream",
     "text": [
      "Finished processing sample: 9d0f51bf-a66d-4ea1-8599-2aee772c165b.rna_seq.augmented_star_gene_counts, shape: (60660, 10)\n",
      "Reading file: C:\\Users\\PC\\Desktop\\gene-expression-cancer-prediction\\rna_seq\\072cae2e-f4c1-4a3f-85e1-6f7e35a65108\\91941243-48d2-4416-b104-0affb8c46316.rna_seq.augmented_star_gene_counts.tsv\n",
      "Processing sample: 91941243-48d2-4416-b104-0affb8c46316.rna_seq.augmented_star_gene_counts\n",
      "Finished processing sample: 91941243-48d2-4416-b104-0affb8c46316.rna_seq.augmented_star_gene_counts, shape: (60660, 10)\n",
      "Reading file: C:\\Users\\PC\\Desktop\\gene-expression-cancer-prediction\\rna_seq\\07478a1d-adbe-4fa7-858b-0edb74171eec\\647221bc-8100-4bb5-86a5-973fb67fde0b.rna_seq.augmented_star_gene_counts.tsv\n",
      "Processing sample: 647221bc-8100-4bb5-86a5-973fb67fde0b.rna_seq.augmented_star_gene_counts\n",
      "Finished processing sample: 647221bc-8100-4bb5-86a5-973fb67fde0b.rna_seq.augmented_star_gene_counts, shape: (60660, 10)\n",
      "Reading file: C:\\Users\\PC\\Desktop\\gene-expression-cancer-prediction\\rna_seq\\08671bd5-f67a-46fa-979d-4aa40fb6575a\\ad01e71e-ed1f-4de6-81b5-8ef60f7a38d0.rna_seq.augmented_star_gene_counts.tsv\n",
      "Processing sample: ad01e71e-ed1f-4de6-81b5-8ef60f7a38d0.rna_seq.augmented_star_gene_counts\n"
     ]
    },
    {
     "name": "stderr",
     "output_type": "stream",
     "text": [
      "C:\\Users\\PC\\AppData\\Local\\Temp\\ipykernel_4980\\1846137033.py:69: SettingWithCopyWarning: \n",
      "A value is trying to be set on a copy of a slice from a DataFrame.\n",
      "Try using .loc[row_indexer,col_indexer] = value instead\n",
      "\n",
      "See the caveats in the documentation: https://pandas.pydata.org/pandas-docs/stable/user_guide/indexing.html#returning-a-view-versus-a-copy\n",
      "  df_clean['sample_id'] = sample_id\n",
      "C:\\Users\\PC\\AppData\\Local\\Temp\\ipykernel_4980\\1846137033.py:69: SettingWithCopyWarning: \n",
      "A value is trying to be set on a copy of a slice from a DataFrame.\n",
      "Try using .loc[row_indexer,col_indexer] = value instead\n",
      "\n",
      "See the caveats in the documentation: https://pandas.pydata.org/pandas-docs/stable/user_guide/indexing.html#returning-a-view-versus-a-copy\n",
      "  df_clean['sample_id'] = sample_id\n"
     ]
    },
    {
     "name": "stdout",
     "output_type": "stream",
     "text": [
      "Finished processing sample: ad01e71e-ed1f-4de6-81b5-8ef60f7a38d0.rna_seq.augmented_star_gene_counts, shape: (60660, 10)\n",
      "Reading file: C:\\Users\\PC\\Desktop\\gene-expression-cancer-prediction\\rna_seq\\0877bc64-fbf4-427f-a889-21a4a9102600\\13cc2a80-d6fe-49ff-9868-c9eac6df3c5e.rna_seq.augmented_star_gene_counts.tsv\n",
      "Processing sample: 13cc2a80-d6fe-49ff-9868-c9eac6df3c5e.rna_seq.augmented_star_gene_counts\n",
      "Finished processing sample: 13cc2a80-d6fe-49ff-9868-c9eac6df3c5e.rna_seq.augmented_star_gene_counts, shape: (60660, 10)\n"
     ]
    },
    {
     "name": "stderr",
     "output_type": "stream",
     "text": [
      "C:\\Users\\PC\\AppData\\Local\\Temp\\ipykernel_4980\\1846137033.py:69: SettingWithCopyWarning: \n",
      "A value is trying to be set on a copy of a slice from a DataFrame.\n",
      "Try using .loc[row_indexer,col_indexer] = value instead\n",
      "\n",
      "See the caveats in the documentation: https://pandas.pydata.org/pandas-docs/stable/user_guide/indexing.html#returning-a-view-versus-a-copy\n",
      "  df_clean['sample_id'] = sample_id\n"
     ]
    },
    {
     "name": "stdout",
     "output_type": "stream",
     "text": [
      "Reading file: C:\\Users\\PC\\Desktop\\gene-expression-cancer-prediction\\rna_seq\\08b0fe4c-ee3c-4510-b75a-6d240cb038cc\\e5bcd6f9-680e-4d57-81f3-c8e6b40bb2af.rna_seq.augmented_star_gene_counts.tsv\n",
      "Processing sample: e5bcd6f9-680e-4d57-81f3-c8e6b40bb2af.rna_seq.augmented_star_gene_counts\n",
      "Finished processing sample: e5bcd6f9-680e-4d57-81f3-c8e6b40bb2af.rna_seq.augmented_star_gene_counts, shape: (60660, 10)\n",
      "Reading file: C:\\Users\\PC\\Desktop\\gene-expression-cancer-prediction\\rna_seq\\09385f52-e4ad-4ae0-9f09-91e8dd5fc953\\6542e1dd-afee-40e9-a16e-aa9a448963b3.rna_seq.augmented_star_gene_counts.tsv\n",
      "Processing sample: 6542e1dd-afee-40e9-a16e-aa9a448963b3.rna_seq.augmented_star_gene_counts\n"
     ]
    },
    {
     "name": "stderr",
     "output_type": "stream",
     "text": [
      "C:\\Users\\PC\\AppData\\Local\\Temp\\ipykernel_4980\\1846137033.py:69: SettingWithCopyWarning: \n",
      "A value is trying to be set on a copy of a slice from a DataFrame.\n",
      "Try using .loc[row_indexer,col_indexer] = value instead\n",
      "\n",
      "See the caveats in the documentation: https://pandas.pydata.org/pandas-docs/stable/user_guide/indexing.html#returning-a-view-versus-a-copy\n",
      "  df_clean['sample_id'] = sample_id\n",
      "C:\\Users\\PC\\AppData\\Local\\Temp\\ipykernel_4980\\1846137033.py:69: SettingWithCopyWarning: \n",
      "A value is trying to be set on a copy of a slice from a DataFrame.\n",
      "Try using .loc[row_indexer,col_indexer] = value instead\n",
      "\n",
      "See the caveats in the documentation: https://pandas.pydata.org/pandas-docs/stable/user_guide/indexing.html#returning-a-view-versus-a-copy\n",
      "  df_clean['sample_id'] = sample_id\n"
     ]
    },
    {
     "name": "stdout",
     "output_type": "stream",
     "text": [
      "Finished processing sample: 6542e1dd-afee-40e9-a16e-aa9a448963b3.rna_seq.augmented_star_gene_counts, shape: (60660, 10)\n",
      "Reading file: C:\\Users\\PC\\Desktop\\gene-expression-cancer-prediction\\rna_seq\\097a38f3-a6c5-4267-8648-cd04e2bd9984\\265fc9bf-8f99-4422-b78d-78ecf09b0e53.rna_seq.augmented_star_gene_counts.tsv\n",
      "Processing sample: 265fc9bf-8f99-4422-b78d-78ecf09b0e53.rna_seq.augmented_star_gene_counts\n",
      "Finished processing sample: 265fc9bf-8f99-4422-b78d-78ecf09b0e53.rna_seq.augmented_star_gene_counts, shape: (60660, 10)\n"
     ]
    },
    {
     "name": "stderr",
     "output_type": "stream",
     "text": [
      "C:\\Users\\PC\\AppData\\Local\\Temp\\ipykernel_4980\\1846137033.py:69: SettingWithCopyWarning: \n",
      "A value is trying to be set on a copy of a slice from a DataFrame.\n",
      "Try using .loc[row_indexer,col_indexer] = value instead\n",
      "\n",
      "See the caveats in the documentation: https://pandas.pydata.org/pandas-docs/stable/user_guide/indexing.html#returning-a-view-versus-a-copy\n",
      "  df_clean['sample_id'] = sample_id\n"
     ]
    },
    {
     "name": "stdout",
     "output_type": "stream",
     "text": [
      "Reading file: C:\\Users\\PC\\Desktop\\gene-expression-cancer-prediction\\rna_seq\\09f1c0ee-ee22-435f-88c9-d9f5c936c45c\\e55a506c-870f-4011-adfc-37eccbf5f17e.rna_seq.augmented_star_gene_counts.tsv\n",
      "Processing sample: e55a506c-870f-4011-adfc-37eccbf5f17e.rna_seq.augmented_star_gene_counts\n",
      "Finished processing sample: e55a506c-870f-4011-adfc-37eccbf5f17e.rna_seq.augmented_star_gene_counts, shape: (60660, 10)\n",
      "Reading file: C:\\Users\\PC\\Desktop\\gene-expression-cancer-prediction\\rna_seq\\09f9ebad-e7cd-4c20-9eab-8fd2066d9051\\31c69703-e318-4e31-aae8-c6cfabe61bc3.rna_seq.augmented_star_gene_counts.tsv\n",
      "Processing sample: 31c69703-e318-4e31-aae8-c6cfabe61bc3.rna_seq.augmented_star_gene_counts\n"
     ]
    },
    {
     "name": "stderr",
     "output_type": "stream",
     "text": [
      "C:\\Users\\PC\\AppData\\Local\\Temp\\ipykernel_4980\\1846137033.py:69: SettingWithCopyWarning: \n",
      "A value is trying to be set on a copy of a slice from a DataFrame.\n",
      "Try using .loc[row_indexer,col_indexer] = value instead\n",
      "\n",
      "See the caveats in the documentation: https://pandas.pydata.org/pandas-docs/stable/user_guide/indexing.html#returning-a-view-versus-a-copy\n",
      "  df_clean['sample_id'] = sample_id\n",
      "C:\\Users\\PC\\AppData\\Local\\Temp\\ipykernel_4980\\1846137033.py:69: SettingWithCopyWarning: \n",
      "A value is trying to be set on a copy of a slice from a DataFrame.\n",
      "Try using .loc[row_indexer,col_indexer] = value instead\n",
      "\n",
      "See the caveats in the documentation: https://pandas.pydata.org/pandas-docs/stable/user_guide/indexing.html#returning-a-view-versus-a-copy\n",
      "  df_clean['sample_id'] = sample_id\n",
      "C:\\Users\\PC\\AppData\\Local\\Temp\\ipykernel_4980\\1846137033.py:69: SettingWithCopyWarning: \n",
      "A value is trying to be set on a copy of a slice from a DataFrame.\n",
      "Try using .loc[row_indexer,col_indexer] = value instead\n",
      "\n",
      "See the caveats in the documentation: https://pandas.pydata.org/pandas-docs/stable/user_guide/indexing.html#returning-a-view-versus-a-copy\n",
      "  df_clean['sample_id'] = sample_id\n"
     ]
    },
    {
     "name": "stdout",
     "output_type": "stream",
     "text": [
      "Finished processing sample: 31c69703-e318-4e31-aae8-c6cfabe61bc3.rna_seq.augmented_star_gene_counts, shape: (60660, 10)\n",
      "Reading file: C:\\Users\\PC\\Desktop\\gene-expression-cancer-prediction\\rna_seq\\0a06329d-82cd-41a9-822e-43cfd49e63a2\\a7b067c9-a62a-4d3d-8c4e-668830f7441f.rna_seq.augmented_star_gene_counts.tsv\n",
      "Processing sample: a7b067c9-a62a-4d3d-8c4e-668830f7441f.rna_seq.augmented_star_gene_counts\n",
      "Finished processing sample: a7b067c9-a62a-4d3d-8c4e-668830f7441f.rna_seq.augmented_star_gene_counts, shape: (60660, 10)\n",
      "Reading file: C:\\Users\\PC\\Desktop\\gene-expression-cancer-prediction\\rna_seq\\0a511373-8fd3-433a-a5e1-877530d6a239\\5991af25-0b64-43d2-867a-6b9713b17af9.rna_seq.augmented_star_gene_counts.tsv\n",
      "Processing sample: 5991af25-0b64-43d2-867a-6b9713b17af9.rna_seq.augmented_star_gene_counts\n",
      "Finished processing sample: 5991af25-0b64-43d2-867a-6b9713b17af9.rna_seq.augmented_star_gene_counts, shape: (60660, 10)\n",
      "Reading file: C:\\Users\\PC\\Desktop\\gene-expression-cancer-prediction\\rna_seq\\0a688b9b-06ea-4b83-bfce-9cee0d866a0c\\b2bcfd01-9662-4730-96de-1e51b4038802.rna_seq.augmented_star_gene_counts.tsv\n",
      "Processing sample: b2bcfd01-9662-4730-96de-1e51b4038802.rna_seq.augmented_star_gene_counts\n"
     ]
    },
    {
     "name": "stderr",
     "output_type": "stream",
     "text": [
      "C:\\Users\\PC\\AppData\\Local\\Temp\\ipykernel_4980\\1846137033.py:69: SettingWithCopyWarning: \n",
      "A value is trying to be set on a copy of a slice from a DataFrame.\n",
      "Try using .loc[row_indexer,col_indexer] = value instead\n",
      "\n",
      "See the caveats in the documentation: https://pandas.pydata.org/pandas-docs/stable/user_guide/indexing.html#returning-a-view-versus-a-copy\n",
      "  df_clean['sample_id'] = sample_id\n",
      "C:\\Users\\PC\\AppData\\Local\\Temp\\ipykernel_4980\\1846137033.py:69: SettingWithCopyWarning: \n",
      "A value is trying to be set on a copy of a slice from a DataFrame.\n",
      "Try using .loc[row_indexer,col_indexer] = value instead\n",
      "\n",
      "See the caveats in the documentation: https://pandas.pydata.org/pandas-docs/stable/user_guide/indexing.html#returning-a-view-versus-a-copy\n",
      "  df_clean['sample_id'] = sample_id\n"
     ]
    },
    {
     "name": "stdout",
     "output_type": "stream",
     "text": [
      "Finished processing sample: b2bcfd01-9662-4730-96de-1e51b4038802.rna_seq.augmented_star_gene_counts, shape: (60660, 10)\n",
      "Reading file: C:\\Users\\PC\\Desktop\\gene-expression-cancer-prediction\\rna_seq\\0a7421d4-5722-427a-9643-da1074e5c25c\\83f93d3f-d038-4773-a671-0f218f53821c.rna_seq.augmented_star_gene_counts.tsv\n",
      "Processing sample: 83f93d3f-d038-4773-a671-0f218f53821c.rna_seq.augmented_star_gene_counts\n"
     ]
    },
    {
     "name": "stderr",
     "output_type": "stream",
     "text": [
      "C:\\Users\\PC\\AppData\\Local\\Temp\\ipykernel_4980\\1846137033.py:69: SettingWithCopyWarning: \n",
      "A value is trying to be set on a copy of a slice from a DataFrame.\n",
      "Try using .loc[row_indexer,col_indexer] = value instead\n",
      "\n",
      "See the caveats in the documentation: https://pandas.pydata.org/pandas-docs/stable/user_guide/indexing.html#returning-a-view-versus-a-copy\n",
      "  df_clean['sample_id'] = sample_id\n"
     ]
    },
    {
     "name": "stdout",
     "output_type": "stream",
     "text": [
      "Finished processing sample: 83f93d3f-d038-4773-a671-0f218f53821c.rna_seq.augmented_star_gene_counts, shape: (60660, 10)\n",
      "Reading file: C:\\Users\\PC\\Desktop\\gene-expression-cancer-prediction\\rna_seq\\0a74ea3f-dadc-4c9f-96ea-62a77c1e602c\\4fa35f20-e26e-4bb0-811d-b307e3927904.rna_seq.augmented_star_gene_counts.tsv\n",
      "Processing sample: 4fa35f20-e26e-4bb0-811d-b307e3927904.rna_seq.augmented_star_gene_counts\n"
     ]
    },
    {
     "name": "stderr",
     "output_type": "stream",
     "text": [
      "C:\\Users\\PC\\AppData\\Local\\Temp\\ipykernel_4980\\1846137033.py:69: SettingWithCopyWarning: \n",
      "A value is trying to be set on a copy of a slice from a DataFrame.\n",
      "Try using .loc[row_indexer,col_indexer] = value instead\n",
      "\n",
      "See the caveats in the documentation: https://pandas.pydata.org/pandas-docs/stable/user_guide/indexing.html#returning-a-view-versus-a-copy\n",
      "  df_clean['sample_id'] = sample_id\n",
      "C:\\Users\\PC\\AppData\\Local\\Temp\\ipykernel_4980\\1846137033.py:69: SettingWithCopyWarning: \n",
      "A value is trying to be set on a copy of a slice from a DataFrame.\n",
      "Try using .loc[row_indexer,col_indexer] = value instead\n",
      "\n",
      "See the caveats in the documentation: https://pandas.pydata.org/pandas-docs/stable/user_guide/indexing.html#returning-a-view-versus-a-copy\n",
      "  df_clean['sample_id'] = sample_id\n"
     ]
    },
    {
     "name": "stdout",
     "output_type": "stream",
     "text": [
      "Finished processing sample: 4fa35f20-e26e-4bb0-811d-b307e3927904.rna_seq.augmented_star_gene_counts, shape: (60660, 10)\n",
      "Reading file: C:\\Users\\PC\\Desktop\\gene-expression-cancer-prediction\\rna_seq\\0b4cae8e-1a2c-4ba9-b126-5abf35f73b36\\d38b6aba-7bfd-43f0-98f7-f669323e6da1.rna_seq.augmented_star_gene_counts.tsv\n",
      "Processing sample: d38b6aba-7bfd-43f0-98f7-f669323e6da1.rna_seq.augmented_star_gene_counts\n",
      "Finished processing sample: d38b6aba-7bfd-43f0-98f7-f669323e6da1.rna_seq.augmented_star_gene_counts, shape: (60660, 10)\n",
      "Reading file: C:\\Users\\PC\\Desktop\\gene-expression-cancer-prediction\\rna_seq\\0b798fe4-1c51-4c36-afc8-5bee39fd6077\\e3142cf7-334f-4f34-a5da-53ffa4e1ba33.rna_seq.augmented_star_gene_counts.tsv\n",
      "Processing sample: e3142cf7-334f-4f34-a5da-53ffa4e1ba33.rna_seq.augmented_star_gene_counts\n",
      "Finished processing sample: e3142cf7-334f-4f34-a5da-53ffa4e1ba33.rna_seq.augmented_star_gene_counts, shape: (60660, 10)\n"
     ]
    },
    {
     "name": "stderr",
     "output_type": "stream",
     "text": [
      "C:\\Users\\PC\\AppData\\Local\\Temp\\ipykernel_4980\\1846137033.py:69: SettingWithCopyWarning: \n",
      "A value is trying to be set on a copy of a slice from a DataFrame.\n",
      "Try using .loc[row_indexer,col_indexer] = value instead\n",
      "\n",
      "See the caveats in the documentation: https://pandas.pydata.org/pandas-docs/stable/user_guide/indexing.html#returning-a-view-versus-a-copy\n",
      "  df_clean['sample_id'] = sample_id\n",
      "C:\\Users\\PC\\AppData\\Local\\Temp\\ipykernel_4980\\1846137033.py:69: SettingWithCopyWarning: \n",
      "A value is trying to be set on a copy of a slice from a DataFrame.\n",
      "Try using .loc[row_indexer,col_indexer] = value instead\n",
      "\n",
      "See the caveats in the documentation: https://pandas.pydata.org/pandas-docs/stable/user_guide/indexing.html#returning-a-view-versus-a-copy\n",
      "  df_clean['sample_id'] = sample_id\n"
     ]
    },
    {
     "name": "stdout",
     "output_type": "stream",
     "text": [
      "Reading file: C:\\Users\\PC\\Desktop\\gene-expression-cancer-prediction\\rna_seq\\0c068d5a-ccad-47a5-bfe0-0dc5f136d6aa\\bdba14fb-88aa-43b0-8c25-53948b9935b7.rna_seq.augmented_star_gene_counts.tsv\n",
      "Processing sample: bdba14fb-88aa-43b0-8c25-53948b9935b7.rna_seq.augmented_star_gene_counts\n",
      "Finished processing sample: bdba14fb-88aa-43b0-8c25-53948b9935b7.rna_seq.augmented_star_gene_counts, shape: (60660, 10)\n",
      "Reading file: C:\\Users\\PC\\Desktop\\gene-expression-cancer-prediction\\rna_seq\\0c0ddcd7-8b4c-4489-b642-e48c4ab4602a\\d1ad6c3b-4e2a-40cd-b3e6-098b845d59cb.rna_seq.augmented_star_gene_counts.tsv\n",
      "Processing sample: d1ad6c3b-4e2a-40cd-b3e6-098b845d59cb.rna_seq.augmented_star_gene_counts\n",
      "Finished processing sample: d1ad6c3b-4e2a-40cd-b3e6-098b845d59cb.rna_seq.augmented_star_gene_counts, shape: (60660, 10)\n",
      "Reading file: C:\\Users\\PC\\Desktop\\gene-expression-cancer-prediction\\rna_seq\\0c3ddae2-366f-4b21-ab46-a2cfe1963e42\\0ef46de9-c9e7-42f0-92bf-c17dc2ede102.rna_seq.augmented_star_gene_counts.tsv\n",
      "Processing sample: 0ef46de9-c9e7-42f0-92bf-c17dc2ede102.rna_seq.augmented_star_gene_counts\n"
     ]
    },
    {
     "name": "stderr",
     "output_type": "stream",
     "text": [
      "C:\\Users\\PC\\AppData\\Local\\Temp\\ipykernel_4980\\1846137033.py:69: SettingWithCopyWarning: \n",
      "A value is trying to be set on a copy of a slice from a DataFrame.\n",
      "Try using .loc[row_indexer,col_indexer] = value instead\n",
      "\n",
      "See the caveats in the documentation: https://pandas.pydata.org/pandas-docs/stable/user_guide/indexing.html#returning-a-view-versus-a-copy\n",
      "  df_clean['sample_id'] = sample_id\n",
      "C:\\Users\\PC\\AppData\\Local\\Temp\\ipykernel_4980\\1846137033.py:69: SettingWithCopyWarning: \n",
      "A value is trying to be set on a copy of a slice from a DataFrame.\n",
      "Try using .loc[row_indexer,col_indexer] = value instead\n",
      "\n",
      "See the caveats in the documentation: https://pandas.pydata.org/pandas-docs/stable/user_guide/indexing.html#returning-a-view-versus-a-copy\n",
      "  df_clean['sample_id'] = sample_id\n"
     ]
    },
    {
     "name": "stdout",
     "output_type": "stream",
     "text": [
      "Finished processing sample: 0ef46de9-c9e7-42f0-92bf-c17dc2ede102.rna_seq.augmented_star_gene_counts, shape: (60660, 10)\n",
      "Reading file: C:\\Users\\PC\\Desktop\\gene-expression-cancer-prediction\\rna_seq\\0caa1750-ec80-484f-9097-1e90fbfa41c2\\507de54a-b4a5-4778-99fc-2f4f45c6daa0.rna_seq.augmented_star_gene_counts.tsv\n",
      "Processing sample: 507de54a-b4a5-4778-99fc-2f4f45c6daa0.rna_seq.augmented_star_gene_counts\n"
     ]
    },
    {
     "name": "stderr",
     "output_type": "stream",
     "text": [
      "C:\\Users\\PC\\AppData\\Local\\Temp\\ipykernel_4980\\1846137033.py:69: SettingWithCopyWarning: \n",
      "A value is trying to be set on a copy of a slice from a DataFrame.\n",
      "Try using .loc[row_indexer,col_indexer] = value instead\n",
      "\n",
      "See the caveats in the documentation: https://pandas.pydata.org/pandas-docs/stable/user_guide/indexing.html#returning-a-view-versus-a-copy\n",
      "  df_clean['sample_id'] = sample_id\n",
      "C:\\Users\\PC\\AppData\\Local\\Temp\\ipykernel_4980\\1846137033.py:69: SettingWithCopyWarning: \n",
      "A value is trying to be set on a copy of a slice from a DataFrame.\n",
      "Try using .loc[row_indexer,col_indexer] = value instead\n",
      "\n",
      "See the caveats in the documentation: https://pandas.pydata.org/pandas-docs/stable/user_guide/indexing.html#returning-a-view-versus-a-copy\n",
      "  df_clean['sample_id'] = sample_id\n"
     ]
    },
    {
     "name": "stdout",
     "output_type": "stream",
     "text": [
      "Finished processing sample: 507de54a-b4a5-4778-99fc-2f4f45c6daa0.rna_seq.augmented_star_gene_counts, shape: (60660, 10)\n",
      "Reading file: C:\\Users\\PC\\Desktop\\gene-expression-cancer-prediction\\rna_seq\\0d140db1-dc0d-431d-b389-846d05bbb827\\d0ee5ff7-a49a-4633-93a6-40c9e29fb0b7.rna_seq.augmented_star_gene_counts.tsv\n",
      "Processing sample: d0ee5ff7-a49a-4633-93a6-40c9e29fb0b7.rna_seq.augmented_star_gene_counts\n",
      "Finished processing sample: d0ee5ff7-a49a-4633-93a6-40c9e29fb0b7.rna_seq.augmented_star_gene_counts, shape: (60660, 10)\n",
      "Reading file: C:\\Users\\PC\\Desktop\\gene-expression-cancer-prediction\\rna_seq\\0d669e80-cb31-4afb-bd3f-07d69f10eb3f\\27f20469-cbf5-417f-922a-19cf9e8b790c.rna_seq.augmented_star_gene_counts.tsv\n",
      "Processing sample: 27f20469-cbf5-417f-922a-19cf9e8b790c.rna_seq.augmented_star_gene_counts\n"
     ]
    },
    {
     "name": "stderr",
     "output_type": "stream",
     "text": [
      "C:\\Users\\PC\\AppData\\Local\\Temp\\ipykernel_4980\\1846137033.py:69: SettingWithCopyWarning: \n",
      "A value is trying to be set on a copy of a slice from a DataFrame.\n",
      "Try using .loc[row_indexer,col_indexer] = value instead\n",
      "\n",
      "See the caveats in the documentation: https://pandas.pydata.org/pandas-docs/stable/user_guide/indexing.html#returning-a-view-versus-a-copy\n",
      "  df_clean['sample_id'] = sample_id\n"
     ]
    },
    {
     "name": "stdout",
     "output_type": "stream",
     "text": [
      "Finished processing sample: 27f20469-cbf5-417f-922a-19cf9e8b790c.rna_seq.augmented_star_gene_counts, shape: (60660, 10)\n",
      "Reading file: C:\\Users\\PC\\Desktop\\gene-expression-cancer-prediction\\rna_seq\\0e0df72c-33c0-4e4f-939c-a4d45a6e1ea3\\36125e17-48fd-4eea-874c-ed2e2e218402.rna_seq.augmented_star_gene_counts.tsv\n",
      "Processing sample: 36125e17-48fd-4eea-874c-ed2e2e218402.rna_seq.augmented_star_gene_counts\n"
     ]
    },
    {
     "name": "stderr",
     "output_type": "stream",
     "text": [
      "C:\\Users\\PC\\AppData\\Local\\Temp\\ipykernel_4980\\1846137033.py:69: SettingWithCopyWarning: \n",
      "A value is trying to be set on a copy of a slice from a DataFrame.\n",
      "Try using .loc[row_indexer,col_indexer] = value instead\n",
      "\n",
      "See the caveats in the documentation: https://pandas.pydata.org/pandas-docs/stable/user_guide/indexing.html#returning-a-view-versus-a-copy\n",
      "  df_clean['sample_id'] = sample_id\n",
      "C:\\Users\\PC\\AppData\\Local\\Temp\\ipykernel_4980\\1846137033.py:69: SettingWithCopyWarning: \n",
      "A value is trying to be set on a copy of a slice from a DataFrame.\n",
      "Try using .loc[row_indexer,col_indexer] = value instead\n",
      "\n",
      "See the caveats in the documentation: https://pandas.pydata.org/pandas-docs/stable/user_guide/indexing.html#returning-a-view-versus-a-copy\n",
      "  df_clean['sample_id'] = sample_id\n"
     ]
    },
    {
     "name": "stdout",
     "output_type": "stream",
     "text": [
      "Finished processing sample: 36125e17-48fd-4eea-874c-ed2e2e218402.rna_seq.augmented_star_gene_counts, shape: (60660, 10)\n",
      "Reading file: C:\\Users\\PC\\Desktop\\gene-expression-cancer-prediction\\rna_seq\\0e1999e0-9c02-4804-88b6-60b46d100739\\db5dab56-838e-4784-a7cf-f05296e356f7.rna_seq.augmented_star_gene_counts.tsv\n",
      "Processing sample: db5dab56-838e-4784-a7cf-f05296e356f7.rna_seq.augmented_star_gene_counts\n",
      "Finished processing sample: db5dab56-838e-4784-a7cf-f05296e356f7.rna_seq.augmented_star_gene_counts, shape: (60660, 10)\n",
      "Reading file: C:\\Users\\PC\\Desktop\\gene-expression-cancer-prediction\\rna_seq\\0e2a0a41-fc0f-40d0-a0e7-d3eecac3cfd7\\80afd34a-fc20-46be-85c5-088951628194.rna_seq.augmented_star_gene_counts.tsv\n",
      "Processing sample: 80afd34a-fc20-46be-85c5-088951628194.rna_seq.augmented_star_gene_counts\n",
      "Finished processing sample: 80afd34a-fc20-46be-85c5-088951628194.rna_seq.augmented_star_gene_counts, shape: (60660, 10)\n"
     ]
    },
    {
     "name": "stderr",
     "output_type": "stream",
     "text": [
      "C:\\Users\\PC\\AppData\\Local\\Temp\\ipykernel_4980\\1846137033.py:69: SettingWithCopyWarning: \n",
      "A value is trying to be set on a copy of a slice from a DataFrame.\n",
      "Try using .loc[row_indexer,col_indexer] = value instead\n",
      "\n",
      "See the caveats in the documentation: https://pandas.pydata.org/pandas-docs/stable/user_guide/indexing.html#returning-a-view-versus-a-copy\n",
      "  df_clean['sample_id'] = sample_id\n",
      "C:\\Users\\PC\\AppData\\Local\\Temp\\ipykernel_4980\\1846137033.py:69: SettingWithCopyWarning: \n",
      "A value is trying to be set on a copy of a slice from a DataFrame.\n",
      "Try using .loc[row_indexer,col_indexer] = value instead\n",
      "\n",
      "See the caveats in the documentation: https://pandas.pydata.org/pandas-docs/stable/user_guide/indexing.html#returning-a-view-versus-a-copy\n",
      "  df_clean['sample_id'] = sample_id\n"
     ]
    },
    {
     "name": "stdout",
     "output_type": "stream",
     "text": [
      "Reading file: C:\\Users\\PC\\Desktop\\gene-expression-cancer-prediction\\rna_seq\\0e3cf07b-2cea-4ce7-a8f0-c8dc7d3db7a7\\c469b31e-857a-4ac6-9a45-978c99391d9d.rna_seq.augmented_star_gene_counts.tsv\n",
      "Processing sample: c469b31e-857a-4ac6-9a45-978c99391d9d.rna_seq.augmented_star_gene_counts\n",
      "Finished processing sample: c469b31e-857a-4ac6-9a45-978c99391d9d.rna_seq.augmented_star_gene_counts, shape: (60660, 10)\n",
      "Reading file: C:\\Users\\PC\\Desktop\\gene-expression-cancer-prediction\\rna_seq\\0e56b380-a3d6-4e81-8299-9f8a62330d7b\\f13d5df0-7293-4453-942f-2b49a3d33057.rna_seq.augmented_star_gene_counts.tsv\n",
      "Processing sample: f13d5df0-7293-4453-942f-2b49a3d33057.rna_seq.augmented_star_gene_counts\n"
     ]
    },
    {
     "name": "stderr",
     "output_type": "stream",
     "text": [
      "C:\\Users\\PC\\AppData\\Local\\Temp\\ipykernel_4980\\1846137033.py:69: SettingWithCopyWarning: \n",
      "A value is trying to be set on a copy of a slice from a DataFrame.\n",
      "Try using .loc[row_indexer,col_indexer] = value instead\n",
      "\n",
      "See the caveats in the documentation: https://pandas.pydata.org/pandas-docs/stable/user_guide/indexing.html#returning-a-view-versus-a-copy\n",
      "  df_clean['sample_id'] = sample_id\n"
     ]
    },
    {
     "name": "stdout",
     "output_type": "stream",
     "text": [
      "Finished processing sample: f13d5df0-7293-4453-942f-2b49a3d33057.rna_seq.augmented_star_gene_counts, shape: (60660, 10)\n",
      "Reading file: C:\\Users\\PC\\Desktop\\gene-expression-cancer-prediction\\rna_seq\\0e62a6d0-87a7-4efc-922f-753328694458\\c5d4a1ed-8fd3-4435-96f5-ea5e56326f20.rna_seq.augmented_star_gene_counts.tsv\n",
      "Processing sample: c5d4a1ed-8fd3-4435-96f5-ea5e56326f20.rna_seq.augmented_star_gene_counts\n"
     ]
    },
    {
     "name": "stderr",
     "output_type": "stream",
     "text": [
      "C:\\Users\\PC\\AppData\\Local\\Temp\\ipykernel_4980\\1846137033.py:69: SettingWithCopyWarning: \n",
      "A value is trying to be set on a copy of a slice from a DataFrame.\n",
      "Try using .loc[row_indexer,col_indexer] = value instead\n",
      "\n",
      "See the caveats in the documentation: https://pandas.pydata.org/pandas-docs/stable/user_guide/indexing.html#returning-a-view-versus-a-copy\n",
      "  df_clean['sample_id'] = sample_id\n",
      "C:\\Users\\PC\\AppData\\Local\\Temp\\ipykernel_4980\\1846137033.py:69: SettingWithCopyWarning: \n",
      "A value is trying to be set on a copy of a slice from a DataFrame.\n",
      "Try using .loc[row_indexer,col_indexer] = value instead\n",
      "\n",
      "See the caveats in the documentation: https://pandas.pydata.org/pandas-docs/stable/user_guide/indexing.html#returning-a-view-versus-a-copy\n",
      "  df_clean['sample_id'] = sample_id\n"
     ]
    },
    {
     "name": "stdout",
     "output_type": "stream",
     "text": [
      "Finished processing sample: c5d4a1ed-8fd3-4435-96f5-ea5e56326f20.rna_seq.augmented_star_gene_counts, shape: (60660, 10)\n",
      "Reading file: C:\\Users\\PC\\Desktop\\gene-expression-cancer-prediction\\rna_seq\\0e9ea184-c4bc-43f0-817c-8a950008e4bd\\470b6305-67ca-487c-b9b1-9b74f673f9fd.rna_seq.augmented_star_gene_counts.tsv\n",
      "Processing sample: 470b6305-67ca-487c-b9b1-9b74f673f9fd.rna_seq.augmented_star_gene_counts\n",
      "Finished processing sample: 470b6305-67ca-487c-b9b1-9b74f673f9fd.rna_seq.augmented_star_gene_counts, shape: (60660, 10)\n",
      "Reading file: C:\\Users\\PC\\Desktop\\gene-expression-cancer-prediction\\rna_seq\\0ed77a2e-a2c9-4557-8ba3-2c8bade9b792\\5842a066-d158-474e-a4db-034f5797d865.rna_seq.augmented_star_gene_counts.tsv\n",
      "Processing sample: 5842a066-d158-474e-a4db-034f5797d865.rna_seq.augmented_star_gene_counts\n"
     ]
    },
    {
     "name": "stderr",
     "output_type": "stream",
     "text": [
      "C:\\Users\\PC\\AppData\\Local\\Temp\\ipykernel_4980\\1846137033.py:69: SettingWithCopyWarning: \n",
      "A value is trying to be set on a copy of a slice from a DataFrame.\n",
      "Try using .loc[row_indexer,col_indexer] = value instead\n",
      "\n",
      "See the caveats in the documentation: https://pandas.pydata.org/pandas-docs/stable/user_guide/indexing.html#returning-a-view-versus-a-copy\n",
      "  df_clean['sample_id'] = sample_id\n",
      "C:\\Users\\PC\\AppData\\Local\\Temp\\ipykernel_4980\\1846137033.py:69: SettingWithCopyWarning: \n",
      "A value is trying to be set on a copy of a slice from a DataFrame.\n",
      "Try using .loc[row_indexer,col_indexer] = value instead\n",
      "\n",
      "See the caveats in the documentation: https://pandas.pydata.org/pandas-docs/stable/user_guide/indexing.html#returning-a-view-versus-a-copy\n",
      "  df_clean['sample_id'] = sample_id\n"
     ]
    },
    {
     "name": "stdout",
     "output_type": "stream",
     "text": [
      "Finished processing sample: 5842a066-d158-474e-a4db-034f5797d865.rna_seq.augmented_star_gene_counts, shape: (60660, 10)\n",
      "Reading file: C:\\Users\\PC\\Desktop\\gene-expression-cancer-prediction\\rna_seq\\0f0b1a31-1f88-40e0-bd25-320046de4970\\9eb69ff7-492b-4ed3-8762-c25c3dffa1fe.rna_seq.augmented_star_gene_counts.tsv\n",
      "Processing sample: 9eb69ff7-492b-4ed3-8762-c25c3dffa1fe.rna_seq.augmented_star_gene_counts\n",
      "Finished processing sample: 9eb69ff7-492b-4ed3-8762-c25c3dffa1fe.rna_seq.augmented_star_gene_counts, shape: (60660, 10)\n",
      "Reading file: C:\\Users\\PC\\Desktop\\gene-expression-cancer-prediction\\rna_seq\\0f1bec43-6235-4390-a148-e7038126c0c8\\040e40de-4c19-423f-98dc-151e2633d085.rna_seq.augmented_star_gene_counts.tsv\n",
      "Processing sample: 040e40de-4c19-423f-98dc-151e2633d085.rna_seq.augmented_star_gene_counts\n"
     ]
    },
    {
     "name": "stderr",
     "output_type": "stream",
     "text": [
      "C:\\Users\\PC\\AppData\\Local\\Temp\\ipykernel_4980\\1846137033.py:69: SettingWithCopyWarning: \n",
      "A value is trying to be set on a copy of a slice from a DataFrame.\n",
      "Try using .loc[row_indexer,col_indexer] = value instead\n",
      "\n",
      "See the caveats in the documentation: https://pandas.pydata.org/pandas-docs/stable/user_guide/indexing.html#returning-a-view-versus-a-copy\n",
      "  df_clean['sample_id'] = sample_id\n",
      "C:\\Users\\PC\\AppData\\Local\\Temp\\ipykernel_4980\\1846137033.py:69: SettingWithCopyWarning: \n",
      "A value is trying to be set on a copy of a slice from a DataFrame.\n",
      "Try using .loc[row_indexer,col_indexer] = value instead\n",
      "\n",
      "See the caveats in the documentation: https://pandas.pydata.org/pandas-docs/stable/user_guide/indexing.html#returning-a-view-versus-a-copy\n",
      "  df_clean['sample_id'] = sample_id\n"
     ]
    },
    {
     "name": "stdout",
     "output_type": "stream",
     "text": [
      "Finished processing sample: 040e40de-4c19-423f-98dc-151e2633d085.rna_seq.augmented_star_gene_counts, shape: (60660, 10)\n",
      "Reading file: C:\\Users\\PC\\Desktop\\gene-expression-cancer-prediction\\rna_seq\\0f1cf3a6-6e68-440a-9744-85e44d88b61f\\e6b6dada-24d1-4020-b5c0-3824670d079e.rna_seq.augmented_star_gene_counts.tsv\n",
      "Processing sample: e6b6dada-24d1-4020-b5c0-3824670d079e.rna_seq.augmented_star_gene_counts\n",
      "Finished processing sample: e6b6dada-24d1-4020-b5c0-3824670d079e.rna_seq.augmented_star_gene_counts, shape: (60660, 10)\n",
      "Reading file: C:\\Users\\PC\\Desktop\\gene-expression-cancer-prediction\\rna_seq\\0fc096b2-7fb5-4dc6-ae94-aa7dae6f885f\\33527fe8-7215-45bd-8520-b290995b839d.rna_seq.augmented_star_gene_counts.tsv\n",
      "Processing sample: 33527fe8-7215-45bd-8520-b290995b839d.rna_seq.augmented_star_gene_counts\n"
     ]
    },
    {
     "name": "stderr",
     "output_type": "stream",
     "text": [
      "C:\\Users\\PC\\AppData\\Local\\Temp\\ipykernel_4980\\1846137033.py:69: SettingWithCopyWarning: \n",
      "A value is trying to be set on a copy of a slice from a DataFrame.\n",
      "Try using .loc[row_indexer,col_indexer] = value instead\n",
      "\n",
      "See the caveats in the documentation: https://pandas.pydata.org/pandas-docs/stable/user_guide/indexing.html#returning-a-view-versus-a-copy\n",
      "  df_clean['sample_id'] = sample_id\n"
     ]
    },
    {
     "name": "stdout",
     "output_type": "stream",
     "text": [
      "Finished processing sample: 33527fe8-7215-45bd-8520-b290995b839d.rna_seq.augmented_star_gene_counts, shape: (60660, 10)\n",
      "Reading file: C:\\Users\\PC\\Desktop\\gene-expression-cancer-prediction\\rna_seq\\104e3cb5-c6df-422b-a55f-6b19408594d4\\2056c543-2f73-4a2f-995e-3af2dda7b514.rna_seq.augmented_star_gene_counts.tsv\n",
      "Processing sample: 2056c543-2f73-4a2f-995e-3af2dda7b514.rna_seq.augmented_star_gene_counts\n"
     ]
    },
    {
     "name": "stderr",
     "output_type": "stream",
     "text": [
      "C:\\Users\\PC\\AppData\\Local\\Temp\\ipykernel_4980\\1846137033.py:69: SettingWithCopyWarning: \n",
      "A value is trying to be set on a copy of a slice from a DataFrame.\n",
      "Try using .loc[row_indexer,col_indexer] = value instead\n",
      "\n",
      "See the caveats in the documentation: https://pandas.pydata.org/pandas-docs/stable/user_guide/indexing.html#returning-a-view-versus-a-copy\n",
      "  df_clean['sample_id'] = sample_id\n"
     ]
    },
    {
     "name": "stdout",
     "output_type": "stream",
     "text": [
      "Finished processing sample: 2056c543-2f73-4a2f-995e-3af2dda7b514.rna_seq.augmented_star_gene_counts, shape: (60660, 10)\n",
      "Warning: No .tsv file found in C:\\Users\\PC\\Desktop\\gene-expression-cancer-prediction\\rna_seq\\10d1a1f0-c89b-4b1e-93fa-7c6fd7f5bb8f\n",
      "Reading file: C:\\Users\\PC\\Desktop\\gene-expression-cancer-prediction\\rna_seq\\111b2865-e7dc-45c9-b206-20b5713714bc\\6798cbfe-7aca-4f33-b4fc-162bf579a303.rna_seq.augmented_star_gene_counts.tsv\n",
      "Processing sample: 6798cbfe-7aca-4f33-b4fc-162bf579a303.rna_seq.augmented_star_gene_counts\n"
     ]
    },
    {
     "name": "stderr",
     "output_type": "stream",
     "text": [
      "C:\\Users\\PC\\AppData\\Local\\Temp\\ipykernel_4980\\1846137033.py:69: SettingWithCopyWarning: \n",
      "A value is trying to be set on a copy of a slice from a DataFrame.\n",
      "Try using .loc[row_indexer,col_indexer] = value instead\n",
      "\n",
      "See the caveats in the documentation: https://pandas.pydata.org/pandas-docs/stable/user_guide/indexing.html#returning-a-view-versus-a-copy\n",
      "  df_clean['sample_id'] = sample_id\n",
      "C:\\Users\\PC\\AppData\\Local\\Temp\\ipykernel_4980\\1846137033.py:69: SettingWithCopyWarning: \n",
      "A value is trying to be set on a copy of a slice from a DataFrame.\n",
      "Try using .loc[row_indexer,col_indexer] = value instead\n",
      "\n",
      "See the caveats in the documentation: https://pandas.pydata.org/pandas-docs/stable/user_guide/indexing.html#returning-a-view-versus-a-copy\n",
      "  df_clean['sample_id'] = sample_id\n"
     ]
    },
    {
     "name": "stdout",
     "output_type": "stream",
     "text": [
      "Finished processing sample: 6798cbfe-7aca-4f33-b4fc-162bf579a303.rna_seq.augmented_star_gene_counts, shape: (60660, 10)\n",
      "Reading file: C:\\Users\\PC\\Desktop\\gene-expression-cancer-prediction\\rna_seq\\115d8b96-f3ac-4e6f-a975-60b71b32531a\\b6a8beee-f393-4d3b-943e-1c44fad65526.rna_seq.augmented_star_gene_counts.tsv\n",
      "Processing sample: b6a8beee-f393-4d3b-943e-1c44fad65526.rna_seq.augmented_star_gene_counts\n",
      "Finished processing sample: b6a8beee-f393-4d3b-943e-1c44fad65526.rna_seq.augmented_star_gene_counts, shape: (60660, 10)\n",
      "Reading file: C:\\Users\\PC\\Desktop\\gene-expression-cancer-prediction\\rna_seq\\11631339-f447-4b28-97a8-3c7c6ccbc843\\97ec0a19-d386-48fc-842c-78488b0d41f3.rna_seq.augmented_star_gene_counts.tsv\n",
      "Processing sample: 97ec0a19-d386-48fc-842c-78488b0d41f3.rna_seq.augmented_star_gene_counts\n",
      "Finished processing sample: 97ec0a19-d386-48fc-842c-78488b0d41f3.rna_seq.augmented_star_gene_counts, shape: (60660, 10)\n",
      "Reading file: C:\\Users\\PC\\Desktop\\gene-expression-cancer-prediction\\rna_seq\\11a64d0e-1dd1-471e-87bf-9e2a7fc13f09\\4ba90a73-b2e0-415b-9cd2-fad805840aff.rna_seq.augmented_star_gene_counts.tsv\n",
      "Processing sample: 4ba90a73-b2e0-415b-9cd2-fad805840aff.rna_seq.augmented_star_gene_counts\n"
     ]
    },
    {
     "name": "stderr",
     "output_type": "stream",
     "text": [
      "C:\\Users\\PC\\AppData\\Local\\Temp\\ipykernel_4980\\1846137033.py:69: SettingWithCopyWarning: \n",
      "A value is trying to be set on a copy of a slice from a DataFrame.\n",
      "Try using .loc[row_indexer,col_indexer] = value instead\n",
      "\n",
      "See the caveats in the documentation: https://pandas.pydata.org/pandas-docs/stable/user_guide/indexing.html#returning-a-view-versus-a-copy\n",
      "  df_clean['sample_id'] = sample_id\n",
      "C:\\Users\\PC\\AppData\\Local\\Temp\\ipykernel_4980\\1846137033.py:69: SettingWithCopyWarning: \n",
      "A value is trying to be set on a copy of a slice from a DataFrame.\n",
      "Try using .loc[row_indexer,col_indexer] = value instead\n",
      "\n",
      "See the caveats in the documentation: https://pandas.pydata.org/pandas-docs/stable/user_guide/indexing.html#returning-a-view-versus-a-copy\n",
      "  df_clean['sample_id'] = sample_id\n"
     ]
    },
    {
     "name": "stdout",
     "output_type": "stream",
     "text": [
      "Finished processing sample: 4ba90a73-b2e0-415b-9cd2-fad805840aff.rna_seq.augmented_star_gene_counts, shape: (60660, 10)\n",
      "Reading file: C:\\Users\\PC\\Desktop\\gene-expression-cancer-prediction\\rna_seq\\121a48ed-798d-4102-bb8f-e736570e18d6\\f988afae-48f8-4ecc-bb84-87924b454bf0.rna_seq.augmented_star_gene_counts.tsv\n",
      "Processing sample: f988afae-48f8-4ecc-bb84-87924b454bf0.rna_seq.augmented_star_gene_counts\n"
     ]
    },
    {
     "name": "stderr",
     "output_type": "stream",
     "text": [
      "C:\\Users\\PC\\AppData\\Local\\Temp\\ipykernel_4980\\1846137033.py:69: SettingWithCopyWarning: \n",
      "A value is trying to be set on a copy of a slice from a DataFrame.\n",
      "Try using .loc[row_indexer,col_indexer] = value instead\n",
      "\n",
      "See the caveats in the documentation: https://pandas.pydata.org/pandas-docs/stable/user_guide/indexing.html#returning-a-view-versus-a-copy\n",
      "  df_clean['sample_id'] = sample_id\n"
     ]
    },
    {
     "name": "stdout",
     "output_type": "stream",
     "text": [
      "Finished processing sample: f988afae-48f8-4ecc-bb84-87924b454bf0.rna_seq.augmented_star_gene_counts, shape: (60660, 10)\n",
      "Reading file: C:\\Users\\PC\\Desktop\\gene-expression-cancer-prediction\\rna_seq\\1277b2ec-0374-403f-8bba-cb57aeeb0d01\\0631de29-6e9a-4928-ab8a-c76bd44dbd45.rna_seq.augmented_star_gene_counts.tsv\n",
      "Processing sample: 0631de29-6e9a-4928-ab8a-c76bd44dbd45.rna_seq.augmented_star_gene_counts\n"
     ]
    },
    {
     "name": "stderr",
     "output_type": "stream",
     "text": [
      "C:\\Users\\PC\\AppData\\Local\\Temp\\ipykernel_4980\\1846137033.py:69: SettingWithCopyWarning: \n",
      "A value is trying to be set on a copy of a slice from a DataFrame.\n",
      "Try using .loc[row_indexer,col_indexer] = value instead\n",
      "\n",
      "See the caveats in the documentation: https://pandas.pydata.org/pandas-docs/stable/user_guide/indexing.html#returning-a-view-versus-a-copy\n",
      "  df_clean['sample_id'] = sample_id\n"
     ]
    },
    {
     "name": "stdout",
     "output_type": "stream",
     "text": [
      "Finished processing sample: 0631de29-6e9a-4928-ab8a-c76bd44dbd45.rna_seq.augmented_star_gene_counts, shape: (60660, 10)\n",
      "Reading file: C:\\Users\\PC\\Desktop\\gene-expression-cancer-prediction\\rna_seq\\128bf144-f452-48af-941d-f6069e3bb0bb\\550812e9-ad67-4ae6-900e-572a051208a4.rna_seq.augmented_star_gene_counts.tsv\n",
      "Processing sample: 550812e9-ad67-4ae6-900e-572a051208a4.rna_seq.augmented_star_gene_counts\n"
     ]
    },
    {
     "name": "stderr",
     "output_type": "stream",
     "text": [
      "C:\\Users\\PC\\AppData\\Local\\Temp\\ipykernel_4980\\1846137033.py:69: SettingWithCopyWarning: \n",
      "A value is trying to be set on a copy of a slice from a DataFrame.\n",
      "Try using .loc[row_indexer,col_indexer] = value instead\n",
      "\n",
      "See the caveats in the documentation: https://pandas.pydata.org/pandas-docs/stable/user_guide/indexing.html#returning-a-view-versus-a-copy\n",
      "  df_clean['sample_id'] = sample_id\n",
      "C:\\Users\\PC\\AppData\\Local\\Temp\\ipykernel_4980\\1846137033.py:69: SettingWithCopyWarning: \n",
      "A value is trying to be set on a copy of a slice from a DataFrame.\n",
      "Try using .loc[row_indexer,col_indexer] = value instead\n",
      "\n",
      "See the caveats in the documentation: https://pandas.pydata.org/pandas-docs/stable/user_guide/indexing.html#returning-a-view-versus-a-copy\n",
      "  df_clean['sample_id'] = sample_id\n"
     ]
    },
    {
     "name": "stdout",
     "output_type": "stream",
     "text": [
      "Finished processing sample: 550812e9-ad67-4ae6-900e-572a051208a4.rna_seq.augmented_star_gene_counts, shape: (60660, 10)\n",
      "Reading file: C:\\Users\\PC\\Desktop\\gene-expression-cancer-prediction\\rna_seq\\12959673-a8ec-4223-a5fe-0648276db5fc\\ba2e1bd2-56f5-4dfb-94b5-92c50c58b31e.rna_seq.augmented_star_gene_counts.tsv\n",
      "Processing sample: ba2e1bd2-56f5-4dfb-94b5-92c50c58b31e.rna_seq.augmented_star_gene_counts\n",
      "Finished processing sample: ba2e1bd2-56f5-4dfb-94b5-92c50c58b31e.rna_seq.augmented_star_gene_counts, shape: (60660, 10)\n",
      "Reading file: C:\\Users\\PC\\Desktop\\gene-expression-cancer-prediction\\rna_seq\\12b68e56-a83f-4b65-bb66-59e8522acbc9\\07aa7c0a-ef47-495a-93be-b23a799d71d8.rna_seq.augmented_star_gene_counts.tsv\n",
      "Processing sample: 07aa7c0a-ef47-495a-93be-b23a799d71d8.rna_seq.augmented_star_gene_counts\n",
      "Finished processing sample: 07aa7c0a-ef47-495a-93be-b23a799d71d8.rna_seq.augmented_star_gene_counts, shape: (60660, 10)\n",
      "Reading file: C:\\Users\\PC\\Desktop\\gene-expression-cancer-prediction\\rna_seq\\12c6b269-434e-4a18-aa93-844bc9c5eb4d\\947967e5-9255-49e1-886b-3dd81909a9da.rna_seq.augmented_star_gene_counts.tsv\n",
      "Processing sample: 947967e5-9255-49e1-886b-3dd81909a9da.rna_seq.augmented_star_gene_counts\n"
     ]
    },
    {
     "name": "stderr",
     "output_type": "stream",
     "text": [
      "C:\\Users\\PC\\AppData\\Local\\Temp\\ipykernel_4980\\1846137033.py:69: SettingWithCopyWarning: \n",
      "A value is trying to be set on a copy of a slice from a DataFrame.\n",
      "Try using .loc[row_indexer,col_indexer] = value instead\n",
      "\n",
      "See the caveats in the documentation: https://pandas.pydata.org/pandas-docs/stable/user_guide/indexing.html#returning-a-view-versus-a-copy\n",
      "  df_clean['sample_id'] = sample_id\n",
      "C:\\Users\\PC\\AppData\\Local\\Temp\\ipykernel_4980\\1846137033.py:69: SettingWithCopyWarning: \n",
      "A value is trying to be set on a copy of a slice from a DataFrame.\n",
      "Try using .loc[row_indexer,col_indexer] = value instead\n",
      "\n",
      "See the caveats in the documentation: https://pandas.pydata.org/pandas-docs/stable/user_guide/indexing.html#returning-a-view-versus-a-copy\n",
      "  df_clean['sample_id'] = sample_id\n",
      "C:\\Users\\PC\\AppData\\Local\\Temp\\ipykernel_4980\\1846137033.py:69: SettingWithCopyWarning: \n",
      "A value is trying to be set on a copy of a slice from a DataFrame.\n",
      "Try using .loc[row_indexer,col_indexer] = value instead\n",
      "\n",
      "See the caveats in the documentation: https://pandas.pydata.org/pandas-docs/stable/user_guide/indexing.html#returning-a-view-versus-a-copy\n",
      "  df_clean['sample_id'] = sample_id\n"
     ]
    },
    {
     "name": "stdout",
     "output_type": "stream",
     "text": [
      "Finished processing sample: 947967e5-9255-49e1-886b-3dd81909a9da.rna_seq.augmented_star_gene_counts, shape: (60660, 10)\n",
      "Reading file: C:\\Users\\PC\\Desktop\\gene-expression-cancer-prediction\\rna_seq\\12f8a326-1417-478e-a45e-abdff8b44266\\3ccab1b1-39f2-4947-bbac-1c25750f0464.rna_seq.augmented_star_gene_counts.tsv\n",
      "Processing sample: 3ccab1b1-39f2-4947-bbac-1c25750f0464.rna_seq.augmented_star_gene_counts\n",
      "Finished processing sample: 3ccab1b1-39f2-4947-bbac-1c25750f0464.rna_seq.augmented_star_gene_counts, shape: (60660, 10)\n",
      "Reading file: C:\\Users\\PC\\Desktop\\gene-expression-cancer-prediction\\rna_seq\\1300bf72-ead0-4c03-b140-fca26302b43c\\2f21d781-2df5-4de1-a595-a61507cfe610.rna_seq.augmented_star_gene_counts.tsv\n",
      "Processing sample: 2f21d781-2df5-4de1-a595-a61507cfe610.rna_seq.augmented_star_gene_counts\n",
      "Finished processing sample: 2f21d781-2df5-4de1-a595-a61507cfe610.rna_seq.augmented_star_gene_counts, shape: (60660, 10)\n"
     ]
    },
    {
     "name": "stderr",
     "output_type": "stream",
     "text": [
      "C:\\Users\\PC\\AppData\\Local\\Temp\\ipykernel_4980\\1846137033.py:69: SettingWithCopyWarning: \n",
      "A value is trying to be set on a copy of a slice from a DataFrame.\n",
      "Try using .loc[row_indexer,col_indexer] = value instead\n",
      "\n",
      "See the caveats in the documentation: https://pandas.pydata.org/pandas-docs/stable/user_guide/indexing.html#returning-a-view-versus-a-copy\n",
      "  df_clean['sample_id'] = sample_id\n"
     ]
    },
    {
     "name": "stdout",
     "output_type": "stream",
     "text": [
      "Reading file: C:\\Users\\PC\\Desktop\\gene-expression-cancer-prediction\\rna_seq\\130343f0-62f4-4400-8002-e596edb3c02a\\fcc2a5c0-ec23-43b5-b616-9b03c8ff4129.rna_seq.augmented_star_gene_counts.tsv\n",
      "Processing sample: fcc2a5c0-ec23-43b5-b616-9b03c8ff4129.rna_seq.augmented_star_gene_counts\n",
      "Finished processing sample: fcc2a5c0-ec23-43b5-b616-9b03c8ff4129.rna_seq.augmented_star_gene_counts, shape: (60660, 10)\n"
     ]
    },
    {
     "name": "stderr",
     "output_type": "stream",
     "text": [
      "C:\\Users\\PC\\AppData\\Local\\Temp\\ipykernel_4980\\1846137033.py:69: SettingWithCopyWarning: \n",
      "A value is trying to be set on a copy of a slice from a DataFrame.\n",
      "Try using .loc[row_indexer,col_indexer] = value instead\n",
      "\n",
      "See the caveats in the documentation: https://pandas.pydata.org/pandas-docs/stable/user_guide/indexing.html#returning-a-view-versus-a-copy\n",
      "  df_clean['sample_id'] = sample_id\n"
     ]
    },
    {
     "name": "stdout",
     "output_type": "stream",
     "text": [
      "Reading file: C:\\Users\\PC\\Desktop\\gene-expression-cancer-prediction\\rna_seq\\148fc636-0b7b-4f10-b513-45edcf71a79e\\ec2e3ab8-18a2-4d4e-b0dc-36411ce35357.rna_seq.augmented_star_gene_counts.tsv\n",
      "Processing sample: ec2e3ab8-18a2-4d4e-b0dc-36411ce35357.rna_seq.augmented_star_gene_counts\n",
      "Finished processing sample: ec2e3ab8-18a2-4d4e-b0dc-36411ce35357.rna_seq.augmented_star_gene_counts, shape: (60660, 10)\n"
     ]
    },
    {
     "name": "stderr",
     "output_type": "stream",
     "text": [
      "C:\\Users\\PC\\AppData\\Local\\Temp\\ipykernel_4980\\1846137033.py:69: SettingWithCopyWarning: \n",
      "A value is trying to be set on a copy of a slice from a DataFrame.\n",
      "Try using .loc[row_indexer,col_indexer] = value instead\n",
      "\n",
      "See the caveats in the documentation: https://pandas.pydata.org/pandas-docs/stable/user_guide/indexing.html#returning-a-view-versus-a-copy\n",
      "  df_clean['sample_id'] = sample_id\n"
     ]
    },
    {
     "name": "stdout",
     "output_type": "stream",
     "text": [
      "Reading file: C:\\Users\\PC\\Desktop\\gene-expression-cancer-prediction\\rna_seq\\14979d31-e8b1-4948-beea-f913dfefa200\\deb14c1d-474c-4d6f-bb8a-2b6df5dce5c9.rna_seq.augmented_star_gene_counts.tsv\n",
      "Processing sample: deb14c1d-474c-4d6f-bb8a-2b6df5dce5c9.rna_seq.augmented_star_gene_counts\n",
      "Finished processing sample: deb14c1d-474c-4d6f-bb8a-2b6df5dce5c9.rna_seq.augmented_star_gene_counts, shape: (60660, 10)\n"
     ]
    },
    {
     "name": "stderr",
     "output_type": "stream",
     "text": [
      "C:\\Users\\PC\\AppData\\Local\\Temp\\ipykernel_4980\\1846137033.py:69: SettingWithCopyWarning: \n",
      "A value is trying to be set on a copy of a slice from a DataFrame.\n",
      "Try using .loc[row_indexer,col_indexer] = value instead\n",
      "\n",
      "See the caveats in the documentation: https://pandas.pydata.org/pandas-docs/stable/user_guide/indexing.html#returning-a-view-versus-a-copy\n",
      "  df_clean['sample_id'] = sample_id\n"
     ]
    },
    {
     "name": "stdout",
     "output_type": "stream",
     "text": [
      "Reading file: C:\\Users\\PC\\Desktop\\gene-expression-cancer-prediction\\rna_seq\\152c8e57-1f2f-464c-ad13-de0f4d81dbff\\8d0f534a-a0b1-4d8e-9ca5-042f8a0a4e52.rna_seq.augmented_star_gene_counts.tsv\n",
      "Processing sample: 8d0f534a-a0b1-4d8e-9ca5-042f8a0a4e52.rna_seq.augmented_star_gene_counts\n",
      "Finished processing sample: 8d0f534a-a0b1-4d8e-9ca5-042f8a0a4e52.rna_seq.augmented_star_gene_counts, shape: (60660, 10)\n"
     ]
    },
    {
     "name": "stderr",
     "output_type": "stream",
     "text": [
      "C:\\Users\\PC\\AppData\\Local\\Temp\\ipykernel_4980\\1846137033.py:69: SettingWithCopyWarning: \n",
      "A value is trying to be set on a copy of a slice from a DataFrame.\n",
      "Try using .loc[row_indexer,col_indexer] = value instead\n",
      "\n",
      "See the caveats in the documentation: https://pandas.pydata.org/pandas-docs/stable/user_guide/indexing.html#returning-a-view-versus-a-copy\n",
      "  df_clean['sample_id'] = sample_id\n",
      "C:\\Users\\PC\\AppData\\Local\\Temp\\ipykernel_4980\\1846137033.py:69: SettingWithCopyWarning: \n",
      "A value is trying to be set on a copy of a slice from a DataFrame.\n",
      "Try using .loc[row_indexer,col_indexer] = value instead\n",
      "\n",
      "See the caveats in the documentation: https://pandas.pydata.org/pandas-docs/stable/user_guide/indexing.html#returning-a-view-versus-a-copy\n",
      "  df_clean['sample_id'] = sample_id\n"
     ]
    },
    {
     "name": "stdout",
     "output_type": "stream",
     "text": [
      "Reading file: C:\\Users\\PC\\Desktop\\gene-expression-cancer-prediction\\rna_seq\\1581b466-9502-491e-828b-dd9b721690cb\\51bced11-ff98-4338-8e54-0b1a35a6d982.rna_seq.augmented_star_gene_counts.tsv\n",
      "Processing sample: 51bced11-ff98-4338-8e54-0b1a35a6d982.rna_seq.augmented_star_gene_counts\n",
      "Finished processing sample: 51bced11-ff98-4338-8e54-0b1a35a6d982.rna_seq.augmented_star_gene_counts, shape: (60660, 10)\n",
      "Reading file: C:\\Users\\PC\\Desktop\\gene-expression-cancer-prediction\\rna_seq\\158cc60a-89b0-40f0-8536-8c0f0e31429b\\a5e348aa-d0fd-40fb-a171-b51a36e53612.rna_seq.augmented_star_gene_counts.tsv\n",
      "Processing sample: a5e348aa-d0fd-40fb-a171-b51a36e53612.rna_seq.augmented_star_gene_counts\n"
     ]
    },
    {
     "name": "stderr",
     "output_type": "stream",
     "text": [
      "C:\\Users\\PC\\AppData\\Local\\Temp\\ipykernel_4980\\1846137033.py:69: SettingWithCopyWarning: \n",
      "A value is trying to be set on a copy of a slice from a DataFrame.\n",
      "Try using .loc[row_indexer,col_indexer] = value instead\n",
      "\n",
      "See the caveats in the documentation: https://pandas.pydata.org/pandas-docs/stable/user_guide/indexing.html#returning-a-view-versus-a-copy\n",
      "  df_clean['sample_id'] = sample_id\n",
      "C:\\Users\\PC\\AppData\\Local\\Temp\\ipykernel_4980\\1846137033.py:69: SettingWithCopyWarning: \n",
      "A value is trying to be set on a copy of a slice from a DataFrame.\n",
      "Try using .loc[row_indexer,col_indexer] = value instead\n",
      "\n",
      "See the caveats in the documentation: https://pandas.pydata.org/pandas-docs/stable/user_guide/indexing.html#returning-a-view-versus-a-copy\n",
      "  df_clean['sample_id'] = sample_id\n"
     ]
    },
    {
     "name": "stdout",
     "output_type": "stream",
     "text": [
      "Finished processing sample: a5e348aa-d0fd-40fb-a171-b51a36e53612.rna_seq.augmented_star_gene_counts, shape: (60660, 10)\n",
      "Reading file: C:\\Users\\PC\\Desktop\\gene-expression-cancer-prediction\\rna_seq\\15d7e135-acb7-46ef-a8b1-f424e40a9e4d\\e20191d9-fddf-47a3-9ff9-d4a36af7d762.rna_seq.augmented_star_gene_counts.tsv\n",
      "Processing sample: e20191d9-fddf-47a3-9ff9-d4a36af7d762.rna_seq.augmented_star_gene_counts\n",
      "Finished processing sample: e20191d9-fddf-47a3-9ff9-d4a36af7d762.rna_seq.augmented_star_gene_counts, shape: (60660, 10)\n",
      "Reading file: C:\\Users\\PC\\Desktop\\gene-expression-cancer-prediction\\rna_seq\\15e249cf-4c45-4006-84fd-899f9927e376\\4796719b-2fa2-40ee-9fa9-6a8caa703823.rna_seq.augmented_star_gene_counts.tsv\n",
      "Processing sample: 4796719b-2fa2-40ee-9fa9-6a8caa703823.rna_seq.augmented_star_gene_counts\n",
      "Finished processing sample: 4796719b-2fa2-40ee-9fa9-6a8caa703823.rna_seq.augmented_star_gene_counts, shape: (60660, 10)\n"
     ]
    },
    {
     "name": "stderr",
     "output_type": "stream",
     "text": [
      "C:\\Users\\PC\\AppData\\Local\\Temp\\ipykernel_4980\\1846137033.py:69: SettingWithCopyWarning: \n",
      "A value is trying to be set on a copy of a slice from a DataFrame.\n",
      "Try using .loc[row_indexer,col_indexer] = value instead\n",
      "\n",
      "See the caveats in the documentation: https://pandas.pydata.org/pandas-docs/stable/user_guide/indexing.html#returning-a-view-versus-a-copy\n",
      "  df_clean['sample_id'] = sample_id\n"
     ]
    },
    {
     "name": "stdout",
     "output_type": "stream",
     "text": [
      "Reading file: C:\\Users\\PC\\Desktop\\gene-expression-cancer-prediction\\rna_seq\\16786247-5ff5-47e0-83e2-fee15779e522\\cf86835f-2bd2-4b15-a9a9-66fe369a560d.rna_seq.augmented_star_gene_counts.tsv\n",
      "Processing sample: cf86835f-2bd2-4b15-a9a9-66fe369a560d.rna_seq.augmented_star_gene_counts\n"
     ]
    },
    {
     "name": "stderr",
     "output_type": "stream",
     "text": [
      "C:\\Users\\PC\\AppData\\Local\\Temp\\ipykernel_4980\\1846137033.py:69: SettingWithCopyWarning: \n",
      "A value is trying to be set on a copy of a slice from a DataFrame.\n",
      "Try using .loc[row_indexer,col_indexer] = value instead\n",
      "\n",
      "See the caveats in the documentation: https://pandas.pydata.org/pandas-docs/stable/user_guide/indexing.html#returning-a-view-versus-a-copy\n",
      "  df_clean['sample_id'] = sample_id\n",
      "C:\\Users\\PC\\AppData\\Local\\Temp\\ipykernel_4980\\1846137033.py:69: SettingWithCopyWarning: \n",
      "A value is trying to be set on a copy of a slice from a DataFrame.\n",
      "Try using .loc[row_indexer,col_indexer] = value instead\n",
      "\n",
      "See the caveats in the documentation: https://pandas.pydata.org/pandas-docs/stable/user_guide/indexing.html#returning-a-view-versus-a-copy\n",
      "  df_clean['sample_id'] = sample_id\n"
     ]
    },
    {
     "name": "stdout",
     "output_type": "stream",
     "text": [
      "Finished processing sample: cf86835f-2bd2-4b15-a9a9-66fe369a560d.rna_seq.augmented_star_gene_counts, shape: (60660, 10)\n",
      "Reading file: C:\\Users\\PC\\Desktop\\gene-expression-cancer-prediction\\rna_seq\\16b9a021-447f-44d8-a1f9-ad45edc73bc9\\13d6ae6d-1662-4e0a-a10b-a733efc216b2.rna_seq.augmented_star_gene_counts.tsv\n",
      "Processing sample: 13d6ae6d-1662-4e0a-a10b-a733efc216b2.rna_seq.augmented_star_gene_counts\n",
      "Finished processing sample: 13d6ae6d-1662-4e0a-a10b-a733efc216b2.rna_seq.augmented_star_gene_counts, shape: (60660, 10)\n",
      "Reading file: C:\\Users\\PC\\Desktop\\gene-expression-cancer-prediction\\rna_seq\\16ffdede-3d07-431a-a4ed-318c7a66c096\\42ed2e82-e41d-4e2e-8bf3-8dfc324b040f.rna_seq.augmented_star_gene_counts.tsv\n",
      "Processing sample: 42ed2e82-e41d-4e2e-8bf3-8dfc324b040f.rna_seq.augmented_star_gene_counts\n",
      "Finished processing sample: 42ed2e82-e41d-4e2e-8bf3-8dfc324b040f.rna_seq.augmented_star_gene_counts, shape: (60660, 10)\n",
      "Warning: No .tsv file found in C:\\Users\\PC\\Desktop\\gene-expression-cancer-prediction\\rna_seq\\176e739b-87e2-49b7-80e1-c27a6a632576\n",
      "Reading file: C:\\Users\\PC\\Desktop\\gene-expression-cancer-prediction\\rna_seq\\17ff23ff-17b3-4ed1-b10c-2d922c045807\\663797a8-ffd2-48a2-a5f6-992b5eb3c745.rna_seq.augmented_star_gene_counts.tsv\n",
      "Processing sample: 663797a8-ffd2-48a2-a5f6-992b5eb3c745.rna_seq.augmented_star_gene_counts\n"
     ]
    },
    {
     "name": "stderr",
     "output_type": "stream",
     "text": [
      "C:\\Users\\PC\\AppData\\Local\\Temp\\ipykernel_4980\\1846137033.py:69: SettingWithCopyWarning: \n",
      "A value is trying to be set on a copy of a slice from a DataFrame.\n",
      "Try using .loc[row_indexer,col_indexer] = value instead\n",
      "\n",
      "See the caveats in the documentation: https://pandas.pydata.org/pandas-docs/stable/user_guide/indexing.html#returning-a-view-versus-a-copy\n",
      "  df_clean['sample_id'] = sample_id\n",
      "C:\\Users\\PC\\AppData\\Local\\Temp\\ipykernel_4980\\1846137033.py:69: SettingWithCopyWarning: \n",
      "A value is trying to be set on a copy of a slice from a DataFrame.\n",
      "Try using .loc[row_indexer,col_indexer] = value instead\n",
      "\n",
      "See the caveats in the documentation: https://pandas.pydata.org/pandas-docs/stable/user_guide/indexing.html#returning-a-view-versus-a-copy\n",
      "  df_clean['sample_id'] = sample_id\n",
      "C:\\Users\\PC\\AppData\\Local\\Temp\\ipykernel_4980\\1846137033.py:69: SettingWithCopyWarning: \n",
      "A value is trying to be set on a copy of a slice from a DataFrame.\n",
      "Try using .loc[row_indexer,col_indexer] = value instead\n",
      "\n",
      "See the caveats in the documentation: https://pandas.pydata.org/pandas-docs/stable/user_guide/indexing.html#returning-a-view-versus-a-copy\n",
      "  df_clean['sample_id'] = sample_id\n"
     ]
    },
    {
     "name": "stdout",
     "output_type": "stream",
     "text": [
      "Finished processing sample: 663797a8-ffd2-48a2-a5f6-992b5eb3c745.rna_seq.augmented_star_gene_counts, shape: (60660, 10)\n",
      "Reading file: C:\\Users\\PC\\Desktop\\gene-expression-cancer-prediction\\rna_seq\\18022491-5c13-4a17-aed9-ea85e1088267\\5a1c17e7-53a2-472a-b4de-8f60522a8c6e.rna_seq.augmented_star_gene_counts.tsv\n",
      "Processing sample: 5a1c17e7-53a2-472a-b4de-8f60522a8c6e.rna_seq.augmented_star_gene_counts\n",
      "Finished processing sample: 5a1c17e7-53a2-472a-b4de-8f60522a8c6e.rna_seq.augmented_star_gene_counts, shape: (60660, 10)\n",
      "Reading file: C:\\Users\\PC\\Desktop\\gene-expression-cancer-prediction\\rna_seq\\18340589-696e-4f56-80c2-dc7d7428c471\\2b00c53b-e257-4305-a0cc-3dfa9ac10d12.rna_seq.augmented_star_gene_counts.tsv\n",
      "Processing sample: 2b00c53b-e257-4305-a0cc-3dfa9ac10d12.rna_seq.augmented_star_gene_counts\n",
      "Finished processing sample: 2b00c53b-e257-4305-a0cc-3dfa9ac10d12.rna_seq.augmented_star_gene_counts, shape: (60660, 10)\n"
     ]
    },
    {
     "name": "stderr",
     "output_type": "stream",
     "text": [
      "C:\\Users\\PC\\AppData\\Local\\Temp\\ipykernel_4980\\1846137033.py:69: SettingWithCopyWarning: \n",
      "A value is trying to be set on a copy of a slice from a DataFrame.\n",
      "Try using .loc[row_indexer,col_indexer] = value instead\n",
      "\n",
      "See the caveats in the documentation: https://pandas.pydata.org/pandas-docs/stable/user_guide/indexing.html#returning-a-view-versus-a-copy\n",
      "  df_clean['sample_id'] = sample_id\n"
     ]
    },
    {
     "name": "stdout",
     "output_type": "stream",
     "text": [
      "Reading file: C:\\Users\\PC\\Desktop\\gene-expression-cancer-prediction\\rna_seq\\1852f5d0-ce76-4f0d-87a7-0383f338c96b\\de57eef8-932d-4e4f-a67d-835a87d72116.rna_seq.augmented_star_gene_counts.tsv\n",
      "Processing sample: de57eef8-932d-4e4f-a67d-835a87d72116.rna_seq.augmented_star_gene_counts\n",
      "Finished processing sample: de57eef8-932d-4e4f-a67d-835a87d72116.rna_seq.augmented_star_gene_counts, shape: (60660, 10)\n",
      "Reading file: C:\\Users\\PC\\Desktop\\gene-expression-cancer-prediction\\rna_seq\\1873c44d-4dcb-41d3-8c3c-dec38f7ac3d1\\b69294e4-e359-43b3-b3df-04bf9401fb9e.rna_seq.augmented_star_gene_counts.tsv\n",
      "Processing sample: b69294e4-e359-43b3-b3df-04bf9401fb9e.rna_seq.augmented_star_gene_counts\n"
     ]
    },
    {
     "name": "stderr",
     "output_type": "stream",
     "text": [
      "C:\\Users\\PC\\AppData\\Local\\Temp\\ipykernel_4980\\1846137033.py:69: SettingWithCopyWarning: \n",
      "A value is trying to be set on a copy of a slice from a DataFrame.\n",
      "Try using .loc[row_indexer,col_indexer] = value instead\n",
      "\n",
      "See the caveats in the documentation: https://pandas.pydata.org/pandas-docs/stable/user_guide/indexing.html#returning-a-view-versus-a-copy\n",
      "  df_clean['sample_id'] = sample_id\n",
      "C:\\Users\\PC\\AppData\\Local\\Temp\\ipykernel_4980\\1846137033.py:69: SettingWithCopyWarning: \n",
      "A value is trying to be set on a copy of a slice from a DataFrame.\n",
      "Try using .loc[row_indexer,col_indexer] = value instead\n",
      "\n",
      "See the caveats in the documentation: https://pandas.pydata.org/pandas-docs/stable/user_guide/indexing.html#returning-a-view-versus-a-copy\n",
      "  df_clean['sample_id'] = sample_id\n"
     ]
    },
    {
     "name": "stdout",
     "output_type": "stream",
     "text": [
      "Finished processing sample: b69294e4-e359-43b3-b3df-04bf9401fb9e.rna_seq.augmented_star_gene_counts, shape: (60660, 10)\n",
      "Reading file: C:\\Users\\PC\\Desktop\\gene-expression-cancer-prediction\\rna_seq\\189f1a1b-96d6-4cb9-9000-001e08dca1ba\\1044dff3-e077-4086-8d78-e3c125ec0c84.rna_seq.augmented_star_gene_counts.tsv\n",
      "Processing sample: 1044dff3-e077-4086-8d78-e3c125ec0c84.rna_seq.augmented_star_gene_counts\n"
     ]
    },
    {
     "name": "stderr",
     "output_type": "stream",
     "text": [
      "C:\\Users\\PC\\AppData\\Local\\Temp\\ipykernel_4980\\1846137033.py:69: SettingWithCopyWarning: \n",
      "A value is trying to be set on a copy of a slice from a DataFrame.\n",
      "Try using .loc[row_indexer,col_indexer] = value instead\n",
      "\n",
      "See the caveats in the documentation: https://pandas.pydata.org/pandas-docs/stable/user_guide/indexing.html#returning-a-view-versus-a-copy\n",
      "  df_clean['sample_id'] = sample_id\n"
     ]
    },
    {
     "name": "stdout",
     "output_type": "stream",
     "text": [
      "Finished processing sample: 1044dff3-e077-4086-8d78-e3c125ec0c84.rna_seq.augmented_star_gene_counts, shape: (60660, 10)\n",
      "Reading file: C:\\Users\\PC\\Desktop\\gene-expression-cancer-prediction\\rna_seq\\19264a73-b106-4b24-be01-0a9a137c6de9\\2966096f-4a35-4dca-ab38-ac86074fa29e.rna_seq.augmented_star_gene_counts.tsv\n",
      "Processing sample: 2966096f-4a35-4dca-ab38-ac86074fa29e.rna_seq.augmented_star_gene_counts\n"
     ]
    },
    {
     "name": "stderr",
     "output_type": "stream",
     "text": [
      "C:\\Users\\PC\\AppData\\Local\\Temp\\ipykernel_4980\\1846137033.py:69: SettingWithCopyWarning: \n",
      "A value is trying to be set on a copy of a slice from a DataFrame.\n",
      "Try using .loc[row_indexer,col_indexer] = value instead\n",
      "\n",
      "See the caveats in the documentation: https://pandas.pydata.org/pandas-docs/stable/user_guide/indexing.html#returning-a-view-versus-a-copy\n",
      "  df_clean['sample_id'] = sample_id\n"
     ]
    },
    {
     "name": "stdout",
     "output_type": "stream",
     "text": [
      "Finished processing sample: 2966096f-4a35-4dca-ab38-ac86074fa29e.rna_seq.augmented_star_gene_counts, shape: (60660, 10)\n",
      "Reading file: C:\\Users\\PC\\Desktop\\gene-expression-cancer-prediction\\rna_seq\\192d2e5c-31a1-45aa-8bb5-b33e4f873077\\e96b0282-8ff5-4390-9466-119534a50628.rna_seq.augmented_star_gene_counts.tsv\n",
      "Processing sample: e96b0282-8ff5-4390-9466-119534a50628.rna_seq.augmented_star_gene_counts\n"
     ]
    },
    {
     "name": "stderr",
     "output_type": "stream",
     "text": [
      "C:\\Users\\PC\\AppData\\Local\\Temp\\ipykernel_4980\\1846137033.py:69: SettingWithCopyWarning: \n",
      "A value is trying to be set on a copy of a slice from a DataFrame.\n",
      "Try using .loc[row_indexer,col_indexer] = value instead\n",
      "\n",
      "See the caveats in the documentation: https://pandas.pydata.org/pandas-docs/stable/user_guide/indexing.html#returning-a-view-versus-a-copy\n",
      "  df_clean['sample_id'] = sample_id\n"
     ]
    },
    {
     "name": "stdout",
     "output_type": "stream",
     "text": [
      "Finished processing sample: e96b0282-8ff5-4390-9466-119534a50628.rna_seq.augmented_star_gene_counts, shape: (60660, 10)\n",
      "Reading file: C:\\Users\\PC\\Desktop\\gene-expression-cancer-prediction\\rna_seq\\19318058-604e-4c3b-a037-eab07708ff82\\ede34eaa-699a-496a-a3d3-8ef57ddbdb43.rna_seq.augmented_star_gene_counts.tsv\n",
      "Processing sample: ede34eaa-699a-496a-a3d3-8ef57ddbdb43.rna_seq.augmented_star_gene_counts\n"
     ]
    },
    {
     "name": "stderr",
     "output_type": "stream",
     "text": [
      "C:\\Users\\PC\\AppData\\Local\\Temp\\ipykernel_4980\\1846137033.py:69: SettingWithCopyWarning: \n",
      "A value is trying to be set on a copy of a slice from a DataFrame.\n",
      "Try using .loc[row_indexer,col_indexer] = value instead\n",
      "\n",
      "See the caveats in the documentation: https://pandas.pydata.org/pandas-docs/stable/user_guide/indexing.html#returning-a-view-versus-a-copy\n",
      "  df_clean['sample_id'] = sample_id\n"
     ]
    },
    {
     "name": "stdout",
     "output_type": "stream",
     "text": [
      "Finished processing sample: ede34eaa-699a-496a-a3d3-8ef57ddbdb43.rna_seq.augmented_star_gene_counts, shape: (60660, 10)\n",
      "Reading file: C:\\Users\\PC\\Desktop\\gene-expression-cancer-prediction\\rna_seq\\1936440a-9cfc-4b04-af40-3fbc22fe87f6\\7dc54973-bfae-4811-b947-f98a6ac24b25.rna_seq.augmented_star_gene_counts.tsv\n",
      "Processing sample: 7dc54973-bfae-4811-b947-f98a6ac24b25.rna_seq.augmented_star_gene_counts\n"
     ]
    },
    {
     "name": "stderr",
     "output_type": "stream",
     "text": [
      "C:\\Users\\PC\\AppData\\Local\\Temp\\ipykernel_4980\\1846137033.py:69: SettingWithCopyWarning: \n",
      "A value is trying to be set on a copy of a slice from a DataFrame.\n",
      "Try using .loc[row_indexer,col_indexer] = value instead\n",
      "\n",
      "See the caveats in the documentation: https://pandas.pydata.org/pandas-docs/stable/user_guide/indexing.html#returning-a-view-versus-a-copy\n",
      "  df_clean['sample_id'] = sample_id\n"
     ]
    },
    {
     "name": "stdout",
     "output_type": "stream",
     "text": [
      "Finished processing sample: 7dc54973-bfae-4811-b947-f98a6ac24b25.rna_seq.augmented_star_gene_counts, shape: (60660, 10)\n",
      "Reading file: C:\\Users\\PC\\Desktop\\gene-expression-cancer-prediction\\rna_seq\\1936f1a9-66bc-4e48-8189-f0e3a67a5593\\674907a1-381a-4952-924a-52e2adf5ad19.rna_seq.augmented_star_gene_counts.tsv\n",
      "Processing sample: 674907a1-381a-4952-924a-52e2adf5ad19.rna_seq.augmented_star_gene_counts\n"
     ]
    },
    {
     "name": "stderr",
     "output_type": "stream",
     "text": [
      "C:\\Users\\PC\\AppData\\Local\\Temp\\ipykernel_4980\\1846137033.py:69: SettingWithCopyWarning: \n",
      "A value is trying to be set on a copy of a slice from a DataFrame.\n",
      "Try using .loc[row_indexer,col_indexer] = value instead\n",
      "\n",
      "See the caveats in the documentation: https://pandas.pydata.org/pandas-docs/stable/user_guide/indexing.html#returning-a-view-versus-a-copy\n",
      "  df_clean['sample_id'] = sample_id\n"
     ]
    },
    {
     "name": "stdout",
     "output_type": "stream",
     "text": [
      "Finished processing sample: 674907a1-381a-4952-924a-52e2adf5ad19.rna_seq.augmented_star_gene_counts, shape: (60660, 10)\n",
      "Reading file: C:\\Users\\PC\\Desktop\\gene-expression-cancer-prediction\\rna_seq\\19520ee7-658f-4e16-8a24-291beed9f0af\\40a31ab3-71fa-4f7b-a3b1-22e15ff0f358.rna_seq.augmented_star_gene_counts.tsv\n",
      "Processing sample: 40a31ab3-71fa-4f7b-a3b1-22e15ff0f358.rna_seq.augmented_star_gene_counts\n"
     ]
    },
    {
     "name": "stderr",
     "output_type": "stream",
     "text": [
      "C:\\Users\\PC\\AppData\\Local\\Temp\\ipykernel_4980\\1846137033.py:69: SettingWithCopyWarning: \n",
      "A value is trying to be set on a copy of a slice from a DataFrame.\n",
      "Try using .loc[row_indexer,col_indexer] = value instead\n",
      "\n",
      "See the caveats in the documentation: https://pandas.pydata.org/pandas-docs/stable/user_guide/indexing.html#returning-a-view-versus-a-copy\n",
      "  df_clean['sample_id'] = sample_id\n"
     ]
    },
    {
     "name": "stdout",
     "output_type": "stream",
     "text": [
      "Finished processing sample: 40a31ab3-71fa-4f7b-a3b1-22e15ff0f358.rna_seq.augmented_star_gene_counts, shape: (60660, 10)\n",
      "Reading file: C:\\Users\\PC\\Desktop\\gene-expression-cancer-prediction\\rna_seq\\195c9f03-31c3-465a-ac58-3949246b173b\\8f08cee9-a91f-4305-bf8d-efeee9cd386c.rna_seq.augmented_star_gene_counts.tsv\n",
      "Processing sample: 8f08cee9-a91f-4305-bf8d-efeee9cd386c.rna_seq.augmented_star_gene_counts\n"
     ]
    },
    {
     "name": "stderr",
     "output_type": "stream",
     "text": [
      "C:\\Users\\PC\\AppData\\Local\\Temp\\ipykernel_4980\\1846137033.py:69: SettingWithCopyWarning: \n",
      "A value is trying to be set on a copy of a slice from a DataFrame.\n",
      "Try using .loc[row_indexer,col_indexer] = value instead\n",
      "\n",
      "See the caveats in the documentation: https://pandas.pydata.org/pandas-docs/stable/user_guide/indexing.html#returning-a-view-versus-a-copy\n",
      "  df_clean['sample_id'] = sample_id\n",
      "C:\\Users\\PC\\AppData\\Local\\Temp\\ipykernel_4980\\1846137033.py:69: SettingWithCopyWarning: \n",
      "A value is trying to be set on a copy of a slice from a DataFrame.\n",
      "Try using .loc[row_indexer,col_indexer] = value instead\n",
      "\n",
      "See the caveats in the documentation: https://pandas.pydata.org/pandas-docs/stable/user_guide/indexing.html#returning-a-view-versus-a-copy\n",
      "  df_clean['sample_id'] = sample_id\n"
     ]
    },
    {
     "name": "stdout",
     "output_type": "stream",
     "text": [
      "Finished processing sample: 8f08cee9-a91f-4305-bf8d-efeee9cd386c.rna_seq.augmented_star_gene_counts, shape: (60660, 10)\n",
      "Reading file: C:\\Users\\PC\\Desktop\\gene-expression-cancer-prediction\\rna_seq\\196aed5b-6812-47c5-ad7b-4dd1743ed0b5\\8cf6a0f3-9dfb-41f5-b855-c313c583e707.rna_seq.augmented_star_gene_counts.tsv\n",
      "Processing sample: 8cf6a0f3-9dfb-41f5-b855-c313c583e707.rna_seq.augmented_star_gene_counts\n",
      "Finished processing sample: 8cf6a0f3-9dfb-41f5-b855-c313c583e707.rna_seq.augmented_star_gene_counts, shape: (60660, 10)\n",
      "Reading file: C:\\Users\\PC\\Desktop\\gene-expression-cancer-prediction\\rna_seq\\19baf63b-8488-4b90-83b7-a6c671da0095\\9440b088-b04e-4417-9543-5001b0a2b217.rna_seq.augmented_star_gene_counts.tsv\n",
      "Processing sample: 9440b088-b04e-4417-9543-5001b0a2b217.rna_seq.augmented_star_gene_counts\n"
     ]
    },
    {
     "name": "stderr",
     "output_type": "stream",
     "text": [
      "C:\\Users\\PC\\AppData\\Local\\Temp\\ipykernel_4980\\1846137033.py:69: SettingWithCopyWarning: \n",
      "A value is trying to be set on a copy of a slice from a DataFrame.\n",
      "Try using .loc[row_indexer,col_indexer] = value instead\n",
      "\n",
      "See the caveats in the documentation: https://pandas.pydata.org/pandas-docs/stable/user_guide/indexing.html#returning-a-view-versus-a-copy\n",
      "  df_clean['sample_id'] = sample_id\n",
      "C:\\Users\\PC\\AppData\\Local\\Temp\\ipykernel_4980\\1846137033.py:69: SettingWithCopyWarning: \n",
      "A value is trying to be set on a copy of a slice from a DataFrame.\n",
      "Try using .loc[row_indexer,col_indexer] = value instead\n",
      "\n",
      "See the caveats in the documentation: https://pandas.pydata.org/pandas-docs/stable/user_guide/indexing.html#returning-a-view-versus-a-copy\n",
      "  df_clean['sample_id'] = sample_id\n"
     ]
    },
    {
     "name": "stdout",
     "output_type": "stream",
     "text": [
      "Finished processing sample: 9440b088-b04e-4417-9543-5001b0a2b217.rna_seq.augmented_star_gene_counts, shape: (60660, 10)\n",
      "Reading file: C:\\Users\\PC\\Desktop\\gene-expression-cancer-prediction\\rna_seq\\1a000feb-3b71-4f95-8b39-68ec25b64d96\\30a67cbd-940c-40c4-9f86-a8ba9fe63177.rna_seq.augmented_star_gene_counts.tsv\n",
      "Processing sample: 30a67cbd-940c-40c4-9f86-a8ba9fe63177.rna_seq.augmented_star_gene_counts\n",
      "Finished processing sample: 30a67cbd-940c-40c4-9f86-a8ba9fe63177.rna_seq.augmented_star_gene_counts, shape: (60660, 10)\n",
      "Reading file: C:\\Users\\PC\\Desktop\\gene-expression-cancer-prediction\\rna_seq\\1a4285b8-765b-4954-b9f2-dc8609572889\\61ad862c-0bd2-4fcd-a9e1-f42e8099bd81.rna_seq.augmented_star_gene_counts.tsv\n",
      "Processing sample: 61ad862c-0bd2-4fcd-a9e1-f42e8099bd81.rna_seq.augmented_star_gene_counts\n"
     ]
    },
    {
     "name": "stderr",
     "output_type": "stream",
     "text": [
      "C:\\Users\\PC\\AppData\\Local\\Temp\\ipykernel_4980\\1846137033.py:69: SettingWithCopyWarning: \n",
      "A value is trying to be set on a copy of a slice from a DataFrame.\n",
      "Try using .loc[row_indexer,col_indexer] = value instead\n",
      "\n",
      "See the caveats in the documentation: https://pandas.pydata.org/pandas-docs/stable/user_guide/indexing.html#returning-a-view-versus-a-copy\n",
      "  df_clean['sample_id'] = sample_id\n"
     ]
    },
    {
     "name": "stdout",
     "output_type": "stream",
     "text": [
      "Finished processing sample: 61ad862c-0bd2-4fcd-a9e1-f42e8099bd81.rna_seq.augmented_star_gene_counts, shape: (60660, 10)\n",
      "Reading file: C:\\Users\\PC\\Desktop\\gene-expression-cancer-prediction\\rna_seq\\1a8d6cfd-095d-4461-875a-56d27816a0f5\\d32c4662-2b0b-4f78-b031-e6ff5286664c.rna_seq.augmented_star_gene_counts.tsv\n",
      "Processing sample: d32c4662-2b0b-4f78-b031-e6ff5286664c.rna_seq.augmented_star_gene_counts\n"
     ]
    },
    {
     "name": "stderr",
     "output_type": "stream",
     "text": [
      "C:\\Users\\PC\\AppData\\Local\\Temp\\ipykernel_4980\\1846137033.py:69: SettingWithCopyWarning: \n",
      "A value is trying to be set on a copy of a slice from a DataFrame.\n",
      "Try using .loc[row_indexer,col_indexer] = value instead\n",
      "\n",
      "See the caveats in the documentation: https://pandas.pydata.org/pandas-docs/stable/user_guide/indexing.html#returning-a-view-versus-a-copy\n",
      "  df_clean['sample_id'] = sample_id\n"
     ]
    },
    {
     "name": "stdout",
     "output_type": "stream",
     "text": [
      "Finished processing sample: d32c4662-2b0b-4f78-b031-e6ff5286664c.rna_seq.augmented_star_gene_counts, shape: (60660, 10)\n",
      "Reading file: C:\\Users\\PC\\Desktop\\gene-expression-cancer-prediction\\rna_seq\\1aa289bb-8ac9-4e9e-be61-3164afbe06a2\\fff3f42f-5e42-4653-b91b-1676f914e9fa.rna_seq.augmented_star_gene_counts.tsv\n",
      "Processing sample: fff3f42f-5e42-4653-b91b-1676f914e9fa.rna_seq.augmented_star_gene_counts\n"
     ]
    },
    {
     "name": "stderr",
     "output_type": "stream",
     "text": [
      "C:\\Users\\PC\\AppData\\Local\\Temp\\ipykernel_4980\\1846137033.py:69: SettingWithCopyWarning: \n",
      "A value is trying to be set on a copy of a slice from a DataFrame.\n",
      "Try using .loc[row_indexer,col_indexer] = value instead\n",
      "\n",
      "See the caveats in the documentation: https://pandas.pydata.org/pandas-docs/stable/user_guide/indexing.html#returning-a-view-versus-a-copy\n",
      "  df_clean['sample_id'] = sample_id\n",
      "C:\\Users\\PC\\AppData\\Local\\Temp\\ipykernel_4980\\1846137033.py:69: SettingWithCopyWarning: \n",
      "A value is trying to be set on a copy of a slice from a DataFrame.\n",
      "Try using .loc[row_indexer,col_indexer] = value instead\n",
      "\n",
      "See the caveats in the documentation: https://pandas.pydata.org/pandas-docs/stable/user_guide/indexing.html#returning-a-view-versus-a-copy\n",
      "  df_clean['sample_id'] = sample_id\n"
     ]
    },
    {
     "name": "stdout",
     "output_type": "stream",
     "text": [
      "Finished processing sample: fff3f42f-5e42-4653-b91b-1676f914e9fa.rna_seq.augmented_star_gene_counts, shape: (60660, 10)\n",
      "Reading file: C:\\Users\\PC\\Desktop\\gene-expression-cancer-prediction\\rna_seq\\1ace2a0c-773d-45b5-8fd6-968c88731bbb\\c33ecc28-d5ba-4416-b93d-445b7883b6e8.rna_seq.augmented_star_gene_counts.tsv\n",
      "Processing sample: c33ecc28-d5ba-4416-b93d-445b7883b6e8.rna_seq.augmented_star_gene_counts\n",
      "Finished processing sample: c33ecc28-d5ba-4416-b93d-445b7883b6e8.rna_seq.augmented_star_gene_counts, shape: (60660, 10)\n",
      "Reading file: C:\\Users\\PC\\Desktop\\gene-expression-cancer-prediction\\rna_seq\\1af79ae6-8b40-40ae-8f68-195d8367ac38\\f0bc4292-6662-460a-8bf8-a3c9fa2fd7be.rna_seq.augmented_star_gene_counts.tsv\n",
      "Processing sample: f0bc4292-6662-460a-8bf8-a3c9fa2fd7be.rna_seq.augmented_star_gene_counts\n",
      "Finished processing sample: f0bc4292-6662-460a-8bf8-a3c9fa2fd7be.rna_seq.augmented_star_gene_counts, shape: (60660, 10)\n"
     ]
    },
    {
     "name": "stderr",
     "output_type": "stream",
     "text": [
      "C:\\Users\\PC\\AppData\\Local\\Temp\\ipykernel_4980\\1846137033.py:69: SettingWithCopyWarning: \n",
      "A value is trying to be set on a copy of a slice from a DataFrame.\n",
      "Try using .loc[row_indexer,col_indexer] = value instead\n",
      "\n",
      "See the caveats in the documentation: https://pandas.pydata.org/pandas-docs/stable/user_guide/indexing.html#returning-a-view-versus-a-copy\n",
      "  df_clean['sample_id'] = sample_id\n",
      "C:\\Users\\PC\\AppData\\Local\\Temp\\ipykernel_4980\\1846137033.py:69: SettingWithCopyWarning: \n",
      "A value is trying to be set on a copy of a slice from a DataFrame.\n",
      "Try using .loc[row_indexer,col_indexer] = value instead\n",
      "\n",
      "See the caveats in the documentation: https://pandas.pydata.org/pandas-docs/stable/user_guide/indexing.html#returning-a-view-versus-a-copy\n",
      "  df_clean['sample_id'] = sample_id\n"
     ]
    },
    {
     "name": "stdout",
     "output_type": "stream",
     "text": [
      "Reading file: C:\\Users\\PC\\Desktop\\gene-expression-cancer-prediction\\rna_seq\\1b8dddf2-89d9-43aa-84c7-1d18e8865106\\02a50d1b-ff62-4936-a0ce-ac0e22a5b41c.rna_seq.augmented_star_gene_counts.tsv\n",
      "Processing sample: 02a50d1b-ff62-4936-a0ce-ac0e22a5b41c.rna_seq.augmented_star_gene_counts\n",
      "Finished processing sample: 02a50d1b-ff62-4936-a0ce-ac0e22a5b41c.rna_seq.augmented_star_gene_counts, shape: (60660, 10)\n",
      "Reading file: C:\\Users\\PC\\Desktop\\gene-expression-cancer-prediction\\rna_seq\\1b98fd3e-d3e3-4ecc-9fe3-02600177efed\\acb208ab-def4-4b55-b1c7-abe2130e61c9.rna_seq.augmented_star_gene_counts.tsv\n",
      "Processing sample: acb208ab-def4-4b55-b1c7-abe2130e61c9.rna_seq.augmented_star_gene_counts\n"
     ]
    },
    {
     "name": "stderr",
     "output_type": "stream",
     "text": [
      "C:\\Users\\PC\\AppData\\Local\\Temp\\ipykernel_4980\\1846137033.py:69: SettingWithCopyWarning: \n",
      "A value is trying to be set on a copy of a slice from a DataFrame.\n",
      "Try using .loc[row_indexer,col_indexer] = value instead\n",
      "\n",
      "See the caveats in the documentation: https://pandas.pydata.org/pandas-docs/stable/user_guide/indexing.html#returning-a-view-versus-a-copy\n",
      "  df_clean['sample_id'] = sample_id\n",
      "C:\\Users\\PC\\AppData\\Local\\Temp\\ipykernel_4980\\1846137033.py:69: SettingWithCopyWarning: \n",
      "A value is trying to be set on a copy of a slice from a DataFrame.\n",
      "Try using .loc[row_indexer,col_indexer] = value instead\n",
      "\n",
      "See the caveats in the documentation: https://pandas.pydata.org/pandas-docs/stable/user_guide/indexing.html#returning-a-view-versus-a-copy\n",
      "  df_clean['sample_id'] = sample_id\n"
     ]
    },
    {
     "name": "stdout",
     "output_type": "stream",
     "text": [
      "Finished processing sample: acb208ab-def4-4b55-b1c7-abe2130e61c9.rna_seq.augmented_star_gene_counts, shape: (60660, 10)\n",
      "Reading file: C:\\Users\\PC\\Desktop\\gene-expression-cancer-prediction\\rna_seq\\1c386dc6-8279-4156-bd7c-47e2f8af27bf\\83834ecf-bc98-416a-98c0-824229e6cfe0.rna_seq.augmented_star_gene_counts.tsv\n",
      "Processing sample: 83834ecf-bc98-416a-98c0-824229e6cfe0.rna_seq.augmented_star_gene_counts\n",
      "Finished processing sample: 83834ecf-bc98-416a-98c0-824229e6cfe0.rna_seq.augmented_star_gene_counts, shape: (60660, 10)\n",
      "Reading file: C:\\Users\\PC\\Desktop\\gene-expression-cancer-prediction\\rna_seq\\1c3a771f-43db-4b45-93f8-f8e6d2ab6847\\420197bd-db07-4df9-8f72-3d7d509ae1d0.rna_seq.augmented_star_gene_counts.tsv\n",
      "Processing sample: 420197bd-db07-4df9-8f72-3d7d509ae1d0.rna_seq.augmented_star_gene_counts\n",
      "Finished processing sample: 420197bd-db07-4df9-8f72-3d7d509ae1d0.rna_seq.augmented_star_gene_counts, shape: (60660, 10)\n",
      "Reading file: C:\\Users\\PC\\Desktop\\gene-expression-cancer-prediction\\rna_seq\\1c74a1ed-8000-4dc0-970f-03831ca5e167\\9935bf3a-de25-401c-bf1b-5225a62b24f7.rna_seq.augmented_star_gene_counts.tsv\n",
      "Processing sample: 9935bf3a-de25-401c-bf1b-5225a62b24f7.rna_seq.augmented_star_gene_counts\n"
     ]
    },
    {
     "name": "stderr",
     "output_type": "stream",
     "text": [
      "C:\\Users\\PC\\AppData\\Local\\Temp\\ipykernel_4980\\1846137033.py:69: SettingWithCopyWarning: \n",
      "A value is trying to be set on a copy of a slice from a DataFrame.\n",
      "Try using .loc[row_indexer,col_indexer] = value instead\n",
      "\n",
      "See the caveats in the documentation: https://pandas.pydata.org/pandas-docs/stable/user_guide/indexing.html#returning-a-view-versus-a-copy\n",
      "  df_clean['sample_id'] = sample_id\n",
      "C:\\Users\\PC\\AppData\\Local\\Temp\\ipykernel_4980\\1846137033.py:69: SettingWithCopyWarning: \n",
      "A value is trying to be set on a copy of a slice from a DataFrame.\n",
      "Try using .loc[row_indexer,col_indexer] = value instead\n",
      "\n",
      "See the caveats in the documentation: https://pandas.pydata.org/pandas-docs/stable/user_guide/indexing.html#returning-a-view-versus-a-copy\n",
      "  df_clean['sample_id'] = sample_id\n",
      "C:\\Users\\PC\\AppData\\Local\\Temp\\ipykernel_4980\\1846137033.py:69: SettingWithCopyWarning: \n",
      "A value is trying to be set on a copy of a slice from a DataFrame.\n",
      "Try using .loc[row_indexer,col_indexer] = value instead\n",
      "\n",
      "See the caveats in the documentation: https://pandas.pydata.org/pandas-docs/stable/user_guide/indexing.html#returning-a-view-versus-a-copy\n",
      "  df_clean['sample_id'] = sample_id\n"
     ]
    },
    {
     "name": "stdout",
     "output_type": "stream",
     "text": [
      "Finished processing sample: 9935bf3a-de25-401c-bf1b-5225a62b24f7.rna_seq.augmented_star_gene_counts, shape: (60660, 10)\n",
      "Reading file: C:\\Users\\PC\\Desktop\\gene-expression-cancer-prediction\\rna_seq\\1cb0d51d-def6-40ec-9c5f-4a98315b0382\\a2a798c5-3b1e-4192-8c6a-8c627cd0879e.rna_seq.augmented_star_gene_counts.tsv\n",
      "Processing sample: a2a798c5-3b1e-4192-8c6a-8c627cd0879e.rna_seq.augmented_star_gene_counts\n",
      "Finished processing sample: a2a798c5-3b1e-4192-8c6a-8c627cd0879e.rna_seq.augmented_star_gene_counts, shape: (60660, 10)\n",
      "Reading file: C:\\Users\\PC\\Desktop\\gene-expression-cancer-prediction\\rna_seq\\1cf56202-05e5-41ad-9f27-3519bee045f4\\f1600b0c-f3ac-4c19-8c43-6af450abb6a3.rna_seq.augmented_star_gene_counts.tsv\n",
      "Processing sample: f1600b0c-f3ac-4c19-8c43-6af450abb6a3.rna_seq.augmented_star_gene_counts\n",
      "Finished processing sample: f1600b0c-f3ac-4c19-8c43-6af450abb6a3.rna_seq.augmented_star_gene_counts, shape: (60660, 10)\n",
      "Reading file: C:\\Users\\PC\\Desktop\\gene-expression-cancer-prediction\\rna_seq\\1d0878a6-5c7c-40b9-8eab-64981d783b71\\44df0b54-867f-4aef-8769-5d3fa8887b94.rna_seq.augmented_star_gene_counts.tsv\n",
      "Processing sample: 44df0b54-867f-4aef-8769-5d3fa8887b94.rna_seq.augmented_star_gene_counts\n"
     ]
    },
    {
     "name": "stderr",
     "output_type": "stream",
     "text": [
      "C:\\Users\\PC\\AppData\\Local\\Temp\\ipykernel_4980\\1846137033.py:69: SettingWithCopyWarning: \n",
      "A value is trying to be set on a copy of a slice from a DataFrame.\n",
      "Try using .loc[row_indexer,col_indexer] = value instead\n",
      "\n",
      "See the caveats in the documentation: https://pandas.pydata.org/pandas-docs/stable/user_guide/indexing.html#returning-a-view-versus-a-copy\n",
      "  df_clean['sample_id'] = sample_id\n",
      "C:\\Users\\PC\\AppData\\Local\\Temp\\ipykernel_4980\\1846137033.py:69: SettingWithCopyWarning: \n",
      "A value is trying to be set on a copy of a slice from a DataFrame.\n",
      "Try using .loc[row_indexer,col_indexer] = value instead\n",
      "\n",
      "See the caveats in the documentation: https://pandas.pydata.org/pandas-docs/stable/user_guide/indexing.html#returning-a-view-versus-a-copy\n",
      "  df_clean['sample_id'] = sample_id\n",
      "C:\\Users\\PC\\AppData\\Local\\Temp\\ipykernel_4980\\1846137033.py:69: SettingWithCopyWarning: \n",
      "A value is trying to be set on a copy of a slice from a DataFrame.\n",
      "Try using .loc[row_indexer,col_indexer] = value instead\n",
      "\n",
      "See the caveats in the documentation: https://pandas.pydata.org/pandas-docs/stable/user_guide/indexing.html#returning-a-view-versus-a-copy\n",
      "  df_clean['sample_id'] = sample_id\n"
     ]
    },
    {
     "name": "stdout",
     "output_type": "stream",
     "text": [
      "Finished processing sample: 44df0b54-867f-4aef-8769-5d3fa8887b94.rna_seq.augmented_star_gene_counts, shape: (60660, 10)\n",
      "Reading file: C:\\Users\\PC\\Desktop\\gene-expression-cancer-prediction\\rna_seq\\1d15f05d-2ac2-4b83-987e-6f4b157b0b74\\694ca3d8-9748-4c0f-9021-d599d81a325e.rna_seq.augmented_star_gene_counts.tsv\n",
      "Processing sample: 694ca3d8-9748-4c0f-9021-d599d81a325e.rna_seq.augmented_star_gene_counts\n",
      "Finished processing sample: 694ca3d8-9748-4c0f-9021-d599d81a325e.rna_seq.augmented_star_gene_counts, shape: (60660, 10)\n",
      "Reading file: C:\\Users\\PC\\Desktop\\gene-expression-cancer-prediction\\rna_seq\\1d7789a1-1ff1-4865-a9c9-dfb40e57aff5\\66941b24-9c8f-4657-a4eb-8cc267e38bdc.rna_seq.augmented_star_gene_counts.tsv\n",
      "Processing sample: 66941b24-9c8f-4657-a4eb-8cc267e38bdc.rna_seq.augmented_star_gene_counts\n",
      "Finished processing sample: 66941b24-9c8f-4657-a4eb-8cc267e38bdc.rna_seq.augmented_star_gene_counts, shape: (60660, 10)\n"
     ]
    },
    {
     "name": "stderr",
     "output_type": "stream",
     "text": [
      "C:\\Users\\PC\\AppData\\Local\\Temp\\ipykernel_4980\\1846137033.py:69: SettingWithCopyWarning: \n",
      "A value is trying to be set on a copy of a slice from a DataFrame.\n",
      "Try using .loc[row_indexer,col_indexer] = value instead\n",
      "\n",
      "See the caveats in the documentation: https://pandas.pydata.org/pandas-docs/stable/user_guide/indexing.html#returning-a-view-versus-a-copy\n",
      "  df_clean['sample_id'] = sample_id\n"
     ]
    },
    {
     "name": "stdout",
     "output_type": "stream",
     "text": [
      "Reading file: C:\\Users\\PC\\Desktop\\gene-expression-cancer-prediction\\rna_seq\\1d7e99d8-052d-491a-8088-91cb0790cb17\\a37d7ef3-0840-4114-acec-ce9e29bb54e9.rna_seq.augmented_star_gene_counts.tsv\n",
      "Processing sample: a37d7ef3-0840-4114-acec-ce9e29bb54e9.rna_seq.augmented_star_gene_counts\n",
      "Finished processing sample: a37d7ef3-0840-4114-acec-ce9e29bb54e9.rna_seq.augmented_star_gene_counts, shape: (60660, 10)\n"
     ]
    },
    {
     "name": "stderr",
     "output_type": "stream",
     "text": [
      "C:\\Users\\PC\\AppData\\Local\\Temp\\ipykernel_4980\\1846137033.py:69: SettingWithCopyWarning: \n",
      "A value is trying to be set on a copy of a slice from a DataFrame.\n",
      "Try using .loc[row_indexer,col_indexer] = value instead\n",
      "\n",
      "See the caveats in the documentation: https://pandas.pydata.org/pandas-docs/stable/user_guide/indexing.html#returning-a-view-versus-a-copy\n",
      "  df_clean['sample_id'] = sample_id\n",
      "C:\\Users\\PC\\AppData\\Local\\Temp\\ipykernel_4980\\1846137033.py:69: SettingWithCopyWarning: \n",
      "A value is trying to be set on a copy of a slice from a DataFrame.\n",
      "Try using .loc[row_indexer,col_indexer] = value instead\n",
      "\n",
      "See the caveats in the documentation: https://pandas.pydata.org/pandas-docs/stable/user_guide/indexing.html#returning-a-view-versus-a-copy\n",
      "  df_clean['sample_id'] = sample_id\n"
     ]
    },
    {
     "name": "stdout",
     "output_type": "stream",
     "text": [
      "Reading file: C:\\Users\\PC\\Desktop\\gene-expression-cancer-prediction\\rna_seq\\1dacccf9-58ae-490f-9f3f-31c82f93b3b8\\b707621f-1f89-4058-be18-33020b9ebec3.rna_seq.augmented_star_gene_counts.tsv\n",
      "Processing sample: b707621f-1f89-4058-be18-33020b9ebec3.rna_seq.augmented_star_gene_counts\n",
      "Finished processing sample: b707621f-1f89-4058-be18-33020b9ebec3.rna_seq.augmented_star_gene_counts, shape: (60660, 10)\n",
      "Reading file: C:\\Users\\PC\\Desktop\\gene-expression-cancer-prediction\\rna_seq\\1db8a1bb-fef2-4e06-9cd5-a1f6579573a5\\c24618ee-27b7-4760-99d1-fa9b338f05c4.rna_seq.augmented_star_gene_counts.tsv\n",
      "Processing sample: c24618ee-27b7-4760-99d1-fa9b338f05c4.rna_seq.augmented_star_gene_counts\n"
     ]
    },
    {
     "name": "stderr",
     "output_type": "stream",
     "text": [
      "C:\\Users\\PC\\AppData\\Local\\Temp\\ipykernel_4980\\1846137033.py:69: SettingWithCopyWarning: \n",
      "A value is trying to be set on a copy of a slice from a DataFrame.\n",
      "Try using .loc[row_indexer,col_indexer] = value instead\n",
      "\n",
      "See the caveats in the documentation: https://pandas.pydata.org/pandas-docs/stable/user_guide/indexing.html#returning-a-view-versus-a-copy\n",
      "  df_clean['sample_id'] = sample_id\n",
      "C:\\Users\\PC\\AppData\\Local\\Temp\\ipykernel_4980\\1846137033.py:69: SettingWithCopyWarning: \n",
      "A value is trying to be set on a copy of a slice from a DataFrame.\n",
      "Try using .loc[row_indexer,col_indexer] = value instead\n",
      "\n",
      "See the caveats in the documentation: https://pandas.pydata.org/pandas-docs/stable/user_guide/indexing.html#returning-a-view-versus-a-copy\n",
      "  df_clean['sample_id'] = sample_id\n"
     ]
    },
    {
     "name": "stdout",
     "output_type": "stream",
     "text": [
      "Finished processing sample: c24618ee-27b7-4760-99d1-fa9b338f05c4.rna_seq.augmented_star_gene_counts, shape: (60660, 10)\n",
      "Reading file: C:\\Users\\PC\\Desktop\\gene-expression-cancer-prediction\\rna_seq\\1dd5828f-8e81-4196-992f-70b8203c915f\\e4e983eb-2aa3-4858-b67f-9cc70452768c.rna_seq.augmented_star_gene_counts.tsv\n",
      "Processing sample: e4e983eb-2aa3-4858-b67f-9cc70452768c.rna_seq.augmented_star_gene_counts\n",
      "Finished processing sample: e4e983eb-2aa3-4858-b67f-9cc70452768c.rna_seq.augmented_star_gene_counts, shape: (60660, 10)\n",
      "Reading file: C:\\Users\\PC\\Desktop\\gene-expression-cancer-prediction\\rna_seq\\1dd898ab-3b85-4932-b889-0eb0a494f2b6\\e0e050cc-5e2a-41fc-8394-b4816a9dc8a2.rna_seq.augmented_star_gene_counts.tsv\n",
      "Processing sample: e0e050cc-5e2a-41fc-8394-b4816a9dc8a2.rna_seq.augmented_star_gene_counts\n",
      "Finished processing sample: e0e050cc-5e2a-41fc-8394-b4816a9dc8a2.rna_seq.augmented_star_gene_counts, shape: (60660, 10)\n"
     ]
    },
    {
     "name": "stderr",
     "output_type": "stream",
     "text": [
      "C:\\Users\\PC\\AppData\\Local\\Temp\\ipykernel_4980\\1846137033.py:69: SettingWithCopyWarning: \n",
      "A value is trying to be set on a copy of a slice from a DataFrame.\n",
      "Try using .loc[row_indexer,col_indexer] = value instead\n",
      "\n",
      "See the caveats in the documentation: https://pandas.pydata.org/pandas-docs/stable/user_guide/indexing.html#returning-a-view-versus-a-copy\n",
      "  df_clean['sample_id'] = sample_id\n"
     ]
    },
    {
     "name": "stdout",
     "output_type": "stream",
     "text": [
      "Reading file: C:\\Users\\PC\\Desktop\\gene-expression-cancer-prediction\\rna_seq\\1deadf31-dc7d-4361-8041-ab0a27edebb3\\01661d94-fc16-4456-95cf-a5fa4e1e196c.rna_seq.augmented_star_gene_counts.tsv\n",
      "Processing sample: 01661d94-fc16-4456-95cf-a5fa4e1e196c.rna_seq.augmented_star_gene_counts\n",
      "Finished processing sample: 01661d94-fc16-4456-95cf-a5fa4e1e196c.rna_seq.augmented_star_gene_counts, shape: (60660, 10)\n"
     ]
    },
    {
     "name": "stderr",
     "output_type": "stream",
     "text": [
      "C:\\Users\\PC\\AppData\\Local\\Temp\\ipykernel_4980\\1846137033.py:69: SettingWithCopyWarning: \n",
      "A value is trying to be set on a copy of a slice from a DataFrame.\n",
      "Try using .loc[row_indexer,col_indexer] = value instead\n",
      "\n",
      "See the caveats in the documentation: https://pandas.pydata.org/pandas-docs/stable/user_guide/indexing.html#returning-a-view-versus-a-copy\n",
      "  df_clean['sample_id'] = sample_id\n",
      "C:\\Users\\PC\\AppData\\Local\\Temp\\ipykernel_4980\\1846137033.py:69: SettingWithCopyWarning: \n",
      "A value is trying to be set on a copy of a slice from a DataFrame.\n",
      "Try using .loc[row_indexer,col_indexer] = value instead\n",
      "\n",
      "See the caveats in the documentation: https://pandas.pydata.org/pandas-docs/stable/user_guide/indexing.html#returning-a-view-versus-a-copy\n",
      "  df_clean['sample_id'] = sample_id\n"
     ]
    },
    {
     "name": "stdout",
     "output_type": "stream",
     "text": [
      "Reading file: C:\\Users\\PC\\Desktop\\gene-expression-cancer-prediction\\rna_seq\\1eca5ea8-093a-494d-968b-2ffcfe2b4604\\1cb7f73e-af63-4d6a-b6a1-fe289435a93f.rna_seq.augmented_star_gene_counts.tsv\n",
      "Processing sample: 1cb7f73e-af63-4d6a-b6a1-fe289435a93f.rna_seq.augmented_star_gene_counts\n",
      "Finished processing sample: 1cb7f73e-af63-4d6a-b6a1-fe289435a93f.rna_seq.augmented_star_gene_counts, shape: (60660, 10)\n",
      "Reading file: C:\\Users\\PC\\Desktop\\gene-expression-cancer-prediction\\rna_seq\\1f5bbb4e-9b0e-4953-a360-83fd7b6a2267\\d61a8ec1-aa99-41c3-8633-018cdb0ccb1a.rna_seq.augmented_star_gene_counts.tsv\n",
      "Processing sample: d61a8ec1-aa99-41c3-8633-018cdb0ccb1a.rna_seq.augmented_star_gene_counts\n",
      "Finished processing sample: d61a8ec1-aa99-41c3-8633-018cdb0ccb1a.rna_seq.augmented_star_gene_counts, shape: (60660, 10)\n"
     ]
    },
    {
     "name": "stderr",
     "output_type": "stream",
     "text": [
      "C:\\Users\\PC\\AppData\\Local\\Temp\\ipykernel_4980\\1846137033.py:69: SettingWithCopyWarning: \n",
      "A value is trying to be set on a copy of a slice from a DataFrame.\n",
      "Try using .loc[row_indexer,col_indexer] = value instead\n",
      "\n",
      "See the caveats in the documentation: https://pandas.pydata.org/pandas-docs/stable/user_guide/indexing.html#returning-a-view-versus-a-copy\n",
      "  df_clean['sample_id'] = sample_id\n"
     ]
    },
    {
     "name": "stdout",
     "output_type": "stream",
     "text": [
      "Reading file: C:\\Users\\PC\\Desktop\\gene-expression-cancer-prediction\\rna_seq\\1f9a9190-4157-457e-9794-a9217d2aa2f8\\cf4160bb-9ef4-43c1-ac83-f6ca897101ee.rna_seq.augmented_star_gene_counts.tsv\n",
      "Processing sample: cf4160bb-9ef4-43c1-ac83-f6ca897101ee.rna_seq.augmented_star_gene_counts\n",
      "Finished processing sample: cf4160bb-9ef4-43c1-ac83-f6ca897101ee.rna_seq.augmented_star_gene_counts, shape: (60660, 10)\n"
     ]
    },
    {
     "name": "stderr",
     "output_type": "stream",
     "text": [
      "C:\\Users\\PC\\AppData\\Local\\Temp\\ipykernel_4980\\1846137033.py:69: SettingWithCopyWarning: \n",
      "A value is trying to be set on a copy of a slice from a DataFrame.\n",
      "Try using .loc[row_indexer,col_indexer] = value instead\n",
      "\n",
      "See the caveats in the documentation: https://pandas.pydata.org/pandas-docs/stable/user_guide/indexing.html#returning-a-view-versus-a-copy\n",
      "  df_clean['sample_id'] = sample_id\n"
     ]
    },
    {
     "name": "stdout",
     "output_type": "stream",
     "text": [
      "Reading file: C:\\Users\\PC\\Desktop\\gene-expression-cancer-prediction\\rna_seq\\20110ed9-8b45-4a62-bd13-e0281915a06b\\c6151c87-ab96-49c3-a250-b56211cd20e5.rna_seq.augmented_star_gene_counts.tsv\n",
      "Processing sample: c6151c87-ab96-49c3-a250-b56211cd20e5.rna_seq.augmented_star_gene_counts\n",
      "Finished processing sample: c6151c87-ab96-49c3-a250-b56211cd20e5.rna_seq.augmented_star_gene_counts, shape: (60660, 10)\n",
      "Reading file: C:\\Users\\PC\\Desktop\\gene-expression-cancer-prediction\\rna_seq\\206804c1-e5be-4076-9793-406d11094266\\57d2c12f-e3ae-457b-b92c-22002aecdba0.rna_seq.augmented_star_gene_counts.tsv\n",
      "Processing sample: 57d2c12f-e3ae-457b-b92c-22002aecdba0.rna_seq.augmented_star_gene_counts\n"
     ]
    },
    {
     "name": "stderr",
     "output_type": "stream",
     "text": [
      "C:\\Users\\PC\\AppData\\Local\\Temp\\ipykernel_4980\\1846137033.py:69: SettingWithCopyWarning: \n",
      "A value is trying to be set on a copy of a slice from a DataFrame.\n",
      "Try using .loc[row_indexer,col_indexer] = value instead\n",
      "\n",
      "See the caveats in the documentation: https://pandas.pydata.org/pandas-docs/stable/user_guide/indexing.html#returning-a-view-versus-a-copy\n",
      "  df_clean['sample_id'] = sample_id\n",
      "C:\\Users\\PC\\AppData\\Local\\Temp\\ipykernel_4980\\1846137033.py:69: SettingWithCopyWarning: \n",
      "A value is trying to be set on a copy of a slice from a DataFrame.\n",
      "Try using .loc[row_indexer,col_indexer] = value instead\n",
      "\n",
      "See the caveats in the documentation: https://pandas.pydata.org/pandas-docs/stable/user_guide/indexing.html#returning-a-view-versus-a-copy\n",
      "  df_clean['sample_id'] = sample_id\n"
     ]
    },
    {
     "name": "stdout",
     "output_type": "stream",
     "text": [
      "Finished processing sample: 57d2c12f-e3ae-457b-b92c-22002aecdba0.rna_seq.augmented_star_gene_counts, shape: (60660, 10)\n",
      "Reading file: C:\\Users\\PC\\Desktop\\gene-expression-cancer-prediction\\rna_seq\\2081a155-9d2d-41f6-b243-68a12e9b342a\\62ca3ce8-77f9-4e02-ace4-af79519b53fd.rna_seq.augmented_star_gene_counts.tsv\n",
      "Processing sample: 62ca3ce8-77f9-4e02-ace4-af79519b53fd.rna_seq.augmented_star_gene_counts\n"
     ]
    },
    {
     "name": "stderr",
     "output_type": "stream",
     "text": [
      "C:\\Users\\PC\\AppData\\Local\\Temp\\ipykernel_4980\\1846137033.py:69: SettingWithCopyWarning: \n",
      "A value is trying to be set on a copy of a slice from a DataFrame.\n",
      "Try using .loc[row_indexer,col_indexer] = value instead\n",
      "\n",
      "See the caveats in the documentation: https://pandas.pydata.org/pandas-docs/stable/user_guide/indexing.html#returning-a-view-versus-a-copy\n",
      "  df_clean['sample_id'] = sample_id\n"
     ]
    },
    {
     "name": "stdout",
     "output_type": "stream",
     "text": [
      "Finished processing sample: 62ca3ce8-77f9-4e02-ace4-af79519b53fd.rna_seq.augmented_star_gene_counts, shape: (60660, 10)\n",
      "Reading file: C:\\Users\\PC\\Desktop\\gene-expression-cancer-prediction\\rna_seq\\20e1a6f6-c34f-4744-9b2a-392ea074ebe2\\d1d3d623-2de6-4d6f-b2a3-a50758f46b64.rna_seq.augmented_star_gene_counts.tsv\n",
      "Processing sample: d1d3d623-2de6-4d6f-b2a3-a50758f46b64.rna_seq.augmented_star_gene_counts\n"
     ]
    },
    {
     "name": "stderr",
     "output_type": "stream",
     "text": [
      "C:\\Users\\PC\\AppData\\Local\\Temp\\ipykernel_4980\\1846137033.py:69: SettingWithCopyWarning: \n",
      "A value is trying to be set on a copy of a slice from a DataFrame.\n",
      "Try using .loc[row_indexer,col_indexer] = value instead\n",
      "\n",
      "See the caveats in the documentation: https://pandas.pydata.org/pandas-docs/stable/user_guide/indexing.html#returning-a-view-versus-a-copy\n",
      "  df_clean['sample_id'] = sample_id\n"
     ]
    },
    {
     "name": "stdout",
     "output_type": "stream",
     "text": [
      "Finished processing sample: d1d3d623-2de6-4d6f-b2a3-a50758f46b64.rna_seq.augmented_star_gene_counts, shape: (60660, 10)\n",
      "Reading file: C:\\Users\\PC\\Desktop\\gene-expression-cancer-prediction\\rna_seq\\20e90b8d-aa05-4918-8e54-1b969488148f\\59fe0f14-0415-43b7-87c7-1098e4b434ea.rna_seq.augmented_star_gene_counts.tsv\n",
      "Processing sample: 59fe0f14-0415-43b7-87c7-1098e4b434ea.rna_seq.augmented_star_gene_counts\n"
     ]
    },
    {
     "name": "stderr",
     "output_type": "stream",
     "text": [
      "C:\\Users\\PC\\AppData\\Local\\Temp\\ipykernel_4980\\1846137033.py:69: SettingWithCopyWarning: \n",
      "A value is trying to be set on a copy of a slice from a DataFrame.\n",
      "Try using .loc[row_indexer,col_indexer] = value instead\n",
      "\n",
      "See the caveats in the documentation: https://pandas.pydata.org/pandas-docs/stable/user_guide/indexing.html#returning-a-view-versus-a-copy\n",
      "  df_clean['sample_id'] = sample_id\n"
     ]
    },
    {
     "name": "stdout",
     "output_type": "stream",
     "text": [
      "Finished processing sample: 59fe0f14-0415-43b7-87c7-1098e4b434ea.rna_seq.augmented_star_gene_counts, shape: (60660, 10)\n",
      "Reading file: C:\\Users\\PC\\Desktop\\gene-expression-cancer-prediction\\rna_seq\\21836f98-cc95-46d3-8f40-6c9625f940ba\\b6df0d7c-1c41-4b7d-8685-ce6fba4e7ab3.rna_seq.augmented_star_gene_counts.tsv\n",
      "Processing sample: b6df0d7c-1c41-4b7d-8685-ce6fba4e7ab3.rna_seq.augmented_star_gene_counts\n"
     ]
    },
    {
     "name": "stderr",
     "output_type": "stream",
     "text": [
      "C:\\Users\\PC\\AppData\\Local\\Temp\\ipykernel_4980\\1846137033.py:69: SettingWithCopyWarning: \n",
      "A value is trying to be set on a copy of a slice from a DataFrame.\n",
      "Try using .loc[row_indexer,col_indexer] = value instead\n",
      "\n",
      "See the caveats in the documentation: https://pandas.pydata.org/pandas-docs/stable/user_guide/indexing.html#returning-a-view-versus-a-copy\n",
      "  df_clean['sample_id'] = sample_id\n"
     ]
    },
    {
     "name": "stdout",
     "output_type": "stream",
     "text": [
      "Finished processing sample: b6df0d7c-1c41-4b7d-8685-ce6fba4e7ab3.rna_seq.augmented_star_gene_counts, shape: (60660, 10)\n",
      "Reading file: C:\\Users\\PC\\Desktop\\gene-expression-cancer-prediction\\rna_seq\\22dad91c-889d-4d40-b9b8-c9facd752dc9\\8319b13e-475e-440f-855a-bdba3036db73.rna_seq.augmented_star_gene_counts.tsv\n",
      "Processing sample: 8319b13e-475e-440f-855a-bdba3036db73.rna_seq.augmented_star_gene_counts\n"
     ]
    },
    {
     "name": "stderr",
     "output_type": "stream",
     "text": [
      "C:\\Users\\PC\\AppData\\Local\\Temp\\ipykernel_4980\\1846137033.py:69: SettingWithCopyWarning: \n",
      "A value is trying to be set on a copy of a slice from a DataFrame.\n",
      "Try using .loc[row_indexer,col_indexer] = value instead\n",
      "\n",
      "See the caveats in the documentation: https://pandas.pydata.org/pandas-docs/stable/user_guide/indexing.html#returning-a-view-versus-a-copy\n",
      "  df_clean['sample_id'] = sample_id\n"
     ]
    },
    {
     "name": "stdout",
     "output_type": "stream",
     "text": [
      "Finished processing sample: 8319b13e-475e-440f-855a-bdba3036db73.rna_seq.augmented_star_gene_counts, shape: (60660, 10)\n",
      "Reading file: C:\\Users\\PC\\Desktop\\gene-expression-cancer-prediction\\rna_seq\\22fdb34e-9f50-4382-9800-e6e35773c538\\e558015e-969b-4354-9bc9-219a60092734.rna_seq.augmented_star_gene_counts.tsv\n",
      "Processing sample: e558015e-969b-4354-9bc9-219a60092734.rna_seq.augmented_star_gene_counts\n"
     ]
    },
    {
     "name": "stderr",
     "output_type": "stream",
     "text": [
      "C:\\Users\\PC\\AppData\\Local\\Temp\\ipykernel_4980\\1846137033.py:69: SettingWithCopyWarning: \n",
      "A value is trying to be set on a copy of a slice from a DataFrame.\n",
      "Try using .loc[row_indexer,col_indexer] = value instead\n",
      "\n",
      "See the caveats in the documentation: https://pandas.pydata.org/pandas-docs/stable/user_guide/indexing.html#returning-a-view-versus-a-copy\n",
      "  df_clean['sample_id'] = sample_id\n"
     ]
    },
    {
     "name": "stdout",
     "output_type": "stream",
     "text": [
      "Finished processing sample: e558015e-969b-4354-9bc9-219a60092734.rna_seq.augmented_star_gene_counts, shape: (60660, 10)\n",
      "Reading file: C:\\Users\\PC\\Desktop\\gene-expression-cancer-prediction\\rna_seq\\23304266-b28c-4ff2-8dcf-bb18f56417b4\\2485ee80-8de4-4f98-b4f9-7c012bb29f6c.rna_seq.augmented_star_gene_counts.tsv\n",
      "Processing sample: 2485ee80-8de4-4f98-b4f9-7c012bb29f6c.rna_seq.augmented_star_gene_counts\n"
     ]
    },
    {
     "name": "stderr",
     "output_type": "stream",
     "text": [
      "C:\\Users\\PC\\AppData\\Local\\Temp\\ipykernel_4980\\1846137033.py:69: SettingWithCopyWarning: \n",
      "A value is trying to be set on a copy of a slice from a DataFrame.\n",
      "Try using .loc[row_indexer,col_indexer] = value instead\n",
      "\n",
      "See the caveats in the documentation: https://pandas.pydata.org/pandas-docs/stable/user_guide/indexing.html#returning-a-view-versus-a-copy\n",
      "  df_clean['sample_id'] = sample_id\n",
      "C:\\Users\\PC\\AppData\\Local\\Temp\\ipykernel_4980\\1846137033.py:69: SettingWithCopyWarning: \n",
      "A value is trying to be set on a copy of a slice from a DataFrame.\n",
      "Try using .loc[row_indexer,col_indexer] = value instead\n",
      "\n",
      "See the caveats in the documentation: https://pandas.pydata.org/pandas-docs/stable/user_guide/indexing.html#returning-a-view-versus-a-copy\n",
      "  df_clean['sample_id'] = sample_id\n"
     ]
    },
    {
     "name": "stdout",
     "output_type": "stream",
     "text": [
      "Finished processing sample: 2485ee80-8de4-4f98-b4f9-7c012bb29f6c.rna_seq.augmented_star_gene_counts, shape: (60660, 10)\n",
      "Reading file: C:\\Users\\PC\\Desktop\\gene-expression-cancer-prediction\\rna_seq\\235a9719-23a6-48b5-bbb1-248dbec23a35\\689ba70a-9664-459e-aee5-fd16b3b993a8.rna_seq.augmented_star_gene_counts.tsv\n",
      "Processing sample: 689ba70a-9664-459e-aee5-fd16b3b993a8.rna_seq.augmented_star_gene_counts\n",
      "Finished processing sample: 689ba70a-9664-459e-aee5-fd16b3b993a8.rna_seq.augmented_star_gene_counts, shape: (60660, 10)\n",
      "Reading file: C:\\Users\\PC\\Desktop\\gene-expression-cancer-prediction\\rna_seq\\236805b9-ea89-43b4-ba51-c09276778e90\\0bceb3fb-af69-4427-8ce1-767da4b31c37.rna_seq.augmented_star_gene_counts.tsv\n",
      "Processing sample: 0bceb3fb-af69-4427-8ce1-767da4b31c37.rna_seq.augmented_star_gene_counts\n"
     ]
    },
    {
     "name": "stderr",
     "output_type": "stream",
     "text": [
      "C:\\Users\\PC\\AppData\\Local\\Temp\\ipykernel_4980\\1846137033.py:69: SettingWithCopyWarning: \n",
      "A value is trying to be set on a copy of a slice from a DataFrame.\n",
      "Try using .loc[row_indexer,col_indexer] = value instead\n",
      "\n",
      "See the caveats in the documentation: https://pandas.pydata.org/pandas-docs/stable/user_guide/indexing.html#returning-a-view-versus-a-copy\n",
      "  df_clean['sample_id'] = sample_id\n",
      "C:\\Users\\PC\\AppData\\Local\\Temp\\ipykernel_4980\\1846137033.py:69: SettingWithCopyWarning: \n",
      "A value is trying to be set on a copy of a slice from a DataFrame.\n",
      "Try using .loc[row_indexer,col_indexer] = value instead\n",
      "\n",
      "See the caveats in the documentation: https://pandas.pydata.org/pandas-docs/stable/user_guide/indexing.html#returning-a-view-versus-a-copy\n",
      "  df_clean['sample_id'] = sample_id\n"
     ]
    },
    {
     "name": "stdout",
     "output_type": "stream",
     "text": [
      "Finished processing sample: 0bceb3fb-af69-4427-8ce1-767da4b31c37.rna_seq.augmented_star_gene_counts, shape: (60660, 10)\n",
      "Reading file: C:\\Users\\PC\\Desktop\\gene-expression-cancer-prediction\\rna_seq\\2377e521-919f-4f6f-b426-ddc993775597\\23f366c0-41f3-4159-86f0-5fa3d0059761.rna_seq.augmented_star_gene_counts.tsv\n",
      "Processing sample: 23f366c0-41f3-4159-86f0-5fa3d0059761.rna_seq.augmented_star_gene_counts\n",
      "Finished processing sample: 23f366c0-41f3-4159-86f0-5fa3d0059761.rna_seq.augmented_star_gene_counts, shape: (60660, 10)\n",
      "Reading file: C:\\Users\\PC\\Desktop\\gene-expression-cancer-prediction\\rna_seq\\23ac8b84-f000-45ea-ad35-a46323d3670a\\df6189e5-bd61-4be2-9d31-efef56cb4739.rna_seq.augmented_star_gene_counts.tsv\n",
      "Processing sample: df6189e5-bd61-4be2-9d31-efef56cb4739.rna_seq.augmented_star_gene_counts\n"
     ]
    },
    {
     "name": "stderr",
     "output_type": "stream",
     "text": [
      "C:\\Users\\PC\\AppData\\Local\\Temp\\ipykernel_4980\\1846137033.py:69: SettingWithCopyWarning: \n",
      "A value is trying to be set on a copy of a slice from a DataFrame.\n",
      "Try using .loc[row_indexer,col_indexer] = value instead\n",
      "\n",
      "See the caveats in the documentation: https://pandas.pydata.org/pandas-docs/stable/user_guide/indexing.html#returning-a-view-versus-a-copy\n",
      "  df_clean['sample_id'] = sample_id\n"
     ]
    },
    {
     "name": "stdout",
     "output_type": "stream",
     "text": [
      "Finished processing sample: df6189e5-bd61-4be2-9d31-efef56cb4739.rna_seq.augmented_star_gene_counts, shape: (60660, 10)\n",
      "Reading file: C:\\Users\\PC\\Desktop\\gene-expression-cancer-prediction\\rna_seq\\24c5fcbb-019c-4636-813b-0b9d4d1d9501\\ca823082-ede5-4bfd-8498-7e492f39bcd6.rna_seq.augmented_star_gene_counts.tsv\n",
      "Processing sample: ca823082-ede5-4bfd-8498-7e492f39bcd6.rna_seq.augmented_star_gene_counts\n"
     ]
    },
    {
     "name": "stderr",
     "output_type": "stream",
     "text": [
      "C:\\Users\\PC\\AppData\\Local\\Temp\\ipykernel_4980\\1846137033.py:69: SettingWithCopyWarning: \n",
      "A value is trying to be set on a copy of a slice from a DataFrame.\n",
      "Try using .loc[row_indexer,col_indexer] = value instead\n",
      "\n",
      "See the caveats in the documentation: https://pandas.pydata.org/pandas-docs/stable/user_guide/indexing.html#returning-a-view-versus-a-copy\n",
      "  df_clean['sample_id'] = sample_id\n"
     ]
    },
    {
     "name": "stdout",
     "output_type": "stream",
     "text": [
      "Finished processing sample: ca823082-ede5-4bfd-8498-7e492f39bcd6.rna_seq.augmented_star_gene_counts, shape: (60660, 10)\n",
      "Reading file: C:\\Users\\PC\\Desktop\\gene-expression-cancer-prediction\\rna_seq\\25294e7a-1f15-411c-a2fd-93097e387db2\\6f72a3df-b4db-4f04-aa1f-644dca35d3ab.rna_seq.augmented_star_gene_counts.tsv\n",
      "Processing sample: 6f72a3df-b4db-4f04-aa1f-644dca35d3ab.rna_seq.augmented_star_gene_counts\n"
     ]
    },
    {
     "name": "stderr",
     "output_type": "stream",
     "text": [
      "C:\\Users\\PC\\AppData\\Local\\Temp\\ipykernel_4980\\1846137033.py:69: SettingWithCopyWarning: \n",
      "A value is trying to be set on a copy of a slice from a DataFrame.\n",
      "Try using .loc[row_indexer,col_indexer] = value instead\n",
      "\n",
      "See the caveats in the documentation: https://pandas.pydata.org/pandas-docs/stable/user_guide/indexing.html#returning-a-view-versus-a-copy\n",
      "  df_clean['sample_id'] = sample_id\n",
      "C:\\Users\\PC\\AppData\\Local\\Temp\\ipykernel_4980\\1846137033.py:69: SettingWithCopyWarning: \n",
      "A value is trying to be set on a copy of a slice from a DataFrame.\n",
      "Try using .loc[row_indexer,col_indexer] = value instead\n",
      "\n",
      "See the caveats in the documentation: https://pandas.pydata.org/pandas-docs/stable/user_guide/indexing.html#returning-a-view-versus-a-copy\n",
      "  df_clean['sample_id'] = sample_id\n"
     ]
    },
    {
     "name": "stdout",
     "output_type": "stream",
     "text": [
      "Finished processing sample: 6f72a3df-b4db-4f04-aa1f-644dca35d3ab.rna_seq.augmented_star_gene_counts, shape: (60660, 10)\n",
      "Reading file: C:\\Users\\PC\\Desktop\\gene-expression-cancer-prediction\\rna_seq\\25352bc8-c94c-4542-a7da-d4423adf72cf\\1e742dad-8e44-452a-bf2b-9b8ae1ed8bb2.rna_seq.augmented_star_gene_counts.tsv\n",
      "Processing sample: 1e742dad-8e44-452a-bf2b-9b8ae1ed8bb2.rna_seq.augmented_star_gene_counts\n",
      "Finished processing sample: 1e742dad-8e44-452a-bf2b-9b8ae1ed8bb2.rna_seq.augmented_star_gene_counts, shape: (60660, 10)\n",
      "Reading file: C:\\Users\\PC\\Desktop\\gene-expression-cancer-prediction\\rna_seq\\25c20f52-1031-4cd1-a9ed-4b2049b01a3e\\87568e73-7eac-4243-9d74-03efb86b6f29.rna_seq.augmented_star_gene_counts.tsv\n",
      "Processing sample: 87568e73-7eac-4243-9d74-03efb86b6f29.rna_seq.augmented_star_gene_counts\n"
     ]
    },
    {
     "name": "stderr",
     "output_type": "stream",
     "text": [
      "C:\\Users\\PC\\AppData\\Local\\Temp\\ipykernel_4980\\1846137033.py:69: SettingWithCopyWarning: \n",
      "A value is trying to be set on a copy of a slice from a DataFrame.\n",
      "Try using .loc[row_indexer,col_indexer] = value instead\n",
      "\n",
      "See the caveats in the documentation: https://pandas.pydata.org/pandas-docs/stable/user_guide/indexing.html#returning-a-view-versus-a-copy\n",
      "  df_clean['sample_id'] = sample_id\n"
     ]
    },
    {
     "name": "stdout",
     "output_type": "stream",
     "text": [
      "Finished processing sample: 87568e73-7eac-4243-9d74-03efb86b6f29.rna_seq.augmented_star_gene_counts, shape: (60660, 10)\n",
      "Reading file: C:\\Users\\PC\\Desktop\\gene-expression-cancer-prediction\\rna_seq\\263123b0-ec68-47cd-96dd-4f0795503d89\\fb49b14e-d40f-4270-98b3-458ce60f2cde.rna_seq.augmented_star_gene_counts.tsv\n",
      "Processing sample: fb49b14e-d40f-4270-98b3-458ce60f2cde.rna_seq.augmented_star_gene_counts\n"
     ]
    },
    {
     "name": "stderr",
     "output_type": "stream",
     "text": [
      "C:\\Users\\PC\\AppData\\Local\\Temp\\ipykernel_4980\\1846137033.py:69: SettingWithCopyWarning: \n",
      "A value is trying to be set on a copy of a slice from a DataFrame.\n",
      "Try using .loc[row_indexer,col_indexer] = value instead\n",
      "\n",
      "See the caveats in the documentation: https://pandas.pydata.org/pandas-docs/stable/user_guide/indexing.html#returning-a-view-versus-a-copy\n",
      "  df_clean['sample_id'] = sample_id\n",
      "C:\\Users\\PC\\AppData\\Local\\Temp\\ipykernel_4980\\1846137033.py:69: SettingWithCopyWarning: \n",
      "A value is trying to be set on a copy of a slice from a DataFrame.\n",
      "Try using .loc[row_indexer,col_indexer] = value instead\n",
      "\n",
      "See the caveats in the documentation: https://pandas.pydata.org/pandas-docs/stable/user_guide/indexing.html#returning-a-view-versus-a-copy\n",
      "  df_clean['sample_id'] = sample_id\n"
     ]
    },
    {
     "name": "stdout",
     "output_type": "stream",
     "text": [
      "Finished processing sample: fb49b14e-d40f-4270-98b3-458ce60f2cde.rna_seq.augmented_star_gene_counts, shape: (60660, 10)\n",
      "Reading file: C:\\Users\\PC\\Desktop\\gene-expression-cancer-prediction\\rna_seq\\26415014-f0fe-4b7c-b9dc-2a6f85d47a5e\\231b4ae3-8543-47f4-a9f6-0ac26210b26d.rna_seq.augmented_star_gene_counts.tsv\n",
      "Processing sample: 231b4ae3-8543-47f4-a9f6-0ac26210b26d.rna_seq.augmented_star_gene_counts\n",
      "Finished processing sample: 231b4ae3-8543-47f4-a9f6-0ac26210b26d.rna_seq.augmented_star_gene_counts, shape: (60660, 10)\n",
      "Reading file: C:\\Users\\PC\\Desktop\\gene-expression-cancer-prediction\\rna_seq\\26466526-2d6e-4869-a06a-c33344e5fab2\\586df577-513d-4d43-ac47-89c52f322d30.rna_seq.augmented_star_gene_counts.tsv\n",
      "Processing sample: 586df577-513d-4d43-ac47-89c52f322d30.rna_seq.augmented_star_gene_counts\n"
     ]
    },
    {
     "name": "stderr",
     "output_type": "stream",
     "text": [
      "C:\\Users\\PC\\AppData\\Local\\Temp\\ipykernel_4980\\1846137033.py:69: SettingWithCopyWarning: \n",
      "A value is trying to be set on a copy of a slice from a DataFrame.\n",
      "Try using .loc[row_indexer,col_indexer] = value instead\n",
      "\n",
      "See the caveats in the documentation: https://pandas.pydata.org/pandas-docs/stable/user_guide/indexing.html#returning-a-view-versus-a-copy\n",
      "  df_clean['sample_id'] = sample_id\n"
     ]
    },
    {
     "name": "stdout",
     "output_type": "stream",
     "text": [
      "Finished processing sample: 586df577-513d-4d43-ac47-89c52f322d30.rna_seq.augmented_star_gene_counts, shape: (60660, 10)\n",
      "Reading file: C:\\Users\\PC\\Desktop\\gene-expression-cancer-prediction\\rna_seq\\268eed55-913e-470b-8940-68daae0b21aa\\42b32308-71f1-4f21-935f-7e4e5751e332.rna_seq.augmented_star_gene_counts.tsv\n",
      "Processing sample: 42b32308-71f1-4f21-935f-7e4e5751e332.rna_seq.augmented_star_gene_counts\n"
     ]
    },
    {
     "name": "stderr",
     "output_type": "stream",
     "text": [
      "C:\\Users\\PC\\AppData\\Local\\Temp\\ipykernel_4980\\1846137033.py:69: SettingWithCopyWarning: \n",
      "A value is trying to be set on a copy of a slice from a DataFrame.\n",
      "Try using .loc[row_indexer,col_indexer] = value instead\n",
      "\n",
      "See the caveats in the documentation: https://pandas.pydata.org/pandas-docs/stable/user_guide/indexing.html#returning-a-view-versus-a-copy\n",
      "  df_clean['sample_id'] = sample_id\n",
      "C:\\Users\\PC\\AppData\\Local\\Temp\\ipykernel_4980\\1846137033.py:69: SettingWithCopyWarning: \n",
      "A value is trying to be set on a copy of a slice from a DataFrame.\n",
      "Try using .loc[row_indexer,col_indexer] = value instead\n",
      "\n",
      "See the caveats in the documentation: https://pandas.pydata.org/pandas-docs/stable/user_guide/indexing.html#returning-a-view-versus-a-copy\n",
      "  df_clean['sample_id'] = sample_id\n"
     ]
    },
    {
     "name": "stdout",
     "output_type": "stream",
     "text": [
      "Finished processing sample: 42b32308-71f1-4f21-935f-7e4e5751e332.rna_seq.augmented_star_gene_counts, shape: (60660, 10)\n",
      "Reading file: C:\\Users\\PC\\Desktop\\gene-expression-cancer-prediction\\rna_seq\\269215ae-9040-4ac6-9d3d-017c0cbb2811\\eb805bd1-e1d5-47b1-8bbd-31f91fcee225.rna_seq.augmented_star_gene_counts.tsv\n",
      "Processing sample: eb805bd1-e1d5-47b1-8bbd-31f91fcee225.rna_seq.augmented_star_gene_counts\n",
      "Finished processing sample: eb805bd1-e1d5-47b1-8bbd-31f91fcee225.rna_seq.augmented_star_gene_counts, shape: (60660, 10)\n",
      "Reading file: C:\\Users\\PC\\Desktop\\gene-expression-cancer-prediction\\rna_seq\\26caf8b1-0202-4656-9bb9-4a80ffc94118\\1516c4ec-98c0-41dc-9ad1-86cc05305fc1.rna_seq.augmented_star_gene_counts.tsv\n",
      "Processing sample: 1516c4ec-98c0-41dc-9ad1-86cc05305fc1.rna_seq.augmented_star_gene_counts\n"
     ]
    },
    {
     "name": "stderr",
     "output_type": "stream",
     "text": [
      "C:\\Users\\PC\\AppData\\Local\\Temp\\ipykernel_4980\\1846137033.py:69: SettingWithCopyWarning: \n",
      "A value is trying to be set on a copy of a slice from a DataFrame.\n",
      "Try using .loc[row_indexer,col_indexer] = value instead\n",
      "\n",
      "See the caveats in the documentation: https://pandas.pydata.org/pandas-docs/stable/user_guide/indexing.html#returning-a-view-versus-a-copy\n",
      "  df_clean['sample_id'] = sample_id\n",
      "C:\\Users\\PC\\AppData\\Local\\Temp\\ipykernel_4980\\1846137033.py:69: SettingWithCopyWarning: \n",
      "A value is trying to be set on a copy of a slice from a DataFrame.\n",
      "Try using .loc[row_indexer,col_indexer] = value instead\n",
      "\n",
      "See the caveats in the documentation: https://pandas.pydata.org/pandas-docs/stable/user_guide/indexing.html#returning-a-view-versus-a-copy\n",
      "  df_clean['sample_id'] = sample_id\n"
     ]
    },
    {
     "name": "stdout",
     "output_type": "stream",
     "text": [
      "Finished processing sample: 1516c4ec-98c0-41dc-9ad1-86cc05305fc1.rna_seq.augmented_star_gene_counts, shape: (60660, 10)\n",
      "Reading file: C:\\Users\\PC\\Desktop\\gene-expression-cancer-prediction\\rna_seq\\2700aca8-b120-4655-87ab-a9f8f7f633db\\8c92ecf0-5d81-48c3-ad9f-9adf51860962.rna_seq.augmented_star_gene_counts.tsv\n",
      "Processing sample: 8c92ecf0-5d81-48c3-ad9f-9adf51860962.rna_seq.augmented_star_gene_counts\n",
      "Finished processing sample: 8c92ecf0-5d81-48c3-ad9f-9adf51860962.rna_seq.augmented_star_gene_counts, shape: (60660, 10)\n",
      "Reading file: C:\\Users\\PC\\Desktop\\gene-expression-cancer-prediction\\rna_seq\\270356b5-f258-49b3-a850-16ea88ec6c76\\5c0aa745-6bad-4f9c-901b-5f0a0277b12d.rna_seq.augmented_star_gene_counts.tsv\n",
      "Processing sample: 5c0aa745-6bad-4f9c-901b-5f0a0277b12d.rna_seq.augmented_star_gene_counts\n"
     ]
    },
    {
     "name": "stderr",
     "output_type": "stream",
     "text": [
      "C:\\Users\\PC\\AppData\\Local\\Temp\\ipykernel_4980\\1846137033.py:69: SettingWithCopyWarning: \n",
      "A value is trying to be set on a copy of a slice from a DataFrame.\n",
      "Try using .loc[row_indexer,col_indexer] = value instead\n",
      "\n",
      "See the caveats in the documentation: https://pandas.pydata.org/pandas-docs/stable/user_guide/indexing.html#returning-a-view-versus-a-copy\n",
      "  df_clean['sample_id'] = sample_id\n"
     ]
    },
    {
     "name": "stdout",
     "output_type": "stream",
     "text": [
      "Finished processing sample: 5c0aa745-6bad-4f9c-901b-5f0a0277b12d.rna_seq.augmented_star_gene_counts, shape: (60660, 10)\n",
      "Reading file: C:\\Users\\PC\\Desktop\\gene-expression-cancer-prediction\\rna_seq\\27513ce4-3807-481f-abcb-c59774a90519\\e682e28e-0611-4e92-899c-637fde17423d.rna_seq.augmented_star_gene_counts.tsv\n",
      "Processing sample: e682e28e-0611-4e92-899c-637fde17423d.rna_seq.augmented_star_gene_counts\n"
     ]
    },
    {
     "name": "stderr",
     "output_type": "stream",
     "text": [
      "C:\\Users\\PC\\AppData\\Local\\Temp\\ipykernel_4980\\1846137033.py:69: SettingWithCopyWarning: \n",
      "A value is trying to be set on a copy of a slice from a DataFrame.\n",
      "Try using .loc[row_indexer,col_indexer] = value instead\n",
      "\n",
      "See the caveats in the documentation: https://pandas.pydata.org/pandas-docs/stable/user_guide/indexing.html#returning-a-view-versus-a-copy\n",
      "  df_clean['sample_id'] = sample_id\n",
      "C:\\Users\\PC\\AppData\\Local\\Temp\\ipykernel_4980\\1846137033.py:69: SettingWithCopyWarning: \n",
      "A value is trying to be set on a copy of a slice from a DataFrame.\n",
      "Try using .loc[row_indexer,col_indexer] = value instead\n",
      "\n",
      "See the caveats in the documentation: https://pandas.pydata.org/pandas-docs/stable/user_guide/indexing.html#returning-a-view-versus-a-copy\n",
      "  df_clean['sample_id'] = sample_id\n"
     ]
    },
    {
     "name": "stdout",
     "output_type": "stream",
     "text": [
      "Finished processing sample: e682e28e-0611-4e92-899c-637fde17423d.rna_seq.augmented_star_gene_counts, shape: (60660, 10)\n",
      "Reading file: C:\\Users\\PC\\Desktop\\gene-expression-cancer-prediction\\rna_seq\\280141da-fd54-4901-bc15-5d106c56fb23\\aad82145-5742-4ef6-9de3-2c57e84642fc.rna_seq.augmented_star_gene_counts.tsv\n",
      "Processing sample: aad82145-5742-4ef6-9de3-2c57e84642fc.rna_seq.augmented_star_gene_counts\n",
      "Finished processing sample: aad82145-5742-4ef6-9de3-2c57e84642fc.rna_seq.augmented_star_gene_counts, shape: (60660, 10)\n",
      "Reading file: C:\\Users\\PC\\Desktop\\gene-expression-cancer-prediction\\rna_seq\\287a036d-5b2d-4faf-93a0-cf0be006fa6b\\52ff2501-c6d1-4469-a2b7-c458d98cfc8e.rna_seq.augmented_star_gene_counts.tsv\n",
      "Processing sample: 52ff2501-c6d1-4469-a2b7-c458d98cfc8e.rna_seq.augmented_star_gene_counts\n"
     ]
    },
    {
     "name": "stderr",
     "output_type": "stream",
     "text": [
      "C:\\Users\\PC\\AppData\\Local\\Temp\\ipykernel_4980\\1846137033.py:69: SettingWithCopyWarning: \n",
      "A value is trying to be set on a copy of a slice from a DataFrame.\n",
      "Try using .loc[row_indexer,col_indexer] = value instead\n",
      "\n",
      "See the caveats in the documentation: https://pandas.pydata.org/pandas-docs/stable/user_guide/indexing.html#returning-a-view-versus-a-copy\n",
      "  df_clean['sample_id'] = sample_id\n"
     ]
    },
    {
     "name": "stdout",
     "output_type": "stream",
     "text": [
      "Finished processing sample: 52ff2501-c6d1-4469-a2b7-c458d98cfc8e.rna_seq.augmented_star_gene_counts, shape: (60660, 10)\n",
      "Reading file: C:\\Users\\PC\\Desktop\\gene-expression-cancer-prediction\\rna_seq\\28aa7b6c-d5ec-4aa1-9c39-70d571efe6fb\\8408e231-e0d2-4650-b269-9a7f7ff4a597.rna_seq.augmented_star_gene_counts.tsv\n",
      "Processing sample: 8408e231-e0d2-4650-b269-9a7f7ff4a597.rna_seq.augmented_star_gene_counts\n"
     ]
    },
    {
     "name": "stderr",
     "output_type": "stream",
     "text": [
      "C:\\Users\\PC\\AppData\\Local\\Temp\\ipykernel_4980\\1846137033.py:69: SettingWithCopyWarning: \n",
      "A value is trying to be set on a copy of a slice from a DataFrame.\n",
      "Try using .loc[row_indexer,col_indexer] = value instead\n",
      "\n",
      "See the caveats in the documentation: https://pandas.pydata.org/pandas-docs/stable/user_guide/indexing.html#returning-a-view-versus-a-copy\n",
      "  df_clean['sample_id'] = sample_id\n",
      "C:\\Users\\PC\\AppData\\Local\\Temp\\ipykernel_4980\\1846137033.py:69: SettingWithCopyWarning: \n",
      "A value is trying to be set on a copy of a slice from a DataFrame.\n",
      "Try using .loc[row_indexer,col_indexer] = value instead\n",
      "\n",
      "See the caveats in the documentation: https://pandas.pydata.org/pandas-docs/stable/user_guide/indexing.html#returning-a-view-versus-a-copy\n",
      "  df_clean['sample_id'] = sample_id\n"
     ]
    },
    {
     "name": "stdout",
     "output_type": "stream",
     "text": [
      "Finished processing sample: 8408e231-e0d2-4650-b269-9a7f7ff4a597.rna_seq.augmented_star_gene_counts, shape: (60660, 10)\n",
      "Reading file: C:\\Users\\PC\\Desktop\\gene-expression-cancer-prediction\\rna_seq\\28b84c2b-6524-46ee-9d1e-24e7d6379af4\\b55e91d5-8675-4f6e-b9f0-cef4c82b7323.rna_seq.augmented_star_gene_counts.tsv\n",
      "Processing sample: b55e91d5-8675-4f6e-b9f0-cef4c82b7323.rna_seq.augmented_star_gene_counts\n",
      "Finished processing sample: b55e91d5-8675-4f6e-b9f0-cef4c82b7323.rna_seq.augmented_star_gene_counts, shape: (60660, 10)\n",
      "Reading file: C:\\Users\\PC\\Desktop\\gene-expression-cancer-prediction\\rna_seq\\28c03f8f-7f7a-4a53-a840-db0f4052ed26\\2d4c2aed-34ae-4232-9b42-29b1a821f791.rna_seq.augmented_star_gene_counts.tsv\n",
      "Processing sample: 2d4c2aed-34ae-4232-9b42-29b1a821f791.rna_seq.augmented_star_gene_counts\n"
     ]
    },
    {
     "name": "stderr",
     "output_type": "stream",
     "text": [
      "C:\\Users\\PC\\AppData\\Local\\Temp\\ipykernel_4980\\1846137033.py:69: SettingWithCopyWarning: \n",
      "A value is trying to be set on a copy of a slice from a DataFrame.\n",
      "Try using .loc[row_indexer,col_indexer] = value instead\n",
      "\n",
      "See the caveats in the documentation: https://pandas.pydata.org/pandas-docs/stable/user_guide/indexing.html#returning-a-view-versus-a-copy\n",
      "  df_clean['sample_id'] = sample_id\n",
      "C:\\Users\\PC\\AppData\\Local\\Temp\\ipykernel_4980\\1846137033.py:69: SettingWithCopyWarning: \n",
      "A value is trying to be set on a copy of a slice from a DataFrame.\n",
      "Try using .loc[row_indexer,col_indexer] = value instead\n",
      "\n",
      "See the caveats in the documentation: https://pandas.pydata.org/pandas-docs/stable/user_guide/indexing.html#returning-a-view-versus-a-copy\n",
      "  df_clean['sample_id'] = sample_id\n"
     ]
    },
    {
     "name": "stdout",
     "output_type": "stream",
     "text": [
      "Finished processing sample: 2d4c2aed-34ae-4232-9b42-29b1a821f791.rna_seq.augmented_star_gene_counts, shape: (60660, 10)\n",
      "Reading file: C:\\Users\\PC\\Desktop\\gene-expression-cancer-prediction\\rna_seq\\28ecd88f-6249-425c-99e1-9055989feff8\\768e0380-9183-4600-849b-0d315ba502fc.rna_seq.augmented_star_gene_counts.tsv\n",
      "Processing sample: 768e0380-9183-4600-849b-0d315ba502fc.rna_seq.augmented_star_gene_counts\n",
      "Finished processing sample: 768e0380-9183-4600-849b-0d315ba502fc.rna_seq.augmented_star_gene_counts, shape: (60660, 10)\n",
      "Reading file: C:\\Users\\PC\\Desktop\\gene-expression-cancer-prediction\\rna_seq\\2a09e101-9e01-45ec-9b02-d806f4cd7469\\ba6e6579-8858-467a-9d0b-b8df38cd5d62.rna_seq.augmented_star_gene_counts.tsv\n",
      "Processing sample: ba6e6579-8858-467a-9d0b-b8df38cd5d62.rna_seq.augmented_star_gene_counts\n"
     ]
    },
    {
     "name": "stderr",
     "output_type": "stream",
     "text": [
      "C:\\Users\\PC\\AppData\\Local\\Temp\\ipykernel_4980\\1846137033.py:69: SettingWithCopyWarning: \n",
      "A value is trying to be set on a copy of a slice from a DataFrame.\n",
      "Try using .loc[row_indexer,col_indexer] = value instead\n",
      "\n",
      "See the caveats in the documentation: https://pandas.pydata.org/pandas-docs/stable/user_guide/indexing.html#returning-a-view-versus-a-copy\n",
      "  df_clean['sample_id'] = sample_id\n",
      "C:\\Users\\PC\\AppData\\Local\\Temp\\ipykernel_4980\\1846137033.py:69: SettingWithCopyWarning: \n",
      "A value is trying to be set on a copy of a slice from a DataFrame.\n",
      "Try using .loc[row_indexer,col_indexer] = value instead\n",
      "\n",
      "See the caveats in the documentation: https://pandas.pydata.org/pandas-docs/stable/user_guide/indexing.html#returning-a-view-versus-a-copy\n",
      "  df_clean['sample_id'] = sample_id\n"
     ]
    },
    {
     "name": "stdout",
     "output_type": "stream",
     "text": [
      "Finished processing sample: ba6e6579-8858-467a-9d0b-b8df38cd5d62.rna_seq.augmented_star_gene_counts, shape: (60660, 10)\n",
      "Reading file: C:\\Users\\PC\\Desktop\\gene-expression-cancer-prediction\\rna_seq\\2a3dc057-3c00-405e-a18f-23e8c43494d4\\6c40b30a-d103-4397-997f-9b2bda66793a.rna_seq.augmented_star_gene_counts.tsv\n",
      "Processing sample: 6c40b30a-d103-4397-997f-9b2bda66793a.rna_seq.augmented_star_gene_counts\n",
      "Finished processing sample: 6c40b30a-d103-4397-997f-9b2bda66793a.rna_seq.augmented_star_gene_counts, shape: (60660, 10)\n",
      "Reading file: C:\\Users\\PC\\Desktop\\gene-expression-cancer-prediction\\rna_seq\\2a73a18d-eca4-475b-9c37-283feb92915f\\553e13f9-e00e-4b05-b934-c3837ad4d02d.rna_seq.augmented_star_gene_counts.tsv\n",
      "Processing sample: 553e13f9-e00e-4b05-b934-c3837ad4d02d.rna_seq.augmented_star_gene_counts\n"
     ]
    },
    {
     "name": "stderr",
     "output_type": "stream",
     "text": [
      "C:\\Users\\PC\\AppData\\Local\\Temp\\ipykernel_4980\\1846137033.py:69: SettingWithCopyWarning: \n",
      "A value is trying to be set on a copy of a slice from a DataFrame.\n",
      "Try using .loc[row_indexer,col_indexer] = value instead\n",
      "\n",
      "See the caveats in the documentation: https://pandas.pydata.org/pandas-docs/stable/user_guide/indexing.html#returning-a-view-versus-a-copy\n",
      "  df_clean['sample_id'] = sample_id\n",
      "C:\\Users\\PC\\AppData\\Local\\Temp\\ipykernel_4980\\1846137033.py:69: SettingWithCopyWarning: \n",
      "A value is trying to be set on a copy of a slice from a DataFrame.\n",
      "Try using .loc[row_indexer,col_indexer] = value instead\n",
      "\n",
      "See the caveats in the documentation: https://pandas.pydata.org/pandas-docs/stable/user_guide/indexing.html#returning-a-view-versus-a-copy\n",
      "  df_clean['sample_id'] = sample_id\n"
     ]
    },
    {
     "name": "stdout",
     "output_type": "stream",
     "text": [
      "Finished processing sample: 553e13f9-e00e-4b05-b934-c3837ad4d02d.rna_seq.augmented_star_gene_counts, shape: (60660, 10)\n",
      "Reading file: C:\\Users\\PC\\Desktop\\gene-expression-cancer-prediction\\rna_seq\\2a73e390-7415-486e-8d15-d9ea6ede09ba\\5b875575-24fd-40c1-910c-38775c73004e.rna_seq.augmented_star_gene_counts.tsv\n",
      "Processing sample: 5b875575-24fd-40c1-910c-38775c73004e.rna_seq.augmented_star_gene_counts\n",
      "Finished processing sample: 5b875575-24fd-40c1-910c-38775c73004e.rna_seq.augmented_star_gene_counts, shape: (60660, 10)\n",
      "Reading file: C:\\Users\\PC\\Desktop\\gene-expression-cancer-prediction\\rna_seq\\2aa3a845-cce2-4fe2-92f7-1fece9e619d5\\3fab2674-2e00-4748-9d33-9e52631cebfd.rna_seq.augmented_star_gene_counts.tsv\n",
      "Processing sample: 3fab2674-2e00-4748-9d33-9e52631cebfd.rna_seq.augmented_star_gene_counts\n"
     ]
    },
    {
     "name": "stderr",
     "output_type": "stream",
     "text": [
      "C:\\Users\\PC\\AppData\\Local\\Temp\\ipykernel_4980\\1846137033.py:69: SettingWithCopyWarning: \n",
      "A value is trying to be set on a copy of a slice from a DataFrame.\n",
      "Try using .loc[row_indexer,col_indexer] = value instead\n",
      "\n",
      "See the caveats in the documentation: https://pandas.pydata.org/pandas-docs/stable/user_guide/indexing.html#returning-a-view-versus-a-copy\n",
      "  df_clean['sample_id'] = sample_id\n",
      "C:\\Users\\PC\\AppData\\Local\\Temp\\ipykernel_4980\\1846137033.py:69: SettingWithCopyWarning: \n",
      "A value is trying to be set on a copy of a slice from a DataFrame.\n",
      "Try using .loc[row_indexer,col_indexer] = value instead\n",
      "\n",
      "See the caveats in the documentation: https://pandas.pydata.org/pandas-docs/stable/user_guide/indexing.html#returning-a-view-versus-a-copy\n",
      "  df_clean['sample_id'] = sample_id\n"
     ]
    },
    {
     "name": "stdout",
     "output_type": "stream",
     "text": [
      "Finished processing sample: 3fab2674-2e00-4748-9d33-9e52631cebfd.rna_seq.augmented_star_gene_counts, shape: (60660, 10)\n",
      "Reading file: C:\\Users\\PC\\Desktop\\gene-expression-cancer-prediction\\rna_seq\\2abc5233-1389-4efb-ba21-de05251ab25a\\b31c9e1c-be79-4264-81a3-40b67f1f0bde.rna_seq.augmented_star_gene_counts.tsv\n",
      "Processing sample: b31c9e1c-be79-4264-81a3-40b67f1f0bde.rna_seq.augmented_star_gene_counts\n",
      "Finished processing sample: b31c9e1c-be79-4264-81a3-40b67f1f0bde.rna_seq.augmented_star_gene_counts, shape: (60660, 10)\n",
      "Reading file: C:\\Users\\PC\\Desktop\\gene-expression-cancer-prediction\\rna_seq\\2c3000b7-4db9-4f00-a82a-ca6802806631\\db70cd04-821e-43a7-bac1-815a30172be1.rna_seq.augmented_star_gene_counts.tsv\n",
      "Processing sample: db70cd04-821e-43a7-bac1-815a30172be1.rna_seq.augmented_star_gene_counts\n"
     ]
    },
    {
     "name": "stderr",
     "output_type": "stream",
     "text": [
      "C:\\Users\\PC\\AppData\\Local\\Temp\\ipykernel_4980\\1846137033.py:69: SettingWithCopyWarning: \n",
      "A value is trying to be set on a copy of a slice from a DataFrame.\n",
      "Try using .loc[row_indexer,col_indexer] = value instead\n",
      "\n",
      "See the caveats in the documentation: https://pandas.pydata.org/pandas-docs/stable/user_guide/indexing.html#returning-a-view-versus-a-copy\n",
      "  df_clean['sample_id'] = sample_id\n"
     ]
    },
    {
     "name": "stdout",
     "output_type": "stream",
     "text": [
      "Finished processing sample: db70cd04-821e-43a7-bac1-815a30172be1.rna_seq.augmented_star_gene_counts, shape: (60660, 10)\n",
      "Reading file: C:\\Users\\PC\\Desktop\\gene-expression-cancer-prediction\\rna_seq\\2c74854f-4afe-48c3-9c81-d64634c14677\\4fb219d8-519a-4ce9-a3f1-28fae295424f.rna_seq.augmented_star_gene_counts.tsv\n",
      "Processing sample: 4fb219d8-519a-4ce9-a3f1-28fae295424f.rna_seq.augmented_star_gene_counts\n"
     ]
    },
    {
     "name": "stderr",
     "output_type": "stream",
     "text": [
      "C:\\Users\\PC\\AppData\\Local\\Temp\\ipykernel_4980\\1846137033.py:69: SettingWithCopyWarning: \n",
      "A value is trying to be set on a copy of a slice from a DataFrame.\n",
      "Try using .loc[row_indexer,col_indexer] = value instead\n",
      "\n",
      "See the caveats in the documentation: https://pandas.pydata.org/pandas-docs/stable/user_guide/indexing.html#returning-a-view-versus-a-copy\n",
      "  df_clean['sample_id'] = sample_id\n",
      "C:\\Users\\PC\\AppData\\Local\\Temp\\ipykernel_4980\\1846137033.py:69: SettingWithCopyWarning: \n",
      "A value is trying to be set on a copy of a slice from a DataFrame.\n",
      "Try using .loc[row_indexer,col_indexer] = value instead\n",
      "\n",
      "See the caveats in the documentation: https://pandas.pydata.org/pandas-docs/stable/user_guide/indexing.html#returning-a-view-versus-a-copy\n",
      "  df_clean['sample_id'] = sample_id\n"
     ]
    },
    {
     "name": "stdout",
     "output_type": "stream",
     "text": [
      "Finished processing sample: 4fb219d8-519a-4ce9-a3f1-28fae295424f.rna_seq.augmented_star_gene_counts, shape: (60660, 10)\n",
      "Reading file: C:\\Users\\PC\\Desktop\\gene-expression-cancer-prediction\\rna_seq\\2cd221ee-4d29-4f40-ab4c-780cc9045c5a\\6a182962-93fc-482f-aa53-a14d7574763a.rna_seq.augmented_star_gene_counts.tsv\n",
      "Processing sample: 6a182962-93fc-482f-aa53-a14d7574763a.rna_seq.augmented_star_gene_counts\n",
      "Finished processing sample: 6a182962-93fc-482f-aa53-a14d7574763a.rna_seq.augmented_star_gene_counts, shape: (60660, 10)\n",
      "Reading file: C:\\Users\\PC\\Desktop\\gene-expression-cancer-prediction\\rna_seq\\2ce2b916-b768-424c-a57b-96ab4a77276e\\b85209a5-128a-4aff-83d4-1ab336d82b95.rna_seq.augmented_star_gene_counts.tsv\n",
      "Processing sample: b85209a5-128a-4aff-83d4-1ab336d82b95.rna_seq.augmented_star_gene_counts\n"
     ]
    },
    {
     "name": "stderr",
     "output_type": "stream",
     "text": [
      "C:\\Users\\PC\\AppData\\Local\\Temp\\ipykernel_4980\\1846137033.py:69: SettingWithCopyWarning: \n",
      "A value is trying to be set on a copy of a slice from a DataFrame.\n",
      "Try using .loc[row_indexer,col_indexer] = value instead\n",
      "\n",
      "See the caveats in the documentation: https://pandas.pydata.org/pandas-docs/stable/user_guide/indexing.html#returning-a-view-versus-a-copy\n",
      "  df_clean['sample_id'] = sample_id\n",
      "C:\\Users\\PC\\AppData\\Local\\Temp\\ipykernel_4980\\1846137033.py:69: SettingWithCopyWarning: \n",
      "A value is trying to be set on a copy of a slice from a DataFrame.\n",
      "Try using .loc[row_indexer,col_indexer] = value instead\n",
      "\n",
      "See the caveats in the documentation: https://pandas.pydata.org/pandas-docs/stable/user_guide/indexing.html#returning-a-view-versus-a-copy\n",
      "  df_clean['sample_id'] = sample_id\n"
     ]
    },
    {
     "name": "stdout",
     "output_type": "stream",
     "text": [
      "Finished processing sample: b85209a5-128a-4aff-83d4-1ab336d82b95.rna_seq.augmented_star_gene_counts, shape: (60660, 10)\n",
      "Reading file: C:\\Users\\PC\\Desktop\\gene-expression-cancer-prediction\\rna_seq\\2d5b0962-b5c4-4482-9f28-47e4dcdb6df6\\602e3d24-a45d-4fe4-9b70-a679d93f470d.rna_seq.augmented_star_gene_counts.tsv\n",
      "Processing sample: 602e3d24-a45d-4fe4-9b70-a679d93f470d.rna_seq.augmented_star_gene_counts\n",
      "Finished processing sample: 602e3d24-a45d-4fe4-9b70-a679d93f470d.rna_seq.augmented_star_gene_counts, shape: (60660, 10)\n",
      "Reading file: C:\\Users\\PC\\Desktop\\gene-expression-cancer-prediction\\rna_seq\\2dc5eb24-fb84-455a-ae05-3b58ad2fc284\\54aca121-5b70-4833-84ac-c7506a57bd02.rna_seq.augmented_star_gene_counts.tsv\n",
      "Processing sample: 54aca121-5b70-4833-84ac-c7506a57bd02.rna_seq.augmented_star_gene_counts\n"
     ]
    },
    {
     "name": "stderr",
     "output_type": "stream",
     "text": [
      "C:\\Users\\PC\\AppData\\Local\\Temp\\ipykernel_4980\\1846137033.py:69: SettingWithCopyWarning: \n",
      "A value is trying to be set on a copy of a slice from a DataFrame.\n",
      "Try using .loc[row_indexer,col_indexer] = value instead\n",
      "\n",
      "See the caveats in the documentation: https://pandas.pydata.org/pandas-docs/stable/user_guide/indexing.html#returning-a-view-versus-a-copy\n",
      "  df_clean['sample_id'] = sample_id\n"
     ]
    },
    {
     "name": "stdout",
     "output_type": "stream",
     "text": [
      "Finished processing sample: 54aca121-5b70-4833-84ac-c7506a57bd02.rna_seq.augmented_star_gene_counts, shape: (60660, 10)\n",
      "Reading file: C:\\Users\\PC\\Desktop\\gene-expression-cancer-prediction\\rna_seq\\2e60bad2-2dd2-4dc3-aa45-dfc36ef4884b\\e1ef10f3-a1e2-4391-bfec-ac6b0231ae5d.rna_seq.augmented_star_gene_counts.tsv\n",
      "Processing sample: e1ef10f3-a1e2-4391-bfec-ac6b0231ae5d.rna_seq.augmented_star_gene_counts\n"
     ]
    },
    {
     "name": "stderr",
     "output_type": "stream",
     "text": [
      "C:\\Users\\PC\\AppData\\Local\\Temp\\ipykernel_4980\\1846137033.py:69: SettingWithCopyWarning: \n",
      "A value is trying to be set on a copy of a slice from a DataFrame.\n",
      "Try using .loc[row_indexer,col_indexer] = value instead\n",
      "\n",
      "See the caveats in the documentation: https://pandas.pydata.org/pandas-docs/stable/user_guide/indexing.html#returning-a-view-versus-a-copy\n",
      "  df_clean['sample_id'] = sample_id\n"
     ]
    },
    {
     "name": "stdout",
     "output_type": "stream",
     "text": [
      "Finished processing sample: e1ef10f3-a1e2-4391-bfec-ac6b0231ae5d.rna_seq.augmented_star_gene_counts, shape: (60660, 10)\n",
      "Reading file: C:\\Users\\PC\\Desktop\\gene-expression-cancer-prediction\\rna_seq\\2e6baa15-85d7-43b0-8a89-a0dc169ae16a\\c62cda08-6134-47c6-8796-9da0788d9717.rna_seq.augmented_star_gene_counts.tsv\n",
      "Processing sample: c62cda08-6134-47c6-8796-9da0788d9717.rna_seq.augmented_star_gene_counts\n"
     ]
    },
    {
     "name": "stderr",
     "output_type": "stream",
     "text": [
      "C:\\Users\\PC\\AppData\\Local\\Temp\\ipykernel_4980\\1846137033.py:69: SettingWithCopyWarning: \n",
      "A value is trying to be set on a copy of a slice from a DataFrame.\n",
      "Try using .loc[row_indexer,col_indexer] = value instead\n",
      "\n",
      "See the caveats in the documentation: https://pandas.pydata.org/pandas-docs/stable/user_guide/indexing.html#returning-a-view-versus-a-copy\n",
      "  df_clean['sample_id'] = sample_id\n",
      "C:\\Users\\PC\\AppData\\Local\\Temp\\ipykernel_4980\\1846137033.py:69: SettingWithCopyWarning: \n",
      "A value is trying to be set on a copy of a slice from a DataFrame.\n",
      "Try using .loc[row_indexer,col_indexer] = value instead\n",
      "\n",
      "See the caveats in the documentation: https://pandas.pydata.org/pandas-docs/stable/user_guide/indexing.html#returning-a-view-versus-a-copy\n",
      "  df_clean['sample_id'] = sample_id\n"
     ]
    },
    {
     "name": "stdout",
     "output_type": "stream",
     "text": [
      "Finished processing sample: c62cda08-6134-47c6-8796-9da0788d9717.rna_seq.augmented_star_gene_counts, shape: (60660, 10)\n",
      "Reading file: C:\\Users\\PC\\Desktop\\gene-expression-cancer-prediction\\rna_seq\\2e7a0005-4efb-4121-91d9-c2ca2cb5201d\\f9a27067-7485-4c9f-986b-878aa6cd132c.rna_seq.augmented_star_gene_counts.tsv\n",
      "Processing sample: f9a27067-7485-4c9f-986b-878aa6cd132c.rna_seq.augmented_star_gene_counts\n",
      "Finished processing sample: f9a27067-7485-4c9f-986b-878aa6cd132c.rna_seq.augmented_star_gene_counts, shape: (60660, 10)\n",
      "Reading file: C:\\Users\\PC\\Desktop\\gene-expression-cancer-prediction\\rna_seq\\2e9902c2-e171-465e-ae13-45c413f7515f\\95bb2613-9194-434c-801b-fd18aa183f6a.rna_seq.augmented_star_gene_counts.tsv\n",
      "Processing sample: 95bb2613-9194-434c-801b-fd18aa183f6a.rna_seq.augmented_star_gene_counts\n"
     ]
    },
    {
     "name": "stderr",
     "output_type": "stream",
     "text": [
      "C:\\Users\\PC\\AppData\\Local\\Temp\\ipykernel_4980\\1846137033.py:69: SettingWithCopyWarning: \n",
      "A value is trying to be set on a copy of a slice from a DataFrame.\n",
      "Try using .loc[row_indexer,col_indexer] = value instead\n",
      "\n",
      "See the caveats in the documentation: https://pandas.pydata.org/pandas-docs/stable/user_guide/indexing.html#returning-a-view-versus-a-copy\n",
      "  df_clean['sample_id'] = sample_id\n",
      "C:\\Users\\PC\\AppData\\Local\\Temp\\ipykernel_4980\\1846137033.py:69: SettingWithCopyWarning: \n",
      "A value is trying to be set on a copy of a slice from a DataFrame.\n",
      "Try using .loc[row_indexer,col_indexer] = value instead\n",
      "\n",
      "See the caveats in the documentation: https://pandas.pydata.org/pandas-docs/stable/user_guide/indexing.html#returning-a-view-versus-a-copy\n",
      "  df_clean['sample_id'] = sample_id\n"
     ]
    },
    {
     "name": "stdout",
     "output_type": "stream",
     "text": [
      "Finished processing sample: 95bb2613-9194-434c-801b-fd18aa183f6a.rna_seq.augmented_star_gene_counts, shape: (60660, 10)\n",
      "Reading file: C:\\Users\\PC\\Desktop\\gene-expression-cancer-prediction\\rna_seq\\2ea0b718-c634-4692-9cf0-4f118adfafbd\\39e27085-909a-436b-b8e9-624c16303208.rna_seq.augmented_star_gene_counts.tsv\n",
      "Processing sample: 39e27085-909a-436b-b8e9-624c16303208.rna_seq.augmented_star_gene_counts\n",
      "Finished processing sample: 39e27085-909a-436b-b8e9-624c16303208.rna_seq.augmented_star_gene_counts, shape: (60660, 10)\n",
      "Reading file: C:\\Users\\PC\\Desktop\\gene-expression-cancer-prediction\\rna_seq\\2fa144d0-2776-46d9-a7d4-41f68a1d3727\\89424841-6b5a-4f5f-b5c2-209630c6f597.rna_seq.augmented_star_gene_counts.tsv\n",
      "Processing sample: 89424841-6b5a-4f5f-b5c2-209630c6f597.rna_seq.augmented_star_gene_counts\n"
     ]
    },
    {
     "name": "stderr",
     "output_type": "stream",
     "text": [
      "C:\\Users\\PC\\AppData\\Local\\Temp\\ipykernel_4980\\1846137033.py:69: SettingWithCopyWarning: \n",
      "A value is trying to be set on a copy of a slice from a DataFrame.\n",
      "Try using .loc[row_indexer,col_indexer] = value instead\n",
      "\n",
      "See the caveats in the documentation: https://pandas.pydata.org/pandas-docs/stable/user_guide/indexing.html#returning-a-view-versus-a-copy\n",
      "  df_clean['sample_id'] = sample_id\n"
     ]
    },
    {
     "name": "stdout",
     "output_type": "stream",
     "text": [
      "Finished processing sample: 89424841-6b5a-4f5f-b5c2-209630c6f597.rna_seq.augmented_star_gene_counts, shape: (60660, 10)\n",
      "Reading file: C:\\Users\\PC\\Desktop\\gene-expression-cancer-prediction\\rna_seq\\2faa9332-e577-4884-94e4-b895827db8b6\\8b5be676-9118-4038-9d54-6b80b14e43dc.rna_seq.augmented_star_gene_counts.tsv\n",
      "Processing sample: 8b5be676-9118-4038-9d54-6b80b14e43dc.rna_seq.augmented_star_gene_counts\n"
     ]
    },
    {
     "name": "stderr",
     "output_type": "stream",
     "text": [
      "C:\\Users\\PC\\AppData\\Local\\Temp\\ipykernel_4980\\1846137033.py:69: SettingWithCopyWarning: \n",
      "A value is trying to be set on a copy of a slice from a DataFrame.\n",
      "Try using .loc[row_indexer,col_indexer] = value instead\n",
      "\n",
      "See the caveats in the documentation: https://pandas.pydata.org/pandas-docs/stable/user_guide/indexing.html#returning-a-view-versus-a-copy\n",
      "  df_clean['sample_id'] = sample_id\n",
      "C:\\Users\\PC\\AppData\\Local\\Temp\\ipykernel_4980\\1846137033.py:69: SettingWithCopyWarning: \n",
      "A value is trying to be set on a copy of a slice from a DataFrame.\n",
      "Try using .loc[row_indexer,col_indexer] = value instead\n",
      "\n",
      "See the caveats in the documentation: https://pandas.pydata.org/pandas-docs/stable/user_guide/indexing.html#returning-a-view-versus-a-copy\n",
      "  df_clean['sample_id'] = sample_id\n"
     ]
    },
    {
     "name": "stdout",
     "output_type": "stream",
     "text": [
      "Finished processing sample: 8b5be676-9118-4038-9d54-6b80b14e43dc.rna_seq.augmented_star_gene_counts, shape: (60660, 10)\n",
      "Reading file: C:\\Users\\PC\\Desktop\\gene-expression-cancer-prediction\\rna_seq\\2ff175d2-100f-4ce8-8d1e-b3b95b41ae56\\7d746ed3-9bfa-4f66-9c5a-594284ecd811.rna_seq.augmented_star_gene_counts.tsv\n",
      "Processing sample: 7d746ed3-9bfa-4f66-9c5a-594284ecd811.rna_seq.augmented_star_gene_counts\n",
      "Finished processing sample: 7d746ed3-9bfa-4f66-9c5a-594284ecd811.rna_seq.augmented_star_gene_counts, shape: (60660, 10)\n",
      "Reading file: C:\\Users\\PC\\Desktop\\gene-expression-cancer-prediction\\rna_seq\\309dcac2-7efa-467c-9dc7-222c130b0fec\\d29744c4-3aa3-44b2-83fb-0e74ba697cd9.rna_seq.augmented_star_gene_counts.tsv\n",
      "Processing sample: d29744c4-3aa3-44b2-83fb-0e74ba697cd9.rna_seq.augmented_star_gene_counts\n",
      "Finished processing sample: d29744c4-3aa3-44b2-83fb-0e74ba697cd9.rna_seq.augmented_star_gene_counts, shape: (60660, 10)\n",
      "Reading file: C:\\Users\\PC\\Desktop\\gene-expression-cancer-prediction\\rna_seq\\30ff778c-844b-4140-9025-7ab1938f10a9\\5167da8c-2b1c-4139-a2c4-355e9f07d0be.rna_seq.augmented_star_gene_counts.tsv\n",
      "Processing sample: 5167da8c-2b1c-4139-a2c4-355e9f07d0be.rna_seq.augmented_star_gene_counts\n"
     ]
    },
    {
     "name": "stderr",
     "output_type": "stream",
     "text": [
      "C:\\Users\\PC\\AppData\\Local\\Temp\\ipykernel_4980\\1846137033.py:69: SettingWithCopyWarning: \n",
      "A value is trying to be set on a copy of a slice from a DataFrame.\n",
      "Try using .loc[row_indexer,col_indexer] = value instead\n",
      "\n",
      "See the caveats in the documentation: https://pandas.pydata.org/pandas-docs/stable/user_guide/indexing.html#returning-a-view-versus-a-copy\n",
      "  df_clean['sample_id'] = sample_id\n",
      "C:\\Users\\PC\\AppData\\Local\\Temp\\ipykernel_4980\\1846137033.py:69: SettingWithCopyWarning: \n",
      "A value is trying to be set on a copy of a slice from a DataFrame.\n",
      "Try using .loc[row_indexer,col_indexer] = value instead\n",
      "\n",
      "See the caveats in the documentation: https://pandas.pydata.org/pandas-docs/stable/user_guide/indexing.html#returning-a-view-versus-a-copy\n",
      "  df_clean['sample_id'] = sample_id\n",
      "C:\\Users\\PC\\AppData\\Local\\Temp\\ipykernel_4980\\1846137033.py:69: SettingWithCopyWarning: \n",
      "A value is trying to be set on a copy of a slice from a DataFrame.\n",
      "Try using .loc[row_indexer,col_indexer] = value instead\n",
      "\n",
      "See the caveats in the documentation: https://pandas.pydata.org/pandas-docs/stable/user_guide/indexing.html#returning-a-view-versus-a-copy\n",
      "  df_clean['sample_id'] = sample_id\n"
     ]
    },
    {
     "name": "stdout",
     "output_type": "stream",
     "text": [
      "Finished processing sample: 5167da8c-2b1c-4139-a2c4-355e9f07d0be.rna_seq.augmented_star_gene_counts, shape: (60660, 10)\n",
      "Reading file: C:\\Users\\PC\\Desktop\\gene-expression-cancer-prediction\\rna_seq\\31180222-da6e-4106-9b49-09be93d68138\\7289e7d5-65af-4d53-a4de-2691991d90d6.rna_seq.augmented_star_gene_counts.tsv\n",
      "Processing sample: 7289e7d5-65af-4d53-a4de-2691991d90d6.rna_seq.augmented_star_gene_counts\n",
      "Finished processing sample: 7289e7d5-65af-4d53-a4de-2691991d90d6.rna_seq.augmented_star_gene_counts, shape: (60660, 10)\n",
      "Reading file: C:\\Users\\PC\\Desktop\\gene-expression-cancer-prediction\\rna_seq\\3173d46f-7344-41e4-bd4c-027fe5b5ec06\\876216c7-72a1-4b1e-bd2b-fcb125ca91ae.rna_seq.augmented_star_gene_counts.tsv\n",
      "Processing sample: 876216c7-72a1-4b1e-bd2b-fcb125ca91ae.rna_seq.augmented_star_gene_counts\n"
     ]
    },
    {
     "name": "stderr",
     "output_type": "stream",
     "text": [
      "C:\\Users\\PC\\AppData\\Local\\Temp\\ipykernel_4980\\1846137033.py:69: SettingWithCopyWarning: \n",
      "A value is trying to be set on a copy of a slice from a DataFrame.\n",
      "Try using .loc[row_indexer,col_indexer] = value instead\n",
      "\n",
      "See the caveats in the documentation: https://pandas.pydata.org/pandas-docs/stable/user_guide/indexing.html#returning-a-view-versus-a-copy\n",
      "  df_clean['sample_id'] = sample_id\n",
      "C:\\Users\\PC\\AppData\\Local\\Temp\\ipykernel_4980\\1846137033.py:69: SettingWithCopyWarning: \n",
      "A value is trying to be set on a copy of a slice from a DataFrame.\n",
      "Try using .loc[row_indexer,col_indexer] = value instead\n",
      "\n",
      "See the caveats in the documentation: https://pandas.pydata.org/pandas-docs/stable/user_guide/indexing.html#returning-a-view-versus-a-copy\n",
      "  df_clean['sample_id'] = sample_id\n"
     ]
    },
    {
     "name": "stdout",
     "output_type": "stream",
     "text": [
      "Finished processing sample: 876216c7-72a1-4b1e-bd2b-fcb125ca91ae.rna_seq.augmented_star_gene_counts, shape: (60660, 10)\n",
      "Reading file: C:\\Users\\PC\\Desktop\\gene-expression-cancer-prediction\\rna_seq\\318c3a49-64bc-4704-8739-d4cf31cef51f\\1d18e4b7-83a5-4c40-94ef-f77c1ba2fdbb.rna_seq.augmented_star_gene_counts.tsv\n",
      "Processing sample: 1d18e4b7-83a5-4c40-94ef-f77c1ba2fdbb.rna_seq.augmented_star_gene_counts\n",
      "Finished processing sample: 1d18e4b7-83a5-4c40-94ef-f77c1ba2fdbb.rna_seq.augmented_star_gene_counts, shape: (60660, 10)\n",
      "Reading file: C:\\Users\\PC\\Desktop\\gene-expression-cancer-prediction\\rna_seq\\31e1dbf5-8c97-4e4d-a488-d6737ab304c2\\6e24acde-7dd0-46b9-b3c5-b0b617912910.rna_seq.augmented_star_gene_counts.tsv\n",
      "Processing sample: 6e24acde-7dd0-46b9-b3c5-b0b617912910.rna_seq.augmented_star_gene_counts\n"
     ]
    },
    {
     "name": "stderr",
     "output_type": "stream",
     "text": [
      "C:\\Users\\PC\\AppData\\Local\\Temp\\ipykernel_4980\\1846137033.py:69: SettingWithCopyWarning: \n",
      "A value is trying to be set on a copy of a slice from a DataFrame.\n",
      "Try using .loc[row_indexer,col_indexer] = value instead\n",
      "\n",
      "See the caveats in the documentation: https://pandas.pydata.org/pandas-docs/stable/user_guide/indexing.html#returning-a-view-versus-a-copy\n",
      "  df_clean['sample_id'] = sample_id\n"
     ]
    },
    {
     "name": "stdout",
     "output_type": "stream",
     "text": [
      "Finished processing sample: 6e24acde-7dd0-46b9-b3c5-b0b617912910.rna_seq.augmented_star_gene_counts, shape: (60660, 10)\n",
      "Reading file: C:\\Users\\PC\\Desktop\\gene-expression-cancer-prediction\\rna_seq\\3253f315-5ea3-44fc-899f-f9e8f5b6fa96\\01f6286b-8422-4f16-bec3-871c86396790.rna_seq.augmented_star_gene_counts.tsv\n",
      "Processing sample: 01f6286b-8422-4f16-bec3-871c86396790.rna_seq.augmented_star_gene_counts\n"
     ]
    },
    {
     "name": "stderr",
     "output_type": "stream",
     "text": [
      "C:\\Users\\PC\\AppData\\Local\\Temp\\ipykernel_4980\\1846137033.py:69: SettingWithCopyWarning: \n",
      "A value is trying to be set on a copy of a slice from a DataFrame.\n",
      "Try using .loc[row_indexer,col_indexer] = value instead\n",
      "\n",
      "See the caveats in the documentation: https://pandas.pydata.org/pandas-docs/stable/user_guide/indexing.html#returning-a-view-versus-a-copy\n",
      "  df_clean['sample_id'] = sample_id\n"
     ]
    },
    {
     "name": "stdout",
     "output_type": "stream",
     "text": [
      "Finished processing sample: 01f6286b-8422-4f16-bec3-871c86396790.rna_seq.augmented_star_gene_counts, shape: (60660, 10)\n",
      "Reading file: C:\\Users\\PC\\Desktop\\gene-expression-cancer-prediction\\rna_seq\\3293a2fa-d57c-448e-a336-a92def5dd92a\\acda1855-14ba-4e05-89f7-50f7823f38b3.rna_seq.augmented_star_gene_counts.tsv\n",
      "Processing sample: acda1855-14ba-4e05-89f7-50f7823f38b3.rna_seq.augmented_star_gene_counts\n"
     ]
    },
    {
     "name": "stderr",
     "output_type": "stream",
     "text": [
      "C:\\Users\\PC\\AppData\\Local\\Temp\\ipykernel_4980\\1846137033.py:69: SettingWithCopyWarning: \n",
      "A value is trying to be set on a copy of a slice from a DataFrame.\n",
      "Try using .loc[row_indexer,col_indexer] = value instead\n",
      "\n",
      "See the caveats in the documentation: https://pandas.pydata.org/pandas-docs/stable/user_guide/indexing.html#returning-a-view-versus-a-copy\n",
      "  df_clean['sample_id'] = sample_id\n",
      "C:\\Users\\PC\\AppData\\Local\\Temp\\ipykernel_4980\\1846137033.py:69: SettingWithCopyWarning: \n",
      "A value is trying to be set on a copy of a slice from a DataFrame.\n",
      "Try using .loc[row_indexer,col_indexer] = value instead\n",
      "\n",
      "See the caveats in the documentation: https://pandas.pydata.org/pandas-docs/stable/user_guide/indexing.html#returning-a-view-versus-a-copy\n",
      "  df_clean['sample_id'] = sample_id\n"
     ]
    },
    {
     "name": "stdout",
     "output_type": "stream",
     "text": [
      "Finished processing sample: acda1855-14ba-4e05-89f7-50f7823f38b3.rna_seq.augmented_star_gene_counts, shape: (60660, 10)\n",
      "Reading file: C:\\Users\\PC\\Desktop\\gene-expression-cancer-prediction\\rna_seq\\3396edba-0d2a-4485-ad0a-5114b38c1abe\\2e64abe2-6024-4d28-9e09-560ce2a9fd15.rna_seq.augmented_star_gene_counts.tsv\n",
      "Processing sample: 2e64abe2-6024-4d28-9e09-560ce2a9fd15.rna_seq.augmented_star_gene_counts\n",
      "Finished processing sample: 2e64abe2-6024-4d28-9e09-560ce2a9fd15.rna_seq.augmented_star_gene_counts, shape: (60660, 10)\n",
      "Reading file: C:\\Users\\PC\\Desktop\\gene-expression-cancer-prediction\\rna_seq\\34d68427-f4e7-4c9e-97ee-c853519961fb\\f3eb5b26-5414-454f-a01f-a282b0369596.rna_seq.augmented_star_gene_counts.tsv\n",
      "Processing sample: f3eb5b26-5414-454f-a01f-a282b0369596.rna_seq.augmented_star_gene_counts\n"
     ]
    },
    {
     "name": "stderr",
     "output_type": "stream",
     "text": [
      "C:\\Users\\PC\\AppData\\Local\\Temp\\ipykernel_4980\\1846137033.py:69: SettingWithCopyWarning: \n",
      "A value is trying to be set on a copy of a slice from a DataFrame.\n",
      "Try using .loc[row_indexer,col_indexer] = value instead\n",
      "\n",
      "See the caveats in the documentation: https://pandas.pydata.org/pandas-docs/stable/user_guide/indexing.html#returning-a-view-versus-a-copy\n",
      "  df_clean['sample_id'] = sample_id\n"
     ]
    },
    {
     "name": "stdout",
     "output_type": "stream",
     "text": [
      "Finished processing sample: f3eb5b26-5414-454f-a01f-a282b0369596.rna_seq.augmented_star_gene_counts, shape: (60660, 10)\n",
      "Reading file: C:\\Users\\PC\\Desktop\\gene-expression-cancer-prediction\\rna_seq\\35f78d43-917b-4a7b-b992-d004056a370f\\87c074cd-bcd8-4280-a12e-b205f50e139c.rna_seq.augmented_star_gene_counts.tsv\n",
      "Processing sample: 87c074cd-bcd8-4280-a12e-b205f50e139c.rna_seq.augmented_star_gene_counts\n"
     ]
    },
    {
     "name": "stderr",
     "output_type": "stream",
     "text": [
      "C:\\Users\\PC\\AppData\\Local\\Temp\\ipykernel_4980\\1846137033.py:69: SettingWithCopyWarning: \n",
      "A value is trying to be set on a copy of a slice from a DataFrame.\n",
      "Try using .loc[row_indexer,col_indexer] = value instead\n",
      "\n",
      "See the caveats in the documentation: https://pandas.pydata.org/pandas-docs/stable/user_guide/indexing.html#returning-a-view-versus-a-copy\n",
      "  df_clean['sample_id'] = sample_id\n",
      "C:\\Users\\PC\\AppData\\Local\\Temp\\ipykernel_4980\\1846137033.py:69: SettingWithCopyWarning: \n",
      "A value is trying to be set on a copy of a slice from a DataFrame.\n",
      "Try using .loc[row_indexer,col_indexer] = value instead\n",
      "\n",
      "See the caveats in the documentation: https://pandas.pydata.org/pandas-docs/stable/user_guide/indexing.html#returning-a-view-versus-a-copy\n",
      "  df_clean['sample_id'] = sample_id\n"
     ]
    },
    {
     "name": "stdout",
     "output_type": "stream",
     "text": [
      "Finished processing sample: 87c074cd-bcd8-4280-a12e-b205f50e139c.rna_seq.augmented_star_gene_counts, shape: (60660, 10)\n",
      "Reading file: C:\\Users\\PC\\Desktop\\gene-expression-cancer-prediction\\rna_seq\\35fd75aa-21e8-49c0-8b40-159839c3cc19\\7de22a44-8f58-4a73-90a3-a16d161160e8.rna_seq.augmented_star_gene_counts.tsv\n",
      "Processing sample: 7de22a44-8f58-4a73-90a3-a16d161160e8.rna_seq.augmented_star_gene_counts\n",
      "Finished processing sample: 7de22a44-8f58-4a73-90a3-a16d161160e8.rna_seq.augmented_star_gene_counts, shape: (60660, 10)\n",
      "Reading file: C:\\Users\\PC\\Desktop\\gene-expression-cancer-prediction\\rna_seq\\363736c4-cc2d-4920-a10b-bd0de899cdb1\\387e08dc-a77e-4dd7-939c-1e6f515e692d.rna_seq.augmented_star_gene_counts.tsv\n",
      "Processing sample: 387e08dc-a77e-4dd7-939c-1e6f515e692d.rna_seq.augmented_star_gene_counts\n"
     ]
    },
    {
     "name": "stderr",
     "output_type": "stream",
     "text": [
      "C:\\Users\\PC\\AppData\\Local\\Temp\\ipykernel_4980\\1846137033.py:69: SettingWithCopyWarning: \n",
      "A value is trying to be set on a copy of a slice from a DataFrame.\n",
      "Try using .loc[row_indexer,col_indexer] = value instead\n",
      "\n",
      "See the caveats in the documentation: https://pandas.pydata.org/pandas-docs/stable/user_guide/indexing.html#returning-a-view-versus-a-copy\n",
      "  df_clean['sample_id'] = sample_id\n",
      "C:\\Users\\PC\\AppData\\Local\\Temp\\ipykernel_4980\\1846137033.py:69: SettingWithCopyWarning: \n",
      "A value is trying to be set on a copy of a slice from a DataFrame.\n",
      "Try using .loc[row_indexer,col_indexer] = value instead\n",
      "\n",
      "See the caveats in the documentation: https://pandas.pydata.org/pandas-docs/stable/user_guide/indexing.html#returning-a-view-versus-a-copy\n",
      "  df_clean['sample_id'] = sample_id\n"
     ]
    },
    {
     "name": "stdout",
     "output_type": "stream",
     "text": [
      "Finished processing sample: 387e08dc-a77e-4dd7-939c-1e6f515e692d.rna_seq.augmented_star_gene_counts, shape: (60660, 10)\n",
      "Reading file: C:\\Users\\PC\\Desktop\\gene-expression-cancer-prediction\\rna_seq\\3690d431-165d-40bb-af61-cfda445b3be8\\0e8857f9-6f8b-46c5-a019-9c69bdc50525.rna_seq.augmented_star_gene_counts.tsv\n",
      "Processing sample: 0e8857f9-6f8b-46c5-a019-9c69bdc50525.rna_seq.augmented_star_gene_counts\n",
      "Finished processing sample: 0e8857f9-6f8b-46c5-a019-9c69bdc50525.rna_seq.augmented_star_gene_counts, shape: (60660, 10)\n",
      "Reading file: C:\\Users\\PC\\Desktop\\gene-expression-cancer-prediction\\rna_seq\\36a42825-dbc2-4dff-828c-e5008207d254\\66116a4d-210d-45f8-8dba-3f8c79566ecc.rna_seq.augmented_star_gene_counts.tsv\n",
      "Processing sample: 66116a4d-210d-45f8-8dba-3f8c79566ecc.rna_seq.augmented_star_gene_counts\n",
      "Finished processing sample: 66116a4d-210d-45f8-8dba-3f8c79566ecc.rna_seq.augmented_star_gene_counts, shape: (60660, 10)\n",
      "Reading file: C:\\Users\\PC\\Desktop\\gene-expression-cancer-prediction\\rna_seq\\36e4ffb0-0bab-4035-88f1-a181b195fce1\\d78126ec-68b1-4d77-bf7a-19a47678a5fb.rna_seq.augmented_star_gene_counts.tsv\n",
      "Processing sample: d78126ec-68b1-4d77-bf7a-19a47678a5fb.rna_seq.augmented_star_gene_counts\n"
     ]
    },
    {
     "name": "stderr",
     "output_type": "stream",
     "text": [
      "C:\\Users\\PC\\AppData\\Local\\Temp\\ipykernel_4980\\1846137033.py:69: SettingWithCopyWarning: \n",
      "A value is trying to be set on a copy of a slice from a DataFrame.\n",
      "Try using .loc[row_indexer,col_indexer] = value instead\n",
      "\n",
      "See the caveats in the documentation: https://pandas.pydata.org/pandas-docs/stable/user_guide/indexing.html#returning-a-view-versus-a-copy\n",
      "  df_clean['sample_id'] = sample_id\n",
      "C:\\Users\\PC\\AppData\\Local\\Temp\\ipykernel_4980\\1846137033.py:69: SettingWithCopyWarning: \n",
      "A value is trying to be set on a copy of a slice from a DataFrame.\n",
      "Try using .loc[row_indexer,col_indexer] = value instead\n",
      "\n",
      "See the caveats in the documentation: https://pandas.pydata.org/pandas-docs/stable/user_guide/indexing.html#returning-a-view-versus-a-copy\n",
      "  df_clean['sample_id'] = sample_id\n"
     ]
    },
    {
     "name": "stdout",
     "output_type": "stream",
     "text": [
      "Finished processing sample: d78126ec-68b1-4d77-bf7a-19a47678a5fb.rna_seq.augmented_star_gene_counts, shape: (60660, 10)\n",
      "Reading file: C:\\Users\\PC\\Desktop\\gene-expression-cancer-prediction\\rna_seq\\3728cb73-4a8a-4392-8140-f027ad876cf2\\61325789-0b1e-473d-8b71-5ec13ec1dcb7.rna_seq.augmented_star_gene_counts.tsv\n",
      "Processing sample: 61325789-0b1e-473d-8b71-5ec13ec1dcb7.rna_seq.augmented_star_gene_counts\n"
     ]
    },
    {
     "name": "stderr",
     "output_type": "stream",
     "text": [
      "C:\\Users\\PC\\AppData\\Local\\Temp\\ipykernel_4980\\1846137033.py:69: SettingWithCopyWarning: \n",
      "A value is trying to be set on a copy of a slice from a DataFrame.\n",
      "Try using .loc[row_indexer,col_indexer] = value instead\n",
      "\n",
      "See the caveats in the documentation: https://pandas.pydata.org/pandas-docs/stable/user_guide/indexing.html#returning-a-view-versus-a-copy\n",
      "  df_clean['sample_id'] = sample_id\n",
      "C:\\Users\\PC\\AppData\\Local\\Temp\\ipykernel_4980\\1846137033.py:69: SettingWithCopyWarning: \n",
      "A value is trying to be set on a copy of a slice from a DataFrame.\n",
      "Try using .loc[row_indexer,col_indexer] = value instead\n",
      "\n",
      "See the caveats in the documentation: https://pandas.pydata.org/pandas-docs/stable/user_guide/indexing.html#returning-a-view-versus-a-copy\n",
      "  df_clean['sample_id'] = sample_id\n"
     ]
    },
    {
     "name": "stdout",
     "output_type": "stream",
     "text": [
      "Finished processing sample: 61325789-0b1e-473d-8b71-5ec13ec1dcb7.rna_seq.augmented_star_gene_counts, shape: (60660, 10)\n",
      "Reading file: C:\\Users\\PC\\Desktop\\gene-expression-cancer-prediction\\rna_seq\\3782bc2e-5a29-4380-9b44-735ca1ac8896\\ffe82e73-0990-4d3d-a4d1-7d4e169dfdf5.rna_seq.augmented_star_gene_counts.tsv\n",
      "Processing sample: ffe82e73-0990-4d3d-a4d1-7d4e169dfdf5.rna_seq.augmented_star_gene_counts\n",
      "Finished processing sample: ffe82e73-0990-4d3d-a4d1-7d4e169dfdf5.rna_seq.augmented_star_gene_counts, shape: (60660, 10)\n",
      "Reading file: C:\\Users\\PC\\Desktop\\gene-expression-cancer-prediction\\rna_seq\\37939d7d-074b-42b7-8d68-95a8afef4c38\\41bdc474-8e6e-4f39-98ec-6d73ee41837c.rna_seq.augmented_star_gene_counts.tsv\n",
      "Processing sample: 41bdc474-8e6e-4f39-98ec-6d73ee41837c.rna_seq.augmented_star_gene_counts\n"
     ]
    },
    {
     "name": "stderr",
     "output_type": "stream",
     "text": [
      "C:\\Users\\PC\\AppData\\Local\\Temp\\ipykernel_4980\\1846137033.py:69: SettingWithCopyWarning: \n",
      "A value is trying to be set on a copy of a slice from a DataFrame.\n",
      "Try using .loc[row_indexer,col_indexer] = value instead\n",
      "\n",
      "See the caveats in the documentation: https://pandas.pydata.org/pandas-docs/stable/user_guide/indexing.html#returning-a-view-versus-a-copy\n",
      "  df_clean['sample_id'] = sample_id\n"
     ]
    },
    {
     "name": "stdout",
     "output_type": "stream",
     "text": [
      "Finished processing sample: 41bdc474-8e6e-4f39-98ec-6d73ee41837c.rna_seq.augmented_star_gene_counts, shape: (60660, 10)\n",
      "Reading file: C:\\Users\\PC\\Desktop\\gene-expression-cancer-prediction\\rna_seq\\37af19f9-56f9-48ec-97a9-5b0b6e364293\\a37efe02-9662-4b90-8251-003ccb96aed4.rna_seq.augmented_star_gene_counts.tsv\n",
      "Processing sample: a37efe02-9662-4b90-8251-003ccb96aed4.rna_seq.augmented_star_gene_counts\n"
     ]
    },
    {
     "name": "stderr",
     "output_type": "stream",
     "text": [
      "C:\\Users\\PC\\AppData\\Local\\Temp\\ipykernel_4980\\1846137033.py:69: SettingWithCopyWarning: \n",
      "A value is trying to be set on a copy of a slice from a DataFrame.\n",
      "Try using .loc[row_indexer,col_indexer] = value instead\n",
      "\n",
      "See the caveats in the documentation: https://pandas.pydata.org/pandas-docs/stable/user_guide/indexing.html#returning-a-view-versus-a-copy\n",
      "  df_clean['sample_id'] = sample_id\n"
     ]
    },
    {
     "name": "stdout",
     "output_type": "stream",
     "text": [
      "Finished processing sample: a37efe02-9662-4b90-8251-003ccb96aed4.rna_seq.augmented_star_gene_counts, shape: (60660, 10)\n",
      "Reading file: C:\\Users\\PC\\Desktop\\gene-expression-cancer-prediction\\rna_seq\\37bf6454-a4e7-4e00-9562-57ba6fd58b6d\\7fe106c5-4235-4930-83cd-84dc5250db89.rna_seq.augmented_star_gene_counts.tsv\n",
      "Processing sample: 7fe106c5-4235-4930-83cd-84dc5250db89.rna_seq.augmented_star_gene_counts\n"
     ]
    },
    {
     "name": "stderr",
     "output_type": "stream",
     "text": [
      "C:\\Users\\PC\\AppData\\Local\\Temp\\ipykernel_4980\\1846137033.py:69: SettingWithCopyWarning: \n",
      "A value is trying to be set on a copy of a slice from a DataFrame.\n",
      "Try using .loc[row_indexer,col_indexer] = value instead\n",
      "\n",
      "See the caveats in the documentation: https://pandas.pydata.org/pandas-docs/stable/user_guide/indexing.html#returning-a-view-versus-a-copy\n",
      "  df_clean['sample_id'] = sample_id\n"
     ]
    },
    {
     "name": "stdout",
     "output_type": "stream",
     "text": [
      "Finished processing sample: 7fe106c5-4235-4930-83cd-84dc5250db89.rna_seq.augmented_star_gene_counts, shape: (60660, 10)\n",
      "Reading file: C:\\Users\\PC\\Desktop\\gene-expression-cancer-prediction\\rna_seq\\383b947b-6824-4c75-b4f3-ccfa933d3d33\\857c31be-44ec-42bc-ba2c-5f17ac1d9a8c.rna_seq.augmented_star_gene_counts.tsv\n",
      "Processing sample: 857c31be-44ec-42bc-ba2c-5f17ac1d9a8c.rna_seq.augmented_star_gene_counts\n"
     ]
    },
    {
     "name": "stderr",
     "output_type": "stream",
     "text": [
      "C:\\Users\\PC\\AppData\\Local\\Temp\\ipykernel_4980\\1846137033.py:69: SettingWithCopyWarning: \n",
      "A value is trying to be set on a copy of a slice from a DataFrame.\n",
      "Try using .loc[row_indexer,col_indexer] = value instead\n",
      "\n",
      "See the caveats in the documentation: https://pandas.pydata.org/pandas-docs/stable/user_guide/indexing.html#returning-a-view-versus-a-copy\n",
      "  df_clean['sample_id'] = sample_id\n",
      "C:\\Users\\PC\\AppData\\Local\\Temp\\ipykernel_4980\\1846137033.py:69: SettingWithCopyWarning: \n",
      "A value is trying to be set on a copy of a slice from a DataFrame.\n",
      "Try using .loc[row_indexer,col_indexer] = value instead\n",
      "\n",
      "See the caveats in the documentation: https://pandas.pydata.org/pandas-docs/stable/user_guide/indexing.html#returning-a-view-versus-a-copy\n",
      "  df_clean['sample_id'] = sample_id\n"
     ]
    },
    {
     "name": "stdout",
     "output_type": "stream",
     "text": [
      "Finished processing sample: 857c31be-44ec-42bc-ba2c-5f17ac1d9a8c.rna_seq.augmented_star_gene_counts, shape: (60660, 10)\n",
      "Reading file: C:\\Users\\PC\\Desktop\\gene-expression-cancer-prediction\\rna_seq\\3841a099-bf19-4891-9b12-5db1d699e922\\c2628a29-fe4e-493b-a324-ed402ad54a26.rna_seq.augmented_star_gene_counts.tsv\n",
      "Processing sample: c2628a29-fe4e-493b-a324-ed402ad54a26.rna_seq.augmented_star_gene_counts\n",
      "Finished processing sample: c2628a29-fe4e-493b-a324-ed402ad54a26.rna_seq.augmented_star_gene_counts, shape: (60660, 10)\n",
      "Reading file: C:\\Users\\PC\\Desktop\\gene-expression-cancer-prediction\\rna_seq\\3844ac53-a01f-41f1-a3f3-d9decf12d024\\cff71f50-9056-40dd-b358-0de3e079cad0.rna_seq.augmented_star_gene_counts.tsv\n",
      "Processing sample: cff71f50-9056-40dd-b358-0de3e079cad0.rna_seq.augmented_star_gene_counts\n"
     ]
    },
    {
     "name": "stderr",
     "output_type": "stream",
     "text": [
      "C:\\Users\\PC\\AppData\\Local\\Temp\\ipykernel_4980\\1846137033.py:69: SettingWithCopyWarning: \n",
      "A value is trying to be set on a copy of a slice from a DataFrame.\n",
      "Try using .loc[row_indexer,col_indexer] = value instead\n",
      "\n",
      "See the caveats in the documentation: https://pandas.pydata.org/pandas-docs/stable/user_guide/indexing.html#returning-a-view-versus-a-copy\n",
      "  df_clean['sample_id'] = sample_id\n"
     ]
    },
    {
     "name": "stdout",
     "output_type": "stream",
     "text": [
      "Finished processing sample: cff71f50-9056-40dd-b358-0de3e079cad0.rna_seq.augmented_star_gene_counts, shape: (60660, 10)\n",
      "Reading file: C:\\Users\\PC\\Desktop\\gene-expression-cancer-prediction\\rna_seq\\385ddd6f-c126-4c4f-acde-1ef2d74d3639\\616b6b60-8c4a-4d85-9a24-f47df6ad497e.rna_seq.augmented_star_gene_counts.tsv\n",
      "Processing sample: 616b6b60-8c4a-4d85-9a24-f47df6ad497e.rna_seq.augmented_star_gene_counts\n"
     ]
    },
    {
     "name": "stderr",
     "output_type": "stream",
     "text": [
      "C:\\Users\\PC\\AppData\\Local\\Temp\\ipykernel_4980\\1846137033.py:69: SettingWithCopyWarning: \n",
      "A value is trying to be set on a copy of a slice from a DataFrame.\n",
      "Try using .loc[row_indexer,col_indexer] = value instead\n",
      "\n",
      "See the caveats in the documentation: https://pandas.pydata.org/pandas-docs/stable/user_guide/indexing.html#returning-a-view-versus-a-copy\n",
      "  df_clean['sample_id'] = sample_id\n",
      "C:\\Users\\PC\\AppData\\Local\\Temp\\ipykernel_4980\\1846137033.py:69: SettingWithCopyWarning: \n",
      "A value is trying to be set on a copy of a slice from a DataFrame.\n",
      "Try using .loc[row_indexer,col_indexer] = value instead\n",
      "\n",
      "See the caveats in the documentation: https://pandas.pydata.org/pandas-docs/stable/user_guide/indexing.html#returning-a-view-versus-a-copy\n",
      "  df_clean['sample_id'] = sample_id\n"
     ]
    },
    {
     "name": "stdout",
     "output_type": "stream",
     "text": [
      "Finished processing sample: 616b6b60-8c4a-4d85-9a24-f47df6ad497e.rna_seq.augmented_star_gene_counts, shape: (60660, 10)\n",
      "Reading file: C:\\Users\\PC\\Desktop\\gene-expression-cancer-prediction\\rna_seq\\386ce911-e1c2-4d68-b0a3-aac157e1a555\\c456f144-7f26-4f58-b4f0-4d91ddfec18e.rna_seq.augmented_star_gene_counts.tsv\n",
      "Processing sample: c456f144-7f26-4f58-b4f0-4d91ddfec18e.rna_seq.augmented_star_gene_counts\n",
      "Finished processing sample: c456f144-7f26-4f58-b4f0-4d91ddfec18e.rna_seq.augmented_star_gene_counts, shape: (60660, 10)\n",
      "Reading file: C:\\Users\\PC\\Desktop\\gene-expression-cancer-prediction\\rna_seq\\391a3465-d22e-424b-af09-3e6342159bbb\\ed1fa4ae-5e58-465c-b106-379f7456656e.rna_seq.augmented_star_gene_counts.tsv\n",
      "Processing sample: ed1fa4ae-5e58-465c-b106-379f7456656e.rna_seq.augmented_star_gene_counts\n"
     ]
    },
    {
     "name": "stderr",
     "output_type": "stream",
     "text": [
      "C:\\Users\\PC\\AppData\\Local\\Temp\\ipykernel_4980\\1846137033.py:69: SettingWithCopyWarning: \n",
      "A value is trying to be set on a copy of a slice from a DataFrame.\n",
      "Try using .loc[row_indexer,col_indexer] = value instead\n",
      "\n",
      "See the caveats in the documentation: https://pandas.pydata.org/pandas-docs/stable/user_guide/indexing.html#returning-a-view-versus-a-copy\n",
      "  df_clean['sample_id'] = sample_id\n"
     ]
    },
    {
     "name": "stdout",
     "output_type": "stream",
     "text": [
      "Finished processing sample: ed1fa4ae-5e58-465c-b106-379f7456656e.rna_seq.augmented_star_gene_counts, shape: (60660, 10)\n",
      "Reading file: C:\\Users\\PC\\Desktop\\gene-expression-cancer-prediction\\rna_seq\\3974a62d-d399-42f3-b550-336e793b0cfe\\081b4937-85e7-44b3-9124-a612f4f2e0ca.rna_seq.augmented_star_gene_counts.tsv\n",
      "Processing sample: 081b4937-85e7-44b3-9124-a612f4f2e0ca.rna_seq.augmented_star_gene_counts\n"
     ]
    },
    {
     "name": "stderr",
     "output_type": "stream",
     "text": [
      "C:\\Users\\PC\\AppData\\Local\\Temp\\ipykernel_4980\\1846137033.py:69: SettingWithCopyWarning: \n",
      "A value is trying to be set on a copy of a slice from a DataFrame.\n",
      "Try using .loc[row_indexer,col_indexer] = value instead\n",
      "\n",
      "See the caveats in the documentation: https://pandas.pydata.org/pandas-docs/stable/user_guide/indexing.html#returning-a-view-versus-a-copy\n",
      "  df_clean['sample_id'] = sample_id\n",
      "C:\\Users\\PC\\AppData\\Local\\Temp\\ipykernel_4980\\1846137033.py:69: SettingWithCopyWarning: \n",
      "A value is trying to be set on a copy of a slice from a DataFrame.\n",
      "Try using .loc[row_indexer,col_indexer] = value instead\n",
      "\n",
      "See the caveats in the documentation: https://pandas.pydata.org/pandas-docs/stable/user_guide/indexing.html#returning-a-view-versus-a-copy\n",
      "  df_clean['sample_id'] = sample_id\n"
     ]
    },
    {
     "name": "stdout",
     "output_type": "stream",
     "text": [
      "Finished processing sample: 081b4937-85e7-44b3-9124-a612f4f2e0ca.rna_seq.augmented_star_gene_counts, shape: (60660, 10)\n",
      "Reading file: C:\\Users\\PC\\Desktop\\gene-expression-cancer-prediction\\rna_seq\\398fa6bf-78af-473b-8f2c-a2b3b605131f\\a852a227-c31f-410f-baee-81135917a7d2.rna_seq.augmented_star_gene_counts.tsv\n",
      "Processing sample: a852a227-c31f-410f-baee-81135917a7d2.rna_seq.augmented_star_gene_counts\n",
      "Finished processing sample: a852a227-c31f-410f-baee-81135917a7d2.rna_seq.augmented_star_gene_counts, shape: (60660, 10)\n",
      "Reading file: C:\\Users\\PC\\Desktop\\gene-expression-cancer-prediction\\rna_seq\\39b28d5e-fc51-4dfc-bcbe-0285c3bad830\\3129e1d1-9844-4df4-b30e-29b1c438983b.rna_seq.augmented_star_gene_counts.tsv\n",
      "Processing sample: 3129e1d1-9844-4df4-b30e-29b1c438983b.rna_seq.augmented_star_gene_counts\n"
     ]
    },
    {
     "name": "stderr",
     "output_type": "stream",
     "text": [
      "C:\\Users\\PC\\AppData\\Local\\Temp\\ipykernel_4980\\1846137033.py:69: SettingWithCopyWarning: \n",
      "A value is trying to be set on a copy of a slice from a DataFrame.\n",
      "Try using .loc[row_indexer,col_indexer] = value instead\n",
      "\n",
      "See the caveats in the documentation: https://pandas.pydata.org/pandas-docs/stable/user_guide/indexing.html#returning-a-view-versus-a-copy\n",
      "  df_clean['sample_id'] = sample_id\n"
     ]
    },
    {
     "name": "stdout",
     "output_type": "stream",
     "text": [
      "Finished processing sample: 3129e1d1-9844-4df4-b30e-29b1c438983b.rna_seq.augmented_star_gene_counts, shape: (60660, 10)\n",
      "Reading file: C:\\Users\\PC\\Desktop\\gene-expression-cancer-prediction\\rna_seq\\39e5a93f-7474-44f8-974a-7ce44f909002\\e88a6a51-24b3-4b52-bd5a-f306f1c9e0d9.rna_seq.augmented_star_gene_counts.tsv\n",
      "Processing sample: e88a6a51-24b3-4b52-bd5a-f306f1c9e0d9.rna_seq.augmented_star_gene_counts\n"
     ]
    },
    {
     "name": "stderr",
     "output_type": "stream",
     "text": [
      "C:\\Users\\PC\\AppData\\Local\\Temp\\ipykernel_4980\\1846137033.py:69: SettingWithCopyWarning: \n",
      "A value is trying to be set on a copy of a slice from a DataFrame.\n",
      "Try using .loc[row_indexer,col_indexer] = value instead\n",
      "\n",
      "See the caveats in the documentation: https://pandas.pydata.org/pandas-docs/stable/user_guide/indexing.html#returning-a-view-versus-a-copy\n",
      "  df_clean['sample_id'] = sample_id\n"
     ]
    },
    {
     "name": "stdout",
     "output_type": "stream",
     "text": [
      "Finished processing sample: e88a6a51-24b3-4b52-bd5a-f306f1c9e0d9.rna_seq.augmented_star_gene_counts, shape: (60660, 10)\n",
      "Reading file: C:\\Users\\PC\\Desktop\\gene-expression-cancer-prediction\\rna_seq\\3a0c96d3-4cea-44a3-99e5-71622279700f\\1bc678a3-1850-4ab6-874b-d68992fddc7b.rna_seq.augmented_star_gene_counts.tsv\n",
      "Processing sample: 1bc678a3-1850-4ab6-874b-d68992fddc7b.rna_seq.augmented_star_gene_counts\n"
     ]
    },
    {
     "name": "stderr",
     "output_type": "stream",
     "text": [
      "C:\\Users\\PC\\AppData\\Local\\Temp\\ipykernel_4980\\1846137033.py:69: SettingWithCopyWarning: \n",
      "A value is trying to be set on a copy of a slice from a DataFrame.\n",
      "Try using .loc[row_indexer,col_indexer] = value instead\n",
      "\n",
      "See the caveats in the documentation: https://pandas.pydata.org/pandas-docs/stable/user_guide/indexing.html#returning-a-view-versus-a-copy\n",
      "  df_clean['sample_id'] = sample_id\n"
     ]
    },
    {
     "name": "stdout",
     "output_type": "stream",
     "text": [
      "Finished processing sample: 1bc678a3-1850-4ab6-874b-d68992fddc7b.rna_seq.augmented_star_gene_counts, shape: (60660, 10)\n",
      "Reading file: C:\\Users\\PC\\Desktop\\gene-expression-cancer-prediction\\rna_seq\\3b9e620f-a661-4a1d-ac46-ab4c56a4b241\\04c428b5-d0b9-4ecf-86e8-8a42dc4cbb5e.rna_seq.augmented_star_gene_counts.tsv\n",
      "Processing sample: 04c428b5-d0b9-4ecf-86e8-8a42dc4cbb5e.rna_seq.augmented_star_gene_counts\n"
     ]
    },
    {
     "name": "stderr",
     "output_type": "stream",
     "text": [
      "C:\\Users\\PC\\AppData\\Local\\Temp\\ipykernel_4980\\1846137033.py:69: SettingWithCopyWarning: \n",
      "A value is trying to be set on a copy of a slice from a DataFrame.\n",
      "Try using .loc[row_indexer,col_indexer] = value instead\n",
      "\n",
      "See the caveats in the documentation: https://pandas.pydata.org/pandas-docs/stable/user_guide/indexing.html#returning-a-view-versus-a-copy\n",
      "  df_clean['sample_id'] = sample_id\n",
      "C:\\Users\\PC\\AppData\\Local\\Temp\\ipykernel_4980\\1846137033.py:69: SettingWithCopyWarning: \n",
      "A value is trying to be set on a copy of a slice from a DataFrame.\n",
      "Try using .loc[row_indexer,col_indexer] = value instead\n",
      "\n",
      "See the caveats in the documentation: https://pandas.pydata.org/pandas-docs/stable/user_guide/indexing.html#returning-a-view-versus-a-copy\n",
      "  df_clean['sample_id'] = sample_id\n"
     ]
    },
    {
     "name": "stdout",
     "output_type": "stream",
     "text": [
      "Finished processing sample: 04c428b5-d0b9-4ecf-86e8-8a42dc4cbb5e.rna_seq.augmented_star_gene_counts, shape: (60660, 10)\n",
      "Reading file: C:\\Users\\PC\\Desktop\\gene-expression-cancer-prediction\\rna_seq\\3bb2e240-9cea-4dd2-be32-6bc6976a79b1\\ce362483-60b7-4654-b201-834c60e38690.rna_seq.augmented_star_gene_counts.tsv\n",
      "Processing sample: ce362483-60b7-4654-b201-834c60e38690.rna_seq.augmented_star_gene_counts\n",
      "Finished processing sample: ce362483-60b7-4654-b201-834c60e38690.rna_seq.augmented_star_gene_counts, shape: (60660, 10)\n",
      "Reading file: C:\\Users\\PC\\Desktop\\gene-expression-cancer-prediction\\rna_seq\\3bc9d1c0-b57f-44b5-8624-b3ee99aeafe4\\f4847715-a3e0-49a4-bcc9-95175d0be463.rna_seq.augmented_star_gene_counts.tsv\n",
      "Processing sample: f4847715-a3e0-49a4-bcc9-95175d0be463.rna_seq.augmented_star_gene_counts\n"
     ]
    },
    {
     "name": "stderr",
     "output_type": "stream",
     "text": [
      "C:\\Users\\PC\\AppData\\Local\\Temp\\ipykernel_4980\\1846137033.py:69: SettingWithCopyWarning: \n",
      "A value is trying to be set on a copy of a slice from a DataFrame.\n",
      "Try using .loc[row_indexer,col_indexer] = value instead\n",
      "\n",
      "See the caveats in the documentation: https://pandas.pydata.org/pandas-docs/stable/user_guide/indexing.html#returning-a-view-versus-a-copy\n",
      "  df_clean['sample_id'] = sample_id\n"
     ]
    },
    {
     "name": "stdout",
     "output_type": "stream",
     "text": [
      "Finished processing sample: f4847715-a3e0-49a4-bcc9-95175d0be463.rna_seq.augmented_star_gene_counts, shape: (60660, 10)\n",
      "Reading file: C:\\Users\\PC\\Desktop\\gene-expression-cancer-prediction\\rna_seq\\3c2914f4-200f-4bec-93f0-b0fdb6460378\\61d00f8c-f198-4181-82bd-99b063dfffc6.rna_seq.augmented_star_gene_counts.tsv\n",
      "Processing sample: 61d00f8c-f198-4181-82bd-99b063dfffc6.rna_seq.augmented_star_gene_counts\n"
     ]
    },
    {
     "name": "stderr",
     "output_type": "stream",
     "text": [
      "C:\\Users\\PC\\AppData\\Local\\Temp\\ipykernel_4980\\1846137033.py:69: SettingWithCopyWarning: \n",
      "A value is trying to be set on a copy of a slice from a DataFrame.\n",
      "Try using .loc[row_indexer,col_indexer] = value instead\n",
      "\n",
      "See the caveats in the documentation: https://pandas.pydata.org/pandas-docs/stable/user_guide/indexing.html#returning-a-view-versus-a-copy\n",
      "  df_clean['sample_id'] = sample_id\n"
     ]
    },
    {
     "name": "stdout",
     "output_type": "stream",
     "text": [
      "Finished processing sample: 61d00f8c-f198-4181-82bd-99b063dfffc6.rna_seq.augmented_star_gene_counts, shape: (60660, 10)\n",
      "Reading file: C:\\Users\\PC\\Desktop\\gene-expression-cancer-prediction\\rna_seq\\3c70b5af-2238-4fbe-991b-dc68975cc7f1\\7050a8f4-f7f5-41ba-9bda-942d369cf317.rna_seq.augmented_star_gene_counts.tsv\n",
      "Processing sample: 7050a8f4-f7f5-41ba-9bda-942d369cf317.rna_seq.augmented_star_gene_counts\n"
     ]
    },
    {
     "name": "stderr",
     "output_type": "stream",
     "text": [
      "C:\\Users\\PC\\AppData\\Local\\Temp\\ipykernel_4980\\1846137033.py:69: SettingWithCopyWarning: \n",
      "A value is trying to be set on a copy of a slice from a DataFrame.\n",
      "Try using .loc[row_indexer,col_indexer] = value instead\n",
      "\n",
      "See the caveats in the documentation: https://pandas.pydata.org/pandas-docs/stable/user_guide/indexing.html#returning-a-view-versus-a-copy\n",
      "  df_clean['sample_id'] = sample_id\n"
     ]
    },
    {
     "name": "stdout",
     "output_type": "stream",
     "text": [
      "Finished processing sample: 7050a8f4-f7f5-41ba-9bda-942d369cf317.rna_seq.augmented_star_gene_counts, shape: (60660, 10)\n",
      "Reading file: C:\\Users\\PC\\Desktop\\gene-expression-cancer-prediction\\rna_seq\\3ce988e2-61c5-4f53-b9c8-cfc280649c1f\\8d2f240f-43c3-4e0d-a6cc-79f6b174dace.rna_seq.augmented_star_gene_counts.tsv\n",
      "Processing sample: 8d2f240f-43c3-4e0d-a6cc-79f6b174dace.rna_seq.augmented_star_gene_counts\n"
     ]
    },
    {
     "name": "stderr",
     "output_type": "stream",
     "text": [
      "C:\\Users\\PC\\AppData\\Local\\Temp\\ipykernel_4980\\1846137033.py:69: SettingWithCopyWarning: \n",
      "A value is trying to be set on a copy of a slice from a DataFrame.\n",
      "Try using .loc[row_indexer,col_indexer] = value instead\n",
      "\n",
      "See the caveats in the documentation: https://pandas.pydata.org/pandas-docs/stable/user_guide/indexing.html#returning-a-view-versus-a-copy\n",
      "  df_clean['sample_id'] = sample_id\n"
     ]
    },
    {
     "name": "stdout",
     "output_type": "stream",
     "text": [
      "Finished processing sample: 8d2f240f-43c3-4e0d-a6cc-79f6b174dace.rna_seq.augmented_star_gene_counts, shape: (60660, 10)\n",
      "Reading file: C:\\Users\\PC\\Desktop\\gene-expression-cancer-prediction\\rna_seq\\3d075fc4-5a01-47ce-bef0-a77acf71061d\\707fad7d-f284-456a-abfa-17289b40579f.rna_seq.augmented_star_gene_counts.tsv\n",
      "Processing sample: 707fad7d-f284-456a-abfa-17289b40579f.rna_seq.augmented_star_gene_counts\n"
     ]
    },
    {
     "name": "stderr",
     "output_type": "stream",
     "text": [
      "C:\\Users\\PC\\AppData\\Local\\Temp\\ipykernel_4980\\1846137033.py:69: SettingWithCopyWarning: \n",
      "A value is trying to be set on a copy of a slice from a DataFrame.\n",
      "Try using .loc[row_indexer,col_indexer] = value instead\n",
      "\n",
      "See the caveats in the documentation: https://pandas.pydata.org/pandas-docs/stable/user_guide/indexing.html#returning-a-view-versus-a-copy\n",
      "  df_clean['sample_id'] = sample_id\n",
      "C:\\Users\\PC\\AppData\\Local\\Temp\\ipykernel_4980\\1846137033.py:69: SettingWithCopyWarning: \n",
      "A value is trying to be set on a copy of a slice from a DataFrame.\n",
      "Try using .loc[row_indexer,col_indexer] = value instead\n",
      "\n",
      "See the caveats in the documentation: https://pandas.pydata.org/pandas-docs/stable/user_guide/indexing.html#returning-a-view-versus-a-copy\n",
      "  df_clean['sample_id'] = sample_id\n"
     ]
    },
    {
     "name": "stdout",
     "output_type": "stream",
     "text": [
      "Finished processing sample: 707fad7d-f284-456a-abfa-17289b40579f.rna_seq.augmented_star_gene_counts, shape: (60660, 10)\n",
      "Reading file: C:\\Users\\PC\\Desktop\\gene-expression-cancer-prediction\\rna_seq\\3d0b3b80-92ae-44dc-89fc-2ead925b81a2\\eb44c266-8b8f-4012-ad67-f4ac40698391.rna_seq.augmented_star_gene_counts.tsv\n",
      "Processing sample: eb44c266-8b8f-4012-ad67-f4ac40698391.rna_seq.augmented_star_gene_counts\n",
      "Finished processing sample: eb44c266-8b8f-4012-ad67-f4ac40698391.rna_seq.augmented_star_gene_counts, shape: (60660, 10)\n",
      "Reading file: C:\\Users\\PC\\Desktop\\gene-expression-cancer-prediction\\rna_seq\\3e0c80d6-5091-454c-ad27-eb513cf6f45d\\b161c26d-64b1-4e03-94da-4f9b9de25e88.rna_seq.augmented_star_gene_counts.tsv\n",
      "Processing sample: b161c26d-64b1-4e03-94da-4f9b9de25e88.rna_seq.augmented_star_gene_counts\n"
     ]
    },
    {
     "name": "stderr",
     "output_type": "stream",
     "text": [
      "C:\\Users\\PC\\AppData\\Local\\Temp\\ipykernel_4980\\1846137033.py:69: SettingWithCopyWarning: \n",
      "A value is trying to be set on a copy of a slice from a DataFrame.\n",
      "Try using .loc[row_indexer,col_indexer] = value instead\n",
      "\n",
      "See the caveats in the documentation: https://pandas.pydata.org/pandas-docs/stable/user_guide/indexing.html#returning-a-view-versus-a-copy\n",
      "  df_clean['sample_id'] = sample_id\n"
     ]
    },
    {
     "name": "stdout",
     "output_type": "stream",
     "text": [
      "Finished processing sample: b161c26d-64b1-4e03-94da-4f9b9de25e88.rna_seq.augmented_star_gene_counts, shape: (60660, 10)\n",
      "Reading file: C:\\Users\\PC\\Desktop\\gene-expression-cancer-prediction\\rna_seq\\3e0cc1e4-0882-4e9b-9373-34bcbce097d7\\d9a1fa44-0877-423f-9beb-55f3fc936f7b.rna_seq.augmented_star_gene_counts.tsv\n",
      "Processing sample: d9a1fa44-0877-423f-9beb-55f3fc936f7b.rna_seq.augmented_star_gene_counts\n"
     ]
    },
    {
     "name": "stderr",
     "output_type": "stream",
     "text": [
      "C:\\Users\\PC\\AppData\\Local\\Temp\\ipykernel_4980\\1846137033.py:69: SettingWithCopyWarning: \n",
      "A value is trying to be set on a copy of a slice from a DataFrame.\n",
      "Try using .loc[row_indexer,col_indexer] = value instead\n",
      "\n",
      "See the caveats in the documentation: https://pandas.pydata.org/pandas-docs/stable/user_guide/indexing.html#returning-a-view-versus-a-copy\n",
      "  df_clean['sample_id'] = sample_id\n",
      "C:\\Users\\PC\\AppData\\Local\\Temp\\ipykernel_4980\\1846137033.py:69: SettingWithCopyWarning: \n",
      "A value is trying to be set on a copy of a slice from a DataFrame.\n",
      "Try using .loc[row_indexer,col_indexer] = value instead\n",
      "\n",
      "See the caveats in the documentation: https://pandas.pydata.org/pandas-docs/stable/user_guide/indexing.html#returning-a-view-versus-a-copy\n",
      "  df_clean['sample_id'] = sample_id\n"
     ]
    },
    {
     "name": "stdout",
     "output_type": "stream",
     "text": [
      "Finished processing sample: d9a1fa44-0877-423f-9beb-55f3fc936f7b.rna_seq.augmented_star_gene_counts, shape: (60660, 10)\n",
      "Reading file: C:\\Users\\PC\\Desktop\\gene-expression-cancer-prediction\\rna_seq\\3e3125cd-a554-4a76-a9e2-b9187e0db6ab\\3d1bf8fc-c86b-436e-ab0c-3734af129b09.rna_seq.augmented_star_gene_counts.tsv\n",
      "Processing sample: 3d1bf8fc-c86b-436e-ab0c-3734af129b09.rna_seq.augmented_star_gene_counts\n",
      "Finished processing sample: 3d1bf8fc-c86b-436e-ab0c-3734af129b09.rna_seq.augmented_star_gene_counts, shape: (60660, 10)\n",
      "Reading file: C:\\Users\\PC\\Desktop\\gene-expression-cancer-prediction\\rna_seq\\3e5dce7b-3f1e-4b43-b83e-8c0fc654e9c4\\1b392450-2b27-4dce-9205-7de33a64ba42.rna_seq.augmented_star_gene_counts.tsv\n",
      "Processing sample: 1b392450-2b27-4dce-9205-7de33a64ba42.rna_seq.augmented_star_gene_counts\n"
     ]
    },
    {
     "name": "stderr",
     "output_type": "stream",
     "text": [
      "C:\\Users\\PC\\AppData\\Local\\Temp\\ipykernel_4980\\1846137033.py:69: SettingWithCopyWarning: \n",
      "A value is trying to be set on a copy of a slice from a DataFrame.\n",
      "Try using .loc[row_indexer,col_indexer] = value instead\n",
      "\n",
      "See the caveats in the documentation: https://pandas.pydata.org/pandas-docs/stable/user_guide/indexing.html#returning-a-view-versus-a-copy\n",
      "  df_clean['sample_id'] = sample_id\n",
      "C:\\Users\\PC\\AppData\\Local\\Temp\\ipykernel_4980\\1846137033.py:69: SettingWithCopyWarning: \n",
      "A value is trying to be set on a copy of a slice from a DataFrame.\n",
      "Try using .loc[row_indexer,col_indexer] = value instead\n",
      "\n",
      "See the caveats in the documentation: https://pandas.pydata.org/pandas-docs/stable/user_guide/indexing.html#returning-a-view-versus-a-copy\n",
      "  df_clean['sample_id'] = sample_id\n"
     ]
    },
    {
     "name": "stdout",
     "output_type": "stream",
     "text": [
      "Finished processing sample: 1b392450-2b27-4dce-9205-7de33a64ba42.rna_seq.augmented_star_gene_counts, shape: (60660, 10)\n",
      "Reading file: C:\\Users\\PC\\Desktop\\gene-expression-cancer-prediction\\rna_seq\\3e8cff80-ed17-479c-8327-ca8e71ee7482\\0c814cd9-5b2c-4764-9e6a-6ad0403fcd7d.rna_seq.augmented_star_gene_counts.tsv\n",
      "Processing sample: 0c814cd9-5b2c-4764-9e6a-6ad0403fcd7d.rna_seq.augmented_star_gene_counts\n",
      "Finished processing sample: 0c814cd9-5b2c-4764-9e6a-6ad0403fcd7d.rna_seq.augmented_star_gene_counts, shape: (60660, 10)\n",
      "Reading file: C:\\Users\\PC\\Desktop\\gene-expression-cancer-prediction\\rna_seq\\3eadce70-ba3d-4806-b112-6ac83bc89dc4\\a3595c7e-948b-4d93-a623-477d7af84e15.rna_seq.augmented_star_gene_counts.tsv\n",
      "Processing sample: a3595c7e-948b-4d93-a623-477d7af84e15.rna_seq.augmented_star_gene_counts\n",
      "Finished processing sample: a3595c7e-948b-4d93-a623-477d7af84e15.rna_seq.augmented_star_gene_counts, shape: (60660, 10)\n",
      "Reading file: C:\\Users\\PC\\Desktop\\gene-expression-cancer-prediction\\rna_seq\\3eb2d652-73f5-41c0-bf73-f40e85e1ecae\\eecb45f4-ea57-4aea-814e-9895d42034e9.rna_seq.augmented_star_gene_counts.tsv\n",
      "Processing sample: eecb45f4-ea57-4aea-814e-9895d42034e9.rna_seq.augmented_star_gene_counts\n"
     ]
    },
    {
     "name": "stderr",
     "output_type": "stream",
     "text": [
      "C:\\Users\\PC\\AppData\\Local\\Temp\\ipykernel_4980\\1846137033.py:69: SettingWithCopyWarning: \n",
      "A value is trying to be set on a copy of a slice from a DataFrame.\n",
      "Try using .loc[row_indexer,col_indexer] = value instead\n",
      "\n",
      "See the caveats in the documentation: https://pandas.pydata.org/pandas-docs/stable/user_guide/indexing.html#returning-a-view-versus-a-copy\n",
      "  df_clean['sample_id'] = sample_id\n",
      "C:\\Users\\PC\\AppData\\Local\\Temp\\ipykernel_4980\\1846137033.py:69: SettingWithCopyWarning: \n",
      "A value is trying to be set on a copy of a slice from a DataFrame.\n",
      "Try using .loc[row_indexer,col_indexer] = value instead\n",
      "\n",
      "See the caveats in the documentation: https://pandas.pydata.org/pandas-docs/stable/user_guide/indexing.html#returning-a-view-versus-a-copy\n",
      "  df_clean['sample_id'] = sample_id\n"
     ]
    },
    {
     "name": "stdout",
     "output_type": "stream",
     "text": [
      "Finished processing sample: eecb45f4-ea57-4aea-814e-9895d42034e9.rna_seq.augmented_star_gene_counts, shape: (60660, 10)\n",
      "Reading file: C:\\Users\\PC\\Desktop\\gene-expression-cancer-prediction\\rna_seq\\3ecfecef-4180-4b7a-8d9a-5532b47ef500\\c2fe2d79-efb1-4e4d-a297-bd6b15703d10.rna_seq.augmented_star_gene_counts.tsv\n",
      "Processing sample: c2fe2d79-efb1-4e4d-a297-bd6b15703d10.rna_seq.augmented_star_gene_counts\n"
     ]
    },
    {
     "name": "stderr",
     "output_type": "stream",
     "text": [
      "C:\\Users\\PC\\AppData\\Local\\Temp\\ipykernel_4980\\1846137033.py:69: SettingWithCopyWarning: \n",
      "A value is trying to be set on a copy of a slice from a DataFrame.\n",
      "Try using .loc[row_indexer,col_indexer] = value instead\n",
      "\n",
      "See the caveats in the documentation: https://pandas.pydata.org/pandas-docs/stable/user_guide/indexing.html#returning-a-view-versus-a-copy\n",
      "  df_clean['sample_id'] = sample_id\n",
      "C:\\Users\\PC\\AppData\\Local\\Temp\\ipykernel_4980\\1846137033.py:69: SettingWithCopyWarning: \n",
      "A value is trying to be set on a copy of a slice from a DataFrame.\n",
      "Try using .loc[row_indexer,col_indexer] = value instead\n",
      "\n",
      "See the caveats in the documentation: https://pandas.pydata.org/pandas-docs/stable/user_guide/indexing.html#returning-a-view-versus-a-copy\n",
      "  df_clean['sample_id'] = sample_id\n"
     ]
    },
    {
     "name": "stdout",
     "output_type": "stream",
     "text": [
      "Finished processing sample: c2fe2d79-efb1-4e4d-a297-bd6b15703d10.rna_seq.augmented_star_gene_counts, shape: (60660, 10)\n",
      "Reading file: C:\\Users\\PC\\Desktop\\gene-expression-cancer-prediction\\rna_seq\\3f44f7ab-7299-4b8e-b2b9-16ed5291e727\\5ea12b9b-56ac-4d0c-8761-bf172b2f23e0.rna_seq.augmented_star_gene_counts.tsv\n",
      "Processing sample: 5ea12b9b-56ac-4d0c-8761-bf172b2f23e0.rna_seq.augmented_star_gene_counts\n",
      "Finished processing sample: 5ea12b9b-56ac-4d0c-8761-bf172b2f23e0.rna_seq.augmented_star_gene_counts, shape: (60660, 10)\n",
      "Reading file: C:\\Users\\PC\\Desktop\\gene-expression-cancer-prediction\\rna_seq\\3fafe34a-38e2-4645-af4e-0d77fd5464c1\\e7e4c883-af18-41bf-9383-e5b9f354bc8d.rna_seq.augmented_star_gene_counts.tsv\n",
      "Processing sample: e7e4c883-af18-41bf-9383-e5b9f354bc8d.rna_seq.augmented_star_gene_counts\n"
     ]
    },
    {
     "name": "stderr",
     "output_type": "stream",
     "text": [
      "C:\\Users\\PC\\AppData\\Local\\Temp\\ipykernel_4980\\1846137033.py:69: SettingWithCopyWarning: \n",
      "A value is trying to be set on a copy of a slice from a DataFrame.\n",
      "Try using .loc[row_indexer,col_indexer] = value instead\n",
      "\n",
      "See the caveats in the documentation: https://pandas.pydata.org/pandas-docs/stable/user_guide/indexing.html#returning-a-view-versus-a-copy\n",
      "  df_clean['sample_id'] = sample_id\n",
      "C:\\Users\\PC\\AppData\\Local\\Temp\\ipykernel_4980\\1846137033.py:69: SettingWithCopyWarning: \n",
      "A value is trying to be set on a copy of a slice from a DataFrame.\n",
      "Try using .loc[row_indexer,col_indexer] = value instead\n",
      "\n",
      "See the caveats in the documentation: https://pandas.pydata.org/pandas-docs/stable/user_guide/indexing.html#returning-a-view-versus-a-copy\n",
      "  df_clean['sample_id'] = sample_id\n"
     ]
    },
    {
     "name": "stdout",
     "output_type": "stream",
     "text": [
      "Finished processing sample: e7e4c883-af18-41bf-9383-e5b9f354bc8d.rna_seq.augmented_star_gene_counts, shape: (60660, 10)\n",
      "Reading file: C:\\Users\\PC\\Desktop\\gene-expression-cancer-prediction\\rna_seq\\4004cdd0-51fa-4330-bd03-5448f6c7b787\\bce4dcd7-d9e8-408a-8ab0-f993f9297a68.rna_seq.augmented_star_gene_counts.tsv\n",
      "Processing sample: bce4dcd7-d9e8-408a-8ab0-f993f9297a68.rna_seq.augmented_star_gene_counts\n",
      "Finished processing sample: bce4dcd7-d9e8-408a-8ab0-f993f9297a68.rna_seq.augmented_star_gene_counts, shape: (60660, 10)\n",
      "Reading file: C:\\Users\\PC\\Desktop\\gene-expression-cancer-prediction\\rna_seq\\404cea41-efa9-44c0-84a1-5dd603d7a2a4\\69ed2c6f-9495-475c-b8d6-c1db8f4b0537.rna_seq.augmented_star_gene_counts.tsv\n",
      "Processing sample: 69ed2c6f-9495-475c-b8d6-c1db8f4b0537.rna_seq.augmented_star_gene_counts\n"
     ]
    },
    {
     "name": "stderr",
     "output_type": "stream",
     "text": [
      "C:\\Users\\PC\\AppData\\Local\\Temp\\ipykernel_4980\\1846137033.py:69: SettingWithCopyWarning: \n",
      "A value is trying to be set on a copy of a slice from a DataFrame.\n",
      "Try using .loc[row_indexer,col_indexer] = value instead\n",
      "\n",
      "See the caveats in the documentation: https://pandas.pydata.org/pandas-docs/stable/user_guide/indexing.html#returning-a-view-versus-a-copy\n",
      "  df_clean['sample_id'] = sample_id\n"
     ]
    },
    {
     "name": "stdout",
     "output_type": "stream",
     "text": [
      "Finished processing sample: 69ed2c6f-9495-475c-b8d6-c1db8f4b0537.rna_seq.augmented_star_gene_counts, shape: (60660, 10)\n",
      "Reading file: C:\\Users\\PC\\Desktop\\gene-expression-cancer-prediction\\rna_seq\\406cb497-badd-4bbe-be62-e1dac7b49180\\49563aad-aeb3-4a9b-8849-a60c119cbaa4.rna_seq.augmented_star_gene_counts.tsv\n",
      "Processing sample: 49563aad-aeb3-4a9b-8849-a60c119cbaa4.rna_seq.augmented_star_gene_counts\n"
     ]
    },
    {
     "name": "stderr",
     "output_type": "stream",
     "text": [
      "C:\\Users\\PC\\AppData\\Local\\Temp\\ipykernel_4980\\1846137033.py:69: SettingWithCopyWarning: \n",
      "A value is trying to be set on a copy of a slice from a DataFrame.\n",
      "Try using .loc[row_indexer,col_indexer] = value instead\n",
      "\n",
      "See the caveats in the documentation: https://pandas.pydata.org/pandas-docs/stable/user_guide/indexing.html#returning-a-view-versus-a-copy\n",
      "  df_clean['sample_id'] = sample_id\n"
     ]
    },
    {
     "name": "stdout",
     "output_type": "stream",
     "text": [
      "Finished processing sample: 49563aad-aeb3-4a9b-8849-a60c119cbaa4.rna_seq.augmented_star_gene_counts, shape: (60660, 10)\n",
      "Reading file: C:\\Users\\PC\\Desktop\\gene-expression-cancer-prediction\\rna_seq\\4081fb70-afcd-4be3-a071-6df014f4fa52\\0d71189d-6801-4d6b-b306-22efcaa2564a.rna_seq.augmented_star_gene_counts.tsv\n",
      "Processing sample: 0d71189d-6801-4d6b-b306-22efcaa2564a.rna_seq.augmented_star_gene_counts\n"
     ]
    },
    {
     "name": "stderr",
     "output_type": "stream",
     "text": [
      "C:\\Users\\PC\\AppData\\Local\\Temp\\ipykernel_4980\\1846137033.py:69: SettingWithCopyWarning: \n",
      "A value is trying to be set on a copy of a slice from a DataFrame.\n",
      "Try using .loc[row_indexer,col_indexer] = value instead\n",
      "\n",
      "See the caveats in the documentation: https://pandas.pydata.org/pandas-docs/stable/user_guide/indexing.html#returning-a-view-versus-a-copy\n",
      "  df_clean['sample_id'] = sample_id\n"
     ]
    },
    {
     "name": "stdout",
     "output_type": "stream",
     "text": [
      "Finished processing sample: 0d71189d-6801-4d6b-b306-22efcaa2564a.rna_seq.augmented_star_gene_counts, shape: (60660, 10)\n",
      "Reading file: C:\\Users\\PC\\Desktop\\gene-expression-cancer-prediction\\rna_seq\\40d222ea-3a59-45b9-91a2-0566b239c89e\\ea030b7d-26eb-4f0e-b7b9-c6b165061118.rna_seq.augmented_star_gene_counts.tsv\n",
      "Processing sample: ea030b7d-26eb-4f0e-b7b9-c6b165061118.rna_seq.augmented_star_gene_counts\n"
     ]
    },
    {
     "name": "stderr",
     "output_type": "stream",
     "text": [
      "C:\\Users\\PC\\AppData\\Local\\Temp\\ipykernel_4980\\1846137033.py:69: SettingWithCopyWarning: \n",
      "A value is trying to be set on a copy of a slice from a DataFrame.\n",
      "Try using .loc[row_indexer,col_indexer] = value instead\n",
      "\n",
      "See the caveats in the documentation: https://pandas.pydata.org/pandas-docs/stable/user_guide/indexing.html#returning-a-view-versus-a-copy\n",
      "  df_clean['sample_id'] = sample_id\n"
     ]
    },
    {
     "name": "stdout",
     "output_type": "stream",
     "text": [
      "Finished processing sample: ea030b7d-26eb-4f0e-b7b9-c6b165061118.rna_seq.augmented_star_gene_counts, shape: (60660, 10)\n",
      "Reading file: C:\\Users\\PC\\Desktop\\gene-expression-cancer-prediction\\rna_seq\\416defdf-a4f7-4305-97ff-d3b3ebce672f\\0dacd83e-7fab-4064-a25c-c1de66be5305.rna_seq.augmented_star_gene_counts.tsv\n",
      "Processing sample: 0dacd83e-7fab-4064-a25c-c1de66be5305.rna_seq.augmented_star_gene_counts\n"
     ]
    },
    {
     "name": "stderr",
     "output_type": "stream",
     "text": [
      "C:\\Users\\PC\\AppData\\Local\\Temp\\ipykernel_4980\\1846137033.py:69: SettingWithCopyWarning: \n",
      "A value is trying to be set on a copy of a slice from a DataFrame.\n",
      "Try using .loc[row_indexer,col_indexer] = value instead\n",
      "\n",
      "See the caveats in the documentation: https://pandas.pydata.org/pandas-docs/stable/user_guide/indexing.html#returning-a-view-versus-a-copy\n",
      "  df_clean['sample_id'] = sample_id\n",
      "C:\\Users\\PC\\AppData\\Local\\Temp\\ipykernel_4980\\1846137033.py:69: SettingWithCopyWarning: \n",
      "A value is trying to be set on a copy of a slice from a DataFrame.\n",
      "Try using .loc[row_indexer,col_indexer] = value instead\n",
      "\n",
      "See the caveats in the documentation: https://pandas.pydata.org/pandas-docs/stable/user_guide/indexing.html#returning-a-view-versus-a-copy\n",
      "  df_clean['sample_id'] = sample_id\n"
     ]
    },
    {
     "name": "stdout",
     "output_type": "stream",
     "text": [
      "Finished processing sample: 0dacd83e-7fab-4064-a25c-c1de66be5305.rna_seq.augmented_star_gene_counts, shape: (60660, 10)\n",
      "Reading file: C:\\Users\\PC\\Desktop\\gene-expression-cancer-prediction\\rna_seq\\41a97024-43f7-41b8-8755-94cd29105a5f\\62e41b20-5f83-43c2-9887-809e97794f04.rna_seq.augmented_star_gene_counts.tsv\n",
      "Processing sample: 62e41b20-5f83-43c2-9887-809e97794f04.rna_seq.augmented_star_gene_counts\n",
      "Finished processing sample: 62e41b20-5f83-43c2-9887-809e97794f04.rna_seq.augmented_star_gene_counts, shape: (60660, 10)\n",
      "Reading file: C:\\Users\\PC\\Desktop\\gene-expression-cancer-prediction\\rna_seq\\41e79241-b5a4-4541-848b-e20e693e8ee3\\22c2b380-799e-4fad-ae38-46a916c592d5.rna_seq.augmented_star_gene_counts.tsv\n",
      "Processing sample: 22c2b380-799e-4fad-ae38-46a916c592d5.rna_seq.augmented_star_gene_counts\n"
     ]
    },
    {
     "name": "stderr",
     "output_type": "stream",
     "text": [
      "C:\\Users\\PC\\AppData\\Local\\Temp\\ipykernel_4980\\1846137033.py:69: SettingWithCopyWarning: \n",
      "A value is trying to be set on a copy of a slice from a DataFrame.\n",
      "Try using .loc[row_indexer,col_indexer] = value instead\n",
      "\n",
      "See the caveats in the documentation: https://pandas.pydata.org/pandas-docs/stable/user_guide/indexing.html#returning-a-view-versus-a-copy\n",
      "  df_clean['sample_id'] = sample_id\n"
     ]
    },
    {
     "name": "stdout",
     "output_type": "stream",
     "text": [
      "Finished processing sample: 22c2b380-799e-4fad-ae38-46a916c592d5.rna_seq.augmented_star_gene_counts, shape: (60660, 10)\n",
      "Reading file: C:\\Users\\PC\\Desktop\\gene-expression-cancer-prediction\\rna_seq\\41e96cc6-43d5-4eea-bbd3-23fb389d5532\\b9e82597-fdf2-4479-a764-29193ddbd58f.rna_seq.augmented_star_gene_counts.tsv\n",
      "Processing sample: b9e82597-fdf2-4479-a764-29193ddbd58f.rna_seq.augmented_star_gene_counts\n"
     ]
    },
    {
     "name": "stderr",
     "output_type": "stream",
     "text": [
      "C:\\Users\\PC\\AppData\\Local\\Temp\\ipykernel_4980\\1846137033.py:69: SettingWithCopyWarning: \n",
      "A value is trying to be set on a copy of a slice from a DataFrame.\n",
      "Try using .loc[row_indexer,col_indexer] = value instead\n",
      "\n",
      "See the caveats in the documentation: https://pandas.pydata.org/pandas-docs/stable/user_guide/indexing.html#returning-a-view-versus-a-copy\n",
      "  df_clean['sample_id'] = sample_id\n",
      "C:\\Users\\PC\\AppData\\Local\\Temp\\ipykernel_4980\\1846137033.py:69: SettingWithCopyWarning: \n",
      "A value is trying to be set on a copy of a slice from a DataFrame.\n",
      "Try using .loc[row_indexer,col_indexer] = value instead\n",
      "\n",
      "See the caveats in the documentation: https://pandas.pydata.org/pandas-docs/stable/user_guide/indexing.html#returning-a-view-versus-a-copy\n",
      "  df_clean['sample_id'] = sample_id\n"
     ]
    },
    {
     "name": "stdout",
     "output_type": "stream",
     "text": [
      "Finished processing sample: b9e82597-fdf2-4479-a764-29193ddbd58f.rna_seq.augmented_star_gene_counts, shape: (60660, 10)\n",
      "Reading file: C:\\Users\\PC\\Desktop\\gene-expression-cancer-prediction\\rna_seq\\422ef158-74dd-4a5e-88a6-5b0da33004d1\\9b7c81c7-d03c-446c-9d25-8c966058b0e3.rna_seq.augmented_star_gene_counts.tsv\n",
      "Processing sample: 9b7c81c7-d03c-446c-9d25-8c966058b0e3.rna_seq.augmented_star_gene_counts\n",
      "Finished processing sample: 9b7c81c7-d03c-446c-9d25-8c966058b0e3.rna_seq.augmented_star_gene_counts, shape: (60660, 10)\n",
      "Reading file: C:\\Users\\PC\\Desktop\\gene-expression-cancer-prediction\\rna_seq\\425a82ae-e0bf-48ae-946f-58ccc2571bfd\\c5bb9834-a08f-4729-9aec-22f9a2816184.rna_seq.augmented_star_gene_counts.tsv\n",
      "Processing sample: c5bb9834-a08f-4729-9aec-22f9a2816184.rna_seq.augmented_star_gene_counts\n"
     ]
    },
    {
     "name": "stderr",
     "output_type": "stream",
     "text": [
      "C:\\Users\\PC\\AppData\\Local\\Temp\\ipykernel_4980\\1846137033.py:69: SettingWithCopyWarning: \n",
      "A value is trying to be set on a copy of a slice from a DataFrame.\n",
      "Try using .loc[row_indexer,col_indexer] = value instead\n",
      "\n",
      "See the caveats in the documentation: https://pandas.pydata.org/pandas-docs/stable/user_guide/indexing.html#returning-a-view-versus-a-copy\n",
      "  df_clean['sample_id'] = sample_id\n"
     ]
    },
    {
     "name": "stdout",
     "output_type": "stream",
     "text": [
      "Finished processing sample: c5bb9834-a08f-4729-9aec-22f9a2816184.rna_seq.augmented_star_gene_counts, shape: (60660, 10)\n",
      "Reading file: C:\\Users\\PC\\Desktop\\gene-expression-cancer-prediction\\rna_seq\\427a04c9-9b48-49de-8a47-2adc4e1dd32a\\fead73ce-2e66-4647-8b6c-b8bbdaaf30fe.rna_seq.augmented_star_gene_counts.tsv\n",
      "Processing sample: fead73ce-2e66-4647-8b6c-b8bbdaaf30fe.rna_seq.augmented_star_gene_counts\n"
     ]
    },
    {
     "name": "stderr",
     "output_type": "stream",
     "text": [
      "C:\\Users\\PC\\AppData\\Local\\Temp\\ipykernel_4980\\1846137033.py:69: SettingWithCopyWarning: \n",
      "A value is trying to be set on a copy of a slice from a DataFrame.\n",
      "Try using .loc[row_indexer,col_indexer] = value instead\n",
      "\n",
      "See the caveats in the documentation: https://pandas.pydata.org/pandas-docs/stable/user_guide/indexing.html#returning-a-view-versus-a-copy\n",
      "  df_clean['sample_id'] = sample_id\n",
      "C:\\Users\\PC\\AppData\\Local\\Temp\\ipykernel_4980\\1846137033.py:69: SettingWithCopyWarning: \n",
      "A value is trying to be set on a copy of a slice from a DataFrame.\n",
      "Try using .loc[row_indexer,col_indexer] = value instead\n",
      "\n",
      "See the caveats in the documentation: https://pandas.pydata.org/pandas-docs/stable/user_guide/indexing.html#returning-a-view-versus-a-copy\n",
      "  df_clean['sample_id'] = sample_id\n"
     ]
    },
    {
     "name": "stdout",
     "output_type": "stream",
     "text": [
      "Finished processing sample: fead73ce-2e66-4647-8b6c-b8bbdaaf30fe.rna_seq.augmented_star_gene_counts, shape: (60660, 10)\n",
      "Reading file: C:\\Users\\PC\\Desktop\\gene-expression-cancer-prediction\\rna_seq\\430184b1-040d-4b3a-863d-1e6c71009d93\\73729b89-4802-4780-9e7f-cb160a04bb17.rna_seq.augmented_star_gene_counts.tsv\n",
      "Processing sample: 73729b89-4802-4780-9e7f-cb160a04bb17.rna_seq.augmented_star_gene_counts\n",
      "Finished processing sample: 73729b89-4802-4780-9e7f-cb160a04bb17.rna_seq.augmented_star_gene_counts, shape: (60660, 10)\n",
      "Reading file: C:\\Users\\PC\\Desktop\\gene-expression-cancer-prediction\\rna_seq\\435f3fbf-5c8f-4800-bff4-3b4d5f9daf2e\\8563d0ce-646e-4992-897d-5634f023ecba.rna_seq.augmented_star_gene_counts.tsv\n",
      "Processing sample: 8563d0ce-646e-4992-897d-5634f023ecba.rna_seq.augmented_star_gene_counts\n"
     ]
    },
    {
     "name": "stderr",
     "output_type": "stream",
     "text": [
      "C:\\Users\\PC\\AppData\\Local\\Temp\\ipykernel_4980\\1846137033.py:69: SettingWithCopyWarning: \n",
      "A value is trying to be set on a copy of a slice from a DataFrame.\n",
      "Try using .loc[row_indexer,col_indexer] = value instead\n",
      "\n",
      "See the caveats in the documentation: https://pandas.pydata.org/pandas-docs/stable/user_guide/indexing.html#returning-a-view-versus-a-copy\n",
      "  df_clean['sample_id'] = sample_id\n",
      "C:\\Users\\PC\\AppData\\Local\\Temp\\ipykernel_4980\\1846137033.py:69: SettingWithCopyWarning: \n",
      "A value is trying to be set on a copy of a slice from a DataFrame.\n",
      "Try using .loc[row_indexer,col_indexer] = value instead\n",
      "\n",
      "See the caveats in the documentation: https://pandas.pydata.org/pandas-docs/stable/user_guide/indexing.html#returning-a-view-versus-a-copy\n",
      "  df_clean['sample_id'] = sample_id\n"
     ]
    },
    {
     "name": "stdout",
     "output_type": "stream",
     "text": [
      "Finished processing sample: 8563d0ce-646e-4992-897d-5634f023ecba.rna_seq.augmented_star_gene_counts, shape: (60660, 10)\n",
      "Reading file: C:\\Users\\PC\\Desktop\\gene-expression-cancer-prediction\\rna_seq\\43820fe3-a899-4e6b-9227-27e32edaefd5\\fc70931f-4a97-4538-b055-8ed988ab601c.rna_seq.augmented_star_gene_counts.tsv\n",
      "Processing sample: fc70931f-4a97-4538-b055-8ed988ab601c.rna_seq.augmented_star_gene_counts\n",
      "Finished processing sample: fc70931f-4a97-4538-b055-8ed988ab601c.rna_seq.augmented_star_gene_counts, shape: (60660, 10)\n",
      "Reading file: C:\\Users\\PC\\Desktop\\gene-expression-cancer-prediction\\rna_seq\\4382bb60-997e-4a1a-9cdb-3d8738806379\\790ea932-848f-40cf-ab94-673eea700aa2.rna_seq.augmented_star_gene_counts.tsv\n",
      "Processing sample: 790ea932-848f-40cf-ab94-673eea700aa2.rna_seq.augmented_star_gene_counts\n"
     ]
    },
    {
     "name": "stderr",
     "output_type": "stream",
     "text": [
      "C:\\Users\\PC\\AppData\\Local\\Temp\\ipykernel_4980\\1846137033.py:69: SettingWithCopyWarning: \n",
      "A value is trying to be set on a copy of a slice from a DataFrame.\n",
      "Try using .loc[row_indexer,col_indexer] = value instead\n",
      "\n",
      "See the caveats in the documentation: https://pandas.pydata.org/pandas-docs/stable/user_guide/indexing.html#returning-a-view-versus-a-copy\n",
      "  df_clean['sample_id'] = sample_id\n",
      "C:\\Users\\PC\\AppData\\Local\\Temp\\ipykernel_4980\\1846137033.py:69: SettingWithCopyWarning: \n",
      "A value is trying to be set on a copy of a slice from a DataFrame.\n",
      "Try using .loc[row_indexer,col_indexer] = value instead\n",
      "\n",
      "See the caveats in the documentation: https://pandas.pydata.org/pandas-docs/stable/user_guide/indexing.html#returning-a-view-versus-a-copy\n",
      "  df_clean['sample_id'] = sample_id\n"
     ]
    },
    {
     "name": "stdout",
     "output_type": "stream",
     "text": [
      "Finished processing sample: 790ea932-848f-40cf-ab94-673eea700aa2.rna_seq.augmented_star_gene_counts, shape: (60660, 10)\n",
      "Reading file: C:\\Users\\PC\\Desktop\\gene-expression-cancer-prediction\\rna_seq\\440bdce7-eb0c-4661-b96a-e90d10e230d6\\d76cd13a-0481-442a-bfe6-ad322fc3851a.rna_seq.augmented_star_gene_counts.tsv\n",
      "Processing sample: d76cd13a-0481-442a-bfe6-ad322fc3851a.rna_seq.augmented_star_gene_counts\n",
      "Finished processing sample: d76cd13a-0481-442a-bfe6-ad322fc3851a.rna_seq.augmented_star_gene_counts, shape: (60660, 10)\n",
      "Reading file: C:\\Users\\PC\\Desktop\\gene-expression-cancer-prediction\\rna_seq\\44c12577-af9f-4f8c-8b18-24269d6604cb\\c7066edf-43fc-4bcf-bb63-ab75860d2410.rna_seq.augmented_star_gene_counts.tsv\n",
      "Processing sample: c7066edf-43fc-4bcf-bb63-ab75860d2410.rna_seq.augmented_star_gene_counts\n"
     ]
    },
    {
     "name": "stderr",
     "output_type": "stream",
     "text": [
      "C:\\Users\\PC\\AppData\\Local\\Temp\\ipykernel_4980\\1846137033.py:69: SettingWithCopyWarning: \n",
      "A value is trying to be set on a copy of a slice from a DataFrame.\n",
      "Try using .loc[row_indexer,col_indexer] = value instead\n",
      "\n",
      "See the caveats in the documentation: https://pandas.pydata.org/pandas-docs/stable/user_guide/indexing.html#returning-a-view-versus-a-copy\n",
      "  df_clean['sample_id'] = sample_id\n",
      "C:\\Users\\PC\\AppData\\Local\\Temp\\ipykernel_4980\\1846137033.py:69: SettingWithCopyWarning: \n",
      "A value is trying to be set on a copy of a slice from a DataFrame.\n",
      "Try using .loc[row_indexer,col_indexer] = value instead\n",
      "\n",
      "See the caveats in the documentation: https://pandas.pydata.org/pandas-docs/stable/user_guide/indexing.html#returning-a-view-versus-a-copy\n",
      "  df_clean['sample_id'] = sample_id\n"
     ]
    },
    {
     "name": "stdout",
     "output_type": "stream",
     "text": [
      "Finished processing sample: c7066edf-43fc-4bcf-bb63-ab75860d2410.rna_seq.augmented_star_gene_counts, shape: (60660, 10)\n",
      "Reading file: C:\\Users\\PC\\Desktop\\gene-expression-cancer-prediction\\rna_seq\\452e9e11-5545-4e7a-abfb-2486e70206bd\\f9203ebe-d6c3-423b-ad65-28db38612f89.rna_seq.augmented_star_gene_counts.tsv\n",
      "Processing sample: f9203ebe-d6c3-423b-ad65-28db38612f89.rna_seq.augmented_star_gene_counts\n",
      "Finished processing sample: f9203ebe-d6c3-423b-ad65-28db38612f89.rna_seq.augmented_star_gene_counts, shape: (60660, 10)\n",
      "Reading file: C:\\Users\\PC\\Desktop\\gene-expression-cancer-prediction\\rna_seq\\45584684-6082-422f-abe5-ef918f8ee77a\\44beea06-28a7-490a-b6bb-4e023230e51c.rna_seq.augmented_star_gene_counts.tsv\n",
      "Processing sample: 44beea06-28a7-490a-b6bb-4e023230e51c.rna_seq.augmented_star_gene_counts\n"
     ]
    },
    {
     "name": "stderr",
     "output_type": "stream",
     "text": [
      "C:\\Users\\PC\\AppData\\Local\\Temp\\ipykernel_4980\\1846137033.py:69: SettingWithCopyWarning: \n",
      "A value is trying to be set on a copy of a slice from a DataFrame.\n",
      "Try using .loc[row_indexer,col_indexer] = value instead\n",
      "\n",
      "See the caveats in the documentation: https://pandas.pydata.org/pandas-docs/stable/user_guide/indexing.html#returning-a-view-versus-a-copy\n",
      "  df_clean['sample_id'] = sample_id\n",
      "C:\\Users\\PC\\AppData\\Local\\Temp\\ipykernel_4980\\1846137033.py:69: SettingWithCopyWarning: \n",
      "A value is trying to be set on a copy of a slice from a DataFrame.\n",
      "Try using .loc[row_indexer,col_indexer] = value instead\n",
      "\n",
      "See the caveats in the documentation: https://pandas.pydata.org/pandas-docs/stable/user_guide/indexing.html#returning-a-view-versus-a-copy\n",
      "  df_clean['sample_id'] = sample_id\n"
     ]
    },
    {
     "name": "stdout",
     "output_type": "stream",
     "text": [
      "Finished processing sample: 44beea06-28a7-490a-b6bb-4e023230e51c.rna_seq.augmented_star_gene_counts, shape: (60660, 10)\n",
      "Reading file: C:\\Users\\PC\\Desktop\\gene-expression-cancer-prediction\\rna_seq\\45bf52c6-b1a3-4f01-8345-a224fc195e18\\5020cd67-6bd9-420c-bc6a-1cc8f2f78bde.rna_seq.augmented_star_gene_counts.tsv\n",
      "Processing sample: 5020cd67-6bd9-420c-bc6a-1cc8f2f78bde.rna_seq.augmented_star_gene_counts\n",
      "Finished processing sample: 5020cd67-6bd9-420c-bc6a-1cc8f2f78bde.rna_seq.augmented_star_gene_counts, shape: (60660, 10)\n",
      "Reading file: C:\\Users\\PC\\Desktop\\gene-expression-cancer-prediction\\rna_seq\\4660cd29-08ac-452c-9bb8-10e9d9e906ab\\45f837c9-6b9e-4eed-ba56-9715b4a0356d.rna_seq.augmented_star_gene_counts.tsv\n",
      "Processing sample: 45f837c9-6b9e-4eed-ba56-9715b4a0356d.rna_seq.augmented_star_gene_counts\n"
     ]
    },
    {
     "name": "stderr",
     "output_type": "stream",
     "text": [
      "C:\\Users\\PC\\AppData\\Local\\Temp\\ipykernel_4980\\1846137033.py:69: SettingWithCopyWarning: \n",
      "A value is trying to be set on a copy of a slice from a DataFrame.\n",
      "Try using .loc[row_indexer,col_indexer] = value instead\n",
      "\n",
      "See the caveats in the documentation: https://pandas.pydata.org/pandas-docs/stable/user_guide/indexing.html#returning-a-view-versus-a-copy\n",
      "  df_clean['sample_id'] = sample_id\n"
     ]
    },
    {
     "name": "stdout",
     "output_type": "stream",
     "text": [
      "Finished processing sample: 45f837c9-6b9e-4eed-ba56-9715b4a0356d.rna_seq.augmented_star_gene_counts, shape: (60660, 10)\n",
      "Reading file: C:\\Users\\PC\\Desktop\\gene-expression-cancer-prediction\\rna_seq\\4662f2d3-edd6-4260-a4ad-04c46ca54443\\960df455-dab8-4c59-9a99-579cdabe4d19.rna_seq.augmented_star_gene_counts.tsv\n",
      "Processing sample: 960df455-dab8-4c59-9a99-579cdabe4d19.rna_seq.augmented_star_gene_counts\n"
     ]
    },
    {
     "name": "stderr",
     "output_type": "stream",
     "text": [
      "C:\\Users\\PC\\AppData\\Local\\Temp\\ipykernel_4980\\1846137033.py:69: SettingWithCopyWarning: \n",
      "A value is trying to be set on a copy of a slice from a DataFrame.\n",
      "Try using .loc[row_indexer,col_indexer] = value instead\n",
      "\n",
      "See the caveats in the documentation: https://pandas.pydata.org/pandas-docs/stable/user_guide/indexing.html#returning-a-view-versus-a-copy\n",
      "  df_clean['sample_id'] = sample_id\n",
      "C:\\Users\\PC\\AppData\\Local\\Temp\\ipykernel_4980\\1846137033.py:69: SettingWithCopyWarning: \n",
      "A value is trying to be set on a copy of a slice from a DataFrame.\n",
      "Try using .loc[row_indexer,col_indexer] = value instead\n",
      "\n",
      "See the caveats in the documentation: https://pandas.pydata.org/pandas-docs/stable/user_guide/indexing.html#returning-a-view-versus-a-copy\n",
      "  df_clean['sample_id'] = sample_id\n"
     ]
    },
    {
     "name": "stdout",
     "output_type": "stream",
     "text": [
      "Finished processing sample: 960df455-dab8-4c59-9a99-579cdabe4d19.rna_seq.augmented_star_gene_counts, shape: (60660, 10)\n",
      "Reading file: C:\\Users\\PC\\Desktop\\gene-expression-cancer-prediction\\rna_seq\\466bf078-4844-457e-8f59-7b0ca28024d8\\ec60e081-f075-4c72-b1e7-62e1f1429fc1.rna_seq.augmented_star_gene_counts.tsv\n",
      "Processing sample: ec60e081-f075-4c72-b1e7-62e1f1429fc1.rna_seq.augmented_star_gene_counts\n",
      "Finished processing sample: ec60e081-f075-4c72-b1e7-62e1f1429fc1.rna_seq.augmented_star_gene_counts, shape: (60660, 10)\n",
      "Reading file: C:\\Users\\PC\\Desktop\\gene-expression-cancer-prediction\\rna_seq\\46933fec-1800-4da5-814c-30cce4ae2fb5\\afd15ee9-ef38-4d14-b1c1-7f4267fe6a04.rna_seq.augmented_star_gene_counts.tsv\n",
      "Processing sample: afd15ee9-ef38-4d14-b1c1-7f4267fe6a04.rna_seq.augmented_star_gene_counts\n"
     ]
    },
    {
     "name": "stderr",
     "output_type": "stream",
     "text": [
      "C:\\Users\\PC\\AppData\\Local\\Temp\\ipykernel_4980\\1846137033.py:69: SettingWithCopyWarning: \n",
      "A value is trying to be set on a copy of a slice from a DataFrame.\n",
      "Try using .loc[row_indexer,col_indexer] = value instead\n",
      "\n",
      "See the caveats in the documentation: https://pandas.pydata.org/pandas-docs/stable/user_guide/indexing.html#returning-a-view-versus-a-copy\n",
      "  df_clean['sample_id'] = sample_id\n"
     ]
    },
    {
     "name": "stdout",
     "output_type": "stream",
     "text": [
      "Finished processing sample: afd15ee9-ef38-4d14-b1c1-7f4267fe6a04.rna_seq.augmented_star_gene_counts, shape: (60660, 10)\n",
      "Reading file: C:\\Users\\PC\\Desktop\\gene-expression-cancer-prediction\\rna_seq\\469c052c-d2c8-4626-af1c-7276653168fe\\f738acc1-0445-49e0-a279-3469620c8d4a.rna_seq.augmented_star_gene_counts.tsv\n",
      "Processing sample: f738acc1-0445-49e0-a279-3469620c8d4a.rna_seq.augmented_star_gene_counts\n"
     ]
    },
    {
     "name": "stderr",
     "output_type": "stream",
     "text": [
      "C:\\Users\\PC\\AppData\\Local\\Temp\\ipykernel_4980\\1846137033.py:69: SettingWithCopyWarning: \n",
      "A value is trying to be set on a copy of a slice from a DataFrame.\n",
      "Try using .loc[row_indexer,col_indexer] = value instead\n",
      "\n",
      "See the caveats in the documentation: https://pandas.pydata.org/pandas-docs/stable/user_guide/indexing.html#returning-a-view-versus-a-copy\n",
      "  df_clean['sample_id'] = sample_id\n",
      "C:\\Users\\PC\\AppData\\Local\\Temp\\ipykernel_4980\\1846137033.py:69: SettingWithCopyWarning: \n",
      "A value is trying to be set on a copy of a slice from a DataFrame.\n",
      "Try using .loc[row_indexer,col_indexer] = value instead\n",
      "\n",
      "See the caveats in the documentation: https://pandas.pydata.org/pandas-docs/stable/user_guide/indexing.html#returning-a-view-versus-a-copy\n",
      "  df_clean['sample_id'] = sample_id\n"
     ]
    },
    {
     "name": "stdout",
     "output_type": "stream",
     "text": [
      "Finished processing sample: f738acc1-0445-49e0-a279-3469620c8d4a.rna_seq.augmented_star_gene_counts, shape: (60660, 10)\n",
      "Reading file: C:\\Users\\PC\\Desktop\\gene-expression-cancer-prediction\\rna_seq\\478a40b1-0f88-401d-92b6-4b58b2c56798\\4fc53009-8904-4336-852b-ee2aea40f5e2.rna_seq.augmented_star_gene_counts.tsv\n",
      "Processing sample: 4fc53009-8904-4336-852b-ee2aea40f5e2.rna_seq.augmented_star_gene_counts\n",
      "Finished processing sample: 4fc53009-8904-4336-852b-ee2aea40f5e2.rna_seq.augmented_star_gene_counts, shape: (60660, 10)\n",
      "Reading file: C:\\Users\\PC\\Desktop\\gene-expression-cancer-prediction\\rna_seq\\478c9754-5a19-477b-8b9d-0825f95f88ff\\80982d2d-ce35-4251-a545-391c0d6295d8.rna_seq.augmented_star_gene_counts.tsv\n",
      "Processing sample: 80982d2d-ce35-4251-a545-391c0d6295d8.rna_seq.augmented_star_gene_counts\n"
     ]
    },
    {
     "name": "stderr",
     "output_type": "stream",
     "text": [
      "C:\\Users\\PC\\AppData\\Local\\Temp\\ipykernel_4980\\1846137033.py:69: SettingWithCopyWarning: \n",
      "A value is trying to be set on a copy of a slice from a DataFrame.\n",
      "Try using .loc[row_indexer,col_indexer] = value instead\n",
      "\n",
      "See the caveats in the documentation: https://pandas.pydata.org/pandas-docs/stable/user_guide/indexing.html#returning-a-view-versus-a-copy\n",
      "  df_clean['sample_id'] = sample_id\n",
      "C:\\Users\\PC\\AppData\\Local\\Temp\\ipykernel_4980\\1846137033.py:69: SettingWithCopyWarning: \n",
      "A value is trying to be set on a copy of a slice from a DataFrame.\n",
      "Try using .loc[row_indexer,col_indexer] = value instead\n",
      "\n",
      "See the caveats in the documentation: https://pandas.pydata.org/pandas-docs/stable/user_guide/indexing.html#returning-a-view-versus-a-copy\n",
      "  df_clean['sample_id'] = sample_id\n"
     ]
    },
    {
     "name": "stdout",
     "output_type": "stream",
     "text": [
      "Finished processing sample: 80982d2d-ce35-4251-a545-391c0d6295d8.rna_seq.augmented_star_gene_counts, shape: (60660, 10)\n",
      "Reading file: C:\\Users\\PC\\Desktop\\gene-expression-cancer-prediction\\rna_seq\\481c702a-58ee-4fab-9559-434a45615aa5\\dc3a76a7-bac2-43c0-90e2-e251e459c659.rna_seq.augmented_star_gene_counts.tsv\n",
      "Processing sample: dc3a76a7-bac2-43c0-90e2-e251e459c659.rna_seq.augmented_star_gene_counts\n",
      "Finished processing sample: dc3a76a7-bac2-43c0-90e2-e251e459c659.rna_seq.augmented_star_gene_counts, shape: (60660, 10)\n",
      "Reading file: C:\\Users\\PC\\Desktop\\gene-expression-cancer-prediction\\rna_seq\\488399aa-ef3c-42d7-817f-9db11b9902dd\\a8e0466b-d106-44b7-b846-c4fb666715f5.rna_seq.augmented_star_gene_counts.tsv\n",
      "Processing sample: a8e0466b-d106-44b7-b846-c4fb666715f5.rna_seq.augmented_star_gene_counts\n"
     ]
    },
    {
     "name": "stderr",
     "output_type": "stream",
     "text": [
      "C:\\Users\\PC\\AppData\\Local\\Temp\\ipykernel_4980\\1846137033.py:69: SettingWithCopyWarning: \n",
      "A value is trying to be set on a copy of a slice from a DataFrame.\n",
      "Try using .loc[row_indexer,col_indexer] = value instead\n",
      "\n",
      "See the caveats in the documentation: https://pandas.pydata.org/pandas-docs/stable/user_guide/indexing.html#returning-a-view-versus-a-copy\n",
      "  df_clean['sample_id'] = sample_id\n",
      "C:\\Users\\PC\\AppData\\Local\\Temp\\ipykernel_4980\\1846137033.py:69: SettingWithCopyWarning: \n",
      "A value is trying to be set on a copy of a slice from a DataFrame.\n",
      "Try using .loc[row_indexer,col_indexer] = value instead\n",
      "\n",
      "See the caveats in the documentation: https://pandas.pydata.org/pandas-docs/stable/user_guide/indexing.html#returning-a-view-versus-a-copy\n",
      "  df_clean['sample_id'] = sample_id\n"
     ]
    },
    {
     "name": "stdout",
     "output_type": "stream",
     "text": [
      "Finished processing sample: a8e0466b-d106-44b7-b846-c4fb666715f5.rna_seq.augmented_star_gene_counts, shape: (60660, 10)\n",
      "Reading file: C:\\Users\\PC\\Desktop\\gene-expression-cancer-prediction\\rna_seq\\490df7f9-4b05-449d-bf47-d7de49aa50c0\\5cbf0ea7-4f5e-4dd7-a93e-8eb12a22d4e6.rna_seq.augmented_star_gene_counts.tsv\n",
      "Processing sample: 5cbf0ea7-4f5e-4dd7-a93e-8eb12a22d4e6.rna_seq.augmented_star_gene_counts\n",
      "Finished processing sample: 5cbf0ea7-4f5e-4dd7-a93e-8eb12a22d4e6.rna_seq.augmented_star_gene_counts, shape: (60660, 10)\n",
      "Reading file: C:\\Users\\PC\\Desktop\\gene-expression-cancer-prediction\\rna_seq\\4a2ad226-ed26-4f81-af7d-9d8b6db7cdd4\\f9683515-b944-4c7b-b41d-ea105bd37a5a.rna_seq.augmented_star_gene_counts.tsv\n",
      "Processing sample: f9683515-b944-4c7b-b41d-ea105bd37a5a.rna_seq.augmented_star_gene_counts\n",
      "Finished processing sample: f9683515-b944-4c7b-b41d-ea105bd37a5a.rna_seq.augmented_star_gene_counts, shape: (60660, 10)\n",
      "Reading file: C:\\Users\\PC\\Desktop\\gene-expression-cancer-prediction\\rna_seq\\4ad2cbb3-5bca-462b-af1f-8a292c317722\\e8909d26-a289-4dc7-a819-5883c621efac.rna_seq.augmented_star_gene_counts.tsv\n",
      "Processing sample: e8909d26-a289-4dc7-a819-5883c621efac.rna_seq.augmented_star_gene_counts\n"
     ]
    },
    {
     "name": "stderr",
     "output_type": "stream",
     "text": [
      "C:\\Users\\PC\\AppData\\Local\\Temp\\ipykernel_4980\\1846137033.py:69: SettingWithCopyWarning: \n",
      "A value is trying to be set on a copy of a slice from a DataFrame.\n",
      "Try using .loc[row_indexer,col_indexer] = value instead\n",
      "\n",
      "See the caveats in the documentation: https://pandas.pydata.org/pandas-docs/stable/user_guide/indexing.html#returning-a-view-versus-a-copy\n",
      "  df_clean['sample_id'] = sample_id\n",
      "C:\\Users\\PC\\AppData\\Local\\Temp\\ipykernel_4980\\1846137033.py:69: SettingWithCopyWarning: \n",
      "A value is trying to be set on a copy of a slice from a DataFrame.\n",
      "Try using .loc[row_indexer,col_indexer] = value instead\n",
      "\n",
      "See the caveats in the documentation: https://pandas.pydata.org/pandas-docs/stable/user_guide/indexing.html#returning-a-view-versus-a-copy\n",
      "  df_clean['sample_id'] = sample_id\n"
     ]
    },
    {
     "name": "stdout",
     "output_type": "stream",
     "text": [
      "Finished processing sample: e8909d26-a289-4dc7-a819-5883c621efac.rna_seq.augmented_star_gene_counts, shape: (60660, 10)\n",
      "Reading file: C:\\Users\\PC\\Desktop\\gene-expression-cancer-prediction\\rna_seq\\4af2ea24-60fe-4fc1-858b-68ed98855082\\8f1c0479-48ac-46e7-a2c2-973a8a6c4747.rna_seq.augmented_star_gene_counts.tsv\n",
      "Processing sample: 8f1c0479-48ac-46e7-a2c2-973a8a6c4747.rna_seq.augmented_star_gene_counts\n"
     ]
    },
    {
     "name": "stderr",
     "output_type": "stream",
     "text": [
      "C:\\Users\\PC\\AppData\\Local\\Temp\\ipykernel_4980\\1846137033.py:69: SettingWithCopyWarning: \n",
      "A value is trying to be set on a copy of a slice from a DataFrame.\n",
      "Try using .loc[row_indexer,col_indexer] = value instead\n",
      "\n",
      "See the caveats in the documentation: https://pandas.pydata.org/pandas-docs/stable/user_guide/indexing.html#returning-a-view-versus-a-copy\n",
      "  df_clean['sample_id'] = sample_id\n",
      "C:\\Users\\PC\\AppData\\Local\\Temp\\ipykernel_4980\\1846137033.py:69: SettingWithCopyWarning: \n",
      "A value is trying to be set on a copy of a slice from a DataFrame.\n",
      "Try using .loc[row_indexer,col_indexer] = value instead\n",
      "\n",
      "See the caveats in the documentation: https://pandas.pydata.org/pandas-docs/stable/user_guide/indexing.html#returning-a-view-versus-a-copy\n",
      "  df_clean['sample_id'] = sample_id\n"
     ]
    },
    {
     "name": "stdout",
     "output_type": "stream",
     "text": [
      "Finished processing sample: 8f1c0479-48ac-46e7-a2c2-973a8a6c4747.rna_seq.augmented_star_gene_counts, shape: (60660, 10)\n",
      "Reading file: C:\\Users\\PC\\Desktop\\gene-expression-cancer-prediction\\rna_seq\\4b445a8f-b60b-44c3-b501-de93010172f7\\ce098c6d-1b12-48df-bbbb-4f1ea8788942.rna_seq.augmented_star_gene_counts.tsv\n",
      "Processing sample: ce098c6d-1b12-48df-bbbb-4f1ea8788942.rna_seq.augmented_star_gene_counts\n",
      "Finished processing sample: ce098c6d-1b12-48df-bbbb-4f1ea8788942.rna_seq.augmented_star_gene_counts, shape: (60660, 10)\n",
      "Reading file: C:\\Users\\PC\\Desktop\\gene-expression-cancer-prediction\\rna_seq\\4b558a24-b10c-4d59-a921-10e6a3a9fb35\\3621ce2e-a1eb-4a45-ac06-779a780b0b99.rna_seq.augmented_star_gene_counts.tsv\n",
      "Processing sample: 3621ce2e-a1eb-4a45-ac06-779a780b0b99.rna_seq.augmented_star_gene_counts\n"
     ]
    },
    {
     "name": "stderr",
     "output_type": "stream",
     "text": [
      "C:\\Users\\PC\\AppData\\Local\\Temp\\ipykernel_4980\\1846137033.py:69: SettingWithCopyWarning: \n",
      "A value is trying to be set on a copy of a slice from a DataFrame.\n",
      "Try using .loc[row_indexer,col_indexer] = value instead\n",
      "\n",
      "See the caveats in the documentation: https://pandas.pydata.org/pandas-docs/stable/user_guide/indexing.html#returning-a-view-versus-a-copy\n",
      "  df_clean['sample_id'] = sample_id\n"
     ]
    },
    {
     "name": "stdout",
     "output_type": "stream",
     "text": [
      "Finished processing sample: 3621ce2e-a1eb-4a45-ac06-779a780b0b99.rna_seq.augmented_star_gene_counts, shape: (60660, 10)\n",
      "Reading file: C:\\Users\\PC\\Desktop\\gene-expression-cancer-prediction\\rna_seq\\4b8ef410-8612-4c64-839f-47770deba446\\9e785594-f00c-4805-8901-66c73fe2588d.rna_seq.augmented_star_gene_counts.tsv\n",
      "Processing sample: 9e785594-f00c-4805-8901-66c73fe2588d.rna_seq.augmented_star_gene_counts\n"
     ]
    },
    {
     "name": "stderr",
     "output_type": "stream",
     "text": [
      "C:\\Users\\PC\\AppData\\Local\\Temp\\ipykernel_4980\\1846137033.py:69: SettingWithCopyWarning: \n",
      "A value is trying to be set on a copy of a slice from a DataFrame.\n",
      "Try using .loc[row_indexer,col_indexer] = value instead\n",
      "\n",
      "See the caveats in the documentation: https://pandas.pydata.org/pandas-docs/stable/user_guide/indexing.html#returning-a-view-versus-a-copy\n",
      "  df_clean['sample_id'] = sample_id\n",
      "C:\\Users\\PC\\AppData\\Local\\Temp\\ipykernel_4980\\1846137033.py:69: SettingWithCopyWarning: \n",
      "A value is trying to be set on a copy of a slice from a DataFrame.\n",
      "Try using .loc[row_indexer,col_indexer] = value instead\n",
      "\n",
      "See the caveats in the documentation: https://pandas.pydata.org/pandas-docs/stable/user_guide/indexing.html#returning-a-view-versus-a-copy\n",
      "  df_clean['sample_id'] = sample_id\n"
     ]
    },
    {
     "name": "stdout",
     "output_type": "stream",
     "text": [
      "Finished processing sample: 9e785594-f00c-4805-8901-66c73fe2588d.rna_seq.augmented_star_gene_counts, shape: (60660, 10)\n",
      "Reading file: C:\\Users\\PC\\Desktop\\gene-expression-cancer-prediction\\rna_seq\\4bb6eb79-4256-4b19-b158-883da969a582\\90950125-1b6b-499d-97e2-5d6b78b3e6fe.rna_seq.augmented_star_gene_counts.tsv\n",
      "Processing sample: 90950125-1b6b-499d-97e2-5d6b78b3e6fe.rna_seq.augmented_star_gene_counts\n",
      "Finished processing sample: 90950125-1b6b-499d-97e2-5d6b78b3e6fe.rna_seq.augmented_star_gene_counts, shape: (60660, 10)\n",
      "Reading file: C:\\Users\\PC\\Desktop\\gene-expression-cancer-prediction\\rna_seq\\4bf6ebc1-575d-49e4-9f66-068b537373c0\\767425eb-9fa2-45bc-a3ad-ca8dbafd373f.rna_seq.augmented_star_gene_counts.tsv\n",
      "Processing sample: 767425eb-9fa2-45bc-a3ad-ca8dbafd373f.rna_seq.augmented_star_gene_counts\n"
     ]
    },
    {
     "name": "stderr",
     "output_type": "stream",
     "text": [
      "C:\\Users\\PC\\AppData\\Local\\Temp\\ipykernel_4980\\1846137033.py:69: SettingWithCopyWarning: \n",
      "A value is trying to be set on a copy of a slice from a DataFrame.\n",
      "Try using .loc[row_indexer,col_indexer] = value instead\n",
      "\n",
      "See the caveats in the documentation: https://pandas.pydata.org/pandas-docs/stable/user_guide/indexing.html#returning-a-view-versus-a-copy\n",
      "  df_clean['sample_id'] = sample_id\n",
      "C:\\Users\\PC\\AppData\\Local\\Temp\\ipykernel_4980\\1846137033.py:69: SettingWithCopyWarning: \n",
      "A value is trying to be set on a copy of a slice from a DataFrame.\n",
      "Try using .loc[row_indexer,col_indexer] = value instead\n",
      "\n",
      "See the caveats in the documentation: https://pandas.pydata.org/pandas-docs/stable/user_guide/indexing.html#returning-a-view-versus-a-copy\n",
      "  df_clean['sample_id'] = sample_id\n"
     ]
    },
    {
     "name": "stdout",
     "output_type": "stream",
     "text": [
      "Finished processing sample: 767425eb-9fa2-45bc-a3ad-ca8dbafd373f.rna_seq.augmented_star_gene_counts, shape: (60660, 10)\n",
      "Reading file: C:\\Users\\PC\\Desktop\\gene-expression-cancer-prediction\\rna_seq\\4c46a463-f0e3-4e19-ad95-5dab0231d1c6\\f2ab4258-222d-4a08-a805-3628048ebf1c.rna_seq.augmented_star_gene_counts.tsv\n",
      "Processing sample: f2ab4258-222d-4a08-a805-3628048ebf1c.rna_seq.augmented_star_gene_counts\n",
      "Finished processing sample: f2ab4258-222d-4a08-a805-3628048ebf1c.rna_seq.augmented_star_gene_counts, shape: (60660, 10)\n",
      "Reading file: C:\\Users\\PC\\Desktop\\gene-expression-cancer-prediction\\rna_seq\\4c60d168-b545-46a8-8c37-81972a537a83\\56f3a401-cf18-4d25-b4af-6bacca469041.rna_seq.augmented_star_gene_counts.tsv\n",
      "Processing sample: 56f3a401-cf18-4d25-b4af-6bacca469041.rna_seq.augmented_star_gene_counts\n",
      "Finished processing sample: 56f3a401-cf18-4d25-b4af-6bacca469041.rna_seq.augmented_star_gene_counts, shape: (60660, 10)\n",
      "Reading file: C:\\Users\\PC\\Desktop\\gene-expression-cancer-prediction\\rna_seq\\4c75e72b-db9f-425b-9f14-946ee801071e\\b3d432d6-0b86-4407-98e2-99c1971283a8.rna_seq.augmented_star_gene_counts.tsv\n",
      "Processing sample: b3d432d6-0b86-4407-98e2-99c1971283a8.rna_seq.augmented_star_gene_counts\n"
     ]
    },
    {
     "name": "stderr",
     "output_type": "stream",
     "text": [
      "C:\\Users\\PC\\AppData\\Local\\Temp\\ipykernel_4980\\1846137033.py:69: SettingWithCopyWarning: \n",
      "A value is trying to be set on a copy of a slice from a DataFrame.\n",
      "Try using .loc[row_indexer,col_indexer] = value instead\n",
      "\n",
      "See the caveats in the documentation: https://pandas.pydata.org/pandas-docs/stable/user_guide/indexing.html#returning-a-view-versus-a-copy\n",
      "  df_clean['sample_id'] = sample_id\n",
      "C:\\Users\\PC\\AppData\\Local\\Temp\\ipykernel_4980\\1846137033.py:69: SettingWithCopyWarning: \n",
      "A value is trying to be set on a copy of a slice from a DataFrame.\n",
      "Try using .loc[row_indexer,col_indexer] = value instead\n",
      "\n",
      "See the caveats in the documentation: https://pandas.pydata.org/pandas-docs/stable/user_guide/indexing.html#returning-a-view-versus-a-copy\n",
      "  df_clean['sample_id'] = sample_id\n",
      "C:\\Users\\PC\\AppData\\Local\\Temp\\ipykernel_4980\\1846137033.py:69: SettingWithCopyWarning: \n",
      "A value is trying to be set on a copy of a slice from a DataFrame.\n",
      "Try using .loc[row_indexer,col_indexer] = value instead\n",
      "\n",
      "See the caveats in the documentation: https://pandas.pydata.org/pandas-docs/stable/user_guide/indexing.html#returning-a-view-versus-a-copy\n",
      "  df_clean['sample_id'] = sample_id\n"
     ]
    },
    {
     "name": "stdout",
     "output_type": "stream",
     "text": [
      "Finished processing sample: b3d432d6-0b86-4407-98e2-99c1971283a8.rna_seq.augmented_star_gene_counts, shape: (60660, 10)\n",
      "Reading file: C:\\Users\\PC\\Desktop\\gene-expression-cancer-prediction\\rna_seq\\4c9005a5-2cca-4cc3-9a6d-09eb76d780ab\\fb9c23f2-8694-41ca-a126-a5a131abeac1.rna_seq.augmented_star_gene_counts.tsv\n",
      "Processing sample: fb9c23f2-8694-41ca-a126-a5a131abeac1.rna_seq.augmented_star_gene_counts\n",
      "Finished processing sample: fb9c23f2-8694-41ca-a126-a5a131abeac1.rna_seq.augmented_star_gene_counts, shape: (60660, 10)\n",
      "Reading file: C:\\Users\\PC\\Desktop\\gene-expression-cancer-prediction\\rna_seq\\4cafa8be-69f1-4c1a-87fb-c71df6de6a74\\2ed88c3e-bf61-4e2f-b06c-0b93c9f9402e.rna_seq.augmented_star_gene_counts.tsv\n",
      "Processing sample: 2ed88c3e-bf61-4e2f-b06c-0b93c9f9402e.rna_seq.augmented_star_gene_counts\n",
      "Finished processing sample: 2ed88c3e-bf61-4e2f-b06c-0b93c9f9402e.rna_seq.augmented_star_gene_counts, shape: (60660, 10)\n",
      "Reading file: C:\\Users\\PC\\Desktop\\gene-expression-cancer-prediction\\rna_seq\\4d0dcaac-cf91-4737-931d-f308fb20df9d\\a0baf653-6f10-46fe-959c-54268fbc670e.rna_seq.augmented_star_gene_counts.tsv\n",
      "Processing sample: a0baf653-6f10-46fe-959c-54268fbc670e.rna_seq.augmented_star_gene_counts\n"
     ]
    },
    {
     "name": "stderr",
     "output_type": "stream",
     "text": [
      "C:\\Users\\PC\\AppData\\Local\\Temp\\ipykernel_4980\\1846137033.py:69: SettingWithCopyWarning: \n",
      "A value is trying to be set on a copy of a slice from a DataFrame.\n",
      "Try using .loc[row_indexer,col_indexer] = value instead\n",
      "\n",
      "See the caveats in the documentation: https://pandas.pydata.org/pandas-docs/stable/user_guide/indexing.html#returning-a-view-versus-a-copy\n",
      "  df_clean['sample_id'] = sample_id\n",
      "C:\\Users\\PC\\AppData\\Local\\Temp\\ipykernel_4980\\1846137033.py:69: SettingWithCopyWarning: \n",
      "A value is trying to be set on a copy of a slice from a DataFrame.\n",
      "Try using .loc[row_indexer,col_indexer] = value instead\n",
      "\n",
      "See the caveats in the documentation: https://pandas.pydata.org/pandas-docs/stable/user_guide/indexing.html#returning-a-view-versus-a-copy\n",
      "  df_clean['sample_id'] = sample_id\n",
      "C:\\Users\\PC\\AppData\\Local\\Temp\\ipykernel_4980\\1846137033.py:69: SettingWithCopyWarning: \n",
      "A value is trying to be set on a copy of a slice from a DataFrame.\n",
      "Try using .loc[row_indexer,col_indexer] = value instead\n",
      "\n",
      "See the caveats in the documentation: https://pandas.pydata.org/pandas-docs/stable/user_guide/indexing.html#returning-a-view-versus-a-copy\n",
      "  df_clean['sample_id'] = sample_id\n"
     ]
    },
    {
     "name": "stdout",
     "output_type": "stream",
     "text": [
      "Finished processing sample: a0baf653-6f10-46fe-959c-54268fbc670e.rna_seq.augmented_star_gene_counts, shape: (60660, 10)\n",
      "Reading file: C:\\Users\\PC\\Desktop\\gene-expression-cancer-prediction\\rna_seq\\4d2cc90a-574f-4184-9a1c-86af222e9bb6\\15933e60-dee1-493a-a4f9-d5791dd15325.rna_seq.augmented_star_gene_counts.tsv\n",
      "Processing sample: 15933e60-dee1-493a-a4f9-d5791dd15325.rna_seq.augmented_star_gene_counts\n",
      "Finished processing sample: 15933e60-dee1-493a-a4f9-d5791dd15325.rna_seq.augmented_star_gene_counts, shape: (60660, 10)\n",
      "Reading file: C:\\Users\\PC\\Desktop\\gene-expression-cancer-prediction\\rna_seq\\4dc3285f-fd32-4a3e-ad59-28597ab5323a\\9918029c-763f-4458-b929-a4db95fd5e1a.rna_seq.augmented_star_gene_counts.tsv\n",
      "Processing sample: 9918029c-763f-4458-b929-a4db95fd5e1a.rna_seq.augmented_star_gene_counts\n"
     ]
    },
    {
     "name": "stderr",
     "output_type": "stream",
     "text": [
      "C:\\Users\\PC\\AppData\\Local\\Temp\\ipykernel_4980\\1846137033.py:69: SettingWithCopyWarning: \n",
      "A value is trying to be set on a copy of a slice from a DataFrame.\n",
      "Try using .loc[row_indexer,col_indexer] = value instead\n",
      "\n",
      "See the caveats in the documentation: https://pandas.pydata.org/pandas-docs/stable/user_guide/indexing.html#returning-a-view-versus-a-copy\n",
      "  df_clean['sample_id'] = sample_id\n"
     ]
    },
    {
     "name": "stdout",
     "output_type": "stream",
     "text": [
      "Finished processing sample: 9918029c-763f-4458-b929-a4db95fd5e1a.rna_seq.augmented_star_gene_counts, shape: (60660, 10)\n",
      "Reading file: C:\\Users\\PC\\Desktop\\gene-expression-cancer-prediction\\rna_seq\\4dd3d7e2-8a60-41e8-8812-a06f413afe2b\\49ec7f30-d687-4124-a3aa-17bffb48ce26.rna_seq.augmented_star_gene_counts.tsv\n",
      "Processing sample: 49ec7f30-d687-4124-a3aa-17bffb48ce26.rna_seq.augmented_star_gene_counts\n"
     ]
    },
    {
     "name": "stderr",
     "output_type": "stream",
     "text": [
      "C:\\Users\\PC\\AppData\\Local\\Temp\\ipykernel_4980\\1846137033.py:69: SettingWithCopyWarning: \n",
      "A value is trying to be set on a copy of a slice from a DataFrame.\n",
      "Try using .loc[row_indexer,col_indexer] = value instead\n",
      "\n",
      "See the caveats in the documentation: https://pandas.pydata.org/pandas-docs/stable/user_guide/indexing.html#returning-a-view-versus-a-copy\n",
      "  df_clean['sample_id'] = sample_id\n"
     ]
    },
    {
     "name": "stdout",
     "output_type": "stream",
     "text": [
      "Finished processing sample: 49ec7f30-d687-4124-a3aa-17bffb48ce26.rna_seq.augmented_star_gene_counts, shape: (60660, 10)\n",
      "Reading file: C:\\Users\\PC\\Desktop\\gene-expression-cancer-prediction\\rna_seq\\4e261db3-6727-49bc-8a2e-77a7a30b4fa7\\3a264c56-869b-4572-89d5-12894386a0de.rna_seq.augmented_star_gene_counts.tsv\n",
      "Processing sample: 3a264c56-869b-4572-89d5-12894386a0de.rna_seq.augmented_star_gene_counts\n"
     ]
    },
    {
     "name": "stderr",
     "output_type": "stream",
     "text": [
      "C:\\Users\\PC\\AppData\\Local\\Temp\\ipykernel_4980\\1846137033.py:69: SettingWithCopyWarning: \n",
      "A value is trying to be set on a copy of a slice from a DataFrame.\n",
      "Try using .loc[row_indexer,col_indexer] = value instead\n",
      "\n",
      "See the caveats in the documentation: https://pandas.pydata.org/pandas-docs/stable/user_guide/indexing.html#returning-a-view-versus-a-copy\n",
      "  df_clean['sample_id'] = sample_id\n"
     ]
    },
    {
     "name": "stdout",
     "output_type": "stream",
     "text": [
      "Finished processing sample: 3a264c56-869b-4572-89d5-12894386a0de.rna_seq.augmented_star_gene_counts, shape: (60660, 10)\n",
      "Reading file: C:\\Users\\PC\\Desktop\\gene-expression-cancer-prediction\\rna_seq\\4e98f490-cbdf-4864-8cc3-b5f9d3c95146\\ef2a6bd9-fe3b-4b67-942c-89f3a34813ad.rna_seq.augmented_star_gene_counts.tsv\n",
      "Processing sample: ef2a6bd9-fe3b-4b67-942c-89f3a34813ad.rna_seq.augmented_star_gene_counts\n"
     ]
    },
    {
     "name": "stderr",
     "output_type": "stream",
     "text": [
      "C:\\Users\\PC\\AppData\\Local\\Temp\\ipykernel_4980\\1846137033.py:69: SettingWithCopyWarning: \n",
      "A value is trying to be set on a copy of a slice from a DataFrame.\n",
      "Try using .loc[row_indexer,col_indexer] = value instead\n",
      "\n",
      "See the caveats in the documentation: https://pandas.pydata.org/pandas-docs/stable/user_guide/indexing.html#returning-a-view-versus-a-copy\n",
      "  df_clean['sample_id'] = sample_id\n"
     ]
    },
    {
     "name": "stdout",
     "output_type": "stream",
     "text": [
      "Finished processing sample: ef2a6bd9-fe3b-4b67-942c-89f3a34813ad.rna_seq.augmented_star_gene_counts, shape: (60660, 10)\n",
      "Reading file: C:\\Users\\PC\\Desktop\\gene-expression-cancer-prediction\\rna_seq\\4ec56a4e-a3ce-4511-a517-199e2a535b1a\\d898e588-a74d-435c-b930-b96c266ff580.rna_seq.augmented_star_gene_counts.tsv\n",
      "Processing sample: d898e588-a74d-435c-b930-b96c266ff580.rna_seq.augmented_star_gene_counts\n"
     ]
    },
    {
     "name": "stderr",
     "output_type": "stream",
     "text": [
      "C:\\Users\\PC\\AppData\\Local\\Temp\\ipykernel_4980\\1846137033.py:69: SettingWithCopyWarning: \n",
      "A value is trying to be set on a copy of a slice from a DataFrame.\n",
      "Try using .loc[row_indexer,col_indexer] = value instead\n",
      "\n",
      "See the caveats in the documentation: https://pandas.pydata.org/pandas-docs/stable/user_guide/indexing.html#returning-a-view-versus-a-copy\n",
      "  df_clean['sample_id'] = sample_id\n"
     ]
    },
    {
     "name": "stdout",
     "output_type": "stream",
     "text": [
      "Finished processing sample: d898e588-a74d-435c-b930-b96c266ff580.rna_seq.augmented_star_gene_counts, shape: (60660, 10)\n",
      "Reading file: C:\\Users\\PC\\Desktop\\gene-expression-cancer-prediction\\rna_seq\\4ef3b472-5fce-4e6a-a835-659cc3fee694\\cf122ae0-0be8-43dd-a0b9-01fff585186f.rna_seq.augmented_star_gene_counts.tsv\n",
      "Processing sample: cf122ae0-0be8-43dd-a0b9-01fff585186f.rna_seq.augmented_star_gene_counts\n"
     ]
    },
    {
     "name": "stderr",
     "output_type": "stream",
     "text": [
      "C:\\Users\\PC\\AppData\\Local\\Temp\\ipykernel_4980\\1846137033.py:69: SettingWithCopyWarning: \n",
      "A value is trying to be set on a copy of a slice from a DataFrame.\n",
      "Try using .loc[row_indexer,col_indexer] = value instead\n",
      "\n",
      "See the caveats in the documentation: https://pandas.pydata.org/pandas-docs/stable/user_guide/indexing.html#returning-a-view-versus-a-copy\n",
      "  df_clean['sample_id'] = sample_id\n"
     ]
    },
    {
     "name": "stdout",
     "output_type": "stream",
     "text": [
      "Finished processing sample: cf122ae0-0be8-43dd-a0b9-01fff585186f.rna_seq.augmented_star_gene_counts, shape: (60660, 10)\n",
      "Reading file: C:\\Users\\PC\\Desktop\\gene-expression-cancer-prediction\\rna_seq\\4ef4f9f1-7883-4fff-91c0-223cac5f1887\\dbb3747a-aafe-421c-bb21-84a0b82c6a75.rna_seq.augmented_star_gene_counts.tsv\n",
      "Processing sample: dbb3747a-aafe-421c-bb21-84a0b82c6a75.rna_seq.augmented_star_gene_counts\n"
     ]
    },
    {
     "name": "stderr",
     "output_type": "stream",
     "text": [
      "C:\\Users\\PC\\AppData\\Local\\Temp\\ipykernel_4980\\1846137033.py:69: SettingWithCopyWarning: \n",
      "A value is trying to be set on a copy of a slice from a DataFrame.\n",
      "Try using .loc[row_indexer,col_indexer] = value instead\n",
      "\n",
      "See the caveats in the documentation: https://pandas.pydata.org/pandas-docs/stable/user_guide/indexing.html#returning-a-view-versus-a-copy\n",
      "  df_clean['sample_id'] = sample_id\n"
     ]
    },
    {
     "name": "stdout",
     "output_type": "stream",
     "text": [
      "Finished processing sample: dbb3747a-aafe-421c-bb21-84a0b82c6a75.rna_seq.augmented_star_gene_counts, shape: (60660, 10)\n",
      "Reading file: C:\\Users\\PC\\Desktop\\gene-expression-cancer-prediction\\rna_seq\\4f464ced-080f-41f1-9a00-955db0d5fda6\\dc76c717-eaa0-49d7-a228-2fce7a536e42.rna_seq.augmented_star_gene_counts.tsv\n",
      "Processing sample: dc76c717-eaa0-49d7-a228-2fce7a536e42.rna_seq.augmented_star_gene_counts\n"
     ]
    },
    {
     "name": "stderr",
     "output_type": "stream",
     "text": [
      "C:\\Users\\PC\\AppData\\Local\\Temp\\ipykernel_4980\\1846137033.py:69: SettingWithCopyWarning: \n",
      "A value is trying to be set on a copy of a slice from a DataFrame.\n",
      "Try using .loc[row_indexer,col_indexer] = value instead\n",
      "\n",
      "See the caveats in the documentation: https://pandas.pydata.org/pandas-docs/stable/user_guide/indexing.html#returning-a-view-versus-a-copy\n",
      "  df_clean['sample_id'] = sample_id\n"
     ]
    },
    {
     "name": "stdout",
     "output_type": "stream",
     "text": [
      "Finished processing sample: dc76c717-eaa0-49d7-a228-2fce7a536e42.rna_seq.augmented_star_gene_counts, shape: (60660, 10)\n",
      "Reading file: C:\\Users\\PC\\Desktop\\gene-expression-cancer-prediction\\rna_seq\\4f4862e1-abfc-4577-bdb2-a96759ef2b53\\7ee4348d-9975-42ba-b258-2334e089395c.rna_seq.augmented_star_gene_counts.tsv\n",
      "Processing sample: 7ee4348d-9975-42ba-b258-2334e089395c.rna_seq.augmented_star_gene_counts\n"
     ]
    },
    {
     "name": "stderr",
     "output_type": "stream",
     "text": [
      "C:\\Users\\PC\\AppData\\Local\\Temp\\ipykernel_4980\\1846137033.py:69: SettingWithCopyWarning: \n",
      "A value is trying to be set on a copy of a slice from a DataFrame.\n",
      "Try using .loc[row_indexer,col_indexer] = value instead\n",
      "\n",
      "See the caveats in the documentation: https://pandas.pydata.org/pandas-docs/stable/user_guide/indexing.html#returning-a-view-versus-a-copy\n",
      "  df_clean['sample_id'] = sample_id\n"
     ]
    },
    {
     "name": "stdout",
     "output_type": "stream",
     "text": [
      "Finished processing sample: 7ee4348d-9975-42ba-b258-2334e089395c.rna_seq.augmented_star_gene_counts, shape: (60660, 10)\n",
      "Reading file: C:\\Users\\PC\\Desktop\\gene-expression-cancer-prediction\\rna_seq\\502fcba1-9d3c-4117-86fb-70a26c090692\\36998e69-e955-49da-b859-2092caff19cb.rna_seq.augmented_star_gene_counts.tsv\n",
      "Processing sample: 36998e69-e955-49da-b859-2092caff19cb.rna_seq.augmented_star_gene_counts\n"
     ]
    },
    {
     "name": "stderr",
     "output_type": "stream",
     "text": [
      "C:\\Users\\PC\\AppData\\Local\\Temp\\ipykernel_4980\\1846137033.py:69: SettingWithCopyWarning: \n",
      "A value is trying to be set on a copy of a slice from a DataFrame.\n",
      "Try using .loc[row_indexer,col_indexer] = value instead\n",
      "\n",
      "See the caveats in the documentation: https://pandas.pydata.org/pandas-docs/stable/user_guide/indexing.html#returning-a-view-versus-a-copy\n",
      "  df_clean['sample_id'] = sample_id\n"
     ]
    },
    {
     "name": "stdout",
     "output_type": "stream",
     "text": [
      "Finished processing sample: 36998e69-e955-49da-b859-2092caff19cb.rna_seq.augmented_star_gene_counts, shape: (60660, 10)\n",
      "Reading file: C:\\Users\\PC\\Desktop\\gene-expression-cancer-prediction\\rna_seq\\5030e484-7981-462f-b78d-9fdf1a8531c5\\95305dba-073f-40d7-aa20-66553b41bdf7.rna_seq.augmented_star_gene_counts.tsv\n",
      "Processing sample: 95305dba-073f-40d7-aa20-66553b41bdf7.rna_seq.augmented_star_gene_counts\n"
     ]
    },
    {
     "name": "stderr",
     "output_type": "stream",
     "text": [
      "C:\\Users\\PC\\AppData\\Local\\Temp\\ipykernel_4980\\1846137033.py:69: SettingWithCopyWarning: \n",
      "A value is trying to be set on a copy of a slice from a DataFrame.\n",
      "Try using .loc[row_indexer,col_indexer] = value instead\n",
      "\n",
      "See the caveats in the documentation: https://pandas.pydata.org/pandas-docs/stable/user_guide/indexing.html#returning-a-view-versus-a-copy\n",
      "  df_clean['sample_id'] = sample_id\n"
     ]
    },
    {
     "name": "stdout",
     "output_type": "stream",
     "text": [
      "Finished processing sample: 95305dba-073f-40d7-aa20-66553b41bdf7.rna_seq.augmented_star_gene_counts, shape: (60660, 10)\n",
      "Reading file: C:\\Users\\PC\\Desktop\\gene-expression-cancer-prediction\\rna_seq\\5039a492-4dc7-4191-9edd-187cb181da2d\\0cf58c62-a75d-413b-8ce3-4d90f4688b04.rna_seq.augmented_star_gene_counts.tsv\n",
      "Processing sample: 0cf58c62-a75d-413b-8ce3-4d90f4688b04.rna_seq.augmented_star_gene_counts\n"
     ]
    },
    {
     "name": "stderr",
     "output_type": "stream",
     "text": [
      "C:\\Users\\PC\\AppData\\Local\\Temp\\ipykernel_4980\\1846137033.py:69: SettingWithCopyWarning: \n",
      "A value is trying to be set on a copy of a slice from a DataFrame.\n",
      "Try using .loc[row_indexer,col_indexer] = value instead\n",
      "\n",
      "See the caveats in the documentation: https://pandas.pydata.org/pandas-docs/stable/user_guide/indexing.html#returning-a-view-versus-a-copy\n",
      "  df_clean['sample_id'] = sample_id\n"
     ]
    },
    {
     "name": "stdout",
     "output_type": "stream",
     "text": [
      "Finished processing sample: 0cf58c62-a75d-413b-8ce3-4d90f4688b04.rna_seq.augmented_star_gene_counts, shape: (60660, 10)\n",
      "Reading file: C:\\Users\\PC\\Desktop\\gene-expression-cancer-prediction\\rna_seq\\5064b439-81da-4ef3-b2de-bbca8d3a07e7\\bcc561a3-5de8-4341-a5a6-13e19214b2b7.rna_seq.augmented_star_gene_counts.tsv\n",
      "Processing sample: bcc561a3-5de8-4341-a5a6-13e19214b2b7.rna_seq.augmented_star_gene_counts\n"
     ]
    },
    {
     "name": "stderr",
     "output_type": "stream",
     "text": [
      "C:\\Users\\PC\\AppData\\Local\\Temp\\ipykernel_4980\\1846137033.py:69: SettingWithCopyWarning: \n",
      "A value is trying to be set on a copy of a slice from a DataFrame.\n",
      "Try using .loc[row_indexer,col_indexer] = value instead\n",
      "\n",
      "See the caveats in the documentation: https://pandas.pydata.org/pandas-docs/stable/user_guide/indexing.html#returning-a-view-versus-a-copy\n",
      "  df_clean['sample_id'] = sample_id\n"
     ]
    },
    {
     "name": "stdout",
     "output_type": "stream",
     "text": [
      "Finished processing sample: bcc561a3-5de8-4341-a5a6-13e19214b2b7.rna_seq.augmented_star_gene_counts, shape: (60660, 10)\n",
      "Reading file: C:\\Users\\PC\\Desktop\\gene-expression-cancer-prediction\\rna_seq\\507952aa-23c0-4239-ae19-04d8f862acc2\\55d29bdf-c959-4eda-ab2b-e09d7abb58fa.rna_seq.augmented_star_gene_counts.tsv\n",
      "Processing sample: 55d29bdf-c959-4eda-ab2b-e09d7abb58fa.rna_seq.augmented_star_gene_counts\n"
     ]
    },
    {
     "name": "stderr",
     "output_type": "stream",
     "text": [
      "C:\\Users\\PC\\AppData\\Local\\Temp\\ipykernel_4980\\1846137033.py:69: SettingWithCopyWarning: \n",
      "A value is trying to be set on a copy of a slice from a DataFrame.\n",
      "Try using .loc[row_indexer,col_indexer] = value instead\n",
      "\n",
      "See the caveats in the documentation: https://pandas.pydata.org/pandas-docs/stable/user_guide/indexing.html#returning-a-view-versus-a-copy\n",
      "  df_clean['sample_id'] = sample_id\n"
     ]
    },
    {
     "name": "stdout",
     "output_type": "stream",
     "text": [
      "Finished processing sample: 55d29bdf-c959-4eda-ab2b-e09d7abb58fa.rna_seq.augmented_star_gene_counts, shape: (60660, 10)\n",
      "Reading file: C:\\Users\\PC\\Desktop\\gene-expression-cancer-prediction\\rna_seq\\50c7c034-fccb-4eb1-b8db-e0a5d9e50172\\d820ac02-a30e-437b-b20a-3e92705b7b81.rna_seq.augmented_star_gene_counts.tsv\n",
      "Processing sample: d820ac02-a30e-437b-b20a-3e92705b7b81.rna_seq.augmented_star_gene_counts\n"
     ]
    },
    {
     "name": "stderr",
     "output_type": "stream",
     "text": [
      "C:\\Users\\PC\\AppData\\Local\\Temp\\ipykernel_4980\\1846137033.py:69: SettingWithCopyWarning: \n",
      "A value is trying to be set on a copy of a slice from a DataFrame.\n",
      "Try using .loc[row_indexer,col_indexer] = value instead\n",
      "\n",
      "See the caveats in the documentation: https://pandas.pydata.org/pandas-docs/stable/user_guide/indexing.html#returning-a-view-versus-a-copy\n",
      "  df_clean['sample_id'] = sample_id\n"
     ]
    },
    {
     "name": "stdout",
     "output_type": "stream",
     "text": [
      "Finished processing sample: d820ac02-a30e-437b-b20a-3e92705b7b81.rna_seq.augmented_star_gene_counts, shape: (60660, 10)\n",
      "Reading file: C:\\Users\\PC\\Desktop\\gene-expression-cancer-prediction\\rna_seq\\50e8fce6-5775-41d6-bcaa-73773db999e2\\ea55206b-29c6-4a8b-9219-cfd28c29117a.rna_seq.augmented_star_gene_counts.tsv\n",
      "Processing sample: ea55206b-29c6-4a8b-9219-cfd28c29117a.rna_seq.augmented_star_gene_counts\n"
     ]
    },
    {
     "name": "stderr",
     "output_type": "stream",
     "text": [
      "C:\\Users\\PC\\AppData\\Local\\Temp\\ipykernel_4980\\1846137033.py:69: SettingWithCopyWarning: \n",
      "A value is trying to be set on a copy of a slice from a DataFrame.\n",
      "Try using .loc[row_indexer,col_indexer] = value instead\n",
      "\n",
      "See the caveats in the documentation: https://pandas.pydata.org/pandas-docs/stable/user_guide/indexing.html#returning-a-view-versus-a-copy\n",
      "  df_clean['sample_id'] = sample_id\n"
     ]
    },
    {
     "name": "stdout",
     "output_type": "stream",
     "text": [
      "Finished processing sample: ea55206b-29c6-4a8b-9219-cfd28c29117a.rna_seq.augmented_star_gene_counts, shape: (60660, 10)\n",
      "Reading file: C:\\Users\\PC\\Desktop\\gene-expression-cancer-prediction\\rna_seq\\5113a198-1bfe-4d4e-8e17-4c8e3359061a\\9dffcc09-6ccd-4f12-ae6a-1b8b93fcf29c.rna_seq.augmented_star_gene_counts.tsv\n",
      "Processing sample: 9dffcc09-6ccd-4f12-ae6a-1b8b93fcf29c.rna_seq.augmented_star_gene_counts\n"
     ]
    },
    {
     "name": "stderr",
     "output_type": "stream",
     "text": [
      "C:\\Users\\PC\\AppData\\Local\\Temp\\ipykernel_4980\\1846137033.py:69: SettingWithCopyWarning: \n",
      "A value is trying to be set on a copy of a slice from a DataFrame.\n",
      "Try using .loc[row_indexer,col_indexer] = value instead\n",
      "\n",
      "See the caveats in the documentation: https://pandas.pydata.org/pandas-docs/stable/user_guide/indexing.html#returning-a-view-versus-a-copy\n",
      "  df_clean['sample_id'] = sample_id\n"
     ]
    },
    {
     "name": "stdout",
     "output_type": "stream",
     "text": [
      "Finished processing sample: 9dffcc09-6ccd-4f12-ae6a-1b8b93fcf29c.rna_seq.augmented_star_gene_counts, shape: (60660, 10)\n",
      "Reading file: C:\\Users\\PC\\Desktop\\gene-expression-cancer-prediction\\rna_seq\\511ca25f-0b7f-4912-9b79-ed551721a420\\b3ea108e-0ab7-4340-9da9-b7a8bc3b942c.rna_seq.augmented_star_gene_counts.tsv\n",
      "Processing sample: b3ea108e-0ab7-4340-9da9-b7a8bc3b942c.rna_seq.augmented_star_gene_counts\n"
     ]
    },
    {
     "name": "stderr",
     "output_type": "stream",
     "text": [
      "C:\\Users\\PC\\AppData\\Local\\Temp\\ipykernel_4980\\1846137033.py:69: SettingWithCopyWarning: \n",
      "A value is trying to be set on a copy of a slice from a DataFrame.\n",
      "Try using .loc[row_indexer,col_indexer] = value instead\n",
      "\n",
      "See the caveats in the documentation: https://pandas.pydata.org/pandas-docs/stable/user_guide/indexing.html#returning-a-view-versus-a-copy\n",
      "  df_clean['sample_id'] = sample_id\n"
     ]
    },
    {
     "name": "stdout",
     "output_type": "stream",
     "text": [
      "Finished processing sample: b3ea108e-0ab7-4340-9da9-b7a8bc3b942c.rna_seq.augmented_star_gene_counts, shape: (60660, 10)\n",
      "Reading file: C:\\Users\\PC\\Desktop\\gene-expression-cancer-prediction\\rna_seq\\515f8866-8744-44d8-9e4b-0e734d0c201b\\c5d73777-b7f3-4107-9efc-afde92f70469.rna_seq.augmented_star_gene_counts.tsv\n",
      "Processing sample: c5d73777-b7f3-4107-9efc-afde92f70469.rna_seq.augmented_star_gene_counts\n"
     ]
    },
    {
     "name": "stderr",
     "output_type": "stream",
     "text": [
      "C:\\Users\\PC\\AppData\\Local\\Temp\\ipykernel_4980\\1846137033.py:69: SettingWithCopyWarning: \n",
      "A value is trying to be set on a copy of a slice from a DataFrame.\n",
      "Try using .loc[row_indexer,col_indexer] = value instead\n",
      "\n",
      "See the caveats in the documentation: https://pandas.pydata.org/pandas-docs/stable/user_guide/indexing.html#returning-a-view-versus-a-copy\n",
      "  df_clean['sample_id'] = sample_id\n"
     ]
    },
    {
     "name": "stdout",
     "output_type": "stream",
     "text": [
      "Finished processing sample: c5d73777-b7f3-4107-9efc-afde92f70469.rna_seq.augmented_star_gene_counts, shape: (60660, 10)\n",
      "Reading file: C:\\Users\\PC\\Desktop\\gene-expression-cancer-prediction\\rna_seq\\51886a03-7aee-4b58-806f-906a29bfad0c\\273bc6c8-f5a9-44df-a707-5274fcba8362.rna_seq.augmented_star_gene_counts.tsv\n",
      "Processing sample: 273bc6c8-f5a9-44df-a707-5274fcba8362.rna_seq.augmented_star_gene_counts\n"
     ]
    },
    {
     "name": "stderr",
     "output_type": "stream",
     "text": [
      "C:\\Users\\PC\\AppData\\Local\\Temp\\ipykernel_4980\\1846137033.py:69: SettingWithCopyWarning: \n",
      "A value is trying to be set on a copy of a slice from a DataFrame.\n",
      "Try using .loc[row_indexer,col_indexer] = value instead\n",
      "\n",
      "See the caveats in the documentation: https://pandas.pydata.org/pandas-docs/stable/user_guide/indexing.html#returning-a-view-versus-a-copy\n",
      "  df_clean['sample_id'] = sample_id\n"
     ]
    },
    {
     "name": "stdout",
     "output_type": "stream",
     "text": [
      "Finished processing sample: 273bc6c8-f5a9-44df-a707-5274fcba8362.rna_seq.augmented_star_gene_counts, shape: (60660, 10)\n",
      "Reading file: C:\\Users\\PC\\Desktop\\gene-expression-cancer-prediction\\rna_seq\\51948358-b1bb-46d7-a25c-8d3fe81557f0\\2cfbc50e-e38d-41ad-8809-a3ed9685ddf1.rna_seq.augmented_star_gene_counts.tsv\n",
      "Processing sample: 2cfbc50e-e38d-41ad-8809-a3ed9685ddf1.rna_seq.augmented_star_gene_counts\n"
     ]
    },
    {
     "name": "stderr",
     "output_type": "stream",
     "text": [
      "C:\\Users\\PC\\AppData\\Local\\Temp\\ipykernel_4980\\1846137033.py:69: SettingWithCopyWarning: \n",
      "A value is trying to be set on a copy of a slice from a DataFrame.\n",
      "Try using .loc[row_indexer,col_indexer] = value instead\n",
      "\n",
      "See the caveats in the documentation: https://pandas.pydata.org/pandas-docs/stable/user_guide/indexing.html#returning-a-view-versus-a-copy\n",
      "  df_clean['sample_id'] = sample_id\n"
     ]
    },
    {
     "name": "stdout",
     "output_type": "stream",
     "text": [
      "Finished processing sample: 2cfbc50e-e38d-41ad-8809-a3ed9685ddf1.rna_seq.augmented_star_gene_counts, shape: (60660, 10)\n",
      "Reading file: C:\\Users\\PC\\Desktop\\gene-expression-cancer-prediction\\rna_seq\\51aab02d-11b1-4ef3-a8f3-8146b6c24aad\\0f382cf1-3e52-4078-bf12-cc6ba998ed3f.rna_seq.augmented_star_gene_counts.tsv\n",
      "Processing sample: 0f382cf1-3e52-4078-bf12-cc6ba998ed3f.rna_seq.augmented_star_gene_counts\n"
     ]
    },
    {
     "name": "stderr",
     "output_type": "stream",
     "text": [
      "C:\\Users\\PC\\AppData\\Local\\Temp\\ipykernel_4980\\1846137033.py:69: SettingWithCopyWarning: \n",
      "A value is trying to be set on a copy of a slice from a DataFrame.\n",
      "Try using .loc[row_indexer,col_indexer] = value instead\n",
      "\n",
      "See the caveats in the documentation: https://pandas.pydata.org/pandas-docs/stable/user_guide/indexing.html#returning-a-view-versus-a-copy\n",
      "  df_clean['sample_id'] = sample_id\n",
      "C:\\Users\\PC\\AppData\\Local\\Temp\\ipykernel_4980\\1846137033.py:69: SettingWithCopyWarning: \n",
      "A value is trying to be set on a copy of a slice from a DataFrame.\n",
      "Try using .loc[row_indexer,col_indexer] = value instead\n",
      "\n",
      "See the caveats in the documentation: https://pandas.pydata.org/pandas-docs/stable/user_guide/indexing.html#returning-a-view-versus-a-copy\n",
      "  df_clean['sample_id'] = sample_id\n"
     ]
    },
    {
     "name": "stdout",
     "output_type": "stream",
     "text": [
      "Finished processing sample: 0f382cf1-3e52-4078-bf12-cc6ba998ed3f.rna_seq.augmented_star_gene_counts, shape: (60660, 10)\n",
      "Reading file: C:\\Users\\PC\\Desktop\\gene-expression-cancer-prediction\\rna_seq\\5223fb98-dd63-4c20-a7c0-02e0b13ccb33\\7b7c91b5-0358-4d09-af89-26a791d7a23a.rna_seq.augmented_star_gene_counts.tsv\n",
      "Processing sample: 7b7c91b5-0358-4d09-af89-26a791d7a23a.rna_seq.augmented_star_gene_counts\n",
      "Finished processing sample: 7b7c91b5-0358-4d09-af89-26a791d7a23a.rna_seq.augmented_star_gene_counts, shape: (60660, 10)\n",
      "Reading file: C:\\Users\\PC\\Desktop\\gene-expression-cancer-prediction\\rna_seq\\526d750f-3cab-4379-9b3e-1b7f9fa84528\\8909b639-c15f-4935-a698-6de79c3d0433.rna_seq.augmented_star_gene_counts.tsv\n",
      "Processing sample: 8909b639-c15f-4935-a698-6de79c3d0433.rna_seq.augmented_star_gene_counts\n"
     ]
    },
    {
     "name": "stderr",
     "output_type": "stream",
     "text": [
      "C:\\Users\\PC\\AppData\\Local\\Temp\\ipykernel_4980\\1846137033.py:69: SettingWithCopyWarning: \n",
      "A value is trying to be set on a copy of a slice from a DataFrame.\n",
      "Try using .loc[row_indexer,col_indexer] = value instead\n",
      "\n",
      "See the caveats in the documentation: https://pandas.pydata.org/pandas-docs/stable/user_guide/indexing.html#returning-a-view-versus-a-copy\n",
      "  df_clean['sample_id'] = sample_id\n"
     ]
    },
    {
     "name": "stdout",
     "output_type": "stream",
     "text": [
      "Finished processing sample: 8909b639-c15f-4935-a698-6de79c3d0433.rna_seq.augmented_star_gene_counts, shape: (60660, 10)\n",
      "Reading file: C:\\Users\\PC\\Desktop\\gene-expression-cancer-prediction\\rna_seq\\537ec810-35bc-47d8-8242-72ef91cd63e0\\3ee530ee-274d-44de-9793-a75433ddf938.rna_seq.augmented_star_gene_counts.tsv\n",
      "Processing sample: 3ee530ee-274d-44de-9793-a75433ddf938.rna_seq.augmented_star_gene_counts\n"
     ]
    },
    {
     "name": "stderr",
     "output_type": "stream",
     "text": [
      "C:\\Users\\PC\\AppData\\Local\\Temp\\ipykernel_4980\\1846137033.py:69: SettingWithCopyWarning: \n",
      "A value is trying to be set on a copy of a slice from a DataFrame.\n",
      "Try using .loc[row_indexer,col_indexer] = value instead\n",
      "\n",
      "See the caveats in the documentation: https://pandas.pydata.org/pandas-docs/stable/user_guide/indexing.html#returning-a-view-versus-a-copy\n",
      "  df_clean['sample_id'] = sample_id\n"
     ]
    },
    {
     "name": "stdout",
     "output_type": "stream",
     "text": [
      "Finished processing sample: 3ee530ee-274d-44de-9793-a75433ddf938.rna_seq.augmented_star_gene_counts, shape: (60660, 10)\n",
      "Reading file: C:\\Users\\PC\\Desktop\\gene-expression-cancer-prediction\\rna_seq\\5405b59e-44cc-4745-b838-ca279210cbed\\1d6fed92-2d3c-46b6-8760-31bc1254cf65.rna_seq.augmented_star_gene_counts.tsv\n",
      "Processing sample: 1d6fed92-2d3c-46b6-8760-31bc1254cf65.rna_seq.augmented_star_gene_counts\n"
     ]
    },
    {
     "name": "stderr",
     "output_type": "stream",
     "text": [
      "C:\\Users\\PC\\AppData\\Local\\Temp\\ipykernel_4980\\1846137033.py:69: SettingWithCopyWarning: \n",
      "A value is trying to be set on a copy of a slice from a DataFrame.\n",
      "Try using .loc[row_indexer,col_indexer] = value instead\n",
      "\n",
      "See the caveats in the documentation: https://pandas.pydata.org/pandas-docs/stable/user_guide/indexing.html#returning-a-view-versus-a-copy\n",
      "  df_clean['sample_id'] = sample_id\n"
     ]
    },
    {
     "name": "stdout",
     "output_type": "stream",
     "text": [
      "Finished processing sample: 1d6fed92-2d3c-46b6-8760-31bc1254cf65.rna_seq.augmented_star_gene_counts, shape: (60660, 10)\n",
      "Reading file: C:\\Users\\PC\\Desktop\\gene-expression-cancer-prediction\\rna_seq\\5422b305-6411-4a01-b371-dc74c9e351e4\\be8e200c-dced-4b24-a70d-6b6baecb7300.rna_seq.augmented_star_gene_counts.tsv\n",
      "Processing sample: be8e200c-dced-4b24-a70d-6b6baecb7300.rna_seq.augmented_star_gene_counts\n"
     ]
    },
    {
     "name": "stderr",
     "output_type": "stream",
     "text": [
      "C:\\Users\\PC\\AppData\\Local\\Temp\\ipykernel_4980\\1846137033.py:69: SettingWithCopyWarning: \n",
      "A value is trying to be set on a copy of a slice from a DataFrame.\n",
      "Try using .loc[row_indexer,col_indexer] = value instead\n",
      "\n",
      "See the caveats in the documentation: https://pandas.pydata.org/pandas-docs/stable/user_guide/indexing.html#returning-a-view-versus-a-copy\n",
      "  df_clean['sample_id'] = sample_id\n"
     ]
    },
    {
     "name": "stdout",
     "output_type": "stream",
     "text": [
      "Finished processing sample: be8e200c-dced-4b24-a70d-6b6baecb7300.rna_seq.augmented_star_gene_counts, shape: (60660, 10)\n",
      "Reading file: C:\\Users\\PC\\Desktop\\gene-expression-cancer-prediction\\rna_seq\\5428e771-3ea8-46d1-842e-50a270d26bd3\\8dc201bf-b152-458f-86ee-347744a1b9bd.rna_seq.augmented_star_gene_counts.tsv\n",
      "Processing sample: 8dc201bf-b152-458f-86ee-347744a1b9bd.rna_seq.augmented_star_gene_counts\n"
     ]
    },
    {
     "name": "stderr",
     "output_type": "stream",
     "text": [
      "C:\\Users\\PC\\AppData\\Local\\Temp\\ipykernel_4980\\1846137033.py:69: SettingWithCopyWarning: \n",
      "A value is trying to be set on a copy of a slice from a DataFrame.\n",
      "Try using .loc[row_indexer,col_indexer] = value instead\n",
      "\n",
      "See the caveats in the documentation: https://pandas.pydata.org/pandas-docs/stable/user_guide/indexing.html#returning-a-view-versus-a-copy\n",
      "  df_clean['sample_id'] = sample_id\n",
      "C:\\Users\\PC\\AppData\\Local\\Temp\\ipykernel_4980\\1846137033.py:69: SettingWithCopyWarning: \n",
      "A value is trying to be set on a copy of a slice from a DataFrame.\n",
      "Try using .loc[row_indexer,col_indexer] = value instead\n",
      "\n",
      "See the caveats in the documentation: https://pandas.pydata.org/pandas-docs/stable/user_guide/indexing.html#returning-a-view-versus-a-copy\n",
      "  df_clean['sample_id'] = sample_id\n"
     ]
    },
    {
     "name": "stdout",
     "output_type": "stream",
     "text": [
      "Finished processing sample: 8dc201bf-b152-458f-86ee-347744a1b9bd.rna_seq.augmented_star_gene_counts, shape: (60660, 10)\n",
      "Reading file: C:\\Users\\PC\\Desktop\\gene-expression-cancer-prediction\\rna_seq\\54600389-6de5-44ce-ada1-8a8508b50980\\65ba302c-51a9-4493-8d28-e7bc076bca54.rna_seq.augmented_star_gene_counts.tsv\n",
      "Processing sample: 65ba302c-51a9-4493-8d28-e7bc076bca54.rna_seq.augmented_star_gene_counts\n",
      "Finished processing sample: 65ba302c-51a9-4493-8d28-e7bc076bca54.rna_seq.augmented_star_gene_counts, shape: (60660, 10)\n",
      "Reading file: C:\\Users\\PC\\Desktop\\gene-expression-cancer-prediction\\rna_seq\\5461f36b-c2a2-4a6a-8b17-444c143655fc\\df539d11-132f-4320-9365-14d529ae2186.rna_seq.augmented_star_gene_counts.tsv\n",
      "Processing sample: df539d11-132f-4320-9365-14d529ae2186.rna_seq.augmented_star_gene_counts\n"
     ]
    },
    {
     "name": "stderr",
     "output_type": "stream",
     "text": [
      "C:\\Users\\PC\\AppData\\Local\\Temp\\ipykernel_4980\\1846137033.py:69: SettingWithCopyWarning: \n",
      "A value is trying to be set on a copy of a slice from a DataFrame.\n",
      "Try using .loc[row_indexer,col_indexer] = value instead\n",
      "\n",
      "See the caveats in the documentation: https://pandas.pydata.org/pandas-docs/stable/user_guide/indexing.html#returning-a-view-versus-a-copy\n",
      "  df_clean['sample_id'] = sample_id\n"
     ]
    },
    {
     "name": "stdout",
     "output_type": "stream",
     "text": [
      "Finished processing sample: df539d11-132f-4320-9365-14d529ae2186.rna_seq.augmented_star_gene_counts, shape: (60660, 10)\n",
      "Reading file: C:\\Users\\PC\\Desktop\\gene-expression-cancer-prediction\\rna_seq\\54a6b5bc-f788-4bea-b92c-e4dc9c71d99e\\b58811d7-8ee0-4b65-a892-17319cc9ecaf.rna_seq.augmented_star_gene_counts.tsv\n",
      "Processing sample: b58811d7-8ee0-4b65-a892-17319cc9ecaf.rna_seq.augmented_star_gene_counts\n"
     ]
    },
    {
     "name": "stderr",
     "output_type": "stream",
     "text": [
      "C:\\Users\\PC\\AppData\\Local\\Temp\\ipykernel_4980\\1846137033.py:69: SettingWithCopyWarning: \n",
      "A value is trying to be set on a copy of a slice from a DataFrame.\n",
      "Try using .loc[row_indexer,col_indexer] = value instead\n",
      "\n",
      "See the caveats in the documentation: https://pandas.pydata.org/pandas-docs/stable/user_guide/indexing.html#returning-a-view-versus-a-copy\n",
      "  df_clean['sample_id'] = sample_id\n"
     ]
    },
    {
     "name": "stdout",
     "output_type": "stream",
     "text": [
      "Finished processing sample: b58811d7-8ee0-4b65-a892-17319cc9ecaf.rna_seq.augmented_star_gene_counts, shape: (60660, 10)\n",
      "Reading file: C:\\Users\\PC\\Desktop\\gene-expression-cancer-prediction\\rna_seq\\54dcd665-8138-4cab-8622-224d7066d466\\783adea2-f11b-46ca-9cdc-f06823db5afc.rna_seq.augmented_star_gene_counts.tsv\n",
      "Processing sample: 783adea2-f11b-46ca-9cdc-f06823db5afc.rna_seq.augmented_star_gene_counts\n"
     ]
    },
    {
     "name": "stderr",
     "output_type": "stream",
     "text": [
      "C:\\Users\\PC\\AppData\\Local\\Temp\\ipykernel_4980\\1846137033.py:69: SettingWithCopyWarning: \n",
      "A value is trying to be set on a copy of a slice from a DataFrame.\n",
      "Try using .loc[row_indexer,col_indexer] = value instead\n",
      "\n",
      "See the caveats in the documentation: https://pandas.pydata.org/pandas-docs/stable/user_guide/indexing.html#returning-a-view-versus-a-copy\n",
      "  df_clean['sample_id'] = sample_id\n"
     ]
    },
    {
     "name": "stdout",
     "output_type": "stream",
     "text": [
      "Finished processing sample: 783adea2-f11b-46ca-9cdc-f06823db5afc.rna_seq.augmented_star_gene_counts, shape: (60660, 10)\n",
      "Reading file: C:\\Users\\PC\\Desktop\\gene-expression-cancer-prediction\\rna_seq\\55214dd2-b3e8-444c-9d02-3db6008b1920\\cfe1c805-2211-419c-bf9a-e0c8b5020dce.rna_seq.augmented_star_gene_counts.tsv\n",
      "Processing sample: cfe1c805-2211-419c-bf9a-e0c8b5020dce.rna_seq.augmented_star_gene_counts\n"
     ]
    },
    {
     "name": "stderr",
     "output_type": "stream",
     "text": [
      "C:\\Users\\PC\\AppData\\Local\\Temp\\ipykernel_4980\\1846137033.py:69: SettingWithCopyWarning: \n",
      "A value is trying to be set on a copy of a slice from a DataFrame.\n",
      "Try using .loc[row_indexer,col_indexer] = value instead\n",
      "\n",
      "See the caveats in the documentation: https://pandas.pydata.org/pandas-docs/stable/user_guide/indexing.html#returning-a-view-versus-a-copy\n",
      "  df_clean['sample_id'] = sample_id\n"
     ]
    },
    {
     "name": "stdout",
     "output_type": "stream",
     "text": [
      "Finished processing sample: cfe1c805-2211-419c-bf9a-e0c8b5020dce.rna_seq.augmented_star_gene_counts, shape: (60660, 10)\n",
      "Reading file: C:\\Users\\PC\\Desktop\\gene-expression-cancer-prediction\\rna_seq\\5599b7dd-7c2a-4037-ad77-11a0b4ddcb54\\6cbfdf8b-fd71-4b6a-b360-1573ee5241a1.rna_seq.augmented_star_gene_counts.tsv\n",
      "Processing sample: 6cbfdf8b-fd71-4b6a-b360-1573ee5241a1.rna_seq.augmented_star_gene_counts\n"
     ]
    },
    {
     "name": "stderr",
     "output_type": "stream",
     "text": [
      "C:\\Users\\PC\\AppData\\Local\\Temp\\ipykernel_4980\\1846137033.py:69: SettingWithCopyWarning: \n",
      "A value is trying to be set on a copy of a slice from a DataFrame.\n",
      "Try using .loc[row_indexer,col_indexer] = value instead\n",
      "\n",
      "See the caveats in the documentation: https://pandas.pydata.org/pandas-docs/stable/user_guide/indexing.html#returning-a-view-versus-a-copy\n",
      "  df_clean['sample_id'] = sample_id\n",
      "C:\\Users\\PC\\AppData\\Local\\Temp\\ipykernel_4980\\1846137033.py:69: SettingWithCopyWarning: \n",
      "A value is trying to be set on a copy of a slice from a DataFrame.\n",
      "Try using .loc[row_indexer,col_indexer] = value instead\n",
      "\n",
      "See the caveats in the documentation: https://pandas.pydata.org/pandas-docs/stable/user_guide/indexing.html#returning-a-view-versus-a-copy\n",
      "  df_clean['sample_id'] = sample_id\n"
     ]
    },
    {
     "name": "stdout",
     "output_type": "stream",
     "text": [
      "Finished processing sample: 6cbfdf8b-fd71-4b6a-b360-1573ee5241a1.rna_seq.augmented_star_gene_counts, shape: (60660, 10)\n",
      "Reading file: C:\\Users\\PC\\Desktop\\gene-expression-cancer-prediction\\rna_seq\\55f42211-4119-40a3-b5e4-329e913ef910\\9f5a0552-a0a1-4aa7-a32d-7a1951889cdd.rna_seq.augmented_star_gene_counts.tsv\n",
      "Processing sample: 9f5a0552-a0a1-4aa7-a32d-7a1951889cdd.rna_seq.augmented_star_gene_counts\n",
      "Finished processing sample: 9f5a0552-a0a1-4aa7-a32d-7a1951889cdd.rna_seq.augmented_star_gene_counts, shape: (60660, 10)\n",
      "Reading file: C:\\Users\\PC\\Desktop\\gene-expression-cancer-prediction\\rna_seq\\56081713-6249-4a3f-8498-277e688d1ec9\\db5f53f3-6438-4f23-9683-ee16244d98b9.rna_seq.augmented_star_gene_counts.tsv\n",
      "Processing sample: db5f53f3-6438-4f23-9683-ee16244d98b9.rna_seq.augmented_star_gene_counts\n"
     ]
    },
    {
     "name": "stderr",
     "output_type": "stream",
     "text": [
      "C:\\Users\\PC\\AppData\\Local\\Temp\\ipykernel_4980\\1846137033.py:69: SettingWithCopyWarning: \n",
      "A value is trying to be set on a copy of a slice from a DataFrame.\n",
      "Try using .loc[row_indexer,col_indexer] = value instead\n",
      "\n",
      "See the caveats in the documentation: https://pandas.pydata.org/pandas-docs/stable/user_guide/indexing.html#returning-a-view-versus-a-copy\n",
      "  df_clean['sample_id'] = sample_id\n",
      "C:\\Users\\PC\\AppData\\Local\\Temp\\ipykernel_4980\\1846137033.py:69: SettingWithCopyWarning: \n",
      "A value is trying to be set on a copy of a slice from a DataFrame.\n",
      "Try using .loc[row_indexer,col_indexer] = value instead\n",
      "\n",
      "See the caveats in the documentation: https://pandas.pydata.org/pandas-docs/stable/user_guide/indexing.html#returning-a-view-versus-a-copy\n",
      "  df_clean['sample_id'] = sample_id\n"
     ]
    },
    {
     "name": "stdout",
     "output_type": "stream",
     "text": [
      "Finished processing sample: db5f53f3-6438-4f23-9683-ee16244d98b9.rna_seq.augmented_star_gene_counts, shape: (60660, 10)\n",
      "Reading file: C:\\Users\\PC\\Desktop\\gene-expression-cancer-prediction\\rna_seq\\561bb38a-f9b8-4a0a-b03b-fbe70859869a\\cab9ff29-e575-45e2-a411-1bfdc2e2610c.rna_seq.augmented_star_gene_counts.tsv\n",
      "Processing sample: cab9ff29-e575-45e2-a411-1bfdc2e2610c.rna_seq.augmented_star_gene_counts\n",
      "Finished processing sample: cab9ff29-e575-45e2-a411-1bfdc2e2610c.rna_seq.augmented_star_gene_counts, shape: (60660, 10)\n",
      "Reading file: C:\\Users\\PC\\Desktop\\gene-expression-cancer-prediction\\rna_seq\\56209bc1-f94b-4aa4-a9dd-757003f36fd2\\2ae456c7-57fa-4146-9b29-2d4129f0cf7c.rna_seq.augmented_star_gene_counts.tsv\n",
      "Processing sample: 2ae456c7-57fa-4146-9b29-2d4129f0cf7c.rna_seq.augmented_star_gene_counts\n"
     ]
    },
    {
     "name": "stderr",
     "output_type": "stream",
     "text": [
      "C:\\Users\\PC\\AppData\\Local\\Temp\\ipykernel_4980\\1846137033.py:69: SettingWithCopyWarning: \n",
      "A value is trying to be set on a copy of a slice from a DataFrame.\n",
      "Try using .loc[row_indexer,col_indexer] = value instead\n",
      "\n",
      "See the caveats in the documentation: https://pandas.pydata.org/pandas-docs/stable/user_guide/indexing.html#returning-a-view-versus-a-copy\n",
      "  df_clean['sample_id'] = sample_id\n"
     ]
    },
    {
     "name": "stdout",
     "output_type": "stream",
     "text": [
      "Finished processing sample: 2ae456c7-57fa-4146-9b29-2d4129f0cf7c.rna_seq.augmented_star_gene_counts, shape: (60660, 10)\n",
      "Reading file: C:\\Users\\PC\\Desktop\\gene-expression-cancer-prediction\\rna_seq\\5645320f-820e-45b7-b4cf-ea05085f53e3\\bb06ad3a-4d73-4f88-8f3c-954dce2b38ef.rna_seq.augmented_star_gene_counts.tsv\n",
      "Processing sample: bb06ad3a-4d73-4f88-8f3c-954dce2b38ef.rna_seq.augmented_star_gene_counts\n"
     ]
    },
    {
     "name": "stderr",
     "output_type": "stream",
     "text": [
      "C:\\Users\\PC\\AppData\\Local\\Temp\\ipykernel_4980\\1846137033.py:69: SettingWithCopyWarning: \n",
      "A value is trying to be set on a copy of a slice from a DataFrame.\n",
      "Try using .loc[row_indexer,col_indexer] = value instead\n",
      "\n",
      "See the caveats in the documentation: https://pandas.pydata.org/pandas-docs/stable/user_guide/indexing.html#returning-a-view-versus-a-copy\n",
      "  df_clean['sample_id'] = sample_id\n"
     ]
    },
    {
     "name": "stdout",
     "output_type": "stream",
     "text": [
      "Finished processing sample: bb06ad3a-4d73-4f88-8f3c-954dce2b38ef.rna_seq.augmented_star_gene_counts, shape: (60660, 10)\n",
      "Reading file: C:\\Users\\PC\\Desktop\\gene-expression-cancer-prediction\\rna_seq\\56a26df4-d9c1-4f43-bb44-8afd34eea927\\95e77e5a-9963-4d65-935d-893a5dbe702e.rna_seq.augmented_star_gene_counts.tsv\n",
      "Processing sample: 95e77e5a-9963-4d65-935d-893a5dbe702e.rna_seq.augmented_star_gene_counts\n"
     ]
    },
    {
     "name": "stderr",
     "output_type": "stream",
     "text": [
      "C:\\Users\\PC\\AppData\\Local\\Temp\\ipykernel_4980\\1846137033.py:69: SettingWithCopyWarning: \n",
      "A value is trying to be set on a copy of a slice from a DataFrame.\n",
      "Try using .loc[row_indexer,col_indexer] = value instead\n",
      "\n",
      "See the caveats in the documentation: https://pandas.pydata.org/pandas-docs/stable/user_guide/indexing.html#returning-a-view-versus-a-copy\n",
      "  df_clean['sample_id'] = sample_id\n"
     ]
    },
    {
     "name": "stdout",
     "output_type": "stream",
     "text": [
      "Finished processing sample: 95e77e5a-9963-4d65-935d-893a5dbe702e.rna_seq.augmented_star_gene_counts, shape: (60660, 10)\n",
      "Reading file: C:\\Users\\PC\\Desktop\\gene-expression-cancer-prediction\\rna_seq\\56cc8f11-ba1c-48c9-8455-1f73640f9cf5\\e22c6b51-c27e-468f-883c-f71918330eb0.rna_seq.augmented_star_gene_counts.tsv\n",
      "Processing sample: e22c6b51-c27e-468f-883c-f71918330eb0.rna_seq.augmented_star_gene_counts\n"
     ]
    },
    {
     "name": "stderr",
     "output_type": "stream",
     "text": [
      "C:\\Users\\PC\\AppData\\Local\\Temp\\ipykernel_4980\\1846137033.py:69: SettingWithCopyWarning: \n",
      "A value is trying to be set on a copy of a slice from a DataFrame.\n",
      "Try using .loc[row_indexer,col_indexer] = value instead\n",
      "\n",
      "See the caveats in the documentation: https://pandas.pydata.org/pandas-docs/stable/user_guide/indexing.html#returning-a-view-versus-a-copy\n",
      "  df_clean['sample_id'] = sample_id\n"
     ]
    },
    {
     "name": "stdout",
     "output_type": "stream",
     "text": [
      "Finished processing sample: e22c6b51-c27e-468f-883c-f71918330eb0.rna_seq.augmented_star_gene_counts, shape: (60660, 10)\n",
      "Reading file: C:\\Users\\PC\\Desktop\\gene-expression-cancer-prediction\\rna_seq\\56e43b33-6dc7-496b-bdee-75e5fed5d502\\92b7faad-a817-4464-a074-9b64bf25fad5.rna_seq.augmented_star_gene_counts.tsv\n",
      "Processing sample: 92b7faad-a817-4464-a074-9b64bf25fad5.rna_seq.augmented_star_gene_counts\n"
     ]
    },
    {
     "name": "stderr",
     "output_type": "stream",
     "text": [
      "C:\\Users\\PC\\AppData\\Local\\Temp\\ipykernel_4980\\1846137033.py:69: SettingWithCopyWarning: \n",
      "A value is trying to be set on a copy of a slice from a DataFrame.\n",
      "Try using .loc[row_indexer,col_indexer] = value instead\n",
      "\n",
      "See the caveats in the documentation: https://pandas.pydata.org/pandas-docs/stable/user_guide/indexing.html#returning-a-view-versus-a-copy\n",
      "  df_clean['sample_id'] = sample_id\n",
      "C:\\Users\\PC\\AppData\\Local\\Temp\\ipykernel_4980\\1846137033.py:69: SettingWithCopyWarning: \n",
      "A value is trying to be set on a copy of a slice from a DataFrame.\n",
      "Try using .loc[row_indexer,col_indexer] = value instead\n",
      "\n",
      "See the caveats in the documentation: https://pandas.pydata.org/pandas-docs/stable/user_guide/indexing.html#returning-a-view-versus-a-copy\n",
      "  df_clean['sample_id'] = sample_id\n"
     ]
    },
    {
     "name": "stdout",
     "output_type": "stream",
     "text": [
      "Finished processing sample: 92b7faad-a817-4464-a074-9b64bf25fad5.rna_seq.augmented_star_gene_counts, shape: (60660, 10)\n",
      "Reading file: C:\\Users\\PC\\Desktop\\gene-expression-cancer-prediction\\rna_seq\\57044315-cc7f-4677-90fa-2e959740bd9c\\857c6778-f94c-4b61-9df0-7ee340fb88bf.rna_seq.augmented_star_gene_counts.tsv\n",
      "Processing sample: 857c6778-f94c-4b61-9df0-7ee340fb88bf.rna_seq.augmented_star_gene_counts\n",
      "Finished processing sample: 857c6778-f94c-4b61-9df0-7ee340fb88bf.rna_seq.augmented_star_gene_counts, shape: (60660, 10)\n",
      "Reading file: C:\\Users\\PC\\Desktop\\gene-expression-cancer-prediction\\rna_seq\\5711aa8f-5cd6-41d0-b469-40f049556693\\c4eb8167-4c62-4a41-b9a7-f3259f945d9d.rna_seq.augmented_star_gene_counts.tsv\n",
      "Processing sample: c4eb8167-4c62-4a41-b9a7-f3259f945d9d.rna_seq.augmented_star_gene_counts\n"
     ]
    },
    {
     "name": "stderr",
     "output_type": "stream",
     "text": [
      "C:\\Users\\PC\\AppData\\Local\\Temp\\ipykernel_4980\\1846137033.py:69: SettingWithCopyWarning: \n",
      "A value is trying to be set on a copy of a slice from a DataFrame.\n",
      "Try using .loc[row_indexer,col_indexer] = value instead\n",
      "\n",
      "See the caveats in the documentation: https://pandas.pydata.org/pandas-docs/stable/user_guide/indexing.html#returning-a-view-versus-a-copy\n",
      "  df_clean['sample_id'] = sample_id\n"
     ]
    },
    {
     "name": "stdout",
     "output_type": "stream",
     "text": [
      "Finished processing sample: c4eb8167-4c62-4a41-b9a7-f3259f945d9d.rna_seq.augmented_star_gene_counts, shape: (60660, 10)\n",
      "Reading file: C:\\Users\\PC\\Desktop\\gene-expression-cancer-prediction\\rna_seq\\5755f322-5df5-4b88-9c79-640167775c12\\8bf23a6b-8ca6-4fcf-b4e9-a14c3a875526.rna_seq.augmented_star_gene_counts.tsv\n",
      "Processing sample: 8bf23a6b-8ca6-4fcf-b4e9-a14c3a875526.rna_seq.augmented_star_gene_counts\n"
     ]
    },
    {
     "name": "stderr",
     "output_type": "stream",
     "text": [
      "C:\\Users\\PC\\AppData\\Local\\Temp\\ipykernel_4980\\1846137033.py:69: SettingWithCopyWarning: \n",
      "A value is trying to be set on a copy of a slice from a DataFrame.\n",
      "Try using .loc[row_indexer,col_indexer] = value instead\n",
      "\n",
      "See the caveats in the documentation: https://pandas.pydata.org/pandas-docs/stable/user_guide/indexing.html#returning-a-view-versus-a-copy\n",
      "  df_clean['sample_id'] = sample_id\n",
      "C:\\Users\\PC\\AppData\\Local\\Temp\\ipykernel_4980\\1846137033.py:69: SettingWithCopyWarning: \n",
      "A value is trying to be set on a copy of a slice from a DataFrame.\n",
      "Try using .loc[row_indexer,col_indexer] = value instead\n",
      "\n",
      "See the caveats in the documentation: https://pandas.pydata.org/pandas-docs/stable/user_guide/indexing.html#returning-a-view-versus-a-copy\n",
      "  df_clean['sample_id'] = sample_id\n"
     ]
    },
    {
     "name": "stdout",
     "output_type": "stream",
     "text": [
      "Finished processing sample: 8bf23a6b-8ca6-4fcf-b4e9-a14c3a875526.rna_seq.augmented_star_gene_counts, shape: (60660, 10)\n",
      "Reading file: C:\\Users\\PC\\Desktop\\gene-expression-cancer-prediction\\rna_seq\\575ef8e2-dfbc-48b3-9836-089b94498e09\\9dffaff8-a482-4940-b53a-527e5a510740.rna_seq.augmented_star_gene_counts.tsv\n",
      "Processing sample: 9dffaff8-a482-4940-b53a-527e5a510740.rna_seq.augmented_star_gene_counts\n",
      "Finished processing sample: 9dffaff8-a482-4940-b53a-527e5a510740.rna_seq.augmented_star_gene_counts, shape: (60660, 10)\n",
      "Reading file: C:\\Users\\PC\\Desktop\\gene-expression-cancer-prediction\\rna_seq\\577dde85-20c6-44c0-bf77-bda22a7f58c0\\dda806cc-67a1-406b-8957-ffdb5f9087c8.rna_seq.augmented_star_gene_counts.tsv\n",
      "Processing sample: dda806cc-67a1-406b-8957-ffdb5f9087c8.rna_seq.augmented_star_gene_counts\n"
     ]
    },
    {
     "name": "stderr",
     "output_type": "stream",
     "text": [
      "C:\\Users\\PC\\AppData\\Local\\Temp\\ipykernel_4980\\1846137033.py:69: SettingWithCopyWarning: \n",
      "A value is trying to be set on a copy of a slice from a DataFrame.\n",
      "Try using .loc[row_indexer,col_indexer] = value instead\n",
      "\n",
      "See the caveats in the documentation: https://pandas.pydata.org/pandas-docs/stable/user_guide/indexing.html#returning-a-view-versus-a-copy\n",
      "  df_clean['sample_id'] = sample_id\n"
     ]
    },
    {
     "name": "stdout",
     "output_type": "stream",
     "text": [
      "Finished processing sample: dda806cc-67a1-406b-8957-ffdb5f9087c8.rna_seq.augmented_star_gene_counts, shape: (60660, 10)\n",
      "Reading file: C:\\Users\\PC\\Desktop\\gene-expression-cancer-prediction\\rna_seq\\578022ab-5178-4440-8996-73e8826dd74d\\840ce2d8-5bf8-4a2c-9739-e7dff5d7cb21.rna_seq.augmented_star_gene_counts.tsv\n",
      "Processing sample: 840ce2d8-5bf8-4a2c-9739-e7dff5d7cb21.rna_seq.augmented_star_gene_counts\n"
     ]
    },
    {
     "name": "stderr",
     "output_type": "stream",
     "text": [
      "C:\\Users\\PC\\AppData\\Local\\Temp\\ipykernel_4980\\1846137033.py:69: SettingWithCopyWarning: \n",
      "A value is trying to be set on a copy of a slice from a DataFrame.\n",
      "Try using .loc[row_indexer,col_indexer] = value instead\n",
      "\n",
      "See the caveats in the documentation: https://pandas.pydata.org/pandas-docs/stable/user_guide/indexing.html#returning-a-view-versus-a-copy\n",
      "  df_clean['sample_id'] = sample_id\n",
      "C:\\Users\\PC\\AppData\\Local\\Temp\\ipykernel_4980\\1846137033.py:69: SettingWithCopyWarning: \n",
      "A value is trying to be set on a copy of a slice from a DataFrame.\n",
      "Try using .loc[row_indexer,col_indexer] = value instead\n",
      "\n",
      "See the caveats in the documentation: https://pandas.pydata.org/pandas-docs/stable/user_guide/indexing.html#returning-a-view-versus-a-copy\n",
      "  df_clean['sample_id'] = sample_id\n"
     ]
    },
    {
     "name": "stdout",
     "output_type": "stream",
     "text": [
      "Finished processing sample: 840ce2d8-5bf8-4a2c-9739-e7dff5d7cb21.rna_seq.augmented_star_gene_counts, shape: (60660, 10)\n",
      "Reading file: C:\\Users\\PC\\Desktop\\gene-expression-cancer-prediction\\rna_seq\\57a43ef5-102a-4cd9-833d-00a2daf4e56a\\ac175796-57dc-4de1-b6a2-eb71416e4c47.rna_seq.augmented_star_gene_counts.tsv\n",
      "Processing sample: ac175796-57dc-4de1-b6a2-eb71416e4c47.rna_seq.augmented_star_gene_counts\n",
      "Finished processing sample: ac175796-57dc-4de1-b6a2-eb71416e4c47.rna_seq.augmented_star_gene_counts, shape: (60660, 10)\n",
      "Reading file: C:\\Users\\PC\\Desktop\\gene-expression-cancer-prediction\\rna_seq\\58037e4a-a82f-42a9-84a1-715966343bd4\\2b67c3b5-330e-41e4-95cf-028d37fe91e1.rna_seq.augmented_star_gene_counts.tsv\n",
      "Processing sample: 2b67c3b5-330e-41e4-95cf-028d37fe91e1.rna_seq.augmented_star_gene_counts\n"
     ]
    },
    {
     "name": "stderr",
     "output_type": "stream",
     "text": [
      "C:\\Users\\PC\\AppData\\Local\\Temp\\ipykernel_4980\\1846137033.py:69: SettingWithCopyWarning: \n",
      "A value is trying to be set on a copy of a slice from a DataFrame.\n",
      "Try using .loc[row_indexer,col_indexer] = value instead\n",
      "\n",
      "See the caveats in the documentation: https://pandas.pydata.org/pandas-docs/stable/user_guide/indexing.html#returning-a-view-versus-a-copy\n",
      "  df_clean['sample_id'] = sample_id\n",
      "C:\\Users\\PC\\AppData\\Local\\Temp\\ipykernel_4980\\1846137033.py:69: SettingWithCopyWarning: \n",
      "A value is trying to be set on a copy of a slice from a DataFrame.\n",
      "Try using .loc[row_indexer,col_indexer] = value instead\n",
      "\n",
      "See the caveats in the documentation: https://pandas.pydata.org/pandas-docs/stable/user_guide/indexing.html#returning-a-view-versus-a-copy\n",
      "  df_clean['sample_id'] = sample_id\n"
     ]
    },
    {
     "name": "stdout",
     "output_type": "stream",
     "text": [
      "Finished processing sample: 2b67c3b5-330e-41e4-95cf-028d37fe91e1.rna_seq.augmented_star_gene_counts, shape: (60660, 10)\n",
      "Reading file: C:\\Users\\PC\\Desktop\\gene-expression-cancer-prediction\\rna_seq\\584eef35-12c2-4aac-be09-175a9f9c5dfc\\2639c1a0-fcae-4abd-aff7-9a8988a26c3c.rna_seq.augmented_star_gene_counts.tsv\n",
      "Processing sample: 2639c1a0-fcae-4abd-aff7-9a8988a26c3c.rna_seq.augmented_star_gene_counts\n",
      "Finished processing sample: 2639c1a0-fcae-4abd-aff7-9a8988a26c3c.rna_seq.augmented_star_gene_counts, shape: (60660, 10)\n",
      "Reading file: C:\\Users\\PC\\Desktop\\gene-expression-cancer-prediction\\rna_seq\\586d9c21-e58a-4171-9755-30c0e8b16293\\3ffa2cdf-4a54-4362-a6cf-b0567ef69551.rna_seq.augmented_star_gene_counts.tsv\n",
      "Processing sample: 3ffa2cdf-4a54-4362-a6cf-b0567ef69551.rna_seq.augmented_star_gene_counts\n",
      "Finished processing sample: 3ffa2cdf-4a54-4362-a6cf-b0567ef69551.rna_seq.augmented_star_gene_counts, shape: (60660, 10)\n"
     ]
    },
    {
     "name": "stderr",
     "output_type": "stream",
     "text": [
      "C:\\Users\\PC\\AppData\\Local\\Temp\\ipykernel_4980\\1846137033.py:69: SettingWithCopyWarning: \n",
      "A value is trying to be set on a copy of a slice from a DataFrame.\n",
      "Try using .loc[row_indexer,col_indexer] = value instead\n",
      "\n",
      "See the caveats in the documentation: https://pandas.pydata.org/pandas-docs/stable/user_guide/indexing.html#returning-a-view-versus-a-copy\n",
      "  df_clean['sample_id'] = sample_id\n"
     ]
    },
    {
     "name": "stdout",
     "output_type": "stream",
     "text": [
      "Reading file: C:\\Users\\PC\\Desktop\\gene-expression-cancer-prediction\\rna_seq\\58764dda-7c61-4705-a834-4d654c60ef2b\\4d4d40f2-1f96-4d31-81aa-d44b17a217ed.rna_seq.augmented_star_gene_counts.tsv\n",
      "Processing sample: 4d4d40f2-1f96-4d31-81aa-d44b17a217ed.rna_seq.augmented_star_gene_counts\n",
      "Finished processing sample: 4d4d40f2-1f96-4d31-81aa-d44b17a217ed.rna_seq.augmented_star_gene_counts, shape: (60660, 10)\n",
      "Reading file: C:\\Users\\PC\\Desktop\\gene-expression-cancer-prediction\\rna_seq\\589dda89-b968-4f26-b3c7-5371dfdb8a90\\ae4a5866-347f-4850-b4c8-a009d0765021.rna_seq.augmented_star_gene_counts.tsv\n",
      "Processing sample: ae4a5866-347f-4850-b4c8-a009d0765021.rna_seq.augmented_star_gene_counts\n"
     ]
    },
    {
     "name": "stderr",
     "output_type": "stream",
     "text": [
      "C:\\Users\\PC\\AppData\\Local\\Temp\\ipykernel_4980\\1846137033.py:69: SettingWithCopyWarning: \n",
      "A value is trying to be set on a copy of a slice from a DataFrame.\n",
      "Try using .loc[row_indexer,col_indexer] = value instead\n",
      "\n",
      "See the caveats in the documentation: https://pandas.pydata.org/pandas-docs/stable/user_guide/indexing.html#returning-a-view-versus-a-copy\n",
      "  df_clean['sample_id'] = sample_id\n",
      "C:\\Users\\PC\\AppData\\Local\\Temp\\ipykernel_4980\\1846137033.py:69: SettingWithCopyWarning: \n",
      "A value is trying to be set on a copy of a slice from a DataFrame.\n",
      "Try using .loc[row_indexer,col_indexer] = value instead\n",
      "\n",
      "See the caveats in the documentation: https://pandas.pydata.org/pandas-docs/stable/user_guide/indexing.html#returning-a-view-versus-a-copy\n",
      "  df_clean['sample_id'] = sample_id\n"
     ]
    },
    {
     "name": "stdout",
     "output_type": "stream",
     "text": [
      "Finished processing sample: ae4a5866-347f-4850-b4c8-a009d0765021.rna_seq.augmented_star_gene_counts, shape: (60660, 10)\n",
      "Reading file: C:\\Users\\PC\\Desktop\\gene-expression-cancer-prediction\\rna_seq\\5978f5bd-575c-4b95-9265-654af1127685\\096761b0-f4ca-448d-b78f-58469a508798.rna_seq.augmented_star_gene_counts.tsv\n",
      "Processing sample: 096761b0-f4ca-448d-b78f-58469a508798.rna_seq.augmented_star_gene_counts\n"
     ]
    },
    {
     "name": "stderr",
     "output_type": "stream",
     "text": [
      "C:\\Users\\PC\\AppData\\Local\\Temp\\ipykernel_4980\\1846137033.py:69: SettingWithCopyWarning: \n",
      "A value is trying to be set on a copy of a slice from a DataFrame.\n",
      "Try using .loc[row_indexer,col_indexer] = value instead\n",
      "\n",
      "See the caveats in the documentation: https://pandas.pydata.org/pandas-docs/stable/user_guide/indexing.html#returning-a-view-versus-a-copy\n",
      "  df_clean['sample_id'] = sample_id\n"
     ]
    },
    {
     "name": "stdout",
     "output_type": "stream",
     "text": [
      "Finished processing sample: 096761b0-f4ca-448d-b78f-58469a508798.rna_seq.augmented_star_gene_counts, shape: (60660, 10)\n",
      "Reading file: C:\\Users\\PC\\Desktop\\gene-expression-cancer-prediction\\rna_seq\\59858555-bc6a-4286-8280-0f8341123cac\\deba354e-fcc8-4a00-aa1b-63afc9cf2861.rna_seq.augmented_star_gene_counts.tsv\n",
      "Processing sample: deba354e-fcc8-4a00-aa1b-63afc9cf2861.rna_seq.augmented_star_gene_counts\n"
     ]
    },
    {
     "name": "stderr",
     "output_type": "stream",
     "text": [
      "C:\\Users\\PC\\AppData\\Local\\Temp\\ipykernel_4980\\1846137033.py:69: SettingWithCopyWarning: \n",
      "A value is trying to be set on a copy of a slice from a DataFrame.\n",
      "Try using .loc[row_indexer,col_indexer] = value instead\n",
      "\n",
      "See the caveats in the documentation: https://pandas.pydata.org/pandas-docs/stable/user_guide/indexing.html#returning-a-view-versus-a-copy\n",
      "  df_clean['sample_id'] = sample_id\n",
      "C:\\Users\\PC\\AppData\\Local\\Temp\\ipykernel_4980\\1846137033.py:69: SettingWithCopyWarning: \n",
      "A value is trying to be set on a copy of a slice from a DataFrame.\n",
      "Try using .loc[row_indexer,col_indexer] = value instead\n",
      "\n",
      "See the caveats in the documentation: https://pandas.pydata.org/pandas-docs/stable/user_guide/indexing.html#returning-a-view-versus-a-copy\n",
      "  df_clean['sample_id'] = sample_id\n"
     ]
    },
    {
     "name": "stdout",
     "output_type": "stream",
     "text": [
      "Finished processing sample: deba354e-fcc8-4a00-aa1b-63afc9cf2861.rna_seq.augmented_star_gene_counts, shape: (60660, 10)\n",
      "Reading file: C:\\Users\\PC\\Desktop\\gene-expression-cancer-prediction\\rna_seq\\59915f69-8e37-44a8-a8f6-feb9e06b6703\\e6e7d36e-b6c6-4e54-95ee-ee20e6f1f80e.rna_seq.augmented_star_gene_counts.tsv\n",
      "Processing sample: e6e7d36e-b6c6-4e54-95ee-ee20e6f1f80e.rna_seq.augmented_star_gene_counts\n",
      "Finished processing sample: e6e7d36e-b6c6-4e54-95ee-ee20e6f1f80e.rna_seq.augmented_star_gene_counts, shape: (60660, 10)\n",
      "Reading file: C:\\Users\\PC\\Desktop\\gene-expression-cancer-prediction\\rna_seq\\5997bdf5-2741-42c5-a01c-807864504c55\\675732d7-23c5-436b-b21a-104081feb1be.rna_seq.augmented_star_gene_counts.tsv\n",
      "Processing sample: 675732d7-23c5-436b-b21a-104081feb1be.rna_seq.augmented_star_gene_counts\n"
     ]
    },
    {
     "name": "stderr",
     "output_type": "stream",
     "text": [
      "C:\\Users\\PC\\AppData\\Local\\Temp\\ipykernel_4980\\1846137033.py:69: SettingWithCopyWarning: \n",
      "A value is trying to be set on a copy of a slice from a DataFrame.\n",
      "Try using .loc[row_indexer,col_indexer] = value instead\n",
      "\n",
      "See the caveats in the documentation: https://pandas.pydata.org/pandas-docs/stable/user_guide/indexing.html#returning-a-view-versus-a-copy\n",
      "  df_clean['sample_id'] = sample_id\n"
     ]
    },
    {
     "name": "stdout",
     "output_type": "stream",
     "text": [
      "Finished processing sample: 675732d7-23c5-436b-b21a-104081feb1be.rna_seq.augmented_star_gene_counts, shape: (60660, 10)\n",
      "Reading file: C:\\Users\\PC\\Desktop\\gene-expression-cancer-prediction\\rna_seq\\59980021-265a-4817-b7ea-02908a52cbcb\\2973fc8f-d20c-4cf3-b183-2ac32df73ae7.rna_seq.augmented_star_gene_counts.tsv\n",
      "Processing sample: 2973fc8f-d20c-4cf3-b183-2ac32df73ae7.rna_seq.augmented_star_gene_counts\n"
     ]
    },
    {
     "name": "stderr",
     "output_type": "stream",
     "text": [
      "C:\\Users\\PC\\AppData\\Local\\Temp\\ipykernel_4980\\1846137033.py:69: SettingWithCopyWarning: \n",
      "A value is trying to be set on a copy of a slice from a DataFrame.\n",
      "Try using .loc[row_indexer,col_indexer] = value instead\n",
      "\n",
      "See the caveats in the documentation: https://pandas.pydata.org/pandas-docs/stable/user_guide/indexing.html#returning-a-view-versus-a-copy\n",
      "  df_clean['sample_id'] = sample_id\n",
      "C:\\Users\\PC\\AppData\\Local\\Temp\\ipykernel_4980\\1846137033.py:69: SettingWithCopyWarning: \n",
      "A value is trying to be set on a copy of a slice from a DataFrame.\n",
      "Try using .loc[row_indexer,col_indexer] = value instead\n",
      "\n",
      "See the caveats in the documentation: https://pandas.pydata.org/pandas-docs/stable/user_guide/indexing.html#returning-a-view-versus-a-copy\n",
      "  df_clean['sample_id'] = sample_id\n"
     ]
    },
    {
     "name": "stdout",
     "output_type": "stream",
     "text": [
      "Finished processing sample: 2973fc8f-d20c-4cf3-b183-2ac32df73ae7.rna_seq.augmented_star_gene_counts, shape: (60660, 10)\n",
      "Reading file: C:\\Users\\PC\\Desktop\\gene-expression-cancer-prediction\\rna_seq\\59bb8b6d-9827-4d5c-8714-cbc8ec3b8be5\\c8c4129c-48ca-4df9-9ef8-bab2a794ebbf.rna_seq.augmented_star_gene_counts.tsv\n",
      "Processing sample: c8c4129c-48ca-4df9-9ef8-bab2a794ebbf.rna_seq.augmented_star_gene_counts\n",
      "Finished processing sample: c8c4129c-48ca-4df9-9ef8-bab2a794ebbf.rna_seq.augmented_star_gene_counts, shape: (60660, 10)\n",
      "Reading file: C:\\Users\\PC\\Desktop\\gene-expression-cancer-prediction\\rna_seq\\59c3cb45-ca6e-40ad-a3f0-9b496b934aa5\\7abc395f-72e4-4835-8aef-aaca2f8a34b0.rna_seq.augmented_star_gene_counts.tsv\n",
      "Processing sample: 7abc395f-72e4-4835-8aef-aaca2f8a34b0.rna_seq.augmented_star_gene_counts\n",
      "Finished processing sample: 7abc395f-72e4-4835-8aef-aaca2f8a34b0.rna_seq.augmented_star_gene_counts, shape: (60660, 10)\n",
      "Reading file: C:\\Users\\PC\\Desktop\\gene-expression-cancer-prediction\\rna_seq\\59ce4079-0da6-4339-8861-ad376b150f75\\a4455185-5506-4392-bd54-5f9cda2274d2.rna_seq.augmented_star_gene_counts.tsv\n",
      "Processing sample: a4455185-5506-4392-bd54-5f9cda2274d2.rna_seq.augmented_star_gene_counts\n"
     ]
    },
    {
     "name": "stderr",
     "output_type": "stream",
     "text": [
      "C:\\Users\\PC\\AppData\\Local\\Temp\\ipykernel_4980\\1846137033.py:69: SettingWithCopyWarning: \n",
      "A value is trying to be set on a copy of a slice from a DataFrame.\n",
      "Try using .loc[row_indexer,col_indexer] = value instead\n",
      "\n",
      "See the caveats in the documentation: https://pandas.pydata.org/pandas-docs/stable/user_guide/indexing.html#returning-a-view-versus-a-copy\n",
      "  df_clean['sample_id'] = sample_id\n",
      "C:\\Users\\PC\\AppData\\Local\\Temp\\ipykernel_4980\\1846137033.py:69: SettingWithCopyWarning: \n",
      "A value is trying to be set on a copy of a slice from a DataFrame.\n",
      "Try using .loc[row_indexer,col_indexer] = value instead\n",
      "\n",
      "See the caveats in the documentation: https://pandas.pydata.org/pandas-docs/stable/user_guide/indexing.html#returning-a-view-versus-a-copy\n",
      "  df_clean['sample_id'] = sample_id\n"
     ]
    },
    {
     "name": "stdout",
     "output_type": "stream",
     "text": [
      "Finished processing sample: a4455185-5506-4392-bd54-5f9cda2274d2.rna_seq.augmented_star_gene_counts, shape: (60660, 10)\n",
      "Reading file: C:\\Users\\PC\\Desktop\\gene-expression-cancer-prediction\\rna_seq\\59f472a7-ce4f-4d3a-9193-8b3a4500d52b\\b73f749f-eafa-460d-b921-f12e7f8d6609.rna_seq.augmented_star_gene_counts.tsv\n",
      "Processing sample: b73f749f-eafa-460d-b921-f12e7f8d6609.rna_seq.augmented_star_gene_counts\n"
     ]
    },
    {
     "name": "stderr",
     "output_type": "stream",
     "text": [
      "C:\\Users\\PC\\AppData\\Local\\Temp\\ipykernel_4980\\1846137033.py:69: SettingWithCopyWarning: \n",
      "A value is trying to be set on a copy of a slice from a DataFrame.\n",
      "Try using .loc[row_indexer,col_indexer] = value instead\n",
      "\n",
      "See the caveats in the documentation: https://pandas.pydata.org/pandas-docs/stable/user_guide/indexing.html#returning-a-view-versus-a-copy\n",
      "  df_clean['sample_id'] = sample_id\n"
     ]
    },
    {
     "name": "stdout",
     "output_type": "stream",
     "text": [
      "Finished processing sample: b73f749f-eafa-460d-b921-f12e7f8d6609.rna_seq.augmented_star_gene_counts, shape: (60660, 10)\n",
      "Reading file: C:\\Users\\PC\\Desktop\\gene-expression-cancer-prediction\\rna_seq\\5a827399-307b-412b-a2ce-f6c81d2750a6\\af58b506-df1d-4221-964d-76dbade6ab85.rna_seq.augmented_star_gene_counts.tsv\n",
      "Processing sample: af58b506-df1d-4221-964d-76dbade6ab85.rna_seq.augmented_star_gene_counts\n"
     ]
    },
    {
     "name": "stderr",
     "output_type": "stream",
     "text": [
      "C:\\Users\\PC\\AppData\\Local\\Temp\\ipykernel_4980\\1846137033.py:69: SettingWithCopyWarning: \n",
      "A value is trying to be set on a copy of a slice from a DataFrame.\n",
      "Try using .loc[row_indexer,col_indexer] = value instead\n",
      "\n",
      "See the caveats in the documentation: https://pandas.pydata.org/pandas-docs/stable/user_guide/indexing.html#returning-a-view-versus-a-copy\n",
      "  df_clean['sample_id'] = sample_id\n",
      "C:\\Users\\PC\\AppData\\Local\\Temp\\ipykernel_4980\\1846137033.py:69: SettingWithCopyWarning: \n",
      "A value is trying to be set on a copy of a slice from a DataFrame.\n",
      "Try using .loc[row_indexer,col_indexer] = value instead\n",
      "\n",
      "See the caveats in the documentation: https://pandas.pydata.org/pandas-docs/stable/user_guide/indexing.html#returning-a-view-versus-a-copy\n",
      "  df_clean['sample_id'] = sample_id\n"
     ]
    },
    {
     "name": "stdout",
     "output_type": "stream",
     "text": [
      "Finished processing sample: af58b506-df1d-4221-964d-76dbade6ab85.rna_seq.augmented_star_gene_counts, shape: (60660, 10)\n",
      "Reading file: C:\\Users\\PC\\Desktop\\gene-expression-cancer-prediction\\rna_seq\\5aaaf8b5-a75f-4070-93e8-f5b982144638\\0c311d42-5038-4408-ac4a-5ffbb02817e4.rna_seq.augmented_star_gene_counts.tsv\n",
      "Processing sample: 0c311d42-5038-4408-ac4a-5ffbb02817e4.rna_seq.augmented_star_gene_counts\n",
      "Finished processing sample: 0c311d42-5038-4408-ac4a-5ffbb02817e4.rna_seq.augmented_star_gene_counts, shape: (60660, 10)\n",
      "Reading file: C:\\Users\\PC\\Desktop\\gene-expression-cancer-prediction\\rna_seq\\5aba8f7f-c815-45e9-bee0-4dda9bfac07f\\046c3754-b22c-4bce-93c7-29b9da173d33.rna_seq.augmented_star_gene_counts.tsv\n",
      "Processing sample: 046c3754-b22c-4bce-93c7-29b9da173d33.rna_seq.augmented_star_gene_counts\n",
      "Finished processing sample: 046c3754-b22c-4bce-93c7-29b9da173d33.rna_seq.augmented_star_gene_counts, shape: (60660, 10)\n"
     ]
    },
    {
     "name": "stderr",
     "output_type": "stream",
     "text": [
      "C:\\Users\\PC\\AppData\\Local\\Temp\\ipykernel_4980\\1846137033.py:69: SettingWithCopyWarning: \n",
      "A value is trying to be set on a copy of a slice from a DataFrame.\n",
      "Try using .loc[row_indexer,col_indexer] = value instead\n",
      "\n",
      "See the caveats in the documentation: https://pandas.pydata.org/pandas-docs/stable/user_guide/indexing.html#returning-a-view-versus-a-copy\n",
      "  df_clean['sample_id'] = sample_id\n"
     ]
    },
    {
     "name": "stdout",
     "output_type": "stream",
     "text": [
      "Reading file: C:\\Users\\PC\\Desktop\\gene-expression-cancer-prediction\\rna_seq\\5b318f75-dda6-4410-bfc0-2fd52030cae7\\86538c2f-7f41-4a9b-bea5-f6126772f322.rna_seq.augmented_star_gene_counts.tsv\n",
      "Processing sample: 86538c2f-7f41-4a9b-bea5-f6126772f322.rna_seq.augmented_star_gene_counts\n",
      "Finished processing sample: 86538c2f-7f41-4a9b-bea5-f6126772f322.rna_seq.augmented_star_gene_counts, shape: (60660, 10)\n",
      "Reading file: C:\\Users\\PC\\Desktop\\gene-expression-cancer-prediction\\rna_seq\\5b4ec1fd-516d-4c32-a233-0699e591df1a\\4331397f-eaf9-4e43-8fa2-e30ad3643aca.rna_seq.augmented_star_gene_counts.tsv\n",
      "Processing sample: 4331397f-eaf9-4e43-8fa2-e30ad3643aca.rna_seq.augmented_star_gene_counts\n"
     ]
    },
    {
     "name": "stderr",
     "output_type": "stream",
     "text": [
      "C:\\Users\\PC\\AppData\\Local\\Temp\\ipykernel_4980\\1846137033.py:69: SettingWithCopyWarning: \n",
      "A value is trying to be set on a copy of a slice from a DataFrame.\n",
      "Try using .loc[row_indexer,col_indexer] = value instead\n",
      "\n",
      "See the caveats in the documentation: https://pandas.pydata.org/pandas-docs/stable/user_guide/indexing.html#returning-a-view-versus-a-copy\n",
      "  df_clean['sample_id'] = sample_id\n",
      "C:\\Users\\PC\\AppData\\Local\\Temp\\ipykernel_4980\\1846137033.py:69: SettingWithCopyWarning: \n",
      "A value is trying to be set on a copy of a slice from a DataFrame.\n",
      "Try using .loc[row_indexer,col_indexer] = value instead\n",
      "\n",
      "See the caveats in the documentation: https://pandas.pydata.org/pandas-docs/stable/user_guide/indexing.html#returning-a-view-versus-a-copy\n",
      "  df_clean['sample_id'] = sample_id\n"
     ]
    },
    {
     "name": "stdout",
     "output_type": "stream",
     "text": [
      "Finished processing sample: 4331397f-eaf9-4e43-8fa2-e30ad3643aca.rna_seq.augmented_star_gene_counts, shape: (60660, 10)\n",
      "Reading file: C:\\Users\\PC\\Desktop\\gene-expression-cancer-prediction\\rna_seq\\5b6828f2-4da6-49a4-a19c-569e089ff0b0\\315f3deb-74b5-4b71-afe5-759c85a0a6cc.rna_seq.augmented_star_gene_counts.tsv\n",
      "Processing sample: 315f3deb-74b5-4b71-afe5-759c85a0a6cc.rna_seq.augmented_star_gene_counts\n"
     ]
    },
    {
     "name": "stderr",
     "output_type": "stream",
     "text": [
      "C:\\Users\\PC\\AppData\\Local\\Temp\\ipykernel_4980\\1846137033.py:69: SettingWithCopyWarning: \n",
      "A value is trying to be set on a copy of a slice from a DataFrame.\n",
      "Try using .loc[row_indexer,col_indexer] = value instead\n",
      "\n",
      "See the caveats in the documentation: https://pandas.pydata.org/pandas-docs/stable/user_guide/indexing.html#returning-a-view-versus-a-copy\n",
      "  df_clean['sample_id'] = sample_id\n",
      "C:\\Users\\PC\\AppData\\Local\\Temp\\ipykernel_4980\\1846137033.py:69: SettingWithCopyWarning: \n",
      "A value is trying to be set on a copy of a slice from a DataFrame.\n",
      "Try using .loc[row_indexer,col_indexer] = value instead\n",
      "\n",
      "See the caveats in the documentation: https://pandas.pydata.org/pandas-docs/stable/user_guide/indexing.html#returning-a-view-versus-a-copy\n",
      "  df_clean['sample_id'] = sample_id\n"
     ]
    },
    {
     "name": "stdout",
     "output_type": "stream",
     "text": [
      "Finished processing sample: 315f3deb-74b5-4b71-afe5-759c85a0a6cc.rna_seq.augmented_star_gene_counts, shape: (60660, 10)\n",
      "Reading file: C:\\Users\\PC\\Desktop\\gene-expression-cancer-prediction\\rna_seq\\5b92e1c6-6265-46b5-bcf7-0c0bafe6f390\\74d50556-5de8-4eff-82e6-a3ad9c70020a.rna_seq.augmented_star_gene_counts.tsv\n",
      "Processing sample: 74d50556-5de8-4eff-82e6-a3ad9c70020a.rna_seq.augmented_star_gene_counts\n",
      "Finished processing sample: 74d50556-5de8-4eff-82e6-a3ad9c70020a.rna_seq.augmented_star_gene_counts, shape: (60660, 10)\n",
      "Warning: No .tsv file found in C:\\Users\\PC\\Desktop\\gene-expression-cancer-prediction\\rna_seq\\5bee33e8-6c0e-4b47-b5b4-a82bf5784d81\n",
      "Reading file: C:\\Users\\PC\\Desktop\\gene-expression-cancer-prediction\\rna_seq\\5c33730b-be75-452a-ad2f-02eb726d4eae\\ba3f32ca-85e0-467a-a733-99ea832ff1c3.rna_seq.augmented_star_gene_counts.tsv\n",
      "Processing sample: ba3f32ca-85e0-467a-a733-99ea832ff1c3.rna_seq.augmented_star_gene_counts\n"
     ]
    },
    {
     "name": "stderr",
     "output_type": "stream",
     "text": [
      "C:\\Users\\PC\\AppData\\Local\\Temp\\ipykernel_4980\\1846137033.py:69: SettingWithCopyWarning: \n",
      "A value is trying to be set on a copy of a slice from a DataFrame.\n",
      "Try using .loc[row_indexer,col_indexer] = value instead\n",
      "\n",
      "See the caveats in the documentation: https://pandas.pydata.org/pandas-docs/stable/user_guide/indexing.html#returning-a-view-versus-a-copy\n",
      "  df_clean['sample_id'] = sample_id\n"
     ]
    },
    {
     "name": "stdout",
     "output_type": "stream",
     "text": [
      "Finished processing sample: ba3f32ca-85e0-467a-a733-99ea832ff1c3.rna_seq.augmented_star_gene_counts, shape: (60660, 10)\n",
      "Reading file: C:\\Users\\PC\\Desktop\\gene-expression-cancer-prediction\\rna_seq\\5c57b96c-909e-468e-bef6-f0375a788fcb\\0b0b23c2-dac8-45cf-ba91-913776b00a33.rna_seq.augmented_star_gene_counts.tsv\n",
      "Processing sample: 0b0b23c2-dac8-45cf-ba91-913776b00a33.rna_seq.augmented_star_gene_counts\n",
      "Finished processing sample: 0b0b23c2-dac8-45cf-ba91-913776b00a33.rna_seq.augmented_star_gene_counts, shape: (60660, 10)\n"
     ]
    },
    {
     "name": "stderr",
     "output_type": "stream",
     "text": [
      "C:\\Users\\PC\\AppData\\Local\\Temp\\ipykernel_4980\\1846137033.py:69: SettingWithCopyWarning: \n",
      "A value is trying to be set on a copy of a slice from a DataFrame.\n",
      "Try using .loc[row_indexer,col_indexer] = value instead\n",
      "\n",
      "See the caveats in the documentation: https://pandas.pydata.org/pandas-docs/stable/user_guide/indexing.html#returning-a-view-versus-a-copy\n",
      "  df_clean['sample_id'] = sample_id\n"
     ]
    },
    {
     "name": "stdout",
     "output_type": "stream",
     "text": [
      "Reading file: C:\\Users\\PC\\Desktop\\gene-expression-cancer-prediction\\rna_seq\\5cce30f3-99ae-4959-987a-0d280dc2ec44\\2dd0b954-db3e-402d-9c06-6160e199dedb.rna_seq.augmented_star_gene_counts.tsv\n",
      "Processing sample: 2dd0b954-db3e-402d-9c06-6160e199dedb.rna_seq.augmented_star_gene_counts\n",
      "Finished processing sample: 2dd0b954-db3e-402d-9c06-6160e199dedb.rna_seq.augmented_star_gene_counts, shape: (60660, 10)\n",
      "Reading file: C:\\Users\\PC\\Desktop\\gene-expression-cancer-prediction\\rna_seq\\5dfadec2-3a10-40a9-99be-4984e917ba88\\a90d3b2d-38f9-455c-88cd-73d5b3729491.rna_seq.augmented_star_gene_counts.tsv\n",
      "Processing sample: a90d3b2d-38f9-455c-88cd-73d5b3729491.rna_seq.augmented_star_gene_counts\n"
     ]
    },
    {
     "name": "stderr",
     "output_type": "stream",
     "text": [
      "C:\\Users\\PC\\AppData\\Local\\Temp\\ipykernel_4980\\1846137033.py:69: SettingWithCopyWarning: \n",
      "A value is trying to be set on a copy of a slice from a DataFrame.\n",
      "Try using .loc[row_indexer,col_indexer] = value instead\n",
      "\n",
      "See the caveats in the documentation: https://pandas.pydata.org/pandas-docs/stable/user_guide/indexing.html#returning-a-view-versus-a-copy\n",
      "  df_clean['sample_id'] = sample_id\n",
      "C:\\Users\\PC\\AppData\\Local\\Temp\\ipykernel_4980\\1846137033.py:69: SettingWithCopyWarning: \n",
      "A value is trying to be set on a copy of a slice from a DataFrame.\n",
      "Try using .loc[row_indexer,col_indexer] = value instead\n",
      "\n",
      "See the caveats in the documentation: https://pandas.pydata.org/pandas-docs/stable/user_guide/indexing.html#returning-a-view-versus-a-copy\n",
      "  df_clean['sample_id'] = sample_id\n"
     ]
    },
    {
     "name": "stdout",
     "output_type": "stream",
     "text": [
      "Finished processing sample: a90d3b2d-38f9-455c-88cd-73d5b3729491.rna_seq.augmented_star_gene_counts, shape: (60660, 10)\n",
      "Reading file: C:\\Users\\PC\\Desktop\\gene-expression-cancer-prediction\\rna_seq\\5e05ff45-9f44-484d-889f-529e2bfe2a48\\bb10d315-6038-4513-aa41-d50f20295997.rna_seq.augmented_star_gene_counts.tsv\n",
      "Processing sample: bb10d315-6038-4513-aa41-d50f20295997.rna_seq.augmented_star_gene_counts\n"
     ]
    },
    {
     "name": "stderr",
     "output_type": "stream",
     "text": [
      "C:\\Users\\PC\\AppData\\Local\\Temp\\ipykernel_4980\\1846137033.py:69: SettingWithCopyWarning: \n",
      "A value is trying to be set on a copy of a slice from a DataFrame.\n",
      "Try using .loc[row_indexer,col_indexer] = value instead\n",
      "\n",
      "See the caveats in the documentation: https://pandas.pydata.org/pandas-docs/stable/user_guide/indexing.html#returning-a-view-versus-a-copy\n",
      "  df_clean['sample_id'] = sample_id\n"
     ]
    },
    {
     "name": "stdout",
     "output_type": "stream",
     "text": [
      "Finished processing sample: bb10d315-6038-4513-aa41-d50f20295997.rna_seq.augmented_star_gene_counts, shape: (60660, 10)\n",
      "Reading file: C:\\Users\\PC\\Desktop\\gene-expression-cancer-prediction\\rna_seq\\5e863e9f-1449-4a38-ac00-cfd7c21ba6e2\\fe379cd5-d51b-44b3-9adf-49e2cc3b0bf5.rna_seq.augmented_star_gene_counts.tsv\n",
      "Processing sample: fe379cd5-d51b-44b3-9adf-49e2cc3b0bf5.rna_seq.augmented_star_gene_counts\n"
     ]
    },
    {
     "name": "stderr",
     "output_type": "stream",
     "text": [
      "C:\\Users\\PC\\AppData\\Local\\Temp\\ipykernel_4980\\1846137033.py:69: SettingWithCopyWarning: \n",
      "A value is trying to be set on a copy of a slice from a DataFrame.\n",
      "Try using .loc[row_indexer,col_indexer] = value instead\n",
      "\n",
      "See the caveats in the documentation: https://pandas.pydata.org/pandas-docs/stable/user_guide/indexing.html#returning-a-view-versus-a-copy\n",
      "  df_clean['sample_id'] = sample_id\n",
      "C:\\Users\\PC\\AppData\\Local\\Temp\\ipykernel_4980\\1846137033.py:69: SettingWithCopyWarning: \n",
      "A value is trying to be set on a copy of a slice from a DataFrame.\n",
      "Try using .loc[row_indexer,col_indexer] = value instead\n",
      "\n",
      "See the caveats in the documentation: https://pandas.pydata.org/pandas-docs/stable/user_guide/indexing.html#returning-a-view-versus-a-copy\n",
      "  df_clean['sample_id'] = sample_id\n"
     ]
    },
    {
     "name": "stdout",
     "output_type": "stream",
     "text": [
      "Finished processing sample: fe379cd5-d51b-44b3-9adf-49e2cc3b0bf5.rna_seq.augmented_star_gene_counts, shape: (60660, 10)\n",
      "Reading file: C:\\Users\\PC\\Desktop\\gene-expression-cancer-prediction\\rna_seq\\5fbbee45-08b5-4cd0-83c6-c18bc4e89d99\\034f8d01-f664-494b-bc04-77485000611f.rna_seq.augmented_star_gene_counts.tsv\n",
      "Processing sample: 034f8d01-f664-494b-bc04-77485000611f.rna_seq.augmented_star_gene_counts\n",
      "Finished processing sample: 034f8d01-f664-494b-bc04-77485000611f.rna_seq.augmented_star_gene_counts, shape: (60660, 10)\n",
      "Reading file: C:\\Users\\PC\\Desktop\\gene-expression-cancer-prediction\\rna_seq\\5fbe4a11-de4d-418e-9bc3-75b768d4a665\\22e623b3-2c82-4283-bd28-2cf1777b0179.rna_seq.augmented_star_gene_counts.tsv\n",
      "Processing sample: 22e623b3-2c82-4283-bd28-2cf1777b0179.rna_seq.augmented_star_gene_counts\n",
      "Finished processing sample: 22e623b3-2c82-4283-bd28-2cf1777b0179.rna_seq.augmented_star_gene_counts, shape: (60660, 10)\n"
     ]
    },
    {
     "name": "stderr",
     "output_type": "stream",
     "text": [
      "C:\\Users\\PC\\AppData\\Local\\Temp\\ipykernel_4980\\1846137033.py:69: SettingWithCopyWarning: \n",
      "A value is trying to be set on a copy of a slice from a DataFrame.\n",
      "Try using .loc[row_indexer,col_indexer] = value instead\n",
      "\n",
      "See the caveats in the documentation: https://pandas.pydata.org/pandas-docs/stable/user_guide/indexing.html#returning-a-view-versus-a-copy\n",
      "  df_clean['sample_id'] = sample_id\n"
     ]
    },
    {
     "name": "stdout",
     "output_type": "stream",
     "text": [
      "Reading file: C:\\Users\\PC\\Desktop\\gene-expression-cancer-prediction\\rna_seq\\5fcd0660-3e77-4a56-af19-01045301708c\\60e5b5de-ba65-46c7-82ee-8181628f0cbd.rna_seq.augmented_star_gene_counts.tsv\n",
      "Processing sample: 60e5b5de-ba65-46c7-82ee-8181628f0cbd.rna_seq.augmented_star_gene_counts\n",
      "Finished processing sample: 60e5b5de-ba65-46c7-82ee-8181628f0cbd.rna_seq.augmented_star_gene_counts, shape: (60660, 10)\n"
     ]
    },
    {
     "name": "stderr",
     "output_type": "stream",
     "text": [
      "C:\\Users\\PC\\AppData\\Local\\Temp\\ipykernel_4980\\1846137033.py:69: SettingWithCopyWarning: \n",
      "A value is trying to be set on a copy of a slice from a DataFrame.\n",
      "Try using .loc[row_indexer,col_indexer] = value instead\n",
      "\n",
      "See the caveats in the documentation: https://pandas.pydata.org/pandas-docs/stable/user_guide/indexing.html#returning-a-view-versus-a-copy\n",
      "  df_clean['sample_id'] = sample_id\n",
      "C:\\Users\\PC\\AppData\\Local\\Temp\\ipykernel_4980\\1846137033.py:69: SettingWithCopyWarning: \n",
      "A value is trying to be set on a copy of a slice from a DataFrame.\n",
      "Try using .loc[row_indexer,col_indexer] = value instead\n",
      "\n",
      "See the caveats in the documentation: https://pandas.pydata.org/pandas-docs/stable/user_guide/indexing.html#returning-a-view-versus-a-copy\n",
      "  df_clean['sample_id'] = sample_id\n"
     ]
    },
    {
     "name": "stdout",
     "output_type": "stream",
     "text": [
      "Reading file: C:\\Users\\PC\\Desktop\\gene-expression-cancer-prediction\\rna_seq\\5fe2671d-4314-444b-adc1-64bbc6a85aab\\548b1967-fca4-4238-8d59-ae5405122c90.rna_seq.augmented_star_gene_counts.tsv\n",
      "Processing sample: 548b1967-fca4-4238-8d59-ae5405122c90.rna_seq.augmented_star_gene_counts\n",
      "Finished processing sample: 548b1967-fca4-4238-8d59-ae5405122c90.rna_seq.augmented_star_gene_counts, shape: (60660, 10)\n",
      "Reading file: C:\\Users\\PC\\Desktop\\gene-expression-cancer-prediction\\rna_seq\\6084a2ac-a342-4378-b4ba-a2d7e6af9124\\ad930bd1-0026-4f83-92e2-23170c1965aa.rna_seq.augmented_star_gene_counts.tsv\n",
      "Processing sample: ad930bd1-0026-4f83-92e2-23170c1965aa.rna_seq.augmented_star_gene_counts\n",
      "Finished processing sample: ad930bd1-0026-4f83-92e2-23170c1965aa.rna_seq.augmented_star_gene_counts, shape: (60660, 10)\n"
     ]
    },
    {
     "name": "stderr",
     "output_type": "stream",
     "text": [
      "C:\\Users\\PC\\AppData\\Local\\Temp\\ipykernel_4980\\1846137033.py:69: SettingWithCopyWarning: \n",
      "A value is trying to be set on a copy of a slice from a DataFrame.\n",
      "Try using .loc[row_indexer,col_indexer] = value instead\n",
      "\n",
      "See the caveats in the documentation: https://pandas.pydata.org/pandas-docs/stable/user_guide/indexing.html#returning-a-view-versus-a-copy\n",
      "  df_clean['sample_id'] = sample_id\n"
     ]
    },
    {
     "name": "stdout",
     "output_type": "stream",
     "text": [
      "Reading file: C:\\Users\\PC\\Desktop\\gene-expression-cancer-prediction\\rna_seq\\6129ca9a-5466-4cf5-be19-a4e3134659cb\\db998871-01ff-4a39-ba06-fe3fb1183584.rna_seq.augmented_star_gene_counts.tsv\n",
      "Processing sample: db998871-01ff-4a39-ba06-fe3fb1183584.rna_seq.augmented_star_gene_counts\n"
     ]
    },
    {
     "name": "stderr",
     "output_type": "stream",
     "text": [
      "C:\\Users\\PC\\AppData\\Local\\Temp\\ipykernel_4980\\1846137033.py:69: SettingWithCopyWarning: \n",
      "A value is trying to be set on a copy of a slice from a DataFrame.\n",
      "Try using .loc[row_indexer,col_indexer] = value instead\n",
      "\n",
      "See the caveats in the documentation: https://pandas.pydata.org/pandas-docs/stable/user_guide/indexing.html#returning-a-view-versus-a-copy\n",
      "  df_clean['sample_id'] = sample_id\n"
     ]
    },
    {
     "name": "stdout",
     "output_type": "stream",
     "text": [
      "Finished processing sample: db998871-01ff-4a39-ba06-fe3fb1183584.rna_seq.augmented_star_gene_counts, shape: (60660, 10)\n",
      "Reading file: C:\\Users\\PC\\Desktop\\gene-expression-cancer-prediction\\rna_seq\\61647238-a8c4-4156-af15-c32947983cfd\\4c6cb929-293d-452e-b7f8-d535b48cf073.rna_seq.augmented_star_gene_counts.tsv\n",
      "Processing sample: 4c6cb929-293d-452e-b7f8-d535b48cf073.rna_seq.augmented_star_gene_counts\n"
     ]
    },
    {
     "name": "stderr",
     "output_type": "stream",
     "text": [
      "C:\\Users\\PC\\AppData\\Local\\Temp\\ipykernel_4980\\1846137033.py:69: SettingWithCopyWarning: \n",
      "A value is trying to be set on a copy of a slice from a DataFrame.\n",
      "Try using .loc[row_indexer,col_indexer] = value instead\n",
      "\n",
      "See the caveats in the documentation: https://pandas.pydata.org/pandas-docs/stable/user_guide/indexing.html#returning-a-view-versus-a-copy\n",
      "  df_clean['sample_id'] = sample_id\n"
     ]
    },
    {
     "name": "stdout",
     "output_type": "stream",
     "text": [
      "Finished processing sample: 4c6cb929-293d-452e-b7f8-d535b48cf073.rna_seq.augmented_star_gene_counts, shape: (60660, 10)\n",
      "Reading file: C:\\Users\\PC\\Desktop\\gene-expression-cancer-prediction\\rna_seq\\6185d5c4-f757-4baa-bd82-fd4050c57312\\a32190c5-a193-4e90-ac98-38a600bb10f0.rna_seq.augmented_star_gene_counts.tsv\n",
      "Processing sample: a32190c5-a193-4e90-ac98-38a600bb10f0.rna_seq.augmented_star_gene_counts\n"
     ]
    },
    {
     "name": "stderr",
     "output_type": "stream",
     "text": [
      "C:\\Users\\PC\\AppData\\Local\\Temp\\ipykernel_4980\\1846137033.py:69: SettingWithCopyWarning: \n",
      "A value is trying to be set on a copy of a slice from a DataFrame.\n",
      "Try using .loc[row_indexer,col_indexer] = value instead\n",
      "\n",
      "See the caveats in the documentation: https://pandas.pydata.org/pandas-docs/stable/user_guide/indexing.html#returning-a-view-versus-a-copy\n",
      "  df_clean['sample_id'] = sample_id\n",
      "C:\\Users\\PC\\AppData\\Local\\Temp\\ipykernel_4980\\1846137033.py:69: SettingWithCopyWarning: \n",
      "A value is trying to be set on a copy of a slice from a DataFrame.\n",
      "Try using .loc[row_indexer,col_indexer] = value instead\n",
      "\n",
      "See the caveats in the documentation: https://pandas.pydata.org/pandas-docs/stable/user_guide/indexing.html#returning-a-view-versus-a-copy\n",
      "  df_clean['sample_id'] = sample_id\n"
     ]
    },
    {
     "name": "stdout",
     "output_type": "stream",
     "text": [
      "Finished processing sample: a32190c5-a193-4e90-ac98-38a600bb10f0.rna_seq.augmented_star_gene_counts, shape: (60660, 10)\n",
      "Reading file: C:\\Users\\PC\\Desktop\\gene-expression-cancer-prediction\\rna_seq\\621b0997-70e5-415b-8d8c-1e5f90d0d4aa\\0a430a9a-7e63-41d6-8cd0-1dda1e1df975.rna_seq.augmented_star_gene_counts.tsv\n",
      "Processing sample: 0a430a9a-7e63-41d6-8cd0-1dda1e1df975.rna_seq.augmented_star_gene_counts\n",
      "Finished processing sample: 0a430a9a-7e63-41d6-8cd0-1dda1e1df975.rna_seq.augmented_star_gene_counts, shape: (60660, 10)\n",
      "Reading file: C:\\Users\\PC\\Desktop\\gene-expression-cancer-prediction\\rna_seq\\62c0cac5-05eb-46ea-b165-a2e9e342a259\\d702ead2-f1df-43e1-b1a4-c506902b14df.rna_seq.augmented_star_gene_counts.tsv\n",
      "Processing sample: d702ead2-f1df-43e1-b1a4-c506902b14df.rna_seq.augmented_star_gene_counts\n"
     ]
    },
    {
     "name": "stderr",
     "output_type": "stream",
     "text": [
      "C:\\Users\\PC\\AppData\\Local\\Temp\\ipykernel_4980\\1846137033.py:69: SettingWithCopyWarning: \n",
      "A value is trying to be set on a copy of a slice from a DataFrame.\n",
      "Try using .loc[row_indexer,col_indexer] = value instead\n",
      "\n",
      "See the caveats in the documentation: https://pandas.pydata.org/pandas-docs/stable/user_guide/indexing.html#returning-a-view-versus-a-copy\n",
      "  df_clean['sample_id'] = sample_id\n",
      "C:\\Users\\PC\\AppData\\Local\\Temp\\ipykernel_4980\\1846137033.py:69: SettingWithCopyWarning: \n",
      "A value is trying to be set on a copy of a slice from a DataFrame.\n",
      "Try using .loc[row_indexer,col_indexer] = value instead\n",
      "\n",
      "See the caveats in the documentation: https://pandas.pydata.org/pandas-docs/stable/user_guide/indexing.html#returning-a-view-versus-a-copy\n",
      "  df_clean['sample_id'] = sample_id\n"
     ]
    },
    {
     "name": "stdout",
     "output_type": "stream",
     "text": [
      "Finished processing sample: d702ead2-f1df-43e1-b1a4-c506902b14df.rna_seq.augmented_star_gene_counts, shape: (60660, 10)\n",
      "Reading file: C:\\Users\\PC\\Desktop\\gene-expression-cancer-prediction\\rna_seq\\62e7008b-f4ca-40e3-88b3-7354ba2585ac\\93cc1307-7138-4547-a9a2-8a5398815c01.rna_seq.augmented_star_gene_counts.tsv\n",
      "Processing sample: 93cc1307-7138-4547-a9a2-8a5398815c01.rna_seq.augmented_star_gene_counts\n",
      "Finished processing sample: 93cc1307-7138-4547-a9a2-8a5398815c01.rna_seq.augmented_star_gene_counts, shape: (60660, 10)\n",
      "Reading file: C:\\Users\\PC\\Desktop\\gene-expression-cancer-prediction\\rna_seq\\63454d5d-a654-4be0-b812-dd5c98d07ea1\\c63e3277-327a-4259-84f2-13d9a2c2d68a.rna_seq.augmented_star_gene_counts.tsv\n",
      "Processing sample: c63e3277-327a-4259-84f2-13d9a2c2d68a.rna_seq.augmented_star_gene_counts\n"
     ]
    },
    {
     "name": "stderr",
     "output_type": "stream",
     "text": [
      "C:\\Users\\PC\\AppData\\Local\\Temp\\ipykernel_4980\\1846137033.py:69: SettingWithCopyWarning: \n",
      "A value is trying to be set on a copy of a slice from a DataFrame.\n",
      "Try using .loc[row_indexer,col_indexer] = value instead\n",
      "\n",
      "See the caveats in the documentation: https://pandas.pydata.org/pandas-docs/stable/user_guide/indexing.html#returning-a-view-versus-a-copy\n",
      "  df_clean['sample_id'] = sample_id\n",
      "C:\\Users\\PC\\AppData\\Local\\Temp\\ipykernel_4980\\1846137033.py:69: SettingWithCopyWarning: \n",
      "A value is trying to be set on a copy of a slice from a DataFrame.\n",
      "Try using .loc[row_indexer,col_indexer] = value instead\n",
      "\n",
      "See the caveats in the documentation: https://pandas.pydata.org/pandas-docs/stable/user_guide/indexing.html#returning-a-view-versus-a-copy\n",
      "  df_clean['sample_id'] = sample_id\n"
     ]
    },
    {
     "name": "stdout",
     "output_type": "stream",
     "text": [
      "Finished processing sample: c63e3277-327a-4259-84f2-13d9a2c2d68a.rna_seq.augmented_star_gene_counts, shape: (60660, 10)\n",
      "Reading file: C:\\Users\\PC\\Desktop\\gene-expression-cancer-prediction\\rna_seq\\635084ad-0b62-4217-bc6f-e2a8c1326aee\\516fdfb1-7662-4524-9bcd-23ccbbec6a86.rna_seq.augmented_star_gene_counts.tsv\n",
      "Processing sample: 516fdfb1-7662-4524-9bcd-23ccbbec6a86.rna_seq.augmented_star_gene_counts\n",
      "Finished processing sample: 516fdfb1-7662-4524-9bcd-23ccbbec6a86.rna_seq.augmented_star_gene_counts, shape: (60660, 10)\n",
      "Reading file: C:\\Users\\PC\\Desktop\\gene-expression-cancer-prediction\\rna_seq\\641c4e5d-4880-4f5e-9d1e-702cab91a6b4\\32c15b29-da14-4eb5-8c86-39efc94319df.rna_seq.augmented_star_gene_counts.tsv\n",
      "Processing sample: 32c15b29-da14-4eb5-8c86-39efc94319df.rna_seq.augmented_star_gene_counts\n",
      "Finished processing sample: 32c15b29-da14-4eb5-8c86-39efc94319df.rna_seq.augmented_star_gene_counts, shape: (60660, 10)\n",
      "Reading file: C:\\Users\\PC\\Desktop\\gene-expression-cancer-prediction\\rna_seq\\64657d41-17ad-4692-8a13-0cf55c55f11d\\6f73500d-4b23-4f14-911b-fbc69bd38f4b.rna_seq.augmented_star_gene_counts.tsv\n",
      "Processing sample: 6f73500d-4b23-4f14-911b-fbc69bd38f4b.rna_seq.augmented_star_gene_counts\n"
     ]
    },
    {
     "name": "stderr",
     "output_type": "stream",
     "text": [
      "C:\\Users\\PC\\AppData\\Local\\Temp\\ipykernel_4980\\1846137033.py:69: SettingWithCopyWarning: \n",
      "A value is trying to be set on a copy of a slice from a DataFrame.\n",
      "Try using .loc[row_indexer,col_indexer] = value instead\n",
      "\n",
      "See the caveats in the documentation: https://pandas.pydata.org/pandas-docs/stable/user_guide/indexing.html#returning-a-view-versus-a-copy\n",
      "  df_clean['sample_id'] = sample_id\n",
      "C:\\Users\\PC\\AppData\\Local\\Temp\\ipykernel_4980\\1846137033.py:69: SettingWithCopyWarning: \n",
      "A value is trying to be set on a copy of a slice from a DataFrame.\n",
      "Try using .loc[row_indexer,col_indexer] = value instead\n",
      "\n",
      "See the caveats in the documentation: https://pandas.pydata.org/pandas-docs/stable/user_guide/indexing.html#returning-a-view-versus-a-copy\n",
      "  df_clean['sample_id'] = sample_id\n"
     ]
    },
    {
     "name": "stdout",
     "output_type": "stream",
     "text": [
      "Finished processing sample: 6f73500d-4b23-4f14-911b-fbc69bd38f4b.rna_seq.augmented_star_gene_counts, shape: (60660, 10)\n",
      "Reading file: C:\\Users\\PC\\Desktop\\gene-expression-cancer-prediction\\rna_seq\\6487c7e6-38ad-417c-8009-6c899fe74a64\\687d5cbd-0877-4e31-86d7-9fcb32a82f10.rna_seq.augmented_star_gene_counts.tsv\n",
      "Processing sample: 687d5cbd-0877-4e31-86d7-9fcb32a82f10.rna_seq.augmented_star_gene_counts\n"
     ]
    },
    {
     "name": "stderr",
     "output_type": "stream",
     "text": [
      "C:\\Users\\PC\\AppData\\Local\\Temp\\ipykernel_4980\\1846137033.py:69: SettingWithCopyWarning: \n",
      "A value is trying to be set on a copy of a slice from a DataFrame.\n",
      "Try using .loc[row_indexer,col_indexer] = value instead\n",
      "\n",
      "See the caveats in the documentation: https://pandas.pydata.org/pandas-docs/stable/user_guide/indexing.html#returning-a-view-versus-a-copy\n",
      "  df_clean['sample_id'] = sample_id\n",
      "C:\\Users\\PC\\AppData\\Local\\Temp\\ipykernel_4980\\1846137033.py:69: SettingWithCopyWarning: \n",
      "A value is trying to be set on a copy of a slice from a DataFrame.\n",
      "Try using .loc[row_indexer,col_indexer] = value instead\n",
      "\n",
      "See the caveats in the documentation: https://pandas.pydata.org/pandas-docs/stable/user_guide/indexing.html#returning-a-view-versus-a-copy\n",
      "  df_clean['sample_id'] = sample_id\n"
     ]
    },
    {
     "name": "stdout",
     "output_type": "stream",
     "text": [
      "Finished processing sample: 687d5cbd-0877-4e31-86d7-9fcb32a82f10.rna_seq.augmented_star_gene_counts, shape: (60660, 10)\n",
      "Reading file: C:\\Users\\PC\\Desktop\\gene-expression-cancer-prediction\\rna_seq\\64bfe46f-8152-4c70-b69d-ea412a4dfcff\\b25117ce-5a14-4b43-bbfe-513b957464d0.rna_seq.augmented_star_gene_counts.tsv\n",
      "Processing sample: b25117ce-5a14-4b43-bbfe-513b957464d0.rna_seq.augmented_star_gene_counts\n",
      "Finished processing sample: b25117ce-5a14-4b43-bbfe-513b957464d0.rna_seq.augmented_star_gene_counts, shape: (60660, 10)\n",
      "Reading file: C:\\Users\\PC\\Desktop\\gene-expression-cancer-prediction\\rna_seq\\65264188-23f8-4214-a45a-574f47471bb3\\d5926b71-692e-4b6f-a7e1-8b5afdd745c6.rna_seq.augmented_star_gene_counts.tsv\n",
      "Processing sample: d5926b71-692e-4b6f-a7e1-8b5afdd745c6.rna_seq.augmented_star_gene_counts\n"
     ]
    },
    {
     "name": "stderr",
     "output_type": "stream",
     "text": [
      "C:\\Users\\PC\\AppData\\Local\\Temp\\ipykernel_4980\\1846137033.py:69: SettingWithCopyWarning: \n",
      "A value is trying to be set on a copy of a slice from a DataFrame.\n",
      "Try using .loc[row_indexer,col_indexer] = value instead\n",
      "\n",
      "See the caveats in the documentation: https://pandas.pydata.org/pandas-docs/stable/user_guide/indexing.html#returning-a-view-versus-a-copy\n",
      "  df_clean['sample_id'] = sample_id\n"
     ]
    },
    {
     "name": "stdout",
     "output_type": "stream",
     "text": [
      "Finished processing sample: d5926b71-692e-4b6f-a7e1-8b5afdd745c6.rna_seq.augmented_star_gene_counts, shape: (60660, 10)\n",
      "Reading file: C:\\Users\\PC\\Desktop\\gene-expression-cancer-prediction\\rna_seq\\659f84a0-df18-44a4-8b82-ebaec356153d\\e6ac5ada-4358-4ca3-b1cf-05d3e0cf0597.rna_seq.augmented_star_gene_counts.tsv\n",
      "Processing sample: e6ac5ada-4358-4ca3-b1cf-05d3e0cf0597.rna_seq.augmented_star_gene_counts\n"
     ]
    },
    {
     "name": "stderr",
     "output_type": "stream",
     "text": [
      "C:\\Users\\PC\\AppData\\Local\\Temp\\ipykernel_4980\\1846137033.py:69: SettingWithCopyWarning: \n",
      "A value is trying to be set on a copy of a slice from a DataFrame.\n",
      "Try using .loc[row_indexer,col_indexer] = value instead\n",
      "\n",
      "See the caveats in the documentation: https://pandas.pydata.org/pandas-docs/stable/user_guide/indexing.html#returning-a-view-versus-a-copy\n",
      "  df_clean['sample_id'] = sample_id\n"
     ]
    },
    {
     "name": "stdout",
     "output_type": "stream",
     "text": [
      "Finished processing sample: e6ac5ada-4358-4ca3-b1cf-05d3e0cf0597.rna_seq.augmented_star_gene_counts, shape: (60660, 10)\n",
      "Reading file: C:\\Users\\PC\\Desktop\\gene-expression-cancer-prediction\\rna_seq\\65bc2a34-2355-4193-b20e-439f2d7f6df2\\88d14d8e-cbbe-4157-b3ae-f1ddcb5e9551.rna_seq.augmented_star_gene_counts.tsv\n",
      "Processing sample: 88d14d8e-cbbe-4157-b3ae-f1ddcb5e9551.rna_seq.augmented_star_gene_counts\n"
     ]
    },
    {
     "name": "stderr",
     "output_type": "stream",
     "text": [
      "C:\\Users\\PC\\AppData\\Local\\Temp\\ipykernel_4980\\1846137033.py:69: SettingWithCopyWarning: \n",
      "A value is trying to be set on a copy of a slice from a DataFrame.\n",
      "Try using .loc[row_indexer,col_indexer] = value instead\n",
      "\n",
      "See the caveats in the documentation: https://pandas.pydata.org/pandas-docs/stable/user_guide/indexing.html#returning-a-view-versus-a-copy\n",
      "  df_clean['sample_id'] = sample_id\n",
      "C:\\Users\\PC\\AppData\\Local\\Temp\\ipykernel_4980\\1846137033.py:69: SettingWithCopyWarning: \n",
      "A value is trying to be set on a copy of a slice from a DataFrame.\n",
      "Try using .loc[row_indexer,col_indexer] = value instead\n",
      "\n",
      "See the caveats in the documentation: https://pandas.pydata.org/pandas-docs/stable/user_guide/indexing.html#returning-a-view-versus-a-copy\n",
      "  df_clean['sample_id'] = sample_id\n"
     ]
    },
    {
     "name": "stdout",
     "output_type": "stream",
     "text": [
      "Finished processing sample: 88d14d8e-cbbe-4157-b3ae-f1ddcb5e9551.rna_seq.augmented_star_gene_counts, shape: (60660, 10)\n",
      "Reading file: C:\\Users\\PC\\Desktop\\gene-expression-cancer-prediction\\rna_seq\\664d7ba8-9b87-4f17-b98d-8e07dea3c488\\cb024f71-c708-498b-9196-2fe57acf3771.rna_seq.augmented_star_gene_counts.tsv\n",
      "Processing sample: cb024f71-c708-498b-9196-2fe57acf3771.rna_seq.augmented_star_gene_counts\n",
      "Finished processing sample: cb024f71-c708-498b-9196-2fe57acf3771.rna_seq.augmented_star_gene_counts, shape: (60660, 10)\n",
      "Reading file: C:\\Users\\PC\\Desktop\\gene-expression-cancer-prediction\\rna_seq\\67347e29-6d43-4234-8b04-188be7e6440b\\85caaa0e-2811-46d2-b934-d9f9f006afc6.rna_seq.augmented_star_gene_counts.tsv\n",
      "Processing sample: 85caaa0e-2811-46d2-b934-d9f9f006afc6.rna_seq.augmented_star_gene_counts\n"
     ]
    },
    {
     "name": "stderr",
     "output_type": "stream",
     "text": [
      "C:\\Users\\PC\\AppData\\Local\\Temp\\ipykernel_4980\\1846137033.py:69: SettingWithCopyWarning: \n",
      "A value is trying to be set on a copy of a slice from a DataFrame.\n",
      "Try using .loc[row_indexer,col_indexer] = value instead\n",
      "\n",
      "See the caveats in the documentation: https://pandas.pydata.org/pandas-docs/stable/user_guide/indexing.html#returning-a-view-versus-a-copy\n",
      "  df_clean['sample_id'] = sample_id\n",
      "C:\\Users\\PC\\AppData\\Local\\Temp\\ipykernel_4980\\1846137033.py:69: SettingWithCopyWarning: \n",
      "A value is trying to be set on a copy of a slice from a DataFrame.\n",
      "Try using .loc[row_indexer,col_indexer] = value instead\n",
      "\n",
      "See the caveats in the documentation: https://pandas.pydata.org/pandas-docs/stable/user_guide/indexing.html#returning-a-view-versus-a-copy\n",
      "  df_clean['sample_id'] = sample_id\n"
     ]
    },
    {
     "name": "stdout",
     "output_type": "stream",
     "text": [
      "Finished processing sample: 85caaa0e-2811-46d2-b934-d9f9f006afc6.rna_seq.augmented_star_gene_counts, shape: (60660, 10)\n",
      "Reading file: C:\\Users\\PC\\Desktop\\gene-expression-cancer-prediction\\rna_seq\\679ba4c3-49da-47d1-bef2-ce25fd862758\\cd40e8d1-b307-4840-bba6-fd2f71d0c26d.rna_seq.augmented_star_gene_counts.tsv\n",
      "Processing sample: cd40e8d1-b307-4840-bba6-fd2f71d0c26d.rna_seq.augmented_star_gene_counts\n",
      "Finished processing sample: cd40e8d1-b307-4840-bba6-fd2f71d0c26d.rna_seq.augmented_star_gene_counts, shape: (60660, 10)\n",
      "Reading file: C:\\Users\\PC\\Desktop\\gene-expression-cancer-prediction\\rna_seq\\683e004b-7992-4250-a94b-c355c45725d2\\50108c12-718c-48fc-8f76-23ce0c13e2e6.rna_seq.augmented_star_gene_counts.tsv\n",
      "Processing sample: 50108c12-718c-48fc-8f76-23ce0c13e2e6.rna_seq.augmented_star_gene_counts\n"
     ]
    },
    {
     "name": "stderr",
     "output_type": "stream",
     "text": [
      "C:\\Users\\PC\\AppData\\Local\\Temp\\ipykernel_4980\\1846137033.py:69: SettingWithCopyWarning: \n",
      "A value is trying to be set on a copy of a slice from a DataFrame.\n",
      "Try using .loc[row_indexer,col_indexer] = value instead\n",
      "\n",
      "See the caveats in the documentation: https://pandas.pydata.org/pandas-docs/stable/user_guide/indexing.html#returning-a-view-versus-a-copy\n",
      "  df_clean['sample_id'] = sample_id\n",
      "C:\\Users\\PC\\AppData\\Local\\Temp\\ipykernel_4980\\1846137033.py:69: SettingWithCopyWarning: \n",
      "A value is trying to be set on a copy of a slice from a DataFrame.\n",
      "Try using .loc[row_indexer,col_indexer] = value instead\n",
      "\n",
      "See the caveats in the documentation: https://pandas.pydata.org/pandas-docs/stable/user_guide/indexing.html#returning-a-view-versus-a-copy\n",
      "  df_clean['sample_id'] = sample_id\n"
     ]
    },
    {
     "name": "stdout",
     "output_type": "stream",
     "text": [
      "Finished processing sample: 50108c12-718c-48fc-8f76-23ce0c13e2e6.rna_seq.augmented_star_gene_counts, shape: (60660, 10)\n",
      "Reading file: C:\\Users\\PC\\Desktop\\gene-expression-cancer-prediction\\rna_seq\\68814d4d-9db8-471f-b4b3-5c2fecb10773\\baf9135d-d8dd-4e04-9115-4055b81fae05.rna_seq.augmented_star_gene_counts.tsv\n",
      "Processing sample: baf9135d-d8dd-4e04-9115-4055b81fae05.rna_seq.augmented_star_gene_counts\n",
      "Finished processing sample: baf9135d-d8dd-4e04-9115-4055b81fae05.rna_seq.augmented_star_gene_counts, shape: (60660, 10)\n",
      "Reading file: C:\\Users\\PC\\Desktop\\gene-expression-cancer-prediction\\rna_seq\\69aebf68-5357-4269-84fb-ee91a6bd67fd\\8f4d89ea-3207-4fa7-9898-9b78cb971577.rna_seq.augmented_star_gene_counts.tsv\n",
      "Processing sample: 8f4d89ea-3207-4fa7-9898-9b78cb971577.rna_seq.augmented_star_gene_counts\n"
     ]
    },
    {
     "name": "stderr",
     "output_type": "stream",
     "text": [
      "C:\\Users\\PC\\AppData\\Local\\Temp\\ipykernel_4980\\1846137033.py:69: SettingWithCopyWarning: \n",
      "A value is trying to be set on a copy of a slice from a DataFrame.\n",
      "Try using .loc[row_indexer,col_indexer] = value instead\n",
      "\n",
      "See the caveats in the documentation: https://pandas.pydata.org/pandas-docs/stable/user_guide/indexing.html#returning-a-view-versus-a-copy\n",
      "  df_clean['sample_id'] = sample_id\n",
      "C:\\Users\\PC\\AppData\\Local\\Temp\\ipykernel_4980\\1846137033.py:69: SettingWithCopyWarning: \n",
      "A value is trying to be set on a copy of a slice from a DataFrame.\n",
      "Try using .loc[row_indexer,col_indexer] = value instead\n",
      "\n",
      "See the caveats in the documentation: https://pandas.pydata.org/pandas-docs/stable/user_guide/indexing.html#returning-a-view-versus-a-copy\n",
      "  df_clean['sample_id'] = sample_id\n"
     ]
    },
    {
     "name": "stdout",
     "output_type": "stream",
     "text": [
      "Finished processing sample: 8f4d89ea-3207-4fa7-9898-9b78cb971577.rna_seq.augmented_star_gene_counts, shape: (60660, 10)\n",
      "Reading file: C:\\Users\\PC\\Desktop\\gene-expression-cancer-prediction\\rna_seq\\69bb06b6-74b3-441b-82d7-c6783aa88cdd\\b44d9209-0e37-4ffe-9c27-a969a421b3ab.rna_seq.augmented_star_gene_counts.tsv\n",
      "Processing sample: b44d9209-0e37-4ffe-9c27-a969a421b3ab.rna_seq.augmented_star_gene_counts\n",
      "Finished processing sample: b44d9209-0e37-4ffe-9c27-a969a421b3ab.rna_seq.augmented_star_gene_counts, shape: (60660, 10)\n",
      "Reading file: C:\\Users\\PC\\Desktop\\gene-expression-cancer-prediction\\rna_seq\\69f5df3f-273f-4e02-934b-af9c9ec52067\\92e1baff-0f43-4841-aab9-fdda0078673a.rna_seq.augmented_star_gene_counts.tsv\n",
      "Processing sample: 92e1baff-0f43-4841-aab9-fdda0078673a.rna_seq.augmented_star_gene_counts\n"
     ]
    },
    {
     "name": "stderr",
     "output_type": "stream",
     "text": [
      "C:\\Users\\PC\\AppData\\Local\\Temp\\ipykernel_4980\\1846137033.py:69: SettingWithCopyWarning: \n",
      "A value is trying to be set on a copy of a slice from a DataFrame.\n",
      "Try using .loc[row_indexer,col_indexer] = value instead\n",
      "\n",
      "See the caveats in the documentation: https://pandas.pydata.org/pandas-docs/stable/user_guide/indexing.html#returning-a-view-versus-a-copy\n",
      "  df_clean['sample_id'] = sample_id\n",
      "C:\\Users\\PC\\AppData\\Local\\Temp\\ipykernel_4980\\1846137033.py:69: SettingWithCopyWarning: \n",
      "A value is trying to be set on a copy of a slice from a DataFrame.\n",
      "Try using .loc[row_indexer,col_indexer] = value instead\n",
      "\n",
      "See the caveats in the documentation: https://pandas.pydata.org/pandas-docs/stable/user_guide/indexing.html#returning-a-view-versus-a-copy\n",
      "  df_clean['sample_id'] = sample_id\n"
     ]
    },
    {
     "name": "stdout",
     "output_type": "stream",
     "text": [
      "Finished processing sample: 92e1baff-0f43-4841-aab9-fdda0078673a.rna_seq.augmented_star_gene_counts, shape: (60660, 10)\n",
      "Reading file: C:\\Users\\PC\\Desktop\\gene-expression-cancer-prediction\\rna_seq\\6a40f728-eee2-4777-a8e0-67fd6f9f7927\\c8e8f4e7-7aae-41f7-9d36-5938d2c2fc04.rna_seq.augmented_star_gene_counts.tsv\n",
      "Processing sample: c8e8f4e7-7aae-41f7-9d36-5938d2c2fc04.rna_seq.augmented_star_gene_counts\n",
      "Finished processing sample: c8e8f4e7-7aae-41f7-9d36-5938d2c2fc04.rna_seq.augmented_star_gene_counts, shape: (60660, 10)\n",
      "Reading file: C:\\Users\\PC\\Desktop\\gene-expression-cancer-prediction\\rna_seq\\6a89e8a2-577e-4531-98e8-ba6fc6cfe525\\2bbbdb50-4486-473c-a158-6b1656bdb242.rna_seq.augmented_star_gene_counts.tsv\n",
      "Processing sample: 2bbbdb50-4486-473c-a158-6b1656bdb242.rna_seq.augmented_star_gene_counts\n"
     ]
    },
    {
     "name": "stderr",
     "output_type": "stream",
     "text": [
      "C:\\Users\\PC\\AppData\\Local\\Temp\\ipykernel_4980\\1846137033.py:69: SettingWithCopyWarning: \n",
      "A value is trying to be set on a copy of a slice from a DataFrame.\n",
      "Try using .loc[row_indexer,col_indexer] = value instead\n",
      "\n",
      "See the caveats in the documentation: https://pandas.pydata.org/pandas-docs/stable/user_guide/indexing.html#returning-a-view-versus-a-copy\n",
      "  df_clean['sample_id'] = sample_id\n",
      "C:\\Users\\PC\\AppData\\Local\\Temp\\ipykernel_4980\\1846137033.py:69: SettingWithCopyWarning: \n",
      "A value is trying to be set on a copy of a slice from a DataFrame.\n",
      "Try using .loc[row_indexer,col_indexer] = value instead\n",
      "\n",
      "See the caveats in the documentation: https://pandas.pydata.org/pandas-docs/stable/user_guide/indexing.html#returning-a-view-versus-a-copy\n",
      "  df_clean['sample_id'] = sample_id\n"
     ]
    },
    {
     "name": "stdout",
     "output_type": "stream",
     "text": [
      "Finished processing sample: 2bbbdb50-4486-473c-a158-6b1656bdb242.rna_seq.augmented_star_gene_counts, shape: (60660, 10)\n",
      "Reading file: C:\\Users\\PC\\Desktop\\gene-expression-cancer-prediction\\rna_seq\\6ac73ea5-48e8-40d8-8383-fa28991813fd\\8832d658-24d2-4d12-a025-959d5eed1271.rna_seq.augmented_star_gene_counts.tsv\n",
      "Processing sample: 8832d658-24d2-4d12-a025-959d5eed1271.rna_seq.augmented_star_gene_counts\n",
      "Finished processing sample: 8832d658-24d2-4d12-a025-959d5eed1271.rna_seq.augmented_star_gene_counts, shape: (60660, 10)\n",
      "Reading file: C:\\Users\\PC\\Desktop\\gene-expression-cancer-prediction\\rna_seq\\6b62d6dd-bb6f-4f39-9041-992c47b875f3\\d1f7678a-8106-46c9-95b7-5ec5d940f08c.rna_seq.augmented_star_gene_counts.tsv\n",
      "Processing sample: d1f7678a-8106-46c9-95b7-5ec5d940f08c.rna_seq.augmented_star_gene_counts\n"
     ]
    },
    {
     "name": "stderr",
     "output_type": "stream",
     "text": [
      "C:\\Users\\PC\\AppData\\Local\\Temp\\ipykernel_4980\\1846137033.py:69: SettingWithCopyWarning: \n",
      "A value is trying to be set on a copy of a slice from a DataFrame.\n",
      "Try using .loc[row_indexer,col_indexer] = value instead\n",
      "\n",
      "See the caveats in the documentation: https://pandas.pydata.org/pandas-docs/stable/user_guide/indexing.html#returning-a-view-versus-a-copy\n",
      "  df_clean['sample_id'] = sample_id\n",
      "C:\\Users\\PC\\AppData\\Local\\Temp\\ipykernel_4980\\1846137033.py:69: SettingWithCopyWarning: \n",
      "A value is trying to be set on a copy of a slice from a DataFrame.\n",
      "Try using .loc[row_indexer,col_indexer] = value instead\n",
      "\n",
      "See the caveats in the documentation: https://pandas.pydata.org/pandas-docs/stable/user_guide/indexing.html#returning-a-view-versus-a-copy\n",
      "  df_clean['sample_id'] = sample_id\n"
     ]
    },
    {
     "name": "stdout",
     "output_type": "stream",
     "text": [
      "Finished processing sample: d1f7678a-8106-46c9-95b7-5ec5d940f08c.rna_seq.augmented_star_gene_counts, shape: (60660, 10)\n",
      "Reading file: C:\\Users\\PC\\Desktop\\gene-expression-cancer-prediction\\rna_seq\\6b9180f4-bdd0-4118-bff7-0523cad45567\\70532e65-df18-4e1d-beaf-08fbf349bec0.rna_seq.augmented_star_gene_counts.tsv\n",
      "Processing sample: 70532e65-df18-4e1d-beaf-08fbf349bec0.rna_seq.augmented_star_gene_counts\n",
      "Finished processing sample: 70532e65-df18-4e1d-beaf-08fbf349bec0.rna_seq.augmented_star_gene_counts, shape: (60660, 10)\n",
      "Reading file: C:\\Users\\PC\\Desktop\\gene-expression-cancer-prediction\\rna_seq\\6bd03014-d3b8-4cac-929b-af970321ae1f\\8923da54-2f7c-4315-9fc2-a1d6502df55b.rna_seq.augmented_star_gene_counts.tsv\n",
      "Processing sample: 8923da54-2f7c-4315-9fc2-a1d6502df55b.rna_seq.augmented_star_gene_counts\n"
     ]
    },
    {
     "name": "stderr",
     "output_type": "stream",
     "text": [
      "C:\\Users\\PC\\AppData\\Local\\Temp\\ipykernel_4980\\1846137033.py:69: SettingWithCopyWarning: \n",
      "A value is trying to be set on a copy of a slice from a DataFrame.\n",
      "Try using .loc[row_indexer,col_indexer] = value instead\n",
      "\n",
      "See the caveats in the documentation: https://pandas.pydata.org/pandas-docs/stable/user_guide/indexing.html#returning-a-view-versus-a-copy\n",
      "  df_clean['sample_id'] = sample_id\n",
      "C:\\Users\\PC\\AppData\\Local\\Temp\\ipykernel_4980\\1846137033.py:69: SettingWithCopyWarning: \n",
      "A value is trying to be set on a copy of a slice from a DataFrame.\n",
      "Try using .loc[row_indexer,col_indexer] = value instead\n",
      "\n",
      "See the caveats in the documentation: https://pandas.pydata.org/pandas-docs/stable/user_guide/indexing.html#returning-a-view-versus-a-copy\n",
      "  df_clean['sample_id'] = sample_id\n"
     ]
    },
    {
     "name": "stdout",
     "output_type": "stream",
     "text": [
      "Finished processing sample: 8923da54-2f7c-4315-9fc2-a1d6502df55b.rna_seq.augmented_star_gene_counts, shape: (60660, 10)\n",
      "Reading file: C:\\Users\\PC\\Desktop\\gene-expression-cancer-prediction\\rna_seq\\6c3f2469-50ea-48a7-bb17-043e74e54535\\05ddce6e-57b0-4b78-9955-7c1b4c564498.rna_seq.augmented_star_gene_counts.tsv\n",
      "Processing sample: 05ddce6e-57b0-4b78-9955-7c1b4c564498.rna_seq.augmented_star_gene_counts\n",
      "Finished processing sample: 05ddce6e-57b0-4b78-9955-7c1b4c564498.rna_seq.augmented_star_gene_counts, shape: (60660, 10)\n",
      "Reading file: C:\\Users\\PC\\Desktop\\gene-expression-cancer-prediction\\rna_seq\\6d0f2c52-47f8-4032-8468-38dcc578ed6a\\e4559121-091f-41f2-9559-2abb1bbfd229.rna_seq.augmented_star_gene_counts.tsv\n",
      "Processing sample: e4559121-091f-41f2-9559-2abb1bbfd229.rna_seq.augmented_star_gene_counts\n"
     ]
    },
    {
     "name": "stderr",
     "output_type": "stream",
     "text": [
      "C:\\Users\\PC\\AppData\\Local\\Temp\\ipykernel_4980\\1846137033.py:69: SettingWithCopyWarning: \n",
      "A value is trying to be set on a copy of a slice from a DataFrame.\n",
      "Try using .loc[row_indexer,col_indexer] = value instead\n",
      "\n",
      "See the caveats in the documentation: https://pandas.pydata.org/pandas-docs/stable/user_guide/indexing.html#returning-a-view-versus-a-copy\n",
      "  df_clean['sample_id'] = sample_id\n",
      "C:\\Users\\PC\\AppData\\Local\\Temp\\ipykernel_4980\\1846137033.py:69: SettingWithCopyWarning: \n",
      "A value is trying to be set on a copy of a slice from a DataFrame.\n",
      "Try using .loc[row_indexer,col_indexer] = value instead\n",
      "\n",
      "See the caveats in the documentation: https://pandas.pydata.org/pandas-docs/stable/user_guide/indexing.html#returning-a-view-versus-a-copy\n",
      "  df_clean['sample_id'] = sample_id\n"
     ]
    },
    {
     "name": "stdout",
     "output_type": "stream",
     "text": [
      "Finished processing sample: e4559121-091f-41f2-9559-2abb1bbfd229.rna_seq.augmented_star_gene_counts, shape: (60660, 10)\n",
      "Reading file: C:\\Users\\PC\\Desktop\\gene-expression-cancer-prediction\\rna_seq\\6d17023b-03fd-4e66-9c7e-72395f09e87f\\4591685a-dc4c-4049-aced-8278c715c890.rna_seq.augmented_star_gene_counts.tsv\n",
      "Processing sample: 4591685a-dc4c-4049-aced-8278c715c890.rna_seq.augmented_star_gene_counts\n",
      "Finished processing sample: 4591685a-dc4c-4049-aced-8278c715c890.rna_seq.augmented_star_gene_counts, shape: (60660, 10)\n",
      "Reading file: C:\\Users\\PC\\Desktop\\gene-expression-cancer-prediction\\rna_seq\\6d488c27-ae90-41d4-8ddb-01a8eb731f0e\\619785ac-0041-4b26-a887-d8ca021eaab1.rna_seq.augmented_star_gene_counts.tsv\n",
      "Processing sample: 619785ac-0041-4b26-a887-d8ca021eaab1.rna_seq.augmented_star_gene_counts\n"
     ]
    },
    {
     "name": "stderr",
     "output_type": "stream",
     "text": [
      "C:\\Users\\PC\\AppData\\Local\\Temp\\ipykernel_4980\\1846137033.py:69: SettingWithCopyWarning: \n",
      "A value is trying to be set on a copy of a slice from a DataFrame.\n",
      "Try using .loc[row_indexer,col_indexer] = value instead\n",
      "\n",
      "See the caveats in the documentation: https://pandas.pydata.org/pandas-docs/stable/user_guide/indexing.html#returning-a-view-versus-a-copy\n",
      "  df_clean['sample_id'] = sample_id\n",
      "C:\\Users\\PC\\AppData\\Local\\Temp\\ipykernel_4980\\1846137033.py:69: SettingWithCopyWarning: \n",
      "A value is trying to be set on a copy of a slice from a DataFrame.\n",
      "Try using .loc[row_indexer,col_indexer] = value instead\n",
      "\n",
      "See the caveats in the documentation: https://pandas.pydata.org/pandas-docs/stable/user_guide/indexing.html#returning-a-view-versus-a-copy\n",
      "  df_clean['sample_id'] = sample_id\n"
     ]
    },
    {
     "name": "stdout",
     "output_type": "stream",
     "text": [
      "Finished processing sample: 619785ac-0041-4b26-a887-d8ca021eaab1.rna_seq.augmented_star_gene_counts, shape: (60660, 10)\n",
      "Reading file: C:\\Users\\PC\\Desktop\\gene-expression-cancer-prediction\\rna_seq\\6d505305-dc5f-4dc7-8721-817f444ff7ee\\d681e327-7e74-4f6a-811f-e006470e568f.rna_seq.augmented_star_gene_counts.tsv\n",
      "Processing sample: d681e327-7e74-4f6a-811f-e006470e568f.rna_seq.augmented_star_gene_counts\n",
      "Finished processing sample: d681e327-7e74-4f6a-811f-e006470e568f.rna_seq.augmented_star_gene_counts, shape: (60660, 10)\n",
      "Reading file: C:\\Users\\PC\\Desktop\\gene-expression-cancer-prediction\\rna_seq\\6df72103-ccfb-4a53-b839-2e8c47ec2145\\b4e60c29-6c4d-49b4-878e-b91e20e17dad.rna_seq.augmented_star_gene_counts.tsv\n",
      "Processing sample: b4e60c29-6c4d-49b4-878e-b91e20e17dad.rna_seq.augmented_star_gene_counts\n"
     ]
    },
    {
     "name": "stderr",
     "output_type": "stream",
     "text": [
      "C:\\Users\\PC\\AppData\\Local\\Temp\\ipykernel_4980\\1846137033.py:69: SettingWithCopyWarning: \n",
      "A value is trying to be set on a copy of a slice from a DataFrame.\n",
      "Try using .loc[row_indexer,col_indexer] = value instead\n",
      "\n",
      "See the caveats in the documentation: https://pandas.pydata.org/pandas-docs/stable/user_guide/indexing.html#returning-a-view-versus-a-copy\n",
      "  df_clean['sample_id'] = sample_id\n",
      "C:\\Users\\PC\\AppData\\Local\\Temp\\ipykernel_4980\\1846137033.py:69: SettingWithCopyWarning: \n",
      "A value is trying to be set on a copy of a slice from a DataFrame.\n",
      "Try using .loc[row_indexer,col_indexer] = value instead\n",
      "\n",
      "See the caveats in the documentation: https://pandas.pydata.org/pandas-docs/stable/user_guide/indexing.html#returning-a-view-versus-a-copy\n",
      "  df_clean['sample_id'] = sample_id\n"
     ]
    },
    {
     "name": "stdout",
     "output_type": "stream",
     "text": [
      "Finished processing sample: b4e60c29-6c4d-49b4-878e-b91e20e17dad.rna_seq.augmented_star_gene_counts, shape: (60660, 10)\n",
      "Reading file: C:\\Users\\PC\\Desktop\\gene-expression-cancer-prediction\\rna_seq\\6e8e0eef-1fc8-446c-9038-3a06657784ec\\0c087071-89ba-4fc8-ab47-c4f1c60fa24c.rna_seq.augmented_star_gene_counts.tsv\n",
      "Processing sample: 0c087071-89ba-4fc8-ab47-c4f1c60fa24c.rna_seq.augmented_star_gene_counts\n",
      "Finished processing sample: 0c087071-89ba-4fc8-ab47-c4f1c60fa24c.rna_seq.augmented_star_gene_counts, shape: (60660, 10)\n",
      "Reading file: C:\\Users\\PC\\Desktop\\gene-expression-cancer-prediction\\rna_seq\\6efd37a6-1669-4cdd-95b6-60c688e1e236\\304b7293-0a76-4028-9a18-58c87c751ceb.rna_seq.augmented_star_gene_counts.tsv\n",
      "Processing sample: 304b7293-0a76-4028-9a18-58c87c751ceb.rna_seq.augmented_star_gene_counts\n"
     ]
    },
    {
     "name": "stderr",
     "output_type": "stream",
     "text": [
      "C:\\Users\\PC\\AppData\\Local\\Temp\\ipykernel_4980\\1846137033.py:69: SettingWithCopyWarning: \n",
      "A value is trying to be set on a copy of a slice from a DataFrame.\n",
      "Try using .loc[row_indexer,col_indexer] = value instead\n",
      "\n",
      "See the caveats in the documentation: https://pandas.pydata.org/pandas-docs/stable/user_guide/indexing.html#returning-a-view-versus-a-copy\n",
      "  df_clean['sample_id'] = sample_id\n",
      "C:\\Users\\PC\\AppData\\Local\\Temp\\ipykernel_4980\\1846137033.py:69: SettingWithCopyWarning: \n",
      "A value is trying to be set on a copy of a slice from a DataFrame.\n",
      "Try using .loc[row_indexer,col_indexer] = value instead\n",
      "\n",
      "See the caveats in the documentation: https://pandas.pydata.org/pandas-docs/stable/user_guide/indexing.html#returning-a-view-versus-a-copy\n",
      "  df_clean['sample_id'] = sample_id\n"
     ]
    },
    {
     "name": "stdout",
     "output_type": "stream",
     "text": [
      "Finished processing sample: 304b7293-0a76-4028-9a18-58c87c751ceb.rna_seq.augmented_star_gene_counts, shape: (60660, 10)\n",
      "Reading file: C:\\Users\\PC\\Desktop\\gene-expression-cancer-prediction\\rna_seq\\6f3bd40b-98b5-431b-a0b3-c7767b479d7d\\053442de-6d8a-4811-b03c-be1c7a3f207c.rna_seq.augmented_star_gene_counts.tsv\n",
      "Processing sample: 053442de-6d8a-4811-b03c-be1c7a3f207c.rna_seq.augmented_star_gene_counts\n",
      "Finished processing sample: 053442de-6d8a-4811-b03c-be1c7a3f207c.rna_seq.augmented_star_gene_counts, shape: (60660, 10)\n",
      "Reading file: C:\\Users\\PC\\Desktop\\gene-expression-cancer-prediction\\rna_seq\\6fe2f370-6592-4d85-992c-1b5449a62dbe\\c9496c77-cfbf-42db-a862-af0b878b9852.rna_seq.augmented_star_gene_counts.tsv\n",
      "Processing sample: c9496c77-cfbf-42db-a862-af0b878b9852.rna_seq.augmented_star_gene_counts\n"
     ]
    },
    {
     "name": "stderr",
     "output_type": "stream",
     "text": [
      "C:\\Users\\PC\\AppData\\Local\\Temp\\ipykernel_4980\\1846137033.py:69: SettingWithCopyWarning: \n",
      "A value is trying to be set on a copy of a slice from a DataFrame.\n",
      "Try using .loc[row_indexer,col_indexer] = value instead\n",
      "\n",
      "See the caveats in the documentation: https://pandas.pydata.org/pandas-docs/stable/user_guide/indexing.html#returning-a-view-versus-a-copy\n",
      "  df_clean['sample_id'] = sample_id\n",
      "C:\\Users\\PC\\AppData\\Local\\Temp\\ipykernel_4980\\1846137033.py:69: SettingWithCopyWarning: \n",
      "A value is trying to be set on a copy of a slice from a DataFrame.\n",
      "Try using .loc[row_indexer,col_indexer] = value instead\n",
      "\n",
      "See the caveats in the documentation: https://pandas.pydata.org/pandas-docs/stable/user_guide/indexing.html#returning-a-view-versus-a-copy\n",
      "  df_clean['sample_id'] = sample_id\n"
     ]
    },
    {
     "name": "stdout",
     "output_type": "stream",
     "text": [
      "Finished processing sample: c9496c77-cfbf-42db-a862-af0b878b9852.rna_seq.augmented_star_gene_counts, shape: (60660, 10)\n",
      "Reading file: C:\\Users\\PC\\Desktop\\gene-expression-cancer-prediction\\rna_seq\\7002e8cb-0d64-4d4b-a483-bf6dec3c2abb\\08a14e13-810a-4862-9de9-16b4fea25625.rna_seq.augmented_star_gene_counts.tsv\n",
      "Processing sample: 08a14e13-810a-4862-9de9-16b4fea25625.rna_seq.augmented_star_gene_counts\n",
      "Finished processing sample: 08a14e13-810a-4862-9de9-16b4fea25625.rna_seq.augmented_star_gene_counts, shape: (60660, 10)\n",
      "Reading file: C:\\Users\\PC\\Desktop\\gene-expression-cancer-prediction\\rna_seq\\70c9af7f-8a58-434f-8f45-098ef0450319\\e3c0a094-5504-4b74-9e0d-c73e84dc3901.rna_seq.augmented_star_gene_counts.tsv\n",
      "Processing sample: e3c0a094-5504-4b74-9e0d-c73e84dc3901.rna_seq.augmented_star_gene_counts\n"
     ]
    },
    {
     "name": "stderr",
     "output_type": "stream",
     "text": [
      "C:\\Users\\PC\\AppData\\Local\\Temp\\ipykernel_4980\\1846137033.py:69: SettingWithCopyWarning: \n",
      "A value is trying to be set on a copy of a slice from a DataFrame.\n",
      "Try using .loc[row_indexer,col_indexer] = value instead\n",
      "\n",
      "See the caveats in the documentation: https://pandas.pydata.org/pandas-docs/stable/user_guide/indexing.html#returning-a-view-versus-a-copy\n",
      "  df_clean['sample_id'] = sample_id\n",
      "C:\\Users\\PC\\AppData\\Local\\Temp\\ipykernel_4980\\1846137033.py:69: SettingWithCopyWarning: \n",
      "A value is trying to be set on a copy of a slice from a DataFrame.\n",
      "Try using .loc[row_indexer,col_indexer] = value instead\n",
      "\n",
      "See the caveats in the documentation: https://pandas.pydata.org/pandas-docs/stable/user_guide/indexing.html#returning-a-view-versus-a-copy\n",
      "  df_clean['sample_id'] = sample_id\n"
     ]
    },
    {
     "name": "stdout",
     "output_type": "stream",
     "text": [
      "Finished processing sample: e3c0a094-5504-4b74-9e0d-c73e84dc3901.rna_seq.augmented_star_gene_counts, shape: (60660, 10)\n",
      "Reading file: C:\\Users\\PC\\Desktop\\gene-expression-cancer-prediction\\rna_seq\\70ea9273-29f3-425a-ba66-5b75db62c9b7\\8f6c4058-6bdd-4f85-94ed-874966ffec55.rna_seq.augmented_star_gene_counts.tsv\n",
      "Processing sample: 8f6c4058-6bdd-4f85-94ed-874966ffec55.rna_seq.augmented_star_gene_counts\n",
      "Finished processing sample: 8f6c4058-6bdd-4f85-94ed-874966ffec55.rna_seq.augmented_star_gene_counts, shape: (60660, 10)\n",
      "Reading file: C:\\Users\\PC\\Desktop\\gene-expression-cancer-prediction\\rna_seq\\70f7e473-4a58-4186-aedd-1bab29bef4f3\\abb411d3-1474-4e6e-afa9-23b974d9a557.rna_seq.augmented_star_gene_counts.tsv\n",
      "Processing sample: abb411d3-1474-4e6e-afa9-23b974d9a557.rna_seq.augmented_star_gene_counts\n"
     ]
    },
    {
     "name": "stderr",
     "output_type": "stream",
     "text": [
      "C:\\Users\\PC\\AppData\\Local\\Temp\\ipykernel_4980\\1846137033.py:69: SettingWithCopyWarning: \n",
      "A value is trying to be set on a copy of a slice from a DataFrame.\n",
      "Try using .loc[row_indexer,col_indexer] = value instead\n",
      "\n",
      "See the caveats in the documentation: https://pandas.pydata.org/pandas-docs/stable/user_guide/indexing.html#returning-a-view-versus-a-copy\n",
      "  df_clean['sample_id'] = sample_id\n",
      "C:\\Users\\PC\\AppData\\Local\\Temp\\ipykernel_4980\\1846137033.py:69: SettingWithCopyWarning: \n",
      "A value is trying to be set on a copy of a slice from a DataFrame.\n",
      "Try using .loc[row_indexer,col_indexer] = value instead\n",
      "\n",
      "See the caveats in the documentation: https://pandas.pydata.org/pandas-docs/stable/user_guide/indexing.html#returning-a-view-versus-a-copy\n",
      "  df_clean['sample_id'] = sample_id\n"
     ]
    },
    {
     "name": "stdout",
     "output_type": "stream",
     "text": [
      "Finished processing sample: abb411d3-1474-4e6e-afa9-23b974d9a557.rna_seq.augmented_star_gene_counts, shape: (60660, 10)\n",
      "Reading file: C:\\Users\\PC\\Desktop\\gene-expression-cancer-prediction\\rna_seq\\71175258-a00a-4035-8f33-eb48bf04066f\\c98940e5-aff4-4eec-9cd7-708584356a5f.rna_seq.augmented_star_gene_counts.tsv\n",
      "Processing sample: c98940e5-aff4-4eec-9cd7-708584356a5f.rna_seq.augmented_star_gene_counts\n",
      "Finished processing sample: c98940e5-aff4-4eec-9cd7-708584356a5f.rna_seq.augmented_star_gene_counts, shape: (60660, 10)\n",
      "Reading file: C:\\Users\\PC\\Desktop\\gene-expression-cancer-prediction\\rna_seq\\7125229a-2fc6-402d-bd87-ad0d3195fd49\\c024ea4d-8f0e-4fba-b793-5d2e767744db.rna_seq.augmented_star_gene_counts.tsv\n",
      "Processing sample: c024ea4d-8f0e-4fba-b793-5d2e767744db.rna_seq.augmented_star_gene_counts\n"
     ]
    },
    {
     "name": "stderr",
     "output_type": "stream",
     "text": [
      "C:\\Users\\PC\\AppData\\Local\\Temp\\ipykernel_4980\\1846137033.py:69: SettingWithCopyWarning: \n",
      "A value is trying to be set on a copy of a slice from a DataFrame.\n",
      "Try using .loc[row_indexer,col_indexer] = value instead\n",
      "\n",
      "See the caveats in the documentation: https://pandas.pydata.org/pandas-docs/stable/user_guide/indexing.html#returning-a-view-versus-a-copy\n",
      "  df_clean['sample_id'] = sample_id\n"
     ]
    },
    {
     "name": "stdout",
     "output_type": "stream",
     "text": [
      "Finished processing sample: c024ea4d-8f0e-4fba-b793-5d2e767744db.rna_seq.augmented_star_gene_counts, shape: (60660, 10)\n",
      "Reading file: C:\\Users\\PC\\Desktop\\gene-expression-cancer-prediction\\rna_seq\\7140b89b-50b6-42ed-a69d-1cbc7901d530\\071e21e7-a494-4d87-ab48-1cb334e0d992.rna_seq.augmented_star_gene_counts.tsv\n",
      "Processing sample: 071e21e7-a494-4d87-ab48-1cb334e0d992.rna_seq.augmented_star_gene_counts\n"
     ]
    },
    {
     "name": "stderr",
     "output_type": "stream",
     "text": [
      "C:\\Users\\PC\\AppData\\Local\\Temp\\ipykernel_4980\\1846137033.py:69: SettingWithCopyWarning: \n",
      "A value is trying to be set on a copy of a slice from a DataFrame.\n",
      "Try using .loc[row_indexer,col_indexer] = value instead\n",
      "\n",
      "See the caveats in the documentation: https://pandas.pydata.org/pandas-docs/stable/user_guide/indexing.html#returning-a-view-versus-a-copy\n",
      "  df_clean['sample_id'] = sample_id\n",
      "C:\\Users\\PC\\AppData\\Local\\Temp\\ipykernel_4980\\1846137033.py:69: SettingWithCopyWarning: \n",
      "A value is trying to be set on a copy of a slice from a DataFrame.\n",
      "Try using .loc[row_indexer,col_indexer] = value instead\n",
      "\n",
      "See the caveats in the documentation: https://pandas.pydata.org/pandas-docs/stable/user_guide/indexing.html#returning-a-view-versus-a-copy\n",
      "  df_clean['sample_id'] = sample_id\n"
     ]
    },
    {
     "name": "stdout",
     "output_type": "stream",
     "text": [
      "Finished processing sample: 071e21e7-a494-4d87-ab48-1cb334e0d992.rna_seq.augmented_star_gene_counts, shape: (60660, 10)\n",
      "Reading file: C:\\Users\\PC\\Desktop\\gene-expression-cancer-prediction\\rna_seq\\71ce6854-2231-48ad-ba1b-54bb4ec7d713\\c50bf088-8ad3-495c-b7b5-1eca9bb546ba.rna_seq.augmented_star_gene_counts.tsv\n",
      "Processing sample: c50bf088-8ad3-495c-b7b5-1eca9bb546ba.rna_seq.augmented_star_gene_counts\n",
      "Finished processing sample: c50bf088-8ad3-495c-b7b5-1eca9bb546ba.rna_seq.augmented_star_gene_counts, shape: (60660, 10)\n",
      "Reading file: C:\\Users\\PC\\Desktop\\gene-expression-cancer-prediction\\rna_seq\\71ea0cc0-d979-4efd-a670-1e8e8a329aca\\0394cdb2-85e8-4cea-b572-4cb4ed779774.rna_seq.augmented_star_gene_counts.tsv\n",
      "Processing sample: 0394cdb2-85e8-4cea-b572-4cb4ed779774.rna_seq.augmented_star_gene_counts\n"
     ]
    },
    {
     "name": "stderr",
     "output_type": "stream",
     "text": [
      "C:\\Users\\PC\\AppData\\Local\\Temp\\ipykernel_4980\\1846137033.py:69: SettingWithCopyWarning: \n",
      "A value is trying to be set on a copy of a slice from a DataFrame.\n",
      "Try using .loc[row_indexer,col_indexer] = value instead\n",
      "\n",
      "See the caveats in the documentation: https://pandas.pydata.org/pandas-docs/stable/user_guide/indexing.html#returning-a-view-versus-a-copy\n",
      "  df_clean['sample_id'] = sample_id\n",
      "C:\\Users\\PC\\AppData\\Local\\Temp\\ipykernel_4980\\1846137033.py:69: SettingWithCopyWarning: \n",
      "A value is trying to be set on a copy of a slice from a DataFrame.\n",
      "Try using .loc[row_indexer,col_indexer] = value instead\n",
      "\n",
      "See the caveats in the documentation: https://pandas.pydata.org/pandas-docs/stable/user_guide/indexing.html#returning-a-view-versus-a-copy\n",
      "  df_clean['sample_id'] = sample_id\n"
     ]
    },
    {
     "name": "stdout",
     "output_type": "stream",
     "text": [
      "Finished processing sample: 0394cdb2-85e8-4cea-b572-4cb4ed779774.rna_seq.augmented_star_gene_counts, shape: (60660, 10)\n",
      "Reading file: C:\\Users\\PC\\Desktop\\gene-expression-cancer-prediction\\rna_seq\\7235fd65-e9cb-45f1-ac78-cad80823325e\\b021039d-26c3-4851-9641-ddd81e408339.rna_seq.augmented_star_gene_counts.tsv\n",
      "Processing sample: b021039d-26c3-4851-9641-ddd81e408339.rna_seq.augmented_star_gene_counts\n",
      "Finished processing sample: b021039d-26c3-4851-9641-ddd81e408339.rna_seq.augmented_star_gene_counts, shape: (60660, 10)\n",
      "Reading file: C:\\Users\\PC\\Desktop\\gene-expression-cancer-prediction\\rna_seq\\7286a685-17ef-4ef5-9b7b-2696c6e7e1a6\\3572211c-0611-4d67-9e71-c5a8f704bd1f.rna_seq.augmented_star_gene_counts.tsv\n",
      "Processing sample: 3572211c-0611-4d67-9e71-c5a8f704bd1f.rna_seq.augmented_star_gene_counts\n"
     ]
    },
    {
     "name": "stderr",
     "output_type": "stream",
     "text": [
      "C:\\Users\\PC\\AppData\\Local\\Temp\\ipykernel_4980\\1846137033.py:69: SettingWithCopyWarning: \n",
      "A value is trying to be set on a copy of a slice from a DataFrame.\n",
      "Try using .loc[row_indexer,col_indexer] = value instead\n",
      "\n",
      "See the caveats in the documentation: https://pandas.pydata.org/pandas-docs/stable/user_guide/indexing.html#returning-a-view-versus-a-copy\n",
      "  df_clean['sample_id'] = sample_id\n",
      "C:\\Users\\PC\\AppData\\Local\\Temp\\ipykernel_4980\\1846137033.py:69: SettingWithCopyWarning: \n",
      "A value is trying to be set on a copy of a slice from a DataFrame.\n",
      "Try using .loc[row_indexer,col_indexer] = value instead\n",
      "\n",
      "See the caveats in the documentation: https://pandas.pydata.org/pandas-docs/stable/user_guide/indexing.html#returning-a-view-versus-a-copy\n",
      "  df_clean['sample_id'] = sample_id\n"
     ]
    },
    {
     "name": "stdout",
     "output_type": "stream",
     "text": [
      "Finished processing sample: 3572211c-0611-4d67-9e71-c5a8f704bd1f.rna_seq.augmented_star_gene_counts, shape: (60660, 10)\n",
      "Reading file: C:\\Users\\PC\\Desktop\\gene-expression-cancer-prediction\\rna_seq\\7300d49e-2e8c-42e0-873a-1674a19b71e6\\fb27491d-a418-4957-a387-9a4e4de84b06.rna_seq.augmented_star_gene_counts.tsv\n",
      "Processing sample: fb27491d-a418-4957-a387-9a4e4de84b06.rna_seq.augmented_star_gene_counts\n",
      "Finished processing sample: fb27491d-a418-4957-a387-9a4e4de84b06.rna_seq.augmented_star_gene_counts, shape: (60660, 10)\n",
      "Reading file: C:\\Users\\PC\\Desktop\\gene-expression-cancer-prediction\\rna_seq\\73ac99d6-d01b-45d9-8df2-205610109911\\8095ebc6-d293-4668-9d83-8b3f35dd198d.rna_seq.augmented_star_gene_counts.tsv\n",
      "Processing sample: 8095ebc6-d293-4668-9d83-8b3f35dd198d.rna_seq.augmented_star_gene_counts\n"
     ]
    },
    {
     "name": "stderr",
     "output_type": "stream",
     "text": [
      "C:\\Users\\PC\\AppData\\Local\\Temp\\ipykernel_4980\\1846137033.py:69: SettingWithCopyWarning: \n",
      "A value is trying to be set on a copy of a slice from a DataFrame.\n",
      "Try using .loc[row_indexer,col_indexer] = value instead\n",
      "\n",
      "See the caveats in the documentation: https://pandas.pydata.org/pandas-docs/stable/user_guide/indexing.html#returning-a-view-versus-a-copy\n",
      "  df_clean['sample_id'] = sample_id\n",
      "C:\\Users\\PC\\AppData\\Local\\Temp\\ipykernel_4980\\1846137033.py:69: SettingWithCopyWarning: \n",
      "A value is trying to be set on a copy of a slice from a DataFrame.\n",
      "Try using .loc[row_indexer,col_indexer] = value instead\n",
      "\n",
      "See the caveats in the documentation: https://pandas.pydata.org/pandas-docs/stable/user_guide/indexing.html#returning-a-view-versus-a-copy\n",
      "  df_clean['sample_id'] = sample_id\n"
     ]
    },
    {
     "name": "stdout",
     "output_type": "stream",
     "text": [
      "Finished processing sample: 8095ebc6-d293-4668-9d83-8b3f35dd198d.rna_seq.augmented_star_gene_counts, shape: (60660, 10)\n",
      "Reading file: C:\\Users\\PC\\Desktop\\gene-expression-cancer-prediction\\rna_seq\\73aeda8d-ef07-4d3d-a0fc-643943dd046a\\e97a2bf2-c5bd-4dbf-9940-450a8a99e9df.rna_seq.augmented_star_gene_counts.tsv\n",
      "Processing sample: e97a2bf2-c5bd-4dbf-9940-450a8a99e9df.rna_seq.augmented_star_gene_counts\n",
      "Finished processing sample: e97a2bf2-c5bd-4dbf-9940-450a8a99e9df.rna_seq.augmented_star_gene_counts, shape: (60660, 10)\n",
      "Reading file: C:\\Users\\PC\\Desktop\\gene-expression-cancer-prediction\\rna_seq\\73edea85-f978-4c99-b9c3-fda3ffc6a065\\f8efdeb0-a8f8-4e2d-a52e-43d033e4ce6f.rna_seq.augmented_star_gene_counts.tsv\n",
      "Processing sample: f8efdeb0-a8f8-4e2d-a52e-43d033e4ce6f.rna_seq.augmented_star_gene_counts\n"
     ]
    },
    {
     "name": "stderr",
     "output_type": "stream",
     "text": [
      "C:\\Users\\PC\\AppData\\Local\\Temp\\ipykernel_4980\\1846137033.py:69: SettingWithCopyWarning: \n",
      "A value is trying to be set on a copy of a slice from a DataFrame.\n",
      "Try using .loc[row_indexer,col_indexer] = value instead\n",
      "\n",
      "See the caveats in the documentation: https://pandas.pydata.org/pandas-docs/stable/user_guide/indexing.html#returning-a-view-versus-a-copy\n",
      "  df_clean['sample_id'] = sample_id\n",
      "C:\\Users\\PC\\AppData\\Local\\Temp\\ipykernel_4980\\1846137033.py:69: SettingWithCopyWarning: \n",
      "A value is trying to be set on a copy of a slice from a DataFrame.\n",
      "Try using .loc[row_indexer,col_indexer] = value instead\n",
      "\n",
      "See the caveats in the documentation: https://pandas.pydata.org/pandas-docs/stable/user_guide/indexing.html#returning-a-view-versus-a-copy\n",
      "  df_clean['sample_id'] = sample_id\n"
     ]
    },
    {
     "name": "stdout",
     "output_type": "stream",
     "text": [
      "Finished processing sample: f8efdeb0-a8f8-4e2d-a52e-43d033e4ce6f.rna_seq.augmented_star_gene_counts, shape: (60660, 10)\n",
      "Reading file: C:\\Users\\PC\\Desktop\\gene-expression-cancer-prediction\\rna_seq\\7493bcbc-658d-4789-a25c-9a990dcd44b8\\62aa3903-4f3b-4693-b5e5-fc5abce184de.rna_seq.augmented_star_gene_counts.tsv\n",
      "Processing sample: 62aa3903-4f3b-4693-b5e5-fc5abce184de.rna_seq.augmented_star_gene_counts\n",
      "Finished processing sample: 62aa3903-4f3b-4693-b5e5-fc5abce184de.rna_seq.augmented_star_gene_counts, shape: (60660, 10)\n",
      "Reading file: C:\\Users\\PC\\Desktop\\gene-expression-cancer-prediction\\rna_seq\\74b16304-eb3f-4311-9b2e-dbf5eac89b44\\96cd848e-50fc-4244-beec-8d18b1703fff.rna_seq.augmented_star_gene_counts.tsv\n",
      "Processing sample: 96cd848e-50fc-4244-beec-8d18b1703fff.rna_seq.augmented_star_gene_counts\n"
     ]
    },
    {
     "name": "stderr",
     "output_type": "stream",
     "text": [
      "C:\\Users\\PC\\AppData\\Local\\Temp\\ipykernel_4980\\1846137033.py:69: SettingWithCopyWarning: \n",
      "A value is trying to be set on a copy of a slice from a DataFrame.\n",
      "Try using .loc[row_indexer,col_indexer] = value instead\n",
      "\n",
      "See the caveats in the documentation: https://pandas.pydata.org/pandas-docs/stable/user_guide/indexing.html#returning-a-view-versus-a-copy\n",
      "  df_clean['sample_id'] = sample_id\n",
      "C:\\Users\\PC\\AppData\\Local\\Temp\\ipykernel_4980\\1846137033.py:69: SettingWithCopyWarning: \n",
      "A value is trying to be set on a copy of a slice from a DataFrame.\n",
      "Try using .loc[row_indexer,col_indexer] = value instead\n",
      "\n",
      "See the caveats in the documentation: https://pandas.pydata.org/pandas-docs/stable/user_guide/indexing.html#returning-a-view-versus-a-copy\n",
      "  df_clean['sample_id'] = sample_id\n"
     ]
    },
    {
     "name": "stdout",
     "output_type": "stream",
     "text": [
      "Finished processing sample: 96cd848e-50fc-4244-beec-8d18b1703fff.rna_seq.augmented_star_gene_counts, shape: (60660, 10)\n",
      "Reading file: C:\\Users\\PC\\Desktop\\gene-expression-cancer-prediction\\rna_seq\\75d5bcb2-3055-4b6a-822c-1aa37a9f1337\\b8542fa9-5521-48bc-ae1b-4e12a1744e0d.rna_seq.augmented_star_gene_counts.tsv\n",
      "Processing sample: b8542fa9-5521-48bc-ae1b-4e12a1744e0d.rna_seq.augmented_star_gene_counts\n",
      "Finished processing sample: b8542fa9-5521-48bc-ae1b-4e12a1744e0d.rna_seq.augmented_star_gene_counts, shape: (60660, 10)\n",
      "Reading file: C:\\Users\\PC\\Desktop\\gene-expression-cancer-prediction\\rna_seq\\760131f1-5fbf-469f-9629-43733014953d\\039eaafb-c311-45ff-9df7-30c1b0bab00a.rna_seq.augmented_star_gene_counts.tsv\n",
      "Processing sample: 039eaafb-c311-45ff-9df7-30c1b0bab00a.rna_seq.augmented_star_gene_counts\n"
     ]
    },
    {
     "name": "stderr",
     "output_type": "stream",
     "text": [
      "C:\\Users\\PC\\AppData\\Local\\Temp\\ipykernel_4980\\1846137033.py:69: SettingWithCopyWarning: \n",
      "A value is trying to be set on a copy of a slice from a DataFrame.\n",
      "Try using .loc[row_indexer,col_indexer] = value instead\n",
      "\n",
      "See the caveats in the documentation: https://pandas.pydata.org/pandas-docs/stable/user_guide/indexing.html#returning-a-view-versus-a-copy\n",
      "  df_clean['sample_id'] = sample_id\n",
      "C:\\Users\\PC\\AppData\\Local\\Temp\\ipykernel_4980\\1846137033.py:69: SettingWithCopyWarning: \n",
      "A value is trying to be set on a copy of a slice from a DataFrame.\n",
      "Try using .loc[row_indexer,col_indexer] = value instead\n",
      "\n",
      "See the caveats in the documentation: https://pandas.pydata.org/pandas-docs/stable/user_guide/indexing.html#returning-a-view-versus-a-copy\n",
      "  df_clean['sample_id'] = sample_id\n"
     ]
    },
    {
     "name": "stdout",
     "output_type": "stream",
     "text": [
      "Finished processing sample: 039eaafb-c311-45ff-9df7-30c1b0bab00a.rna_seq.augmented_star_gene_counts, shape: (60660, 10)\n",
      "Reading file: C:\\Users\\PC\\Desktop\\gene-expression-cancer-prediction\\rna_seq\\76267112-851f-4f5b-af40-f3c90af1b2ce\\bd35c087-9a96-4f86-99f2-1a2a8936471a.rna_seq.augmented_star_gene_counts.tsv\n",
      "Processing sample: bd35c087-9a96-4f86-99f2-1a2a8936471a.rna_seq.augmented_star_gene_counts\n",
      "Finished processing sample: bd35c087-9a96-4f86-99f2-1a2a8936471a.rna_seq.augmented_star_gene_counts, shape: (60660, 10)\n",
      "Reading file: C:\\Users\\PC\\Desktop\\gene-expression-cancer-prediction\\rna_seq\\762adf07-6d7a-4d02-98fb-16fffd548a93\\f518ad50-78d8-4b0f-a6b0-07bad20462ce.rna_seq.augmented_star_gene_counts.tsv\n",
      "Processing sample: f518ad50-78d8-4b0f-a6b0-07bad20462ce.rna_seq.augmented_star_gene_counts\n"
     ]
    },
    {
     "name": "stderr",
     "output_type": "stream",
     "text": [
      "C:\\Users\\PC\\AppData\\Local\\Temp\\ipykernel_4980\\1846137033.py:69: SettingWithCopyWarning: \n",
      "A value is trying to be set on a copy of a slice from a DataFrame.\n",
      "Try using .loc[row_indexer,col_indexer] = value instead\n",
      "\n",
      "See the caveats in the documentation: https://pandas.pydata.org/pandas-docs/stable/user_guide/indexing.html#returning-a-view-versus-a-copy\n",
      "  df_clean['sample_id'] = sample_id\n",
      "C:\\Users\\PC\\AppData\\Local\\Temp\\ipykernel_4980\\1846137033.py:69: SettingWithCopyWarning: \n",
      "A value is trying to be set on a copy of a slice from a DataFrame.\n",
      "Try using .loc[row_indexer,col_indexer] = value instead\n",
      "\n",
      "See the caveats in the documentation: https://pandas.pydata.org/pandas-docs/stable/user_guide/indexing.html#returning-a-view-versus-a-copy\n",
      "  df_clean['sample_id'] = sample_id\n"
     ]
    },
    {
     "name": "stdout",
     "output_type": "stream",
     "text": [
      "Finished processing sample: f518ad50-78d8-4b0f-a6b0-07bad20462ce.rna_seq.augmented_star_gene_counts, shape: (60660, 10)\n",
      "Reading file: C:\\Users\\PC\\Desktop\\gene-expression-cancer-prediction\\rna_seq\\76367cee-b571-49e5-8121-9e69f906c230\\370e6381-c31a-475b-b2c7-2c5de9e2c8ec.rna_seq.augmented_star_gene_counts.tsv\n",
      "Processing sample: 370e6381-c31a-475b-b2c7-2c5de9e2c8ec.rna_seq.augmented_star_gene_counts\n",
      "Finished processing sample: 370e6381-c31a-475b-b2c7-2c5de9e2c8ec.rna_seq.augmented_star_gene_counts, shape: (60660, 10)\n",
      "Reading file: C:\\Users\\PC\\Desktop\\gene-expression-cancer-prediction\\rna_seq\\76bcf698-d2da-42de-b33c-c5deb721c643\\1a2bc49d-edc6-4b84-88f0-73b6ed250d1b.rna_seq.augmented_star_gene_counts.tsv\n",
      "Processing sample: 1a2bc49d-edc6-4b84-88f0-73b6ed250d1b.rna_seq.augmented_star_gene_counts\n"
     ]
    },
    {
     "name": "stderr",
     "output_type": "stream",
     "text": [
      "C:\\Users\\PC\\AppData\\Local\\Temp\\ipykernel_4980\\1846137033.py:69: SettingWithCopyWarning: \n",
      "A value is trying to be set on a copy of a slice from a DataFrame.\n",
      "Try using .loc[row_indexer,col_indexer] = value instead\n",
      "\n",
      "See the caveats in the documentation: https://pandas.pydata.org/pandas-docs/stable/user_guide/indexing.html#returning-a-view-versus-a-copy\n",
      "  df_clean['sample_id'] = sample_id\n",
      "C:\\Users\\PC\\AppData\\Local\\Temp\\ipykernel_4980\\1846137033.py:69: SettingWithCopyWarning: \n",
      "A value is trying to be set on a copy of a slice from a DataFrame.\n",
      "Try using .loc[row_indexer,col_indexer] = value instead\n",
      "\n",
      "See the caveats in the documentation: https://pandas.pydata.org/pandas-docs/stable/user_guide/indexing.html#returning-a-view-versus-a-copy\n",
      "  df_clean['sample_id'] = sample_id\n"
     ]
    },
    {
     "name": "stdout",
     "output_type": "stream",
     "text": [
      "Finished processing sample: 1a2bc49d-edc6-4b84-88f0-73b6ed250d1b.rna_seq.augmented_star_gene_counts, shape: (60660, 10)\n",
      "Reading file: C:\\Users\\PC\\Desktop\\gene-expression-cancer-prediction\\rna_seq\\773071d4-438a-4da7-b833-d2d172c4c4e2\\358a0311-c6aa-456d-a52b-6b6b08b0a863.rna_seq.augmented_star_gene_counts.tsv\n",
      "Processing sample: 358a0311-c6aa-456d-a52b-6b6b08b0a863.rna_seq.augmented_star_gene_counts\n",
      "Finished processing sample: 358a0311-c6aa-456d-a52b-6b6b08b0a863.rna_seq.augmented_star_gene_counts, shape: (60660, 10)\n",
      "Reading file: C:\\Users\\PC\\Desktop\\gene-expression-cancer-prediction\\rna_seq\\7774e389-c3c5-4abf-846c-4e8eead7e521\\20658f84-7e36-440f-9e88-08eab304813b.rna_seq.augmented_star_gene_counts.tsv\n",
      "Processing sample: 20658f84-7e36-440f-9e88-08eab304813b.rna_seq.augmented_star_gene_counts\n"
     ]
    },
    {
     "name": "stderr",
     "output_type": "stream",
     "text": [
      "C:\\Users\\PC\\AppData\\Local\\Temp\\ipykernel_4980\\1846137033.py:69: SettingWithCopyWarning: \n",
      "A value is trying to be set on a copy of a slice from a DataFrame.\n",
      "Try using .loc[row_indexer,col_indexer] = value instead\n",
      "\n",
      "See the caveats in the documentation: https://pandas.pydata.org/pandas-docs/stable/user_guide/indexing.html#returning-a-view-versus-a-copy\n",
      "  df_clean['sample_id'] = sample_id\n",
      "C:\\Users\\PC\\AppData\\Local\\Temp\\ipykernel_4980\\1846137033.py:69: SettingWithCopyWarning: \n",
      "A value is trying to be set on a copy of a slice from a DataFrame.\n",
      "Try using .loc[row_indexer,col_indexer] = value instead\n",
      "\n",
      "See the caveats in the documentation: https://pandas.pydata.org/pandas-docs/stable/user_guide/indexing.html#returning-a-view-versus-a-copy\n",
      "  df_clean['sample_id'] = sample_id\n"
     ]
    },
    {
     "name": "stdout",
     "output_type": "stream",
     "text": [
      "Finished processing sample: 20658f84-7e36-440f-9e88-08eab304813b.rna_seq.augmented_star_gene_counts, shape: (60660, 10)\n",
      "Reading file: C:\\Users\\PC\\Desktop\\gene-expression-cancer-prediction\\rna_seq\\778642d9-e4e2-4ae8-a900-b2e663c9d5b9\\1c9253df-acb7-492c-aaa8-7718fc778f13.rna_seq.augmented_star_gene_counts.tsv\n",
      "Processing sample: 1c9253df-acb7-492c-aaa8-7718fc778f13.rna_seq.augmented_star_gene_counts\n",
      "Finished processing sample: 1c9253df-acb7-492c-aaa8-7718fc778f13.rna_seq.augmented_star_gene_counts, shape: (60660, 10)\n",
      "Reading file: C:\\Users\\PC\\Desktop\\gene-expression-cancer-prediction\\rna_seq\\7789d241-991c-4cc9-a557-69d5c439b930\\24edd191-20a1-4887-951a-3f0a753d43f8.rna_seq.augmented_star_gene_counts.tsv\n",
      "Processing sample: 24edd191-20a1-4887-951a-3f0a753d43f8.rna_seq.augmented_star_gene_counts\n",
      "Finished processing sample: 24edd191-20a1-4887-951a-3f0a753d43f8.rna_seq.augmented_star_gene_counts, shape: (60660, 10)\n",
      "Reading file: C:\\Users\\PC\\Desktop\\gene-expression-cancer-prediction\\rna_seq\\77cdf045-d52d-4cc1-b2f1-e2b0d106af0f\\51538db5-edf3-40bc-ae5e-dc9b552e8b53.rna_seq.augmented_star_gene_counts.tsv\n",
      "Processing sample: 51538db5-edf3-40bc-ae5e-dc9b552e8b53.rna_seq.augmented_star_gene_counts\n"
     ]
    },
    {
     "name": "stderr",
     "output_type": "stream",
     "text": [
      "C:\\Users\\PC\\AppData\\Local\\Temp\\ipykernel_4980\\1846137033.py:69: SettingWithCopyWarning: \n",
      "A value is trying to be set on a copy of a slice from a DataFrame.\n",
      "Try using .loc[row_indexer,col_indexer] = value instead\n",
      "\n",
      "See the caveats in the documentation: https://pandas.pydata.org/pandas-docs/stable/user_guide/indexing.html#returning-a-view-versus-a-copy\n",
      "  df_clean['sample_id'] = sample_id\n",
      "C:\\Users\\PC\\AppData\\Local\\Temp\\ipykernel_4980\\1846137033.py:69: SettingWithCopyWarning: \n",
      "A value is trying to be set on a copy of a slice from a DataFrame.\n",
      "Try using .loc[row_indexer,col_indexer] = value instead\n",
      "\n",
      "See the caveats in the documentation: https://pandas.pydata.org/pandas-docs/stable/user_guide/indexing.html#returning-a-view-versus-a-copy\n",
      "  df_clean['sample_id'] = sample_id\n",
      "C:\\Users\\PC\\AppData\\Local\\Temp\\ipykernel_4980\\1846137033.py:69: SettingWithCopyWarning: \n",
      "A value is trying to be set on a copy of a slice from a DataFrame.\n",
      "Try using .loc[row_indexer,col_indexer] = value instead\n",
      "\n",
      "See the caveats in the documentation: https://pandas.pydata.org/pandas-docs/stable/user_guide/indexing.html#returning-a-view-versus-a-copy\n",
      "  df_clean['sample_id'] = sample_id\n"
     ]
    },
    {
     "name": "stdout",
     "output_type": "stream",
     "text": [
      "Finished processing sample: 51538db5-edf3-40bc-ae5e-dc9b552e8b53.rna_seq.augmented_star_gene_counts, shape: (60660, 10)\n",
      "Reading file: C:\\Users\\PC\\Desktop\\gene-expression-cancer-prediction\\rna_seq\\77f150b1-5f40-442d-91c5-6d3571513513\\1fc52882-bc89-4a45-a96e-5e051420c513.rna_seq.augmented_star_gene_counts.tsv\n",
      "Processing sample: 1fc52882-bc89-4a45-a96e-5e051420c513.rna_seq.augmented_star_gene_counts\n",
      "Finished processing sample: 1fc52882-bc89-4a45-a96e-5e051420c513.rna_seq.augmented_star_gene_counts, shape: (60660, 10)\n",
      "Reading file: C:\\Users\\PC\\Desktop\\gene-expression-cancer-prediction\\rna_seq\\7806768a-e8c6-48b0-a241-c036c230e78b\\341e11ea-c1b6-4d66-999c-76ebb9c8b342.rna_seq.augmented_star_gene_counts.tsv\n",
      "Processing sample: 341e11ea-c1b6-4d66-999c-76ebb9c8b342.rna_seq.augmented_star_gene_counts\n"
     ]
    },
    {
     "name": "stderr",
     "output_type": "stream",
     "text": [
      "C:\\Users\\PC\\AppData\\Local\\Temp\\ipykernel_4980\\1846137033.py:69: SettingWithCopyWarning: \n",
      "A value is trying to be set on a copy of a slice from a DataFrame.\n",
      "Try using .loc[row_indexer,col_indexer] = value instead\n",
      "\n",
      "See the caveats in the documentation: https://pandas.pydata.org/pandas-docs/stable/user_guide/indexing.html#returning-a-view-versus-a-copy\n",
      "  df_clean['sample_id'] = sample_id\n",
      "C:\\Users\\PC\\AppData\\Local\\Temp\\ipykernel_4980\\1846137033.py:69: SettingWithCopyWarning: \n",
      "A value is trying to be set on a copy of a slice from a DataFrame.\n",
      "Try using .loc[row_indexer,col_indexer] = value instead\n",
      "\n",
      "See the caveats in the documentation: https://pandas.pydata.org/pandas-docs/stable/user_guide/indexing.html#returning-a-view-versus-a-copy\n",
      "  df_clean['sample_id'] = sample_id\n"
     ]
    },
    {
     "name": "stdout",
     "output_type": "stream",
     "text": [
      "Finished processing sample: 341e11ea-c1b6-4d66-999c-76ebb9c8b342.rna_seq.augmented_star_gene_counts, shape: (60660, 10)\n",
      "Reading file: C:\\Users\\PC\\Desktop\\gene-expression-cancer-prediction\\rna_seq\\7814e438-105f-4d5b-94fe-8c66e95585ea\\cfbfbac5-7f44-4537-9a1c-088075a936e6.rna_seq.augmented_star_gene_counts.tsv\n",
      "Processing sample: cfbfbac5-7f44-4537-9a1c-088075a936e6.rna_seq.augmented_star_gene_counts\n",
      "Finished processing sample: cfbfbac5-7f44-4537-9a1c-088075a936e6.rna_seq.augmented_star_gene_counts, shape: (60660, 10)\n",
      "Reading file: C:\\Users\\PC\\Desktop\\gene-expression-cancer-prediction\\rna_seq\\783b4e4f-d65d-4025-a7ce-99a7e86255e9\\45472a71-92d9-4492-9647-f1e8adb9cdea.rna_seq.augmented_star_gene_counts.tsv\n",
      "Processing sample: 45472a71-92d9-4492-9647-f1e8adb9cdea.rna_seq.augmented_star_gene_counts\n"
     ]
    },
    {
     "name": "stderr",
     "output_type": "stream",
     "text": [
      "C:\\Users\\PC\\AppData\\Local\\Temp\\ipykernel_4980\\1846137033.py:69: SettingWithCopyWarning: \n",
      "A value is trying to be set on a copy of a slice from a DataFrame.\n",
      "Try using .loc[row_indexer,col_indexer] = value instead\n",
      "\n",
      "See the caveats in the documentation: https://pandas.pydata.org/pandas-docs/stable/user_guide/indexing.html#returning-a-view-versus-a-copy\n",
      "  df_clean['sample_id'] = sample_id\n",
      "C:\\Users\\PC\\AppData\\Local\\Temp\\ipykernel_4980\\1846137033.py:69: SettingWithCopyWarning: \n",
      "A value is trying to be set on a copy of a slice from a DataFrame.\n",
      "Try using .loc[row_indexer,col_indexer] = value instead\n",
      "\n",
      "See the caveats in the documentation: https://pandas.pydata.org/pandas-docs/stable/user_guide/indexing.html#returning-a-view-versus-a-copy\n",
      "  df_clean['sample_id'] = sample_id\n"
     ]
    },
    {
     "name": "stdout",
     "output_type": "stream",
     "text": [
      "Finished processing sample: 45472a71-92d9-4492-9647-f1e8adb9cdea.rna_seq.augmented_star_gene_counts, shape: (60660, 10)\n",
      "Reading file: C:\\Users\\PC\\Desktop\\gene-expression-cancer-prediction\\rna_seq\\7860a938-e43a-4c3a-83b4-6578cea95df8\\a0ea30b4-a6e0-4f46-a0ee-5d552c8b6d68.rna_seq.augmented_star_gene_counts.tsv\n",
      "Processing sample: a0ea30b4-a6e0-4f46-a0ee-5d552c8b6d68.rna_seq.augmented_star_gene_counts\n",
      "Finished processing sample: a0ea30b4-a6e0-4f46-a0ee-5d552c8b6d68.rna_seq.augmented_star_gene_counts, shape: (60660, 10)\n",
      "Reading file: C:\\Users\\PC\\Desktop\\gene-expression-cancer-prediction\\rna_seq\\78805478-bf7a-4d7b-8c4f-15e334430efd\\ed9b3b6b-c2c2-41a2-ac61-dd2cfbb321ba.rna_seq.augmented_star_gene_counts.tsv\n",
      "Processing sample: ed9b3b6b-c2c2-41a2-ac61-dd2cfbb321ba.rna_seq.augmented_star_gene_counts\n"
     ]
    },
    {
     "name": "stderr",
     "output_type": "stream",
     "text": [
      "C:\\Users\\PC\\AppData\\Local\\Temp\\ipykernel_4980\\1846137033.py:69: SettingWithCopyWarning: \n",
      "A value is trying to be set on a copy of a slice from a DataFrame.\n",
      "Try using .loc[row_indexer,col_indexer] = value instead\n",
      "\n",
      "See the caveats in the documentation: https://pandas.pydata.org/pandas-docs/stable/user_guide/indexing.html#returning-a-view-versus-a-copy\n",
      "  df_clean['sample_id'] = sample_id\n",
      "C:\\Users\\PC\\AppData\\Local\\Temp\\ipykernel_4980\\1846137033.py:69: SettingWithCopyWarning: \n",
      "A value is trying to be set on a copy of a slice from a DataFrame.\n",
      "Try using .loc[row_indexer,col_indexer] = value instead\n",
      "\n",
      "See the caveats in the documentation: https://pandas.pydata.org/pandas-docs/stable/user_guide/indexing.html#returning-a-view-versus-a-copy\n",
      "  df_clean['sample_id'] = sample_id\n"
     ]
    },
    {
     "name": "stdout",
     "output_type": "stream",
     "text": [
      "Finished processing sample: ed9b3b6b-c2c2-41a2-ac61-dd2cfbb321ba.rna_seq.augmented_star_gene_counts, shape: (60660, 10)\n",
      "Reading file: C:\\Users\\PC\\Desktop\\gene-expression-cancer-prediction\\rna_seq\\7882ff91-e415-48ae-9151-26b55f1cfc57\\2b5864c9-7577-4e93-8d22-1f45a98267f1.rna_seq.augmented_star_gene_counts.tsv\n",
      "Processing sample: 2b5864c9-7577-4e93-8d22-1f45a98267f1.rna_seq.augmented_star_gene_counts\n",
      "Finished processing sample: 2b5864c9-7577-4e93-8d22-1f45a98267f1.rna_seq.augmented_star_gene_counts, shape: (60660, 10)\n",
      "Reading file: C:\\Users\\PC\\Desktop\\gene-expression-cancer-prediction\\rna_seq\\788a4858-c6c6-4a8d-9aef-dbd32d74776b\\5cf049e5-d45c-4601-8f67-1fdc0b1918a9.rna_seq.augmented_star_gene_counts.tsv\n",
      "Processing sample: 5cf049e5-d45c-4601-8f67-1fdc0b1918a9.rna_seq.augmented_star_gene_counts\n"
     ]
    },
    {
     "name": "stderr",
     "output_type": "stream",
     "text": [
      "C:\\Users\\PC\\AppData\\Local\\Temp\\ipykernel_4980\\1846137033.py:69: SettingWithCopyWarning: \n",
      "A value is trying to be set on a copy of a slice from a DataFrame.\n",
      "Try using .loc[row_indexer,col_indexer] = value instead\n",
      "\n",
      "See the caveats in the documentation: https://pandas.pydata.org/pandas-docs/stable/user_guide/indexing.html#returning-a-view-versus-a-copy\n",
      "  df_clean['sample_id'] = sample_id\n",
      "C:\\Users\\PC\\AppData\\Local\\Temp\\ipykernel_4980\\1846137033.py:69: SettingWithCopyWarning: \n",
      "A value is trying to be set on a copy of a slice from a DataFrame.\n",
      "Try using .loc[row_indexer,col_indexer] = value instead\n",
      "\n",
      "See the caveats in the documentation: https://pandas.pydata.org/pandas-docs/stable/user_guide/indexing.html#returning-a-view-versus-a-copy\n",
      "  df_clean['sample_id'] = sample_id\n"
     ]
    },
    {
     "name": "stdout",
     "output_type": "stream",
     "text": [
      "Finished processing sample: 5cf049e5-d45c-4601-8f67-1fdc0b1918a9.rna_seq.augmented_star_gene_counts, shape: (60660, 10)\n",
      "Reading file: C:\\Users\\PC\\Desktop\\gene-expression-cancer-prediction\\rna_seq\\78b9cc4c-a99b-4814-9538-3cf9515af75b\\16bd1ebb-5bf9-4839-99bd-5a4d3dcad7b8.rna_seq.augmented_star_gene_counts.tsv\n",
      "Processing sample: 16bd1ebb-5bf9-4839-99bd-5a4d3dcad7b8.rna_seq.augmented_star_gene_counts\n",
      "Finished processing sample: 16bd1ebb-5bf9-4839-99bd-5a4d3dcad7b8.rna_seq.augmented_star_gene_counts, shape: (60660, 10)\n",
      "Reading file: C:\\Users\\PC\\Desktop\\gene-expression-cancer-prediction\\rna_seq\\7915bbbc-7e5b-4439-bea4-12fc7f639d6d\\e1edc70f-0307-4283-9efc-77feb465c9df.rna_seq.augmented_star_gene_counts.tsv\n",
      "Processing sample: e1edc70f-0307-4283-9efc-77feb465c9df.rna_seq.augmented_star_gene_counts\n"
     ]
    },
    {
     "name": "stderr",
     "output_type": "stream",
     "text": [
      "C:\\Users\\PC\\AppData\\Local\\Temp\\ipykernel_4980\\1846137033.py:69: SettingWithCopyWarning: \n",
      "A value is trying to be set on a copy of a slice from a DataFrame.\n",
      "Try using .loc[row_indexer,col_indexer] = value instead\n",
      "\n",
      "See the caveats in the documentation: https://pandas.pydata.org/pandas-docs/stable/user_guide/indexing.html#returning-a-view-versus-a-copy\n",
      "  df_clean['sample_id'] = sample_id\n"
     ]
    },
    {
     "name": "stdout",
     "output_type": "stream",
     "text": [
      "Finished processing sample: e1edc70f-0307-4283-9efc-77feb465c9df.rna_seq.augmented_star_gene_counts, shape: (60660, 10)\n",
      "Reading file: C:\\Users\\PC\\Desktop\\gene-expression-cancer-prediction\\rna_seq\\793d3caa-8353-4536-83e5-711215bd51e9\\6fb7c578-dec9-4fe8-a9bf-3888bb765658.rna_seq.augmented_star_gene_counts.tsv\n",
      "Processing sample: 6fb7c578-dec9-4fe8-a9bf-3888bb765658.rna_seq.augmented_star_gene_counts\n"
     ]
    },
    {
     "name": "stderr",
     "output_type": "stream",
     "text": [
      "C:\\Users\\PC\\AppData\\Local\\Temp\\ipykernel_4980\\1846137033.py:69: SettingWithCopyWarning: \n",
      "A value is trying to be set on a copy of a slice from a DataFrame.\n",
      "Try using .loc[row_indexer,col_indexer] = value instead\n",
      "\n",
      "See the caveats in the documentation: https://pandas.pydata.org/pandas-docs/stable/user_guide/indexing.html#returning-a-view-versus-a-copy\n",
      "  df_clean['sample_id'] = sample_id\n",
      "C:\\Users\\PC\\AppData\\Local\\Temp\\ipykernel_4980\\1846137033.py:69: SettingWithCopyWarning: \n",
      "A value is trying to be set on a copy of a slice from a DataFrame.\n",
      "Try using .loc[row_indexer,col_indexer] = value instead\n",
      "\n",
      "See the caveats in the documentation: https://pandas.pydata.org/pandas-docs/stable/user_guide/indexing.html#returning-a-view-versus-a-copy\n",
      "  df_clean['sample_id'] = sample_id\n"
     ]
    },
    {
     "name": "stdout",
     "output_type": "stream",
     "text": [
      "Finished processing sample: 6fb7c578-dec9-4fe8-a9bf-3888bb765658.rna_seq.augmented_star_gene_counts, shape: (60660, 10)\n",
      "Reading file: C:\\Users\\PC\\Desktop\\gene-expression-cancer-prediction\\rna_seq\\798e4669-4ca3-4af1-b713-be2b1f30e4dc\\09c3168a-9886-4095-a5ef-8bdcd0988dea.rna_seq.augmented_star_gene_counts.tsv\n",
      "Processing sample: 09c3168a-9886-4095-a5ef-8bdcd0988dea.rna_seq.augmented_star_gene_counts\n",
      "Finished processing sample: 09c3168a-9886-4095-a5ef-8bdcd0988dea.rna_seq.augmented_star_gene_counts, shape: (60660, 10)\n",
      "Reading file: C:\\Users\\PC\\Desktop\\gene-expression-cancer-prediction\\rna_seq\\79d67844-5389-40ee-a1fd-5b19ecf81b73\\d251e6b4-0c25-42ec-b090-daa81ee80a0e.rna_seq.augmented_star_gene_counts.tsv\n",
      "Processing sample: d251e6b4-0c25-42ec-b090-daa81ee80a0e.rna_seq.augmented_star_gene_counts\n"
     ]
    },
    {
     "name": "stderr",
     "output_type": "stream",
     "text": [
      "C:\\Users\\PC\\AppData\\Local\\Temp\\ipykernel_4980\\1846137033.py:69: SettingWithCopyWarning: \n",
      "A value is trying to be set on a copy of a slice from a DataFrame.\n",
      "Try using .loc[row_indexer,col_indexer] = value instead\n",
      "\n",
      "See the caveats in the documentation: https://pandas.pydata.org/pandas-docs/stable/user_guide/indexing.html#returning-a-view-versus-a-copy\n",
      "  df_clean['sample_id'] = sample_id\n",
      "C:\\Users\\PC\\AppData\\Local\\Temp\\ipykernel_4980\\1846137033.py:69: SettingWithCopyWarning: \n",
      "A value is trying to be set on a copy of a slice from a DataFrame.\n",
      "Try using .loc[row_indexer,col_indexer] = value instead\n",
      "\n",
      "See the caveats in the documentation: https://pandas.pydata.org/pandas-docs/stable/user_guide/indexing.html#returning-a-view-versus-a-copy\n",
      "  df_clean['sample_id'] = sample_id\n"
     ]
    },
    {
     "name": "stdout",
     "output_type": "stream",
     "text": [
      "Finished processing sample: d251e6b4-0c25-42ec-b090-daa81ee80a0e.rna_seq.augmented_star_gene_counts, shape: (60660, 10)\n",
      "Reading file: C:\\Users\\PC\\Desktop\\gene-expression-cancer-prediction\\rna_seq\\79f97f73-b650-49cf-8654-53038a6c0de7\\be880db8-920f-4bd8-9f67-34e3ddd61f2c.rna_seq.augmented_star_gene_counts.tsv\n",
      "Processing sample: be880db8-920f-4bd8-9f67-34e3ddd61f2c.rna_seq.augmented_star_gene_counts\n",
      "Finished processing sample: be880db8-920f-4bd8-9f67-34e3ddd61f2c.rna_seq.augmented_star_gene_counts, shape: (60660, 10)\n",
      "Reading file: C:\\Users\\PC\\Desktop\\gene-expression-cancer-prediction\\rna_seq\\7acdca8d-6231-4077-b7ac-eec857c43092\\17efe3f1-a97a-4e26-b28a-98702fd3c42b.rna_seq.augmented_star_gene_counts.tsv\n",
      "Processing sample: 17efe3f1-a97a-4e26-b28a-98702fd3c42b.rna_seq.augmented_star_gene_counts\n"
     ]
    },
    {
     "name": "stderr",
     "output_type": "stream",
     "text": [
      "C:\\Users\\PC\\AppData\\Local\\Temp\\ipykernel_4980\\1846137033.py:69: SettingWithCopyWarning: \n",
      "A value is trying to be set on a copy of a slice from a DataFrame.\n",
      "Try using .loc[row_indexer,col_indexer] = value instead\n",
      "\n",
      "See the caveats in the documentation: https://pandas.pydata.org/pandas-docs/stable/user_guide/indexing.html#returning-a-view-versus-a-copy\n",
      "  df_clean['sample_id'] = sample_id\n",
      "C:\\Users\\PC\\AppData\\Local\\Temp\\ipykernel_4980\\1846137033.py:69: SettingWithCopyWarning: \n",
      "A value is trying to be set on a copy of a slice from a DataFrame.\n",
      "Try using .loc[row_indexer,col_indexer] = value instead\n",
      "\n",
      "See the caveats in the documentation: https://pandas.pydata.org/pandas-docs/stable/user_guide/indexing.html#returning-a-view-versus-a-copy\n",
      "  df_clean['sample_id'] = sample_id\n"
     ]
    },
    {
     "name": "stdout",
     "output_type": "stream",
     "text": [
      "Finished processing sample: 17efe3f1-a97a-4e26-b28a-98702fd3c42b.rna_seq.augmented_star_gene_counts, shape: (60660, 10)\n",
      "Reading file: C:\\Users\\PC\\Desktop\\gene-expression-cancer-prediction\\rna_seq\\7ae79f8e-a8fa-4030-b46a-458db80a36c1\\f6c907ac-5dc9-4bdc-b7c6-3bac9f9059d3.rna_seq.augmented_star_gene_counts.tsv\n",
      "Processing sample: f6c907ac-5dc9-4bdc-b7c6-3bac9f9059d3.rna_seq.augmented_star_gene_counts\n",
      "Finished processing sample: f6c907ac-5dc9-4bdc-b7c6-3bac9f9059d3.rna_seq.augmented_star_gene_counts, shape: (60660, 10)\n",
      "Reading file: C:\\Users\\PC\\Desktop\\gene-expression-cancer-prediction\\rna_seq\\7af23ba7-e5bf-41b9-b91f-5709321dadb7\\073939c1-c857-4340-8a5f-a7b87d2349c3.rna_seq.augmented_star_gene_counts.tsv\n",
      "Processing sample: 073939c1-c857-4340-8a5f-a7b87d2349c3.rna_seq.augmented_star_gene_counts\n"
     ]
    },
    {
     "name": "stderr",
     "output_type": "stream",
     "text": [
      "C:\\Users\\PC\\AppData\\Local\\Temp\\ipykernel_4980\\1846137033.py:69: SettingWithCopyWarning: \n",
      "A value is trying to be set on a copy of a slice from a DataFrame.\n",
      "Try using .loc[row_indexer,col_indexer] = value instead\n",
      "\n",
      "See the caveats in the documentation: https://pandas.pydata.org/pandas-docs/stable/user_guide/indexing.html#returning-a-view-versus-a-copy\n",
      "  df_clean['sample_id'] = sample_id\n",
      "C:\\Users\\PC\\AppData\\Local\\Temp\\ipykernel_4980\\1846137033.py:69: SettingWithCopyWarning: \n",
      "A value is trying to be set on a copy of a slice from a DataFrame.\n",
      "Try using .loc[row_indexer,col_indexer] = value instead\n",
      "\n",
      "See the caveats in the documentation: https://pandas.pydata.org/pandas-docs/stable/user_guide/indexing.html#returning-a-view-versus-a-copy\n",
      "  df_clean['sample_id'] = sample_id\n"
     ]
    },
    {
     "name": "stdout",
     "output_type": "stream",
     "text": [
      "Finished processing sample: 073939c1-c857-4340-8a5f-a7b87d2349c3.rna_seq.augmented_star_gene_counts, shape: (60660, 10)\n",
      "Reading file: C:\\Users\\PC\\Desktop\\gene-expression-cancer-prediction\\rna_seq\\7afb1455-c2b6-4ae2-95ec-682ae7df34a2\\7b3d0a19-0cbc-4e8a-be16-76693e100e4c.rna_seq.augmented_star_gene_counts.tsv\n",
      "Processing sample: 7b3d0a19-0cbc-4e8a-be16-76693e100e4c.rna_seq.augmented_star_gene_counts\n",
      "Finished processing sample: 7b3d0a19-0cbc-4e8a-be16-76693e100e4c.rna_seq.augmented_star_gene_counts, shape: (60660, 10)\n",
      "Reading file: C:\\Users\\PC\\Desktop\\gene-expression-cancer-prediction\\rna_seq\\7aff89e2-86cb-43d8-96cd-341c02ebdd49\\bc4ac436-ed5f-4774-867d-a6bdd7e14486.rna_seq.augmented_star_gene_counts.tsv\n",
      "Processing sample: bc4ac436-ed5f-4774-867d-a6bdd7e14486.rna_seq.augmented_star_gene_counts\n"
     ]
    },
    {
     "name": "stderr",
     "output_type": "stream",
     "text": [
      "C:\\Users\\PC\\AppData\\Local\\Temp\\ipykernel_4980\\1846137033.py:69: SettingWithCopyWarning: \n",
      "A value is trying to be set on a copy of a slice from a DataFrame.\n",
      "Try using .loc[row_indexer,col_indexer] = value instead\n",
      "\n",
      "See the caveats in the documentation: https://pandas.pydata.org/pandas-docs/stable/user_guide/indexing.html#returning-a-view-versus-a-copy\n",
      "  df_clean['sample_id'] = sample_id\n",
      "C:\\Users\\PC\\AppData\\Local\\Temp\\ipykernel_4980\\1846137033.py:69: SettingWithCopyWarning: \n",
      "A value is trying to be set on a copy of a slice from a DataFrame.\n",
      "Try using .loc[row_indexer,col_indexer] = value instead\n",
      "\n",
      "See the caveats in the documentation: https://pandas.pydata.org/pandas-docs/stable/user_guide/indexing.html#returning-a-view-versus-a-copy\n",
      "  df_clean['sample_id'] = sample_id\n"
     ]
    },
    {
     "name": "stdout",
     "output_type": "stream",
     "text": [
      "Finished processing sample: bc4ac436-ed5f-4774-867d-a6bdd7e14486.rna_seq.augmented_star_gene_counts, shape: (60660, 10)\n",
      "Reading file: C:\\Users\\PC\\Desktop\\gene-expression-cancer-prediction\\rna_seq\\7b4d770a-2b8c-4ca5-bf51-c4745c5de39a\\ae8996bd-b0b7-4f9b-91fa-606f95d49f8c.rna_seq.augmented_star_gene_counts.tsv\n",
      "Processing sample: ae8996bd-b0b7-4f9b-91fa-606f95d49f8c.rna_seq.augmented_star_gene_counts\n",
      "Finished processing sample: ae8996bd-b0b7-4f9b-91fa-606f95d49f8c.rna_seq.augmented_star_gene_counts, shape: (60660, 10)\n",
      "Reading file: C:\\Users\\PC\\Desktop\\gene-expression-cancer-prediction\\rna_seq\\7b9b6f5f-bd99-421a-a22c-d3fbe110ee73\\2b9e2225-fb4d-4bc5-8c9a-58cd993627f9.rna_seq.augmented_star_gene_counts.tsv\n",
      "Processing sample: 2b9e2225-fb4d-4bc5-8c9a-58cd993627f9.rna_seq.augmented_star_gene_counts\n"
     ]
    },
    {
     "name": "stderr",
     "output_type": "stream",
     "text": [
      "C:\\Users\\PC\\AppData\\Local\\Temp\\ipykernel_4980\\1846137033.py:69: SettingWithCopyWarning: \n",
      "A value is trying to be set on a copy of a slice from a DataFrame.\n",
      "Try using .loc[row_indexer,col_indexer] = value instead\n",
      "\n",
      "See the caveats in the documentation: https://pandas.pydata.org/pandas-docs/stable/user_guide/indexing.html#returning-a-view-versus-a-copy\n",
      "  df_clean['sample_id'] = sample_id\n",
      "C:\\Users\\PC\\AppData\\Local\\Temp\\ipykernel_4980\\1846137033.py:69: SettingWithCopyWarning: \n",
      "A value is trying to be set on a copy of a slice from a DataFrame.\n",
      "Try using .loc[row_indexer,col_indexer] = value instead\n",
      "\n",
      "See the caveats in the documentation: https://pandas.pydata.org/pandas-docs/stable/user_guide/indexing.html#returning-a-view-versus-a-copy\n",
      "  df_clean['sample_id'] = sample_id\n"
     ]
    },
    {
     "name": "stdout",
     "output_type": "stream",
     "text": [
      "Finished processing sample: 2b9e2225-fb4d-4bc5-8c9a-58cd993627f9.rna_seq.augmented_star_gene_counts, shape: (60660, 10)\n",
      "Reading file: C:\\Users\\PC\\Desktop\\gene-expression-cancer-prediction\\rna_seq\\7baccc3d-54ba-4a3f-8ec0-b54ccd92df45\\3d2bf709-b8ab-41c5-a8a0-dd42e7846c25.rna_seq.augmented_star_gene_counts.tsv\n",
      "Processing sample: 3d2bf709-b8ab-41c5-a8a0-dd42e7846c25.rna_seq.augmented_star_gene_counts\n",
      "Finished processing sample: 3d2bf709-b8ab-41c5-a8a0-dd42e7846c25.rna_seq.augmented_star_gene_counts, shape: (60660, 10)\n",
      "Reading file: C:\\Users\\PC\\Desktop\\gene-expression-cancer-prediction\\rna_seq\\7bcb3817-31ac-4ef5-9038-a9bfebad5869\\87506e5d-4ebe-4f0c-a124-ea0add72d2ac.rna_seq.augmented_star_gene_counts.tsv\n",
      "Processing sample: 87506e5d-4ebe-4f0c-a124-ea0add72d2ac.rna_seq.augmented_star_gene_counts\n"
     ]
    },
    {
     "name": "stderr",
     "output_type": "stream",
     "text": [
      "C:\\Users\\PC\\AppData\\Local\\Temp\\ipykernel_4980\\1846137033.py:69: SettingWithCopyWarning: \n",
      "A value is trying to be set on a copy of a slice from a DataFrame.\n",
      "Try using .loc[row_indexer,col_indexer] = value instead\n",
      "\n",
      "See the caveats in the documentation: https://pandas.pydata.org/pandas-docs/stable/user_guide/indexing.html#returning-a-view-versus-a-copy\n",
      "  df_clean['sample_id'] = sample_id\n",
      "C:\\Users\\PC\\AppData\\Local\\Temp\\ipykernel_4980\\1846137033.py:69: SettingWithCopyWarning: \n",
      "A value is trying to be set on a copy of a slice from a DataFrame.\n",
      "Try using .loc[row_indexer,col_indexer] = value instead\n",
      "\n",
      "See the caveats in the documentation: https://pandas.pydata.org/pandas-docs/stable/user_guide/indexing.html#returning-a-view-versus-a-copy\n",
      "  df_clean['sample_id'] = sample_id\n"
     ]
    },
    {
     "name": "stdout",
     "output_type": "stream",
     "text": [
      "Finished processing sample: 87506e5d-4ebe-4f0c-a124-ea0add72d2ac.rna_seq.augmented_star_gene_counts, shape: (60660, 10)\n",
      "Reading file: C:\\Users\\PC\\Desktop\\gene-expression-cancer-prediction\\rna_seq\\7be570ba-7f69-431e-88c2-614e92bc88ae\\381e687e-c27d-4794-981b-7c3c596a0246.rna_seq.augmented_star_gene_counts.tsv\n",
      "Processing sample: 381e687e-c27d-4794-981b-7c3c596a0246.rna_seq.augmented_star_gene_counts\n",
      "Finished processing sample: 381e687e-c27d-4794-981b-7c3c596a0246.rna_seq.augmented_star_gene_counts, shape: (60660, 10)\n",
      "Reading file: C:\\Users\\PC\\Desktop\\gene-expression-cancer-prediction\\rna_seq\\7c196890-04a5-496b-ae10-43b95be57d58\\1742c1d9-a359-4d9e-b1e4-1d162472e67a.rna_seq.augmented_star_gene_counts.tsv\n",
      "Processing sample: 1742c1d9-a359-4d9e-b1e4-1d162472e67a.rna_seq.augmented_star_gene_counts\n"
     ]
    },
    {
     "name": "stderr",
     "output_type": "stream",
     "text": [
      "C:\\Users\\PC\\AppData\\Local\\Temp\\ipykernel_4980\\1846137033.py:69: SettingWithCopyWarning: \n",
      "A value is trying to be set on a copy of a slice from a DataFrame.\n",
      "Try using .loc[row_indexer,col_indexer] = value instead\n",
      "\n",
      "See the caveats in the documentation: https://pandas.pydata.org/pandas-docs/stable/user_guide/indexing.html#returning-a-view-versus-a-copy\n",
      "  df_clean['sample_id'] = sample_id\n",
      "C:\\Users\\PC\\AppData\\Local\\Temp\\ipykernel_4980\\1846137033.py:69: SettingWithCopyWarning: \n",
      "A value is trying to be set on a copy of a slice from a DataFrame.\n",
      "Try using .loc[row_indexer,col_indexer] = value instead\n",
      "\n",
      "See the caveats in the documentation: https://pandas.pydata.org/pandas-docs/stable/user_guide/indexing.html#returning-a-view-versus-a-copy\n",
      "  df_clean['sample_id'] = sample_id\n"
     ]
    },
    {
     "name": "stdout",
     "output_type": "stream",
     "text": [
      "Finished processing sample: 1742c1d9-a359-4d9e-b1e4-1d162472e67a.rna_seq.augmented_star_gene_counts, shape: (60660, 10)\n",
      "Reading file: C:\\Users\\PC\\Desktop\\gene-expression-cancer-prediction\\rna_seq\\7c89d4dc-cccb-4833-9731-be8affb76c89\\9053485e-19f7-4d2b-b4b6-361d908cc708.rna_seq.augmented_star_gene_counts.tsv\n",
      "Processing sample: 9053485e-19f7-4d2b-b4b6-361d908cc708.rna_seq.augmented_star_gene_counts\n",
      "Finished processing sample: 9053485e-19f7-4d2b-b4b6-361d908cc708.rna_seq.augmented_star_gene_counts, shape: (60660, 10)\n",
      "Reading file: C:\\Users\\PC\\Desktop\\gene-expression-cancer-prediction\\rna_seq\\7d496f9f-8a04-496a-ad25-68b1b72f864a\\c07a2fe2-d51d-4fd6-a36e-9f04fc3b6c05.rna_seq.augmented_star_gene_counts.tsv\n",
      "Processing sample: c07a2fe2-d51d-4fd6-a36e-9f04fc3b6c05.rna_seq.augmented_star_gene_counts\n"
     ]
    },
    {
     "name": "stderr",
     "output_type": "stream",
     "text": [
      "C:\\Users\\PC\\AppData\\Local\\Temp\\ipykernel_4980\\1846137033.py:69: SettingWithCopyWarning: \n",
      "A value is trying to be set on a copy of a slice from a DataFrame.\n",
      "Try using .loc[row_indexer,col_indexer] = value instead\n",
      "\n",
      "See the caveats in the documentation: https://pandas.pydata.org/pandas-docs/stable/user_guide/indexing.html#returning-a-view-versus-a-copy\n",
      "  df_clean['sample_id'] = sample_id\n",
      "C:\\Users\\PC\\AppData\\Local\\Temp\\ipykernel_4980\\1846137033.py:69: SettingWithCopyWarning: \n",
      "A value is trying to be set on a copy of a slice from a DataFrame.\n",
      "Try using .loc[row_indexer,col_indexer] = value instead\n",
      "\n",
      "See the caveats in the documentation: https://pandas.pydata.org/pandas-docs/stable/user_guide/indexing.html#returning-a-view-versus-a-copy\n",
      "  df_clean['sample_id'] = sample_id\n"
     ]
    },
    {
     "name": "stdout",
     "output_type": "stream",
     "text": [
      "Finished processing sample: c07a2fe2-d51d-4fd6-a36e-9f04fc3b6c05.rna_seq.augmented_star_gene_counts, shape: (60660, 10)\n",
      "Reading file: C:\\Users\\PC\\Desktop\\gene-expression-cancer-prediction\\rna_seq\\7d5e390d-86f3-4988-9606-aeedabd31b52\\fd5d7370-2c7c-4f6e-a236-e25366e463a8.rna_seq.augmented_star_gene_counts.tsv\n",
      "Processing sample: fd5d7370-2c7c-4f6e-a236-e25366e463a8.rna_seq.augmented_star_gene_counts\n",
      "Finished processing sample: fd5d7370-2c7c-4f6e-a236-e25366e463a8.rna_seq.augmented_star_gene_counts, shape: (60660, 10)\n",
      "Reading file: C:\\Users\\PC\\Desktop\\gene-expression-cancer-prediction\\rna_seq\\7d904415-9887-4738-99ae-66dcd60084ac\\063a4886-ee4d-43a9-95c1-25a0c0b2d85d.rna_seq.augmented_star_gene_counts.tsv\n",
      "Processing sample: 063a4886-ee4d-43a9-95c1-25a0c0b2d85d.rna_seq.augmented_star_gene_counts\n"
     ]
    },
    {
     "name": "stderr",
     "output_type": "stream",
     "text": [
      "C:\\Users\\PC\\AppData\\Local\\Temp\\ipykernel_4980\\1846137033.py:69: SettingWithCopyWarning: \n",
      "A value is trying to be set on a copy of a slice from a DataFrame.\n",
      "Try using .loc[row_indexer,col_indexer] = value instead\n",
      "\n",
      "See the caveats in the documentation: https://pandas.pydata.org/pandas-docs/stable/user_guide/indexing.html#returning-a-view-versus-a-copy\n",
      "  df_clean['sample_id'] = sample_id\n",
      "C:\\Users\\PC\\AppData\\Local\\Temp\\ipykernel_4980\\1846137033.py:69: SettingWithCopyWarning: \n",
      "A value is trying to be set on a copy of a slice from a DataFrame.\n",
      "Try using .loc[row_indexer,col_indexer] = value instead\n",
      "\n",
      "See the caveats in the documentation: https://pandas.pydata.org/pandas-docs/stable/user_guide/indexing.html#returning-a-view-versus-a-copy\n",
      "  df_clean['sample_id'] = sample_id\n"
     ]
    },
    {
     "name": "stdout",
     "output_type": "stream",
     "text": [
      "Finished processing sample: 063a4886-ee4d-43a9-95c1-25a0c0b2d85d.rna_seq.augmented_star_gene_counts, shape: (60660, 10)\n",
      "Reading file: C:\\Users\\PC\\Desktop\\gene-expression-cancer-prediction\\rna_seq\\7dcadaff-5d95-4ba6-9ce7-50bb2e5f17aa\\5ee2f830-f808-4e6c-89c1-6c90859958e1.rna_seq.augmented_star_gene_counts.tsv\n",
      "Processing sample: 5ee2f830-f808-4e6c-89c1-6c90859958e1.rna_seq.augmented_star_gene_counts\n",
      "Finished processing sample: 5ee2f830-f808-4e6c-89c1-6c90859958e1.rna_seq.augmented_star_gene_counts, shape: (60660, 10)\n",
      "Reading file: C:\\Users\\PC\\Desktop\\gene-expression-cancer-prediction\\rna_seq\\7e035247-3586-443f-a94c-0addbaf3b17f\\5bd46a5d-2390-421c-a7aa-90ba77fed60d.rna_seq.augmented_star_gene_counts.tsv\n",
      "Processing sample: 5bd46a5d-2390-421c-a7aa-90ba77fed60d.rna_seq.augmented_star_gene_counts\n"
     ]
    },
    {
     "name": "stderr",
     "output_type": "stream",
     "text": [
      "C:\\Users\\PC\\AppData\\Local\\Temp\\ipykernel_4980\\1846137033.py:69: SettingWithCopyWarning: \n",
      "A value is trying to be set on a copy of a slice from a DataFrame.\n",
      "Try using .loc[row_indexer,col_indexer] = value instead\n",
      "\n",
      "See the caveats in the documentation: https://pandas.pydata.org/pandas-docs/stable/user_guide/indexing.html#returning-a-view-versus-a-copy\n",
      "  df_clean['sample_id'] = sample_id\n",
      "C:\\Users\\PC\\AppData\\Local\\Temp\\ipykernel_4980\\1846137033.py:69: SettingWithCopyWarning: \n",
      "A value is trying to be set on a copy of a slice from a DataFrame.\n",
      "Try using .loc[row_indexer,col_indexer] = value instead\n",
      "\n",
      "See the caveats in the documentation: https://pandas.pydata.org/pandas-docs/stable/user_guide/indexing.html#returning-a-view-versus-a-copy\n",
      "  df_clean['sample_id'] = sample_id\n"
     ]
    },
    {
     "name": "stdout",
     "output_type": "stream",
     "text": [
      "Finished processing sample: 5bd46a5d-2390-421c-a7aa-90ba77fed60d.rna_seq.augmented_star_gene_counts, shape: (60660, 10)\n",
      "Reading file: C:\\Users\\PC\\Desktop\\gene-expression-cancer-prediction\\rna_seq\\7e0c78b6-4020-47b6-a8bf-46cf290c5c85\\ce9d6d3a-9ab8-4586-a587-3d4bf00445a5.rna_seq.augmented_star_gene_counts.tsv\n",
      "Processing sample: ce9d6d3a-9ab8-4586-a587-3d4bf00445a5.rna_seq.augmented_star_gene_counts\n",
      "Finished processing sample: ce9d6d3a-9ab8-4586-a587-3d4bf00445a5.rna_seq.augmented_star_gene_counts, shape: (60660, 10)\n",
      "Reading file: C:\\Users\\PC\\Desktop\\gene-expression-cancer-prediction\\rna_seq\\7e915086-4926-4670-9f43-e35e2d04d6c5\\a091a049-ebb1-465c-bf2e-b2abd72e4901.rna_seq.augmented_star_gene_counts.tsv\n",
      "Processing sample: a091a049-ebb1-465c-bf2e-b2abd72e4901.rna_seq.augmented_star_gene_counts\n"
     ]
    },
    {
     "name": "stderr",
     "output_type": "stream",
     "text": [
      "C:\\Users\\PC\\AppData\\Local\\Temp\\ipykernel_4980\\1846137033.py:69: SettingWithCopyWarning: \n",
      "A value is trying to be set on a copy of a slice from a DataFrame.\n",
      "Try using .loc[row_indexer,col_indexer] = value instead\n",
      "\n",
      "See the caveats in the documentation: https://pandas.pydata.org/pandas-docs/stable/user_guide/indexing.html#returning-a-view-versus-a-copy\n",
      "  df_clean['sample_id'] = sample_id\n",
      "C:\\Users\\PC\\AppData\\Local\\Temp\\ipykernel_4980\\1846137033.py:69: SettingWithCopyWarning: \n",
      "A value is trying to be set on a copy of a slice from a DataFrame.\n",
      "Try using .loc[row_indexer,col_indexer] = value instead\n",
      "\n",
      "See the caveats in the documentation: https://pandas.pydata.org/pandas-docs/stable/user_guide/indexing.html#returning-a-view-versus-a-copy\n",
      "  df_clean['sample_id'] = sample_id\n"
     ]
    },
    {
     "name": "stdout",
     "output_type": "stream",
     "text": [
      "Finished processing sample: a091a049-ebb1-465c-bf2e-b2abd72e4901.rna_seq.augmented_star_gene_counts, shape: (60660, 10)\n",
      "Reading file: C:\\Users\\PC\\Desktop\\gene-expression-cancer-prediction\\rna_seq\\7efb7266-28ee-41d3-912a-b0f67135216f\\3fd9c506-ed43-45db-bff4-6e968ac19564.rna_seq.augmented_star_gene_counts.tsv\n",
      "Processing sample: 3fd9c506-ed43-45db-bff4-6e968ac19564.rna_seq.augmented_star_gene_counts\n",
      "Finished processing sample: 3fd9c506-ed43-45db-bff4-6e968ac19564.rna_seq.augmented_star_gene_counts, shape: (60660, 10)\n",
      "Reading file: C:\\Users\\PC\\Desktop\\gene-expression-cancer-prediction\\rna_seq\\7f1cbb4f-aecf-42be-91cc-fb35d03447df\\ca34cd1c-026e-4641-a9dd-ac1a9b4f243b.rna_seq.augmented_star_gene_counts.tsv\n",
      "Processing sample: ca34cd1c-026e-4641-a9dd-ac1a9b4f243b.rna_seq.augmented_star_gene_counts\n"
     ]
    },
    {
     "name": "stderr",
     "output_type": "stream",
     "text": [
      "C:\\Users\\PC\\AppData\\Local\\Temp\\ipykernel_4980\\1846137033.py:69: SettingWithCopyWarning: \n",
      "A value is trying to be set on a copy of a slice from a DataFrame.\n",
      "Try using .loc[row_indexer,col_indexer] = value instead\n",
      "\n",
      "See the caveats in the documentation: https://pandas.pydata.org/pandas-docs/stable/user_guide/indexing.html#returning-a-view-versus-a-copy\n",
      "  df_clean['sample_id'] = sample_id\n",
      "C:\\Users\\PC\\AppData\\Local\\Temp\\ipykernel_4980\\1846137033.py:69: SettingWithCopyWarning: \n",
      "A value is trying to be set on a copy of a slice from a DataFrame.\n",
      "Try using .loc[row_indexer,col_indexer] = value instead\n",
      "\n",
      "See the caveats in the documentation: https://pandas.pydata.org/pandas-docs/stable/user_guide/indexing.html#returning-a-view-versus-a-copy\n",
      "  df_clean['sample_id'] = sample_id\n"
     ]
    },
    {
     "name": "stdout",
     "output_type": "stream",
     "text": [
      "Finished processing sample: ca34cd1c-026e-4641-a9dd-ac1a9b4f243b.rna_seq.augmented_star_gene_counts, shape: (60660, 10)\n",
      "Reading file: C:\\Users\\PC\\Desktop\\gene-expression-cancer-prediction\\rna_seq\\7fa9ad2e-67a7-449f-be73-9e18dc46b529\\5d5bb9d2-2244-4673-99db-653609cf5de2.rna_seq.augmented_star_gene_counts.tsv\n",
      "Processing sample: 5d5bb9d2-2244-4673-99db-653609cf5de2.rna_seq.augmented_star_gene_counts\n",
      "Finished processing sample: 5d5bb9d2-2244-4673-99db-653609cf5de2.rna_seq.augmented_star_gene_counts, shape: (60660, 10)\n",
      "Reading file: C:\\Users\\PC\\Desktop\\gene-expression-cancer-prediction\\rna_seq\\7fadaf69-2a7b-4eca-aec9-c2f2b43eab3c\\1100a85c-823d-417b-a764-9282ec8593a5.rna_seq.augmented_star_gene_counts.tsv\n",
      "Processing sample: 1100a85c-823d-417b-a764-9282ec8593a5.rna_seq.augmented_star_gene_counts\n"
     ]
    },
    {
     "name": "stderr",
     "output_type": "stream",
     "text": [
      "C:\\Users\\PC\\AppData\\Local\\Temp\\ipykernel_4980\\1846137033.py:69: SettingWithCopyWarning: \n",
      "A value is trying to be set on a copy of a slice from a DataFrame.\n",
      "Try using .loc[row_indexer,col_indexer] = value instead\n",
      "\n",
      "See the caveats in the documentation: https://pandas.pydata.org/pandas-docs/stable/user_guide/indexing.html#returning-a-view-versus-a-copy\n",
      "  df_clean['sample_id'] = sample_id\n",
      "C:\\Users\\PC\\AppData\\Local\\Temp\\ipykernel_4980\\1846137033.py:69: SettingWithCopyWarning: \n",
      "A value is trying to be set on a copy of a slice from a DataFrame.\n",
      "Try using .loc[row_indexer,col_indexer] = value instead\n",
      "\n",
      "See the caveats in the documentation: https://pandas.pydata.org/pandas-docs/stable/user_guide/indexing.html#returning-a-view-versus-a-copy\n",
      "  df_clean['sample_id'] = sample_id\n"
     ]
    },
    {
     "name": "stdout",
     "output_type": "stream",
     "text": [
      "Finished processing sample: 1100a85c-823d-417b-a764-9282ec8593a5.rna_seq.augmented_star_gene_counts, shape: (60660, 10)\n",
      "Reading file: C:\\Users\\PC\\Desktop\\gene-expression-cancer-prediction\\rna_seq\\7ff8696e-3809-4b96-9259-be654631d952\\db01aba1-3a00-4bf9-9f24-8fba144144f3.rna_seq.augmented_star_gene_counts.tsv\n",
      "Processing sample: db01aba1-3a00-4bf9-9f24-8fba144144f3.rna_seq.augmented_star_gene_counts\n",
      "Finished processing sample: db01aba1-3a00-4bf9-9f24-8fba144144f3.rna_seq.augmented_star_gene_counts, shape: (60660, 10)\n",
      "Reading file: C:\\Users\\PC\\Desktop\\gene-expression-cancer-prediction\\rna_seq\\800ca72f-4bd7-46d7-904b-bcda2fa3500c\\c58a5583-7b04-4b67-9372-e161e18d7de1.rna_seq.augmented_star_gene_counts.tsv\n",
      "Processing sample: c58a5583-7b04-4b67-9372-e161e18d7de1.rna_seq.augmented_star_gene_counts\n"
     ]
    },
    {
     "name": "stderr",
     "output_type": "stream",
     "text": [
      "C:\\Users\\PC\\AppData\\Local\\Temp\\ipykernel_4980\\1846137033.py:69: SettingWithCopyWarning: \n",
      "A value is trying to be set on a copy of a slice from a DataFrame.\n",
      "Try using .loc[row_indexer,col_indexer] = value instead\n",
      "\n",
      "See the caveats in the documentation: https://pandas.pydata.org/pandas-docs/stable/user_guide/indexing.html#returning-a-view-versus-a-copy\n",
      "  df_clean['sample_id'] = sample_id\n",
      "C:\\Users\\PC\\AppData\\Local\\Temp\\ipykernel_4980\\1846137033.py:69: SettingWithCopyWarning: \n",
      "A value is trying to be set on a copy of a slice from a DataFrame.\n",
      "Try using .loc[row_indexer,col_indexer] = value instead\n",
      "\n",
      "See the caveats in the documentation: https://pandas.pydata.org/pandas-docs/stable/user_guide/indexing.html#returning-a-view-versus-a-copy\n",
      "  df_clean['sample_id'] = sample_id\n"
     ]
    },
    {
     "name": "stdout",
     "output_type": "stream",
     "text": [
      "Finished processing sample: c58a5583-7b04-4b67-9372-e161e18d7de1.rna_seq.augmented_star_gene_counts, shape: (60660, 10)\n",
      "Reading file: C:\\Users\\PC\\Desktop\\gene-expression-cancer-prediction\\rna_seq\\80563e43-422f-458b-a543-6b1dad9171e5\\e619e3c8-f6eb-4b0a-bf17-005ccbe269bb.rna_seq.augmented_star_gene_counts.tsv\n",
      "Processing sample: e619e3c8-f6eb-4b0a-bf17-005ccbe269bb.rna_seq.augmented_star_gene_counts\n",
      "Finished processing sample: e619e3c8-f6eb-4b0a-bf17-005ccbe269bb.rna_seq.augmented_star_gene_counts, shape: (60660, 10)\n",
      "Reading file: C:\\Users\\PC\\Desktop\\gene-expression-cancer-prediction\\rna_seq\\80d565a0-59f6-409e-8850-5d4e2b5b996d\\9da89066-8d82-4ace-80e1-889d3c73c8eb.rna_seq.augmented_star_gene_counts.tsv\n",
      "Processing sample: 9da89066-8d82-4ace-80e1-889d3c73c8eb.rna_seq.augmented_star_gene_counts\n"
     ]
    },
    {
     "name": "stderr",
     "output_type": "stream",
     "text": [
      "C:\\Users\\PC\\AppData\\Local\\Temp\\ipykernel_4980\\1846137033.py:69: SettingWithCopyWarning: \n",
      "A value is trying to be set on a copy of a slice from a DataFrame.\n",
      "Try using .loc[row_indexer,col_indexer] = value instead\n",
      "\n",
      "See the caveats in the documentation: https://pandas.pydata.org/pandas-docs/stable/user_guide/indexing.html#returning-a-view-versus-a-copy\n",
      "  df_clean['sample_id'] = sample_id\n",
      "C:\\Users\\PC\\AppData\\Local\\Temp\\ipykernel_4980\\1846137033.py:69: SettingWithCopyWarning: \n",
      "A value is trying to be set on a copy of a slice from a DataFrame.\n",
      "Try using .loc[row_indexer,col_indexer] = value instead\n",
      "\n",
      "See the caveats in the documentation: https://pandas.pydata.org/pandas-docs/stable/user_guide/indexing.html#returning-a-view-versus-a-copy\n",
      "  df_clean['sample_id'] = sample_id\n"
     ]
    },
    {
     "name": "stdout",
     "output_type": "stream",
     "text": [
      "Finished processing sample: 9da89066-8d82-4ace-80e1-889d3c73c8eb.rna_seq.augmented_star_gene_counts, shape: (60660, 10)\n",
      "Reading file: C:\\Users\\PC\\Desktop\\gene-expression-cancer-prediction\\rna_seq\\812eeeed-1222-4add-b6d1-f53ae2669218\\f04a6a90-d4d9-4b17-afaa-f97044ff4b6a.rna_seq.augmented_star_gene_counts.tsv\n",
      "Processing sample: f04a6a90-d4d9-4b17-afaa-f97044ff4b6a.rna_seq.augmented_star_gene_counts\n",
      "Finished processing sample: f04a6a90-d4d9-4b17-afaa-f97044ff4b6a.rna_seq.augmented_star_gene_counts, shape: (60660, 10)\n",
      "Reading file: C:\\Users\\PC\\Desktop\\gene-expression-cancer-prediction\\rna_seq\\81801e72-d293-42e0-8871-5468e33b6d89\\08ccd8d6-3e9d-4ece-a421-98acaf272569.rna_seq.augmented_star_gene_counts.tsv\n",
      "Processing sample: 08ccd8d6-3e9d-4ece-a421-98acaf272569.rna_seq.augmented_star_gene_counts\n"
     ]
    },
    {
     "name": "stderr",
     "output_type": "stream",
     "text": [
      "C:\\Users\\PC\\AppData\\Local\\Temp\\ipykernel_4980\\1846137033.py:69: SettingWithCopyWarning: \n",
      "A value is trying to be set on a copy of a slice from a DataFrame.\n",
      "Try using .loc[row_indexer,col_indexer] = value instead\n",
      "\n",
      "See the caveats in the documentation: https://pandas.pydata.org/pandas-docs/stable/user_guide/indexing.html#returning-a-view-versus-a-copy\n",
      "  df_clean['sample_id'] = sample_id\n",
      "C:\\Users\\PC\\AppData\\Local\\Temp\\ipykernel_4980\\1846137033.py:69: SettingWithCopyWarning: \n",
      "A value is trying to be set on a copy of a slice from a DataFrame.\n",
      "Try using .loc[row_indexer,col_indexer] = value instead\n",
      "\n",
      "See the caveats in the documentation: https://pandas.pydata.org/pandas-docs/stable/user_guide/indexing.html#returning-a-view-versus-a-copy\n",
      "  df_clean['sample_id'] = sample_id\n"
     ]
    },
    {
     "name": "stdout",
     "output_type": "stream",
     "text": [
      "Finished processing sample: 08ccd8d6-3e9d-4ece-a421-98acaf272569.rna_seq.augmented_star_gene_counts, shape: (60660, 10)\n",
      "Reading file: C:\\Users\\PC\\Desktop\\gene-expression-cancer-prediction\\rna_seq\\819746a4-f2c1-4fc2-8dbe-b9c34892d510\\5a3c544e-069c-4d6b-b7b7-0f41ff71dee2.rna_seq.augmented_star_gene_counts.tsv\n",
      "Processing sample: 5a3c544e-069c-4d6b-b7b7-0f41ff71dee2.rna_seq.augmented_star_gene_counts\n",
      "Finished processing sample: 5a3c544e-069c-4d6b-b7b7-0f41ff71dee2.rna_seq.augmented_star_gene_counts, shape: (60660, 10)\n",
      "Reading file: C:\\Users\\PC\\Desktop\\gene-expression-cancer-prediction\\rna_seq\\81f86e31-55db-4483-b6e0-55451ffbd1db\\a31cd337-8f1a-451d-9b90-b722590d3105.rna_seq.augmented_star_gene_counts.tsv\n",
      "Processing sample: a31cd337-8f1a-451d-9b90-b722590d3105.rna_seq.augmented_star_gene_counts\n"
     ]
    },
    {
     "name": "stderr",
     "output_type": "stream",
     "text": [
      "C:\\Users\\PC\\AppData\\Local\\Temp\\ipykernel_4980\\1846137033.py:69: SettingWithCopyWarning: \n",
      "A value is trying to be set on a copy of a slice from a DataFrame.\n",
      "Try using .loc[row_indexer,col_indexer] = value instead\n",
      "\n",
      "See the caveats in the documentation: https://pandas.pydata.org/pandas-docs/stable/user_guide/indexing.html#returning-a-view-versus-a-copy\n",
      "  df_clean['sample_id'] = sample_id\n",
      "C:\\Users\\PC\\AppData\\Local\\Temp\\ipykernel_4980\\1846137033.py:69: SettingWithCopyWarning: \n",
      "A value is trying to be set on a copy of a slice from a DataFrame.\n",
      "Try using .loc[row_indexer,col_indexer] = value instead\n",
      "\n",
      "See the caveats in the documentation: https://pandas.pydata.org/pandas-docs/stable/user_guide/indexing.html#returning-a-view-versus-a-copy\n",
      "  df_clean['sample_id'] = sample_id\n"
     ]
    },
    {
     "name": "stdout",
     "output_type": "stream",
     "text": [
      "Finished processing sample: a31cd337-8f1a-451d-9b90-b722590d3105.rna_seq.augmented_star_gene_counts, shape: (60660, 10)\n",
      "Reading file: C:\\Users\\PC\\Desktop\\gene-expression-cancer-prediction\\rna_seq\\82004d79-07d3-4a01-b266-4d36353ba561\\e38d31b7-ad89-4fff-93d5-05f49998727b.rna_seq.augmented_star_gene_counts.tsv\n",
      "Processing sample: e38d31b7-ad89-4fff-93d5-05f49998727b.rna_seq.augmented_star_gene_counts\n",
      "Finished processing sample: e38d31b7-ad89-4fff-93d5-05f49998727b.rna_seq.augmented_star_gene_counts, shape: (60660, 10)\n",
      "Reading file: C:\\Users\\PC\\Desktop\\gene-expression-cancer-prediction\\rna_seq\\8256e097-4476-4906-a5c5-c9da288a363a\\1a112735-ff30-4c94-953f-444ccad2afe2.rna_seq.augmented_star_gene_counts.tsv\n",
      "Processing sample: 1a112735-ff30-4c94-953f-444ccad2afe2.rna_seq.augmented_star_gene_counts\n"
     ]
    },
    {
     "name": "stderr",
     "output_type": "stream",
     "text": [
      "C:\\Users\\PC\\AppData\\Local\\Temp\\ipykernel_4980\\1846137033.py:69: SettingWithCopyWarning: \n",
      "A value is trying to be set on a copy of a slice from a DataFrame.\n",
      "Try using .loc[row_indexer,col_indexer] = value instead\n",
      "\n",
      "See the caveats in the documentation: https://pandas.pydata.org/pandas-docs/stable/user_guide/indexing.html#returning-a-view-versus-a-copy\n",
      "  df_clean['sample_id'] = sample_id\n",
      "C:\\Users\\PC\\AppData\\Local\\Temp\\ipykernel_4980\\1846137033.py:69: SettingWithCopyWarning: \n",
      "A value is trying to be set on a copy of a slice from a DataFrame.\n",
      "Try using .loc[row_indexer,col_indexer] = value instead\n",
      "\n",
      "See the caveats in the documentation: https://pandas.pydata.org/pandas-docs/stable/user_guide/indexing.html#returning-a-view-versus-a-copy\n",
      "  df_clean['sample_id'] = sample_id\n"
     ]
    },
    {
     "name": "stdout",
     "output_type": "stream",
     "text": [
      "Finished processing sample: 1a112735-ff30-4c94-953f-444ccad2afe2.rna_seq.augmented_star_gene_counts, shape: (60660, 10)\n",
      "Reading file: C:\\Users\\PC\\Desktop\\gene-expression-cancer-prediction\\rna_seq\\82d46633-2eea-4b43-81b6-addab4f069b4\\7fa3f262-b786-4b89-b38f-505bff13c382.rna_seq.augmented_star_gene_counts.tsv\n",
      "Processing sample: 7fa3f262-b786-4b89-b38f-505bff13c382.rna_seq.augmented_star_gene_counts\n",
      "Finished processing sample: 7fa3f262-b786-4b89-b38f-505bff13c382.rna_seq.augmented_star_gene_counts, shape: (60660, 10)\n",
      "Reading file: C:\\Users\\PC\\Desktop\\gene-expression-cancer-prediction\\rna_seq\\82fea6e8-7c6a-4575-bfcd-c164094538e6\\29ce926f-d72e-4064-8a7f-359d86cb9d11.rna_seq.augmented_star_gene_counts.tsv\n",
      "Processing sample: 29ce926f-d72e-4064-8a7f-359d86cb9d11.rna_seq.augmented_star_gene_counts\n"
     ]
    },
    {
     "name": "stderr",
     "output_type": "stream",
     "text": [
      "C:\\Users\\PC\\AppData\\Local\\Temp\\ipykernel_4980\\1846137033.py:69: SettingWithCopyWarning: \n",
      "A value is trying to be set on a copy of a slice from a DataFrame.\n",
      "Try using .loc[row_indexer,col_indexer] = value instead\n",
      "\n",
      "See the caveats in the documentation: https://pandas.pydata.org/pandas-docs/stable/user_guide/indexing.html#returning-a-view-versus-a-copy\n",
      "  df_clean['sample_id'] = sample_id\n",
      "C:\\Users\\PC\\AppData\\Local\\Temp\\ipykernel_4980\\1846137033.py:69: SettingWithCopyWarning: \n",
      "A value is trying to be set on a copy of a slice from a DataFrame.\n",
      "Try using .loc[row_indexer,col_indexer] = value instead\n",
      "\n",
      "See the caveats in the documentation: https://pandas.pydata.org/pandas-docs/stable/user_guide/indexing.html#returning-a-view-versus-a-copy\n",
      "  df_clean['sample_id'] = sample_id\n"
     ]
    },
    {
     "name": "stdout",
     "output_type": "stream",
     "text": [
      "Finished processing sample: 29ce926f-d72e-4064-8a7f-359d86cb9d11.rna_seq.augmented_star_gene_counts, shape: (60660, 10)\n",
      "Reading file: C:\\Users\\PC\\Desktop\\gene-expression-cancer-prediction\\rna_seq\\836f61df-2b3d-4e1f-abcc-37734091b746\\815b70e5-858d-416d-94aa-6749960883ce.rna_seq.augmented_star_gene_counts.tsv\n",
      "Processing sample: 815b70e5-858d-416d-94aa-6749960883ce.rna_seq.augmented_star_gene_counts\n",
      "Finished processing sample: 815b70e5-858d-416d-94aa-6749960883ce.rna_seq.augmented_star_gene_counts, shape: (60660, 10)\n",
      "Reading file: C:\\Users\\PC\\Desktop\\gene-expression-cancer-prediction\\rna_seq\\83707590-e4c8-4e06-98d5-f6c5dc710d1b\\85237b9e-67a3-46a2-9c19-3818522994b2.rna_seq.augmented_star_gene_counts.tsv\n",
      "Processing sample: 85237b9e-67a3-46a2-9c19-3818522994b2.rna_seq.augmented_star_gene_counts\n",
      "Finished processing sample: 85237b9e-67a3-46a2-9c19-3818522994b2.rna_seq.augmented_star_gene_counts, shape: (60660, 10)\n",
      "Reading file: C:\\Users\\PC\\Desktop\\gene-expression-cancer-prediction\\rna_seq\\839a4656-f2ce-4460-858a-8e6b314695ef\\b36c0e8b-a9b1-46ac-8946-88e64a28ff5a.rna_seq.augmented_star_gene_counts.tsv\n",
      "Processing sample: b36c0e8b-a9b1-46ac-8946-88e64a28ff5a.rna_seq.augmented_star_gene_counts\n"
     ]
    },
    {
     "name": "stderr",
     "output_type": "stream",
     "text": [
      "C:\\Users\\PC\\AppData\\Local\\Temp\\ipykernel_4980\\1846137033.py:69: SettingWithCopyWarning: \n",
      "A value is trying to be set on a copy of a slice from a DataFrame.\n",
      "Try using .loc[row_indexer,col_indexer] = value instead\n",
      "\n",
      "See the caveats in the documentation: https://pandas.pydata.org/pandas-docs/stable/user_guide/indexing.html#returning-a-view-versus-a-copy\n",
      "  df_clean['sample_id'] = sample_id\n",
      "C:\\Users\\PC\\AppData\\Local\\Temp\\ipykernel_4980\\1846137033.py:69: SettingWithCopyWarning: \n",
      "A value is trying to be set on a copy of a slice from a DataFrame.\n",
      "Try using .loc[row_indexer,col_indexer] = value instead\n",
      "\n",
      "See the caveats in the documentation: https://pandas.pydata.org/pandas-docs/stable/user_guide/indexing.html#returning-a-view-versus-a-copy\n",
      "  df_clean['sample_id'] = sample_id\n"
     ]
    },
    {
     "name": "stdout",
     "output_type": "stream",
     "text": [
      "Finished processing sample: b36c0e8b-a9b1-46ac-8946-88e64a28ff5a.rna_seq.augmented_star_gene_counts, shape: (60660, 10)\n",
      "Reading file: C:\\Users\\PC\\Desktop\\gene-expression-cancer-prediction\\rna_seq\\83eeba96-e3dc-44a3-846c-43dcc2ff9806\\631a9df0-9d81-4b15-9ee6-3ae9f31dcba6.rna_seq.augmented_star_gene_counts.tsv\n",
      "Processing sample: 631a9df0-9d81-4b15-9ee6-3ae9f31dcba6.rna_seq.augmented_star_gene_counts\n",
      "Finished processing sample: 631a9df0-9d81-4b15-9ee6-3ae9f31dcba6.rna_seq.augmented_star_gene_counts, shape: (60660, 10)\n",
      "Reading file: C:\\Users\\PC\\Desktop\\gene-expression-cancer-prediction\\rna_seq\\83f2e26b-fefd-4027-ac5e-fa204ec9f084\\a455069c-8869-4af8-949c-edfee0a05f51.rna_seq.augmented_star_gene_counts.tsv\n",
      "Processing sample: a455069c-8869-4af8-949c-edfee0a05f51.rna_seq.augmented_star_gene_counts\n"
     ]
    },
    {
     "name": "stderr",
     "output_type": "stream",
     "text": [
      "C:\\Users\\PC\\AppData\\Local\\Temp\\ipykernel_4980\\1846137033.py:69: SettingWithCopyWarning: \n",
      "A value is trying to be set on a copy of a slice from a DataFrame.\n",
      "Try using .loc[row_indexer,col_indexer] = value instead\n",
      "\n",
      "See the caveats in the documentation: https://pandas.pydata.org/pandas-docs/stable/user_guide/indexing.html#returning-a-view-versus-a-copy\n",
      "  df_clean['sample_id'] = sample_id\n",
      "C:\\Users\\PC\\AppData\\Local\\Temp\\ipykernel_4980\\1846137033.py:69: SettingWithCopyWarning: \n",
      "A value is trying to be set on a copy of a slice from a DataFrame.\n",
      "Try using .loc[row_indexer,col_indexer] = value instead\n",
      "\n",
      "See the caveats in the documentation: https://pandas.pydata.org/pandas-docs/stable/user_guide/indexing.html#returning-a-view-versus-a-copy\n",
      "  df_clean['sample_id'] = sample_id\n"
     ]
    },
    {
     "name": "stdout",
     "output_type": "stream",
     "text": [
      "Finished processing sample: a455069c-8869-4af8-949c-edfee0a05f51.rna_seq.augmented_star_gene_counts, shape: (60660, 10)\n",
      "Reading file: C:\\Users\\PC\\Desktop\\gene-expression-cancer-prediction\\rna_seq\\84225715-14a6-423c-a6d6-15558e151f56\\253aa5dc-9853-462a-9bcd-c2e44817833b.rna_seq.augmented_star_gene_counts.tsv\n",
      "Processing sample: 253aa5dc-9853-462a-9bcd-c2e44817833b.rna_seq.augmented_star_gene_counts\n",
      "Finished processing sample: 253aa5dc-9853-462a-9bcd-c2e44817833b.rna_seq.augmented_star_gene_counts, shape: (60660, 10)\n",
      "Reading file: C:\\Users\\PC\\Desktop\\gene-expression-cancer-prediction\\rna_seq\\8437bf97-2354-40cf-8dc4-631c5d7ae63a\\723ed50c-2c78-4a3a-9f6e-9f9e8e264f6b.rna_seq.augmented_star_gene_counts.tsv\n",
      "Processing sample: 723ed50c-2c78-4a3a-9f6e-9f9e8e264f6b.rna_seq.augmented_star_gene_counts\n"
     ]
    },
    {
     "name": "stderr",
     "output_type": "stream",
     "text": [
      "C:\\Users\\PC\\AppData\\Local\\Temp\\ipykernel_4980\\1846137033.py:69: SettingWithCopyWarning: \n",
      "A value is trying to be set on a copy of a slice from a DataFrame.\n",
      "Try using .loc[row_indexer,col_indexer] = value instead\n",
      "\n",
      "See the caveats in the documentation: https://pandas.pydata.org/pandas-docs/stable/user_guide/indexing.html#returning-a-view-versus-a-copy\n",
      "  df_clean['sample_id'] = sample_id\n",
      "C:\\Users\\PC\\AppData\\Local\\Temp\\ipykernel_4980\\1846137033.py:69: SettingWithCopyWarning: \n",
      "A value is trying to be set on a copy of a slice from a DataFrame.\n",
      "Try using .loc[row_indexer,col_indexer] = value instead\n",
      "\n",
      "See the caveats in the documentation: https://pandas.pydata.org/pandas-docs/stable/user_guide/indexing.html#returning-a-view-versus-a-copy\n",
      "  df_clean['sample_id'] = sample_id\n"
     ]
    },
    {
     "name": "stdout",
     "output_type": "stream",
     "text": [
      "Finished processing sample: 723ed50c-2c78-4a3a-9f6e-9f9e8e264f6b.rna_seq.augmented_star_gene_counts, shape: (60660, 10)\n",
      "Warning: No .tsv file found in C:\\Users\\PC\\Desktop\\gene-expression-cancer-prediction\\rna_seq\\845def46-3502-40a8-aff1-8d021906cee5\n",
      "Reading file: C:\\Users\\PC\\Desktop\\gene-expression-cancer-prediction\\rna_seq\\84ab5edd-38bf-4987-b9af-fa4d1cbdef2c\\774f5688-bad0-4a78-b26a-7aceb353e603.rna_seq.augmented_star_gene_counts.tsv\n",
      "Processing sample: 774f5688-bad0-4a78-b26a-7aceb353e603.rna_seq.augmented_star_gene_counts\n",
      "Finished processing sample: 774f5688-bad0-4a78-b26a-7aceb353e603.rna_seq.augmented_star_gene_counts, shape: (60660, 10)\n",
      "Reading file: C:\\Users\\PC\\Desktop\\gene-expression-cancer-prediction\\rna_seq\\84df6b33-7f6a-496d-8cd7-f523b07fd0bb\\5b51c204-3342-46d9-86a4-2ed091492318.rna_seq.augmented_star_gene_counts.tsv\n",
      "Processing sample: 5b51c204-3342-46d9-86a4-2ed091492318.rna_seq.augmented_star_gene_counts\n"
     ]
    },
    {
     "name": "stderr",
     "output_type": "stream",
     "text": [
      "C:\\Users\\PC\\AppData\\Local\\Temp\\ipykernel_4980\\1846137033.py:69: SettingWithCopyWarning: \n",
      "A value is trying to be set on a copy of a slice from a DataFrame.\n",
      "Try using .loc[row_indexer,col_indexer] = value instead\n",
      "\n",
      "See the caveats in the documentation: https://pandas.pydata.org/pandas-docs/stable/user_guide/indexing.html#returning-a-view-versus-a-copy\n",
      "  df_clean['sample_id'] = sample_id\n",
      "C:\\Users\\PC\\AppData\\Local\\Temp\\ipykernel_4980\\1846137033.py:69: SettingWithCopyWarning: \n",
      "A value is trying to be set on a copy of a slice from a DataFrame.\n",
      "Try using .loc[row_indexer,col_indexer] = value instead\n",
      "\n",
      "See the caveats in the documentation: https://pandas.pydata.org/pandas-docs/stable/user_guide/indexing.html#returning-a-view-versus-a-copy\n",
      "  df_clean['sample_id'] = sample_id\n"
     ]
    },
    {
     "name": "stdout",
     "output_type": "stream",
     "text": [
      "Finished processing sample: 5b51c204-3342-46d9-86a4-2ed091492318.rna_seq.augmented_star_gene_counts, shape: (60660, 10)\n",
      "Reading file: C:\\Users\\PC\\Desktop\\gene-expression-cancer-prediction\\rna_seq\\8603da6b-3bb9-4fff-b409-c5af2afd53b3\\3d31d7a9-76b8-41f4-a037-0dfe6a4ecb0c.rna_seq.augmented_star_gene_counts.tsv\n",
      "Processing sample: 3d31d7a9-76b8-41f4-a037-0dfe6a4ecb0c.rna_seq.augmented_star_gene_counts\n",
      "Finished processing sample: 3d31d7a9-76b8-41f4-a037-0dfe6a4ecb0c.rna_seq.augmented_star_gene_counts, shape: (60660, 10)\n",
      "Reading file: C:\\Users\\PC\\Desktop\\gene-expression-cancer-prediction\\rna_seq\\86b68671-beef-4a15-aabb-89d79396fd9d\\493a8b0a-11ea-4f37-8149-3825aaa04fe4.rna_seq.augmented_star_gene_counts.tsv\n",
      "Processing sample: 493a8b0a-11ea-4f37-8149-3825aaa04fe4.rna_seq.augmented_star_gene_counts\n"
     ]
    },
    {
     "name": "stderr",
     "output_type": "stream",
     "text": [
      "C:\\Users\\PC\\AppData\\Local\\Temp\\ipykernel_4980\\1846137033.py:69: SettingWithCopyWarning: \n",
      "A value is trying to be set on a copy of a slice from a DataFrame.\n",
      "Try using .loc[row_indexer,col_indexer] = value instead\n",
      "\n",
      "See the caveats in the documentation: https://pandas.pydata.org/pandas-docs/stable/user_guide/indexing.html#returning-a-view-versus-a-copy\n",
      "  df_clean['sample_id'] = sample_id\n",
      "C:\\Users\\PC\\AppData\\Local\\Temp\\ipykernel_4980\\1846137033.py:69: SettingWithCopyWarning: \n",
      "A value is trying to be set on a copy of a slice from a DataFrame.\n",
      "Try using .loc[row_indexer,col_indexer] = value instead\n",
      "\n",
      "See the caveats in the documentation: https://pandas.pydata.org/pandas-docs/stable/user_guide/indexing.html#returning-a-view-versus-a-copy\n",
      "  df_clean['sample_id'] = sample_id\n"
     ]
    },
    {
     "name": "stdout",
     "output_type": "stream",
     "text": [
      "Finished processing sample: 493a8b0a-11ea-4f37-8149-3825aaa04fe4.rna_seq.augmented_star_gene_counts, shape: (60660, 10)\n",
      "Reading file: C:\\Users\\PC\\Desktop\\gene-expression-cancer-prediction\\rna_seq\\86ce8513-c2a6-4b5c-9811-904f0eee21a0\\8b7eaa6a-3ea9-4bf4-b814-7b2e7dbb3528.rna_seq.augmented_star_gene_counts.tsv\n",
      "Processing sample: 8b7eaa6a-3ea9-4bf4-b814-7b2e7dbb3528.rna_seq.augmented_star_gene_counts\n",
      "Finished processing sample: 8b7eaa6a-3ea9-4bf4-b814-7b2e7dbb3528.rna_seq.augmented_star_gene_counts, shape: (60660, 10)\n",
      "Warning: No .tsv file found in C:\\Users\\PC\\Desktop\\gene-expression-cancer-prediction\\rna_seq\\86d52d54-1b0d-40b1-99ce-82b4e345acb8\n",
      "Reading file: C:\\Users\\PC\\Desktop\\gene-expression-cancer-prediction\\rna_seq\\86d6bd3f-d1a8-4b12-bd4f-009cd707ad8b\\7d30a479-6d2f-431e-b15c-26736994b2f5.rna_seq.augmented_star_gene_counts.tsv\n",
      "Processing sample: 7d30a479-6d2f-431e-b15c-26736994b2f5.rna_seq.augmented_star_gene_counts\n"
     ]
    },
    {
     "name": "stderr",
     "output_type": "stream",
     "text": [
      "C:\\Users\\PC\\AppData\\Local\\Temp\\ipykernel_4980\\1846137033.py:69: SettingWithCopyWarning: \n",
      "A value is trying to be set on a copy of a slice from a DataFrame.\n",
      "Try using .loc[row_indexer,col_indexer] = value instead\n",
      "\n",
      "See the caveats in the documentation: https://pandas.pydata.org/pandas-docs/stable/user_guide/indexing.html#returning-a-view-versus-a-copy\n",
      "  df_clean['sample_id'] = sample_id\n",
      "C:\\Users\\PC\\AppData\\Local\\Temp\\ipykernel_4980\\1846137033.py:69: SettingWithCopyWarning: \n",
      "A value is trying to be set on a copy of a slice from a DataFrame.\n",
      "Try using .loc[row_indexer,col_indexer] = value instead\n",
      "\n",
      "See the caveats in the documentation: https://pandas.pydata.org/pandas-docs/stable/user_guide/indexing.html#returning-a-view-versus-a-copy\n",
      "  df_clean['sample_id'] = sample_id\n"
     ]
    },
    {
     "name": "stdout",
     "output_type": "stream",
     "text": [
      "Finished processing sample: 7d30a479-6d2f-431e-b15c-26736994b2f5.rna_seq.augmented_star_gene_counts, shape: (60660, 10)\n",
      "Reading file: C:\\Users\\PC\\Desktop\\gene-expression-cancer-prediction\\rna_seq\\870fb4d4-8366-4bfa-b4c1-04d55eded427\\3ef3fd4b-ed5b-41e1-8096-c573cf609bd3.rna_seq.augmented_star_gene_counts.tsv\n",
      "Processing sample: 3ef3fd4b-ed5b-41e1-8096-c573cf609bd3.rna_seq.augmented_star_gene_counts\n",
      "Finished processing sample: 3ef3fd4b-ed5b-41e1-8096-c573cf609bd3.rna_seq.augmented_star_gene_counts, shape: (60660, 10)\n",
      "Reading file: C:\\Users\\PC\\Desktop\\gene-expression-cancer-prediction\\rna_seq\\871d28f4-09d5-4f16-8c29-4aa7d247f3e3\\ba00c48c-c33e-4dab-beb6-0575ee076dfd.rna_seq.augmented_star_gene_counts.tsv\n",
      "Processing sample: ba00c48c-c33e-4dab-beb6-0575ee076dfd.rna_seq.augmented_star_gene_counts\n"
     ]
    },
    {
     "name": "stderr",
     "output_type": "stream",
     "text": [
      "C:\\Users\\PC\\AppData\\Local\\Temp\\ipykernel_4980\\1846137033.py:69: SettingWithCopyWarning: \n",
      "A value is trying to be set on a copy of a slice from a DataFrame.\n",
      "Try using .loc[row_indexer,col_indexer] = value instead\n",
      "\n",
      "See the caveats in the documentation: https://pandas.pydata.org/pandas-docs/stable/user_guide/indexing.html#returning-a-view-versus-a-copy\n",
      "  df_clean['sample_id'] = sample_id\n",
      "C:\\Users\\PC\\AppData\\Local\\Temp\\ipykernel_4980\\1846137033.py:69: SettingWithCopyWarning: \n",
      "A value is trying to be set on a copy of a slice from a DataFrame.\n",
      "Try using .loc[row_indexer,col_indexer] = value instead\n",
      "\n",
      "See the caveats in the documentation: https://pandas.pydata.org/pandas-docs/stable/user_guide/indexing.html#returning-a-view-versus-a-copy\n",
      "  df_clean['sample_id'] = sample_id\n"
     ]
    },
    {
     "name": "stdout",
     "output_type": "stream",
     "text": [
      "Finished processing sample: ba00c48c-c33e-4dab-beb6-0575ee076dfd.rna_seq.augmented_star_gene_counts, shape: (60660, 10)\n",
      "Reading file: C:\\Users\\PC\\Desktop\\gene-expression-cancer-prediction\\rna_seq\\87af5cf5-08e6-443b-a23b-6221f7433a65\\3628bc49-6968-47a8-96e4-e47421a7152a.rna_seq.augmented_star_gene_counts.tsv\n",
      "Processing sample: 3628bc49-6968-47a8-96e4-e47421a7152a.rna_seq.augmented_star_gene_counts\n",
      "Finished processing sample: 3628bc49-6968-47a8-96e4-e47421a7152a.rna_seq.augmented_star_gene_counts, shape: (60660, 10)\n",
      "Reading file: C:\\Users\\PC\\Desktop\\gene-expression-cancer-prediction\\rna_seq\\87b59374-da2d-41ba-bbde-43a9022eac2c\\eee9bac6-9fb4-4b3a-8b97-cebac861a00b.rna_seq.augmented_star_gene_counts.tsv\n",
      "Processing sample: eee9bac6-9fb4-4b3a-8b97-cebac861a00b.rna_seq.augmented_star_gene_counts\n"
     ]
    },
    {
     "name": "stderr",
     "output_type": "stream",
     "text": [
      "C:\\Users\\PC\\AppData\\Local\\Temp\\ipykernel_4980\\1846137033.py:69: SettingWithCopyWarning: \n",
      "A value is trying to be set on a copy of a slice from a DataFrame.\n",
      "Try using .loc[row_indexer,col_indexer] = value instead\n",
      "\n",
      "See the caveats in the documentation: https://pandas.pydata.org/pandas-docs/stable/user_guide/indexing.html#returning-a-view-versus-a-copy\n",
      "  df_clean['sample_id'] = sample_id\n",
      "C:\\Users\\PC\\AppData\\Local\\Temp\\ipykernel_4980\\1846137033.py:69: SettingWithCopyWarning: \n",
      "A value is trying to be set on a copy of a slice from a DataFrame.\n",
      "Try using .loc[row_indexer,col_indexer] = value instead\n",
      "\n",
      "See the caveats in the documentation: https://pandas.pydata.org/pandas-docs/stable/user_guide/indexing.html#returning-a-view-versus-a-copy\n",
      "  df_clean['sample_id'] = sample_id\n"
     ]
    },
    {
     "name": "stdout",
     "output_type": "stream",
     "text": [
      "Finished processing sample: eee9bac6-9fb4-4b3a-8b97-cebac861a00b.rna_seq.augmented_star_gene_counts, shape: (60660, 10)\n",
      "Reading file: C:\\Users\\PC\\Desktop\\gene-expression-cancer-prediction\\rna_seq\\885098b3-2e01-4039-ad15-f3dda5c29dc6\\784a9c63-9b40-4f6c-8147-93d0ed523867.rna_seq.augmented_star_gene_counts.tsv\n",
      "Processing sample: 784a9c63-9b40-4f6c-8147-93d0ed523867.rna_seq.augmented_star_gene_counts\n",
      "Finished processing sample: 784a9c63-9b40-4f6c-8147-93d0ed523867.rna_seq.augmented_star_gene_counts, shape: (60660, 10)\n",
      "Reading file: C:\\Users\\PC\\Desktop\\gene-expression-cancer-prediction\\rna_seq\\88a16056-cc45-4fee-99e0-f7fc7e1971df\\fdadb011-0da3-458f-8b4e-d09e4c847a5b.rna_seq.augmented_star_gene_counts.tsv\n",
      "Processing sample: fdadb011-0da3-458f-8b4e-d09e4c847a5b.rna_seq.augmented_star_gene_counts\n"
     ]
    },
    {
     "name": "stderr",
     "output_type": "stream",
     "text": [
      "C:\\Users\\PC\\AppData\\Local\\Temp\\ipykernel_4980\\1846137033.py:69: SettingWithCopyWarning: \n",
      "A value is trying to be set on a copy of a slice from a DataFrame.\n",
      "Try using .loc[row_indexer,col_indexer] = value instead\n",
      "\n",
      "See the caveats in the documentation: https://pandas.pydata.org/pandas-docs/stable/user_guide/indexing.html#returning-a-view-versus-a-copy\n",
      "  df_clean['sample_id'] = sample_id\n",
      "C:\\Users\\PC\\AppData\\Local\\Temp\\ipykernel_4980\\1846137033.py:69: SettingWithCopyWarning: \n",
      "A value is trying to be set on a copy of a slice from a DataFrame.\n",
      "Try using .loc[row_indexer,col_indexer] = value instead\n",
      "\n",
      "See the caveats in the documentation: https://pandas.pydata.org/pandas-docs/stable/user_guide/indexing.html#returning-a-view-versus-a-copy\n",
      "  df_clean['sample_id'] = sample_id\n"
     ]
    },
    {
     "name": "stdout",
     "output_type": "stream",
     "text": [
      "Finished processing sample: fdadb011-0da3-458f-8b4e-d09e4c847a5b.rna_seq.augmented_star_gene_counts, shape: (60660, 10)\n",
      "Reading file: C:\\Users\\PC\\Desktop\\gene-expression-cancer-prediction\\rna_seq\\891873c8-bb26-4215-9281-a79be2651f11\\c9dffad1-99e8-40b8-8954-1e50b98a1a55.rna_seq.augmented_star_gene_counts.tsv\n",
      "Processing sample: c9dffad1-99e8-40b8-8954-1e50b98a1a55.rna_seq.augmented_star_gene_counts\n",
      "Finished processing sample: c9dffad1-99e8-40b8-8954-1e50b98a1a55.rna_seq.augmented_star_gene_counts, shape: (60660, 10)\n",
      "Reading file: C:\\Users\\PC\\Desktop\\gene-expression-cancer-prediction\\rna_seq\\892928f7-8239-4d15-812b-046f9192d7de\\0d6fbefe-4e21-4762-a476-9c899d4a94b7.rna_seq.augmented_star_gene_counts.tsv\n",
      "Processing sample: 0d6fbefe-4e21-4762-a476-9c899d4a94b7.rna_seq.augmented_star_gene_counts\n"
     ]
    },
    {
     "name": "stderr",
     "output_type": "stream",
     "text": [
      "C:\\Users\\PC\\AppData\\Local\\Temp\\ipykernel_4980\\1846137033.py:69: SettingWithCopyWarning: \n",
      "A value is trying to be set on a copy of a slice from a DataFrame.\n",
      "Try using .loc[row_indexer,col_indexer] = value instead\n",
      "\n",
      "See the caveats in the documentation: https://pandas.pydata.org/pandas-docs/stable/user_guide/indexing.html#returning-a-view-versus-a-copy\n",
      "  df_clean['sample_id'] = sample_id\n",
      "C:\\Users\\PC\\AppData\\Local\\Temp\\ipykernel_4980\\1846137033.py:69: SettingWithCopyWarning: \n",
      "A value is trying to be set on a copy of a slice from a DataFrame.\n",
      "Try using .loc[row_indexer,col_indexer] = value instead\n",
      "\n",
      "See the caveats in the documentation: https://pandas.pydata.org/pandas-docs/stable/user_guide/indexing.html#returning-a-view-versus-a-copy\n",
      "  df_clean['sample_id'] = sample_id\n"
     ]
    },
    {
     "name": "stdout",
     "output_type": "stream",
     "text": [
      "Finished processing sample: 0d6fbefe-4e21-4762-a476-9c899d4a94b7.rna_seq.augmented_star_gene_counts, shape: (60660, 10)\n",
      "Reading file: C:\\Users\\PC\\Desktop\\gene-expression-cancer-prediction\\rna_seq\\893122aa-117b-49a4-a81c-1229dde4d78a\\42cc31fb-3bc2-4d21-b821-2d05aca800e7.rna_seq.augmented_star_gene_counts.tsv\n",
      "Processing sample: 42cc31fb-3bc2-4d21-b821-2d05aca800e7.rna_seq.augmented_star_gene_counts\n",
      "Finished processing sample: 42cc31fb-3bc2-4d21-b821-2d05aca800e7.rna_seq.augmented_star_gene_counts, shape: (60660, 10)\n",
      "Reading file: C:\\Users\\PC\\Desktop\\gene-expression-cancer-prediction\\rna_seq\\89409cf3-e710-47fd-af3c-6f8f0dec7c90\\e6bad6ec-c178-4684-99e8-2504781a022b.rna_seq.augmented_star_gene_counts.tsv\n",
      "Processing sample: e6bad6ec-c178-4684-99e8-2504781a022b.rna_seq.augmented_star_gene_counts\n"
     ]
    },
    {
     "name": "stderr",
     "output_type": "stream",
     "text": [
      "C:\\Users\\PC\\AppData\\Local\\Temp\\ipykernel_4980\\1846137033.py:69: SettingWithCopyWarning: \n",
      "A value is trying to be set on a copy of a slice from a DataFrame.\n",
      "Try using .loc[row_indexer,col_indexer] = value instead\n",
      "\n",
      "See the caveats in the documentation: https://pandas.pydata.org/pandas-docs/stable/user_guide/indexing.html#returning-a-view-versus-a-copy\n",
      "  df_clean['sample_id'] = sample_id\n",
      "C:\\Users\\PC\\AppData\\Local\\Temp\\ipykernel_4980\\1846137033.py:69: SettingWithCopyWarning: \n",
      "A value is trying to be set on a copy of a slice from a DataFrame.\n",
      "Try using .loc[row_indexer,col_indexer] = value instead\n",
      "\n",
      "See the caveats in the documentation: https://pandas.pydata.org/pandas-docs/stable/user_guide/indexing.html#returning-a-view-versus-a-copy\n",
      "  df_clean['sample_id'] = sample_id\n"
     ]
    },
    {
     "name": "stdout",
     "output_type": "stream",
     "text": [
      "Finished processing sample: e6bad6ec-c178-4684-99e8-2504781a022b.rna_seq.augmented_star_gene_counts, shape: (60660, 10)\n",
      "Reading file: C:\\Users\\PC\\Desktop\\gene-expression-cancer-prediction\\rna_seq\\895b7107-2c08-4106-b119-6fbb597392da\\be813beb-9b35-4063-9d61-9f49a7fd7706.rna_seq.augmented_star_gene_counts.tsv\n",
      "Processing sample: be813beb-9b35-4063-9d61-9f49a7fd7706.rna_seq.augmented_star_gene_counts\n",
      "Finished processing sample: be813beb-9b35-4063-9d61-9f49a7fd7706.rna_seq.augmented_star_gene_counts, shape: (60660, 10)\n",
      "Reading file: C:\\Users\\PC\\Desktop\\gene-expression-cancer-prediction\\rna_seq\\898920ea-31b3-4244-a413-4b957e93594f\\3d804011-ba3a-4999-9305-71b4680819b9.rna_seq.augmented_star_gene_counts.tsv\n",
      "Processing sample: 3d804011-ba3a-4999-9305-71b4680819b9.rna_seq.augmented_star_gene_counts\n"
     ]
    },
    {
     "name": "stderr",
     "output_type": "stream",
     "text": [
      "C:\\Users\\PC\\AppData\\Local\\Temp\\ipykernel_4980\\1846137033.py:69: SettingWithCopyWarning: \n",
      "A value is trying to be set on a copy of a slice from a DataFrame.\n",
      "Try using .loc[row_indexer,col_indexer] = value instead\n",
      "\n",
      "See the caveats in the documentation: https://pandas.pydata.org/pandas-docs/stable/user_guide/indexing.html#returning-a-view-versus-a-copy\n",
      "  df_clean['sample_id'] = sample_id\n",
      "C:\\Users\\PC\\AppData\\Local\\Temp\\ipykernel_4980\\1846137033.py:69: SettingWithCopyWarning: \n",
      "A value is trying to be set on a copy of a slice from a DataFrame.\n",
      "Try using .loc[row_indexer,col_indexer] = value instead\n",
      "\n",
      "See the caveats in the documentation: https://pandas.pydata.org/pandas-docs/stable/user_guide/indexing.html#returning-a-view-versus-a-copy\n",
      "  df_clean['sample_id'] = sample_id\n"
     ]
    },
    {
     "name": "stdout",
     "output_type": "stream",
     "text": [
      "Finished processing sample: 3d804011-ba3a-4999-9305-71b4680819b9.rna_seq.augmented_star_gene_counts, shape: (60660, 10)\n",
      "Reading file: C:\\Users\\PC\\Desktop\\gene-expression-cancer-prediction\\rna_seq\\89dfc6f3-9f78-4e03-a2e7-e9010c7814a2\\b793fa3a-f197-409f-b630-2dcba3290cce.rna_seq.augmented_star_gene_counts.tsv\n",
      "Processing sample: b793fa3a-f197-409f-b630-2dcba3290cce.rna_seq.augmented_star_gene_counts\n",
      "Finished processing sample: b793fa3a-f197-409f-b630-2dcba3290cce.rna_seq.augmented_star_gene_counts, shape: (60660, 10)\n",
      "Reading file: C:\\Users\\PC\\Desktop\\gene-expression-cancer-prediction\\rna_seq\\89e048e0-2bdb-4c62-9c0e-2e6e796238dd\\3f91fef1-b62c-4884-a882-c99bb6ca9613.rna_seq.augmented_star_gene_counts.tsv\n",
      "Processing sample: 3f91fef1-b62c-4884-a882-c99bb6ca9613.rna_seq.augmented_star_gene_counts\n"
     ]
    },
    {
     "name": "stderr",
     "output_type": "stream",
     "text": [
      "C:\\Users\\PC\\AppData\\Local\\Temp\\ipykernel_4980\\1846137033.py:69: SettingWithCopyWarning: \n",
      "A value is trying to be set on a copy of a slice from a DataFrame.\n",
      "Try using .loc[row_indexer,col_indexer] = value instead\n",
      "\n",
      "See the caveats in the documentation: https://pandas.pydata.org/pandas-docs/stable/user_guide/indexing.html#returning-a-view-versus-a-copy\n",
      "  df_clean['sample_id'] = sample_id\n",
      "C:\\Users\\PC\\AppData\\Local\\Temp\\ipykernel_4980\\1846137033.py:69: SettingWithCopyWarning: \n",
      "A value is trying to be set on a copy of a slice from a DataFrame.\n",
      "Try using .loc[row_indexer,col_indexer] = value instead\n",
      "\n",
      "See the caveats in the documentation: https://pandas.pydata.org/pandas-docs/stable/user_guide/indexing.html#returning-a-view-versus-a-copy\n",
      "  df_clean['sample_id'] = sample_id\n"
     ]
    },
    {
     "name": "stdout",
     "output_type": "stream",
     "text": [
      "Finished processing sample: 3f91fef1-b62c-4884-a882-c99bb6ca9613.rna_seq.augmented_star_gene_counts, shape: (60660, 10)\n",
      "Reading file: C:\\Users\\PC\\Desktop\\gene-expression-cancer-prediction\\rna_seq\\89e67cfd-7728-4a0e-bfa5-4c55ae957ef8\\49e0a55e-cd18-438c-890a-f14c6d149743.rna_seq.augmented_star_gene_counts.tsv\n",
      "Processing sample: 49e0a55e-cd18-438c-890a-f14c6d149743.rna_seq.augmented_star_gene_counts\n",
      "Finished processing sample: 49e0a55e-cd18-438c-890a-f14c6d149743.rna_seq.augmented_star_gene_counts, shape: (60660, 10)\n",
      "Warning: No .tsv file found in C:\\Users\\PC\\Desktop\\gene-expression-cancer-prediction\\rna_seq\\89ece3f8-e2db-4ed6-b5b8-dd4df34d6224\n",
      "Reading file: C:\\Users\\PC\\Desktop\\gene-expression-cancer-prediction\\rna_seq\\89fa8a0c-e046-4fbf-97c5-4ed5cc4e5e4c\\68a74e5b-649e-4568-8616-d2292a4eca19.rna_seq.augmented_star_gene_counts.tsv\n",
      "Processing sample: 68a74e5b-649e-4568-8616-d2292a4eca19.rna_seq.augmented_star_gene_counts\n"
     ]
    },
    {
     "name": "stderr",
     "output_type": "stream",
     "text": [
      "C:\\Users\\PC\\AppData\\Local\\Temp\\ipykernel_4980\\1846137033.py:69: SettingWithCopyWarning: \n",
      "A value is trying to be set on a copy of a slice from a DataFrame.\n",
      "Try using .loc[row_indexer,col_indexer] = value instead\n",
      "\n",
      "See the caveats in the documentation: https://pandas.pydata.org/pandas-docs/stable/user_guide/indexing.html#returning-a-view-versus-a-copy\n",
      "  df_clean['sample_id'] = sample_id\n",
      "C:\\Users\\PC\\AppData\\Local\\Temp\\ipykernel_4980\\1846137033.py:69: SettingWithCopyWarning: \n",
      "A value is trying to be set on a copy of a slice from a DataFrame.\n",
      "Try using .loc[row_indexer,col_indexer] = value instead\n",
      "\n",
      "See the caveats in the documentation: https://pandas.pydata.org/pandas-docs/stable/user_guide/indexing.html#returning-a-view-versus-a-copy\n",
      "  df_clean['sample_id'] = sample_id\n"
     ]
    },
    {
     "name": "stdout",
     "output_type": "stream",
     "text": [
      "Finished processing sample: 68a74e5b-649e-4568-8616-d2292a4eca19.rna_seq.augmented_star_gene_counts, shape: (60660, 10)\n",
      "Reading file: C:\\Users\\PC\\Desktop\\gene-expression-cancer-prediction\\rna_seq\\8a7fe670-bcef-4fcb-9759-9892ff5f4f61\\a7428d3b-f84b-4c2f-a996-14a11af6b6df.rna_seq.augmented_star_gene_counts.tsv\n",
      "Processing sample: a7428d3b-f84b-4c2f-a996-14a11af6b6df.rna_seq.augmented_star_gene_counts\n",
      "Finished processing sample: a7428d3b-f84b-4c2f-a996-14a11af6b6df.rna_seq.augmented_star_gene_counts, shape: (60660, 10)\n",
      "Reading file: C:\\Users\\PC\\Desktop\\gene-expression-cancer-prediction\\rna_seq\\8c6fa126-82a0-4290-a657-8466959585c4\\7db191ab-6106-4e39-a45e-8a68aaba0922.rna_seq.augmented_star_gene_counts.tsv\n",
      "Processing sample: 7db191ab-6106-4e39-a45e-8a68aaba0922.rna_seq.augmented_star_gene_counts\n"
     ]
    },
    {
     "name": "stderr",
     "output_type": "stream",
     "text": [
      "C:\\Users\\PC\\AppData\\Local\\Temp\\ipykernel_4980\\1846137033.py:69: SettingWithCopyWarning: \n",
      "A value is trying to be set on a copy of a slice from a DataFrame.\n",
      "Try using .loc[row_indexer,col_indexer] = value instead\n",
      "\n",
      "See the caveats in the documentation: https://pandas.pydata.org/pandas-docs/stable/user_guide/indexing.html#returning-a-view-versus-a-copy\n",
      "  df_clean['sample_id'] = sample_id\n",
      "C:\\Users\\PC\\AppData\\Local\\Temp\\ipykernel_4980\\1846137033.py:69: SettingWithCopyWarning: \n",
      "A value is trying to be set on a copy of a slice from a DataFrame.\n",
      "Try using .loc[row_indexer,col_indexer] = value instead\n",
      "\n",
      "See the caveats in the documentation: https://pandas.pydata.org/pandas-docs/stable/user_guide/indexing.html#returning-a-view-versus-a-copy\n",
      "  df_clean['sample_id'] = sample_id\n"
     ]
    },
    {
     "name": "stdout",
     "output_type": "stream",
     "text": [
      "Finished processing sample: 7db191ab-6106-4e39-a45e-8a68aaba0922.rna_seq.augmented_star_gene_counts, shape: (60660, 10)\n",
      "Reading file: C:\\Users\\PC\\Desktop\\gene-expression-cancer-prediction\\rna_seq\\8c884351-1c8b-47ff-8bef-1a4f25f645fb\\d5a1a331-cd5b-448f-adf6-ea393565ef26.rna_seq.augmented_star_gene_counts.tsv\n",
      "Processing sample: d5a1a331-cd5b-448f-adf6-ea393565ef26.rna_seq.augmented_star_gene_counts\n",
      "Finished processing sample: d5a1a331-cd5b-448f-adf6-ea393565ef26.rna_seq.augmented_star_gene_counts, shape: (60660, 10)\n",
      "Reading file: C:\\Users\\PC\\Desktop\\gene-expression-cancer-prediction\\rna_seq\\8d558ae5-f3a1-49fa-aa44-5abc6244b57a\\59c3ac05-7a99-4817-ae14-1584f2b7bf36.rna_seq.augmented_star_gene_counts.tsv\n",
      "Processing sample: 59c3ac05-7a99-4817-ae14-1584f2b7bf36.rna_seq.augmented_star_gene_counts\n"
     ]
    },
    {
     "name": "stderr",
     "output_type": "stream",
     "text": [
      "C:\\Users\\PC\\AppData\\Local\\Temp\\ipykernel_4980\\1846137033.py:69: SettingWithCopyWarning: \n",
      "A value is trying to be set on a copy of a slice from a DataFrame.\n",
      "Try using .loc[row_indexer,col_indexer] = value instead\n",
      "\n",
      "See the caveats in the documentation: https://pandas.pydata.org/pandas-docs/stable/user_guide/indexing.html#returning-a-view-versus-a-copy\n",
      "  df_clean['sample_id'] = sample_id\n",
      "C:\\Users\\PC\\AppData\\Local\\Temp\\ipykernel_4980\\1846137033.py:69: SettingWithCopyWarning: \n",
      "A value is trying to be set on a copy of a slice from a DataFrame.\n",
      "Try using .loc[row_indexer,col_indexer] = value instead\n",
      "\n",
      "See the caveats in the documentation: https://pandas.pydata.org/pandas-docs/stable/user_guide/indexing.html#returning-a-view-versus-a-copy\n",
      "  df_clean['sample_id'] = sample_id\n"
     ]
    },
    {
     "name": "stdout",
     "output_type": "stream",
     "text": [
      "Finished processing sample: 59c3ac05-7a99-4817-ae14-1584f2b7bf36.rna_seq.augmented_star_gene_counts, shape: (60660, 10)\n",
      "Reading file: C:\\Users\\PC\\Desktop\\gene-expression-cancer-prediction\\rna_seq\\8d87fbd5-8ca7-4ff6-b8b1-79f098dbca9f\\bc1ed706-3abf-407c-9133-18169a4cf0e2.rna_seq.augmented_star_gene_counts.tsv\n",
      "Processing sample: bc1ed706-3abf-407c-9133-18169a4cf0e2.rna_seq.augmented_star_gene_counts\n",
      "Finished processing sample: bc1ed706-3abf-407c-9133-18169a4cf0e2.rna_seq.augmented_star_gene_counts, shape: (60660, 10)\n",
      "Reading file: C:\\Users\\PC\\Desktop\\gene-expression-cancer-prediction\\rna_seq\\8e063797-856c-491a-b702-1a37ebf6b6a8\\d8edd309-518d-4358-8245-9e92d7af4441.rna_seq.augmented_star_gene_counts.tsv\n",
      "Processing sample: d8edd309-518d-4358-8245-9e92d7af4441.rna_seq.augmented_star_gene_counts\n"
     ]
    },
    {
     "name": "stderr",
     "output_type": "stream",
     "text": [
      "C:\\Users\\PC\\AppData\\Local\\Temp\\ipykernel_4980\\1846137033.py:69: SettingWithCopyWarning: \n",
      "A value is trying to be set on a copy of a slice from a DataFrame.\n",
      "Try using .loc[row_indexer,col_indexer] = value instead\n",
      "\n",
      "See the caveats in the documentation: https://pandas.pydata.org/pandas-docs/stable/user_guide/indexing.html#returning-a-view-versus-a-copy\n",
      "  df_clean['sample_id'] = sample_id\n",
      "C:\\Users\\PC\\AppData\\Local\\Temp\\ipykernel_4980\\1846137033.py:69: SettingWithCopyWarning: \n",
      "A value is trying to be set on a copy of a slice from a DataFrame.\n",
      "Try using .loc[row_indexer,col_indexer] = value instead\n",
      "\n",
      "See the caveats in the documentation: https://pandas.pydata.org/pandas-docs/stable/user_guide/indexing.html#returning-a-view-versus-a-copy\n",
      "  df_clean['sample_id'] = sample_id\n"
     ]
    },
    {
     "name": "stdout",
     "output_type": "stream",
     "text": [
      "Finished processing sample: d8edd309-518d-4358-8245-9e92d7af4441.rna_seq.augmented_star_gene_counts, shape: (60660, 10)\n",
      "Warning: No .tsv file found in C:\\Users\\PC\\Desktop\\gene-expression-cancer-prediction\\rna_seq\\8e475a5c-0a90-4c31-a472-b1ae0946633d\n",
      "Reading file: C:\\Users\\PC\\Desktop\\gene-expression-cancer-prediction\\rna_seq\\8e60d7c9-0fee-415f-b7bd-072f1bcd0fac\\bf67d13e-231c-4cb7-8381-fb19c4fe90ed.rna_seq.augmented_star_gene_counts.tsv\n",
      "Processing sample: bf67d13e-231c-4cb7-8381-fb19c4fe90ed.rna_seq.augmented_star_gene_counts\n",
      "Finished processing sample: bf67d13e-231c-4cb7-8381-fb19c4fe90ed.rna_seq.augmented_star_gene_counts, shape: (60660, 10)\n",
      "Reading file: C:\\Users\\PC\\Desktop\\gene-expression-cancer-prediction\\rna_seq\\8ebe5f43-053c-4bfc-aefd-b9c22897b4ce\\d7dc889e-649a-46e1-98ae-d4708c26930b.rna_seq.augmented_star_gene_counts.tsv\n",
      "Processing sample: d7dc889e-649a-46e1-98ae-d4708c26930b.rna_seq.augmented_star_gene_counts\n"
     ]
    },
    {
     "name": "stderr",
     "output_type": "stream",
     "text": [
      "C:\\Users\\PC\\AppData\\Local\\Temp\\ipykernel_4980\\1846137033.py:69: SettingWithCopyWarning: \n",
      "A value is trying to be set on a copy of a slice from a DataFrame.\n",
      "Try using .loc[row_indexer,col_indexer] = value instead\n",
      "\n",
      "See the caveats in the documentation: https://pandas.pydata.org/pandas-docs/stable/user_guide/indexing.html#returning-a-view-versus-a-copy\n",
      "  df_clean['sample_id'] = sample_id\n",
      "C:\\Users\\PC\\AppData\\Local\\Temp\\ipykernel_4980\\1846137033.py:69: SettingWithCopyWarning: \n",
      "A value is trying to be set on a copy of a slice from a DataFrame.\n",
      "Try using .loc[row_indexer,col_indexer] = value instead\n",
      "\n",
      "See the caveats in the documentation: https://pandas.pydata.org/pandas-docs/stable/user_guide/indexing.html#returning-a-view-versus-a-copy\n",
      "  df_clean['sample_id'] = sample_id\n"
     ]
    },
    {
     "name": "stdout",
     "output_type": "stream",
     "text": [
      "Finished processing sample: d7dc889e-649a-46e1-98ae-d4708c26930b.rna_seq.augmented_star_gene_counts, shape: (60660, 10)\n",
      "Reading file: C:\\Users\\PC\\Desktop\\gene-expression-cancer-prediction\\rna_seq\\8f4d34b3-5dd0-4ff2-b017-0cfa6e5c5f6b\\95e450bd-ff88-4498-9418-e09883c94988.rna_seq.augmented_star_gene_counts.tsv\n",
      "Processing sample: 95e450bd-ff88-4498-9418-e09883c94988.rna_seq.augmented_star_gene_counts\n",
      "Finished processing sample: 95e450bd-ff88-4498-9418-e09883c94988.rna_seq.augmented_star_gene_counts, shape: (60660, 10)\n",
      "Reading file: C:\\Users\\PC\\Desktop\\gene-expression-cancer-prediction\\rna_seq\\8fb0660c-fb39-47f0-8450-1f7abff3b656\\3334577a-8045-4613-9a1b-e79fd62d5d6d.rna_seq.augmented_star_gene_counts.tsv\n",
      "Processing sample: 3334577a-8045-4613-9a1b-e79fd62d5d6d.rna_seq.augmented_star_gene_counts\n"
     ]
    },
    {
     "name": "stderr",
     "output_type": "stream",
     "text": [
      "C:\\Users\\PC\\AppData\\Local\\Temp\\ipykernel_4980\\1846137033.py:69: SettingWithCopyWarning: \n",
      "A value is trying to be set on a copy of a slice from a DataFrame.\n",
      "Try using .loc[row_indexer,col_indexer] = value instead\n",
      "\n",
      "See the caveats in the documentation: https://pandas.pydata.org/pandas-docs/stable/user_guide/indexing.html#returning-a-view-versus-a-copy\n",
      "  df_clean['sample_id'] = sample_id\n",
      "C:\\Users\\PC\\AppData\\Local\\Temp\\ipykernel_4980\\1846137033.py:69: SettingWithCopyWarning: \n",
      "A value is trying to be set on a copy of a slice from a DataFrame.\n",
      "Try using .loc[row_indexer,col_indexer] = value instead\n",
      "\n",
      "See the caveats in the documentation: https://pandas.pydata.org/pandas-docs/stable/user_guide/indexing.html#returning-a-view-versus-a-copy\n",
      "  df_clean['sample_id'] = sample_id\n"
     ]
    },
    {
     "name": "stdout",
     "output_type": "stream",
     "text": [
      "Finished processing sample: 3334577a-8045-4613-9a1b-e79fd62d5d6d.rna_seq.augmented_star_gene_counts, shape: (60660, 10)\n",
      "Reading file: C:\\Users\\PC\\Desktop\\gene-expression-cancer-prediction\\rna_seq\\90452523-0f9a-4c14-9d5f-e44f7079fb18\\38387a4f-c65d-4075-8133-fdf259e919ed.rna_seq.augmented_star_gene_counts.tsv\n",
      "Processing sample: 38387a4f-c65d-4075-8133-fdf259e919ed.rna_seq.augmented_star_gene_counts\n",
      "Finished processing sample: 38387a4f-c65d-4075-8133-fdf259e919ed.rna_seq.augmented_star_gene_counts, shape: (60660, 10)\n",
      "Reading file: C:\\Users\\PC\\Desktop\\gene-expression-cancer-prediction\\rna_seq\\9054231e-9b1f-4ee4-b22c-1e9dbfdcfc03\\06ce7b93-1264-4219-8a2f-d8f0d295e45f.rna_seq.augmented_star_gene_counts.tsv\n",
      "Processing sample: 06ce7b93-1264-4219-8a2f-d8f0d295e45f.rna_seq.augmented_star_gene_counts\n"
     ]
    },
    {
     "name": "stderr",
     "output_type": "stream",
     "text": [
      "C:\\Users\\PC\\AppData\\Local\\Temp\\ipykernel_4980\\1846137033.py:69: SettingWithCopyWarning: \n",
      "A value is trying to be set on a copy of a slice from a DataFrame.\n",
      "Try using .loc[row_indexer,col_indexer] = value instead\n",
      "\n",
      "See the caveats in the documentation: https://pandas.pydata.org/pandas-docs/stable/user_guide/indexing.html#returning-a-view-versus-a-copy\n",
      "  df_clean['sample_id'] = sample_id\n",
      "C:\\Users\\PC\\AppData\\Local\\Temp\\ipykernel_4980\\1846137033.py:69: SettingWithCopyWarning: \n",
      "A value is trying to be set on a copy of a slice from a DataFrame.\n",
      "Try using .loc[row_indexer,col_indexer] = value instead\n",
      "\n",
      "See the caveats in the documentation: https://pandas.pydata.org/pandas-docs/stable/user_guide/indexing.html#returning-a-view-versus-a-copy\n",
      "  df_clean['sample_id'] = sample_id\n"
     ]
    },
    {
     "name": "stdout",
     "output_type": "stream",
     "text": [
      "Finished processing sample: 06ce7b93-1264-4219-8a2f-d8f0d295e45f.rna_seq.augmented_star_gene_counts, shape: (60660, 10)\n",
      "Reading file: C:\\Users\\PC\\Desktop\\gene-expression-cancer-prediction\\rna_seq\\90cb5f76-ec86-4532-8352-e6622ef24980\\01900aab-4c12-4198-b41f-ff638e5abe3b.rna_seq.augmented_star_gene_counts.tsv\n",
      "Processing sample: 01900aab-4c12-4198-b41f-ff638e5abe3b.rna_seq.augmented_star_gene_counts\n",
      "Finished processing sample: 01900aab-4c12-4198-b41f-ff638e5abe3b.rna_seq.augmented_star_gene_counts, shape: (60660, 10)\n",
      "Reading file: C:\\Users\\PC\\Desktop\\gene-expression-cancer-prediction\\rna_seq\\90e074a0-ca6d-4031-aa26-f79e5c662ba7\\9c2ed2bb-8ee1-441e-9f3b-ffbb4def2673.rna_seq.augmented_star_gene_counts.tsv\n",
      "Processing sample: 9c2ed2bb-8ee1-441e-9f3b-ffbb4def2673.rna_seq.augmented_star_gene_counts\n"
     ]
    },
    {
     "name": "stderr",
     "output_type": "stream",
     "text": [
      "C:\\Users\\PC\\AppData\\Local\\Temp\\ipykernel_4980\\1846137033.py:69: SettingWithCopyWarning: \n",
      "A value is trying to be set on a copy of a slice from a DataFrame.\n",
      "Try using .loc[row_indexer,col_indexer] = value instead\n",
      "\n",
      "See the caveats in the documentation: https://pandas.pydata.org/pandas-docs/stable/user_guide/indexing.html#returning-a-view-versus-a-copy\n",
      "  df_clean['sample_id'] = sample_id\n",
      "C:\\Users\\PC\\AppData\\Local\\Temp\\ipykernel_4980\\1846137033.py:69: SettingWithCopyWarning: \n",
      "A value is trying to be set on a copy of a slice from a DataFrame.\n",
      "Try using .loc[row_indexer,col_indexer] = value instead\n",
      "\n",
      "See the caveats in the documentation: https://pandas.pydata.org/pandas-docs/stable/user_guide/indexing.html#returning-a-view-versus-a-copy\n",
      "  df_clean['sample_id'] = sample_id\n"
     ]
    },
    {
     "name": "stdout",
     "output_type": "stream",
     "text": [
      "Finished processing sample: 9c2ed2bb-8ee1-441e-9f3b-ffbb4def2673.rna_seq.augmented_star_gene_counts, shape: (60660, 10)\n",
      "Reading file: C:\\Users\\PC\\Desktop\\gene-expression-cancer-prediction\\rna_seq\\90eefb33-6808-45c3-9ab1-6eca0decdc9d\\71c9a6fc-0538-4533-af51-f7c9defe7770.rna_seq.augmented_star_gene_counts.tsv\n",
      "Processing sample: 71c9a6fc-0538-4533-af51-f7c9defe7770.rna_seq.augmented_star_gene_counts\n",
      "Finished processing sample: 71c9a6fc-0538-4533-af51-f7c9defe7770.rna_seq.augmented_star_gene_counts, shape: (60660, 10)\n",
      "Reading file: C:\\Users\\PC\\Desktop\\gene-expression-cancer-prediction\\rna_seq\\91060c43-f1e3-49ea-a3c9-96def417716b\\caf3d917-623d-4e2a-ac0a-521415385763.rna_seq.augmented_star_gene_counts.tsv\n",
      "Processing sample: caf3d917-623d-4e2a-ac0a-521415385763.rna_seq.augmented_star_gene_counts\n"
     ]
    },
    {
     "name": "stderr",
     "output_type": "stream",
     "text": [
      "C:\\Users\\PC\\AppData\\Local\\Temp\\ipykernel_4980\\1846137033.py:69: SettingWithCopyWarning: \n",
      "A value is trying to be set on a copy of a slice from a DataFrame.\n",
      "Try using .loc[row_indexer,col_indexer] = value instead\n",
      "\n",
      "See the caveats in the documentation: https://pandas.pydata.org/pandas-docs/stable/user_guide/indexing.html#returning-a-view-versus-a-copy\n",
      "  df_clean['sample_id'] = sample_id\n",
      "C:\\Users\\PC\\AppData\\Local\\Temp\\ipykernel_4980\\1846137033.py:69: SettingWithCopyWarning: \n",
      "A value is trying to be set on a copy of a slice from a DataFrame.\n",
      "Try using .loc[row_indexer,col_indexer] = value instead\n",
      "\n",
      "See the caveats in the documentation: https://pandas.pydata.org/pandas-docs/stable/user_guide/indexing.html#returning-a-view-versus-a-copy\n",
      "  df_clean['sample_id'] = sample_id\n"
     ]
    },
    {
     "name": "stdout",
     "output_type": "stream",
     "text": [
      "Finished processing sample: caf3d917-623d-4e2a-ac0a-521415385763.rna_seq.augmented_star_gene_counts, shape: (60660, 10)\n",
      "Reading file: C:\\Users\\PC\\Desktop\\gene-expression-cancer-prediction\\rna_seq\\91577462-386f-43eb-88e1-859c1d74763c\\6ddc13fe-e8e0-4fb1-88df-c068fe87b5cb.rna_seq.augmented_star_gene_counts.tsv\n",
      "Processing sample: 6ddc13fe-e8e0-4fb1-88df-c068fe87b5cb.rna_seq.augmented_star_gene_counts\n",
      "Finished processing sample: 6ddc13fe-e8e0-4fb1-88df-c068fe87b5cb.rna_seq.augmented_star_gene_counts, shape: (60660, 10)\n",
      "Reading file: C:\\Users\\PC\\Desktop\\gene-expression-cancer-prediction\\rna_seq\\9218f3a6-1ae1-4898-8be4-2335a204aae7\\c5c93338-4046-4247-b5c2-ef133609797e.rna_seq.augmented_star_gene_counts.tsv\n",
      "Processing sample: c5c93338-4046-4247-b5c2-ef133609797e.rna_seq.augmented_star_gene_counts\n"
     ]
    },
    {
     "name": "stderr",
     "output_type": "stream",
     "text": [
      "C:\\Users\\PC\\AppData\\Local\\Temp\\ipykernel_4980\\1846137033.py:69: SettingWithCopyWarning: \n",
      "A value is trying to be set on a copy of a slice from a DataFrame.\n",
      "Try using .loc[row_indexer,col_indexer] = value instead\n",
      "\n",
      "See the caveats in the documentation: https://pandas.pydata.org/pandas-docs/stable/user_guide/indexing.html#returning-a-view-versus-a-copy\n",
      "  df_clean['sample_id'] = sample_id\n",
      "C:\\Users\\PC\\AppData\\Local\\Temp\\ipykernel_4980\\1846137033.py:69: SettingWithCopyWarning: \n",
      "A value is trying to be set on a copy of a slice from a DataFrame.\n",
      "Try using .loc[row_indexer,col_indexer] = value instead\n",
      "\n",
      "See the caveats in the documentation: https://pandas.pydata.org/pandas-docs/stable/user_guide/indexing.html#returning-a-view-versus-a-copy\n",
      "  df_clean['sample_id'] = sample_id\n",
      "C:\\Users\\PC\\AppData\\Local\\Temp\\ipykernel_4980\\1846137033.py:69: SettingWithCopyWarning: \n",
      "A value is trying to be set on a copy of a slice from a DataFrame.\n",
      "Try using .loc[row_indexer,col_indexer] = value instead\n",
      "\n",
      "See the caveats in the documentation: https://pandas.pydata.org/pandas-docs/stable/user_guide/indexing.html#returning-a-view-versus-a-copy\n",
      "  df_clean['sample_id'] = sample_id\n"
     ]
    },
    {
     "name": "stdout",
     "output_type": "stream",
     "text": [
      "Finished processing sample: c5c93338-4046-4247-b5c2-ef133609797e.rna_seq.augmented_star_gene_counts, shape: (60660, 10)\n",
      "Reading file: C:\\Users\\PC\\Desktop\\gene-expression-cancer-prediction\\rna_seq\\92431faf-af89-4f25-be07-61ac770b9633\\f4bbad06-fb0c-4064-8a05-18b30a16207a.rna_seq.augmented_star_gene_counts.tsv\n",
      "Processing sample: f4bbad06-fb0c-4064-8a05-18b30a16207a.rna_seq.augmented_star_gene_counts\n",
      "Finished processing sample: f4bbad06-fb0c-4064-8a05-18b30a16207a.rna_seq.augmented_star_gene_counts, shape: (60660, 10)\n",
      "Reading file: C:\\Users\\PC\\Desktop\\gene-expression-cancer-prediction\\rna_seq\\92dd3ded-2b51-4d1d-8c8a-09ed1f0b16ed\\68bb844b-1bd7-4828-97d0-e284a7998cbf.rna_seq.augmented_star_gene_counts.tsv\n",
      "Processing sample: 68bb844b-1bd7-4828-97d0-e284a7998cbf.rna_seq.augmented_star_gene_counts\n"
     ]
    },
    {
     "name": "stderr",
     "output_type": "stream",
     "text": [
      "C:\\Users\\PC\\AppData\\Local\\Temp\\ipykernel_4980\\1846137033.py:69: SettingWithCopyWarning: \n",
      "A value is trying to be set on a copy of a slice from a DataFrame.\n",
      "Try using .loc[row_indexer,col_indexer] = value instead\n",
      "\n",
      "See the caveats in the documentation: https://pandas.pydata.org/pandas-docs/stable/user_guide/indexing.html#returning-a-view-versus-a-copy\n",
      "  df_clean['sample_id'] = sample_id\n",
      "C:\\Users\\PC\\AppData\\Local\\Temp\\ipykernel_4980\\1846137033.py:69: SettingWithCopyWarning: \n",
      "A value is trying to be set on a copy of a slice from a DataFrame.\n",
      "Try using .loc[row_indexer,col_indexer] = value instead\n",
      "\n",
      "See the caveats in the documentation: https://pandas.pydata.org/pandas-docs/stable/user_guide/indexing.html#returning-a-view-versus-a-copy\n",
      "  df_clean['sample_id'] = sample_id\n"
     ]
    },
    {
     "name": "stdout",
     "output_type": "stream",
     "text": [
      "Finished processing sample: 68bb844b-1bd7-4828-97d0-e284a7998cbf.rna_seq.augmented_star_gene_counts, shape: (60660, 10)\n",
      "Reading file: C:\\Users\\PC\\Desktop\\gene-expression-cancer-prediction\\rna_seq\\931442ba-af81-4b68-beca-7285fc44b1df\\f2dda955-5a39-43c1-93a2-83953b2b91d1.rna_seq.augmented_star_gene_counts.tsv\n",
      "Processing sample: f2dda955-5a39-43c1-93a2-83953b2b91d1.rna_seq.augmented_star_gene_counts\n",
      "Finished processing sample: f2dda955-5a39-43c1-93a2-83953b2b91d1.rna_seq.augmented_star_gene_counts, shape: (60660, 10)\n",
      "Reading file: C:\\Users\\PC\\Desktop\\gene-expression-cancer-prediction\\rna_seq\\934aa789-6d42-4b2d-8a74-7d482d79ed8b\\0c80ffec-6290-4b81-9dba-cb64d142b8a8.rna_seq.augmented_star_gene_counts.tsv\n",
      "Processing sample: 0c80ffec-6290-4b81-9dba-cb64d142b8a8.rna_seq.augmented_star_gene_counts\n"
     ]
    },
    {
     "name": "stderr",
     "output_type": "stream",
     "text": [
      "C:\\Users\\PC\\AppData\\Local\\Temp\\ipykernel_4980\\1846137033.py:69: SettingWithCopyWarning: \n",
      "A value is trying to be set on a copy of a slice from a DataFrame.\n",
      "Try using .loc[row_indexer,col_indexer] = value instead\n",
      "\n",
      "See the caveats in the documentation: https://pandas.pydata.org/pandas-docs/stable/user_guide/indexing.html#returning-a-view-versus-a-copy\n",
      "  df_clean['sample_id'] = sample_id\n",
      "C:\\Users\\PC\\AppData\\Local\\Temp\\ipykernel_4980\\1846137033.py:69: SettingWithCopyWarning: \n",
      "A value is trying to be set on a copy of a slice from a DataFrame.\n",
      "Try using .loc[row_indexer,col_indexer] = value instead\n",
      "\n",
      "See the caveats in the documentation: https://pandas.pydata.org/pandas-docs/stable/user_guide/indexing.html#returning-a-view-versus-a-copy\n",
      "  df_clean['sample_id'] = sample_id\n"
     ]
    },
    {
     "name": "stdout",
     "output_type": "stream",
     "text": [
      "Finished processing sample: 0c80ffec-6290-4b81-9dba-cb64d142b8a8.rna_seq.augmented_star_gene_counts, shape: (60660, 10)\n",
      "Reading file: C:\\Users\\PC\\Desktop\\gene-expression-cancer-prediction\\rna_seq\\9415696a-44d9-477f-aba3-0a30ded48778\\3c3c4741-8eda-46fe-8d36-2cd683f4a987.rna_seq.augmented_star_gene_counts.tsv\n",
      "Processing sample: 3c3c4741-8eda-46fe-8d36-2cd683f4a987.rna_seq.augmented_star_gene_counts\n",
      "Finished processing sample: 3c3c4741-8eda-46fe-8d36-2cd683f4a987.rna_seq.augmented_star_gene_counts, shape: (60660, 10)\n",
      "Reading file: C:\\Users\\PC\\Desktop\\gene-expression-cancer-prediction\\rna_seq\\94468afc-faea-4091-af0f-d2df8aec37da\\0781a18f-ce2a-478f-945e-49b2b8d7d941.rna_seq.augmented_star_gene_counts.tsv\n",
      "Processing sample: 0781a18f-ce2a-478f-945e-49b2b8d7d941.rna_seq.augmented_star_gene_counts\n"
     ]
    },
    {
     "name": "stderr",
     "output_type": "stream",
     "text": [
      "C:\\Users\\PC\\AppData\\Local\\Temp\\ipykernel_4980\\1846137033.py:69: SettingWithCopyWarning: \n",
      "A value is trying to be set on a copy of a slice from a DataFrame.\n",
      "Try using .loc[row_indexer,col_indexer] = value instead\n",
      "\n",
      "See the caveats in the documentation: https://pandas.pydata.org/pandas-docs/stable/user_guide/indexing.html#returning-a-view-versus-a-copy\n",
      "  df_clean['sample_id'] = sample_id\n",
      "C:\\Users\\PC\\AppData\\Local\\Temp\\ipykernel_4980\\1846137033.py:69: SettingWithCopyWarning: \n",
      "A value is trying to be set on a copy of a slice from a DataFrame.\n",
      "Try using .loc[row_indexer,col_indexer] = value instead\n",
      "\n",
      "See the caveats in the documentation: https://pandas.pydata.org/pandas-docs/stable/user_guide/indexing.html#returning-a-view-versus-a-copy\n",
      "  df_clean['sample_id'] = sample_id\n"
     ]
    },
    {
     "name": "stdout",
     "output_type": "stream",
     "text": [
      "Finished processing sample: 0781a18f-ce2a-478f-945e-49b2b8d7d941.rna_seq.augmented_star_gene_counts, shape: (60660, 10)\n",
      "Reading file: C:\\Users\\PC\\Desktop\\gene-expression-cancer-prediction\\rna_seq\\94ae90d4-16a8-4922-b6b6-e5fcec9d0ae6\\f1d01b35-7a63-48c1-82ae-a9684906ef65.rna_seq.augmented_star_gene_counts.tsv\n",
      "Processing sample: f1d01b35-7a63-48c1-82ae-a9684906ef65.rna_seq.augmented_star_gene_counts\n",
      "Finished processing sample: f1d01b35-7a63-48c1-82ae-a9684906ef65.rna_seq.augmented_star_gene_counts, shape: (60660, 10)\n",
      "Reading file: C:\\Users\\PC\\Desktop\\gene-expression-cancer-prediction\\rna_seq\\95668f0b-130d-44d4-94c0-ba7a4e7798e6\\6365a756-2e65-42cb-be4f-1f726915ca94.rna_seq.augmented_star_gene_counts.tsv\n",
      "Processing sample: 6365a756-2e65-42cb-be4f-1f726915ca94.rna_seq.augmented_star_gene_counts\n"
     ]
    },
    {
     "name": "stderr",
     "output_type": "stream",
     "text": [
      "C:\\Users\\PC\\AppData\\Local\\Temp\\ipykernel_4980\\1846137033.py:69: SettingWithCopyWarning: \n",
      "A value is trying to be set on a copy of a slice from a DataFrame.\n",
      "Try using .loc[row_indexer,col_indexer] = value instead\n",
      "\n",
      "See the caveats in the documentation: https://pandas.pydata.org/pandas-docs/stable/user_guide/indexing.html#returning-a-view-versus-a-copy\n",
      "  df_clean['sample_id'] = sample_id\n",
      "C:\\Users\\PC\\AppData\\Local\\Temp\\ipykernel_4980\\1846137033.py:69: SettingWithCopyWarning: \n",
      "A value is trying to be set on a copy of a slice from a DataFrame.\n",
      "Try using .loc[row_indexer,col_indexer] = value instead\n",
      "\n",
      "See the caveats in the documentation: https://pandas.pydata.org/pandas-docs/stable/user_guide/indexing.html#returning-a-view-versus-a-copy\n",
      "  df_clean['sample_id'] = sample_id\n"
     ]
    },
    {
     "name": "stdout",
     "output_type": "stream",
     "text": [
      "Finished processing sample: 6365a756-2e65-42cb-be4f-1f726915ca94.rna_seq.augmented_star_gene_counts, shape: (60660, 10)\n",
      "Reading file: C:\\Users\\PC\\Desktop\\gene-expression-cancer-prediction\\rna_seq\\9568dc22-f91c-44dd-95ec-370466ee64c3\\17985496-652a-4034-997b-b888d97316e3.rna_seq.augmented_star_gene_counts.tsv\n",
      "Processing sample: 17985496-652a-4034-997b-b888d97316e3.rna_seq.augmented_star_gene_counts\n",
      "Finished processing sample: 17985496-652a-4034-997b-b888d97316e3.rna_seq.augmented_star_gene_counts, shape: (60660, 10)\n",
      "Reading file: C:\\Users\\PC\\Desktop\\gene-expression-cancer-prediction\\rna_seq\\95775d9a-4f7f-47c9-806b-acea8e01d40e\\29789e2c-1555-46e0-8e17-8a252933d84d.rna_seq.augmented_star_gene_counts.tsv\n",
      "Processing sample: 29789e2c-1555-46e0-8e17-8a252933d84d.rna_seq.augmented_star_gene_counts\n"
     ]
    },
    {
     "name": "stderr",
     "output_type": "stream",
     "text": [
      "C:\\Users\\PC\\AppData\\Local\\Temp\\ipykernel_4980\\1846137033.py:69: SettingWithCopyWarning: \n",
      "A value is trying to be set on a copy of a slice from a DataFrame.\n",
      "Try using .loc[row_indexer,col_indexer] = value instead\n",
      "\n",
      "See the caveats in the documentation: https://pandas.pydata.org/pandas-docs/stable/user_guide/indexing.html#returning-a-view-versus-a-copy\n",
      "  df_clean['sample_id'] = sample_id\n",
      "C:\\Users\\PC\\AppData\\Local\\Temp\\ipykernel_4980\\1846137033.py:69: SettingWithCopyWarning: \n",
      "A value is trying to be set on a copy of a slice from a DataFrame.\n",
      "Try using .loc[row_indexer,col_indexer] = value instead\n",
      "\n",
      "See the caveats in the documentation: https://pandas.pydata.org/pandas-docs/stable/user_guide/indexing.html#returning-a-view-versus-a-copy\n",
      "  df_clean['sample_id'] = sample_id\n"
     ]
    },
    {
     "name": "stdout",
     "output_type": "stream",
     "text": [
      "Finished processing sample: 29789e2c-1555-46e0-8e17-8a252933d84d.rna_seq.augmented_star_gene_counts, shape: (60660, 10)\n",
      "Reading file: C:\\Users\\PC\\Desktop\\gene-expression-cancer-prediction\\rna_seq\\9684fb22-becb-44dc-8d84-4c8540507c8c\\13295142-1853-417f-a798-60c41fd90166.rna_seq.augmented_star_gene_counts.tsv\n",
      "Processing sample: 13295142-1853-417f-a798-60c41fd90166.rna_seq.augmented_star_gene_counts\n",
      "Finished processing sample: 13295142-1853-417f-a798-60c41fd90166.rna_seq.augmented_star_gene_counts, shape: (60660, 10)\n",
      "Reading file: C:\\Users\\PC\\Desktop\\gene-expression-cancer-prediction\\rna_seq\\97387357-c741-43a6-9b3a-55c925f9a516\\6e79eeb3-9eae-45f4-92a5-fba71c154c1a.rna_seq.augmented_star_gene_counts.tsv\n",
      "Processing sample: 6e79eeb3-9eae-45f4-92a5-fba71c154c1a.rna_seq.augmented_star_gene_counts\n"
     ]
    },
    {
     "name": "stderr",
     "output_type": "stream",
     "text": [
      "C:\\Users\\PC\\AppData\\Local\\Temp\\ipykernel_4980\\1846137033.py:69: SettingWithCopyWarning: \n",
      "A value is trying to be set on a copy of a slice from a DataFrame.\n",
      "Try using .loc[row_indexer,col_indexer] = value instead\n",
      "\n",
      "See the caveats in the documentation: https://pandas.pydata.org/pandas-docs/stable/user_guide/indexing.html#returning-a-view-versus-a-copy\n",
      "  df_clean['sample_id'] = sample_id\n",
      "C:\\Users\\PC\\AppData\\Local\\Temp\\ipykernel_4980\\1846137033.py:69: SettingWithCopyWarning: \n",
      "A value is trying to be set on a copy of a slice from a DataFrame.\n",
      "Try using .loc[row_indexer,col_indexer] = value instead\n",
      "\n",
      "See the caveats in the documentation: https://pandas.pydata.org/pandas-docs/stable/user_guide/indexing.html#returning-a-view-versus-a-copy\n",
      "  df_clean['sample_id'] = sample_id\n"
     ]
    },
    {
     "name": "stdout",
     "output_type": "stream",
     "text": [
      "Finished processing sample: 6e79eeb3-9eae-45f4-92a5-fba71c154c1a.rna_seq.augmented_star_gene_counts, shape: (60660, 10)\n",
      "Reading file: C:\\Users\\PC\\Desktop\\gene-expression-cancer-prediction\\rna_seq\\9765934d-d954-485c-abfe-b9db59f18193\\956570e5-7ed4-4d17-a830-f1bc67a7af15.rna_seq.augmented_star_gene_counts.tsv\n",
      "Processing sample: 956570e5-7ed4-4d17-a830-f1bc67a7af15.rna_seq.augmented_star_gene_counts\n",
      "Finished processing sample: 956570e5-7ed4-4d17-a830-f1bc67a7af15.rna_seq.augmented_star_gene_counts, shape: (60660, 10)\n",
      "Reading file: C:\\Users\\PC\\Desktop\\gene-expression-cancer-prediction\\rna_seq\\97dbbbc5-cd1a-4bb8-99c5-600870ccd35d\\c23d56d0-f27a-48db-b10a-f572b50ef245.rna_seq.augmented_star_gene_counts.tsv\n",
      "Processing sample: c23d56d0-f27a-48db-b10a-f572b50ef245.rna_seq.augmented_star_gene_counts\n"
     ]
    },
    {
     "name": "stderr",
     "output_type": "stream",
     "text": [
      "C:\\Users\\PC\\AppData\\Local\\Temp\\ipykernel_4980\\1846137033.py:69: SettingWithCopyWarning: \n",
      "A value is trying to be set on a copy of a slice from a DataFrame.\n",
      "Try using .loc[row_indexer,col_indexer] = value instead\n",
      "\n",
      "See the caveats in the documentation: https://pandas.pydata.org/pandas-docs/stable/user_guide/indexing.html#returning-a-view-versus-a-copy\n",
      "  df_clean['sample_id'] = sample_id\n"
     ]
    },
    {
     "name": "stdout",
     "output_type": "stream",
     "text": [
      "Finished processing sample: c23d56d0-f27a-48db-b10a-f572b50ef245.rna_seq.augmented_star_gene_counts, shape: (60660, 10)\n",
      "Reading file: C:\\Users\\PC\\Desktop\\gene-expression-cancer-prediction\\rna_seq\\97dd05b6-58a9-43ab-9e03-faa105d2a700\\40a4fc74-f345-4940-be5c-249013782e4f.rna_seq.augmented_star_gene_counts.tsv\n",
      "Processing sample: 40a4fc74-f345-4940-be5c-249013782e4f.rna_seq.augmented_star_gene_counts\n"
     ]
    },
    {
     "name": "stderr",
     "output_type": "stream",
     "text": [
      "C:\\Users\\PC\\AppData\\Local\\Temp\\ipykernel_4980\\1846137033.py:69: SettingWithCopyWarning: \n",
      "A value is trying to be set on a copy of a slice from a DataFrame.\n",
      "Try using .loc[row_indexer,col_indexer] = value instead\n",
      "\n",
      "See the caveats in the documentation: https://pandas.pydata.org/pandas-docs/stable/user_guide/indexing.html#returning-a-view-versus-a-copy\n",
      "  df_clean['sample_id'] = sample_id\n",
      "C:\\Users\\PC\\AppData\\Local\\Temp\\ipykernel_4980\\1846137033.py:69: SettingWithCopyWarning: \n",
      "A value is trying to be set on a copy of a slice from a DataFrame.\n",
      "Try using .loc[row_indexer,col_indexer] = value instead\n",
      "\n",
      "See the caveats in the documentation: https://pandas.pydata.org/pandas-docs/stable/user_guide/indexing.html#returning-a-view-versus-a-copy\n",
      "  df_clean['sample_id'] = sample_id\n"
     ]
    },
    {
     "name": "stdout",
     "output_type": "stream",
     "text": [
      "Finished processing sample: 40a4fc74-f345-4940-be5c-249013782e4f.rna_seq.augmented_star_gene_counts, shape: (60660, 10)\n",
      "Reading file: C:\\Users\\PC\\Desktop\\gene-expression-cancer-prediction\\rna_seq\\98320692-9c1c-4ed3-9ea1-72f098c03049\\7880b3ba-9f39-4744-be72-b87dbd8eb425.rna_seq.augmented_star_gene_counts.tsv\n",
      "Processing sample: 7880b3ba-9f39-4744-be72-b87dbd8eb425.rna_seq.augmented_star_gene_counts\n",
      "Finished processing sample: 7880b3ba-9f39-4744-be72-b87dbd8eb425.rna_seq.augmented_star_gene_counts, shape: (60660, 10)\n",
      "Reading file: C:\\Users\\PC\\Desktop\\gene-expression-cancer-prediction\\rna_seq\\987603ab-513b-44d6-8b8e-344fd299a81a\\204cf188-2162-43ac-bad4-8304622f3090.rna_seq.augmented_star_gene_counts.tsv\n",
      "Processing sample: 204cf188-2162-43ac-bad4-8304622f3090.rna_seq.augmented_star_gene_counts\n"
     ]
    },
    {
     "name": "stderr",
     "output_type": "stream",
     "text": [
      "C:\\Users\\PC\\AppData\\Local\\Temp\\ipykernel_4980\\1846137033.py:69: SettingWithCopyWarning: \n",
      "A value is trying to be set on a copy of a slice from a DataFrame.\n",
      "Try using .loc[row_indexer,col_indexer] = value instead\n",
      "\n",
      "See the caveats in the documentation: https://pandas.pydata.org/pandas-docs/stable/user_guide/indexing.html#returning-a-view-versus-a-copy\n",
      "  df_clean['sample_id'] = sample_id\n",
      "C:\\Users\\PC\\AppData\\Local\\Temp\\ipykernel_4980\\1846137033.py:69: SettingWithCopyWarning: \n",
      "A value is trying to be set on a copy of a slice from a DataFrame.\n",
      "Try using .loc[row_indexer,col_indexer] = value instead\n",
      "\n",
      "See the caveats in the documentation: https://pandas.pydata.org/pandas-docs/stable/user_guide/indexing.html#returning-a-view-versus-a-copy\n",
      "  df_clean['sample_id'] = sample_id\n"
     ]
    },
    {
     "name": "stdout",
     "output_type": "stream",
     "text": [
      "Finished processing sample: 204cf188-2162-43ac-bad4-8304622f3090.rna_seq.augmented_star_gene_counts, shape: (60660, 10)\n",
      "Reading file: C:\\Users\\PC\\Desktop\\gene-expression-cancer-prediction\\rna_seq\\987d401a-3e68-414e-8067-afe277b02fad\\f6f90b5a-51c6-4402-aab5-081f5e2931a0.rna_seq.augmented_star_gene_counts.tsv\n",
      "Processing sample: f6f90b5a-51c6-4402-aab5-081f5e2931a0.rna_seq.augmented_star_gene_counts\n",
      "Finished processing sample: f6f90b5a-51c6-4402-aab5-081f5e2931a0.rna_seq.augmented_star_gene_counts, shape: (60660, 10)\n",
      "Reading file: C:\\Users\\PC\\Desktop\\gene-expression-cancer-prediction\\rna_seq\\98ca3aa5-f509-4e55-a184-12e44c8c8464\\0361ec21-e83f-40a9-b825-d92487b1239a.rna_seq.augmented_star_gene_counts.tsv\n",
      "Processing sample: 0361ec21-e83f-40a9-b825-d92487b1239a.rna_seq.augmented_star_gene_counts\n"
     ]
    },
    {
     "name": "stderr",
     "output_type": "stream",
     "text": [
      "C:\\Users\\PC\\AppData\\Local\\Temp\\ipykernel_4980\\1846137033.py:69: SettingWithCopyWarning: \n",
      "A value is trying to be set on a copy of a slice from a DataFrame.\n",
      "Try using .loc[row_indexer,col_indexer] = value instead\n",
      "\n",
      "See the caveats in the documentation: https://pandas.pydata.org/pandas-docs/stable/user_guide/indexing.html#returning-a-view-versus-a-copy\n",
      "  df_clean['sample_id'] = sample_id\n",
      "C:\\Users\\PC\\AppData\\Local\\Temp\\ipykernel_4980\\1846137033.py:69: SettingWithCopyWarning: \n",
      "A value is trying to be set on a copy of a slice from a DataFrame.\n",
      "Try using .loc[row_indexer,col_indexer] = value instead\n",
      "\n",
      "See the caveats in the documentation: https://pandas.pydata.org/pandas-docs/stable/user_guide/indexing.html#returning-a-view-versus-a-copy\n",
      "  df_clean['sample_id'] = sample_id\n"
     ]
    },
    {
     "name": "stdout",
     "output_type": "stream",
     "text": [
      "Finished processing sample: 0361ec21-e83f-40a9-b825-d92487b1239a.rna_seq.augmented_star_gene_counts, shape: (60660, 10)\n",
      "Reading file: C:\\Users\\PC\\Desktop\\gene-expression-cancer-prediction\\rna_seq\\98dc2008-d132-4a88-b428-45b0f715b296\\d769bce5-c92f-472f-8bb8-4bf4593e29d7.rna_seq.augmented_star_gene_counts.tsv\n",
      "Processing sample: d769bce5-c92f-472f-8bb8-4bf4593e29d7.rna_seq.augmented_star_gene_counts\n",
      "Finished processing sample: d769bce5-c92f-472f-8bb8-4bf4593e29d7.rna_seq.augmented_star_gene_counts, shape: (60660, 10)\n",
      "Reading file: C:\\Users\\PC\\Desktop\\gene-expression-cancer-prediction\\rna_seq\\99502a82-c77e-482b-8589-82d9ef82d5d1\\79beb4e0-5066-481f-b432-94d69219bfe8.rna_seq.augmented_star_gene_counts.tsv\n",
      "Processing sample: 79beb4e0-5066-481f-b432-94d69219bfe8.rna_seq.augmented_star_gene_counts\n"
     ]
    },
    {
     "name": "stderr",
     "output_type": "stream",
     "text": [
      "C:\\Users\\PC\\AppData\\Local\\Temp\\ipykernel_4980\\1846137033.py:69: SettingWithCopyWarning: \n",
      "A value is trying to be set on a copy of a slice from a DataFrame.\n",
      "Try using .loc[row_indexer,col_indexer] = value instead\n",
      "\n",
      "See the caveats in the documentation: https://pandas.pydata.org/pandas-docs/stable/user_guide/indexing.html#returning-a-view-versus-a-copy\n",
      "  df_clean['sample_id'] = sample_id\n",
      "C:\\Users\\PC\\AppData\\Local\\Temp\\ipykernel_4980\\1846137033.py:69: SettingWithCopyWarning: \n",
      "A value is trying to be set on a copy of a slice from a DataFrame.\n",
      "Try using .loc[row_indexer,col_indexer] = value instead\n",
      "\n",
      "See the caveats in the documentation: https://pandas.pydata.org/pandas-docs/stable/user_guide/indexing.html#returning-a-view-versus-a-copy\n",
      "  df_clean['sample_id'] = sample_id\n"
     ]
    },
    {
     "name": "stdout",
     "output_type": "stream",
     "text": [
      "Finished processing sample: 79beb4e0-5066-481f-b432-94d69219bfe8.rna_seq.augmented_star_gene_counts, shape: (60660, 10)\n",
      "Reading file: C:\\Users\\PC\\Desktop\\gene-expression-cancer-prediction\\rna_seq\\99ce2ebd-7a50-4808-ba75-8626ad6d7cfd\\8229679f-179d-42b8-a9e7-7d733fe9969e.rna_seq.augmented_star_gene_counts.tsv\n",
      "Processing sample: 8229679f-179d-42b8-a9e7-7d733fe9969e.rna_seq.augmented_star_gene_counts\n",
      "Finished processing sample: 8229679f-179d-42b8-a9e7-7d733fe9969e.rna_seq.augmented_star_gene_counts, shape: (60660, 10)\n",
      "Reading file: C:\\Users\\PC\\Desktop\\gene-expression-cancer-prediction\\rna_seq\\9a1c9a5a-7b3f-463b-bc9c-e06107b2aeb7\\ecdac97e-eec5-4753-a572-8aff707178e5.rna_seq.augmented_star_gene_counts.tsv\n",
      "Processing sample: ecdac97e-eec5-4753-a572-8aff707178e5.rna_seq.augmented_star_gene_counts\n"
     ]
    },
    {
     "name": "stderr",
     "output_type": "stream",
     "text": [
      "C:\\Users\\PC\\AppData\\Local\\Temp\\ipykernel_4980\\1846137033.py:69: SettingWithCopyWarning: \n",
      "A value is trying to be set on a copy of a slice from a DataFrame.\n",
      "Try using .loc[row_indexer,col_indexer] = value instead\n",
      "\n",
      "See the caveats in the documentation: https://pandas.pydata.org/pandas-docs/stable/user_guide/indexing.html#returning-a-view-versus-a-copy\n",
      "  df_clean['sample_id'] = sample_id\n",
      "C:\\Users\\PC\\AppData\\Local\\Temp\\ipykernel_4980\\1846137033.py:69: SettingWithCopyWarning: \n",
      "A value is trying to be set on a copy of a slice from a DataFrame.\n",
      "Try using .loc[row_indexer,col_indexer] = value instead\n",
      "\n",
      "See the caveats in the documentation: https://pandas.pydata.org/pandas-docs/stable/user_guide/indexing.html#returning-a-view-versus-a-copy\n",
      "  df_clean['sample_id'] = sample_id\n"
     ]
    },
    {
     "name": "stdout",
     "output_type": "stream",
     "text": [
      "Finished processing sample: ecdac97e-eec5-4753-a572-8aff707178e5.rna_seq.augmented_star_gene_counts, shape: (60660, 10)\n",
      "Reading file: C:\\Users\\PC\\Desktop\\gene-expression-cancer-prediction\\rna_seq\\9b03a281-22c7-4ad4-b1c8-ba7eed0e8c5b\\6e8eeaae-cc26-4db8-85f6-5c975b06bf45.rna_seq.augmented_star_gene_counts.tsv\n",
      "Processing sample: 6e8eeaae-cc26-4db8-85f6-5c975b06bf45.rna_seq.augmented_star_gene_counts\n",
      "Finished processing sample: 6e8eeaae-cc26-4db8-85f6-5c975b06bf45.rna_seq.augmented_star_gene_counts, shape: (60660, 10)\n",
      "Reading file: C:\\Users\\PC\\Desktop\\gene-expression-cancer-prediction\\rna_seq\\9b13d7e4-d265-4c0b-8aa3-5b4af70ff87d\\8fff7b55-a9c5-4179-a86a-80bff4fed1b0.rna_seq.augmented_star_gene_counts.tsv\n",
      "Processing sample: 8fff7b55-a9c5-4179-a86a-80bff4fed1b0.rna_seq.augmented_star_gene_counts\n"
     ]
    },
    {
     "name": "stderr",
     "output_type": "stream",
     "text": [
      "C:\\Users\\PC\\AppData\\Local\\Temp\\ipykernel_4980\\1846137033.py:69: SettingWithCopyWarning: \n",
      "A value is trying to be set on a copy of a slice from a DataFrame.\n",
      "Try using .loc[row_indexer,col_indexer] = value instead\n",
      "\n",
      "See the caveats in the documentation: https://pandas.pydata.org/pandas-docs/stable/user_guide/indexing.html#returning-a-view-versus-a-copy\n",
      "  df_clean['sample_id'] = sample_id\n"
     ]
    },
    {
     "name": "stdout",
     "output_type": "stream",
     "text": [
      "Finished processing sample: 8fff7b55-a9c5-4179-a86a-80bff4fed1b0.rna_seq.augmented_star_gene_counts, shape: (60660, 10)\n",
      "Reading file: C:\\Users\\PC\\Desktop\\gene-expression-cancer-prediction\\rna_seq\\9b2a1467-775c-48cf-9a3c-e259ccd344e4\\08814ce5-fdf0-4f06-aabd-bf7b2738cf43.rna_seq.augmented_star_gene_counts.tsv\n",
      "Processing sample: 08814ce5-fdf0-4f06-aabd-bf7b2738cf43.rna_seq.augmented_star_gene_counts\n"
     ]
    },
    {
     "name": "stderr",
     "output_type": "stream",
     "text": [
      "C:\\Users\\PC\\AppData\\Local\\Temp\\ipykernel_4980\\1846137033.py:69: SettingWithCopyWarning: \n",
      "A value is trying to be set on a copy of a slice from a DataFrame.\n",
      "Try using .loc[row_indexer,col_indexer] = value instead\n",
      "\n",
      "See the caveats in the documentation: https://pandas.pydata.org/pandas-docs/stable/user_guide/indexing.html#returning-a-view-versus-a-copy\n",
      "  df_clean['sample_id'] = sample_id\n",
      "C:\\Users\\PC\\AppData\\Local\\Temp\\ipykernel_4980\\1846137033.py:69: SettingWithCopyWarning: \n",
      "A value is trying to be set on a copy of a slice from a DataFrame.\n",
      "Try using .loc[row_indexer,col_indexer] = value instead\n",
      "\n",
      "See the caveats in the documentation: https://pandas.pydata.org/pandas-docs/stable/user_guide/indexing.html#returning-a-view-versus-a-copy\n",
      "  df_clean['sample_id'] = sample_id\n"
     ]
    },
    {
     "name": "stdout",
     "output_type": "stream",
     "text": [
      "Finished processing sample: 08814ce5-fdf0-4f06-aabd-bf7b2738cf43.rna_seq.augmented_star_gene_counts, shape: (60660, 10)\n",
      "Reading file: C:\\Users\\PC\\Desktop\\gene-expression-cancer-prediction\\rna_seq\\9b5b1b38-58b8-47c9-badf-086676e44c1a\\4541a5e4-240b-466d-bbc4-3904581490f3.rna_seq.augmented_star_gene_counts.tsv\n",
      "Processing sample: 4541a5e4-240b-466d-bbc4-3904581490f3.rna_seq.augmented_star_gene_counts\n",
      "Finished processing sample: 4541a5e4-240b-466d-bbc4-3904581490f3.rna_seq.augmented_star_gene_counts, shape: (60660, 10)\n",
      "Reading file: C:\\Users\\PC\\Desktop\\gene-expression-cancer-prediction\\rna_seq\\9b5bdd89-05ac-4cde-beee-66739a903939\\27d65db7-ad41-46f0-bfd1-61c693073e19.rna_seq.augmented_star_gene_counts.tsv\n",
      "Processing sample: 27d65db7-ad41-46f0-bfd1-61c693073e19.rna_seq.augmented_star_gene_counts\n"
     ]
    },
    {
     "name": "stderr",
     "output_type": "stream",
     "text": [
      "C:\\Users\\PC\\AppData\\Local\\Temp\\ipykernel_4980\\1846137033.py:69: SettingWithCopyWarning: \n",
      "A value is trying to be set on a copy of a slice from a DataFrame.\n",
      "Try using .loc[row_indexer,col_indexer] = value instead\n",
      "\n",
      "See the caveats in the documentation: https://pandas.pydata.org/pandas-docs/stable/user_guide/indexing.html#returning-a-view-versus-a-copy\n",
      "  df_clean['sample_id'] = sample_id\n",
      "C:\\Users\\PC\\AppData\\Local\\Temp\\ipykernel_4980\\1846137033.py:69: SettingWithCopyWarning: \n",
      "A value is trying to be set on a copy of a slice from a DataFrame.\n",
      "Try using .loc[row_indexer,col_indexer] = value instead\n",
      "\n",
      "See the caveats in the documentation: https://pandas.pydata.org/pandas-docs/stable/user_guide/indexing.html#returning-a-view-versus-a-copy\n",
      "  df_clean['sample_id'] = sample_id\n"
     ]
    },
    {
     "name": "stdout",
     "output_type": "stream",
     "text": [
      "Finished processing sample: 27d65db7-ad41-46f0-bfd1-61c693073e19.rna_seq.augmented_star_gene_counts, shape: (60660, 10)\n",
      "Reading file: C:\\Users\\PC\\Desktop\\gene-expression-cancer-prediction\\rna_seq\\9b980569-4da2-43ee-a06a-18ee09baf41d\\d6450e34-ebf4-4749-a27e-8e3139960afb.rna_seq.augmented_star_gene_counts.tsv\n",
      "Processing sample: d6450e34-ebf4-4749-a27e-8e3139960afb.rna_seq.augmented_star_gene_counts\n",
      "Finished processing sample: d6450e34-ebf4-4749-a27e-8e3139960afb.rna_seq.augmented_star_gene_counts, shape: (60660, 10)\n",
      "Reading file: C:\\Users\\PC\\Desktop\\gene-expression-cancer-prediction\\rna_seq\\9bb406c8-2b8e-410e-8bca-02a778312056\\4152a167-7b5f-4415-81f8-b22732cc6ef7.rna_seq.augmented_star_gene_counts.tsv\n",
      "Processing sample: 4152a167-7b5f-4415-81f8-b22732cc6ef7.rna_seq.augmented_star_gene_counts\n"
     ]
    },
    {
     "name": "stderr",
     "output_type": "stream",
     "text": [
      "C:\\Users\\PC\\AppData\\Local\\Temp\\ipykernel_4980\\1846137033.py:69: SettingWithCopyWarning: \n",
      "A value is trying to be set on a copy of a slice from a DataFrame.\n",
      "Try using .loc[row_indexer,col_indexer] = value instead\n",
      "\n",
      "See the caveats in the documentation: https://pandas.pydata.org/pandas-docs/stable/user_guide/indexing.html#returning-a-view-versus-a-copy\n",
      "  df_clean['sample_id'] = sample_id\n",
      "C:\\Users\\PC\\AppData\\Local\\Temp\\ipykernel_4980\\1846137033.py:69: SettingWithCopyWarning: \n",
      "A value is trying to be set on a copy of a slice from a DataFrame.\n",
      "Try using .loc[row_indexer,col_indexer] = value instead\n",
      "\n",
      "See the caveats in the documentation: https://pandas.pydata.org/pandas-docs/stable/user_guide/indexing.html#returning-a-view-versus-a-copy\n",
      "  df_clean['sample_id'] = sample_id\n"
     ]
    },
    {
     "name": "stdout",
     "output_type": "stream",
     "text": [
      "Finished processing sample: 4152a167-7b5f-4415-81f8-b22732cc6ef7.rna_seq.augmented_star_gene_counts, shape: (60660, 10)\n",
      "Reading file: C:\\Users\\PC\\Desktop\\gene-expression-cancer-prediction\\rna_seq\\9c0043c4-b65a-42ca-9f02-fe1cef04beaf\\17dfa221-f092-45ed-a2e4-5798ddfc0ce9.rna_seq.augmented_star_gene_counts.tsv\n",
      "Processing sample: 17dfa221-f092-45ed-a2e4-5798ddfc0ce9.rna_seq.augmented_star_gene_counts\n",
      "Finished processing sample: 17dfa221-f092-45ed-a2e4-5798ddfc0ce9.rna_seq.augmented_star_gene_counts, shape: (60660, 10)\n",
      "Reading file: C:\\Users\\PC\\Desktop\\gene-expression-cancer-prediction\\rna_seq\\9c00a43c-1da0-4e3b-b7e2-54a48d29ecae\\c2e73efe-8112-48fc-9dbd-29b4b5b89ad0.rna_seq.augmented_star_gene_counts.tsv\n",
      "Processing sample: c2e73efe-8112-48fc-9dbd-29b4b5b89ad0.rna_seq.augmented_star_gene_counts\n"
     ]
    },
    {
     "name": "stderr",
     "output_type": "stream",
     "text": [
      "C:\\Users\\PC\\AppData\\Local\\Temp\\ipykernel_4980\\1846137033.py:69: SettingWithCopyWarning: \n",
      "A value is trying to be set on a copy of a slice from a DataFrame.\n",
      "Try using .loc[row_indexer,col_indexer] = value instead\n",
      "\n",
      "See the caveats in the documentation: https://pandas.pydata.org/pandas-docs/stable/user_guide/indexing.html#returning-a-view-versus-a-copy\n",
      "  df_clean['sample_id'] = sample_id\n",
      "C:\\Users\\PC\\AppData\\Local\\Temp\\ipykernel_4980\\1846137033.py:69: SettingWithCopyWarning: \n",
      "A value is trying to be set on a copy of a slice from a DataFrame.\n",
      "Try using .loc[row_indexer,col_indexer] = value instead\n",
      "\n",
      "See the caveats in the documentation: https://pandas.pydata.org/pandas-docs/stable/user_guide/indexing.html#returning-a-view-versus-a-copy\n",
      "  df_clean['sample_id'] = sample_id\n"
     ]
    },
    {
     "name": "stdout",
     "output_type": "stream",
     "text": [
      "Finished processing sample: c2e73efe-8112-48fc-9dbd-29b4b5b89ad0.rna_seq.augmented_star_gene_counts, shape: (60660, 10)\n",
      "Reading file: C:\\Users\\PC\\Desktop\\gene-expression-cancer-prediction\\rna_seq\\9c55de9c-a13e-4772-9a5d-4cde38f75cf3\\9899646e-d5be-4429-a7f2-0251bed9721d.rna_seq.augmented_star_gene_counts.tsv\n",
      "Processing sample: 9899646e-d5be-4429-a7f2-0251bed9721d.rna_seq.augmented_star_gene_counts\n",
      "Finished processing sample: 9899646e-d5be-4429-a7f2-0251bed9721d.rna_seq.augmented_star_gene_counts, shape: (60660, 10)\n",
      "Reading file: C:\\Users\\PC\\Desktop\\gene-expression-cancer-prediction\\rna_seq\\9c87ef50-5854-4f69-820b-9e0b4d46c982\\b3861080-a052-4432-82f8-193122ab29d4.rna_seq.augmented_star_gene_counts.tsv\n",
      "Processing sample: b3861080-a052-4432-82f8-193122ab29d4.rna_seq.augmented_star_gene_counts\n"
     ]
    },
    {
     "name": "stderr",
     "output_type": "stream",
     "text": [
      "C:\\Users\\PC\\AppData\\Local\\Temp\\ipykernel_4980\\1846137033.py:69: SettingWithCopyWarning: \n",
      "A value is trying to be set on a copy of a slice from a DataFrame.\n",
      "Try using .loc[row_indexer,col_indexer] = value instead\n",
      "\n",
      "See the caveats in the documentation: https://pandas.pydata.org/pandas-docs/stable/user_guide/indexing.html#returning-a-view-versus-a-copy\n",
      "  df_clean['sample_id'] = sample_id\n",
      "C:\\Users\\PC\\AppData\\Local\\Temp\\ipykernel_4980\\1846137033.py:69: SettingWithCopyWarning: \n",
      "A value is trying to be set on a copy of a slice from a DataFrame.\n",
      "Try using .loc[row_indexer,col_indexer] = value instead\n",
      "\n",
      "See the caveats in the documentation: https://pandas.pydata.org/pandas-docs/stable/user_guide/indexing.html#returning-a-view-versus-a-copy\n",
      "  df_clean['sample_id'] = sample_id\n"
     ]
    },
    {
     "name": "stdout",
     "output_type": "stream",
     "text": [
      "Finished processing sample: b3861080-a052-4432-82f8-193122ab29d4.rna_seq.augmented_star_gene_counts, shape: (60660, 10)\n",
      "Reading file: C:\\Users\\PC\\Desktop\\gene-expression-cancer-prediction\\rna_seq\\9c99e8d0-a96d-4252-8ea8-e15bfae278c3\\3bbc2702-3fa1-455a-9c68-bf082850d9be.rna_seq.augmented_star_gene_counts.tsv\n",
      "Processing sample: 3bbc2702-3fa1-455a-9c68-bf082850d9be.rna_seq.augmented_star_gene_counts\n",
      "Finished processing sample: 3bbc2702-3fa1-455a-9c68-bf082850d9be.rna_seq.augmented_star_gene_counts, shape: (60660, 10)\n",
      "Reading file: C:\\Users\\PC\\Desktop\\gene-expression-cancer-prediction\\rna_seq\\9cac5296-0f61-46a2-bcbf-9bd3212fb7dd\\1ec0a33c-5b2e-4078-8226-48026f7d5c82.rna_seq.augmented_star_gene_counts.tsv\n",
      "Processing sample: 1ec0a33c-5b2e-4078-8226-48026f7d5c82.rna_seq.augmented_star_gene_counts\n"
     ]
    },
    {
     "name": "stderr",
     "output_type": "stream",
     "text": [
      "C:\\Users\\PC\\AppData\\Local\\Temp\\ipykernel_4980\\1846137033.py:69: SettingWithCopyWarning: \n",
      "A value is trying to be set on a copy of a slice from a DataFrame.\n",
      "Try using .loc[row_indexer,col_indexer] = value instead\n",
      "\n",
      "See the caveats in the documentation: https://pandas.pydata.org/pandas-docs/stable/user_guide/indexing.html#returning-a-view-versus-a-copy\n",
      "  df_clean['sample_id'] = sample_id\n",
      "C:\\Users\\PC\\AppData\\Local\\Temp\\ipykernel_4980\\1846137033.py:69: SettingWithCopyWarning: \n",
      "A value is trying to be set on a copy of a slice from a DataFrame.\n",
      "Try using .loc[row_indexer,col_indexer] = value instead\n",
      "\n",
      "See the caveats in the documentation: https://pandas.pydata.org/pandas-docs/stable/user_guide/indexing.html#returning-a-view-versus-a-copy\n",
      "  df_clean['sample_id'] = sample_id\n"
     ]
    },
    {
     "name": "stdout",
     "output_type": "stream",
     "text": [
      "Finished processing sample: 1ec0a33c-5b2e-4078-8226-48026f7d5c82.rna_seq.augmented_star_gene_counts, shape: (60660, 10)\n",
      "Reading file: C:\\Users\\PC\\Desktop\\gene-expression-cancer-prediction\\rna_seq\\9cbb73a5-7b3b-4559-a295-d4693ae6dee2\\c9c9c085-8e23-454c-aa36-cf59e8dbc587.rna_seq.augmented_star_gene_counts.tsv\n",
      "Processing sample: c9c9c085-8e23-454c-aa36-cf59e8dbc587.rna_seq.augmented_star_gene_counts\n",
      "Finished processing sample: c9c9c085-8e23-454c-aa36-cf59e8dbc587.rna_seq.augmented_star_gene_counts, shape: (60660, 10)\n",
      "Reading file: C:\\Users\\PC\\Desktop\\gene-expression-cancer-prediction\\rna_seq\\9ccdf2cc-ca01-4ef7-bed9-f955fd0396c2\\1d65448f-dcba-432b-98d5-f7e87de4f9f6.rna_seq.augmented_star_gene_counts.tsv\n",
      "Processing sample: 1d65448f-dcba-432b-98d5-f7e87de4f9f6.rna_seq.augmented_star_gene_counts\n"
     ]
    },
    {
     "name": "stderr",
     "output_type": "stream",
     "text": [
      "C:\\Users\\PC\\AppData\\Local\\Temp\\ipykernel_4980\\1846137033.py:69: SettingWithCopyWarning: \n",
      "A value is trying to be set on a copy of a slice from a DataFrame.\n",
      "Try using .loc[row_indexer,col_indexer] = value instead\n",
      "\n",
      "See the caveats in the documentation: https://pandas.pydata.org/pandas-docs/stable/user_guide/indexing.html#returning-a-view-versus-a-copy\n",
      "  df_clean['sample_id'] = sample_id\n",
      "C:\\Users\\PC\\AppData\\Local\\Temp\\ipykernel_4980\\1846137033.py:69: SettingWithCopyWarning: \n",
      "A value is trying to be set on a copy of a slice from a DataFrame.\n",
      "Try using .loc[row_indexer,col_indexer] = value instead\n",
      "\n",
      "See the caveats in the documentation: https://pandas.pydata.org/pandas-docs/stable/user_guide/indexing.html#returning-a-view-versus-a-copy\n",
      "  df_clean['sample_id'] = sample_id\n"
     ]
    },
    {
     "name": "stdout",
     "output_type": "stream",
     "text": [
      "Finished processing sample: 1d65448f-dcba-432b-98d5-f7e87de4f9f6.rna_seq.augmented_star_gene_counts, shape: (60660, 10)\n",
      "Reading file: C:\\Users\\PC\\Desktop\\gene-expression-cancer-prediction\\rna_seq\\9cf6e387-2b87-4f53-bb5a-d545a78f21cd\\75f8fbbb-2015-47cb-94f1-eb88cdfaeae6.rna_seq.augmented_star_gene_counts.tsv\n",
      "Processing sample: 75f8fbbb-2015-47cb-94f1-eb88cdfaeae6.rna_seq.augmented_star_gene_counts\n",
      "Finished processing sample: 75f8fbbb-2015-47cb-94f1-eb88cdfaeae6.rna_seq.augmented_star_gene_counts, shape: (60660, 10)\n",
      "Reading file: C:\\Users\\PC\\Desktop\\gene-expression-cancer-prediction\\rna_seq\\9d487523-ce75-4146-98d9-aed08dc2f632\\4c915c9f-4e60-48d4-a4c5-7d055940b65f.rna_seq.augmented_star_gene_counts.tsv\n",
      "Processing sample: 4c915c9f-4e60-48d4-a4c5-7d055940b65f.rna_seq.augmented_star_gene_counts\n"
     ]
    },
    {
     "name": "stderr",
     "output_type": "stream",
     "text": [
      "C:\\Users\\PC\\AppData\\Local\\Temp\\ipykernel_4980\\1846137033.py:69: SettingWithCopyWarning: \n",
      "A value is trying to be set on a copy of a slice from a DataFrame.\n",
      "Try using .loc[row_indexer,col_indexer] = value instead\n",
      "\n",
      "See the caveats in the documentation: https://pandas.pydata.org/pandas-docs/stable/user_guide/indexing.html#returning-a-view-versus-a-copy\n",
      "  df_clean['sample_id'] = sample_id\n",
      "C:\\Users\\PC\\AppData\\Local\\Temp\\ipykernel_4980\\1846137033.py:69: SettingWithCopyWarning: \n",
      "A value is trying to be set on a copy of a slice from a DataFrame.\n",
      "Try using .loc[row_indexer,col_indexer] = value instead\n",
      "\n",
      "See the caveats in the documentation: https://pandas.pydata.org/pandas-docs/stable/user_guide/indexing.html#returning-a-view-versus-a-copy\n",
      "  df_clean['sample_id'] = sample_id\n"
     ]
    },
    {
     "name": "stdout",
     "output_type": "stream",
     "text": [
      "Finished processing sample: 4c915c9f-4e60-48d4-a4c5-7d055940b65f.rna_seq.augmented_star_gene_counts, shape: (60660, 10)\n",
      "Reading file: C:\\Users\\PC\\Desktop\\gene-expression-cancer-prediction\\rna_seq\\9d535d7d-0fff-4134-be8f-daa6d687a48c\\11d450a3-4578-4444-8ddf-613b5868b683.rna_seq.augmented_star_gene_counts.tsv\n",
      "Processing sample: 11d450a3-4578-4444-8ddf-613b5868b683.rna_seq.augmented_star_gene_counts\n",
      "Finished processing sample: 11d450a3-4578-4444-8ddf-613b5868b683.rna_seq.augmented_star_gene_counts, shape: (60660, 10)\n",
      "Reading file: C:\\Users\\PC\\Desktop\\gene-expression-cancer-prediction\\rna_seq\\9d61e56d-690b-4d66-891a-f8d010d704cf\\ed13eb3a-17ab-4781-bc60-13797148c7c4.rna_seq.augmented_star_gene_counts.tsv\n",
      "Processing sample: ed13eb3a-17ab-4781-bc60-13797148c7c4.rna_seq.augmented_star_gene_counts\n"
     ]
    },
    {
     "name": "stderr",
     "output_type": "stream",
     "text": [
      "C:\\Users\\PC\\AppData\\Local\\Temp\\ipykernel_4980\\1846137033.py:69: SettingWithCopyWarning: \n",
      "A value is trying to be set on a copy of a slice from a DataFrame.\n",
      "Try using .loc[row_indexer,col_indexer] = value instead\n",
      "\n",
      "See the caveats in the documentation: https://pandas.pydata.org/pandas-docs/stable/user_guide/indexing.html#returning-a-view-versus-a-copy\n",
      "  df_clean['sample_id'] = sample_id\n",
      "C:\\Users\\PC\\AppData\\Local\\Temp\\ipykernel_4980\\1846137033.py:69: SettingWithCopyWarning: \n",
      "A value is trying to be set on a copy of a slice from a DataFrame.\n",
      "Try using .loc[row_indexer,col_indexer] = value instead\n",
      "\n",
      "See the caveats in the documentation: https://pandas.pydata.org/pandas-docs/stable/user_guide/indexing.html#returning-a-view-versus-a-copy\n",
      "  df_clean['sample_id'] = sample_id\n"
     ]
    },
    {
     "name": "stdout",
     "output_type": "stream",
     "text": [
      "Finished processing sample: ed13eb3a-17ab-4781-bc60-13797148c7c4.rna_seq.augmented_star_gene_counts, shape: (60660, 10)\n",
      "Reading file: C:\\Users\\PC\\Desktop\\gene-expression-cancer-prediction\\rna_seq\\9da9a119-9f9a-4ddb-947e-97724b9fe45f\\7733c059-09bd-40b4-9812-4bedd68d9d01.rna_seq.augmented_star_gene_counts.tsv\n",
      "Processing sample: 7733c059-09bd-40b4-9812-4bedd68d9d01.rna_seq.augmented_star_gene_counts\n",
      "Finished processing sample: 7733c059-09bd-40b4-9812-4bedd68d9d01.rna_seq.augmented_star_gene_counts, shape: (60660, 10)\n",
      "Reading file: C:\\Users\\PC\\Desktop\\gene-expression-cancer-prediction\\rna_seq\\9dc09c86-c728-4bd9-b2b6-2d9962dad662\\d1f1743c-5fd9-4ae8-90c2-8c3e2d475d1b.rna_seq.augmented_star_gene_counts.tsv\n",
      "Processing sample: d1f1743c-5fd9-4ae8-90c2-8c3e2d475d1b.rna_seq.augmented_star_gene_counts\n"
     ]
    },
    {
     "name": "stderr",
     "output_type": "stream",
     "text": [
      "C:\\Users\\PC\\AppData\\Local\\Temp\\ipykernel_4980\\1846137033.py:69: SettingWithCopyWarning: \n",
      "A value is trying to be set on a copy of a slice from a DataFrame.\n",
      "Try using .loc[row_indexer,col_indexer] = value instead\n",
      "\n",
      "See the caveats in the documentation: https://pandas.pydata.org/pandas-docs/stable/user_guide/indexing.html#returning-a-view-versus-a-copy\n",
      "  df_clean['sample_id'] = sample_id\n",
      "C:\\Users\\PC\\AppData\\Local\\Temp\\ipykernel_4980\\1846137033.py:69: SettingWithCopyWarning: \n",
      "A value is trying to be set on a copy of a slice from a DataFrame.\n",
      "Try using .loc[row_indexer,col_indexer] = value instead\n",
      "\n",
      "See the caveats in the documentation: https://pandas.pydata.org/pandas-docs/stable/user_guide/indexing.html#returning-a-view-versus-a-copy\n",
      "  df_clean['sample_id'] = sample_id\n"
     ]
    },
    {
     "name": "stdout",
     "output_type": "stream",
     "text": [
      "Finished processing sample: d1f1743c-5fd9-4ae8-90c2-8c3e2d475d1b.rna_seq.augmented_star_gene_counts, shape: (60660, 10)\n",
      "Reading file: C:\\Users\\PC\\Desktop\\gene-expression-cancer-prediction\\rna_seq\\9e4b6ad6-99f7-4244-8f1b-20b7b36c457f\\51c66f38-afcb-423c-9004-708081b729f6.rna_seq.augmented_star_gene_counts.tsv\n",
      "Processing sample: 51c66f38-afcb-423c-9004-708081b729f6.rna_seq.augmented_star_gene_counts\n",
      "Finished processing sample: 51c66f38-afcb-423c-9004-708081b729f6.rna_seq.augmented_star_gene_counts, shape: (60660, 10)\n",
      "Reading file: C:\\Users\\PC\\Desktop\\gene-expression-cancer-prediction\\rna_seq\\a03952ab-2ac1-43a5-a438-1f022bcd0b16\\3823e741-c29c-431e-9397-4d16a30ec473.rna_seq.augmented_star_gene_counts.tsv\n",
      "Processing sample: 3823e741-c29c-431e-9397-4d16a30ec473.rna_seq.augmented_star_gene_counts\n"
     ]
    },
    {
     "name": "stderr",
     "output_type": "stream",
     "text": [
      "C:\\Users\\PC\\AppData\\Local\\Temp\\ipykernel_4980\\1846137033.py:69: SettingWithCopyWarning: \n",
      "A value is trying to be set on a copy of a slice from a DataFrame.\n",
      "Try using .loc[row_indexer,col_indexer] = value instead\n",
      "\n",
      "See the caveats in the documentation: https://pandas.pydata.org/pandas-docs/stable/user_guide/indexing.html#returning-a-view-versus-a-copy\n",
      "  df_clean['sample_id'] = sample_id\n",
      "C:\\Users\\PC\\AppData\\Local\\Temp\\ipykernel_4980\\1846137033.py:69: SettingWithCopyWarning: \n",
      "A value is trying to be set on a copy of a slice from a DataFrame.\n",
      "Try using .loc[row_indexer,col_indexer] = value instead\n",
      "\n",
      "See the caveats in the documentation: https://pandas.pydata.org/pandas-docs/stable/user_guide/indexing.html#returning-a-view-versus-a-copy\n",
      "  df_clean['sample_id'] = sample_id\n"
     ]
    },
    {
     "name": "stdout",
     "output_type": "stream",
     "text": [
      "Finished processing sample: 3823e741-c29c-431e-9397-4d16a30ec473.rna_seq.augmented_star_gene_counts, shape: (60660, 10)\n",
      "Reading file: C:\\Users\\PC\\Desktop\\gene-expression-cancer-prediction\\rna_seq\\a127fb1e-aa3b-4b6d-98b5-c141ffba9ae7\\e590db5d-2577-43ec-9d39-45a257be5562.rna_seq.augmented_star_gene_counts.tsv\n",
      "Processing sample: e590db5d-2577-43ec-9d39-45a257be5562.rna_seq.augmented_star_gene_counts\n",
      "Finished processing sample: e590db5d-2577-43ec-9d39-45a257be5562.rna_seq.augmented_star_gene_counts, shape: (60660, 10)\n",
      "Reading file: C:\\Users\\PC\\Desktop\\gene-expression-cancer-prediction\\rna_seq\\a1516cec-76ec-4a05-97a0-a56ef8490e60\\3a814d3d-749f-4066-b33b-3faf503d84bb.rna_seq.augmented_star_gene_counts.tsv\n",
      "Processing sample: 3a814d3d-749f-4066-b33b-3faf503d84bb.rna_seq.augmented_star_gene_counts\n"
     ]
    },
    {
     "name": "stderr",
     "output_type": "stream",
     "text": [
      "C:\\Users\\PC\\AppData\\Local\\Temp\\ipykernel_4980\\1846137033.py:69: SettingWithCopyWarning: \n",
      "A value is trying to be set on a copy of a slice from a DataFrame.\n",
      "Try using .loc[row_indexer,col_indexer] = value instead\n",
      "\n",
      "See the caveats in the documentation: https://pandas.pydata.org/pandas-docs/stable/user_guide/indexing.html#returning-a-view-versus-a-copy\n",
      "  df_clean['sample_id'] = sample_id\n",
      "C:\\Users\\PC\\AppData\\Local\\Temp\\ipykernel_4980\\1846137033.py:69: SettingWithCopyWarning: \n",
      "A value is trying to be set on a copy of a slice from a DataFrame.\n",
      "Try using .loc[row_indexer,col_indexer] = value instead\n",
      "\n",
      "See the caveats in the documentation: https://pandas.pydata.org/pandas-docs/stable/user_guide/indexing.html#returning-a-view-versus-a-copy\n",
      "  df_clean['sample_id'] = sample_id\n"
     ]
    },
    {
     "name": "stdout",
     "output_type": "stream",
     "text": [
      "Finished processing sample: 3a814d3d-749f-4066-b33b-3faf503d84bb.rna_seq.augmented_star_gene_counts, shape: (60660, 10)\n",
      "Reading file: C:\\Users\\PC\\Desktop\\gene-expression-cancer-prediction\\rna_seq\\a17d51b5-c397-4591-a227-dc0425948420\\3f4afc9c-562a-4ef4-a6cb-ff426357a614.rna_seq.augmented_star_gene_counts.tsv\n",
      "Processing sample: 3f4afc9c-562a-4ef4-a6cb-ff426357a614.rna_seq.augmented_star_gene_counts\n",
      "Finished processing sample: 3f4afc9c-562a-4ef4-a6cb-ff426357a614.rna_seq.augmented_star_gene_counts, shape: (60660, 10)\n",
      "Reading file: C:\\Users\\PC\\Desktop\\gene-expression-cancer-prediction\\rna_seq\\a1a6d1dd-a1c6-4c5c-b54d-42de80680bc3\\dc857517-6b3d-4008-85a4-a2b35efb1e7a.rna_seq.augmented_star_gene_counts.tsv\n",
      "Processing sample: dc857517-6b3d-4008-85a4-a2b35efb1e7a.rna_seq.augmented_star_gene_counts\n"
     ]
    },
    {
     "name": "stderr",
     "output_type": "stream",
     "text": [
      "C:\\Users\\PC\\AppData\\Local\\Temp\\ipykernel_4980\\1846137033.py:69: SettingWithCopyWarning: \n",
      "A value is trying to be set on a copy of a slice from a DataFrame.\n",
      "Try using .loc[row_indexer,col_indexer] = value instead\n",
      "\n",
      "See the caveats in the documentation: https://pandas.pydata.org/pandas-docs/stable/user_guide/indexing.html#returning-a-view-versus-a-copy\n",
      "  df_clean['sample_id'] = sample_id\n",
      "C:\\Users\\PC\\AppData\\Local\\Temp\\ipykernel_4980\\1846137033.py:69: SettingWithCopyWarning: \n",
      "A value is trying to be set on a copy of a slice from a DataFrame.\n",
      "Try using .loc[row_indexer,col_indexer] = value instead\n",
      "\n",
      "See the caveats in the documentation: https://pandas.pydata.org/pandas-docs/stable/user_guide/indexing.html#returning-a-view-versus-a-copy\n",
      "  df_clean['sample_id'] = sample_id\n"
     ]
    },
    {
     "name": "stdout",
     "output_type": "stream",
     "text": [
      "Finished processing sample: dc857517-6b3d-4008-85a4-a2b35efb1e7a.rna_seq.augmented_star_gene_counts, shape: (60660, 10)\n",
      "Reading file: C:\\Users\\PC\\Desktop\\gene-expression-cancer-prediction\\rna_seq\\a217c1ab-e2cb-487c-982a-8241da38272f\\e4443a5a-144f-434e-b1e0-3139e1e5ed23.rna_seq.augmented_star_gene_counts.tsv\n",
      "Processing sample: e4443a5a-144f-434e-b1e0-3139e1e5ed23.rna_seq.augmented_star_gene_counts\n",
      "Finished processing sample: e4443a5a-144f-434e-b1e0-3139e1e5ed23.rna_seq.augmented_star_gene_counts, shape: (60660, 10)\n",
      "Reading file: C:\\Users\\PC\\Desktop\\gene-expression-cancer-prediction\\rna_seq\\a25f8ce5-b3f3-4d2d-b862-b703650066fb\\8668654e-c441-4279-80e3-345787c28922.rna_seq.augmented_star_gene_counts.tsv\n",
      "Processing sample: 8668654e-c441-4279-80e3-345787c28922.rna_seq.augmented_star_gene_counts\n"
     ]
    },
    {
     "name": "stderr",
     "output_type": "stream",
     "text": [
      "C:\\Users\\PC\\AppData\\Local\\Temp\\ipykernel_4980\\1846137033.py:69: SettingWithCopyWarning: \n",
      "A value is trying to be set on a copy of a slice from a DataFrame.\n",
      "Try using .loc[row_indexer,col_indexer] = value instead\n",
      "\n",
      "See the caveats in the documentation: https://pandas.pydata.org/pandas-docs/stable/user_guide/indexing.html#returning-a-view-versus-a-copy\n",
      "  df_clean['sample_id'] = sample_id\n",
      "C:\\Users\\PC\\AppData\\Local\\Temp\\ipykernel_4980\\1846137033.py:69: SettingWithCopyWarning: \n",
      "A value is trying to be set on a copy of a slice from a DataFrame.\n",
      "Try using .loc[row_indexer,col_indexer] = value instead\n",
      "\n",
      "See the caveats in the documentation: https://pandas.pydata.org/pandas-docs/stable/user_guide/indexing.html#returning-a-view-versus-a-copy\n",
      "  df_clean['sample_id'] = sample_id\n"
     ]
    },
    {
     "name": "stdout",
     "output_type": "stream",
     "text": [
      "Finished processing sample: 8668654e-c441-4279-80e3-345787c28922.rna_seq.augmented_star_gene_counts, shape: (60660, 10)\n",
      "Reading file: C:\\Users\\PC\\Desktop\\gene-expression-cancer-prediction\\rna_seq\\a260d9e5-d88e-44eb-8431-4266c1baf68a\\9c20991b-fb37-4984-8b57-2c1fa8112d1a.rna_seq.augmented_star_gene_counts.tsv\n",
      "Processing sample: 9c20991b-fb37-4984-8b57-2c1fa8112d1a.rna_seq.augmented_star_gene_counts\n",
      "Finished processing sample: 9c20991b-fb37-4984-8b57-2c1fa8112d1a.rna_seq.augmented_star_gene_counts, shape: (60660, 10)\n",
      "Reading file: C:\\Users\\PC\\Desktop\\gene-expression-cancer-prediction\\rna_seq\\a2837f64-2441-4d31-befc-514f8526b1f7\\1729f18b-f4d7-4e1c-af9f-2c651023e7fc.rna_seq.augmented_star_gene_counts.tsv\n",
      "Processing sample: 1729f18b-f4d7-4e1c-af9f-2c651023e7fc.rna_seq.augmented_star_gene_counts\n"
     ]
    },
    {
     "name": "stderr",
     "output_type": "stream",
     "text": [
      "C:\\Users\\PC\\AppData\\Local\\Temp\\ipykernel_4980\\1846137033.py:69: SettingWithCopyWarning: \n",
      "A value is trying to be set on a copy of a slice from a DataFrame.\n",
      "Try using .loc[row_indexer,col_indexer] = value instead\n",
      "\n",
      "See the caveats in the documentation: https://pandas.pydata.org/pandas-docs/stable/user_guide/indexing.html#returning-a-view-versus-a-copy\n",
      "  df_clean['sample_id'] = sample_id\n",
      "C:\\Users\\PC\\AppData\\Local\\Temp\\ipykernel_4980\\1846137033.py:69: SettingWithCopyWarning: \n",
      "A value is trying to be set on a copy of a slice from a DataFrame.\n",
      "Try using .loc[row_indexer,col_indexer] = value instead\n",
      "\n",
      "See the caveats in the documentation: https://pandas.pydata.org/pandas-docs/stable/user_guide/indexing.html#returning-a-view-versus-a-copy\n",
      "  df_clean['sample_id'] = sample_id\n"
     ]
    },
    {
     "name": "stdout",
     "output_type": "stream",
     "text": [
      "Finished processing sample: 1729f18b-f4d7-4e1c-af9f-2c651023e7fc.rna_seq.augmented_star_gene_counts, shape: (60660, 10)\n",
      "Reading file: C:\\Users\\PC\\Desktop\\gene-expression-cancer-prediction\\rna_seq\\a2cb26d9-70e7-47ca-b019-a5fa136b42f7\\fefb685b-91fc-4837-b612-73be3c4d941e.rna_seq.augmented_star_gene_counts.tsv\n",
      "Processing sample: fefb685b-91fc-4837-b612-73be3c4d941e.rna_seq.augmented_star_gene_counts\n",
      "Finished processing sample: fefb685b-91fc-4837-b612-73be3c4d941e.rna_seq.augmented_star_gene_counts, shape: (60660, 10)\n",
      "Reading file: C:\\Users\\PC\\Desktop\\gene-expression-cancer-prediction\\rna_seq\\a2f1fa8f-26d6-4b3e-8816-33f42e3f9209\\99df3cc9-683b-449b-bcf4-94bbff09c90e.rna_seq.augmented_star_gene_counts.tsv\n",
      "Processing sample: 99df3cc9-683b-449b-bcf4-94bbff09c90e.rna_seq.augmented_star_gene_counts\n"
     ]
    },
    {
     "name": "stderr",
     "output_type": "stream",
     "text": [
      "C:\\Users\\PC\\AppData\\Local\\Temp\\ipykernel_4980\\1846137033.py:69: SettingWithCopyWarning: \n",
      "A value is trying to be set on a copy of a slice from a DataFrame.\n",
      "Try using .loc[row_indexer,col_indexer] = value instead\n",
      "\n",
      "See the caveats in the documentation: https://pandas.pydata.org/pandas-docs/stable/user_guide/indexing.html#returning-a-view-versus-a-copy\n",
      "  df_clean['sample_id'] = sample_id\n",
      "C:\\Users\\PC\\AppData\\Local\\Temp\\ipykernel_4980\\1846137033.py:69: SettingWithCopyWarning: \n",
      "A value is trying to be set on a copy of a slice from a DataFrame.\n",
      "Try using .loc[row_indexer,col_indexer] = value instead\n",
      "\n",
      "See the caveats in the documentation: https://pandas.pydata.org/pandas-docs/stable/user_guide/indexing.html#returning-a-view-versus-a-copy\n",
      "  df_clean['sample_id'] = sample_id\n"
     ]
    },
    {
     "name": "stdout",
     "output_type": "stream",
     "text": [
      "Finished processing sample: 99df3cc9-683b-449b-bcf4-94bbff09c90e.rna_seq.augmented_star_gene_counts, shape: (60660, 10)\n",
      "Reading file: C:\\Users\\PC\\Desktop\\gene-expression-cancer-prediction\\rna_seq\\a2f902f5-2413-4698-b53b-446df6409d61\\79f139fe-fecb-4b0e-b668-3407c13748d8.rna_seq.augmented_star_gene_counts.tsv\n",
      "Processing sample: 79f139fe-fecb-4b0e-b668-3407c13748d8.rna_seq.augmented_star_gene_counts\n",
      "Finished processing sample: 79f139fe-fecb-4b0e-b668-3407c13748d8.rna_seq.augmented_star_gene_counts, shape: (60660, 10)\n",
      "Reading file: C:\\Users\\PC\\Desktop\\gene-expression-cancer-prediction\\rna_seq\\a3039f53-9e11-4b53-b65e-ea5e14914ef0\\d667391d-a4f9-40b8-9758-4b9246f49dfc.rna_seq.augmented_star_gene_counts.tsv\n",
      "Processing sample: d667391d-a4f9-40b8-9758-4b9246f49dfc.rna_seq.augmented_star_gene_counts\n"
     ]
    },
    {
     "name": "stderr",
     "output_type": "stream",
     "text": [
      "C:\\Users\\PC\\AppData\\Local\\Temp\\ipykernel_4980\\1846137033.py:69: SettingWithCopyWarning: \n",
      "A value is trying to be set on a copy of a slice from a DataFrame.\n",
      "Try using .loc[row_indexer,col_indexer] = value instead\n",
      "\n",
      "See the caveats in the documentation: https://pandas.pydata.org/pandas-docs/stable/user_guide/indexing.html#returning-a-view-versus-a-copy\n",
      "  df_clean['sample_id'] = sample_id\n",
      "C:\\Users\\PC\\AppData\\Local\\Temp\\ipykernel_4980\\1846137033.py:69: SettingWithCopyWarning: \n",
      "A value is trying to be set on a copy of a slice from a DataFrame.\n",
      "Try using .loc[row_indexer,col_indexer] = value instead\n",
      "\n",
      "See the caveats in the documentation: https://pandas.pydata.org/pandas-docs/stable/user_guide/indexing.html#returning-a-view-versus-a-copy\n",
      "  df_clean['sample_id'] = sample_id\n"
     ]
    },
    {
     "name": "stdout",
     "output_type": "stream",
     "text": [
      "Finished processing sample: d667391d-a4f9-40b8-9758-4b9246f49dfc.rna_seq.augmented_star_gene_counts, shape: (60660, 10)\n",
      "Reading file: C:\\Users\\PC\\Desktop\\gene-expression-cancer-prediction\\rna_seq\\a39993c2-0b95-4df1-b501-b1a746633449\\9b652843-9c30-4c21-8c39-ef9e21ec4ec6.rna_seq.augmented_star_gene_counts.tsv\n",
      "Processing sample: 9b652843-9c30-4c21-8c39-ef9e21ec4ec6.rna_seq.augmented_star_gene_counts\n",
      "Finished processing sample: 9b652843-9c30-4c21-8c39-ef9e21ec4ec6.rna_seq.augmented_star_gene_counts, shape: (60660, 10)\n",
      "Reading file: C:\\Users\\PC\\Desktop\\gene-expression-cancer-prediction\\rna_seq\\a39defa6-87ec-4855-ab78-44f6b46152e1\\bf2a1913-2806-4b97-bcc6-e7038b900e15.rna_seq.augmented_star_gene_counts.tsv\n",
      "Processing sample: bf2a1913-2806-4b97-bcc6-e7038b900e15.rna_seq.augmented_star_gene_counts\n"
     ]
    },
    {
     "name": "stderr",
     "output_type": "stream",
     "text": [
      "C:\\Users\\PC\\AppData\\Local\\Temp\\ipykernel_4980\\1846137033.py:69: SettingWithCopyWarning: \n",
      "A value is trying to be set on a copy of a slice from a DataFrame.\n",
      "Try using .loc[row_indexer,col_indexer] = value instead\n",
      "\n",
      "See the caveats in the documentation: https://pandas.pydata.org/pandas-docs/stable/user_guide/indexing.html#returning-a-view-versus-a-copy\n",
      "  df_clean['sample_id'] = sample_id\n",
      "C:\\Users\\PC\\AppData\\Local\\Temp\\ipykernel_4980\\1846137033.py:69: SettingWithCopyWarning: \n",
      "A value is trying to be set on a copy of a slice from a DataFrame.\n",
      "Try using .loc[row_indexer,col_indexer] = value instead\n",
      "\n",
      "See the caveats in the documentation: https://pandas.pydata.org/pandas-docs/stable/user_guide/indexing.html#returning-a-view-versus-a-copy\n",
      "  df_clean['sample_id'] = sample_id\n"
     ]
    },
    {
     "name": "stdout",
     "output_type": "stream",
     "text": [
      "Finished processing sample: bf2a1913-2806-4b97-bcc6-e7038b900e15.rna_seq.augmented_star_gene_counts, shape: (60660, 10)\n",
      "Reading file: C:\\Users\\PC\\Desktop\\gene-expression-cancer-prediction\\rna_seq\\a3e73f16-dc65-4c2e-9846-052b8fae144c\\682169e0-f36b-430c-896f-c93668b4ce78.rna_seq.augmented_star_gene_counts.tsv\n",
      "Processing sample: 682169e0-f36b-430c-896f-c93668b4ce78.rna_seq.augmented_star_gene_counts\n",
      "Finished processing sample: 682169e0-f36b-430c-896f-c93668b4ce78.rna_seq.augmented_star_gene_counts, shape: (60660, 10)\n",
      "Reading file: C:\\Users\\PC\\Desktop\\gene-expression-cancer-prediction\\rna_seq\\a436c52a-e63f-4d61-bc60-eb497c196489\\ff0feb3e-6d14-4297-ac23-1eb397663ec3.rna_seq.augmented_star_gene_counts.tsv\n",
      "Processing sample: ff0feb3e-6d14-4297-ac23-1eb397663ec3.rna_seq.augmented_star_gene_counts\n"
     ]
    },
    {
     "name": "stderr",
     "output_type": "stream",
     "text": [
      "C:\\Users\\PC\\AppData\\Local\\Temp\\ipykernel_4980\\1846137033.py:69: SettingWithCopyWarning: \n",
      "A value is trying to be set on a copy of a slice from a DataFrame.\n",
      "Try using .loc[row_indexer,col_indexer] = value instead\n",
      "\n",
      "See the caveats in the documentation: https://pandas.pydata.org/pandas-docs/stable/user_guide/indexing.html#returning-a-view-versus-a-copy\n",
      "  df_clean['sample_id'] = sample_id\n",
      "C:\\Users\\PC\\AppData\\Local\\Temp\\ipykernel_4980\\1846137033.py:69: SettingWithCopyWarning: \n",
      "A value is trying to be set on a copy of a slice from a DataFrame.\n",
      "Try using .loc[row_indexer,col_indexer] = value instead\n",
      "\n",
      "See the caveats in the documentation: https://pandas.pydata.org/pandas-docs/stable/user_guide/indexing.html#returning-a-view-versus-a-copy\n",
      "  df_clean['sample_id'] = sample_id\n"
     ]
    },
    {
     "name": "stdout",
     "output_type": "stream",
     "text": [
      "Finished processing sample: ff0feb3e-6d14-4297-ac23-1eb397663ec3.rna_seq.augmented_star_gene_counts, shape: (60660, 10)\n",
      "Reading file: C:\\Users\\PC\\Desktop\\gene-expression-cancer-prediction\\rna_seq\\a4589532-53e0-4025-b8d3-e11e79e1fc9c\\9de4575c-0d10-4548-8881-fd4a5a46a5ac.rna_seq.augmented_star_gene_counts.tsv\n",
      "Processing sample: 9de4575c-0d10-4548-8881-fd4a5a46a5ac.rna_seq.augmented_star_gene_counts\n",
      "Finished processing sample: 9de4575c-0d10-4548-8881-fd4a5a46a5ac.rna_seq.augmented_star_gene_counts, shape: (60660, 10)\n",
      "Reading file: C:\\Users\\PC\\Desktop\\gene-expression-cancer-prediction\\rna_seq\\a4fc84b0-29ff-4994-b493-1102a044838d\\4d54d278-9d82-4681-9b6a-247e79a9a83e.rna_seq.augmented_star_gene_counts.tsv\n",
      "Processing sample: 4d54d278-9d82-4681-9b6a-247e79a9a83e.rna_seq.augmented_star_gene_counts\n"
     ]
    },
    {
     "name": "stderr",
     "output_type": "stream",
     "text": [
      "C:\\Users\\PC\\AppData\\Local\\Temp\\ipykernel_4980\\1846137033.py:69: SettingWithCopyWarning: \n",
      "A value is trying to be set on a copy of a slice from a DataFrame.\n",
      "Try using .loc[row_indexer,col_indexer] = value instead\n",
      "\n",
      "See the caveats in the documentation: https://pandas.pydata.org/pandas-docs/stable/user_guide/indexing.html#returning-a-view-versus-a-copy\n",
      "  df_clean['sample_id'] = sample_id\n",
      "C:\\Users\\PC\\AppData\\Local\\Temp\\ipykernel_4980\\1846137033.py:69: SettingWithCopyWarning: \n",
      "A value is trying to be set on a copy of a slice from a DataFrame.\n",
      "Try using .loc[row_indexer,col_indexer] = value instead\n",
      "\n",
      "See the caveats in the documentation: https://pandas.pydata.org/pandas-docs/stable/user_guide/indexing.html#returning-a-view-versus-a-copy\n",
      "  df_clean['sample_id'] = sample_id\n"
     ]
    },
    {
     "name": "stdout",
     "output_type": "stream",
     "text": [
      "Finished processing sample: 4d54d278-9d82-4681-9b6a-247e79a9a83e.rna_seq.augmented_star_gene_counts, shape: (60660, 10)\n",
      "Reading file: C:\\Users\\PC\\Desktop\\gene-expression-cancer-prediction\\rna_seq\\a542178a-a338-40d4-be52-b9a71af89b58\\1a3e846b-4c7f-4aac-8c26-bb5e25f226ae.rna_seq.augmented_star_gene_counts.tsv\n",
      "Processing sample: 1a3e846b-4c7f-4aac-8c26-bb5e25f226ae.rna_seq.augmented_star_gene_counts\n",
      "Finished processing sample: 1a3e846b-4c7f-4aac-8c26-bb5e25f226ae.rna_seq.augmented_star_gene_counts, shape: (60660, 10)\n",
      "Reading file: C:\\Users\\PC\\Desktop\\gene-expression-cancer-prediction\\rna_seq\\a572e59c-096f-4054-bbb4-90f2e2461d99\\b87ce383-9333-420c-9184-62d9d1eadabc.rna_seq.augmented_star_gene_counts.tsv\n",
      "Processing sample: b87ce383-9333-420c-9184-62d9d1eadabc.rna_seq.augmented_star_gene_counts\n"
     ]
    },
    {
     "name": "stderr",
     "output_type": "stream",
     "text": [
      "C:\\Users\\PC\\AppData\\Local\\Temp\\ipykernel_4980\\1846137033.py:69: SettingWithCopyWarning: \n",
      "A value is trying to be set on a copy of a slice from a DataFrame.\n",
      "Try using .loc[row_indexer,col_indexer] = value instead\n",
      "\n",
      "See the caveats in the documentation: https://pandas.pydata.org/pandas-docs/stable/user_guide/indexing.html#returning-a-view-versus-a-copy\n",
      "  df_clean['sample_id'] = sample_id\n",
      "C:\\Users\\PC\\AppData\\Local\\Temp\\ipykernel_4980\\1846137033.py:69: SettingWithCopyWarning: \n",
      "A value is trying to be set on a copy of a slice from a DataFrame.\n",
      "Try using .loc[row_indexer,col_indexer] = value instead\n",
      "\n",
      "See the caveats in the documentation: https://pandas.pydata.org/pandas-docs/stable/user_guide/indexing.html#returning-a-view-versus-a-copy\n",
      "  df_clean['sample_id'] = sample_id\n"
     ]
    },
    {
     "name": "stdout",
     "output_type": "stream",
     "text": [
      "Finished processing sample: b87ce383-9333-420c-9184-62d9d1eadabc.rna_seq.augmented_star_gene_counts, shape: (60660, 10)\n",
      "Reading file: C:\\Users\\PC\\Desktop\\gene-expression-cancer-prediction\\rna_seq\\a58e2ae3-a236-4209-8292-70465216cb85\\e614fbb4-7574-4704-9525-c0aea4c10fc6.rna_seq.augmented_star_gene_counts.tsv\n",
      "Processing sample: e614fbb4-7574-4704-9525-c0aea4c10fc6.rna_seq.augmented_star_gene_counts\n",
      "Finished processing sample: e614fbb4-7574-4704-9525-c0aea4c10fc6.rna_seq.augmented_star_gene_counts, shape: (60660, 10)\n",
      "Reading file: C:\\Users\\PC\\Desktop\\gene-expression-cancer-prediction\\rna_seq\\a5c799bc-1332-4127-8fda-84da04084d25\\de01516e-43f0-4f96-8ac6-ab543a314829.rna_seq.augmented_star_gene_counts.tsv\n",
      "Processing sample: de01516e-43f0-4f96-8ac6-ab543a314829.rna_seq.augmented_star_gene_counts\n"
     ]
    },
    {
     "name": "stderr",
     "output_type": "stream",
     "text": [
      "C:\\Users\\PC\\AppData\\Local\\Temp\\ipykernel_4980\\1846137033.py:69: SettingWithCopyWarning: \n",
      "A value is trying to be set on a copy of a slice from a DataFrame.\n",
      "Try using .loc[row_indexer,col_indexer] = value instead\n",
      "\n",
      "See the caveats in the documentation: https://pandas.pydata.org/pandas-docs/stable/user_guide/indexing.html#returning-a-view-versus-a-copy\n",
      "  df_clean['sample_id'] = sample_id\n",
      "C:\\Users\\PC\\AppData\\Local\\Temp\\ipykernel_4980\\1846137033.py:69: SettingWithCopyWarning: \n",
      "A value is trying to be set on a copy of a slice from a DataFrame.\n",
      "Try using .loc[row_indexer,col_indexer] = value instead\n",
      "\n",
      "See the caveats in the documentation: https://pandas.pydata.org/pandas-docs/stable/user_guide/indexing.html#returning-a-view-versus-a-copy\n",
      "  df_clean['sample_id'] = sample_id\n"
     ]
    },
    {
     "name": "stdout",
     "output_type": "stream",
     "text": [
      "Finished processing sample: de01516e-43f0-4f96-8ac6-ab543a314829.rna_seq.augmented_star_gene_counts, shape: (60660, 10)\n",
      "Reading file: C:\\Users\\PC\\Desktop\\gene-expression-cancer-prediction\\rna_seq\\a629c407-5141-454c-bb69-ba7e58d1febc\\5a277308-f1bc-47b3-a397-aeabe9db8dc6.rna_seq.augmented_star_gene_counts.tsv\n",
      "Processing sample: 5a277308-f1bc-47b3-a397-aeabe9db8dc6.rna_seq.augmented_star_gene_counts\n",
      "Finished processing sample: 5a277308-f1bc-47b3-a397-aeabe9db8dc6.rna_seq.augmented_star_gene_counts, shape: (60660, 10)\n",
      "Reading file: C:\\Users\\PC\\Desktop\\gene-expression-cancer-prediction\\rna_seq\\a63cca36-139d-4054-9d99-9b04ddae7ec2\\3d05d072-d042-4c02-aaf6-ee2e589003d6.rna_seq.augmented_star_gene_counts.tsv\n",
      "Processing sample: 3d05d072-d042-4c02-aaf6-ee2e589003d6.rna_seq.augmented_star_gene_counts\n"
     ]
    },
    {
     "name": "stderr",
     "output_type": "stream",
     "text": [
      "C:\\Users\\PC\\AppData\\Local\\Temp\\ipykernel_4980\\1846137033.py:69: SettingWithCopyWarning: \n",
      "A value is trying to be set on a copy of a slice from a DataFrame.\n",
      "Try using .loc[row_indexer,col_indexer] = value instead\n",
      "\n",
      "See the caveats in the documentation: https://pandas.pydata.org/pandas-docs/stable/user_guide/indexing.html#returning-a-view-versus-a-copy\n",
      "  df_clean['sample_id'] = sample_id\n",
      "C:\\Users\\PC\\AppData\\Local\\Temp\\ipykernel_4980\\1846137033.py:69: SettingWithCopyWarning: \n",
      "A value is trying to be set on a copy of a slice from a DataFrame.\n",
      "Try using .loc[row_indexer,col_indexer] = value instead\n",
      "\n",
      "See the caveats in the documentation: https://pandas.pydata.org/pandas-docs/stable/user_guide/indexing.html#returning-a-view-versus-a-copy\n",
      "  df_clean['sample_id'] = sample_id\n"
     ]
    },
    {
     "name": "stdout",
     "output_type": "stream",
     "text": [
      "Finished processing sample: 3d05d072-d042-4c02-aaf6-ee2e589003d6.rna_seq.augmented_star_gene_counts, shape: (60660, 10)\n",
      "Reading file: C:\\Users\\PC\\Desktop\\gene-expression-cancer-prediction\\rna_seq\\a6f96d96-c761-4e98-9120-25138aa43e67\\d0dc0f54-e23f-40fb-a0ac-56fbd55108f0.rna_seq.augmented_star_gene_counts.tsv\n",
      "Processing sample: d0dc0f54-e23f-40fb-a0ac-56fbd55108f0.rna_seq.augmented_star_gene_counts\n",
      "Finished processing sample: d0dc0f54-e23f-40fb-a0ac-56fbd55108f0.rna_seq.augmented_star_gene_counts, shape: (60660, 10)\n",
      "Reading file: C:\\Users\\PC\\Desktop\\gene-expression-cancer-prediction\\rna_seq\\a701ab46-0745-4f23-8723-df5846e8806f\\29246ea5-44e5-43d3-be04-c038c20db027.rna_seq.augmented_star_gene_counts.tsv\n",
      "Processing sample: 29246ea5-44e5-43d3-be04-c038c20db027.rna_seq.augmented_star_gene_counts\n"
     ]
    },
    {
     "name": "stderr",
     "output_type": "stream",
     "text": [
      "C:\\Users\\PC\\AppData\\Local\\Temp\\ipykernel_4980\\1846137033.py:69: SettingWithCopyWarning: \n",
      "A value is trying to be set on a copy of a slice from a DataFrame.\n",
      "Try using .loc[row_indexer,col_indexer] = value instead\n",
      "\n",
      "See the caveats in the documentation: https://pandas.pydata.org/pandas-docs/stable/user_guide/indexing.html#returning-a-view-versus-a-copy\n",
      "  df_clean['sample_id'] = sample_id\n",
      "C:\\Users\\PC\\AppData\\Local\\Temp\\ipykernel_4980\\1846137033.py:69: SettingWithCopyWarning: \n",
      "A value is trying to be set on a copy of a slice from a DataFrame.\n",
      "Try using .loc[row_indexer,col_indexer] = value instead\n",
      "\n",
      "See the caveats in the documentation: https://pandas.pydata.org/pandas-docs/stable/user_guide/indexing.html#returning-a-view-versus-a-copy\n",
      "  df_clean['sample_id'] = sample_id\n"
     ]
    },
    {
     "name": "stdout",
     "output_type": "stream",
     "text": [
      "Finished processing sample: 29246ea5-44e5-43d3-be04-c038c20db027.rna_seq.augmented_star_gene_counts, shape: (60660, 10)\n",
      "Reading file: C:\\Users\\PC\\Desktop\\gene-expression-cancer-prediction\\rna_seq\\a7091211-3bf5-4d3b-8625-57281bc0cd56\\bf121f27-c765-4f64-8a9f-73c30427217b.rna_seq.augmented_star_gene_counts.tsv\n",
      "Processing sample: bf121f27-c765-4f64-8a9f-73c30427217b.rna_seq.augmented_star_gene_counts\n",
      "Finished processing sample: bf121f27-c765-4f64-8a9f-73c30427217b.rna_seq.augmented_star_gene_counts, shape: (60660, 10)\n",
      "Reading file: C:\\Users\\PC\\Desktop\\gene-expression-cancer-prediction\\rna_seq\\a73c6624-c462-4c25-94bf-58769257c6dc\\34a0c8c5-8086-4f33-9ecb-7518035a4a7f.rna_seq.augmented_star_gene_counts.tsv\n",
      "Processing sample: 34a0c8c5-8086-4f33-9ecb-7518035a4a7f.rna_seq.augmented_star_gene_counts\n"
     ]
    },
    {
     "name": "stderr",
     "output_type": "stream",
     "text": [
      "C:\\Users\\PC\\AppData\\Local\\Temp\\ipykernel_4980\\1846137033.py:69: SettingWithCopyWarning: \n",
      "A value is trying to be set on a copy of a slice from a DataFrame.\n",
      "Try using .loc[row_indexer,col_indexer] = value instead\n",
      "\n",
      "See the caveats in the documentation: https://pandas.pydata.org/pandas-docs/stable/user_guide/indexing.html#returning-a-view-versus-a-copy\n",
      "  df_clean['sample_id'] = sample_id\n",
      "C:\\Users\\PC\\AppData\\Local\\Temp\\ipykernel_4980\\1846137033.py:69: SettingWithCopyWarning: \n",
      "A value is trying to be set on a copy of a slice from a DataFrame.\n",
      "Try using .loc[row_indexer,col_indexer] = value instead\n",
      "\n",
      "See the caveats in the documentation: https://pandas.pydata.org/pandas-docs/stable/user_guide/indexing.html#returning-a-view-versus-a-copy\n",
      "  df_clean['sample_id'] = sample_id\n"
     ]
    },
    {
     "name": "stdout",
     "output_type": "stream",
     "text": [
      "Finished processing sample: 34a0c8c5-8086-4f33-9ecb-7518035a4a7f.rna_seq.augmented_star_gene_counts, shape: (60660, 10)\n",
      "Reading file: C:\\Users\\PC\\Desktop\\gene-expression-cancer-prediction\\rna_seq\\a7d3a4c0-36ee-43ff-bdcc-37db4b11df76\\ef54e4a6-4447-425f-be33-e428e5838daa.rna_seq.augmented_star_gene_counts.tsv\n",
      "Processing sample: ef54e4a6-4447-425f-be33-e428e5838daa.rna_seq.augmented_star_gene_counts\n",
      "Finished processing sample: ef54e4a6-4447-425f-be33-e428e5838daa.rna_seq.augmented_star_gene_counts, shape: (60660, 10)\n",
      "Reading file: C:\\Users\\PC\\Desktop\\gene-expression-cancer-prediction\\rna_seq\\a83dac26-4fdb-4819-be18-a6e03641fb80\\cf3fe851-479f-4d22-9daf-99b163d0ed06.rna_seq.augmented_star_gene_counts.tsv\n",
      "Processing sample: cf3fe851-479f-4d22-9daf-99b163d0ed06.rna_seq.augmented_star_gene_counts\n"
     ]
    },
    {
     "name": "stderr",
     "output_type": "stream",
     "text": [
      "C:\\Users\\PC\\AppData\\Local\\Temp\\ipykernel_4980\\1846137033.py:69: SettingWithCopyWarning: \n",
      "A value is trying to be set on a copy of a slice from a DataFrame.\n",
      "Try using .loc[row_indexer,col_indexer] = value instead\n",
      "\n",
      "See the caveats in the documentation: https://pandas.pydata.org/pandas-docs/stable/user_guide/indexing.html#returning-a-view-versus-a-copy\n",
      "  df_clean['sample_id'] = sample_id\n",
      "C:\\Users\\PC\\AppData\\Local\\Temp\\ipykernel_4980\\1846137033.py:69: SettingWithCopyWarning: \n",
      "A value is trying to be set on a copy of a slice from a DataFrame.\n",
      "Try using .loc[row_indexer,col_indexer] = value instead\n",
      "\n",
      "See the caveats in the documentation: https://pandas.pydata.org/pandas-docs/stable/user_guide/indexing.html#returning-a-view-versus-a-copy\n",
      "  df_clean['sample_id'] = sample_id\n"
     ]
    },
    {
     "name": "stdout",
     "output_type": "stream",
     "text": [
      "Finished processing sample: cf3fe851-479f-4d22-9daf-99b163d0ed06.rna_seq.augmented_star_gene_counts, shape: (60660, 10)\n",
      "Reading file: C:\\Users\\PC\\Desktop\\gene-expression-cancer-prediction\\rna_seq\\a8898537-0afa-4655-b123-78c11b90c53a\\b4aad532-f92b-43d9-820c-f3c98e382225.rna_seq.augmented_star_gene_counts.tsv\n",
      "Processing sample: b4aad532-f92b-43d9-820c-f3c98e382225.rna_seq.augmented_star_gene_counts\n",
      "Finished processing sample: b4aad532-f92b-43d9-820c-f3c98e382225.rna_seq.augmented_star_gene_counts, shape: (60660, 10)\n",
      "Warning: No .tsv file found in C:\\Users\\PC\\Desktop\\gene-expression-cancer-prediction\\rna_seq\\a8a6308d-04e4-47e9-adb6-c895b605ad69\n",
      "Reading file: C:\\Users\\PC\\Desktop\\gene-expression-cancer-prediction\\rna_seq\\a8ab2eb8-9da3-494f-b740-dc3f4185acb2\\04026251-0cf6-4889-83b4-8a46881470b5.rna_seq.augmented_star_gene_counts.tsv\n",
      "Processing sample: 04026251-0cf6-4889-83b4-8a46881470b5.rna_seq.augmented_star_gene_counts\n",
      "Finished processing sample: 04026251-0cf6-4889-83b4-8a46881470b5.rna_seq.augmented_star_gene_counts, shape: (60660, 10)\n",
      "Reading file: C:\\Users\\PC\\Desktop\\gene-expression-cancer-prediction\\rna_seq\\a8fa9282-6695-477a-8202-73882cdfa8f7\\77e4a7c3-f2cd-4b5e-8c18-bfa3ce91cf56.rna_seq.augmented_star_gene_counts.tsv\n",
      "Processing sample: 77e4a7c3-f2cd-4b5e-8c18-bfa3ce91cf56.rna_seq.augmented_star_gene_counts\n"
     ]
    },
    {
     "name": "stderr",
     "output_type": "stream",
     "text": [
      "C:\\Users\\PC\\AppData\\Local\\Temp\\ipykernel_4980\\1846137033.py:69: SettingWithCopyWarning: \n",
      "A value is trying to be set on a copy of a slice from a DataFrame.\n",
      "Try using .loc[row_indexer,col_indexer] = value instead\n",
      "\n",
      "See the caveats in the documentation: https://pandas.pydata.org/pandas-docs/stable/user_guide/indexing.html#returning-a-view-versus-a-copy\n",
      "  df_clean['sample_id'] = sample_id\n",
      "C:\\Users\\PC\\AppData\\Local\\Temp\\ipykernel_4980\\1846137033.py:69: SettingWithCopyWarning: \n",
      "A value is trying to be set on a copy of a slice from a DataFrame.\n",
      "Try using .loc[row_indexer,col_indexer] = value instead\n",
      "\n",
      "See the caveats in the documentation: https://pandas.pydata.org/pandas-docs/stable/user_guide/indexing.html#returning-a-view-versus-a-copy\n",
      "  df_clean['sample_id'] = sample_id\n"
     ]
    },
    {
     "name": "stdout",
     "output_type": "stream",
     "text": [
      "Finished processing sample: 77e4a7c3-f2cd-4b5e-8c18-bfa3ce91cf56.rna_seq.augmented_star_gene_counts, shape: (60660, 10)\n",
      "Reading file: C:\\Users\\PC\\Desktop\\gene-expression-cancer-prediction\\rna_seq\\a9527be9-e865-4074-ae57-f3510e70c203\\d6ca3b86-5a26-4467-b9a9-cb7fcc5a7316.rna_seq.augmented_star_gene_counts.tsv\n",
      "Processing sample: d6ca3b86-5a26-4467-b9a9-cb7fcc5a7316.rna_seq.augmented_star_gene_counts\n",
      "Finished processing sample: d6ca3b86-5a26-4467-b9a9-cb7fcc5a7316.rna_seq.augmented_star_gene_counts, shape: (60660, 10)\n",
      "Reading file: C:\\Users\\PC\\Desktop\\gene-expression-cancer-prediction\\rna_seq\\a9b2ff1a-3b37-4388-a1e6-826e2edea49b\\aae81240-6757-42b9-8dce-9936f8574f19.rna_seq.augmented_star_gene_counts.tsv\n",
      "Processing sample: aae81240-6757-42b9-8dce-9936f8574f19.rna_seq.augmented_star_gene_counts\n"
     ]
    },
    {
     "name": "stderr",
     "output_type": "stream",
     "text": [
      "C:\\Users\\PC\\AppData\\Local\\Temp\\ipykernel_4980\\1846137033.py:69: SettingWithCopyWarning: \n",
      "A value is trying to be set on a copy of a slice from a DataFrame.\n",
      "Try using .loc[row_indexer,col_indexer] = value instead\n",
      "\n",
      "See the caveats in the documentation: https://pandas.pydata.org/pandas-docs/stable/user_guide/indexing.html#returning-a-view-versus-a-copy\n",
      "  df_clean['sample_id'] = sample_id\n",
      "C:\\Users\\PC\\AppData\\Local\\Temp\\ipykernel_4980\\1846137033.py:69: SettingWithCopyWarning: \n",
      "A value is trying to be set on a copy of a slice from a DataFrame.\n",
      "Try using .loc[row_indexer,col_indexer] = value instead\n",
      "\n",
      "See the caveats in the documentation: https://pandas.pydata.org/pandas-docs/stable/user_guide/indexing.html#returning-a-view-versus-a-copy\n",
      "  df_clean['sample_id'] = sample_id\n"
     ]
    },
    {
     "name": "stdout",
     "output_type": "stream",
     "text": [
      "Finished processing sample: aae81240-6757-42b9-8dce-9936f8574f19.rna_seq.augmented_star_gene_counts, shape: (60660, 10)\n",
      "Reading file: C:\\Users\\PC\\Desktop\\gene-expression-cancer-prediction\\rna_seq\\a9b5ab37-10c2-4fb6-9c4e-3fcd5ea26526\\dbc4f72a-3937-4092-92b8-d52c6b0c3340.rna_seq.augmented_star_gene_counts.tsv\n",
      "Processing sample: dbc4f72a-3937-4092-92b8-d52c6b0c3340.rna_seq.augmented_star_gene_counts\n",
      "Finished processing sample: dbc4f72a-3937-4092-92b8-d52c6b0c3340.rna_seq.augmented_star_gene_counts, shape: (60660, 10)\n",
      "Reading file: C:\\Users\\PC\\Desktop\\gene-expression-cancer-prediction\\rna_seq\\aa2ab118-b3cc-4452-a29c-104f80f16f8d\\752ec80f-0c1d-4c66-9927-a32f2f9dfb2a.rna_seq.augmented_star_gene_counts.tsv\n",
      "Processing sample: 752ec80f-0c1d-4c66-9927-a32f2f9dfb2a.rna_seq.augmented_star_gene_counts\n"
     ]
    },
    {
     "name": "stderr",
     "output_type": "stream",
     "text": [
      "C:\\Users\\PC\\AppData\\Local\\Temp\\ipykernel_4980\\1846137033.py:69: SettingWithCopyWarning: \n",
      "A value is trying to be set on a copy of a slice from a DataFrame.\n",
      "Try using .loc[row_indexer,col_indexer] = value instead\n",
      "\n",
      "See the caveats in the documentation: https://pandas.pydata.org/pandas-docs/stable/user_guide/indexing.html#returning-a-view-versus-a-copy\n",
      "  df_clean['sample_id'] = sample_id\n",
      "C:\\Users\\PC\\AppData\\Local\\Temp\\ipykernel_4980\\1846137033.py:69: SettingWithCopyWarning: \n",
      "A value is trying to be set on a copy of a slice from a DataFrame.\n",
      "Try using .loc[row_indexer,col_indexer] = value instead\n",
      "\n",
      "See the caveats in the documentation: https://pandas.pydata.org/pandas-docs/stable/user_guide/indexing.html#returning-a-view-versus-a-copy\n",
      "  df_clean['sample_id'] = sample_id\n"
     ]
    },
    {
     "name": "stdout",
     "output_type": "stream",
     "text": [
      "Finished processing sample: 752ec80f-0c1d-4c66-9927-a32f2f9dfb2a.rna_seq.augmented_star_gene_counts, shape: (60660, 10)\n",
      "Reading file: C:\\Users\\PC\\Desktop\\gene-expression-cancer-prediction\\rna_seq\\aa89d193-05a1-4f7f-9291-b9cf646656de\\e06580e9-0b4a-48f7-9522-d54229aefb2d.rna_seq.augmented_star_gene_counts.tsv\n",
      "Processing sample: e06580e9-0b4a-48f7-9522-d54229aefb2d.rna_seq.augmented_star_gene_counts\n",
      "Finished processing sample: e06580e9-0b4a-48f7-9522-d54229aefb2d.rna_seq.augmented_star_gene_counts, shape: (60660, 10)\n",
      "Reading file: C:\\Users\\PC\\Desktop\\gene-expression-cancer-prediction\\rna_seq\\aa9179e0-a44c-440a-a150-a9d5727579ea\\144d0f39-feff-4dcd-a07d-abcc400e901f.rna_seq.augmented_star_gene_counts.tsv\n",
      "Processing sample: 144d0f39-feff-4dcd-a07d-abcc400e901f.rna_seq.augmented_star_gene_counts\n"
     ]
    },
    {
     "name": "stderr",
     "output_type": "stream",
     "text": [
      "C:\\Users\\PC\\AppData\\Local\\Temp\\ipykernel_4980\\1846137033.py:69: SettingWithCopyWarning: \n",
      "A value is trying to be set on a copy of a slice from a DataFrame.\n",
      "Try using .loc[row_indexer,col_indexer] = value instead\n",
      "\n",
      "See the caveats in the documentation: https://pandas.pydata.org/pandas-docs/stable/user_guide/indexing.html#returning-a-view-versus-a-copy\n",
      "  df_clean['sample_id'] = sample_id\n",
      "C:\\Users\\PC\\AppData\\Local\\Temp\\ipykernel_4980\\1846137033.py:69: SettingWithCopyWarning: \n",
      "A value is trying to be set on a copy of a slice from a DataFrame.\n",
      "Try using .loc[row_indexer,col_indexer] = value instead\n",
      "\n",
      "See the caveats in the documentation: https://pandas.pydata.org/pandas-docs/stable/user_guide/indexing.html#returning-a-view-versus-a-copy\n",
      "  df_clean['sample_id'] = sample_id\n"
     ]
    },
    {
     "name": "stdout",
     "output_type": "stream",
     "text": [
      "Finished processing sample: 144d0f39-feff-4dcd-a07d-abcc400e901f.rna_seq.augmented_star_gene_counts, shape: (60660, 10)\n",
      "Reading file: C:\\Users\\PC\\Desktop\\gene-expression-cancer-prediction\\rna_seq\\ab06e3b7-52ef-45e4-8fc6-dbb4f63b110e\\3daf8160-42c5-41bf-b251-77fce23a4aab.rna_seq.augmented_star_gene_counts.tsv\n",
      "Processing sample: 3daf8160-42c5-41bf-b251-77fce23a4aab.rna_seq.augmented_star_gene_counts\n"
     ]
    },
    {
     "name": "stderr",
     "output_type": "stream",
     "text": [
      "C:\\Users\\PC\\AppData\\Local\\Temp\\ipykernel_4980\\1846137033.py:69: SettingWithCopyWarning: \n",
      "A value is trying to be set on a copy of a slice from a DataFrame.\n",
      "Try using .loc[row_indexer,col_indexer] = value instead\n",
      "\n",
      "See the caveats in the documentation: https://pandas.pydata.org/pandas-docs/stable/user_guide/indexing.html#returning-a-view-versus-a-copy\n",
      "  df_clean['sample_id'] = sample_id\n",
      "C:\\Users\\PC\\AppData\\Local\\Temp\\ipykernel_4980\\1846137033.py:69: SettingWithCopyWarning: \n",
      "A value is trying to be set on a copy of a slice from a DataFrame.\n",
      "Try using .loc[row_indexer,col_indexer] = value instead\n",
      "\n",
      "See the caveats in the documentation: https://pandas.pydata.org/pandas-docs/stable/user_guide/indexing.html#returning-a-view-versus-a-copy\n",
      "  df_clean['sample_id'] = sample_id\n"
     ]
    },
    {
     "name": "stdout",
     "output_type": "stream",
     "text": [
      "Finished processing sample: 3daf8160-42c5-41bf-b251-77fce23a4aab.rna_seq.augmented_star_gene_counts, shape: (60660, 10)\n",
      "Reading file: C:\\Users\\PC\\Desktop\\gene-expression-cancer-prediction\\rna_seq\\abefed1d-9f40-4a97-9435-4d9df47f7ebd\\8b629c3d-0f28-4740-b681-6f064354f794.rna_seq.augmented_star_gene_counts.tsv\n",
      "Processing sample: 8b629c3d-0f28-4740-b681-6f064354f794.rna_seq.augmented_star_gene_counts\n",
      "Finished processing sample: 8b629c3d-0f28-4740-b681-6f064354f794.rna_seq.augmented_star_gene_counts, shape: (60660, 10)\n",
      "Reading file: C:\\Users\\PC\\Desktop\\gene-expression-cancer-prediction\\rna_seq\\ac16e2b7-9566-4330-8e13-4b31b92410e4\\94367ad2-de29-4beb-8dab-f79174894cd2.rna_seq.augmented_star_gene_counts.tsv\n",
      "Processing sample: 94367ad2-de29-4beb-8dab-f79174894cd2.rna_seq.augmented_star_gene_counts\n"
     ]
    },
    {
     "name": "stderr",
     "output_type": "stream",
     "text": [
      "C:\\Users\\PC\\AppData\\Local\\Temp\\ipykernel_4980\\1846137033.py:69: SettingWithCopyWarning: \n",
      "A value is trying to be set on a copy of a slice from a DataFrame.\n",
      "Try using .loc[row_indexer,col_indexer] = value instead\n",
      "\n",
      "See the caveats in the documentation: https://pandas.pydata.org/pandas-docs/stable/user_guide/indexing.html#returning-a-view-versus-a-copy\n",
      "  df_clean['sample_id'] = sample_id\n",
      "C:\\Users\\PC\\AppData\\Local\\Temp\\ipykernel_4980\\1846137033.py:69: SettingWithCopyWarning: \n",
      "A value is trying to be set on a copy of a slice from a DataFrame.\n",
      "Try using .loc[row_indexer,col_indexer] = value instead\n",
      "\n",
      "See the caveats in the documentation: https://pandas.pydata.org/pandas-docs/stable/user_guide/indexing.html#returning-a-view-versus-a-copy\n",
      "  df_clean['sample_id'] = sample_id\n"
     ]
    },
    {
     "name": "stdout",
     "output_type": "stream",
     "text": [
      "Finished processing sample: 94367ad2-de29-4beb-8dab-f79174894cd2.rna_seq.augmented_star_gene_counts, shape: (60660, 10)\n",
      "Reading file: C:\\Users\\PC\\Desktop\\gene-expression-cancer-prediction\\rna_seq\\ac70b1a2-ff7d-49db-a962-4c07479d50b6\\89f7da93-c1fd-410b-8479-64ad9bed850e.rna_seq.augmented_star_gene_counts.tsv\n",
      "Processing sample: 89f7da93-c1fd-410b-8479-64ad9bed850e.rna_seq.augmented_star_gene_counts\n",
      "Finished processing sample: 89f7da93-c1fd-410b-8479-64ad9bed850e.rna_seq.augmented_star_gene_counts, shape: (60660, 10)\n",
      "Reading file: C:\\Users\\PC\\Desktop\\gene-expression-cancer-prediction\\rna_seq\\ac7c3a38-5d88-488e-86f7-1c72a26fe5ef\\11ed8e05-8f30-460a-b502-01ae09504315.rna_seq.augmented_star_gene_counts.tsv\n",
      "Processing sample: 11ed8e05-8f30-460a-b502-01ae09504315.rna_seq.augmented_star_gene_counts\n"
     ]
    },
    {
     "name": "stderr",
     "output_type": "stream",
     "text": [
      "C:\\Users\\PC\\AppData\\Local\\Temp\\ipykernel_4980\\1846137033.py:69: SettingWithCopyWarning: \n",
      "A value is trying to be set on a copy of a slice from a DataFrame.\n",
      "Try using .loc[row_indexer,col_indexer] = value instead\n",
      "\n",
      "See the caveats in the documentation: https://pandas.pydata.org/pandas-docs/stable/user_guide/indexing.html#returning-a-view-versus-a-copy\n",
      "  df_clean['sample_id'] = sample_id\n",
      "C:\\Users\\PC\\AppData\\Local\\Temp\\ipykernel_4980\\1846137033.py:69: SettingWithCopyWarning: \n",
      "A value is trying to be set on a copy of a slice from a DataFrame.\n",
      "Try using .loc[row_indexer,col_indexer] = value instead\n",
      "\n",
      "See the caveats in the documentation: https://pandas.pydata.org/pandas-docs/stable/user_guide/indexing.html#returning-a-view-versus-a-copy\n",
      "  df_clean['sample_id'] = sample_id\n"
     ]
    },
    {
     "name": "stdout",
     "output_type": "stream",
     "text": [
      "Finished processing sample: 11ed8e05-8f30-460a-b502-01ae09504315.rna_seq.augmented_star_gene_counts, shape: (60660, 10)\n",
      "Reading file: C:\\Users\\PC\\Desktop\\gene-expression-cancer-prediction\\rna_seq\\ac88a5c1-caae-4b08-87bc-0dedbe61d996\\465928c5-ab56-46ff-acb5-76e36c97ebda.rna_seq.augmented_star_gene_counts.tsv\n",
      "Processing sample: 465928c5-ab56-46ff-acb5-76e36c97ebda.rna_seq.augmented_star_gene_counts\n",
      "Finished processing sample: 465928c5-ab56-46ff-acb5-76e36c97ebda.rna_seq.augmented_star_gene_counts, shape: (60660, 10)\n",
      "Reading file: C:\\Users\\PC\\Desktop\\gene-expression-cancer-prediction\\rna_seq\\ad18b7e0-57ec-41c5-99a1-0c9d8740e0f1\\fd2f42a3-d79c-466b-98c2-5f4d0a4a64e9.rna_seq.augmented_star_gene_counts.tsv\n",
      "Processing sample: fd2f42a3-d79c-466b-98c2-5f4d0a4a64e9.rna_seq.augmented_star_gene_counts\n"
     ]
    },
    {
     "name": "stderr",
     "output_type": "stream",
     "text": [
      "C:\\Users\\PC\\AppData\\Local\\Temp\\ipykernel_4980\\1846137033.py:69: SettingWithCopyWarning: \n",
      "A value is trying to be set on a copy of a slice from a DataFrame.\n",
      "Try using .loc[row_indexer,col_indexer] = value instead\n",
      "\n",
      "See the caveats in the documentation: https://pandas.pydata.org/pandas-docs/stable/user_guide/indexing.html#returning-a-view-versus-a-copy\n",
      "  df_clean['sample_id'] = sample_id\n",
      "C:\\Users\\PC\\AppData\\Local\\Temp\\ipykernel_4980\\1846137033.py:69: SettingWithCopyWarning: \n",
      "A value is trying to be set on a copy of a slice from a DataFrame.\n",
      "Try using .loc[row_indexer,col_indexer] = value instead\n",
      "\n",
      "See the caveats in the documentation: https://pandas.pydata.org/pandas-docs/stable/user_guide/indexing.html#returning-a-view-versus-a-copy\n",
      "  df_clean['sample_id'] = sample_id\n"
     ]
    },
    {
     "name": "stdout",
     "output_type": "stream",
     "text": [
      "Finished processing sample: fd2f42a3-d79c-466b-98c2-5f4d0a4a64e9.rna_seq.augmented_star_gene_counts, shape: (60660, 10)\n",
      "Reading file: C:\\Users\\PC\\Desktop\\gene-expression-cancer-prediction\\rna_seq\\ad1ea8c5-ca8b-49e9-a650-6012d71daf24\\69d12077-db51-4a74-a090-9b26e0368ee8.rna_seq.augmented_star_gene_counts.tsv\n",
      "Processing sample: 69d12077-db51-4a74-a090-9b26e0368ee8.rna_seq.augmented_star_gene_counts\n",
      "Finished processing sample: 69d12077-db51-4a74-a090-9b26e0368ee8.rna_seq.augmented_star_gene_counts, shape: (60660, 10)\n",
      "Reading file: C:\\Users\\PC\\Desktop\\gene-expression-cancer-prediction\\rna_seq\\ad4b2d76-b4bb-457d-903f-823630a4d37b\\0940092b-46da-4975-bde7-f205fe12707b.rna_seq.augmented_star_gene_counts.tsv\n",
      "Processing sample: 0940092b-46da-4975-bde7-f205fe12707b.rna_seq.augmented_star_gene_counts\n"
     ]
    },
    {
     "name": "stderr",
     "output_type": "stream",
     "text": [
      "C:\\Users\\PC\\AppData\\Local\\Temp\\ipykernel_4980\\1846137033.py:69: SettingWithCopyWarning: \n",
      "A value is trying to be set on a copy of a slice from a DataFrame.\n",
      "Try using .loc[row_indexer,col_indexer] = value instead\n",
      "\n",
      "See the caveats in the documentation: https://pandas.pydata.org/pandas-docs/stable/user_guide/indexing.html#returning-a-view-versus-a-copy\n",
      "  df_clean['sample_id'] = sample_id\n",
      "C:\\Users\\PC\\AppData\\Local\\Temp\\ipykernel_4980\\1846137033.py:69: SettingWithCopyWarning: \n",
      "A value is trying to be set on a copy of a slice from a DataFrame.\n",
      "Try using .loc[row_indexer,col_indexer] = value instead\n",
      "\n",
      "See the caveats in the documentation: https://pandas.pydata.org/pandas-docs/stable/user_guide/indexing.html#returning-a-view-versus-a-copy\n",
      "  df_clean['sample_id'] = sample_id\n"
     ]
    },
    {
     "name": "stdout",
     "output_type": "stream",
     "text": [
      "Finished processing sample: 0940092b-46da-4975-bde7-f205fe12707b.rna_seq.augmented_star_gene_counts, shape: (60660, 10)\n",
      "Reading file: C:\\Users\\PC\\Desktop\\gene-expression-cancer-prediction\\rna_seq\\ad67e3a9-1751-4e6f-a962-2175f824f96d\\68503654-dd77-48f1-abab-aca55258dca4.rna_seq.augmented_star_gene_counts.tsv\n",
      "Processing sample: 68503654-dd77-48f1-abab-aca55258dca4.rna_seq.augmented_star_gene_counts\n",
      "Finished processing sample: 68503654-dd77-48f1-abab-aca55258dca4.rna_seq.augmented_star_gene_counts, shape: (60660, 10)\n",
      "Reading file: C:\\Users\\PC\\Desktop\\gene-expression-cancer-prediction\\rna_seq\\ada5cdcf-f9e0-4209-aa92-ac3b921bbdf4\\7e48e080-0ec9-4589-ba1d-6f7a1f60a010.rna_seq.augmented_star_gene_counts.tsv\n",
      "Processing sample: 7e48e080-0ec9-4589-ba1d-6f7a1f60a010.rna_seq.augmented_star_gene_counts\n"
     ]
    },
    {
     "name": "stderr",
     "output_type": "stream",
     "text": [
      "C:\\Users\\PC\\AppData\\Local\\Temp\\ipykernel_4980\\1846137033.py:69: SettingWithCopyWarning: \n",
      "A value is trying to be set on a copy of a slice from a DataFrame.\n",
      "Try using .loc[row_indexer,col_indexer] = value instead\n",
      "\n",
      "See the caveats in the documentation: https://pandas.pydata.org/pandas-docs/stable/user_guide/indexing.html#returning-a-view-versus-a-copy\n",
      "  df_clean['sample_id'] = sample_id\n",
      "C:\\Users\\PC\\AppData\\Local\\Temp\\ipykernel_4980\\1846137033.py:69: SettingWithCopyWarning: \n",
      "A value is trying to be set on a copy of a slice from a DataFrame.\n",
      "Try using .loc[row_indexer,col_indexer] = value instead\n",
      "\n",
      "See the caveats in the documentation: https://pandas.pydata.org/pandas-docs/stable/user_guide/indexing.html#returning-a-view-versus-a-copy\n",
      "  df_clean['sample_id'] = sample_id\n"
     ]
    },
    {
     "name": "stdout",
     "output_type": "stream",
     "text": [
      "Finished processing sample: 7e48e080-0ec9-4589-ba1d-6f7a1f60a010.rna_seq.augmented_star_gene_counts, shape: (60660, 10)\n",
      "Reading file: C:\\Users\\PC\\Desktop\\gene-expression-cancer-prediction\\rna_seq\\ae2e0936-a225-491b-8361-3c20663768d9\\a0707dab-b8bd-4a57-a890-69a3f4daacf6.rna_seq.augmented_star_gene_counts.tsv\n",
      "Processing sample: a0707dab-b8bd-4a57-a890-69a3f4daacf6.rna_seq.augmented_star_gene_counts\n",
      "Finished processing sample: a0707dab-b8bd-4a57-a890-69a3f4daacf6.rna_seq.augmented_star_gene_counts, shape: (60660, 10)\n",
      "Reading file: C:\\Users\\PC\\Desktop\\gene-expression-cancer-prediction\\rna_seq\\ae72486a-e98c-4d72-b172-085d5b79df2c\\b5e84055-487f-467a-9bc4-bd59ec82f183.rna_seq.augmented_star_gene_counts.tsv\n",
      "Processing sample: b5e84055-487f-467a-9bc4-bd59ec82f183.rna_seq.augmented_star_gene_counts\n"
     ]
    },
    {
     "name": "stderr",
     "output_type": "stream",
     "text": [
      "C:\\Users\\PC\\AppData\\Local\\Temp\\ipykernel_4980\\1846137033.py:69: SettingWithCopyWarning: \n",
      "A value is trying to be set on a copy of a slice from a DataFrame.\n",
      "Try using .loc[row_indexer,col_indexer] = value instead\n",
      "\n",
      "See the caveats in the documentation: https://pandas.pydata.org/pandas-docs/stable/user_guide/indexing.html#returning-a-view-versus-a-copy\n",
      "  df_clean['sample_id'] = sample_id\n",
      "C:\\Users\\PC\\AppData\\Local\\Temp\\ipykernel_4980\\1846137033.py:69: SettingWithCopyWarning: \n",
      "A value is trying to be set on a copy of a slice from a DataFrame.\n",
      "Try using .loc[row_indexer,col_indexer] = value instead\n",
      "\n",
      "See the caveats in the documentation: https://pandas.pydata.org/pandas-docs/stable/user_guide/indexing.html#returning-a-view-versus-a-copy\n",
      "  df_clean['sample_id'] = sample_id\n"
     ]
    },
    {
     "name": "stdout",
     "output_type": "stream",
     "text": [
      "Finished processing sample: b5e84055-487f-467a-9bc4-bd59ec82f183.rna_seq.augmented_star_gene_counts, shape: (60660, 10)\n",
      "Reading file: C:\\Users\\PC\\Desktop\\gene-expression-cancer-prediction\\rna_seq\\ae7a394e-b030-46d3-8cf2-c378c0afdc81\\c48d2d0e-5626-42b3-b508-75b3cceb053f.rna_seq.augmented_star_gene_counts.tsv\n",
      "Processing sample: c48d2d0e-5626-42b3-b508-75b3cceb053f.rna_seq.augmented_star_gene_counts\n",
      "Finished processing sample: c48d2d0e-5626-42b3-b508-75b3cceb053f.rna_seq.augmented_star_gene_counts, shape: (60660, 10)\n",
      "Reading file: C:\\Users\\PC\\Desktop\\gene-expression-cancer-prediction\\rna_seq\\aedc877a-f4b9-4657-b5c9-b7768b5751c9\\ac792e04-54f4-4c6c-9cb5-23a7c1a4ed0b.rna_seq.augmented_star_gene_counts.tsv\n",
      "Processing sample: ac792e04-54f4-4c6c-9cb5-23a7c1a4ed0b.rna_seq.augmented_star_gene_counts\n"
     ]
    },
    {
     "name": "stderr",
     "output_type": "stream",
     "text": [
      "C:\\Users\\PC\\AppData\\Local\\Temp\\ipykernel_4980\\1846137033.py:69: SettingWithCopyWarning: \n",
      "A value is trying to be set on a copy of a slice from a DataFrame.\n",
      "Try using .loc[row_indexer,col_indexer] = value instead\n",
      "\n",
      "See the caveats in the documentation: https://pandas.pydata.org/pandas-docs/stable/user_guide/indexing.html#returning-a-view-versus-a-copy\n",
      "  df_clean['sample_id'] = sample_id\n",
      "C:\\Users\\PC\\AppData\\Local\\Temp\\ipykernel_4980\\1846137033.py:69: SettingWithCopyWarning: \n",
      "A value is trying to be set on a copy of a slice from a DataFrame.\n",
      "Try using .loc[row_indexer,col_indexer] = value instead\n",
      "\n",
      "See the caveats in the documentation: https://pandas.pydata.org/pandas-docs/stable/user_guide/indexing.html#returning-a-view-versus-a-copy\n",
      "  df_clean['sample_id'] = sample_id\n"
     ]
    },
    {
     "name": "stdout",
     "output_type": "stream",
     "text": [
      "Finished processing sample: ac792e04-54f4-4c6c-9cb5-23a7c1a4ed0b.rna_seq.augmented_star_gene_counts, shape: (60660, 10)\n",
      "Reading file: C:\\Users\\PC\\Desktop\\gene-expression-cancer-prediction\\rna_seq\\afedbcf7-d427-4371-9c2a-f349b03de522\\6e209f42-3c0f-4f05-83d7-c982448ccb87.rna_seq.augmented_star_gene_counts.tsv\n",
      "Processing sample: 6e209f42-3c0f-4f05-83d7-c982448ccb87.rna_seq.augmented_star_gene_counts\n",
      "Finished processing sample: 6e209f42-3c0f-4f05-83d7-c982448ccb87.rna_seq.augmented_star_gene_counts, shape: (60660, 10)\n",
      "Reading file: C:\\Users\\PC\\Desktop\\gene-expression-cancer-prediction\\rna_seq\\b0cc3c29-89fe-4010-8f56-137f2b897bce\\f7c6320e-0c39-4b92-9a25-fd4e03b70362.rna_seq.augmented_star_gene_counts.tsv\n",
      "Processing sample: f7c6320e-0c39-4b92-9a25-fd4e03b70362.rna_seq.augmented_star_gene_counts\n"
     ]
    },
    {
     "name": "stderr",
     "output_type": "stream",
     "text": [
      "C:\\Users\\PC\\AppData\\Local\\Temp\\ipykernel_4980\\1846137033.py:69: SettingWithCopyWarning: \n",
      "A value is trying to be set on a copy of a slice from a DataFrame.\n",
      "Try using .loc[row_indexer,col_indexer] = value instead\n",
      "\n",
      "See the caveats in the documentation: https://pandas.pydata.org/pandas-docs/stable/user_guide/indexing.html#returning-a-view-versus-a-copy\n",
      "  df_clean['sample_id'] = sample_id\n",
      "C:\\Users\\PC\\AppData\\Local\\Temp\\ipykernel_4980\\1846137033.py:69: SettingWithCopyWarning: \n",
      "A value is trying to be set on a copy of a slice from a DataFrame.\n",
      "Try using .loc[row_indexer,col_indexer] = value instead\n",
      "\n",
      "See the caveats in the documentation: https://pandas.pydata.org/pandas-docs/stable/user_guide/indexing.html#returning-a-view-versus-a-copy\n",
      "  df_clean['sample_id'] = sample_id\n"
     ]
    },
    {
     "name": "stdout",
     "output_type": "stream",
     "text": [
      "Finished processing sample: f7c6320e-0c39-4b92-9a25-fd4e03b70362.rna_seq.augmented_star_gene_counts, shape: (60660, 10)\n",
      "Reading file: C:\\Users\\PC\\Desktop\\gene-expression-cancer-prediction\\rna_seq\\b0e49ee8-40e0-4edf-bcde-277a0fe1d12f\\31bdedf8-eb1c-48ae-8d96-e06c2b3f27d2.rna_seq.augmented_star_gene_counts.tsv\n",
      "Processing sample: 31bdedf8-eb1c-48ae-8d96-e06c2b3f27d2.rna_seq.augmented_star_gene_counts\n",
      "Finished processing sample: 31bdedf8-eb1c-48ae-8d96-e06c2b3f27d2.rna_seq.augmented_star_gene_counts, shape: (60660, 10)\n",
      "Reading file: C:\\Users\\PC\\Desktop\\gene-expression-cancer-prediction\\rna_seq\\b0e906d2-e2ae-49fa-8d7a-8a00f1d6d0a1\\fe15bb7d-6469-4778-9dc8-9e4c5877942c.rna_seq.augmented_star_gene_counts.tsv\n",
      "Processing sample: fe15bb7d-6469-4778-9dc8-9e4c5877942c.rna_seq.augmented_star_gene_counts\n"
     ]
    },
    {
     "name": "stderr",
     "output_type": "stream",
     "text": [
      "C:\\Users\\PC\\AppData\\Local\\Temp\\ipykernel_4980\\1846137033.py:69: SettingWithCopyWarning: \n",
      "A value is trying to be set on a copy of a slice from a DataFrame.\n",
      "Try using .loc[row_indexer,col_indexer] = value instead\n",
      "\n",
      "See the caveats in the documentation: https://pandas.pydata.org/pandas-docs/stable/user_guide/indexing.html#returning-a-view-versus-a-copy\n",
      "  df_clean['sample_id'] = sample_id\n",
      "C:\\Users\\PC\\AppData\\Local\\Temp\\ipykernel_4980\\1846137033.py:69: SettingWithCopyWarning: \n",
      "A value is trying to be set on a copy of a slice from a DataFrame.\n",
      "Try using .loc[row_indexer,col_indexer] = value instead\n",
      "\n",
      "See the caveats in the documentation: https://pandas.pydata.org/pandas-docs/stable/user_guide/indexing.html#returning-a-view-versus-a-copy\n",
      "  df_clean['sample_id'] = sample_id\n"
     ]
    },
    {
     "name": "stdout",
     "output_type": "stream",
     "text": [
      "Finished processing sample: fe15bb7d-6469-4778-9dc8-9e4c5877942c.rna_seq.augmented_star_gene_counts, shape: (60660, 10)\n",
      "Reading file: C:\\Users\\PC\\Desktop\\gene-expression-cancer-prediction\\rna_seq\\b0fc63c9-c4aa-4206-8636-47245f510cff\\8d66b5ac-4ceb-40a3-b2b9-4d0c24be01a7.rna_seq.augmented_star_gene_counts.tsv\n",
      "Processing sample: 8d66b5ac-4ceb-40a3-b2b9-4d0c24be01a7.rna_seq.augmented_star_gene_counts\n",
      "Finished processing sample: 8d66b5ac-4ceb-40a3-b2b9-4d0c24be01a7.rna_seq.augmented_star_gene_counts, shape: (60660, 10)\n",
      "Reading file: C:\\Users\\PC\\Desktop\\gene-expression-cancer-prediction\\rna_seq\\b1ad91fb-fb78-4896-83cd-dad028a1d297\\e49fbda2-881a-43c1-9c16-0b07fdd281a7.rna_seq.augmented_star_gene_counts.tsv\n",
      "Processing sample: e49fbda2-881a-43c1-9c16-0b07fdd281a7.rna_seq.augmented_star_gene_counts\n"
     ]
    },
    {
     "name": "stderr",
     "output_type": "stream",
     "text": [
      "C:\\Users\\PC\\AppData\\Local\\Temp\\ipykernel_4980\\1846137033.py:69: SettingWithCopyWarning: \n",
      "A value is trying to be set on a copy of a slice from a DataFrame.\n",
      "Try using .loc[row_indexer,col_indexer] = value instead\n",
      "\n",
      "See the caveats in the documentation: https://pandas.pydata.org/pandas-docs/stable/user_guide/indexing.html#returning-a-view-versus-a-copy\n",
      "  df_clean['sample_id'] = sample_id\n",
      "C:\\Users\\PC\\AppData\\Local\\Temp\\ipykernel_4980\\1846137033.py:69: SettingWithCopyWarning: \n",
      "A value is trying to be set on a copy of a slice from a DataFrame.\n",
      "Try using .loc[row_indexer,col_indexer] = value instead\n",
      "\n",
      "See the caveats in the documentation: https://pandas.pydata.org/pandas-docs/stable/user_guide/indexing.html#returning-a-view-versus-a-copy\n",
      "  df_clean['sample_id'] = sample_id\n"
     ]
    },
    {
     "name": "stdout",
     "output_type": "stream",
     "text": [
      "Finished processing sample: e49fbda2-881a-43c1-9c16-0b07fdd281a7.rna_seq.augmented_star_gene_counts, shape: (60660, 10)\n",
      "Reading file: C:\\Users\\PC\\Desktop\\gene-expression-cancer-prediction\\rna_seq\\b1d29048-b913-40d9-bb58-97c107b95e8d\\3719879b-e7b9-42b4-974c-f69735086cad.rna_seq.augmented_star_gene_counts.tsv\n",
      "Processing sample: 3719879b-e7b9-42b4-974c-f69735086cad.rna_seq.augmented_star_gene_counts\n",
      "Finished processing sample: 3719879b-e7b9-42b4-974c-f69735086cad.rna_seq.augmented_star_gene_counts, shape: (60660, 10)\n",
      "Reading file: C:\\Users\\PC\\Desktop\\gene-expression-cancer-prediction\\rna_seq\\b26b27b0-5209-483c-a359-9a5d3ae920e9\\951bac30-0a85-4dd8-8470-c1a3b84817f9.rna_seq.augmented_star_gene_counts.tsv\n",
      "Processing sample: 951bac30-0a85-4dd8-8470-c1a3b84817f9.rna_seq.augmented_star_gene_counts\n"
     ]
    },
    {
     "name": "stderr",
     "output_type": "stream",
     "text": [
      "C:\\Users\\PC\\AppData\\Local\\Temp\\ipykernel_4980\\1846137033.py:69: SettingWithCopyWarning: \n",
      "A value is trying to be set on a copy of a slice from a DataFrame.\n",
      "Try using .loc[row_indexer,col_indexer] = value instead\n",
      "\n",
      "See the caveats in the documentation: https://pandas.pydata.org/pandas-docs/stable/user_guide/indexing.html#returning-a-view-versus-a-copy\n",
      "  df_clean['sample_id'] = sample_id\n",
      "C:\\Users\\PC\\AppData\\Local\\Temp\\ipykernel_4980\\1846137033.py:69: SettingWithCopyWarning: \n",
      "A value is trying to be set on a copy of a slice from a DataFrame.\n",
      "Try using .loc[row_indexer,col_indexer] = value instead\n",
      "\n",
      "See the caveats in the documentation: https://pandas.pydata.org/pandas-docs/stable/user_guide/indexing.html#returning-a-view-versus-a-copy\n",
      "  df_clean['sample_id'] = sample_id\n"
     ]
    },
    {
     "name": "stdout",
     "output_type": "stream",
     "text": [
      "Finished processing sample: 951bac30-0a85-4dd8-8470-c1a3b84817f9.rna_seq.augmented_star_gene_counts, shape: (60660, 10)\n",
      "Reading file: C:\\Users\\PC\\Desktop\\gene-expression-cancer-prediction\\rna_seq\\b2c326d7-25ab-42dc-afc2-bc93381062ea\\defae193-bf7c-417c-b68a-57963eb454ef.rna_seq.augmented_star_gene_counts.tsv\n",
      "Processing sample: defae193-bf7c-417c-b68a-57963eb454ef.rna_seq.augmented_star_gene_counts\n",
      "Finished processing sample: defae193-bf7c-417c-b68a-57963eb454ef.rna_seq.augmented_star_gene_counts, shape: (60660, 10)\n",
      "Reading file: C:\\Users\\PC\\Desktop\\gene-expression-cancer-prediction\\rna_seq\\b2f5c7b1-96c1-4928-83e9-4f67ace3158e\\3cf6f0ec-e11f-4a59-8d86-3e0bbc01f8e9.rna_seq.augmented_star_gene_counts.tsv\n",
      "Processing sample: 3cf6f0ec-e11f-4a59-8d86-3e0bbc01f8e9.rna_seq.augmented_star_gene_counts\n",
      "Finished processing sample: 3cf6f0ec-e11f-4a59-8d86-3e0bbc01f8e9.rna_seq.augmented_star_gene_counts, shape: (60660, 10)\n",
      "Reading file: C:\\Users\\PC\\Desktop\\gene-expression-cancer-prediction\\rna_seq\\b2fdef29-2c03-4aaf-bac8-2e1e5d07333b\\7acbca97-f38d-4da8-8d82-53a8eb0a43ef.rna_seq.augmented_star_gene_counts.tsv\n",
      "Processing sample: 7acbca97-f38d-4da8-8d82-53a8eb0a43ef.rna_seq.augmented_star_gene_counts\n"
     ]
    },
    {
     "name": "stderr",
     "output_type": "stream",
     "text": [
      "C:\\Users\\PC\\AppData\\Local\\Temp\\ipykernel_4980\\1846137033.py:69: SettingWithCopyWarning: \n",
      "A value is trying to be set on a copy of a slice from a DataFrame.\n",
      "Try using .loc[row_indexer,col_indexer] = value instead\n",
      "\n",
      "See the caveats in the documentation: https://pandas.pydata.org/pandas-docs/stable/user_guide/indexing.html#returning-a-view-versus-a-copy\n",
      "  df_clean['sample_id'] = sample_id\n",
      "C:\\Users\\PC\\AppData\\Local\\Temp\\ipykernel_4980\\1846137033.py:69: SettingWithCopyWarning: \n",
      "A value is trying to be set on a copy of a slice from a DataFrame.\n",
      "Try using .loc[row_indexer,col_indexer] = value instead\n",
      "\n",
      "See the caveats in the documentation: https://pandas.pydata.org/pandas-docs/stable/user_guide/indexing.html#returning-a-view-versus-a-copy\n",
      "  df_clean['sample_id'] = sample_id\n"
     ]
    },
    {
     "name": "stdout",
     "output_type": "stream",
     "text": [
      "Finished processing sample: 7acbca97-f38d-4da8-8d82-53a8eb0a43ef.rna_seq.augmented_star_gene_counts, shape: (60660, 10)\n",
      "Reading file: C:\\Users\\PC\\Desktop\\gene-expression-cancer-prediction\\rna_seq\\b3b6d3bf-426f-4720-9adb-98783faa0eff\\5782ee15-ce76-43d2-ba6c-e84284f4a99f.rna_seq.augmented_star_gene_counts.tsv\n",
      "Processing sample: 5782ee15-ce76-43d2-ba6c-e84284f4a99f.rna_seq.augmented_star_gene_counts\n",
      "Finished processing sample: 5782ee15-ce76-43d2-ba6c-e84284f4a99f.rna_seq.augmented_star_gene_counts, shape: (60660, 10)\n",
      "Reading file: C:\\Users\\PC\\Desktop\\gene-expression-cancer-prediction\\rna_seq\\b3b9ae66-e8d1-4a32-a2a9-46931b753527\\e627254f-65f9-4939-add4-bb77bfd92e16.rna_seq.augmented_star_gene_counts.tsv\n",
      "Processing sample: e627254f-65f9-4939-add4-bb77bfd92e16.rna_seq.augmented_star_gene_counts\n"
     ]
    },
    {
     "name": "stderr",
     "output_type": "stream",
     "text": [
      "C:\\Users\\PC\\AppData\\Local\\Temp\\ipykernel_4980\\1846137033.py:69: SettingWithCopyWarning: \n",
      "A value is trying to be set on a copy of a slice from a DataFrame.\n",
      "Try using .loc[row_indexer,col_indexer] = value instead\n",
      "\n",
      "See the caveats in the documentation: https://pandas.pydata.org/pandas-docs/stable/user_guide/indexing.html#returning-a-view-versus-a-copy\n",
      "  df_clean['sample_id'] = sample_id\n",
      "C:\\Users\\PC\\AppData\\Local\\Temp\\ipykernel_4980\\1846137033.py:69: SettingWithCopyWarning: \n",
      "A value is trying to be set on a copy of a slice from a DataFrame.\n",
      "Try using .loc[row_indexer,col_indexer] = value instead\n",
      "\n",
      "See the caveats in the documentation: https://pandas.pydata.org/pandas-docs/stable/user_guide/indexing.html#returning-a-view-versus-a-copy\n",
      "  df_clean['sample_id'] = sample_id\n"
     ]
    },
    {
     "name": "stdout",
     "output_type": "stream",
     "text": [
      "Finished processing sample: e627254f-65f9-4939-add4-bb77bfd92e16.rna_seq.augmented_star_gene_counts, shape: (60660, 10)\n",
      "Reading file: C:\\Users\\PC\\Desktop\\gene-expression-cancer-prediction\\rna_seq\\b3eb0ef4-66e8-48df-9acc-fd252dc2ac61\\f084874a-f9a8-4858-a858-d9b80871755b.rna_seq.augmented_star_gene_counts.tsv\n",
      "Processing sample: f084874a-f9a8-4858-a858-d9b80871755b.rna_seq.augmented_star_gene_counts\n",
      "Finished processing sample: f084874a-f9a8-4858-a858-d9b80871755b.rna_seq.augmented_star_gene_counts, shape: (60660, 10)\n",
      "Reading file: C:\\Users\\PC\\Desktop\\gene-expression-cancer-prediction\\rna_seq\\b46720bc-7f5a-4bf4-a2a3-3d9fe500d193\\0633890f-584c-43d9-aa3f-7a6555533dd8.rna_seq.augmented_star_gene_counts.tsv\n",
      "Processing sample: 0633890f-584c-43d9-aa3f-7a6555533dd8.rna_seq.augmented_star_gene_counts\n"
     ]
    },
    {
     "name": "stderr",
     "output_type": "stream",
     "text": [
      "C:\\Users\\PC\\AppData\\Local\\Temp\\ipykernel_4980\\1846137033.py:69: SettingWithCopyWarning: \n",
      "A value is trying to be set on a copy of a slice from a DataFrame.\n",
      "Try using .loc[row_indexer,col_indexer] = value instead\n",
      "\n",
      "See the caveats in the documentation: https://pandas.pydata.org/pandas-docs/stable/user_guide/indexing.html#returning-a-view-versus-a-copy\n",
      "  df_clean['sample_id'] = sample_id\n",
      "C:\\Users\\PC\\AppData\\Local\\Temp\\ipykernel_4980\\1846137033.py:69: SettingWithCopyWarning: \n",
      "A value is trying to be set on a copy of a slice from a DataFrame.\n",
      "Try using .loc[row_indexer,col_indexer] = value instead\n",
      "\n",
      "See the caveats in the documentation: https://pandas.pydata.org/pandas-docs/stable/user_guide/indexing.html#returning-a-view-versus-a-copy\n",
      "  df_clean['sample_id'] = sample_id\n"
     ]
    },
    {
     "name": "stdout",
     "output_type": "stream",
     "text": [
      "Finished processing sample: 0633890f-584c-43d9-aa3f-7a6555533dd8.rna_seq.augmented_star_gene_counts, shape: (60660, 10)\n",
      "Reading file: C:\\Users\\PC\\Desktop\\gene-expression-cancer-prediction\\rna_seq\\b4835808-46fa-4b6c-a933-92acc9908319\\22c90647-bf63-49e1-972a-0ff9000b674b.rna_seq.augmented_star_gene_counts.tsv\n",
      "Processing sample: 22c90647-bf63-49e1-972a-0ff9000b674b.rna_seq.augmented_star_gene_counts\n",
      "Finished processing sample: 22c90647-bf63-49e1-972a-0ff9000b674b.rna_seq.augmented_star_gene_counts, shape: (60660, 10)\n",
      "Reading file: C:\\Users\\PC\\Desktop\\gene-expression-cancer-prediction\\rna_seq\\b4d6811f-cb5c-4ad9-8f13-5d58f0b6afd4\\2df3cde4-5d53-4e2c-829a-e609f1d92a7b.rna_seq.augmented_star_gene_counts.tsv\n",
      "Processing sample: 2df3cde4-5d53-4e2c-829a-e609f1d92a7b.rna_seq.augmented_star_gene_counts\n"
     ]
    },
    {
     "name": "stderr",
     "output_type": "stream",
     "text": [
      "C:\\Users\\PC\\AppData\\Local\\Temp\\ipykernel_4980\\1846137033.py:69: SettingWithCopyWarning: \n",
      "A value is trying to be set on a copy of a slice from a DataFrame.\n",
      "Try using .loc[row_indexer,col_indexer] = value instead\n",
      "\n",
      "See the caveats in the documentation: https://pandas.pydata.org/pandas-docs/stable/user_guide/indexing.html#returning-a-view-versus-a-copy\n",
      "  df_clean['sample_id'] = sample_id\n",
      "C:\\Users\\PC\\AppData\\Local\\Temp\\ipykernel_4980\\1846137033.py:69: SettingWithCopyWarning: \n",
      "A value is trying to be set on a copy of a slice from a DataFrame.\n",
      "Try using .loc[row_indexer,col_indexer] = value instead\n",
      "\n",
      "See the caveats in the documentation: https://pandas.pydata.org/pandas-docs/stable/user_guide/indexing.html#returning-a-view-versus-a-copy\n",
      "  df_clean['sample_id'] = sample_id\n"
     ]
    },
    {
     "name": "stdout",
     "output_type": "stream",
     "text": [
      "Finished processing sample: 2df3cde4-5d53-4e2c-829a-e609f1d92a7b.rna_seq.augmented_star_gene_counts, shape: (60660, 10)\n",
      "Reading file: C:\\Users\\PC\\Desktop\\gene-expression-cancer-prediction\\rna_seq\\b54476c3-f6f1-4474-b447-72023ba97687\\65c868ba-94ed-43f2-bfd1-814979ee9486.rna_seq.augmented_star_gene_counts.tsv\n",
      "Processing sample: 65c868ba-94ed-43f2-bfd1-814979ee9486.rna_seq.augmented_star_gene_counts\n",
      "Finished processing sample: 65c868ba-94ed-43f2-bfd1-814979ee9486.rna_seq.augmented_star_gene_counts, shape: (60660, 10)\n",
      "Reading file: C:\\Users\\PC\\Desktop\\gene-expression-cancer-prediction\\rna_seq\\b5994562-8eab-43a5-9846-cd3916a9260f\\24e5d229-23d1-49c2-bc00-ad3441b324cc.rna_seq.augmented_star_gene_counts.tsv\n",
      "Processing sample: 24e5d229-23d1-49c2-bc00-ad3441b324cc.rna_seq.augmented_star_gene_counts\n"
     ]
    },
    {
     "name": "stderr",
     "output_type": "stream",
     "text": [
      "C:\\Users\\PC\\AppData\\Local\\Temp\\ipykernel_4980\\1846137033.py:69: SettingWithCopyWarning: \n",
      "A value is trying to be set on a copy of a slice from a DataFrame.\n",
      "Try using .loc[row_indexer,col_indexer] = value instead\n",
      "\n",
      "See the caveats in the documentation: https://pandas.pydata.org/pandas-docs/stable/user_guide/indexing.html#returning-a-view-versus-a-copy\n",
      "  df_clean['sample_id'] = sample_id\n",
      "C:\\Users\\PC\\AppData\\Local\\Temp\\ipykernel_4980\\1846137033.py:69: SettingWithCopyWarning: \n",
      "A value is trying to be set on a copy of a slice from a DataFrame.\n",
      "Try using .loc[row_indexer,col_indexer] = value instead\n",
      "\n",
      "See the caveats in the documentation: https://pandas.pydata.org/pandas-docs/stable/user_guide/indexing.html#returning-a-view-versus-a-copy\n",
      "  df_clean['sample_id'] = sample_id\n"
     ]
    },
    {
     "name": "stdout",
     "output_type": "stream",
     "text": [
      "Finished processing sample: 24e5d229-23d1-49c2-bc00-ad3441b324cc.rna_seq.augmented_star_gene_counts, shape: (60660, 10)\n",
      "Reading file: C:\\Users\\PC\\Desktop\\gene-expression-cancer-prediction\\rna_seq\\b5f2a171-35a3-4b7f-9221-199c589f3147\\6d1979a2-956e-42d3-a192-01d872e36d22.rna_seq.augmented_star_gene_counts.tsv\n",
      "Processing sample: 6d1979a2-956e-42d3-a192-01d872e36d22.rna_seq.augmented_star_gene_counts\n",
      "Finished processing sample: 6d1979a2-956e-42d3-a192-01d872e36d22.rna_seq.augmented_star_gene_counts, shape: (60660, 10)\n",
      "Reading file: C:\\Users\\PC\\Desktop\\gene-expression-cancer-prediction\\rna_seq\\b6bbcd01-c1a3-42b8-afe7-c17b987903b0\\a3624554-07c8-41d7-9b6b-f4cbf9de9301.rna_seq.augmented_star_gene_counts.tsv\n",
      "Processing sample: a3624554-07c8-41d7-9b6b-f4cbf9de9301.rna_seq.augmented_star_gene_counts\n"
     ]
    },
    {
     "name": "stderr",
     "output_type": "stream",
     "text": [
      "C:\\Users\\PC\\AppData\\Local\\Temp\\ipykernel_4980\\1846137033.py:69: SettingWithCopyWarning: \n",
      "A value is trying to be set on a copy of a slice from a DataFrame.\n",
      "Try using .loc[row_indexer,col_indexer] = value instead\n",
      "\n",
      "See the caveats in the documentation: https://pandas.pydata.org/pandas-docs/stable/user_guide/indexing.html#returning-a-view-versus-a-copy\n",
      "  df_clean['sample_id'] = sample_id\n",
      "C:\\Users\\PC\\AppData\\Local\\Temp\\ipykernel_4980\\1846137033.py:69: SettingWithCopyWarning: \n",
      "A value is trying to be set on a copy of a slice from a DataFrame.\n",
      "Try using .loc[row_indexer,col_indexer] = value instead\n",
      "\n",
      "See the caveats in the documentation: https://pandas.pydata.org/pandas-docs/stable/user_guide/indexing.html#returning-a-view-versus-a-copy\n",
      "  df_clean['sample_id'] = sample_id\n"
     ]
    },
    {
     "name": "stdout",
     "output_type": "stream",
     "text": [
      "Finished processing sample: a3624554-07c8-41d7-9b6b-f4cbf9de9301.rna_seq.augmented_star_gene_counts, shape: (60660, 10)\n",
      "Reading file: C:\\Users\\PC\\Desktop\\gene-expression-cancer-prediction\\rna_seq\\b8c05229-16e4-4888-9f44-556c5570a4af\\1a3dcc95-64bf-4886-9807-9511b24f30af.rna_seq.augmented_star_gene_counts.tsv\n",
      "Processing sample: 1a3dcc95-64bf-4886-9807-9511b24f30af.rna_seq.augmented_star_gene_counts\n",
      "Finished processing sample: 1a3dcc95-64bf-4886-9807-9511b24f30af.rna_seq.augmented_star_gene_counts, shape: (60660, 10)\n",
      "Reading file: C:\\Users\\PC\\Desktop\\gene-expression-cancer-prediction\\rna_seq\\b9220098-f6f9-4732-8e94-3c9eeb4b8479\\c84dbd50-ff69-4824-afe5-1eaec5780d27.rna_seq.augmented_star_gene_counts.tsv\n",
      "Processing sample: c84dbd50-ff69-4824-afe5-1eaec5780d27.rna_seq.augmented_star_gene_counts\n"
     ]
    },
    {
     "name": "stderr",
     "output_type": "stream",
     "text": [
      "C:\\Users\\PC\\AppData\\Local\\Temp\\ipykernel_4980\\1846137033.py:69: SettingWithCopyWarning: \n",
      "A value is trying to be set on a copy of a slice from a DataFrame.\n",
      "Try using .loc[row_indexer,col_indexer] = value instead\n",
      "\n",
      "See the caveats in the documentation: https://pandas.pydata.org/pandas-docs/stable/user_guide/indexing.html#returning-a-view-versus-a-copy\n",
      "  df_clean['sample_id'] = sample_id\n",
      "C:\\Users\\PC\\AppData\\Local\\Temp\\ipykernel_4980\\1846137033.py:69: SettingWithCopyWarning: \n",
      "A value is trying to be set on a copy of a slice from a DataFrame.\n",
      "Try using .loc[row_indexer,col_indexer] = value instead\n",
      "\n",
      "See the caveats in the documentation: https://pandas.pydata.org/pandas-docs/stable/user_guide/indexing.html#returning-a-view-versus-a-copy\n",
      "  df_clean['sample_id'] = sample_id\n"
     ]
    },
    {
     "name": "stdout",
     "output_type": "stream",
     "text": [
      "Finished processing sample: c84dbd50-ff69-4824-afe5-1eaec5780d27.rna_seq.augmented_star_gene_counts, shape: (60660, 10)\n",
      "Reading file: C:\\Users\\PC\\Desktop\\gene-expression-cancer-prediction\\rna_seq\\b93b04d3-7526-4d65-bc15-0148e75ac225\\2244c5e8-a873-4e29-abb7-e869a7d79e3f.rna_seq.augmented_star_gene_counts.tsv\n",
      "Processing sample: 2244c5e8-a873-4e29-abb7-e869a7d79e3f.rna_seq.augmented_star_gene_counts\n",
      "Finished processing sample: 2244c5e8-a873-4e29-abb7-e869a7d79e3f.rna_seq.augmented_star_gene_counts, shape: (60660, 10)\n",
      "Reading file: C:\\Users\\PC\\Desktop\\gene-expression-cancer-prediction\\rna_seq\\b9549737-232d-446f-812f-e7e015bfb462\\ca05380c-ec64-451e-9834-9a5996017749.rna_seq.augmented_star_gene_counts.tsv\n",
      "Processing sample: ca05380c-ec64-451e-9834-9a5996017749.rna_seq.augmented_star_gene_counts\n"
     ]
    },
    {
     "name": "stderr",
     "output_type": "stream",
     "text": [
      "C:\\Users\\PC\\AppData\\Local\\Temp\\ipykernel_4980\\1846137033.py:69: SettingWithCopyWarning: \n",
      "A value is trying to be set on a copy of a slice from a DataFrame.\n",
      "Try using .loc[row_indexer,col_indexer] = value instead\n",
      "\n",
      "See the caveats in the documentation: https://pandas.pydata.org/pandas-docs/stable/user_guide/indexing.html#returning-a-view-versus-a-copy\n",
      "  df_clean['sample_id'] = sample_id\n",
      "C:\\Users\\PC\\AppData\\Local\\Temp\\ipykernel_4980\\1846137033.py:69: SettingWithCopyWarning: \n",
      "A value is trying to be set on a copy of a slice from a DataFrame.\n",
      "Try using .loc[row_indexer,col_indexer] = value instead\n",
      "\n",
      "See the caveats in the documentation: https://pandas.pydata.org/pandas-docs/stable/user_guide/indexing.html#returning-a-view-versus-a-copy\n",
      "  df_clean['sample_id'] = sample_id\n",
      "C:\\Users\\PC\\AppData\\Local\\Temp\\ipykernel_4980\\1846137033.py:69: SettingWithCopyWarning: \n",
      "A value is trying to be set on a copy of a slice from a DataFrame.\n",
      "Try using .loc[row_indexer,col_indexer] = value instead\n",
      "\n",
      "See the caveats in the documentation: https://pandas.pydata.org/pandas-docs/stable/user_guide/indexing.html#returning-a-view-versus-a-copy\n",
      "  df_clean['sample_id'] = sample_id\n"
     ]
    },
    {
     "name": "stdout",
     "output_type": "stream",
     "text": [
      "Finished processing sample: ca05380c-ec64-451e-9834-9a5996017749.rna_seq.augmented_star_gene_counts, shape: (60660, 10)\n",
      "Reading file: C:\\Users\\PC\\Desktop\\gene-expression-cancer-prediction\\rna_seq\\b9d564b4-4561-44b2-b020-baf106f23baa\\0af3ed73-d962-492c-9dc5-85247cd3de03.rna_seq.augmented_star_gene_counts.tsv\n",
      "Processing sample: 0af3ed73-d962-492c-9dc5-85247cd3de03.rna_seq.augmented_star_gene_counts\n",
      "Finished processing sample: 0af3ed73-d962-492c-9dc5-85247cd3de03.rna_seq.augmented_star_gene_counts, shape: (60660, 10)\n",
      "Reading file: C:\\Users\\PC\\Desktop\\gene-expression-cancer-prediction\\rna_seq\\bab81011-81b1-4fa4-bda1-fddec99245f5\\c07f871d-fea0-401a-b0c5-ec5685c311d7.rna_seq.augmented_star_gene_counts.tsv\n",
      "Processing sample: c07f871d-fea0-401a-b0c5-ec5685c311d7.rna_seq.augmented_star_gene_counts\n"
     ]
    },
    {
     "name": "stderr",
     "output_type": "stream",
     "text": [
      "C:\\Users\\PC\\AppData\\Local\\Temp\\ipykernel_4980\\1846137033.py:69: SettingWithCopyWarning: \n",
      "A value is trying to be set on a copy of a slice from a DataFrame.\n",
      "Try using .loc[row_indexer,col_indexer] = value instead\n",
      "\n",
      "See the caveats in the documentation: https://pandas.pydata.org/pandas-docs/stable/user_guide/indexing.html#returning-a-view-versus-a-copy\n",
      "  df_clean['sample_id'] = sample_id\n",
      "C:\\Users\\PC\\AppData\\Local\\Temp\\ipykernel_4980\\1846137033.py:69: SettingWithCopyWarning: \n",
      "A value is trying to be set on a copy of a slice from a DataFrame.\n",
      "Try using .loc[row_indexer,col_indexer] = value instead\n",
      "\n",
      "See the caveats in the documentation: https://pandas.pydata.org/pandas-docs/stable/user_guide/indexing.html#returning-a-view-versus-a-copy\n",
      "  df_clean['sample_id'] = sample_id\n"
     ]
    },
    {
     "name": "stdout",
     "output_type": "stream",
     "text": [
      "Finished processing sample: c07f871d-fea0-401a-b0c5-ec5685c311d7.rna_seq.augmented_star_gene_counts, shape: (60660, 10)\n",
      "Reading file: C:\\Users\\PC\\Desktop\\gene-expression-cancer-prediction\\rna_seq\\bb1ee078-38d1-4e5d-af50-50754fce7112\\2553a422-8136-4fb9-95af-3ffafff2d223.rna_seq.augmented_star_gene_counts.tsv\n",
      "Processing sample: 2553a422-8136-4fb9-95af-3ffafff2d223.rna_seq.augmented_star_gene_counts\n",
      "Finished processing sample: 2553a422-8136-4fb9-95af-3ffafff2d223.rna_seq.augmented_star_gene_counts, shape: (60660, 10)\n",
      "Reading file: C:\\Users\\PC\\Desktop\\gene-expression-cancer-prediction\\rna_seq\\bb3c5c27-7e75-43cc-8dfd-eab290e2f9da\\f58dd06b-ab52-42e5-8603-cde9c4eb7fed.rna_seq.augmented_star_gene_counts.tsv\n",
      "Processing sample: f58dd06b-ab52-42e5-8603-cde9c4eb7fed.rna_seq.augmented_star_gene_counts\n"
     ]
    },
    {
     "name": "stderr",
     "output_type": "stream",
     "text": [
      "C:\\Users\\PC\\AppData\\Local\\Temp\\ipykernel_4980\\1846137033.py:69: SettingWithCopyWarning: \n",
      "A value is trying to be set on a copy of a slice from a DataFrame.\n",
      "Try using .loc[row_indexer,col_indexer] = value instead\n",
      "\n",
      "See the caveats in the documentation: https://pandas.pydata.org/pandas-docs/stable/user_guide/indexing.html#returning-a-view-versus-a-copy\n",
      "  df_clean['sample_id'] = sample_id\n",
      "C:\\Users\\PC\\AppData\\Local\\Temp\\ipykernel_4980\\1846137033.py:69: SettingWithCopyWarning: \n",
      "A value is trying to be set on a copy of a slice from a DataFrame.\n",
      "Try using .loc[row_indexer,col_indexer] = value instead\n",
      "\n",
      "See the caveats in the documentation: https://pandas.pydata.org/pandas-docs/stable/user_guide/indexing.html#returning-a-view-versus-a-copy\n",
      "  df_clean['sample_id'] = sample_id\n"
     ]
    },
    {
     "name": "stdout",
     "output_type": "stream",
     "text": [
      "Finished processing sample: f58dd06b-ab52-42e5-8603-cde9c4eb7fed.rna_seq.augmented_star_gene_counts, shape: (60660, 10)\n",
      "Reading file: C:\\Users\\PC\\Desktop\\gene-expression-cancer-prediction\\rna_seq\\bbd09e9b-84ba-458f-a595-b03069b843dd\\2100a159-27a6-47f2-a2f2-58f5343e88b0.rna_seq.augmented_star_gene_counts.tsv\n",
      "Processing sample: 2100a159-27a6-47f2-a2f2-58f5343e88b0.rna_seq.augmented_star_gene_counts\n",
      "Finished processing sample: 2100a159-27a6-47f2-a2f2-58f5343e88b0.rna_seq.augmented_star_gene_counts, shape: (60660, 10)\n",
      "Reading file: C:\\Users\\PC\\Desktop\\gene-expression-cancer-prediction\\rna_seq\\bbe70939-24be-4397-a125-510cad51337c\\870c128f-49d0-462a-8970-5175e791096b.rna_seq.augmented_star_gene_counts.tsv\n",
      "Processing sample: 870c128f-49d0-462a-8970-5175e791096b.rna_seq.augmented_star_gene_counts\n"
     ]
    },
    {
     "name": "stderr",
     "output_type": "stream",
     "text": [
      "C:\\Users\\PC\\AppData\\Local\\Temp\\ipykernel_4980\\1846137033.py:69: SettingWithCopyWarning: \n",
      "A value is trying to be set on a copy of a slice from a DataFrame.\n",
      "Try using .loc[row_indexer,col_indexer] = value instead\n",
      "\n",
      "See the caveats in the documentation: https://pandas.pydata.org/pandas-docs/stable/user_guide/indexing.html#returning-a-view-versus-a-copy\n",
      "  df_clean['sample_id'] = sample_id\n",
      "C:\\Users\\PC\\AppData\\Local\\Temp\\ipykernel_4980\\1846137033.py:69: SettingWithCopyWarning: \n",
      "A value is trying to be set on a copy of a slice from a DataFrame.\n",
      "Try using .loc[row_indexer,col_indexer] = value instead\n",
      "\n",
      "See the caveats in the documentation: https://pandas.pydata.org/pandas-docs/stable/user_guide/indexing.html#returning-a-view-versus-a-copy\n",
      "  df_clean['sample_id'] = sample_id\n"
     ]
    },
    {
     "name": "stdout",
     "output_type": "stream",
     "text": [
      "Finished processing sample: 870c128f-49d0-462a-8970-5175e791096b.rna_seq.augmented_star_gene_counts, shape: (60660, 10)\n",
      "Reading file: C:\\Users\\PC\\Desktop\\gene-expression-cancer-prediction\\rna_seq\\bbff7857-30a2-41ad-b2f7-5a6ffc59fe0c\\0db633a3-b1da-4caf-8e2c-89c0bc422869.rna_seq.augmented_star_gene_counts.tsv\n",
      "Processing sample: 0db633a3-b1da-4caf-8e2c-89c0bc422869.rna_seq.augmented_star_gene_counts\n",
      "Finished processing sample: 0db633a3-b1da-4caf-8e2c-89c0bc422869.rna_seq.augmented_star_gene_counts, shape: (60660, 10)\n",
      "Warning: No .tsv file found in C:\\Users\\PC\\Desktop\\gene-expression-cancer-prediction\\rna_seq\\bc0a4326-63d2-4ec4-9af6-7b421aa8aa49\n",
      "Reading file: C:\\Users\\PC\\Desktop\\gene-expression-cancer-prediction\\rna_seq\\bc23716d-70e8-486e-b512-8c45654d5d83\\8411b896-9d24-47d3-8a28-1c9cd6313939.rna_seq.augmented_star_gene_counts.tsv\n",
      "Processing sample: 8411b896-9d24-47d3-8a28-1c9cd6313939.rna_seq.augmented_star_gene_counts\n"
     ]
    },
    {
     "name": "stderr",
     "output_type": "stream",
     "text": [
      "C:\\Users\\PC\\AppData\\Local\\Temp\\ipykernel_4980\\1846137033.py:69: SettingWithCopyWarning: \n",
      "A value is trying to be set on a copy of a slice from a DataFrame.\n",
      "Try using .loc[row_indexer,col_indexer] = value instead\n",
      "\n",
      "See the caveats in the documentation: https://pandas.pydata.org/pandas-docs/stable/user_guide/indexing.html#returning-a-view-versus-a-copy\n",
      "  df_clean['sample_id'] = sample_id\n"
     ]
    },
    {
     "name": "stdout",
     "output_type": "stream",
     "text": [
      "Finished processing sample: 8411b896-9d24-47d3-8a28-1c9cd6313939.rna_seq.augmented_star_gene_counts, shape: (60660, 10)\n",
      "Reading file: C:\\Users\\PC\\Desktop\\gene-expression-cancer-prediction\\rna_seq\\bc39baa2-786e-4d9a-874e-a7f4febc3be2\\bb7098ae-862b-488c-b67e-01ed682ec783.rna_seq.augmented_star_gene_counts.tsv\n",
      "Processing sample: bb7098ae-862b-488c-b67e-01ed682ec783.rna_seq.augmented_star_gene_counts\n"
     ]
    },
    {
     "name": "stderr",
     "output_type": "stream",
     "text": [
      "C:\\Users\\PC\\AppData\\Local\\Temp\\ipykernel_4980\\1846137033.py:69: SettingWithCopyWarning: \n",
      "A value is trying to be set on a copy of a slice from a DataFrame.\n",
      "Try using .loc[row_indexer,col_indexer] = value instead\n",
      "\n",
      "See the caveats in the documentation: https://pandas.pydata.org/pandas-docs/stable/user_guide/indexing.html#returning-a-view-versus-a-copy\n",
      "  df_clean['sample_id'] = sample_id\n",
      "C:\\Users\\PC\\AppData\\Local\\Temp\\ipykernel_4980\\1846137033.py:69: SettingWithCopyWarning: \n",
      "A value is trying to be set on a copy of a slice from a DataFrame.\n",
      "Try using .loc[row_indexer,col_indexer] = value instead\n",
      "\n",
      "See the caveats in the documentation: https://pandas.pydata.org/pandas-docs/stable/user_guide/indexing.html#returning-a-view-versus-a-copy\n",
      "  df_clean['sample_id'] = sample_id\n"
     ]
    },
    {
     "name": "stdout",
     "output_type": "stream",
     "text": [
      "Finished processing sample: bb7098ae-862b-488c-b67e-01ed682ec783.rna_seq.augmented_star_gene_counts, shape: (60660, 10)\n",
      "Reading file: C:\\Users\\PC\\Desktop\\gene-expression-cancer-prediction\\rna_seq\\bd86e2d9-6098-4f78-9e9b-f2f95367c739\\952883cf-24c2-4ed7-bb96-3f736c15ae3d.rna_seq.augmented_star_gene_counts.tsv\n",
      "Processing sample: 952883cf-24c2-4ed7-bb96-3f736c15ae3d.rna_seq.augmented_star_gene_counts\n",
      "Finished processing sample: 952883cf-24c2-4ed7-bb96-3f736c15ae3d.rna_seq.augmented_star_gene_counts, shape: (60660, 10)\n",
      "Reading file: C:\\Users\\PC\\Desktop\\gene-expression-cancer-prediction\\rna_seq\\bdee019c-38ae-4686-84fe-2454ba4c70dc\\504f8320-62f8-4205-926a-a54d042d0e98.rna_seq.augmented_star_gene_counts.tsv\n",
      "Processing sample: 504f8320-62f8-4205-926a-a54d042d0e98.rna_seq.augmented_star_gene_counts\n"
     ]
    },
    {
     "name": "stderr",
     "output_type": "stream",
     "text": [
      "C:\\Users\\PC\\AppData\\Local\\Temp\\ipykernel_4980\\1846137033.py:69: SettingWithCopyWarning: \n",
      "A value is trying to be set on a copy of a slice from a DataFrame.\n",
      "Try using .loc[row_indexer,col_indexer] = value instead\n",
      "\n",
      "See the caveats in the documentation: https://pandas.pydata.org/pandas-docs/stable/user_guide/indexing.html#returning-a-view-versus-a-copy\n",
      "  df_clean['sample_id'] = sample_id\n",
      "C:\\Users\\PC\\AppData\\Local\\Temp\\ipykernel_4980\\1846137033.py:69: SettingWithCopyWarning: \n",
      "A value is trying to be set on a copy of a slice from a DataFrame.\n",
      "Try using .loc[row_indexer,col_indexer] = value instead\n",
      "\n",
      "See the caveats in the documentation: https://pandas.pydata.org/pandas-docs/stable/user_guide/indexing.html#returning-a-view-versus-a-copy\n",
      "  df_clean['sample_id'] = sample_id\n"
     ]
    },
    {
     "name": "stdout",
     "output_type": "stream",
     "text": [
      "Finished processing sample: 504f8320-62f8-4205-926a-a54d042d0e98.rna_seq.augmented_star_gene_counts, shape: (60660, 10)\n",
      "Reading file: C:\\Users\\PC\\Desktop\\gene-expression-cancer-prediction\\rna_seq\\bdef0c66-0755-4581-b813-87c8512754ba\\2e36839f-3155-4e05-9ed3-404522fdb04f.rna_seq.augmented_star_gene_counts.tsv\n",
      "Processing sample: 2e36839f-3155-4e05-9ed3-404522fdb04f.rna_seq.augmented_star_gene_counts\n",
      "Finished processing sample: 2e36839f-3155-4e05-9ed3-404522fdb04f.rna_seq.augmented_star_gene_counts, shape: (60660, 10)\n",
      "Reading file: C:\\Users\\PC\\Desktop\\gene-expression-cancer-prediction\\rna_seq\\bdf5a2b7-f9cb-4668-9687-1db0541bdfe4\\47750d31-987c-48bc-b5a2-4872eecb0ed0.rna_seq.augmented_star_gene_counts.tsv\n",
      "Processing sample: 47750d31-987c-48bc-b5a2-4872eecb0ed0.rna_seq.augmented_star_gene_counts\n"
     ]
    },
    {
     "name": "stderr",
     "output_type": "stream",
     "text": [
      "C:\\Users\\PC\\AppData\\Local\\Temp\\ipykernel_4980\\1846137033.py:69: SettingWithCopyWarning: \n",
      "A value is trying to be set on a copy of a slice from a DataFrame.\n",
      "Try using .loc[row_indexer,col_indexer] = value instead\n",
      "\n",
      "See the caveats in the documentation: https://pandas.pydata.org/pandas-docs/stable/user_guide/indexing.html#returning-a-view-versus-a-copy\n",
      "  df_clean['sample_id'] = sample_id\n"
     ]
    },
    {
     "name": "stdout",
     "output_type": "stream",
     "text": [
      "Finished processing sample: 47750d31-987c-48bc-b5a2-4872eecb0ed0.rna_seq.augmented_star_gene_counts, shape: (60660, 10)\n",
      "Reading file: C:\\Users\\PC\\Desktop\\gene-expression-cancer-prediction\\rna_seq\\be002264-f534-49b3-90d1-fd5a3f622fb2\\f0024165-4df2-454e-a0cb-17720455c0c9.rna_seq.augmented_star_gene_counts.tsv\n",
      "Processing sample: f0024165-4df2-454e-a0cb-17720455c0c9.rna_seq.augmented_star_gene_counts\n"
     ]
    },
    {
     "name": "stderr",
     "output_type": "stream",
     "text": [
      "C:\\Users\\PC\\AppData\\Local\\Temp\\ipykernel_4980\\1846137033.py:69: SettingWithCopyWarning: \n",
      "A value is trying to be set on a copy of a slice from a DataFrame.\n",
      "Try using .loc[row_indexer,col_indexer] = value instead\n",
      "\n",
      "See the caveats in the documentation: https://pandas.pydata.org/pandas-docs/stable/user_guide/indexing.html#returning-a-view-versus-a-copy\n",
      "  df_clean['sample_id'] = sample_id\n"
     ]
    },
    {
     "name": "stdout",
     "output_type": "stream",
     "text": [
      "Finished processing sample: f0024165-4df2-454e-a0cb-17720455c0c9.rna_seq.augmented_star_gene_counts, shape: (60660, 10)\n",
      "Reading file: C:\\Users\\PC\\Desktop\\gene-expression-cancer-prediction\\rna_seq\\be65c37e-7aa8-466d-a1fe-102e8e25e2e9\\35120b68-e618-46a1-9641-1e635f633372.rna_seq.augmented_star_gene_counts.tsv\n",
      "Processing sample: 35120b68-e618-46a1-9641-1e635f633372.rna_seq.augmented_star_gene_counts\n"
     ]
    },
    {
     "name": "stderr",
     "output_type": "stream",
     "text": [
      "C:\\Users\\PC\\AppData\\Local\\Temp\\ipykernel_4980\\1846137033.py:69: SettingWithCopyWarning: \n",
      "A value is trying to be set on a copy of a slice from a DataFrame.\n",
      "Try using .loc[row_indexer,col_indexer] = value instead\n",
      "\n",
      "See the caveats in the documentation: https://pandas.pydata.org/pandas-docs/stable/user_guide/indexing.html#returning-a-view-versus-a-copy\n",
      "  df_clean['sample_id'] = sample_id\n",
      "C:\\Users\\PC\\AppData\\Local\\Temp\\ipykernel_4980\\1846137033.py:69: SettingWithCopyWarning: \n",
      "A value is trying to be set on a copy of a slice from a DataFrame.\n",
      "Try using .loc[row_indexer,col_indexer] = value instead\n",
      "\n",
      "See the caveats in the documentation: https://pandas.pydata.org/pandas-docs/stable/user_guide/indexing.html#returning-a-view-versus-a-copy\n",
      "  df_clean['sample_id'] = sample_id\n"
     ]
    },
    {
     "name": "stdout",
     "output_type": "stream",
     "text": [
      "Finished processing sample: 35120b68-e618-46a1-9641-1e635f633372.rna_seq.augmented_star_gene_counts, shape: (60660, 10)\n",
      "Reading file: C:\\Users\\PC\\Desktop\\gene-expression-cancer-prediction\\rna_seq\\be6f8b24-e668-41c6-89f7-f4cdc8533cae\\63afc197-8c49-4150-a98b-61c47f182778.rna_seq.augmented_star_gene_counts.tsv\n",
      "Processing sample: 63afc197-8c49-4150-a98b-61c47f182778.rna_seq.augmented_star_gene_counts\n",
      "Finished processing sample: 63afc197-8c49-4150-a98b-61c47f182778.rna_seq.augmented_star_gene_counts, shape: (60660, 10)\n",
      "Reading file: C:\\Users\\PC\\Desktop\\gene-expression-cancer-prediction\\rna_seq\\bf6e2b60-d65b-4963-8e8e-49ab3f93c3e1\\c9f641bc-d9fe-4cd6-8e73-bbf6935aee52.rna_seq.augmented_star_gene_counts.tsv\n",
      "Processing sample: c9f641bc-d9fe-4cd6-8e73-bbf6935aee52.rna_seq.augmented_star_gene_counts\n"
     ]
    },
    {
     "name": "stderr",
     "output_type": "stream",
     "text": [
      "C:\\Users\\PC\\AppData\\Local\\Temp\\ipykernel_4980\\1846137033.py:69: SettingWithCopyWarning: \n",
      "A value is trying to be set on a copy of a slice from a DataFrame.\n",
      "Try using .loc[row_indexer,col_indexer] = value instead\n",
      "\n",
      "See the caveats in the documentation: https://pandas.pydata.org/pandas-docs/stable/user_guide/indexing.html#returning-a-view-versus-a-copy\n",
      "  df_clean['sample_id'] = sample_id\n",
      "C:\\Users\\PC\\AppData\\Local\\Temp\\ipykernel_4980\\1846137033.py:69: SettingWithCopyWarning: \n",
      "A value is trying to be set on a copy of a slice from a DataFrame.\n",
      "Try using .loc[row_indexer,col_indexer] = value instead\n",
      "\n",
      "See the caveats in the documentation: https://pandas.pydata.org/pandas-docs/stable/user_guide/indexing.html#returning-a-view-versus-a-copy\n",
      "  df_clean['sample_id'] = sample_id\n"
     ]
    },
    {
     "name": "stdout",
     "output_type": "stream",
     "text": [
      "Finished processing sample: c9f641bc-d9fe-4cd6-8e73-bbf6935aee52.rna_seq.augmented_star_gene_counts, shape: (60660, 10)\n",
      "Reading file: C:\\Users\\PC\\Desktop\\gene-expression-cancer-prediction\\rna_seq\\c003fb3b-179c-49b0-8d9a-656c4dc39901\\5fc65e17-1d90-411d-b01d-f6aaa72730f9.rna_seq.augmented_star_gene_counts.tsv\n",
      "Processing sample: 5fc65e17-1d90-411d-b01d-f6aaa72730f9.rna_seq.augmented_star_gene_counts\n",
      "Finished processing sample: 5fc65e17-1d90-411d-b01d-f6aaa72730f9.rna_seq.augmented_star_gene_counts, shape: (60660, 10)\n",
      "Reading file: C:\\Users\\PC\\Desktop\\gene-expression-cancer-prediction\\rna_seq\\c00ad8a9-ed1d-4289-aa62-3e64cb574205\\b47b2efb-02e1-4729-95ad-de05fb551bc7.rna_seq.augmented_star_gene_counts.tsv\n",
      "Processing sample: b47b2efb-02e1-4729-95ad-de05fb551bc7.rna_seq.augmented_star_gene_counts\n"
     ]
    },
    {
     "name": "stderr",
     "output_type": "stream",
     "text": [
      "C:\\Users\\PC\\AppData\\Local\\Temp\\ipykernel_4980\\1846137033.py:69: SettingWithCopyWarning: \n",
      "A value is trying to be set on a copy of a slice from a DataFrame.\n",
      "Try using .loc[row_indexer,col_indexer] = value instead\n",
      "\n",
      "See the caveats in the documentation: https://pandas.pydata.org/pandas-docs/stable/user_guide/indexing.html#returning-a-view-versus-a-copy\n",
      "  df_clean['sample_id'] = sample_id\n",
      "C:\\Users\\PC\\AppData\\Local\\Temp\\ipykernel_4980\\1846137033.py:69: SettingWithCopyWarning: \n",
      "A value is trying to be set on a copy of a slice from a DataFrame.\n",
      "Try using .loc[row_indexer,col_indexer] = value instead\n",
      "\n",
      "See the caveats in the documentation: https://pandas.pydata.org/pandas-docs/stable/user_guide/indexing.html#returning-a-view-versus-a-copy\n",
      "  df_clean['sample_id'] = sample_id\n"
     ]
    },
    {
     "name": "stdout",
     "output_type": "stream",
     "text": [
      "Finished processing sample: b47b2efb-02e1-4729-95ad-de05fb551bc7.rna_seq.augmented_star_gene_counts, shape: (60660, 10)\n",
      "Reading file: C:\\Users\\PC\\Desktop\\gene-expression-cancer-prediction\\rna_seq\\c15e9ead-0373-486e-a99b-26b96bd3ccc4\\27c65ed6-9e9d-4a9d-9b6f-76d2a12f7699.rna_seq.augmented_star_gene_counts.tsv\n",
      "Processing sample: 27c65ed6-9e9d-4a9d-9b6f-76d2a12f7699.rna_seq.augmented_star_gene_counts\n",
      "Finished processing sample: 27c65ed6-9e9d-4a9d-9b6f-76d2a12f7699.rna_seq.augmented_star_gene_counts, shape: (60660, 10)\n",
      "Reading file: C:\\Users\\PC\\Desktop\\gene-expression-cancer-prediction\\rna_seq\\c1778b3c-5649-4e26-b937-fd00ffd58387\\1dd10557-4e50-4af0-87c6-b4b3f6fa3a15.rna_seq.augmented_star_gene_counts.tsv\n",
      "Processing sample: 1dd10557-4e50-4af0-87c6-b4b3f6fa3a15.rna_seq.augmented_star_gene_counts\n"
     ]
    },
    {
     "name": "stderr",
     "output_type": "stream",
     "text": [
      "C:\\Users\\PC\\AppData\\Local\\Temp\\ipykernel_4980\\1846137033.py:69: SettingWithCopyWarning: \n",
      "A value is trying to be set on a copy of a slice from a DataFrame.\n",
      "Try using .loc[row_indexer,col_indexer] = value instead\n",
      "\n",
      "See the caveats in the documentation: https://pandas.pydata.org/pandas-docs/stable/user_guide/indexing.html#returning-a-view-versus-a-copy\n",
      "  df_clean['sample_id'] = sample_id\n",
      "C:\\Users\\PC\\AppData\\Local\\Temp\\ipykernel_4980\\1846137033.py:69: SettingWithCopyWarning: \n",
      "A value is trying to be set on a copy of a slice from a DataFrame.\n",
      "Try using .loc[row_indexer,col_indexer] = value instead\n",
      "\n",
      "See the caveats in the documentation: https://pandas.pydata.org/pandas-docs/stable/user_guide/indexing.html#returning-a-view-versus-a-copy\n",
      "  df_clean['sample_id'] = sample_id\n"
     ]
    },
    {
     "name": "stdout",
     "output_type": "stream",
     "text": [
      "Finished processing sample: 1dd10557-4e50-4af0-87c6-b4b3f6fa3a15.rna_seq.augmented_star_gene_counts, shape: (60660, 10)\n",
      "Reading file: C:\\Users\\PC\\Desktop\\gene-expression-cancer-prediction\\rna_seq\\c1ac2f8b-9ff2-47b9-a685-6cf10a7a925f\\4eee2055-ed1f-4958-b214-4cff055c87bd.rna_seq.augmented_star_gene_counts.tsv\n",
      "Processing sample: 4eee2055-ed1f-4958-b214-4cff055c87bd.rna_seq.augmented_star_gene_counts\n",
      "Finished processing sample: 4eee2055-ed1f-4958-b214-4cff055c87bd.rna_seq.augmented_star_gene_counts, shape: (60660, 10)\n",
      "Reading file: C:\\Users\\PC\\Desktop\\gene-expression-cancer-prediction\\rna_seq\\c1d62c39-f3ab-47d3-b654-8b6285cd97a3\\5a3d1b74-f904-44ef-94a0-b38291e30be6.rna_seq.augmented_star_gene_counts.tsv\n",
      "Processing sample: 5a3d1b74-f904-44ef-94a0-b38291e30be6.rna_seq.augmented_star_gene_counts\n"
     ]
    },
    {
     "name": "stderr",
     "output_type": "stream",
     "text": [
      "C:\\Users\\PC\\AppData\\Local\\Temp\\ipykernel_4980\\1846137033.py:69: SettingWithCopyWarning: \n",
      "A value is trying to be set on a copy of a slice from a DataFrame.\n",
      "Try using .loc[row_indexer,col_indexer] = value instead\n",
      "\n",
      "See the caveats in the documentation: https://pandas.pydata.org/pandas-docs/stable/user_guide/indexing.html#returning-a-view-versus-a-copy\n",
      "  df_clean['sample_id'] = sample_id\n"
     ]
    },
    {
     "name": "stdout",
     "output_type": "stream",
     "text": [
      "Finished processing sample: 5a3d1b74-f904-44ef-94a0-b38291e30be6.rna_seq.augmented_star_gene_counts, shape: (60660, 10)\n",
      "Reading file: C:\\Users\\PC\\Desktop\\gene-expression-cancer-prediction\\rna_seq\\c1f3f326-e99f-4811-9665-d15d6d8a1c33\\8b0bdebf-7292-4b66-bcf2-fcb0a06c24e3.rna_seq.augmented_star_gene_counts.tsv\n",
      "Processing sample: 8b0bdebf-7292-4b66-bcf2-fcb0a06c24e3.rna_seq.augmented_star_gene_counts\n"
     ]
    },
    {
     "name": "stderr",
     "output_type": "stream",
     "text": [
      "C:\\Users\\PC\\AppData\\Local\\Temp\\ipykernel_4980\\1846137033.py:69: SettingWithCopyWarning: \n",
      "A value is trying to be set on a copy of a slice from a DataFrame.\n",
      "Try using .loc[row_indexer,col_indexer] = value instead\n",
      "\n",
      "See the caveats in the documentation: https://pandas.pydata.org/pandas-docs/stable/user_guide/indexing.html#returning-a-view-versus-a-copy\n",
      "  df_clean['sample_id'] = sample_id\n"
     ]
    },
    {
     "name": "stdout",
     "output_type": "stream",
     "text": [
      "Finished processing sample: 8b0bdebf-7292-4b66-bcf2-fcb0a06c24e3.rna_seq.augmented_star_gene_counts, shape: (60660, 10)\n",
      "Reading file: C:\\Users\\PC\\Desktop\\gene-expression-cancer-prediction\\rna_seq\\c1f6f39f-db8f-4449-bfb2-d1f3f2a95d22\\d4bca8f9-f63e-43bb-ab6b-7529a86afac5.rna_seq.augmented_star_gene_counts.tsv\n",
      "Processing sample: d4bca8f9-f63e-43bb-ab6b-7529a86afac5.rna_seq.augmented_star_gene_counts\n"
     ]
    },
    {
     "name": "stderr",
     "output_type": "stream",
     "text": [
      "C:\\Users\\PC\\AppData\\Local\\Temp\\ipykernel_4980\\1846137033.py:69: SettingWithCopyWarning: \n",
      "A value is trying to be set on a copy of a slice from a DataFrame.\n",
      "Try using .loc[row_indexer,col_indexer] = value instead\n",
      "\n",
      "See the caveats in the documentation: https://pandas.pydata.org/pandas-docs/stable/user_guide/indexing.html#returning-a-view-versus-a-copy\n",
      "  df_clean['sample_id'] = sample_id\n",
      "C:\\Users\\PC\\AppData\\Local\\Temp\\ipykernel_4980\\1846137033.py:69: SettingWithCopyWarning: \n",
      "A value is trying to be set on a copy of a slice from a DataFrame.\n",
      "Try using .loc[row_indexer,col_indexer] = value instead\n",
      "\n",
      "See the caveats in the documentation: https://pandas.pydata.org/pandas-docs/stable/user_guide/indexing.html#returning-a-view-versus-a-copy\n",
      "  df_clean['sample_id'] = sample_id\n"
     ]
    },
    {
     "name": "stdout",
     "output_type": "stream",
     "text": [
      "Finished processing sample: d4bca8f9-f63e-43bb-ab6b-7529a86afac5.rna_seq.augmented_star_gene_counts, shape: (60660, 10)\n",
      "Reading file: C:\\Users\\PC\\Desktop\\gene-expression-cancer-prediction\\rna_seq\\c25c7ca5-8d03-4bba-b42b-c8b1042c0d48\\fac3e41a-3b98-4293-855f-d23cb01522d0.rna_seq.augmented_star_gene_counts.tsv\n",
      "Processing sample: fac3e41a-3b98-4293-855f-d23cb01522d0.rna_seq.augmented_star_gene_counts\n",
      "Finished processing sample: fac3e41a-3b98-4293-855f-d23cb01522d0.rna_seq.augmented_star_gene_counts, shape: (60660, 10)\n",
      "Reading file: C:\\Users\\PC\\Desktop\\gene-expression-cancer-prediction\\rna_seq\\c28e4bbf-6ddc-42fd-9268-826edc17aee5\\cae39998-47d3-4a80-8acb-67d3a9518306.rna_seq.augmented_star_gene_counts.tsv\n",
      "Processing sample: cae39998-47d3-4a80-8acb-67d3a9518306.rna_seq.augmented_star_gene_counts\n"
     ]
    },
    {
     "name": "stderr",
     "output_type": "stream",
     "text": [
      "C:\\Users\\PC\\AppData\\Local\\Temp\\ipykernel_4980\\1846137033.py:69: SettingWithCopyWarning: \n",
      "A value is trying to be set on a copy of a slice from a DataFrame.\n",
      "Try using .loc[row_indexer,col_indexer] = value instead\n",
      "\n",
      "See the caveats in the documentation: https://pandas.pydata.org/pandas-docs/stable/user_guide/indexing.html#returning-a-view-versus-a-copy\n",
      "  df_clean['sample_id'] = sample_id\n",
      "C:\\Users\\PC\\AppData\\Local\\Temp\\ipykernel_4980\\1846137033.py:69: SettingWithCopyWarning: \n",
      "A value is trying to be set on a copy of a slice from a DataFrame.\n",
      "Try using .loc[row_indexer,col_indexer] = value instead\n",
      "\n",
      "See the caveats in the documentation: https://pandas.pydata.org/pandas-docs/stable/user_guide/indexing.html#returning-a-view-versus-a-copy\n",
      "  df_clean['sample_id'] = sample_id\n"
     ]
    },
    {
     "name": "stdout",
     "output_type": "stream",
     "text": [
      "Finished processing sample: cae39998-47d3-4a80-8acb-67d3a9518306.rna_seq.augmented_star_gene_counts, shape: (60660, 10)\n",
      "Reading file: C:\\Users\\PC\\Desktop\\gene-expression-cancer-prediction\\rna_seq\\c38adc46-f0f2-4c71-91b6-da2159dcb190\\0f9b8032-b21a-4480-8434-d174760a7ddd.rna_seq.augmented_star_gene_counts.tsv\n",
      "Processing sample: 0f9b8032-b21a-4480-8434-d174760a7ddd.rna_seq.augmented_star_gene_counts\n",
      "Finished processing sample: 0f9b8032-b21a-4480-8434-d174760a7ddd.rna_seq.augmented_star_gene_counts, shape: (60660, 10)\n",
      "Reading file: C:\\Users\\PC\\Desktop\\gene-expression-cancer-prediction\\rna_seq\\c3f4adee-86da-42fa-b37a-d48d66f89e09\\713df9b5-ea25-464c-b13e-fe8b61fe363d.rna_seq.augmented_star_gene_counts.tsv\n",
      "Processing sample: 713df9b5-ea25-464c-b13e-fe8b61fe363d.rna_seq.augmented_star_gene_counts\n"
     ]
    },
    {
     "name": "stderr",
     "output_type": "stream",
     "text": [
      "C:\\Users\\PC\\AppData\\Local\\Temp\\ipykernel_4980\\1846137033.py:69: SettingWithCopyWarning: \n",
      "A value is trying to be set on a copy of a slice from a DataFrame.\n",
      "Try using .loc[row_indexer,col_indexer] = value instead\n",
      "\n",
      "See the caveats in the documentation: https://pandas.pydata.org/pandas-docs/stable/user_guide/indexing.html#returning-a-view-versus-a-copy\n",
      "  df_clean['sample_id'] = sample_id\n",
      "C:\\Users\\PC\\AppData\\Local\\Temp\\ipykernel_4980\\1846137033.py:69: SettingWithCopyWarning: \n",
      "A value is trying to be set on a copy of a slice from a DataFrame.\n",
      "Try using .loc[row_indexer,col_indexer] = value instead\n",
      "\n",
      "See the caveats in the documentation: https://pandas.pydata.org/pandas-docs/stable/user_guide/indexing.html#returning-a-view-versus-a-copy\n",
      "  df_clean['sample_id'] = sample_id\n"
     ]
    },
    {
     "name": "stdout",
     "output_type": "stream",
     "text": [
      "Finished processing sample: 713df9b5-ea25-464c-b13e-fe8b61fe363d.rna_seq.augmented_star_gene_counts, shape: (60660, 10)\n",
      "Reading file: C:\\Users\\PC\\Desktop\\gene-expression-cancer-prediction\\rna_seq\\c441b2f1-d5ad-4aae-a37e-946579ff604f\\5c957f54-8c46-4f13-a22b-49c175e8af3a.rna_seq.augmented_star_gene_counts.tsv\n",
      "Processing sample: 5c957f54-8c46-4f13-a22b-49c175e8af3a.rna_seq.augmented_star_gene_counts\n",
      "Finished processing sample: 5c957f54-8c46-4f13-a22b-49c175e8af3a.rna_seq.augmented_star_gene_counts, shape: (60660, 10)\n",
      "Reading file: C:\\Users\\PC\\Desktop\\gene-expression-cancer-prediction\\rna_seq\\c4a9a1df-4397-409e-85ec-30e0789377c2\\18e5bf73-efdd-4c75-957c-68a94f6cb396.rna_seq.augmented_star_gene_counts.tsv\n",
      "Processing sample: 18e5bf73-efdd-4c75-957c-68a94f6cb396.rna_seq.augmented_star_gene_counts\n"
     ]
    },
    {
     "name": "stderr",
     "output_type": "stream",
     "text": [
      "C:\\Users\\PC\\AppData\\Local\\Temp\\ipykernel_4980\\1846137033.py:69: SettingWithCopyWarning: \n",
      "A value is trying to be set on a copy of a slice from a DataFrame.\n",
      "Try using .loc[row_indexer,col_indexer] = value instead\n",
      "\n",
      "See the caveats in the documentation: https://pandas.pydata.org/pandas-docs/stable/user_guide/indexing.html#returning-a-view-versus-a-copy\n",
      "  df_clean['sample_id'] = sample_id\n",
      "C:\\Users\\PC\\AppData\\Local\\Temp\\ipykernel_4980\\1846137033.py:69: SettingWithCopyWarning: \n",
      "A value is trying to be set on a copy of a slice from a DataFrame.\n",
      "Try using .loc[row_indexer,col_indexer] = value instead\n",
      "\n",
      "See the caveats in the documentation: https://pandas.pydata.org/pandas-docs/stable/user_guide/indexing.html#returning-a-view-versus-a-copy\n",
      "  df_clean['sample_id'] = sample_id\n"
     ]
    },
    {
     "name": "stdout",
     "output_type": "stream",
     "text": [
      "Finished processing sample: 18e5bf73-efdd-4c75-957c-68a94f6cb396.rna_seq.augmented_star_gene_counts, shape: (60660, 10)\n",
      "Reading file: C:\\Users\\PC\\Desktop\\gene-expression-cancer-prediction\\rna_seq\\c4afcca9-94e4-4ecd-98d1-0aab86de8685\\7dfcf573-5004-4c46-a269-8a07e303f873.rna_seq.augmented_star_gene_counts.tsv\n",
      "Processing sample: 7dfcf573-5004-4c46-a269-8a07e303f873.rna_seq.augmented_star_gene_counts\n",
      "Finished processing sample: 7dfcf573-5004-4c46-a269-8a07e303f873.rna_seq.augmented_star_gene_counts, shape: (60660, 10)\n",
      "Reading file: C:\\Users\\PC\\Desktop\\gene-expression-cancer-prediction\\rna_seq\\c4ceaaf8-4803-45d7-9937-42d25db60148\\9ae5c03c-326d-4492-9cc3-4ba17beb09ad.rna_seq.augmented_star_gene_counts.tsv\n",
      "Processing sample: 9ae5c03c-326d-4492-9cc3-4ba17beb09ad.rna_seq.augmented_star_gene_counts\n"
     ]
    },
    {
     "name": "stderr",
     "output_type": "stream",
     "text": [
      "C:\\Users\\PC\\AppData\\Local\\Temp\\ipykernel_4980\\1846137033.py:69: SettingWithCopyWarning: \n",
      "A value is trying to be set on a copy of a slice from a DataFrame.\n",
      "Try using .loc[row_indexer,col_indexer] = value instead\n",
      "\n",
      "See the caveats in the documentation: https://pandas.pydata.org/pandas-docs/stable/user_guide/indexing.html#returning-a-view-versus-a-copy\n",
      "  df_clean['sample_id'] = sample_id\n",
      "C:\\Users\\PC\\AppData\\Local\\Temp\\ipykernel_4980\\1846137033.py:69: SettingWithCopyWarning: \n",
      "A value is trying to be set on a copy of a slice from a DataFrame.\n",
      "Try using .loc[row_indexer,col_indexer] = value instead\n",
      "\n",
      "See the caveats in the documentation: https://pandas.pydata.org/pandas-docs/stable/user_guide/indexing.html#returning-a-view-versus-a-copy\n",
      "  df_clean['sample_id'] = sample_id\n"
     ]
    },
    {
     "name": "stdout",
     "output_type": "stream",
     "text": [
      "Finished processing sample: 9ae5c03c-326d-4492-9cc3-4ba17beb09ad.rna_seq.augmented_star_gene_counts, shape: (60660, 10)\n",
      "Reading file: C:\\Users\\PC\\Desktop\\gene-expression-cancer-prediction\\rna_seq\\c55e6460-fea1-468e-951e-bf45bbddd7a6\\d0d2b8fc-6915-49fe-ae4a-f80e2d090cf5.rna_seq.augmented_star_gene_counts.tsv\n",
      "Processing sample: d0d2b8fc-6915-49fe-ae4a-f80e2d090cf5.rna_seq.augmented_star_gene_counts\n",
      "Finished processing sample: d0d2b8fc-6915-49fe-ae4a-f80e2d090cf5.rna_seq.augmented_star_gene_counts, shape: (60660, 10)\n",
      "Reading file: C:\\Users\\PC\\Desktop\\gene-expression-cancer-prediction\\rna_seq\\c587bd27-778a-4729-b614-e0631bb3717b\\f79d6a7e-eaaa-4382-a5ed-600cf8d45824.rna_seq.augmented_star_gene_counts.tsv\n",
      "Processing sample: f79d6a7e-eaaa-4382-a5ed-600cf8d45824.rna_seq.augmented_star_gene_counts\n"
     ]
    },
    {
     "name": "stderr",
     "output_type": "stream",
     "text": [
      "C:\\Users\\PC\\AppData\\Local\\Temp\\ipykernel_4980\\1846137033.py:69: SettingWithCopyWarning: \n",
      "A value is trying to be set on a copy of a slice from a DataFrame.\n",
      "Try using .loc[row_indexer,col_indexer] = value instead\n",
      "\n",
      "See the caveats in the documentation: https://pandas.pydata.org/pandas-docs/stable/user_guide/indexing.html#returning-a-view-versus-a-copy\n",
      "  df_clean['sample_id'] = sample_id\n",
      "C:\\Users\\PC\\AppData\\Local\\Temp\\ipykernel_4980\\1846137033.py:69: SettingWithCopyWarning: \n",
      "A value is trying to be set on a copy of a slice from a DataFrame.\n",
      "Try using .loc[row_indexer,col_indexer] = value instead\n",
      "\n",
      "See the caveats in the documentation: https://pandas.pydata.org/pandas-docs/stable/user_guide/indexing.html#returning-a-view-versus-a-copy\n",
      "  df_clean['sample_id'] = sample_id\n"
     ]
    },
    {
     "name": "stdout",
     "output_type": "stream",
     "text": [
      "Finished processing sample: f79d6a7e-eaaa-4382-a5ed-600cf8d45824.rna_seq.augmented_star_gene_counts, shape: (60660, 10)\n",
      "Reading file: C:\\Users\\PC\\Desktop\\gene-expression-cancer-prediction\\rna_seq\\c5baa506-f18b-42d8-bafd-4e9b85e1d390\\54022a08-1016-45a7-ac33-5a40b4b5e6b3.rna_seq.augmented_star_gene_counts.tsv\n",
      "Processing sample: 54022a08-1016-45a7-ac33-5a40b4b5e6b3.rna_seq.augmented_star_gene_counts\n",
      "Finished processing sample: 54022a08-1016-45a7-ac33-5a40b4b5e6b3.rna_seq.augmented_star_gene_counts, shape: (60660, 10)\n",
      "Reading file: C:\\Users\\PC\\Desktop\\gene-expression-cancer-prediction\\rna_seq\\c5e46ae9-c4c1-4afd-a772-392ede15808d\\490dfd10-0c85-48a9-b4ce-22b4445ed504.rna_seq.augmented_star_gene_counts.tsv\n",
      "Processing sample: 490dfd10-0c85-48a9-b4ce-22b4445ed504.rna_seq.augmented_star_gene_counts\n"
     ]
    },
    {
     "name": "stderr",
     "output_type": "stream",
     "text": [
      "C:\\Users\\PC\\AppData\\Local\\Temp\\ipykernel_4980\\1846137033.py:69: SettingWithCopyWarning: \n",
      "A value is trying to be set on a copy of a slice from a DataFrame.\n",
      "Try using .loc[row_indexer,col_indexer] = value instead\n",
      "\n",
      "See the caveats in the documentation: https://pandas.pydata.org/pandas-docs/stable/user_guide/indexing.html#returning-a-view-versus-a-copy\n",
      "  df_clean['sample_id'] = sample_id\n",
      "C:\\Users\\PC\\AppData\\Local\\Temp\\ipykernel_4980\\1846137033.py:69: SettingWithCopyWarning: \n",
      "A value is trying to be set on a copy of a slice from a DataFrame.\n",
      "Try using .loc[row_indexer,col_indexer] = value instead\n",
      "\n",
      "See the caveats in the documentation: https://pandas.pydata.org/pandas-docs/stable/user_guide/indexing.html#returning-a-view-versus-a-copy\n",
      "  df_clean['sample_id'] = sample_id\n"
     ]
    },
    {
     "name": "stdout",
     "output_type": "stream",
     "text": [
      "Finished processing sample: 490dfd10-0c85-48a9-b4ce-22b4445ed504.rna_seq.augmented_star_gene_counts, shape: (60660, 10)\n",
      "Reading file: C:\\Users\\PC\\Desktop\\gene-expression-cancer-prediction\\rna_seq\\c642f518-6ba5-4c90-9f0c-0bad0ed80199\\ea16db3d-eb2a-44b3-bf22-258e583dbcf4.rna_seq.augmented_star_gene_counts.tsv\n",
      "Processing sample: ea16db3d-eb2a-44b3-bf22-258e583dbcf4.rna_seq.augmented_star_gene_counts\n",
      "Finished processing sample: ea16db3d-eb2a-44b3-bf22-258e583dbcf4.rna_seq.augmented_star_gene_counts, shape: (60660, 10)\n",
      "Reading file: C:\\Users\\PC\\Desktop\\gene-expression-cancer-prediction\\rna_seq\\c6882939-729e-4360-b850-9f7a84df2d7e\\62298f43-7f8b-430e-9a23-0ee0ffbc1162.rna_seq.augmented_star_gene_counts.tsv\n",
      "Processing sample: 62298f43-7f8b-430e-9a23-0ee0ffbc1162.rna_seq.augmented_star_gene_counts\n"
     ]
    },
    {
     "name": "stderr",
     "output_type": "stream",
     "text": [
      "C:\\Users\\PC\\AppData\\Local\\Temp\\ipykernel_4980\\1846137033.py:69: SettingWithCopyWarning: \n",
      "A value is trying to be set on a copy of a slice from a DataFrame.\n",
      "Try using .loc[row_indexer,col_indexer] = value instead\n",
      "\n",
      "See the caveats in the documentation: https://pandas.pydata.org/pandas-docs/stable/user_guide/indexing.html#returning-a-view-versus-a-copy\n",
      "  df_clean['sample_id'] = sample_id\n",
      "C:\\Users\\PC\\AppData\\Local\\Temp\\ipykernel_4980\\1846137033.py:69: SettingWithCopyWarning: \n",
      "A value is trying to be set on a copy of a slice from a DataFrame.\n",
      "Try using .loc[row_indexer,col_indexer] = value instead\n",
      "\n",
      "See the caveats in the documentation: https://pandas.pydata.org/pandas-docs/stable/user_guide/indexing.html#returning-a-view-versus-a-copy\n",
      "  df_clean['sample_id'] = sample_id\n"
     ]
    },
    {
     "name": "stdout",
     "output_type": "stream",
     "text": [
      "Finished processing sample: 62298f43-7f8b-430e-9a23-0ee0ffbc1162.rna_seq.augmented_star_gene_counts, shape: (60660, 10)\n",
      "Reading file: C:\\Users\\PC\\Desktop\\gene-expression-cancer-prediction\\rna_seq\\c6ec90b5-d323-4a55-b48a-c3acf38557ba\\92e64d91-88d8-4b1f-ab56-b593748b9f19.rna_seq.augmented_star_gene_counts.tsv\n",
      "Processing sample: 92e64d91-88d8-4b1f-ab56-b593748b9f19.rna_seq.augmented_star_gene_counts\n",
      "Finished processing sample: 92e64d91-88d8-4b1f-ab56-b593748b9f19.rna_seq.augmented_star_gene_counts, shape: (60660, 10)\n",
      "Reading file: C:\\Users\\PC\\Desktop\\gene-expression-cancer-prediction\\rna_seq\\c6fd0f95-d74a-49e3-9a70-fec12e63ff1a\\a17d056c-59ee-4c93-9357-19d57f108144.rna_seq.augmented_star_gene_counts.tsv\n",
      "Processing sample: a17d056c-59ee-4c93-9357-19d57f108144.rna_seq.augmented_star_gene_counts\n"
     ]
    },
    {
     "name": "stderr",
     "output_type": "stream",
     "text": [
      "C:\\Users\\PC\\AppData\\Local\\Temp\\ipykernel_4980\\1846137033.py:69: SettingWithCopyWarning: \n",
      "A value is trying to be set on a copy of a slice from a DataFrame.\n",
      "Try using .loc[row_indexer,col_indexer] = value instead\n",
      "\n",
      "See the caveats in the documentation: https://pandas.pydata.org/pandas-docs/stable/user_guide/indexing.html#returning-a-view-versus-a-copy\n",
      "  df_clean['sample_id'] = sample_id\n",
      "C:\\Users\\PC\\AppData\\Local\\Temp\\ipykernel_4980\\1846137033.py:69: SettingWithCopyWarning: \n",
      "A value is trying to be set on a copy of a slice from a DataFrame.\n",
      "Try using .loc[row_indexer,col_indexer] = value instead\n",
      "\n",
      "See the caveats in the documentation: https://pandas.pydata.org/pandas-docs/stable/user_guide/indexing.html#returning-a-view-versus-a-copy\n",
      "  df_clean['sample_id'] = sample_id\n"
     ]
    },
    {
     "name": "stdout",
     "output_type": "stream",
     "text": [
      "Finished processing sample: a17d056c-59ee-4c93-9357-19d57f108144.rna_seq.augmented_star_gene_counts, shape: (60660, 10)\n",
      "Reading file: C:\\Users\\PC\\Desktop\\gene-expression-cancer-prediction\\rna_seq\\c71bfebf-e152-4706-bd72-07103f936a85\\b35a11fb-548c-4b6c-99e7-c4114be6411a.rna_seq.augmented_star_gene_counts.tsv\n",
      "Processing sample: b35a11fb-548c-4b6c-99e7-c4114be6411a.rna_seq.augmented_star_gene_counts\n",
      "Finished processing sample: b35a11fb-548c-4b6c-99e7-c4114be6411a.rna_seq.augmented_star_gene_counts, shape: (60660, 10)\n",
      "Reading file: C:\\Users\\PC\\Desktop\\gene-expression-cancer-prediction\\rna_seq\\c7571e35-d912-4935-b2c3-bbba019fe9f8\\0f3b932e-de72-483f-9ef6-74ae972637bd.rna_seq.augmented_star_gene_counts.tsv\n",
      "Processing sample: 0f3b932e-de72-483f-9ef6-74ae972637bd.rna_seq.augmented_star_gene_counts\n"
     ]
    },
    {
     "name": "stderr",
     "output_type": "stream",
     "text": [
      "C:\\Users\\PC\\AppData\\Local\\Temp\\ipykernel_4980\\1846137033.py:69: SettingWithCopyWarning: \n",
      "A value is trying to be set on a copy of a slice from a DataFrame.\n",
      "Try using .loc[row_indexer,col_indexer] = value instead\n",
      "\n",
      "See the caveats in the documentation: https://pandas.pydata.org/pandas-docs/stable/user_guide/indexing.html#returning-a-view-versus-a-copy\n",
      "  df_clean['sample_id'] = sample_id\n",
      "C:\\Users\\PC\\AppData\\Local\\Temp\\ipykernel_4980\\1846137033.py:69: SettingWithCopyWarning: \n",
      "A value is trying to be set on a copy of a slice from a DataFrame.\n",
      "Try using .loc[row_indexer,col_indexer] = value instead\n",
      "\n",
      "See the caveats in the documentation: https://pandas.pydata.org/pandas-docs/stable/user_guide/indexing.html#returning-a-view-versus-a-copy\n",
      "  df_clean['sample_id'] = sample_id\n"
     ]
    },
    {
     "name": "stdout",
     "output_type": "stream",
     "text": [
      "Finished processing sample: 0f3b932e-de72-483f-9ef6-74ae972637bd.rna_seq.augmented_star_gene_counts, shape: (60660, 10)\n",
      "Reading file: C:\\Users\\PC\\Desktop\\gene-expression-cancer-prediction\\rna_seq\\c7646bc5-436b-4ad5-b5ae-894b2e843cda\\158ab1d9-8925-4a05-95da-b2e0ca297474.rna_seq.augmented_star_gene_counts.tsv\n",
      "Processing sample: 158ab1d9-8925-4a05-95da-b2e0ca297474.rna_seq.augmented_star_gene_counts\n",
      "Finished processing sample: 158ab1d9-8925-4a05-95da-b2e0ca297474.rna_seq.augmented_star_gene_counts, shape: (60660, 10)\n",
      "Reading file: C:\\Users\\PC\\Desktop\\gene-expression-cancer-prediction\\rna_seq\\c7aeba7e-b78e-4586-a4dd-8a04cc440737\\f48956a3-c821-429f-b1ad-a27133d739bd.rna_seq.augmented_star_gene_counts.tsv\n",
      "Processing sample: f48956a3-c821-429f-b1ad-a27133d739bd.rna_seq.augmented_star_gene_counts\n",
      "Finished processing sample: f48956a3-c821-429f-b1ad-a27133d739bd.rna_seq.augmented_star_gene_counts, shape: (60660, 10)\n",
      "Reading file: C:\\Users\\PC\\Desktop\\gene-expression-cancer-prediction\\rna_seq\\c7db3ef0-0440-4fcf-a18b-c70b3f88e327\\fc801acd-4b1f-46e7-bc1e-47752fb08779.rna_seq.augmented_star_gene_counts.tsv\n",
      "Processing sample: fc801acd-4b1f-46e7-bc1e-47752fb08779.rna_seq.augmented_star_gene_counts\n"
     ]
    },
    {
     "name": "stderr",
     "output_type": "stream",
     "text": [
      "C:\\Users\\PC\\AppData\\Local\\Temp\\ipykernel_4980\\1846137033.py:69: SettingWithCopyWarning: \n",
      "A value is trying to be set on a copy of a slice from a DataFrame.\n",
      "Try using .loc[row_indexer,col_indexer] = value instead\n",
      "\n",
      "See the caveats in the documentation: https://pandas.pydata.org/pandas-docs/stable/user_guide/indexing.html#returning-a-view-versus-a-copy\n",
      "  df_clean['sample_id'] = sample_id\n",
      "C:\\Users\\PC\\AppData\\Local\\Temp\\ipykernel_4980\\1846137033.py:69: SettingWithCopyWarning: \n",
      "A value is trying to be set on a copy of a slice from a DataFrame.\n",
      "Try using .loc[row_indexer,col_indexer] = value instead\n",
      "\n",
      "See the caveats in the documentation: https://pandas.pydata.org/pandas-docs/stable/user_guide/indexing.html#returning-a-view-versus-a-copy\n",
      "  df_clean['sample_id'] = sample_id\n"
     ]
    },
    {
     "name": "stdout",
     "output_type": "stream",
     "text": [
      "Finished processing sample: fc801acd-4b1f-46e7-bc1e-47752fb08779.rna_seq.augmented_star_gene_counts, shape: (60660, 10)\n",
      "Reading file: C:\\Users\\PC\\Desktop\\gene-expression-cancer-prediction\\rna_seq\\c7f1e894-f50d-437c-ad42-4a35f531c795\\b656d5d9-3bd0-4d76-b7ad-6440cc706048.rna_seq.augmented_star_gene_counts.tsv\n",
      "Processing sample: b656d5d9-3bd0-4d76-b7ad-6440cc706048.rna_seq.augmented_star_gene_counts\n",
      "Finished processing sample: b656d5d9-3bd0-4d76-b7ad-6440cc706048.rna_seq.augmented_star_gene_counts, shape: (60660, 10)\n",
      "Reading file: C:\\Users\\PC\\Desktop\\gene-expression-cancer-prediction\\rna_seq\\c8b0b391-320c-4fea-9b68-3070103cb148\\508e541e-c751-42cd-8f8c-a57a835daf1b.rna_seq.augmented_star_gene_counts.tsv\n",
      "Processing sample: 508e541e-c751-42cd-8f8c-a57a835daf1b.rna_seq.augmented_star_gene_counts\n"
     ]
    },
    {
     "name": "stderr",
     "output_type": "stream",
     "text": [
      "C:\\Users\\PC\\AppData\\Local\\Temp\\ipykernel_4980\\1846137033.py:69: SettingWithCopyWarning: \n",
      "A value is trying to be set on a copy of a slice from a DataFrame.\n",
      "Try using .loc[row_indexer,col_indexer] = value instead\n",
      "\n",
      "See the caveats in the documentation: https://pandas.pydata.org/pandas-docs/stable/user_guide/indexing.html#returning-a-view-versus-a-copy\n",
      "  df_clean['sample_id'] = sample_id\n",
      "C:\\Users\\PC\\AppData\\Local\\Temp\\ipykernel_4980\\1846137033.py:69: SettingWithCopyWarning: \n",
      "A value is trying to be set on a copy of a slice from a DataFrame.\n",
      "Try using .loc[row_indexer,col_indexer] = value instead\n",
      "\n",
      "See the caveats in the documentation: https://pandas.pydata.org/pandas-docs/stable/user_guide/indexing.html#returning-a-view-versus-a-copy\n",
      "  df_clean['sample_id'] = sample_id\n"
     ]
    },
    {
     "name": "stdout",
     "output_type": "stream",
     "text": [
      "Finished processing sample: 508e541e-c751-42cd-8f8c-a57a835daf1b.rna_seq.augmented_star_gene_counts, shape: (60660, 10)\n",
      "Reading file: C:\\Users\\PC\\Desktop\\gene-expression-cancer-prediction\\rna_seq\\c8c7b9cc-7015-4405-a7f5-f60587de285a\\c091a9db-8d3f-4dfb-8658-b6b8020c1d5c.rna_seq.augmented_star_gene_counts.tsv\n",
      "Processing sample: c091a9db-8d3f-4dfb-8658-b6b8020c1d5c.rna_seq.augmented_star_gene_counts\n",
      "Finished processing sample: c091a9db-8d3f-4dfb-8658-b6b8020c1d5c.rna_seq.augmented_star_gene_counts, shape: (60660, 10)\n",
      "Reading file: C:\\Users\\PC\\Desktop\\gene-expression-cancer-prediction\\rna_seq\\c94fb480-7f46-4c24-bcb1-26f66a57c45a\\92914efd-97af-48e2-b097-e91129f8c1b2.rna_seq.augmented_star_gene_counts.tsv\n",
      "Processing sample: 92914efd-97af-48e2-b097-e91129f8c1b2.rna_seq.augmented_star_gene_counts\n"
     ]
    },
    {
     "name": "stderr",
     "output_type": "stream",
     "text": [
      "C:\\Users\\PC\\AppData\\Local\\Temp\\ipykernel_4980\\1846137033.py:69: SettingWithCopyWarning: \n",
      "A value is trying to be set on a copy of a slice from a DataFrame.\n",
      "Try using .loc[row_indexer,col_indexer] = value instead\n",
      "\n",
      "See the caveats in the documentation: https://pandas.pydata.org/pandas-docs/stable/user_guide/indexing.html#returning-a-view-versus-a-copy\n",
      "  df_clean['sample_id'] = sample_id\n",
      "C:\\Users\\PC\\AppData\\Local\\Temp\\ipykernel_4980\\1846137033.py:69: SettingWithCopyWarning: \n",
      "A value is trying to be set on a copy of a slice from a DataFrame.\n",
      "Try using .loc[row_indexer,col_indexer] = value instead\n",
      "\n",
      "See the caveats in the documentation: https://pandas.pydata.org/pandas-docs/stable/user_guide/indexing.html#returning-a-view-versus-a-copy\n",
      "  df_clean['sample_id'] = sample_id\n"
     ]
    },
    {
     "name": "stdout",
     "output_type": "stream",
     "text": [
      "Finished processing sample: 92914efd-97af-48e2-b097-e91129f8c1b2.rna_seq.augmented_star_gene_counts, shape: (60660, 10)\n",
      "Reading file: C:\\Users\\PC\\Desktop\\gene-expression-cancer-prediction\\rna_seq\\c95a37a1-d3cd-421c-bc5f-0f8dc448f64c\\ee6709eb-718c-4a0e-8b57-3068e0e0fbaf.rna_seq.augmented_star_gene_counts.tsv\n",
      "Processing sample: ee6709eb-718c-4a0e-8b57-3068e0e0fbaf.rna_seq.augmented_star_gene_counts\n",
      "Finished processing sample: ee6709eb-718c-4a0e-8b57-3068e0e0fbaf.rna_seq.augmented_star_gene_counts, shape: (60660, 10)\n",
      "Reading file: C:\\Users\\PC\\Desktop\\gene-expression-cancer-prediction\\rna_seq\\c96ef17c-52c1-43d9-a7e5-730fd8f3641f\\5e50611e-9e98-480c-bc47-28070e9edeea.rna_seq.augmented_star_gene_counts.tsv\n",
      "Processing sample: 5e50611e-9e98-480c-bc47-28070e9edeea.rna_seq.augmented_star_gene_counts\n"
     ]
    },
    {
     "name": "stderr",
     "output_type": "stream",
     "text": [
      "C:\\Users\\PC\\AppData\\Local\\Temp\\ipykernel_4980\\1846137033.py:69: SettingWithCopyWarning: \n",
      "A value is trying to be set on a copy of a slice from a DataFrame.\n",
      "Try using .loc[row_indexer,col_indexer] = value instead\n",
      "\n",
      "See the caveats in the documentation: https://pandas.pydata.org/pandas-docs/stable/user_guide/indexing.html#returning-a-view-versus-a-copy\n",
      "  df_clean['sample_id'] = sample_id\n",
      "C:\\Users\\PC\\AppData\\Local\\Temp\\ipykernel_4980\\1846137033.py:69: SettingWithCopyWarning: \n",
      "A value is trying to be set on a copy of a slice from a DataFrame.\n",
      "Try using .loc[row_indexer,col_indexer] = value instead\n",
      "\n",
      "See the caveats in the documentation: https://pandas.pydata.org/pandas-docs/stable/user_guide/indexing.html#returning-a-view-versus-a-copy\n",
      "  df_clean['sample_id'] = sample_id\n"
     ]
    },
    {
     "name": "stdout",
     "output_type": "stream",
     "text": [
      "Finished processing sample: 5e50611e-9e98-480c-bc47-28070e9edeea.rna_seq.augmented_star_gene_counts, shape: (60660, 10)\n",
      "Reading file: C:\\Users\\PC\\Desktop\\gene-expression-cancer-prediction\\rna_seq\\c9920595-31f2-4977-b6bd-c0fa3ffcf461\\b0c13073-8725-4707-983c-506fe46205d7.rna_seq.augmented_star_gene_counts.tsv\n",
      "Processing sample: b0c13073-8725-4707-983c-506fe46205d7.rna_seq.augmented_star_gene_counts\n"
     ]
    },
    {
     "name": "stderr",
     "output_type": "stream",
     "text": [
      "C:\\Users\\PC\\AppData\\Local\\Temp\\ipykernel_4980\\1846137033.py:69: SettingWithCopyWarning: \n",
      "A value is trying to be set on a copy of a slice from a DataFrame.\n",
      "Try using .loc[row_indexer,col_indexer] = value instead\n",
      "\n",
      "See the caveats in the documentation: https://pandas.pydata.org/pandas-docs/stable/user_guide/indexing.html#returning-a-view-versus-a-copy\n",
      "  df_clean['sample_id'] = sample_id\n",
      "C:\\Users\\PC\\AppData\\Local\\Temp\\ipykernel_4980\\1846137033.py:69: SettingWithCopyWarning: \n",
      "A value is trying to be set on a copy of a slice from a DataFrame.\n",
      "Try using .loc[row_indexer,col_indexer] = value instead\n",
      "\n",
      "See the caveats in the documentation: https://pandas.pydata.org/pandas-docs/stable/user_guide/indexing.html#returning-a-view-versus-a-copy\n",
      "  df_clean['sample_id'] = sample_id\n"
     ]
    },
    {
     "name": "stdout",
     "output_type": "stream",
     "text": [
      "Finished processing sample: b0c13073-8725-4707-983c-506fe46205d7.rna_seq.augmented_star_gene_counts, shape: (60660, 10)\n",
      "Reading file: C:\\Users\\PC\\Desktop\\gene-expression-cancer-prediction\\rna_seq\\c9bc7edd-c545-4d76-9246-1bfa043a966c\\a95ecb1b-9dd9-4916-9b73-b967278f3d85.rna_seq.augmented_star_gene_counts.tsv\n",
      "Processing sample: a95ecb1b-9dd9-4916-9b73-b967278f3d85.rna_seq.augmented_star_gene_counts\n",
      "Finished processing sample: a95ecb1b-9dd9-4916-9b73-b967278f3d85.rna_seq.augmented_star_gene_counts, shape: (60660, 10)\n",
      "Reading file: C:\\Users\\PC\\Desktop\\gene-expression-cancer-prediction\\rna_seq\\c9ff3787-de6e-4535-be34-6425ccf9079f\\81395cc8-c7d5-4ea7-957a-b5cb8d6bfd1a.rna_seq.augmented_star_gene_counts.tsv\n",
      "Processing sample: 81395cc8-c7d5-4ea7-957a-b5cb8d6bfd1a.rna_seq.augmented_star_gene_counts\n"
     ]
    },
    {
     "name": "stderr",
     "output_type": "stream",
     "text": [
      "C:\\Users\\PC\\AppData\\Local\\Temp\\ipykernel_4980\\1846137033.py:69: SettingWithCopyWarning: \n",
      "A value is trying to be set on a copy of a slice from a DataFrame.\n",
      "Try using .loc[row_indexer,col_indexer] = value instead\n",
      "\n",
      "See the caveats in the documentation: https://pandas.pydata.org/pandas-docs/stable/user_guide/indexing.html#returning-a-view-versus-a-copy\n",
      "  df_clean['sample_id'] = sample_id\n",
      "C:\\Users\\PC\\AppData\\Local\\Temp\\ipykernel_4980\\1846137033.py:69: SettingWithCopyWarning: \n",
      "A value is trying to be set on a copy of a slice from a DataFrame.\n",
      "Try using .loc[row_indexer,col_indexer] = value instead\n",
      "\n",
      "See the caveats in the documentation: https://pandas.pydata.org/pandas-docs/stable/user_guide/indexing.html#returning-a-view-versus-a-copy\n",
      "  df_clean['sample_id'] = sample_id\n"
     ]
    },
    {
     "name": "stdout",
     "output_type": "stream",
     "text": [
      "Finished processing sample: 81395cc8-c7d5-4ea7-957a-b5cb8d6bfd1a.rna_seq.augmented_star_gene_counts, shape: (60660, 10)\n",
      "Reading file: C:\\Users\\PC\\Desktop\\gene-expression-cancer-prediction\\rna_seq\\ca6e4602-bcd4-4299-bd31-37f585658b8a\\1c3dbd2f-1c07-48cb-a844-0b1b3eb14e0d.rna_seq.augmented_star_gene_counts.tsv\n",
      "Processing sample: 1c3dbd2f-1c07-48cb-a844-0b1b3eb14e0d.rna_seq.augmented_star_gene_counts\n",
      "Finished processing sample: 1c3dbd2f-1c07-48cb-a844-0b1b3eb14e0d.rna_seq.augmented_star_gene_counts, shape: (60660, 10)\n",
      "Reading file: C:\\Users\\PC\\Desktop\\gene-expression-cancer-prediction\\rna_seq\\cba08218-0a7b-4425-8776-b240fac9b6cf\\fd71e0e9-e77a-465b-b118-b1f9665d5797.rna_seq.augmented_star_gene_counts.tsv\n",
      "Processing sample: fd71e0e9-e77a-465b-b118-b1f9665d5797.rna_seq.augmented_star_gene_counts\n"
     ]
    },
    {
     "name": "stderr",
     "output_type": "stream",
     "text": [
      "C:\\Users\\PC\\AppData\\Local\\Temp\\ipykernel_4980\\1846137033.py:69: SettingWithCopyWarning: \n",
      "A value is trying to be set on a copy of a slice from a DataFrame.\n",
      "Try using .loc[row_indexer,col_indexer] = value instead\n",
      "\n",
      "See the caveats in the documentation: https://pandas.pydata.org/pandas-docs/stable/user_guide/indexing.html#returning-a-view-versus-a-copy\n",
      "  df_clean['sample_id'] = sample_id\n",
      "C:\\Users\\PC\\AppData\\Local\\Temp\\ipykernel_4980\\1846137033.py:69: SettingWithCopyWarning: \n",
      "A value is trying to be set on a copy of a slice from a DataFrame.\n",
      "Try using .loc[row_indexer,col_indexer] = value instead\n",
      "\n",
      "See the caveats in the documentation: https://pandas.pydata.org/pandas-docs/stable/user_guide/indexing.html#returning-a-view-versus-a-copy\n",
      "  df_clean['sample_id'] = sample_id\n"
     ]
    },
    {
     "name": "stdout",
     "output_type": "stream",
     "text": [
      "Finished processing sample: fd71e0e9-e77a-465b-b118-b1f9665d5797.rna_seq.augmented_star_gene_counts, shape: (60660, 10)\n",
      "Reading file: C:\\Users\\PC\\Desktop\\gene-expression-cancer-prediction\\rna_seq\\cc12e7a8-e384-47f5-94b8-3e472925cc87\\05e15869-61fd-420f-b0e4-a2faaa814aca.rna_seq.augmented_star_gene_counts.tsv\n",
      "Processing sample: 05e15869-61fd-420f-b0e4-a2faaa814aca.rna_seq.augmented_star_gene_counts\n",
      "Finished processing sample: 05e15869-61fd-420f-b0e4-a2faaa814aca.rna_seq.augmented_star_gene_counts, shape: (60660, 10)\n",
      "Reading file: C:\\Users\\PC\\Desktop\\gene-expression-cancer-prediction\\rna_seq\\cc7ea1eb-4947-4030-ace5-673e9441a9a8\\952e9924-3a48-4572-bf4c-95e5049e452d.rna_seq.augmented_star_gene_counts.tsv\n",
      "Processing sample: 952e9924-3a48-4572-bf4c-95e5049e452d.rna_seq.augmented_star_gene_counts\n"
     ]
    },
    {
     "name": "stderr",
     "output_type": "stream",
     "text": [
      "C:\\Users\\PC\\AppData\\Local\\Temp\\ipykernel_4980\\1846137033.py:69: SettingWithCopyWarning: \n",
      "A value is trying to be set on a copy of a slice from a DataFrame.\n",
      "Try using .loc[row_indexer,col_indexer] = value instead\n",
      "\n",
      "See the caveats in the documentation: https://pandas.pydata.org/pandas-docs/stable/user_guide/indexing.html#returning-a-view-versus-a-copy\n",
      "  df_clean['sample_id'] = sample_id\n",
      "C:\\Users\\PC\\AppData\\Local\\Temp\\ipykernel_4980\\1846137033.py:69: SettingWithCopyWarning: \n",
      "A value is trying to be set on a copy of a slice from a DataFrame.\n",
      "Try using .loc[row_indexer,col_indexer] = value instead\n",
      "\n",
      "See the caveats in the documentation: https://pandas.pydata.org/pandas-docs/stable/user_guide/indexing.html#returning-a-view-versus-a-copy\n",
      "  df_clean['sample_id'] = sample_id\n"
     ]
    },
    {
     "name": "stdout",
     "output_type": "stream",
     "text": [
      "Finished processing sample: 952e9924-3a48-4572-bf4c-95e5049e452d.rna_seq.augmented_star_gene_counts, shape: (60660, 10)\n",
      "Reading file: C:\\Users\\PC\\Desktop\\gene-expression-cancer-prediction\\rna_seq\\cc7f30ec-5369-45ec-80cb-68534838a655\\cc66d11a-33c0-4247-9072-6e7c0d0b6112.rna_seq.augmented_star_gene_counts.tsv\n",
      "Processing sample: cc66d11a-33c0-4247-9072-6e7c0d0b6112.rna_seq.augmented_star_gene_counts\n",
      "Finished processing sample: cc66d11a-33c0-4247-9072-6e7c0d0b6112.rna_seq.augmented_star_gene_counts, shape: (60660, 10)\n",
      "Reading file: C:\\Users\\PC\\Desktop\\gene-expression-cancer-prediction\\rna_seq\\ccd3b6f5-b425-47fb-b48e-0e24a4d6a4b2\\daff3e2d-69ea-4c1d-bbad-8f6cca9bdc1f.rna_seq.augmented_star_gene_counts.tsv\n",
      "Processing sample: daff3e2d-69ea-4c1d-bbad-8f6cca9bdc1f.rna_seq.augmented_star_gene_counts\n"
     ]
    },
    {
     "name": "stderr",
     "output_type": "stream",
     "text": [
      "C:\\Users\\PC\\AppData\\Local\\Temp\\ipykernel_4980\\1846137033.py:69: SettingWithCopyWarning: \n",
      "A value is trying to be set on a copy of a slice from a DataFrame.\n",
      "Try using .loc[row_indexer,col_indexer] = value instead\n",
      "\n",
      "See the caveats in the documentation: https://pandas.pydata.org/pandas-docs/stable/user_guide/indexing.html#returning-a-view-versus-a-copy\n",
      "  df_clean['sample_id'] = sample_id\n",
      "C:\\Users\\PC\\AppData\\Local\\Temp\\ipykernel_4980\\1846137033.py:69: SettingWithCopyWarning: \n",
      "A value is trying to be set on a copy of a slice from a DataFrame.\n",
      "Try using .loc[row_indexer,col_indexer] = value instead\n",
      "\n",
      "See the caveats in the documentation: https://pandas.pydata.org/pandas-docs/stable/user_guide/indexing.html#returning-a-view-versus-a-copy\n",
      "  df_clean['sample_id'] = sample_id\n"
     ]
    },
    {
     "name": "stdout",
     "output_type": "stream",
     "text": [
      "Finished processing sample: daff3e2d-69ea-4c1d-bbad-8f6cca9bdc1f.rna_seq.augmented_star_gene_counts, shape: (60660, 10)\n",
      "Reading file: C:\\Users\\PC\\Desktop\\gene-expression-cancer-prediction\\rna_seq\\cd2dcf58-da3a-4070-b42f-07d0102a342e\\24eddfec-08a0-48fa-bef3-a4b9bd740170.rna_seq.augmented_star_gene_counts.tsv\n",
      "Processing sample: 24eddfec-08a0-48fa-bef3-a4b9bd740170.rna_seq.augmented_star_gene_counts\n",
      "Finished processing sample: 24eddfec-08a0-48fa-bef3-a4b9bd740170.rna_seq.augmented_star_gene_counts, shape: (60660, 10)\n",
      "Reading file: C:\\Users\\PC\\Desktop\\gene-expression-cancer-prediction\\rna_seq\\cd417f4e-c065-4e73-a7c7-955b2fe71add\\d05914c2-e76a-4050-b0bf-db3a08c1892e.rna_seq.augmented_star_gene_counts.tsv\n",
      "Processing sample: d05914c2-e76a-4050-b0bf-db3a08c1892e.rna_seq.augmented_star_gene_counts\n"
     ]
    },
    {
     "name": "stderr",
     "output_type": "stream",
     "text": [
      "C:\\Users\\PC\\AppData\\Local\\Temp\\ipykernel_4980\\1846137033.py:69: SettingWithCopyWarning: \n",
      "A value is trying to be set on a copy of a slice from a DataFrame.\n",
      "Try using .loc[row_indexer,col_indexer] = value instead\n",
      "\n",
      "See the caveats in the documentation: https://pandas.pydata.org/pandas-docs/stable/user_guide/indexing.html#returning-a-view-versus-a-copy\n",
      "  df_clean['sample_id'] = sample_id\n",
      "C:\\Users\\PC\\AppData\\Local\\Temp\\ipykernel_4980\\1846137033.py:69: SettingWithCopyWarning: \n",
      "A value is trying to be set on a copy of a slice from a DataFrame.\n",
      "Try using .loc[row_indexer,col_indexer] = value instead\n",
      "\n",
      "See the caveats in the documentation: https://pandas.pydata.org/pandas-docs/stable/user_guide/indexing.html#returning-a-view-versus-a-copy\n",
      "  df_clean['sample_id'] = sample_id\n"
     ]
    },
    {
     "name": "stdout",
     "output_type": "stream",
     "text": [
      "Finished processing sample: d05914c2-e76a-4050-b0bf-db3a08c1892e.rna_seq.augmented_star_gene_counts, shape: (60660, 10)\n",
      "Reading file: C:\\Users\\PC\\Desktop\\gene-expression-cancer-prediction\\rna_seq\\cd47d9e9-8072-4681-93ac-6c1420f6624c\\754df69c-2fab-4037-8673-fd3be673fc09.rna_seq.augmented_star_gene_counts.tsv\n",
      "Processing sample: 754df69c-2fab-4037-8673-fd3be673fc09.rna_seq.augmented_star_gene_counts\n",
      "Finished processing sample: 754df69c-2fab-4037-8673-fd3be673fc09.rna_seq.augmented_star_gene_counts, shape: (60660, 10)\n",
      "Reading file: C:\\Users\\PC\\Desktop\\gene-expression-cancer-prediction\\rna_seq\\cd9fd232-1d69-4ef0-911d-28130243994f\\33debcbe-cd9a-422d-8214-68606f68ac5a.rna_seq.augmented_star_gene_counts.tsv\n",
      "Processing sample: 33debcbe-cd9a-422d-8214-68606f68ac5a.rna_seq.augmented_star_gene_counts\n"
     ]
    },
    {
     "name": "stderr",
     "output_type": "stream",
     "text": [
      "C:\\Users\\PC\\AppData\\Local\\Temp\\ipykernel_4980\\1846137033.py:69: SettingWithCopyWarning: \n",
      "A value is trying to be set on a copy of a slice from a DataFrame.\n",
      "Try using .loc[row_indexer,col_indexer] = value instead\n",
      "\n",
      "See the caveats in the documentation: https://pandas.pydata.org/pandas-docs/stable/user_guide/indexing.html#returning-a-view-versus-a-copy\n",
      "  df_clean['sample_id'] = sample_id\n",
      "C:\\Users\\PC\\AppData\\Local\\Temp\\ipykernel_4980\\1846137033.py:69: SettingWithCopyWarning: \n",
      "A value is trying to be set on a copy of a slice from a DataFrame.\n",
      "Try using .loc[row_indexer,col_indexer] = value instead\n",
      "\n",
      "See the caveats in the documentation: https://pandas.pydata.org/pandas-docs/stable/user_guide/indexing.html#returning-a-view-versus-a-copy\n",
      "  df_clean['sample_id'] = sample_id\n"
     ]
    },
    {
     "name": "stdout",
     "output_type": "stream",
     "text": [
      "Finished processing sample: 33debcbe-cd9a-422d-8214-68606f68ac5a.rna_seq.augmented_star_gene_counts, shape: (60660, 10)\n",
      "Reading file: C:\\Users\\PC\\Desktop\\gene-expression-cancer-prediction\\rna_seq\\cdd283b5-8dea-4736-859c-f1a2bbda57c2\\d24c2f4f-5623-4d8e-99e6-96b4fee2591c.rna_seq.augmented_star_gene_counts.tsv\n",
      "Processing sample: d24c2f4f-5623-4d8e-99e6-96b4fee2591c.rna_seq.augmented_star_gene_counts\n",
      "Finished processing sample: d24c2f4f-5623-4d8e-99e6-96b4fee2591c.rna_seq.augmented_star_gene_counts, shape: (60660, 10)\n",
      "Reading file: C:\\Users\\PC\\Desktop\\gene-expression-cancer-prediction\\rna_seq\\cde8361d-ade2-4103-b092-3ee9cbf85ea1\\4b42e241-a674-4d6c-b217-dcea51e6cc4f.rna_seq.augmented_star_gene_counts.tsv\n",
      "Processing sample: 4b42e241-a674-4d6c-b217-dcea51e6cc4f.rna_seq.augmented_star_gene_counts\n"
     ]
    },
    {
     "name": "stderr",
     "output_type": "stream",
     "text": [
      "C:\\Users\\PC\\AppData\\Local\\Temp\\ipykernel_4980\\1846137033.py:69: SettingWithCopyWarning: \n",
      "A value is trying to be set on a copy of a slice from a DataFrame.\n",
      "Try using .loc[row_indexer,col_indexer] = value instead\n",
      "\n",
      "See the caveats in the documentation: https://pandas.pydata.org/pandas-docs/stable/user_guide/indexing.html#returning-a-view-versus-a-copy\n",
      "  df_clean['sample_id'] = sample_id\n",
      "C:\\Users\\PC\\AppData\\Local\\Temp\\ipykernel_4980\\1846137033.py:69: SettingWithCopyWarning: \n",
      "A value is trying to be set on a copy of a slice from a DataFrame.\n",
      "Try using .loc[row_indexer,col_indexer] = value instead\n",
      "\n",
      "See the caveats in the documentation: https://pandas.pydata.org/pandas-docs/stable/user_guide/indexing.html#returning-a-view-versus-a-copy\n",
      "  df_clean['sample_id'] = sample_id\n"
     ]
    },
    {
     "name": "stdout",
     "output_type": "stream",
     "text": [
      "Finished processing sample: 4b42e241-a674-4d6c-b217-dcea51e6cc4f.rna_seq.augmented_star_gene_counts, shape: (60660, 10)\n",
      "Reading file: C:\\Users\\PC\\Desktop\\gene-expression-cancer-prediction\\rna_seq\\cdf2bc60-591c-4219-bf96-40dd8b6c8459\\6a8e570e-dd05-4c06-9ed0-52ba0727faec.rna_seq.augmented_star_gene_counts.tsv\n",
      "Processing sample: 6a8e570e-dd05-4c06-9ed0-52ba0727faec.rna_seq.augmented_star_gene_counts\n",
      "Finished processing sample: 6a8e570e-dd05-4c06-9ed0-52ba0727faec.rna_seq.augmented_star_gene_counts, shape: (60660, 10)\n",
      "Reading file: C:\\Users\\PC\\Desktop\\gene-expression-cancer-prediction\\rna_seq\\cdfe79d9-a0bd-4700-937f-07bd0ee51d73\\61348250-68d8-4cef-b6f9-68a68d35508f.rna_seq.augmented_star_gene_counts.tsv\n",
      "Processing sample: 61348250-68d8-4cef-b6f9-68a68d35508f.rna_seq.augmented_star_gene_counts\n"
     ]
    },
    {
     "name": "stderr",
     "output_type": "stream",
     "text": [
      "C:\\Users\\PC\\AppData\\Local\\Temp\\ipykernel_4980\\1846137033.py:69: SettingWithCopyWarning: \n",
      "A value is trying to be set on a copy of a slice from a DataFrame.\n",
      "Try using .loc[row_indexer,col_indexer] = value instead\n",
      "\n",
      "See the caveats in the documentation: https://pandas.pydata.org/pandas-docs/stable/user_guide/indexing.html#returning-a-view-versus-a-copy\n",
      "  df_clean['sample_id'] = sample_id\n",
      "C:\\Users\\PC\\AppData\\Local\\Temp\\ipykernel_4980\\1846137033.py:69: SettingWithCopyWarning: \n",
      "A value is trying to be set on a copy of a slice from a DataFrame.\n",
      "Try using .loc[row_indexer,col_indexer] = value instead\n",
      "\n",
      "See the caveats in the documentation: https://pandas.pydata.org/pandas-docs/stable/user_guide/indexing.html#returning-a-view-versus-a-copy\n",
      "  df_clean['sample_id'] = sample_id\n"
     ]
    },
    {
     "name": "stdout",
     "output_type": "stream",
     "text": [
      "Finished processing sample: 61348250-68d8-4cef-b6f9-68a68d35508f.rna_seq.augmented_star_gene_counts, shape: (60660, 10)\n",
      "Reading file: C:\\Users\\PC\\Desktop\\gene-expression-cancer-prediction\\rna_seq\\ce53c8d2-5655-4fde-b134-1ef5a269e569\\078420d8-5079-4a98-81d7-3a4b84e9d0ad.rna_seq.augmented_star_gene_counts.tsv\n",
      "Processing sample: 078420d8-5079-4a98-81d7-3a4b84e9d0ad.rna_seq.augmented_star_gene_counts\n",
      "Finished processing sample: 078420d8-5079-4a98-81d7-3a4b84e9d0ad.rna_seq.augmented_star_gene_counts, shape: (60660, 10)\n",
      "Reading file: C:\\Users\\PC\\Desktop\\gene-expression-cancer-prediction\\rna_seq\\cee1efda-644b-4cee-aad2-d7f5ca93cdec\\1924888b-3b46-4079-a403-d758975a37bd.rna_seq.augmented_star_gene_counts.tsv\n",
      "Processing sample: 1924888b-3b46-4079-a403-d758975a37bd.rna_seq.augmented_star_gene_counts\n"
     ]
    },
    {
     "name": "stderr",
     "output_type": "stream",
     "text": [
      "C:\\Users\\PC\\AppData\\Local\\Temp\\ipykernel_4980\\1846137033.py:69: SettingWithCopyWarning: \n",
      "A value is trying to be set on a copy of a slice from a DataFrame.\n",
      "Try using .loc[row_indexer,col_indexer] = value instead\n",
      "\n",
      "See the caveats in the documentation: https://pandas.pydata.org/pandas-docs/stable/user_guide/indexing.html#returning-a-view-versus-a-copy\n",
      "  df_clean['sample_id'] = sample_id\n",
      "C:\\Users\\PC\\AppData\\Local\\Temp\\ipykernel_4980\\1846137033.py:69: SettingWithCopyWarning: \n",
      "A value is trying to be set on a copy of a slice from a DataFrame.\n",
      "Try using .loc[row_indexer,col_indexer] = value instead\n",
      "\n",
      "See the caveats in the documentation: https://pandas.pydata.org/pandas-docs/stable/user_guide/indexing.html#returning-a-view-versus-a-copy\n",
      "  df_clean['sample_id'] = sample_id\n"
     ]
    },
    {
     "name": "stdout",
     "output_type": "stream",
     "text": [
      "Finished processing sample: 1924888b-3b46-4079-a403-d758975a37bd.rna_seq.augmented_star_gene_counts, shape: (60660, 10)\n",
      "Reading file: C:\\Users\\PC\\Desktop\\gene-expression-cancer-prediction\\rna_seq\\cee943a8-ea26-4b2f-b8a4-66300ccacfb5\\7eb5f037-355b-4a38-b22b-a5e1f41ff1e9.rna_seq.augmented_star_gene_counts.tsv\n",
      "Processing sample: 7eb5f037-355b-4a38-b22b-a5e1f41ff1e9.rna_seq.augmented_star_gene_counts\n",
      "Finished processing sample: 7eb5f037-355b-4a38-b22b-a5e1f41ff1e9.rna_seq.augmented_star_gene_counts, shape: (60660, 10)\n",
      "Reading file: C:\\Users\\PC\\Desktop\\gene-expression-cancer-prediction\\rna_seq\\cf089a52-2196-422d-affa-a5f434edd134\\4d7842e5-9d8b-433a-a768-7a40129bdd0d.rna_seq.augmented_star_gene_counts.tsv\n",
      "Processing sample: 4d7842e5-9d8b-433a-a768-7a40129bdd0d.rna_seq.augmented_star_gene_counts\n"
     ]
    },
    {
     "name": "stderr",
     "output_type": "stream",
     "text": [
      "C:\\Users\\PC\\AppData\\Local\\Temp\\ipykernel_4980\\1846137033.py:69: SettingWithCopyWarning: \n",
      "A value is trying to be set on a copy of a slice from a DataFrame.\n",
      "Try using .loc[row_indexer,col_indexer] = value instead\n",
      "\n",
      "See the caveats in the documentation: https://pandas.pydata.org/pandas-docs/stable/user_guide/indexing.html#returning-a-view-versus-a-copy\n",
      "  df_clean['sample_id'] = sample_id\n"
     ]
    },
    {
     "name": "stdout",
     "output_type": "stream",
     "text": [
      "Finished processing sample: 4d7842e5-9d8b-433a-a768-7a40129bdd0d.rna_seq.augmented_star_gene_counts, shape: (60660, 10)\n",
      "Reading file: C:\\Users\\PC\\Desktop\\gene-expression-cancer-prediction\\rna_seq\\cf801232-8aa2-4ede-80b0-8c5b9876941b\\c861f2ac-61fd-45cc-9e14-f775f9eed494.rna_seq.augmented_star_gene_counts.tsv\n",
      "Processing sample: c861f2ac-61fd-45cc-9e14-f775f9eed494.rna_seq.augmented_star_gene_counts\n"
     ]
    },
    {
     "name": "stderr",
     "output_type": "stream",
     "text": [
      "C:\\Users\\PC\\AppData\\Local\\Temp\\ipykernel_4980\\1846137033.py:69: SettingWithCopyWarning: \n",
      "A value is trying to be set on a copy of a slice from a DataFrame.\n",
      "Try using .loc[row_indexer,col_indexer] = value instead\n",
      "\n",
      "See the caveats in the documentation: https://pandas.pydata.org/pandas-docs/stable/user_guide/indexing.html#returning-a-view-versus-a-copy\n",
      "  df_clean['sample_id'] = sample_id\n",
      "C:\\Users\\PC\\AppData\\Local\\Temp\\ipykernel_4980\\1846137033.py:69: SettingWithCopyWarning: \n",
      "A value is trying to be set on a copy of a slice from a DataFrame.\n",
      "Try using .loc[row_indexer,col_indexer] = value instead\n",
      "\n",
      "See the caveats in the documentation: https://pandas.pydata.org/pandas-docs/stable/user_guide/indexing.html#returning-a-view-versus-a-copy\n",
      "  df_clean['sample_id'] = sample_id\n"
     ]
    },
    {
     "name": "stdout",
     "output_type": "stream",
     "text": [
      "Finished processing sample: c861f2ac-61fd-45cc-9e14-f775f9eed494.rna_seq.augmented_star_gene_counts, shape: (60660, 10)\n",
      "Reading file: C:\\Users\\PC\\Desktop\\gene-expression-cancer-prediction\\rna_seq\\d01e4cd5-3c52-4655-8b7c-ef6070d58090\\d9666e09-51bb-49a4-b289-0e6b69636858.rna_seq.augmented_star_gene_counts.tsv\n",
      "Processing sample: d9666e09-51bb-49a4-b289-0e6b69636858.rna_seq.augmented_star_gene_counts\n",
      "Finished processing sample: d9666e09-51bb-49a4-b289-0e6b69636858.rna_seq.augmented_star_gene_counts, shape: (60660, 10)\n",
      "Reading file: C:\\Users\\PC\\Desktop\\gene-expression-cancer-prediction\\rna_seq\\d0dcec39-c407-4593-98e3-133714cf2f7b\\f18a5a92-2b2e-4834-8610-df98760db5aa.rna_seq.augmented_star_gene_counts.tsv\n",
      "Processing sample: f18a5a92-2b2e-4834-8610-df98760db5aa.rna_seq.augmented_star_gene_counts\n"
     ]
    },
    {
     "name": "stderr",
     "output_type": "stream",
     "text": [
      "C:\\Users\\PC\\AppData\\Local\\Temp\\ipykernel_4980\\1846137033.py:69: SettingWithCopyWarning: \n",
      "A value is trying to be set on a copy of a slice from a DataFrame.\n",
      "Try using .loc[row_indexer,col_indexer] = value instead\n",
      "\n",
      "See the caveats in the documentation: https://pandas.pydata.org/pandas-docs/stable/user_guide/indexing.html#returning-a-view-versus-a-copy\n",
      "  df_clean['sample_id'] = sample_id\n",
      "C:\\Users\\PC\\AppData\\Local\\Temp\\ipykernel_4980\\1846137033.py:69: SettingWithCopyWarning: \n",
      "A value is trying to be set on a copy of a slice from a DataFrame.\n",
      "Try using .loc[row_indexer,col_indexer] = value instead\n",
      "\n",
      "See the caveats in the documentation: https://pandas.pydata.org/pandas-docs/stable/user_guide/indexing.html#returning-a-view-versus-a-copy\n",
      "  df_clean['sample_id'] = sample_id\n"
     ]
    },
    {
     "name": "stdout",
     "output_type": "stream",
     "text": [
      "Finished processing sample: f18a5a92-2b2e-4834-8610-df98760db5aa.rna_seq.augmented_star_gene_counts, shape: (60660, 10)\n",
      "Reading file: C:\\Users\\PC\\Desktop\\gene-expression-cancer-prediction\\rna_seq\\d141392c-757b-44f5-b531-0bcc136d8b17\\4937e136-52e6-4c33-9f53-36ce2a94c09e.rna_seq.augmented_star_gene_counts.tsv\n",
      "Processing sample: 4937e136-52e6-4c33-9f53-36ce2a94c09e.rna_seq.augmented_star_gene_counts\n",
      "Finished processing sample: 4937e136-52e6-4c33-9f53-36ce2a94c09e.rna_seq.augmented_star_gene_counts, shape: (60660, 10)\n",
      "Reading file: C:\\Users\\PC\\Desktop\\gene-expression-cancer-prediction\\rna_seq\\d144a154-2dcb-484f-b50d-1b65ab9eb19e\\0fb8ee34-b7c8-4ea6-987a-b69c00baa53a.rna_seq.augmented_star_gene_counts.tsv\n",
      "Processing sample: 0fb8ee34-b7c8-4ea6-987a-b69c00baa53a.rna_seq.augmented_star_gene_counts\n"
     ]
    },
    {
     "name": "stderr",
     "output_type": "stream",
     "text": [
      "C:\\Users\\PC\\AppData\\Local\\Temp\\ipykernel_4980\\1846137033.py:69: SettingWithCopyWarning: \n",
      "A value is trying to be set on a copy of a slice from a DataFrame.\n",
      "Try using .loc[row_indexer,col_indexer] = value instead\n",
      "\n",
      "See the caveats in the documentation: https://pandas.pydata.org/pandas-docs/stable/user_guide/indexing.html#returning-a-view-versus-a-copy\n",
      "  df_clean['sample_id'] = sample_id\n",
      "C:\\Users\\PC\\AppData\\Local\\Temp\\ipykernel_4980\\1846137033.py:69: SettingWithCopyWarning: \n",
      "A value is trying to be set on a copy of a slice from a DataFrame.\n",
      "Try using .loc[row_indexer,col_indexer] = value instead\n",
      "\n",
      "See the caveats in the documentation: https://pandas.pydata.org/pandas-docs/stable/user_guide/indexing.html#returning-a-view-versus-a-copy\n",
      "  df_clean['sample_id'] = sample_id\n"
     ]
    },
    {
     "name": "stdout",
     "output_type": "stream",
     "text": [
      "Finished processing sample: 0fb8ee34-b7c8-4ea6-987a-b69c00baa53a.rna_seq.augmented_star_gene_counts, shape: (60660, 10)\n",
      "Reading file: C:\\Users\\PC\\Desktop\\gene-expression-cancer-prediction\\rna_seq\\d14d5953-f379-4adb-9a1b-028f91b1a9e6\\c63a27ff-1844-4b4f-9bc7-ac4d00dc0de8.rna_seq.augmented_star_gene_counts.tsv\n",
      "Processing sample: c63a27ff-1844-4b4f-9bc7-ac4d00dc0de8.rna_seq.augmented_star_gene_counts\n",
      "Finished processing sample: c63a27ff-1844-4b4f-9bc7-ac4d00dc0de8.rna_seq.augmented_star_gene_counts, shape: (60660, 10)\n",
      "Reading file: C:\\Users\\PC\\Desktop\\gene-expression-cancer-prediction\\rna_seq\\d240cdef-e1a3-481f-a0d5-895d7cc5cabd\\f7df28a8-81d0-434a-bfcf-0ffff4ac9ede.rna_seq.augmented_star_gene_counts.tsv\n",
      "Processing sample: f7df28a8-81d0-434a-bfcf-0ffff4ac9ede.rna_seq.augmented_star_gene_counts\n",
      "Finished processing sample: f7df28a8-81d0-434a-bfcf-0ffff4ac9ede.rna_seq.augmented_star_gene_counts, shape: (60660, 10)\n",
      "Reading file: C:\\Users\\PC\\Desktop\\gene-expression-cancer-prediction\\rna_seq\\d27acb8c-2551-4ea7-8c09-f211cb4a9ec0\\1cc7480c-76e1-42d1-8593-49b356ef624e.rna_seq.augmented_star_gene_counts.tsv\n",
      "Processing sample: 1cc7480c-76e1-42d1-8593-49b356ef624e.rna_seq.augmented_star_gene_counts\n"
     ]
    },
    {
     "name": "stderr",
     "output_type": "stream",
     "text": [
      "C:\\Users\\PC\\AppData\\Local\\Temp\\ipykernel_4980\\1846137033.py:69: SettingWithCopyWarning: \n",
      "A value is trying to be set on a copy of a slice from a DataFrame.\n",
      "Try using .loc[row_indexer,col_indexer] = value instead\n",
      "\n",
      "See the caveats in the documentation: https://pandas.pydata.org/pandas-docs/stable/user_guide/indexing.html#returning-a-view-versus-a-copy\n",
      "  df_clean['sample_id'] = sample_id\n",
      "C:\\Users\\PC\\AppData\\Local\\Temp\\ipykernel_4980\\1846137033.py:69: SettingWithCopyWarning: \n",
      "A value is trying to be set on a copy of a slice from a DataFrame.\n",
      "Try using .loc[row_indexer,col_indexer] = value instead\n",
      "\n",
      "See the caveats in the documentation: https://pandas.pydata.org/pandas-docs/stable/user_guide/indexing.html#returning-a-view-versus-a-copy\n",
      "  df_clean['sample_id'] = sample_id\n"
     ]
    },
    {
     "name": "stdout",
     "output_type": "stream",
     "text": [
      "Finished processing sample: 1cc7480c-76e1-42d1-8593-49b356ef624e.rna_seq.augmented_star_gene_counts, shape: (60660, 10)\n",
      "Reading file: C:\\Users\\PC\\Desktop\\gene-expression-cancer-prediction\\rna_seq\\d2a12641-a25f-4aab-99a4-433cf664ae73\\934807ee-e303-43b7-938a-1721c6c31584.rna_seq.augmented_star_gene_counts.tsv\n",
      "Processing sample: 934807ee-e303-43b7-938a-1721c6c31584.rna_seq.augmented_star_gene_counts\n"
     ]
    },
    {
     "name": "stderr",
     "output_type": "stream",
     "text": [
      "C:\\Users\\PC\\AppData\\Local\\Temp\\ipykernel_4980\\1846137033.py:69: SettingWithCopyWarning: \n",
      "A value is trying to be set on a copy of a slice from a DataFrame.\n",
      "Try using .loc[row_indexer,col_indexer] = value instead\n",
      "\n",
      "See the caveats in the documentation: https://pandas.pydata.org/pandas-docs/stable/user_guide/indexing.html#returning-a-view-versus-a-copy\n",
      "  df_clean['sample_id'] = sample_id\n",
      "C:\\Users\\PC\\AppData\\Local\\Temp\\ipykernel_4980\\1846137033.py:69: SettingWithCopyWarning: \n",
      "A value is trying to be set on a copy of a slice from a DataFrame.\n",
      "Try using .loc[row_indexer,col_indexer] = value instead\n",
      "\n",
      "See the caveats in the documentation: https://pandas.pydata.org/pandas-docs/stable/user_guide/indexing.html#returning-a-view-versus-a-copy\n",
      "  df_clean['sample_id'] = sample_id\n"
     ]
    },
    {
     "name": "stdout",
     "output_type": "stream",
     "text": [
      "Finished processing sample: 934807ee-e303-43b7-938a-1721c6c31584.rna_seq.augmented_star_gene_counts, shape: (60660, 10)\n",
      "Reading file: C:\\Users\\PC\\Desktop\\gene-expression-cancer-prediction\\rna_seq\\d2b6c967-b505-4f52-a4f7-91b6e8acbd1f\\56c85bd5-c353-457a-94a9-91a3cc0ac4e0.rna_seq.augmented_star_gene_counts.tsv\n",
      "Processing sample: 56c85bd5-c353-457a-94a9-91a3cc0ac4e0.rna_seq.augmented_star_gene_counts\n",
      "Finished processing sample: 56c85bd5-c353-457a-94a9-91a3cc0ac4e0.rna_seq.augmented_star_gene_counts, shape: (60660, 10)\n",
      "Reading file: C:\\Users\\PC\\Desktop\\gene-expression-cancer-prediction\\rna_seq\\d2e2915c-125e-45c6-b7f3-6a815b3d2859\\96a45a70-d4b5-4090-b603-73b7379679d6.rna_seq.augmented_star_gene_counts.tsv\n",
      "Processing sample: 96a45a70-d4b5-4090-b603-73b7379679d6.rna_seq.augmented_star_gene_counts\n"
     ]
    },
    {
     "name": "stderr",
     "output_type": "stream",
     "text": [
      "C:\\Users\\PC\\AppData\\Local\\Temp\\ipykernel_4980\\1846137033.py:69: SettingWithCopyWarning: \n",
      "A value is trying to be set on a copy of a slice from a DataFrame.\n",
      "Try using .loc[row_indexer,col_indexer] = value instead\n",
      "\n",
      "See the caveats in the documentation: https://pandas.pydata.org/pandas-docs/stable/user_guide/indexing.html#returning-a-view-versus-a-copy\n",
      "  df_clean['sample_id'] = sample_id\n",
      "C:\\Users\\PC\\AppData\\Local\\Temp\\ipykernel_4980\\1846137033.py:69: SettingWithCopyWarning: \n",
      "A value is trying to be set on a copy of a slice from a DataFrame.\n",
      "Try using .loc[row_indexer,col_indexer] = value instead\n",
      "\n",
      "See the caveats in the documentation: https://pandas.pydata.org/pandas-docs/stable/user_guide/indexing.html#returning-a-view-versus-a-copy\n",
      "  df_clean['sample_id'] = sample_id\n"
     ]
    },
    {
     "name": "stdout",
     "output_type": "stream",
     "text": [
      "Finished processing sample: 96a45a70-d4b5-4090-b603-73b7379679d6.rna_seq.augmented_star_gene_counts, shape: (60660, 10)\n",
      "Reading file: C:\\Users\\PC\\Desktop\\gene-expression-cancer-prediction\\rna_seq\\d32a2386-8747-4f9f-84b2-130a2c948342\\7e11de5c-487d-4fc2-845e-efab7a39e031.rna_seq.augmented_star_gene_counts.tsv\n",
      "Processing sample: 7e11de5c-487d-4fc2-845e-efab7a39e031.rna_seq.augmented_star_gene_counts\n",
      "Finished processing sample: 7e11de5c-487d-4fc2-845e-efab7a39e031.rna_seq.augmented_star_gene_counts, shape: (60660, 10)\n",
      "Reading file: C:\\Users\\PC\\Desktop\\gene-expression-cancer-prediction\\rna_seq\\d393af6b-de4b-4ca6-bc06-a29068dfe086\\fb1c09a7-660e-4585-85b8-5acc456563cf.rna_seq.augmented_star_gene_counts.tsv\n",
      "Processing sample: fb1c09a7-660e-4585-85b8-5acc456563cf.rna_seq.augmented_star_gene_counts\n"
     ]
    },
    {
     "name": "stderr",
     "output_type": "stream",
     "text": [
      "C:\\Users\\PC\\AppData\\Local\\Temp\\ipykernel_4980\\1846137033.py:69: SettingWithCopyWarning: \n",
      "A value is trying to be set on a copy of a slice from a DataFrame.\n",
      "Try using .loc[row_indexer,col_indexer] = value instead\n",
      "\n",
      "See the caveats in the documentation: https://pandas.pydata.org/pandas-docs/stable/user_guide/indexing.html#returning-a-view-versus-a-copy\n",
      "  df_clean['sample_id'] = sample_id\n",
      "C:\\Users\\PC\\AppData\\Local\\Temp\\ipykernel_4980\\1846137033.py:69: SettingWithCopyWarning: \n",
      "A value is trying to be set on a copy of a slice from a DataFrame.\n",
      "Try using .loc[row_indexer,col_indexer] = value instead\n",
      "\n",
      "See the caveats in the documentation: https://pandas.pydata.org/pandas-docs/stable/user_guide/indexing.html#returning-a-view-versus-a-copy\n",
      "  df_clean['sample_id'] = sample_id\n"
     ]
    },
    {
     "name": "stdout",
     "output_type": "stream",
     "text": [
      "Finished processing sample: fb1c09a7-660e-4585-85b8-5acc456563cf.rna_seq.augmented_star_gene_counts, shape: (60660, 10)\n",
      "Reading file: C:\\Users\\PC\\Desktop\\gene-expression-cancer-prediction\\rna_seq\\d4943f66-388e-4c86-b61a-5ef9fef34eff\\240a1e61-5188-4249-b6dd-d6e0d7935d8d.rna_seq.augmented_star_gene_counts.tsv\n",
      "Processing sample: 240a1e61-5188-4249-b6dd-d6e0d7935d8d.rna_seq.augmented_star_gene_counts\n",
      "Finished processing sample: 240a1e61-5188-4249-b6dd-d6e0d7935d8d.rna_seq.augmented_star_gene_counts, shape: (60660, 10)\n",
      "Reading file: C:\\Users\\PC\\Desktop\\gene-expression-cancer-prediction\\rna_seq\\d5120825-ab1f-446c-af1e-3be57846a15b\\ed178c34-0b29-4f65-bdf5-a39969111ca8.rna_seq.augmented_star_gene_counts.tsv\n",
      "Processing sample: ed178c34-0b29-4f65-bdf5-a39969111ca8.rna_seq.augmented_star_gene_counts\n"
     ]
    },
    {
     "name": "stderr",
     "output_type": "stream",
     "text": [
      "C:\\Users\\PC\\AppData\\Local\\Temp\\ipykernel_4980\\1846137033.py:69: SettingWithCopyWarning: \n",
      "A value is trying to be set on a copy of a slice from a DataFrame.\n",
      "Try using .loc[row_indexer,col_indexer] = value instead\n",
      "\n",
      "See the caveats in the documentation: https://pandas.pydata.org/pandas-docs/stable/user_guide/indexing.html#returning-a-view-versus-a-copy\n",
      "  df_clean['sample_id'] = sample_id\n",
      "C:\\Users\\PC\\AppData\\Local\\Temp\\ipykernel_4980\\1846137033.py:69: SettingWithCopyWarning: \n",
      "A value is trying to be set on a copy of a slice from a DataFrame.\n",
      "Try using .loc[row_indexer,col_indexer] = value instead\n",
      "\n",
      "See the caveats in the documentation: https://pandas.pydata.org/pandas-docs/stable/user_guide/indexing.html#returning-a-view-versus-a-copy\n",
      "  df_clean['sample_id'] = sample_id\n"
     ]
    },
    {
     "name": "stdout",
     "output_type": "stream",
     "text": [
      "Finished processing sample: ed178c34-0b29-4f65-bdf5-a39969111ca8.rna_seq.augmented_star_gene_counts, shape: (60660, 10)\n",
      "Reading file: C:\\Users\\PC\\Desktop\\gene-expression-cancer-prediction\\rna_seq\\d52eff00-a7b7-42f0-82fe-ec4c054b1dd9\\56f92378-3707-489e-b4bc-6f7485122484.rna_seq.augmented_star_gene_counts.tsv\n",
      "Processing sample: 56f92378-3707-489e-b4bc-6f7485122484.rna_seq.augmented_star_gene_counts\n",
      "Finished processing sample: 56f92378-3707-489e-b4bc-6f7485122484.rna_seq.augmented_star_gene_counts, shape: (60660, 10)\n",
      "Reading file: C:\\Users\\PC\\Desktop\\gene-expression-cancer-prediction\\rna_seq\\d53192c4-2356-4b6c-b98f-19eded7b7e29\\6733afa1-b0b8-440e-b54c-98e5fdec854c.rna_seq.augmented_star_gene_counts.tsv\n",
      "Processing sample: 6733afa1-b0b8-440e-b54c-98e5fdec854c.rna_seq.augmented_star_gene_counts\n"
     ]
    },
    {
     "name": "stderr",
     "output_type": "stream",
     "text": [
      "C:\\Users\\PC\\AppData\\Local\\Temp\\ipykernel_4980\\1846137033.py:69: SettingWithCopyWarning: \n",
      "A value is trying to be set on a copy of a slice from a DataFrame.\n",
      "Try using .loc[row_indexer,col_indexer] = value instead\n",
      "\n",
      "See the caveats in the documentation: https://pandas.pydata.org/pandas-docs/stable/user_guide/indexing.html#returning-a-view-versus-a-copy\n",
      "  df_clean['sample_id'] = sample_id\n"
     ]
    },
    {
     "name": "stdout",
     "output_type": "stream",
     "text": [
      "Finished processing sample: 6733afa1-b0b8-440e-b54c-98e5fdec854c.rna_seq.augmented_star_gene_counts, shape: (60660, 10)\n",
      "Reading file: C:\\Users\\PC\\Desktop\\gene-expression-cancer-prediction\\rna_seq\\d5330be0-9f72-4be5-9139-8503aa4d00b4\\0a133c47-fae8-4e3b-8f4d-cbf357f5e2fc.rna_seq.augmented_star_gene_counts.tsv\n",
      "Processing sample: 0a133c47-fae8-4e3b-8f4d-cbf357f5e2fc.rna_seq.augmented_star_gene_counts\n"
     ]
    },
    {
     "name": "stderr",
     "output_type": "stream",
     "text": [
      "C:\\Users\\PC\\AppData\\Local\\Temp\\ipykernel_4980\\1846137033.py:69: SettingWithCopyWarning: \n",
      "A value is trying to be set on a copy of a slice from a DataFrame.\n",
      "Try using .loc[row_indexer,col_indexer] = value instead\n",
      "\n",
      "See the caveats in the documentation: https://pandas.pydata.org/pandas-docs/stable/user_guide/indexing.html#returning-a-view-versus-a-copy\n",
      "  df_clean['sample_id'] = sample_id\n"
     ]
    },
    {
     "name": "stdout",
     "output_type": "stream",
     "text": [
      "Finished processing sample: 0a133c47-fae8-4e3b-8f4d-cbf357f5e2fc.rna_seq.augmented_star_gene_counts, shape: (60660, 10)\n",
      "Reading file: C:\\Users\\PC\\Desktop\\gene-expression-cancer-prediction\\rna_seq\\d5358d17-4c49-46fa-8a96-4af9ab298ab4\\8afeab3f-89ee-4901-8a32-d13587dbcab5.rna_seq.augmented_star_gene_counts.tsv\n",
      "Processing sample: 8afeab3f-89ee-4901-8a32-d13587dbcab5.rna_seq.augmented_star_gene_counts\n"
     ]
    },
    {
     "name": "stderr",
     "output_type": "stream",
     "text": [
      "C:\\Users\\PC\\AppData\\Local\\Temp\\ipykernel_4980\\1846137033.py:69: SettingWithCopyWarning: \n",
      "A value is trying to be set on a copy of a slice from a DataFrame.\n",
      "Try using .loc[row_indexer,col_indexer] = value instead\n",
      "\n",
      "See the caveats in the documentation: https://pandas.pydata.org/pandas-docs/stable/user_guide/indexing.html#returning-a-view-versus-a-copy\n",
      "  df_clean['sample_id'] = sample_id\n"
     ]
    },
    {
     "name": "stdout",
     "output_type": "stream",
     "text": [
      "Finished processing sample: 8afeab3f-89ee-4901-8a32-d13587dbcab5.rna_seq.augmented_star_gene_counts, shape: (60660, 10)\n",
      "Reading file: C:\\Users\\PC\\Desktop\\gene-expression-cancer-prediction\\rna_seq\\d5586fdb-d796-4176-84e3-11a72124b41f\\f7efa9c4-e7e2-406a-98e5-596f787c810e.rna_seq.augmented_star_gene_counts.tsv\n",
      "Processing sample: f7efa9c4-e7e2-406a-98e5-596f787c810e.rna_seq.augmented_star_gene_counts\n"
     ]
    },
    {
     "name": "stderr",
     "output_type": "stream",
     "text": [
      "C:\\Users\\PC\\AppData\\Local\\Temp\\ipykernel_4980\\1846137033.py:69: SettingWithCopyWarning: \n",
      "A value is trying to be set on a copy of a slice from a DataFrame.\n",
      "Try using .loc[row_indexer,col_indexer] = value instead\n",
      "\n",
      "See the caveats in the documentation: https://pandas.pydata.org/pandas-docs/stable/user_guide/indexing.html#returning-a-view-versus-a-copy\n",
      "  df_clean['sample_id'] = sample_id\n"
     ]
    },
    {
     "name": "stdout",
     "output_type": "stream",
     "text": [
      "Finished processing sample: f7efa9c4-e7e2-406a-98e5-596f787c810e.rna_seq.augmented_star_gene_counts, shape: (60660, 10)\n",
      "Reading file: C:\\Users\\PC\\Desktop\\gene-expression-cancer-prediction\\rna_seq\\d56cbe4c-2158-4f78-a545-d5c963a22978\\1e473e62-d679-45be-890c-77c52a3e7d47.rna_seq.augmented_star_gene_counts.tsv\n",
      "Processing sample: 1e473e62-d679-45be-890c-77c52a3e7d47.rna_seq.augmented_star_gene_counts\n"
     ]
    },
    {
     "name": "stderr",
     "output_type": "stream",
     "text": [
      "C:\\Users\\PC\\AppData\\Local\\Temp\\ipykernel_4980\\1846137033.py:69: SettingWithCopyWarning: \n",
      "A value is trying to be set on a copy of a slice from a DataFrame.\n",
      "Try using .loc[row_indexer,col_indexer] = value instead\n",
      "\n",
      "See the caveats in the documentation: https://pandas.pydata.org/pandas-docs/stable/user_guide/indexing.html#returning-a-view-versus-a-copy\n",
      "  df_clean['sample_id'] = sample_id\n"
     ]
    },
    {
     "name": "stdout",
     "output_type": "stream",
     "text": [
      "Finished processing sample: 1e473e62-d679-45be-890c-77c52a3e7d47.rna_seq.augmented_star_gene_counts, shape: (60660, 10)\n",
      "Reading file: C:\\Users\\PC\\Desktop\\gene-expression-cancer-prediction\\rna_seq\\d5d23d6a-c141-442f-ac4f-714e46b8d9ef\\9907c264-961c-46b4-94a8-bf7e234621d8.rna_seq.augmented_star_gene_counts.tsv\n",
      "Processing sample: 9907c264-961c-46b4-94a8-bf7e234621d8.rna_seq.augmented_star_gene_counts\n"
     ]
    },
    {
     "name": "stderr",
     "output_type": "stream",
     "text": [
      "C:\\Users\\PC\\AppData\\Local\\Temp\\ipykernel_4980\\1846137033.py:69: SettingWithCopyWarning: \n",
      "A value is trying to be set on a copy of a slice from a DataFrame.\n",
      "Try using .loc[row_indexer,col_indexer] = value instead\n",
      "\n",
      "See the caveats in the documentation: https://pandas.pydata.org/pandas-docs/stable/user_guide/indexing.html#returning-a-view-versus-a-copy\n",
      "  df_clean['sample_id'] = sample_id\n"
     ]
    },
    {
     "name": "stdout",
     "output_type": "stream",
     "text": [
      "Finished processing sample: 9907c264-961c-46b4-94a8-bf7e234621d8.rna_seq.augmented_star_gene_counts, shape: (60660, 10)\n",
      "Reading file: C:\\Users\\PC\\Desktop\\gene-expression-cancer-prediction\\rna_seq\\d657ed9a-fd92-493c-ae10-120c8b0c58d7\\57730033-1db5-4e48-81ff-b6ee4f3c0ab4.rna_seq.augmented_star_gene_counts.tsv\n",
      "Processing sample: 57730033-1db5-4e48-81ff-b6ee4f3c0ab4.rna_seq.augmented_star_gene_counts\n"
     ]
    },
    {
     "name": "stderr",
     "output_type": "stream",
     "text": [
      "C:\\Users\\PC\\AppData\\Local\\Temp\\ipykernel_4980\\1846137033.py:69: SettingWithCopyWarning: \n",
      "A value is trying to be set on a copy of a slice from a DataFrame.\n",
      "Try using .loc[row_indexer,col_indexer] = value instead\n",
      "\n",
      "See the caveats in the documentation: https://pandas.pydata.org/pandas-docs/stable/user_guide/indexing.html#returning-a-view-versus-a-copy\n",
      "  df_clean['sample_id'] = sample_id\n"
     ]
    },
    {
     "name": "stdout",
     "output_type": "stream",
     "text": [
      "Finished processing sample: 57730033-1db5-4e48-81ff-b6ee4f3c0ab4.rna_seq.augmented_star_gene_counts, shape: (60660, 10)\n",
      "Reading file: C:\\Users\\PC\\Desktop\\gene-expression-cancer-prediction\\rna_seq\\d67b8114-b70f-4e69-bae5-4f2f982c4b1b\\f337af94-788c-4de9-ab62-8627dc88695d.rna_seq.augmented_star_gene_counts.tsv\n",
      "Processing sample: f337af94-788c-4de9-ab62-8627dc88695d.rna_seq.augmented_star_gene_counts\n"
     ]
    },
    {
     "name": "stderr",
     "output_type": "stream",
     "text": [
      "C:\\Users\\PC\\AppData\\Local\\Temp\\ipykernel_4980\\1846137033.py:69: SettingWithCopyWarning: \n",
      "A value is trying to be set on a copy of a slice from a DataFrame.\n",
      "Try using .loc[row_indexer,col_indexer] = value instead\n",
      "\n",
      "See the caveats in the documentation: https://pandas.pydata.org/pandas-docs/stable/user_guide/indexing.html#returning-a-view-versus-a-copy\n",
      "  df_clean['sample_id'] = sample_id\n"
     ]
    },
    {
     "name": "stdout",
     "output_type": "stream",
     "text": [
      "Finished processing sample: f337af94-788c-4de9-ab62-8627dc88695d.rna_seq.augmented_star_gene_counts, shape: (60660, 10)\n",
      "Reading file: C:\\Users\\PC\\Desktop\\gene-expression-cancer-prediction\\rna_seq\\d67d6fbf-50fa-485e-8ac7-a3c7ac33b3b2\\63eff205-4fd4-4148-a596-2f7c17da328f.rna_seq.augmented_star_gene_counts.tsv\n",
      "Processing sample: 63eff205-4fd4-4148-a596-2f7c17da328f.rna_seq.augmented_star_gene_counts\n"
     ]
    },
    {
     "name": "stderr",
     "output_type": "stream",
     "text": [
      "C:\\Users\\PC\\AppData\\Local\\Temp\\ipykernel_4980\\1846137033.py:69: SettingWithCopyWarning: \n",
      "A value is trying to be set on a copy of a slice from a DataFrame.\n",
      "Try using .loc[row_indexer,col_indexer] = value instead\n",
      "\n",
      "See the caveats in the documentation: https://pandas.pydata.org/pandas-docs/stable/user_guide/indexing.html#returning-a-view-versus-a-copy\n",
      "  df_clean['sample_id'] = sample_id\n"
     ]
    },
    {
     "name": "stdout",
     "output_type": "stream",
     "text": [
      "Finished processing sample: 63eff205-4fd4-4148-a596-2f7c17da328f.rna_seq.augmented_star_gene_counts, shape: (60660, 10)\n",
      "Reading file: C:\\Users\\PC\\Desktop\\gene-expression-cancer-prediction\\rna_seq\\d6882616-b77d-4d4c-90dc-7318c57876e1\\4e01a01d-eded-4d02-b8aa-1920c6997726.rna_seq.augmented_star_gene_counts.tsv\n",
      "Processing sample: 4e01a01d-eded-4d02-b8aa-1920c6997726.rna_seq.augmented_star_gene_counts\n"
     ]
    },
    {
     "name": "stderr",
     "output_type": "stream",
     "text": [
      "C:\\Users\\PC\\AppData\\Local\\Temp\\ipykernel_4980\\1846137033.py:69: SettingWithCopyWarning: \n",
      "A value is trying to be set on a copy of a slice from a DataFrame.\n",
      "Try using .loc[row_indexer,col_indexer] = value instead\n",
      "\n",
      "See the caveats in the documentation: https://pandas.pydata.org/pandas-docs/stable/user_guide/indexing.html#returning-a-view-versus-a-copy\n",
      "  df_clean['sample_id'] = sample_id\n"
     ]
    },
    {
     "name": "stdout",
     "output_type": "stream",
     "text": [
      "Finished processing sample: 4e01a01d-eded-4d02-b8aa-1920c6997726.rna_seq.augmented_star_gene_counts, shape: (60660, 10)\n",
      "Reading file: C:\\Users\\PC\\Desktop\\gene-expression-cancer-prediction\\rna_seq\\d721071e-6c0e-46df-9158-1fe37a64f1ed\\a78e7939-a1ea-4b9d-ae55-3c1dc985bbd8.rna_seq.augmented_star_gene_counts.tsv\n",
      "Processing sample: a78e7939-a1ea-4b9d-ae55-3c1dc985bbd8.rna_seq.augmented_star_gene_counts\n"
     ]
    },
    {
     "name": "stderr",
     "output_type": "stream",
     "text": [
      "C:\\Users\\PC\\AppData\\Local\\Temp\\ipykernel_4980\\1846137033.py:69: SettingWithCopyWarning: \n",
      "A value is trying to be set on a copy of a slice from a DataFrame.\n",
      "Try using .loc[row_indexer,col_indexer] = value instead\n",
      "\n",
      "See the caveats in the documentation: https://pandas.pydata.org/pandas-docs/stable/user_guide/indexing.html#returning-a-view-versus-a-copy\n",
      "  df_clean['sample_id'] = sample_id\n"
     ]
    },
    {
     "name": "stdout",
     "output_type": "stream",
     "text": [
      "Finished processing sample: a78e7939-a1ea-4b9d-ae55-3c1dc985bbd8.rna_seq.augmented_star_gene_counts, shape: (60660, 10)\n",
      "Reading file: C:\\Users\\PC\\Desktop\\gene-expression-cancer-prediction\\rna_seq\\d777e8a9-92a8-48eb-bf58-8e13af99c77f\\23dace7d-4200-46ee-8501-96c4b5084851.rna_seq.augmented_star_gene_counts.tsv\n",
      "Processing sample: 23dace7d-4200-46ee-8501-96c4b5084851.rna_seq.augmented_star_gene_counts\n"
     ]
    },
    {
     "name": "stderr",
     "output_type": "stream",
     "text": [
      "C:\\Users\\PC\\AppData\\Local\\Temp\\ipykernel_4980\\1846137033.py:69: SettingWithCopyWarning: \n",
      "A value is trying to be set on a copy of a slice from a DataFrame.\n",
      "Try using .loc[row_indexer,col_indexer] = value instead\n",
      "\n",
      "See the caveats in the documentation: https://pandas.pydata.org/pandas-docs/stable/user_guide/indexing.html#returning-a-view-versus-a-copy\n",
      "  df_clean['sample_id'] = sample_id\n"
     ]
    },
    {
     "name": "stdout",
     "output_type": "stream",
     "text": [
      "Finished processing sample: 23dace7d-4200-46ee-8501-96c4b5084851.rna_seq.augmented_star_gene_counts, shape: (60660, 10)\n",
      "Reading file: C:\\Users\\PC\\Desktop\\gene-expression-cancer-prediction\\rna_seq\\d7e1d1f4-3189-401d-91dc-048ab13ce5df\\7ca1746b-d6cc-4207-b1ed-738520928744.rna_seq.augmented_star_gene_counts.tsv\n",
      "Processing sample: 7ca1746b-d6cc-4207-b1ed-738520928744.rna_seq.augmented_star_gene_counts\n"
     ]
    },
    {
     "name": "stderr",
     "output_type": "stream",
     "text": [
      "C:\\Users\\PC\\AppData\\Local\\Temp\\ipykernel_4980\\1846137033.py:69: SettingWithCopyWarning: \n",
      "A value is trying to be set on a copy of a slice from a DataFrame.\n",
      "Try using .loc[row_indexer,col_indexer] = value instead\n",
      "\n",
      "See the caveats in the documentation: https://pandas.pydata.org/pandas-docs/stable/user_guide/indexing.html#returning-a-view-versus-a-copy\n",
      "  df_clean['sample_id'] = sample_id\n"
     ]
    },
    {
     "name": "stdout",
     "output_type": "stream",
     "text": [
      "Finished processing sample: 7ca1746b-d6cc-4207-b1ed-738520928744.rna_seq.augmented_star_gene_counts, shape: (60660, 10)\n",
      "Reading file: C:\\Users\\PC\\Desktop\\gene-expression-cancer-prediction\\rna_seq\\d80334e2-0ee0-432a-aa78-3d6ca1f017e5\\87e5aef9-f493-4e46-bb5b-7cd18d5e30fc.rna_seq.augmented_star_gene_counts.tsv\n",
      "Processing sample: 87e5aef9-f493-4e46-bb5b-7cd18d5e30fc.rna_seq.augmented_star_gene_counts\n"
     ]
    },
    {
     "name": "stderr",
     "output_type": "stream",
     "text": [
      "C:\\Users\\PC\\AppData\\Local\\Temp\\ipykernel_4980\\1846137033.py:69: SettingWithCopyWarning: \n",
      "A value is trying to be set on a copy of a slice from a DataFrame.\n",
      "Try using .loc[row_indexer,col_indexer] = value instead\n",
      "\n",
      "See the caveats in the documentation: https://pandas.pydata.org/pandas-docs/stable/user_guide/indexing.html#returning-a-view-versus-a-copy\n",
      "  df_clean['sample_id'] = sample_id\n"
     ]
    },
    {
     "name": "stdout",
     "output_type": "stream",
     "text": [
      "Finished processing sample: 87e5aef9-f493-4e46-bb5b-7cd18d5e30fc.rna_seq.augmented_star_gene_counts, shape: (60660, 10)\n",
      "Reading file: C:\\Users\\PC\\Desktop\\gene-expression-cancer-prediction\\rna_seq\\d84ce38f-afb8-4b1a-9a5f-f62d59577b3d\\4066800d-0b9e-4263-ba24-cab271630e41.rna_seq.augmented_star_gene_counts.tsv\n",
      "Processing sample: 4066800d-0b9e-4263-ba24-cab271630e41.rna_seq.augmented_star_gene_counts\n"
     ]
    },
    {
     "name": "stderr",
     "output_type": "stream",
     "text": [
      "C:\\Users\\PC\\AppData\\Local\\Temp\\ipykernel_4980\\1846137033.py:69: SettingWithCopyWarning: \n",
      "A value is trying to be set on a copy of a slice from a DataFrame.\n",
      "Try using .loc[row_indexer,col_indexer] = value instead\n",
      "\n",
      "See the caveats in the documentation: https://pandas.pydata.org/pandas-docs/stable/user_guide/indexing.html#returning-a-view-versus-a-copy\n",
      "  df_clean['sample_id'] = sample_id\n"
     ]
    },
    {
     "name": "stdout",
     "output_type": "stream",
     "text": [
      "Finished processing sample: 4066800d-0b9e-4263-ba24-cab271630e41.rna_seq.augmented_star_gene_counts, shape: (60660, 10)\n",
      "Reading file: C:\\Users\\PC\\Desktop\\gene-expression-cancer-prediction\\rna_seq\\d880fcce-ad8a-4402-911c-11129d2225df\\d12c28eb-32c5-4523-af42-9ad130014a40.rna_seq.augmented_star_gene_counts.tsv\n",
      "Processing sample: d12c28eb-32c5-4523-af42-9ad130014a40.rna_seq.augmented_star_gene_counts\n"
     ]
    },
    {
     "name": "stderr",
     "output_type": "stream",
     "text": [
      "C:\\Users\\PC\\AppData\\Local\\Temp\\ipykernel_4980\\1846137033.py:69: SettingWithCopyWarning: \n",
      "A value is trying to be set on a copy of a slice from a DataFrame.\n",
      "Try using .loc[row_indexer,col_indexer] = value instead\n",
      "\n",
      "See the caveats in the documentation: https://pandas.pydata.org/pandas-docs/stable/user_guide/indexing.html#returning-a-view-versus-a-copy\n",
      "  df_clean['sample_id'] = sample_id\n"
     ]
    },
    {
     "name": "stdout",
     "output_type": "stream",
     "text": [
      "Finished processing sample: d12c28eb-32c5-4523-af42-9ad130014a40.rna_seq.augmented_star_gene_counts, shape: (60660, 10)\n",
      "Reading file: C:\\Users\\PC\\Desktop\\gene-expression-cancer-prediction\\rna_seq\\d889e5ea-58f5-4d2f-ad1e-6ab5d3217642\\0f669396-2dc4-4305-aa35-c6fbd82ee7df.rna_seq.augmented_star_gene_counts.tsv\n",
      "Processing sample: 0f669396-2dc4-4305-aa35-c6fbd82ee7df.rna_seq.augmented_star_gene_counts\n"
     ]
    },
    {
     "name": "stderr",
     "output_type": "stream",
     "text": [
      "C:\\Users\\PC\\AppData\\Local\\Temp\\ipykernel_4980\\1846137033.py:69: SettingWithCopyWarning: \n",
      "A value is trying to be set on a copy of a slice from a DataFrame.\n",
      "Try using .loc[row_indexer,col_indexer] = value instead\n",
      "\n",
      "See the caveats in the documentation: https://pandas.pydata.org/pandas-docs/stable/user_guide/indexing.html#returning-a-view-versus-a-copy\n",
      "  df_clean['sample_id'] = sample_id\n"
     ]
    },
    {
     "name": "stdout",
     "output_type": "stream",
     "text": [
      "Finished processing sample: 0f669396-2dc4-4305-aa35-c6fbd82ee7df.rna_seq.augmented_star_gene_counts, shape: (60660, 10)\n",
      "Reading file: C:\\Users\\PC\\Desktop\\gene-expression-cancer-prediction\\rna_seq\\d898d021-e82b-42e6-b82e-28c187136674\\0b36289c-6835-414d-9f86-4cc4a812af87.rna_seq.augmented_star_gene_counts.tsv\n",
      "Processing sample: 0b36289c-6835-414d-9f86-4cc4a812af87.rna_seq.augmented_star_gene_counts\n"
     ]
    },
    {
     "name": "stderr",
     "output_type": "stream",
     "text": [
      "C:\\Users\\PC\\AppData\\Local\\Temp\\ipykernel_4980\\1846137033.py:69: SettingWithCopyWarning: \n",
      "A value is trying to be set on a copy of a slice from a DataFrame.\n",
      "Try using .loc[row_indexer,col_indexer] = value instead\n",
      "\n",
      "See the caveats in the documentation: https://pandas.pydata.org/pandas-docs/stable/user_guide/indexing.html#returning-a-view-versus-a-copy\n",
      "  df_clean['sample_id'] = sample_id\n"
     ]
    },
    {
     "name": "stdout",
     "output_type": "stream",
     "text": [
      "Finished processing sample: 0b36289c-6835-414d-9f86-4cc4a812af87.rna_seq.augmented_star_gene_counts, shape: (60660, 10)\n",
      "Reading file: C:\\Users\\PC\\Desktop\\gene-expression-cancer-prediction\\rna_seq\\d8a94ea1-68a3-43be-8a30-d690541a23aa\\acb1bf8e-f597-4f67-b19d-bb737109d9cd.rna_seq.augmented_star_gene_counts.tsv\n",
      "Processing sample: acb1bf8e-f597-4f67-b19d-bb737109d9cd.rna_seq.augmented_star_gene_counts\n"
     ]
    },
    {
     "name": "stderr",
     "output_type": "stream",
     "text": [
      "C:\\Users\\PC\\AppData\\Local\\Temp\\ipykernel_4980\\1846137033.py:69: SettingWithCopyWarning: \n",
      "A value is trying to be set on a copy of a slice from a DataFrame.\n",
      "Try using .loc[row_indexer,col_indexer] = value instead\n",
      "\n",
      "See the caveats in the documentation: https://pandas.pydata.org/pandas-docs/stable/user_guide/indexing.html#returning-a-view-versus-a-copy\n",
      "  df_clean['sample_id'] = sample_id\n"
     ]
    },
    {
     "name": "stdout",
     "output_type": "stream",
     "text": [
      "Finished processing sample: acb1bf8e-f597-4f67-b19d-bb737109d9cd.rna_seq.augmented_star_gene_counts, shape: (60660, 10)\n",
      "Reading file: C:\\Users\\PC\\Desktop\\gene-expression-cancer-prediction\\rna_seq\\d9126541-4eb3-48fc-88ed-2e0ecea0d9d4\\1880f86a-77c8-4eac-a3e7-a62f5edad8fb.rna_seq.augmented_star_gene_counts.tsv\n",
      "Processing sample: 1880f86a-77c8-4eac-a3e7-a62f5edad8fb.rna_seq.augmented_star_gene_counts\n"
     ]
    },
    {
     "name": "stderr",
     "output_type": "stream",
     "text": [
      "C:\\Users\\PC\\AppData\\Local\\Temp\\ipykernel_4980\\1846137033.py:69: SettingWithCopyWarning: \n",
      "A value is trying to be set on a copy of a slice from a DataFrame.\n",
      "Try using .loc[row_indexer,col_indexer] = value instead\n",
      "\n",
      "See the caveats in the documentation: https://pandas.pydata.org/pandas-docs/stable/user_guide/indexing.html#returning-a-view-versus-a-copy\n",
      "  df_clean['sample_id'] = sample_id\n"
     ]
    },
    {
     "name": "stdout",
     "output_type": "stream",
     "text": [
      "Finished processing sample: 1880f86a-77c8-4eac-a3e7-a62f5edad8fb.rna_seq.augmented_star_gene_counts, shape: (60660, 10)\n",
      "Reading file: C:\\Users\\PC\\Desktop\\gene-expression-cancer-prediction\\rna_seq\\d923e06d-c747-419d-bd40-b05eb3e13edb\\914508e1-ccc8-47ff-a225-7aca326a54dd.rna_seq.augmented_star_gene_counts.tsv\n",
      "Processing sample: 914508e1-ccc8-47ff-a225-7aca326a54dd.rna_seq.augmented_star_gene_counts\n"
     ]
    },
    {
     "name": "stderr",
     "output_type": "stream",
     "text": [
      "C:\\Users\\PC\\AppData\\Local\\Temp\\ipykernel_4980\\1846137033.py:69: SettingWithCopyWarning: \n",
      "A value is trying to be set on a copy of a slice from a DataFrame.\n",
      "Try using .loc[row_indexer,col_indexer] = value instead\n",
      "\n",
      "See the caveats in the documentation: https://pandas.pydata.org/pandas-docs/stable/user_guide/indexing.html#returning-a-view-versus-a-copy\n",
      "  df_clean['sample_id'] = sample_id\n",
      "C:\\Users\\PC\\AppData\\Local\\Temp\\ipykernel_4980\\1846137033.py:69: SettingWithCopyWarning: \n",
      "A value is trying to be set on a copy of a slice from a DataFrame.\n",
      "Try using .loc[row_indexer,col_indexer] = value instead\n",
      "\n",
      "See the caveats in the documentation: https://pandas.pydata.org/pandas-docs/stable/user_guide/indexing.html#returning-a-view-versus-a-copy\n",
      "  df_clean['sample_id'] = sample_id\n"
     ]
    },
    {
     "name": "stdout",
     "output_type": "stream",
     "text": [
      "Finished processing sample: 914508e1-ccc8-47ff-a225-7aca326a54dd.rna_seq.augmented_star_gene_counts, shape: (60660, 10)\n",
      "Reading file: C:\\Users\\PC\\Desktop\\gene-expression-cancer-prediction\\rna_seq\\d9b6b523-00de-4638-a3f3-8de841fb7183\\39a75bde-24a0-4d26-8377-df045423f786.rna_seq.augmented_star_gene_counts.tsv\n",
      "Processing sample: 39a75bde-24a0-4d26-8377-df045423f786.rna_seq.augmented_star_gene_counts\n",
      "Finished processing sample: 39a75bde-24a0-4d26-8377-df045423f786.rna_seq.augmented_star_gene_counts, shape: (60660, 10)\n",
      "Reading file: C:\\Users\\PC\\Desktop\\gene-expression-cancer-prediction\\rna_seq\\d9ea5bde-aa1a-4210-976f-b2f67c6d0191\\5b858b45-79a5-4857-b59e-8c56a8b04320.rna_seq.augmented_star_gene_counts.tsv\n",
      "Processing sample: 5b858b45-79a5-4857-b59e-8c56a8b04320.rna_seq.augmented_star_gene_counts\n"
     ]
    },
    {
     "name": "stderr",
     "output_type": "stream",
     "text": [
      "C:\\Users\\PC\\AppData\\Local\\Temp\\ipykernel_4980\\1846137033.py:69: SettingWithCopyWarning: \n",
      "A value is trying to be set on a copy of a slice from a DataFrame.\n",
      "Try using .loc[row_indexer,col_indexer] = value instead\n",
      "\n",
      "See the caveats in the documentation: https://pandas.pydata.org/pandas-docs/stable/user_guide/indexing.html#returning-a-view-versus-a-copy\n",
      "  df_clean['sample_id'] = sample_id\n",
      "C:\\Users\\PC\\AppData\\Local\\Temp\\ipykernel_4980\\1846137033.py:69: SettingWithCopyWarning: \n",
      "A value is trying to be set on a copy of a slice from a DataFrame.\n",
      "Try using .loc[row_indexer,col_indexer] = value instead\n",
      "\n",
      "See the caveats in the documentation: https://pandas.pydata.org/pandas-docs/stable/user_guide/indexing.html#returning-a-view-versus-a-copy\n",
      "  df_clean['sample_id'] = sample_id\n"
     ]
    },
    {
     "name": "stdout",
     "output_type": "stream",
     "text": [
      "Finished processing sample: 5b858b45-79a5-4857-b59e-8c56a8b04320.rna_seq.augmented_star_gene_counts, shape: (60660, 10)\n",
      "Reading file: C:\\Users\\PC\\Desktop\\gene-expression-cancer-prediction\\rna_seq\\da29bf10-4629-4234-8e49-43a4513fe579\\7f2a1bd4-9b71-4e12-ae92-6aaaf247ebca.rna_seq.augmented_star_gene_counts.tsv\n",
      "Processing sample: 7f2a1bd4-9b71-4e12-ae92-6aaaf247ebca.rna_seq.augmented_star_gene_counts\n",
      "Finished processing sample: 7f2a1bd4-9b71-4e12-ae92-6aaaf247ebca.rna_seq.augmented_star_gene_counts, shape: (60660, 10)\n",
      "Reading file: C:\\Users\\PC\\Desktop\\gene-expression-cancer-prediction\\rna_seq\\da2cff7a-9b9d-4ae8-aa49-d717a77906e1\\834c833a-1e2d-48b6-87d5-e19bf2db6e1a.rna_seq.augmented_star_gene_counts.tsv\n",
      "Processing sample: 834c833a-1e2d-48b6-87d5-e19bf2db6e1a.rna_seq.augmented_star_gene_counts\n"
     ]
    },
    {
     "name": "stderr",
     "output_type": "stream",
     "text": [
      "C:\\Users\\PC\\AppData\\Local\\Temp\\ipykernel_4980\\1846137033.py:69: SettingWithCopyWarning: \n",
      "A value is trying to be set on a copy of a slice from a DataFrame.\n",
      "Try using .loc[row_indexer,col_indexer] = value instead\n",
      "\n",
      "See the caveats in the documentation: https://pandas.pydata.org/pandas-docs/stable/user_guide/indexing.html#returning-a-view-versus-a-copy\n",
      "  df_clean['sample_id'] = sample_id\n",
      "C:\\Users\\PC\\AppData\\Local\\Temp\\ipykernel_4980\\1846137033.py:69: SettingWithCopyWarning: \n",
      "A value is trying to be set on a copy of a slice from a DataFrame.\n",
      "Try using .loc[row_indexer,col_indexer] = value instead\n",
      "\n",
      "See the caveats in the documentation: https://pandas.pydata.org/pandas-docs/stable/user_guide/indexing.html#returning-a-view-versus-a-copy\n",
      "  df_clean['sample_id'] = sample_id\n"
     ]
    },
    {
     "name": "stdout",
     "output_type": "stream",
     "text": [
      "Finished processing sample: 834c833a-1e2d-48b6-87d5-e19bf2db6e1a.rna_seq.augmented_star_gene_counts, shape: (60660, 10)\n",
      "Reading file: C:\\Users\\PC\\Desktop\\gene-expression-cancer-prediction\\rna_seq\\da333184-1ddd-4cd7-9c0d-e4526a03a1c9\\c102587f-0390-4dd5-8b35-d819e0083134.rna_seq.augmented_star_gene_counts.tsv\n",
      "Processing sample: c102587f-0390-4dd5-8b35-d819e0083134.rna_seq.augmented_star_gene_counts\n",
      "Finished processing sample: c102587f-0390-4dd5-8b35-d819e0083134.rna_seq.augmented_star_gene_counts, shape: (60660, 10)\n",
      "Reading file: C:\\Users\\PC\\Desktop\\gene-expression-cancer-prediction\\rna_seq\\da8c5f1e-a4e3-46bd-adb3-ce758e654983\\c36f7911-13d2-4230-a5f5-e9c562d763bc.rna_seq.augmented_star_gene_counts.tsv\n",
      "Processing sample: c36f7911-13d2-4230-a5f5-e9c562d763bc.rna_seq.augmented_star_gene_counts\n"
     ]
    },
    {
     "name": "stderr",
     "output_type": "stream",
     "text": [
      "C:\\Users\\PC\\AppData\\Local\\Temp\\ipykernel_4980\\1846137033.py:69: SettingWithCopyWarning: \n",
      "A value is trying to be set on a copy of a slice from a DataFrame.\n",
      "Try using .loc[row_indexer,col_indexer] = value instead\n",
      "\n",
      "See the caveats in the documentation: https://pandas.pydata.org/pandas-docs/stable/user_guide/indexing.html#returning-a-view-versus-a-copy\n",
      "  df_clean['sample_id'] = sample_id\n",
      "C:\\Users\\PC\\AppData\\Local\\Temp\\ipykernel_4980\\1846137033.py:69: SettingWithCopyWarning: \n",
      "A value is trying to be set on a copy of a slice from a DataFrame.\n",
      "Try using .loc[row_indexer,col_indexer] = value instead\n",
      "\n",
      "See the caveats in the documentation: https://pandas.pydata.org/pandas-docs/stable/user_guide/indexing.html#returning-a-view-versus-a-copy\n",
      "  df_clean['sample_id'] = sample_id\n"
     ]
    },
    {
     "name": "stdout",
     "output_type": "stream",
     "text": [
      "Finished processing sample: c36f7911-13d2-4230-a5f5-e9c562d763bc.rna_seq.augmented_star_gene_counts, shape: (60660, 10)\n",
      "Reading file: C:\\Users\\PC\\Desktop\\gene-expression-cancer-prediction\\rna_seq\\da93e1a9-6863-4c98-b1fd-52d22ecbca45\\a20bcc86-fe98-42a9-93ad-9027181dad5f.rna_seq.augmented_star_gene_counts.tsv\n",
      "Processing sample: a20bcc86-fe98-42a9-93ad-9027181dad5f.rna_seq.augmented_star_gene_counts\n",
      "Finished processing sample: a20bcc86-fe98-42a9-93ad-9027181dad5f.rna_seq.augmented_star_gene_counts, shape: (60660, 10)\n",
      "Reading file: C:\\Users\\PC\\Desktop\\gene-expression-cancer-prediction\\rna_seq\\dad6be14-a519-478d-9f53-122417453a0e\\5d96c14c-7c43-40a1-ba9a-b482a0ad00ee.rna_seq.augmented_star_gene_counts.tsv\n",
      "Processing sample: 5d96c14c-7c43-40a1-ba9a-b482a0ad00ee.rna_seq.augmented_star_gene_counts\n",
      "Finished processing sample: 5d96c14c-7c43-40a1-ba9a-b482a0ad00ee.rna_seq.augmented_star_gene_counts, shape: (60660, 10)\n",
      "Reading file: C:\\Users\\PC\\Desktop\\gene-expression-cancer-prediction\\rna_seq\\db5aadbb-3042-4c20-8235-ccd19634d9d3\\9692b4cc-6c7f-4f88-8854-769568f088ae.rna_seq.augmented_star_gene_counts.tsv\n",
      "Processing sample: 9692b4cc-6c7f-4f88-8854-769568f088ae.rna_seq.augmented_star_gene_counts\n"
     ]
    },
    {
     "name": "stderr",
     "output_type": "stream",
     "text": [
      "C:\\Users\\PC\\AppData\\Local\\Temp\\ipykernel_4980\\1846137033.py:69: SettingWithCopyWarning: \n",
      "A value is trying to be set on a copy of a slice from a DataFrame.\n",
      "Try using .loc[row_indexer,col_indexer] = value instead\n",
      "\n",
      "See the caveats in the documentation: https://pandas.pydata.org/pandas-docs/stable/user_guide/indexing.html#returning-a-view-versus-a-copy\n",
      "  df_clean['sample_id'] = sample_id\n",
      "C:\\Users\\PC\\AppData\\Local\\Temp\\ipykernel_4980\\1846137033.py:69: SettingWithCopyWarning: \n",
      "A value is trying to be set on a copy of a slice from a DataFrame.\n",
      "Try using .loc[row_indexer,col_indexer] = value instead\n",
      "\n",
      "See the caveats in the documentation: https://pandas.pydata.org/pandas-docs/stable/user_guide/indexing.html#returning-a-view-versus-a-copy\n",
      "  df_clean['sample_id'] = sample_id\n"
     ]
    },
    {
     "name": "stdout",
     "output_type": "stream",
     "text": [
      "Finished processing sample: 9692b4cc-6c7f-4f88-8854-769568f088ae.rna_seq.augmented_star_gene_counts, shape: (60660, 10)\n",
      "Reading file: C:\\Users\\PC\\Desktop\\gene-expression-cancer-prediction\\rna_seq\\dbbacb2c-b675-4a35-a6ff-157865f24945\\4614147d-8f49-42b0-a43d-3ef88e6f0af4.rna_seq.augmented_star_gene_counts.tsv\n",
      "Processing sample: 4614147d-8f49-42b0-a43d-3ef88e6f0af4.rna_seq.augmented_star_gene_counts\n",
      "Finished processing sample: 4614147d-8f49-42b0-a43d-3ef88e6f0af4.rna_seq.augmented_star_gene_counts, shape: (60660, 10)\n",
      "Reading file: C:\\Users\\PC\\Desktop\\gene-expression-cancer-prediction\\rna_seq\\dbdaac00-02bf-41e0-8d54-734273e10baa\\bf858293-b533-4a73-ac9b-568109ba05d4.rna_seq.augmented_star_gene_counts.tsv\n",
      "Processing sample: bf858293-b533-4a73-ac9b-568109ba05d4.rna_seq.augmented_star_gene_counts\n"
     ]
    },
    {
     "name": "stderr",
     "output_type": "stream",
     "text": [
      "C:\\Users\\PC\\AppData\\Local\\Temp\\ipykernel_4980\\1846137033.py:69: SettingWithCopyWarning: \n",
      "A value is trying to be set on a copy of a slice from a DataFrame.\n",
      "Try using .loc[row_indexer,col_indexer] = value instead\n",
      "\n",
      "See the caveats in the documentation: https://pandas.pydata.org/pandas-docs/stable/user_guide/indexing.html#returning-a-view-versus-a-copy\n",
      "  df_clean['sample_id'] = sample_id\n",
      "C:\\Users\\PC\\AppData\\Local\\Temp\\ipykernel_4980\\1846137033.py:69: SettingWithCopyWarning: \n",
      "A value is trying to be set on a copy of a slice from a DataFrame.\n",
      "Try using .loc[row_indexer,col_indexer] = value instead\n",
      "\n",
      "See the caveats in the documentation: https://pandas.pydata.org/pandas-docs/stable/user_guide/indexing.html#returning-a-view-versus-a-copy\n",
      "  df_clean['sample_id'] = sample_id\n"
     ]
    },
    {
     "name": "stdout",
     "output_type": "stream",
     "text": [
      "Finished processing sample: bf858293-b533-4a73-ac9b-568109ba05d4.rna_seq.augmented_star_gene_counts, shape: (60660, 10)\n",
      "Reading file: C:\\Users\\PC\\Desktop\\gene-expression-cancer-prediction\\rna_seq\\dbe79158-b616-4c7b-94d7-5f127b3013ff\\2dc9eaca-6dfc-4e7f-a12b-1495986e1ad4.rna_seq.augmented_star_gene_counts.tsv\n",
      "Processing sample: 2dc9eaca-6dfc-4e7f-a12b-1495986e1ad4.rna_seq.augmented_star_gene_counts\n",
      "Finished processing sample: 2dc9eaca-6dfc-4e7f-a12b-1495986e1ad4.rna_seq.augmented_star_gene_counts, shape: (60660, 10)\n",
      "Reading file: C:\\Users\\PC\\Desktop\\gene-expression-cancer-prediction\\rna_seq\\dc8b305a-6f43-410e-9ce6-96ac24827550\\e7a1cdcf-ec99-44fd-a13b-604cf15b2bd4.rna_seq.augmented_star_gene_counts.tsv\n",
      "Processing sample: e7a1cdcf-ec99-44fd-a13b-604cf15b2bd4.rna_seq.augmented_star_gene_counts\n"
     ]
    },
    {
     "name": "stderr",
     "output_type": "stream",
     "text": [
      "C:\\Users\\PC\\AppData\\Local\\Temp\\ipykernel_4980\\1846137033.py:69: SettingWithCopyWarning: \n",
      "A value is trying to be set on a copy of a slice from a DataFrame.\n",
      "Try using .loc[row_indexer,col_indexer] = value instead\n",
      "\n",
      "See the caveats in the documentation: https://pandas.pydata.org/pandas-docs/stable/user_guide/indexing.html#returning-a-view-versus-a-copy\n",
      "  df_clean['sample_id'] = sample_id\n",
      "C:\\Users\\PC\\AppData\\Local\\Temp\\ipykernel_4980\\1846137033.py:69: SettingWithCopyWarning: \n",
      "A value is trying to be set on a copy of a slice from a DataFrame.\n",
      "Try using .loc[row_indexer,col_indexer] = value instead\n",
      "\n",
      "See the caveats in the documentation: https://pandas.pydata.org/pandas-docs/stable/user_guide/indexing.html#returning-a-view-versus-a-copy\n",
      "  df_clean['sample_id'] = sample_id\n"
     ]
    },
    {
     "name": "stdout",
     "output_type": "stream",
     "text": [
      "Finished processing sample: e7a1cdcf-ec99-44fd-a13b-604cf15b2bd4.rna_seq.augmented_star_gene_counts, shape: (60660, 10)\n",
      "Reading file: C:\\Users\\PC\\Desktop\\gene-expression-cancer-prediction\\rna_seq\\dcac8f3c-d282-4ac9-9194-b1461966c795\\a191b96c-cc06-4a58-990b-57ee27335d5c.rna_seq.augmented_star_gene_counts.tsv\n",
      "Processing sample: a191b96c-cc06-4a58-990b-57ee27335d5c.rna_seq.augmented_star_gene_counts\n",
      "Finished processing sample: a191b96c-cc06-4a58-990b-57ee27335d5c.rna_seq.augmented_star_gene_counts, shape: (60660, 10)\n",
      "Reading file: C:\\Users\\PC\\Desktop\\gene-expression-cancer-prediction\\rna_seq\\dcf2138e-b0f7-4b2e-b535-d463819f1b24\\1d9d65b8-5af4-40e6-a01f-236f45cfecb4.rna_seq.augmented_star_gene_counts.tsv\n",
      "Processing sample: 1d9d65b8-5af4-40e6-a01f-236f45cfecb4.rna_seq.augmented_star_gene_counts\n"
     ]
    },
    {
     "name": "stderr",
     "output_type": "stream",
     "text": [
      "C:\\Users\\PC\\AppData\\Local\\Temp\\ipykernel_4980\\1846137033.py:69: SettingWithCopyWarning: \n",
      "A value is trying to be set on a copy of a slice from a DataFrame.\n",
      "Try using .loc[row_indexer,col_indexer] = value instead\n",
      "\n",
      "See the caveats in the documentation: https://pandas.pydata.org/pandas-docs/stable/user_guide/indexing.html#returning-a-view-versus-a-copy\n",
      "  df_clean['sample_id'] = sample_id\n",
      "C:\\Users\\PC\\AppData\\Local\\Temp\\ipykernel_4980\\1846137033.py:69: SettingWithCopyWarning: \n",
      "A value is trying to be set on a copy of a slice from a DataFrame.\n",
      "Try using .loc[row_indexer,col_indexer] = value instead\n",
      "\n",
      "See the caveats in the documentation: https://pandas.pydata.org/pandas-docs/stable/user_guide/indexing.html#returning-a-view-versus-a-copy\n",
      "  df_clean['sample_id'] = sample_id\n"
     ]
    },
    {
     "name": "stdout",
     "output_type": "stream",
     "text": [
      "Finished processing sample: 1d9d65b8-5af4-40e6-a01f-236f45cfecb4.rna_seq.augmented_star_gene_counts, shape: (60660, 10)\n",
      "Reading file: C:\\Users\\PC\\Desktop\\gene-expression-cancer-prediction\\rna_seq\\ddb7443e-0dda-40f1-9652-adc025804c85\\4c6f18b9-eb4c-4b7f-90ee-0c3194407be7.rna_seq.augmented_star_gene_counts.tsv\n",
      "Processing sample: 4c6f18b9-eb4c-4b7f-90ee-0c3194407be7.rna_seq.augmented_star_gene_counts\n",
      "Finished processing sample: 4c6f18b9-eb4c-4b7f-90ee-0c3194407be7.rna_seq.augmented_star_gene_counts, shape: (60660, 10)\n",
      "Reading file: C:\\Users\\PC\\Desktop\\gene-expression-cancer-prediction\\rna_seq\\ddeb1445-08ae-441c-9f2a-4647df1b4ed6\\5cc4350c-416e-4f2c-be73-12af68ad1ee4.rna_seq.augmented_star_gene_counts.tsv\n",
      "Processing sample: 5cc4350c-416e-4f2c-be73-12af68ad1ee4.rna_seq.augmented_star_gene_counts\n"
     ]
    },
    {
     "name": "stderr",
     "output_type": "stream",
     "text": [
      "C:\\Users\\PC\\AppData\\Local\\Temp\\ipykernel_4980\\1846137033.py:69: SettingWithCopyWarning: \n",
      "A value is trying to be set on a copy of a slice from a DataFrame.\n",
      "Try using .loc[row_indexer,col_indexer] = value instead\n",
      "\n",
      "See the caveats in the documentation: https://pandas.pydata.org/pandas-docs/stable/user_guide/indexing.html#returning-a-view-versus-a-copy\n",
      "  df_clean['sample_id'] = sample_id\n",
      "C:\\Users\\PC\\AppData\\Local\\Temp\\ipykernel_4980\\1846137033.py:69: SettingWithCopyWarning: \n",
      "A value is trying to be set on a copy of a slice from a DataFrame.\n",
      "Try using .loc[row_indexer,col_indexer] = value instead\n",
      "\n",
      "See the caveats in the documentation: https://pandas.pydata.org/pandas-docs/stable/user_guide/indexing.html#returning-a-view-versus-a-copy\n",
      "  df_clean['sample_id'] = sample_id\n"
     ]
    },
    {
     "name": "stdout",
     "output_type": "stream",
     "text": [
      "Finished processing sample: 5cc4350c-416e-4f2c-be73-12af68ad1ee4.rna_seq.augmented_star_gene_counts, shape: (60660, 10)\n",
      "Reading file: C:\\Users\\PC\\Desktop\\gene-expression-cancer-prediction\\rna_seq\\de397789-9ff5-4cb0-be88-957477820714\\e26295fd-369b-4cf0-98f3-939293cbe6e4.rna_seq.augmented_star_gene_counts.tsv\n",
      "Processing sample: e26295fd-369b-4cf0-98f3-939293cbe6e4.rna_seq.augmented_star_gene_counts\n",
      "Finished processing sample: e26295fd-369b-4cf0-98f3-939293cbe6e4.rna_seq.augmented_star_gene_counts, shape: (60660, 10)\n",
      "Reading file: C:\\Users\\PC\\Desktop\\gene-expression-cancer-prediction\\rna_seq\\de5e449b-bc57-4836-89e4-73a3ba24abdf\\748e4eaa-2b96-4dce-a903-c7df733d7f50.rna_seq.augmented_star_gene_counts.tsv\n",
      "Processing sample: 748e4eaa-2b96-4dce-a903-c7df733d7f50.rna_seq.augmented_star_gene_counts\n"
     ]
    },
    {
     "name": "stderr",
     "output_type": "stream",
     "text": [
      "C:\\Users\\PC\\AppData\\Local\\Temp\\ipykernel_4980\\1846137033.py:69: SettingWithCopyWarning: \n",
      "A value is trying to be set on a copy of a slice from a DataFrame.\n",
      "Try using .loc[row_indexer,col_indexer] = value instead\n",
      "\n",
      "See the caveats in the documentation: https://pandas.pydata.org/pandas-docs/stable/user_guide/indexing.html#returning-a-view-versus-a-copy\n",
      "  df_clean['sample_id'] = sample_id\n",
      "C:\\Users\\PC\\AppData\\Local\\Temp\\ipykernel_4980\\1846137033.py:69: SettingWithCopyWarning: \n",
      "A value is trying to be set on a copy of a slice from a DataFrame.\n",
      "Try using .loc[row_indexer,col_indexer] = value instead\n",
      "\n",
      "See the caveats in the documentation: https://pandas.pydata.org/pandas-docs/stable/user_guide/indexing.html#returning-a-view-versus-a-copy\n",
      "  df_clean['sample_id'] = sample_id\n"
     ]
    },
    {
     "name": "stdout",
     "output_type": "stream",
     "text": [
      "Finished processing sample: 748e4eaa-2b96-4dce-a903-c7df733d7f50.rna_seq.augmented_star_gene_counts, shape: (60660, 10)\n",
      "Reading file: C:\\Users\\PC\\Desktop\\gene-expression-cancer-prediction\\rna_seq\\de6f1503-33d7-4f86-b835-bdffba7ea4e3\\195d8bd4-352c-4407-9319-797d915c72b8.rna_seq.augmented_star_gene_counts.tsv\n",
      "Processing sample: 195d8bd4-352c-4407-9319-797d915c72b8.rna_seq.augmented_star_gene_counts\n"
     ]
    },
    {
     "name": "stderr",
     "output_type": "stream",
     "text": [
      "C:\\Users\\PC\\AppData\\Local\\Temp\\ipykernel_4980\\1846137033.py:69: SettingWithCopyWarning: \n",
      "A value is trying to be set on a copy of a slice from a DataFrame.\n",
      "Try using .loc[row_indexer,col_indexer] = value instead\n",
      "\n",
      "See the caveats in the documentation: https://pandas.pydata.org/pandas-docs/stable/user_guide/indexing.html#returning-a-view-versus-a-copy\n",
      "  df_clean['sample_id'] = sample_id\n",
      "C:\\Users\\PC\\AppData\\Local\\Temp\\ipykernel_4980\\1846137033.py:69: SettingWithCopyWarning: \n",
      "A value is trying to be set on a copy of a slice from a DataFrame.\n",
      "Try using .loc[row_indexer,col_indexer] = value instead\n",
      "\n",
      "See the caveats in the documentation: https://pandas.pydata.org/pandas-docs/stable/user_guide/indexing.html#returning-a-view-versus-a-copy\n",
      "  df_clean['sample_id'] = sample_id\n"
     ]
    },
    {
     "name": "stdout",
     "output_type": "stream",
     "text": [
      "Finished processing sample: 195d8bd4-352c-4407-9319-797d915c72b8.rna_seq.augmented_star_gene_counts, shape: (60660, 10)\n",
      "Reading file: C:\\Users\\PC\\Desktop\\gene-expression-cancer-prediction\\rna_seq\\de98339e-9b13-4def-b3d9-234fdc784cec\\1075d95f-6d27-42e1-a67a-73d5247c8a68.rna_seq.augmented_star_gene_counts.tsv\n",
      "Processing sample: 1075d95f-6d27-42e1-a67a-73d5247c8a68.rna_seq.augmented_star_gene_counts\n",
      "Finished processing sample: 1075d95f-6d27-42e1-a67a-73d5247c8a68.rna_seq.augmented_star_gene_counts, shape: (60660, 10)\n",
      "Reading file: C:\\Users\\PC\\Desktop\\gene-expression-cancer-prediction\\rna_seq\\debafec8-b9f4-45f3-aa4c-8e48e58e6a49\\4fb42c7e-2a7e-4641-ae7c-e92fd9c2be11.rna_seq.augmented_star_gene_counts.tsv\n",
      "Processing sample: 4fb42c7e-2a7e-4641-ae7c-e92fd9c2be11.rna_seq.augmented_star_gene_counts\n"
     ]
    },
    {
     "name": "stderr",
     "output_type": "stream",
     "text": [
      "C:\\Users\\PC\\AppData\\Local\\Temp\\ipykernel_4980\\1846137033.py:69: SettingWithCopyWarning: \n",
      "A value is trying to be set on a copy of a slice from a DataFrame.\n",
      "Try using .loc[row_indexer,col_indexer] = value instead\n",
      "\n",
      "See the caveats in the documentation: https://pandas.pydata.org/pandas-docs/stable/user_guide/indexing.html#returning-a-view-versus-a-copy\n",
      "  df_clean['sample_id'] = sample_id\n",
      "C:\\Users\\PC\\AppData\\Local\\Temp\\ipykernel_4980\\1846137033.py:69: SettingWithCopyWarning: \n",
      "A value is trying to be set on a copy of a slice from a DataFrame.\n",
      "Try using .loc[row_indexer,col_indexer] = value instead\n",
      "\n",
      "See the caveats in the documentation: https://pandas.pydata.org/pandas-docs/stable/user_guide/indexing.html#returning-a-view-versus-a-copy\n",
      "  df_clean['sample_id'] = sample_id\n"
     ]
    },
    {
     "name": "stdout",
     "output_type": "stream",
     "text": [
      "Finished processing sample: 4fb42c7e-2a7e-4641-ae7c-e92fd9c2be11.rna_seq.augmented_star_gene_counts, shape: (60660, 10)\n",
      "Reading file: C:\\Users\\PC\\Desktop\\gene-expression-cancer-prediction\\rna_seq\\df176b72-7266-4eeb-a3ed-8f09199c1963\\02423743-43b4-494b-acd9-1cd3bcd3d395.rna_seq.augmented_star_gene_counts.tsv\n",
      "Processing sample: 02423743-43b4-494b-acd9-1cd3bcd3d395.rna_seq.augmented_star_gene_counts\n",
      "Finished processing sample: 02423743-43b4-494b-acd9-1cd3bcd3d395.rna_seq.augmented_star_gene_counts, shape: (60660, 10)\n",
      "Reading file: C:\\Users\\PC\\Desktop\\gene-expression-cancer-prediction\\rna_seq\\e06eeb14-0ebf-453f-847b-b1ae63fe8194\\c54b98cc-521e-4790-b67d-9dcc20af8c76.rna_seq.augmented_star_gene_counts.tsv\n",
      "Processing sample: c54b98cc-521e-4790-b67d-9dcc20af8c76.rna_seq.augmented_star_gene_counts\n"
     ]
    },
    {
     "name": "stderr",
     "output_type": "stream",
     "text": [
      "C:\\Users\\PC\\AppData\\Local\\Temp\\ipykernel_4980\\1846137033.py:69: SettingWithCopyWarning: \n",
      "A value is trying to be set on a copy of a slice from a DataFrame.\n",
      "Try using .loc[row_indexer,col_indexer] = value instead\n",
      "\n",
      "See the caveats in the documentation: https://pandas.pydata.org/pandas-docs/stable/user_guide/indexing.html#returning-a-view-versus-a-copy\n",
      "  df_clean['sample_id'] = sample_id\n",
      "C:\\Users\\PC\\AppData\\Local\\Temp\\ipykernel_4980\\1846137033.py:69: SettingWithCopyWarning: \n",
      "A value is trying to be set on a copy of a slice from a DataFrame.\n",
      "Try using .loc[row_indexer,col_indexer] = value instead\n",
      "\n",
      "See the caveats in the documentation: https://pandas.pydata.org/pandas-docs/stable/user_guide/indexing.html#returning-a-view-versus-a-copy\n",
      "  df_clean['sample_id'] = sample_id\n"
     ]
    },
    {
     "name": "stdout",
     "output_type": "stream",
     "text": [
      "Finished processing sample: c54b98cc-521e-4790-b67d-9dcc20af8c76.rna_seq.augmented_star_gene_counts, shape: (60660, 10)\n",
      "Reading file: C:\\Users\\PC\\Desktop\\gene-expression-cancer-prediction\\rna_seq\\e0b65eec-7c30-4607-9cae-c8e8463c80c5\\e90c1051-744f-46e5-bcec-f95d34f59e0a.rna_seq.augmented_star_gene_counts.tsv\n",
      "Processing sample: e90c1051-744f-46e5-bcec-f95d34f59e0a.rna_seq.augmented_star_gene_counts\n",
      "Finished processing sample: e90c1051-744f-46e5-bcec-f95d34f59e0a.rna_seq.augmented_star_gene_counts, shape: (60660, 10)\n",
      "Reading file: C:\\Users\\PC\\Desktop\\gene-expression-cancer-prediction\\rna_seq\\e0bd84f0-9524-4bd2-aa92-7205357596e5\\083eb05f-0af4-4f73-bf09-3806eb3b71bb.rna_seq.augmented_star_gene_counts.tsv\n",
      "Processing sample: 083eb05f-0af4-4f73-bf09-3806eb3b71bb.rna_seq.augmented_star_gene_counts\n"
     ]
    },
    {
     "name": "stderr",
     "output_type": "stream",
     "text": [
      "C:\\Users\\PC\\AppData\\Local\\Temp\\ipykernel_4980\\1846137033.py:69: SettingWithCopyWarning: \n",
      "A value is trying to be set on a copy of a slice from a DataFrame.\n",
      "Try using .loc[row_indexer,col_indexer] = value instead\n",
      "\n",
      "See the caveats in the documentation: https://pandas.pydata.org/pandas-docs/stable/user_guide/indexing.html#returning-a-view-versus-a-copy\n",
      "  df_clean['sample_id'] = sample_id\n",
      "C:\\Users\\PC\\AppData\\Local\\Temp\\ipykernel_4980\\1846137033.py:69: SettingWithCopyWarning: \n",
      "A value is trying to be set on a copy of a slice from a DataFrame.\n",
      "Try using .loc[row_indexer,col_indexer] = value instead\n",
      "\n",
      "See the caveats in the documentation: https://pandas.pydata.org/pandas-docs/stable/user_guide/indexing.html#returning-a-view-versus-a-copy\n",
      "  df_clean['sample_id'] = sample_id\n"
     ]
    },
    {
     "name": "stdout",
     "output_type": "stream",
     "text": [
      "Finished processing sample: 083eb05f-0af4-4f73-bf09-3806eb3b71bb.rna_seq.augmented_star_gene_counts, shape: (60660, 10)\n",
      "Reading file: C:\\Users\\PC\\Desktop\\gene-expression-cancer-prediction\\rna_seq\\e12f17ae-dc1f-4e91-93bd-b827ad276dde\\a854c368-6e81-4ade-9ea9-afbee1c4c448.rna_seq.augmented_star_gene_counts.tsv\n",
      "Processing sample: a854c368-6e81-4ade-9ea9-afbee1c4c448.rna_seq.augmented_star_gene_counts\n",
      "Finished processing sample: a854c368-6e81-4ade-9ea9-afbee1c4c448.rna_seq.augmented_star_gene_counts, shape: (60660, 10)\n",
      "Reading file: C:\\Users\\PC\\Desktop\\gene-expression-cancer-prediction\\rna_seq\\e14858ca-8bb5-4d6d-906c-5d62722d90f8\\fd6f4c9b-ee43-4939-8cfa-2e447aedbcf3.rna_seq.augmented_star_gene_counts.tsv\n",
      "Processing sample: fd6f4c9b-ee43-4939-8cfa-2e447aedbcf3.rna_seq.augmented_star_gene_counts\n"
     ]
    },
    {
     "name": "stderr",
     "output_type": "stream",
     "text": [
      "C:\\Users\\PC\\AppData\\Local\\Temp\\ipykernel_4980\\1846137033.py:69: SettingWithCopyWarning: \n",
      "A value is trying to be set on a copy of a slice from a DataFrame.\n",
      "Try using .loc[row_indexer,col_indexer] = value instead\n",
      "\n",
      "See the caveats in the documentation: https://pandas.pydata.org/pandas-docs/stable/user_guide/indexing.html#returning-a-view-versus-a-copy\n",
      "  df_clean['sample_id'] = sample_id\n",
      "C:\\Users\\PC\\AppData\\Local\\Temp\\ipykernel_4980\\1846137033.py:69: SettingWithCopyWarning: \n",
      "A value is trying to be set on a copy of a slice from a DataFrame.\n",
      "Try using .loc[row_indexer,col_indexer] = value instead\n",
      "\n",
      "See the caveats in the documentation: https://pandas.pydata.org/pandas-docs/stable/user_guide/indexing.html#returning-a-view-versus-a-copy\n",
      "  df_clean['sample_id'] = sample_id\n"
     ]
    },
    {
     "name": "stdout",
     "output_type": "stream",
     "text": [
      "Finished processing sample: fd6f4c9b-ee43-4939-8cfa-2e447aedbcf3.rna_seq.augmented_star_gene_counts, shape: (60660, 10)\n",
      "Reading file: C:\\Users\\PC\\Desktop\\gene-expression-cancer-prediction\\rna_seq\\e173c170-b7c6-4aa9-9f34-33cd02702d75\\8d3d544f-6d1a-4cdc-8091-490311487ebd.rna_seq.augmented_star_gene_counts.tsv\n",
      "Processing sample: 8d3d544f-6d1a-4cdc-8091-490311487ebd.rna_seq.augmented_star_gene_counts\n",
      "Finished processing sample: 8d3d544f-6d1a-4cdc-8091-490311487ebd.rna_seq.augmented_star_gene_counts, shape: (60660, 10)\n",
      "Reading file: C:\\Users\\PC\\Desktop\\gene-expression-cancer-prediction\\rna_seq\\e18e1661-70dd-4b36-ae6c-c0265fbe01bb\\7647345c-1654-490f-9a18-b43005225bce.rna_seq.augmented_star_gene_counts.tsv\n",
      "Processing sample: 7647345c-1654-490f-9a18-b43005225bce.rna_seq.augmented_star_gene_counts\n"
     ]
    },
    {
     "name": "stderr",
     "output_type": "stream",
     "text": [
      "C:\\Users\\PC\\AppData\\Local\\Temp\\ipykernel_4980\\1846137033.py:69: SettingWithCopyWarning: \n",
      "A value is trying to be set on a copy of a slice from a DataFrame.\n",
      "Try using .loc[row_indexer,col_indexer] = value instead\n",
      "\n",
      "See the caveats in the documentation: https://pandas.pydata.org/pandas-docs/stable/user_guide/indexing.html#returning-a-view-versus-a-copy\n",
      "  df_clean['sample_id'] = sample_id\n",
      "C:\\Users\\PC\\AppData\\Local\\Temp\\ipykernel_4980\\1846137033.py:69: SettingWithCopyWarning: \n",
      "A value is trying to be set on a copy of a slice from a DataFrame.\n",
      "Try using .loc[row_indexer,col_indexer] = value instead\n",
      "\n",
      "See the caveats in the documentation: https://pandas.pydata.org/pandas-docs/stable/user_guide/indexing.html#returning-a-view-versus-a-copy\n",
      "  df_clean['sample_id'] = sample_id\n"
     ]
    },
    {
     "name": "stdout",
     "output_type": "stream",
     "text": [
      "Finished processing sample: 7647345c-1654-490f-9a18-b43005225bce.rna_seq.augmented_star_gene_counts, shape: (60660, 10)\n",
      "Reading file: C:\\Users\\PC\\Desktop\\gene-expression-cancer-prediction\\rna_seq\\e1a528ee-1bec-4aa5-bb9c-9d0af3ba4108\\18cbd510-bce2-4370-a00f-939d562ba7de.rna_seq.augmented_star_gene_counts.tsv\n",
      "Processing sample: 18cbd510-bce2-4370-a00f-939d562ba7de.rna_seq.augmented_star_gene_counts\n",
      "Finished processing sample: 18cbd510-bce2-4370-a00f-939d562ba7de.rna_seq.augmented_star_gene_counts, shape: (60660, 10)\n",
      "Reading file: C:\\Users\\PC\\Desktop\\gene-expression-cancer-prediction\\rna_seq\\e20d0db7-984a-4bcf-9f1e-54ec63d55a2f\\9e563a6c-1c6f-4901-a1af-f1ef2d8da025.rna_seq.augmented_star_gene_counts.tsv\n",
      "Processing sample: 9e563a6c-1c6f-4901-a1af-f1ef2d8da025.rna_seq.augmented_star_gene_counts\n"
     ]
    },
    {
     "name": "stderr",
     "output_type": "stream",
     "text": [
      "C:\\Users\\PC\\AppData\\Local\\Temp\\ipykernel_4980\\1846137033.py:69: SettingWithCopyWarning: \n",
      "A value is trying to be set on a copy of a slice from a DataFrame.\n",
      "Try using .loc[row_indexer,col_indexer] = value instead\n",
      "\n",
      "See the caveats in the documentation: https://pandas.pydata.org/pandas-docs/stable/user_guide/indexing.html#returning-a-view-versus-a-copy\n",
      "  df_clean['sample_id'] = sample_id\n",
      "C:\\Users\\PC\\AppData\\Local\\Temp\\ipykernel_4980\\1846137033.py:69: SettingWithCopyWarning: \n",
      "A value is trying to be set on a copy of a slice from a DataFrame.\n",
      "Try using .loc[row_indexer,col_indexer] = value instead\n",
      "\n",
      "See the caveats in the documentation: https://pandas.pydata.org/pandas-docs/stable/user_guide/indexing.html#returning-a-view-versus-a-copy\n",
      "  df_clean['sample_id'] = sample_id\n"
     ]
    },
    {
     "name": "stdout",
     "output_type": "stream",
     "text": [
      "Finished processing sample: 9e563a6c-1c6f-4901-a1af-f1ef2d8da025.rna_seq.augmented_star_gene_counts, shape: (60660, 10)\n",
      "Reading file: C:\\Users\\PC\\Desktop\\gene-expression-cancer-prediction\\rna_seq\\e21262db-a694-4461-b1b0-e52c0891113a\\04de1f79-fdfc-4662-bab2-a3ed667c7dea.rna_seq.augmented_star_gene_counts.tsv\n",
      "Processing sample: 04de1f79-fdfc-4662-bab2-a3ed667c7dea.rna_seq.augmented_star_gene_counts\n",
      "Finished processing sample: 04de1f79-fdfc-4662-bab2-a3ed667c7dea.rna_seq.augmented_star_gene_counts, shape: (60660, 10)\n",
      "Reading file: C:\\Users\\PC\\Desktop\\gene-expression-cancer-prediction\\rna_seq\\e22bc31b-332f-45a1-b17c-c747179abe61\\b1366128-6ab0-4205-ae2b-a854e8ad45bf.rna_seq.augmented_star_gene_counts.tsv\n",
      "Processing sample: b1366128-6ab0-4205-ae2b-a854e8ad45bf.rna_seq.augmented_star_gene_counts\n",
      "Finished processing sample: b1366128-6ab0-4205-ae2b-a854e8ad45bf.rna_seq.augmented_star_gene_counts, shape: (60660, 10)\n",
      "Reading file: C:\\Users\\PC\\Desktop\\gene-expression-cancer-prediction\\rna_seq\\e24e6f7c-49c1-498e-b269-4bee014007af\\aa3d8e3d-68cb-47dc-80c0-d50917cb4878.rna_seq.augmented_star_gene_counts.tsv\n",
      "Processing sample: aa3d8e3d-68cb-47dc-80c0-d50917cb4878.rna_seq.augmented_star_gene_counts\n"
     ]
    },
    {
     "name": "stderr",
     "output_type": "stream",
     "text": [
      "C:\\Users\\PC\\AppData\\Local\\Temp\\ipykernel_4980\\1846137033.py:69: SettingWithCopyWarning: \n",
      "A value is trying to be set on a copy of a slice from a DataFrame.\n",
      "Try using .loc[row_indexer,col_indexer] = value instead\n",
      "\n",
      "See the caveats in the documentation: https://pandas.pydata.org/pandas-docs/stable/user_guide/indexing.html#returning-a-view-versus-a-copy\n",
      "  df_clean['sample_id'] = sample_id\n",
      "C:\\Users\\PC\\AppData\\Local\\Temp\\ipykernel_4980\\1846137033.py:69: SettingWithCopyWarning: \n",
      "A value is trying to be set on a copy of a slice from a DataFrame.\n",
      "Try using .loc[row_indexer,col_indexer] = value instead\n",
      "\n",
      "See the caveats in the documentation: https://pandas.pydata.org/pandas-docs/stable/user_guide/indexing.html#returning-a-view-versus-a-copy\n",
      "  df_clean['sample_id'] = sample_id\n"
     ]
    },
    {
     "name": "stdout",
     "output_type": "stream",
     "text": [
      "Finished processing sample: aa3d8e3d-68cb-47dc-80c0-d50917cb4878.rna_seq.augmented_star_gene_counts, shape: (60660, 10)\n",
      "Reading file: C:\\Users\\PC\\Desktop\\gene-expression-cancer-prediction\\rna_seq\\e25bb12b-f88b-41c5-951e-a36d4b94008f\\73e13f2d-a557-47f2-85e2-7bb8e3a48ef9.rna_seq.augmented_star_gene_counts.tsv\n",
      "Processing sample: 73e13f2d-a557-47f2-85e2-7bb8e3a48ef9.rna_seq.augmented_star_gene_counts\n",
      "Finished processing sample: 73e13f2d-a557-47f2-85e2-7bb8e3a48ef9.rna_seq.augmented_star_gene_counts, shape: (60660, 10)\n",
      "Reading file: C:\\Users\\PC\\Desktop\\gene-expression-cancer-prediction\\rna_seq\\e267a6fb-3d15-4658-b464-25438bd41330\\48c63209-a387-4045-8a24-7b9792db7623.rna_seq.augmented_star_gene_counts.tsv\n",
      "Processing sample: 48c63209-a387-4045-8a24-7b9792db7623.rna_seq.augmented_star_gene_counts\n"
     ]
    },
    {
     "name": "stderr",
     "output_type": "stream",
     "text": [
      "C:\\Users\\PC\\AppData\\Local\\Temp\\ipykernel_4980\\1846137033.py:69: SettingWithCopyWarning: \n",
      "A value is trying to be set on a copy of a slice from a DataFrame.\n",
      "Try using .loc[row_indexer,col_indexer] = value instead\n",
      "\n",
      "See the caveats in the documentation: https://pandas.pydata.org/pandas-docs/stable/user_guide/indexing.html#returning-a-view-versus-a-copy\n",
      "  df_clean['sample_id'] = sample_id\n",
      "C:\\Users\\PC\\AppData\\Local\\Temp\\ipykernel_4980\\1846137033.py:69: SettingWithCopyWarning: \n",
      "A value is trying to be set on a copy of a slice from a DataFrame.\n",
      "Try using .loc[row_indexer,col_indexer] = value instead\n",
      "\n",
      "See the caveats in the documentation: https://pandas.pydata.org/pandas-docs/stable/user_guide/indexing.html#returning-a-view-versus-a-copy\n",
      "  df_clean['sample_id'] = sample_id\n"
     ]
    },
    {
     "name": "stdout",
     "output_type": "stream",
     "text": [
      "Finished processing sample: 48c63209-a387-4045-8a24-7b9792db7623.rna_seq.augmented_star_gene_counts, shape: (60660, 10)\n",
      "Reading file: C:\\Users\\PC\\Desktop\\gene-expression-cancer-prediction\\rna_seq\\e37e5793-921d-4930-8f22-ddcd5f881fe6\\82d0130a-9bea-443b-bf46-32fe0a2ce84c.rna_seq.augmented_star_gene_counts.tsv\n",
      "Processing sample: 82d0130a-9bea-443b-bf46-32fe0a2ce84c.rna_seq.augmented_star_gene_counts\n",
      "Finished processing sample: 82d0130a-9bea-443b-bf46-32fe0a2ce84c.rna_seq.augmented_star_gene_counts, shape: (60660, 10)\n",
      "Reading file: C:\\Users\\PC\\Desktop\\gene-expression-cancer-prediction\\rna_seq\\e38111a3-54f9-4229-8803-fc74e0c12c55\\d77c2ca5-196a-4426-84e4-0ffa4a3667ef.rna_seq.augmented_star_gene_counts.tsv\n",
      "Processing sample: d77c2ca5-196a-4426-84e4-0ffa4a3667ef.rna_seq.augmented_star_gene_counts\n"
     ]
    },
    {
     "name": "stderr",
     "output_type": "stream",
     "text": [
      "C:\\Users\\PC\\AppData\\Local\\Temp\\ipykernel_4980\\1846137033.py:69: SettingWithCopyWarning: \n",
      "A value is trying to be set on a copy of a slice from a DataFrame.\n",
      "Try using .loc[row_indexer,col_indexer] = value instead\n",
      "\n",
      "See the caveats in the documentation: https://pandas.pydata.org/pandas-docs/stable/user_guide/indexing.html#returning-a-view-versus-a-copy\n",
      "  df_clean['sample_id'] = sample_id\n",
      "C:\\Users\\PC\\AppData\\Local\\Temp\\ipykernel_4980\\1846137033.py:69: SettingWithCopyWarning: \n",
      "A value is trying to be set on a copy of a slice from a DataFrame.\n",
      "Try using .loc[row_indexer,col_indexer] = value instead\n",
      "\n",
      "See the caveats in the documentation: https://pandas.pydata.org/pandas-docs/stable/user_guide/indexing.html#returning-a-view-versus-a-copy\n",
      "  df_clean['sample_id'] = sample_id\n"
     ]
    },
    {
     "name": "stdout",
     "output_type": "stream",
     "text": [
      "Finished processing sample: d77c2ca5-196a-4426-84e4-0ffa4a3667ef.rna_seq.augmented_star_gene_counts, shape: (60660, 10)\n",
      "Reading file: C:\\Users\\PC\\Desktop\\gene-expression-cancer-prediction\\rna_seq\\e3cfb618-5ed2-4841-b7c1-a9f049ac8f9d\\021d9e06-9d27-400c-8776-08e89c817b46.rna_seq.augmented_star_gene_counts.tsv\n",
      "Processing sample: 021d9e06-9d27-400c-8776-08e89c817b46.rna_seq.augmented_star_gene_counts\n",
      "Finished processing sample: 021d9e06-9d27-400c-8776-08e89c817b46.rna_seq.augmented_star_gene_counts, shape: (60660, 10)\n",
      "Reading file: C:\\Users\\PC\\Desktop\\gene-expression-cancer-prediction\\rna_seq\\e3e56a3c-5a8b-419e-8904-194a2fdfa550\\839aaefe-1755-4131-9b89-2610481a13c4.rna_seq.augmented_star_gene_counts.tsv\n",
      "Processing sample: 839aaefe-1755-4131-9b89-2610481a13c4.rna_seq.augmented_star_gene_counts\n"
     ]
    },
    {
     "name": "stderr",
     "output_type": "stream",
     "text": [
      "C:\\Users\\PC\\AppData\\Local\\Temp\\ipykernel_4980\\1846137033.py:69: SettingWithCopyWarning: \n",
      "A value is trying to be set on a copy of a slice from a DataFrame.\n",
      "Try using .loc[row_indexer,col_indexer] = value instead\n",
      "\n",
      "See the caveats in the documentation: https://pandas.pydata.org/pandas-docs/stable/user_guide/indexing.html#returning-a-view-versus-a-copy\n",
      "  df_clean['sample_id'] = sample_id\n",
      "C:\\Users\\PC\\AppData\\Local\\Temp\\ipykernel_4980\\1846137033.py:69: SettingWithCopyWarning: \n",
      "A value is trying to be set on a copy of a slice from a DataFrame.\n",
      "Try using .loc[row_indexer,col_indexer] = value instead\n",
      "\n",
      "See the caveats in the documentation: https://pandas.pydata.org/pandas-docs/stable/user_guide/indexing.html#returning-a-view-versus-a-copy\n",
      "  df_clean['sample_id'] = sample_id\n"
     ]
    },
    {
     "name": "stdout",
     "output_type": "stream",
     "text": [
      "Finished processing sample: 839aaefe-1755-4131-9b89-2610481a13c4.rna_seq.augmented_star_gene_counts, shape: (60660, 10)\n",
      "Reading file: C:\\Users\\PC\\Desktop\\gene-expression-cancer-prediction\\rna_seq\\e4086c26-d200-4e42-8249-ed8cbeec0951\\99d31369-3db2-4631-bc62-1aa6927476ad.rna_seq.augmented_star_gene_counts.tsv\n",
      "Processing sample: 99d31369-3db2-4631-bc62-1aa6927476ad.rna_seq.augmented_star_gene_counts\n",
      "Finished processing sample: 99d31369-3db2-4631-bc62-1aa6927476ad.rna_seq.augmented_star_gene_counts, shape: (60660, 10)\n",
      "Reading file: C:\\Users\\PC\\Desktop\\gene-expression-cancer-prediction\\rna_seq\\e45b755d-1df6-446a-aa05-59ae1960b442\\9d025af7-ba40-4329-9308-d039aaad900b.rna_seq.augmented_star_gene_counts.tsv\n",
      "Processing sample: 9d025af7-ba40-4329-9308-d039aaad900b.rna_seq.augmented_star_gene_counts\n"
     ]
    },
    {
     "name": "stderr",
     "output_type": "stream",
     "text": [
      "C:\\Users\\PC\\AppData\\Local\\Temp\\ipykernel_4980\\1846137033.py:69: SettingWithCopyWarning: \n",
      "A value is trying to be set on a copy of a slice from a DataFrame.\n",
      "Try using .loc[row_indexer,col_indexer] = value instead\n",
      "\n",
      "See the caveats in the documentation: https://pandas.pydata.org/pandas-docs/stable/user_guide/indexing.html#returning-a-view-versus-a-copy\n",
      "  df_clean['sample_id'] = sample_id\n",
      "C:\\Users\\PC\\AppData\\Local\\Temp\\ipykernel_4980\\1846137033.py:69: SettingWithCopyWarning: \n",
      "A value is trying to be set on a copy of a slice from a DataFrame.\n",
      "Try using .loc[row_indexer,col_indexer] = value instead\n",
      "\n",
      "See the caveats in the documentation: https://pandas.pydata.org/pandas-docs/stable/user_guide/indexing.html#returning-a-view-versus-a-copy\n",
      "  df_clean['sample_id'] = sample_id\n"
     ]
    },
    {
     "name": "stdout",
     "output_type": "stream",
     "text": [
      "Finished processing sample: 9d025af7-ba40-4329-9308-d039aaad900b.rna_seq.augmented_star_gene_counts, shape: (60660, 10)\n",
      "Reading file: C:\\Users\\PC\\Desktop\\gene-expression-cancer-prediction\\rna_seq\\e4732dd4-002a-4b37-9a56-d01d551e9cc3\\9c1779d3-6e10-413b-9df9-a9378862d8c4.rna_seq.augmented_star_gene_counts.tsv\n",
      "Processing sample: 9c1779d3-6e10-413b-9df9-a9378862d8c4.rna_seq.augmented_star_gene_counts\n",
      "Finished processing sample: 9c1779d3-6e10-413b-9df9-a9378862d8c4.rna_seq.augmented_star_gene_counts, shape: (60660, 10)\n",
      "Reading file: C:\\Users\\PC\\Desktop\\gene-expression-cancer-prediction\\rna_seq\\e4744b03-e390-43f2-a14b-86bddceaf9ae\\c32e3393-3a51-4d72-aa60-e8e6e8c083f0.rna_seq.augmented_star_gene_counts.tsv\n",
      "Processing sample: c32e3393-3a51-4d72-aa60-e8e6e8c083f0.rna_seq.augmented_star_gene_counts\n"
     ]
    },
    {
     "name": "stderr",
     "output_type": "stream",
     "text": [
      "C:\\Users\\PC\\AppData\\Local\\Temp\\ipykernel_4980\\1846137033.py:69: SettingWithCopyWarning: \n",
      "A value is trying to be set on a copy of a slice from a DataFrame.\n",
      "Try using .loc[row_indexer,col_indexer] = value instead\n",
      "\n",
      "See the caveats in the documentation: https://pandas.pydata.org/pandas-docs/stable/user_guide/indexing.html#returning-a-view-versus-a-copy\n",
      "  df_clean['sample_id'] = sample_id\n",
      "C:\\Users\\PC\\AppData\\Local\\Temp\\ipykernel_4980\\1846137033.py:69: SettingWithCopyWarning: \n",
      "A value is trying to be set on a copy of a slice from a DataFrame.\n",
      "Try using .loc[row_indexer,col_indexer] = value instead\n",
      "\n",
      "See the caveats in the documentation: https://pandas.pydata.org/pandas-docs/stable/user_guide/indexing.html#returning-a-view-versus-a-copy\n",
      "  df_clean['sample_id'] = sample_id\n"
     ]
    },
    {
     "name": "stdout",
     "output_type": "stream",
     "text": [
      "Finished processing sample: c32e3393-3a51-4d72-aa60-e8e6e8c083f0.rna_seq.augmented_star_gene_counts, shape: (60660, 10)\n",
      "Reading file: C:\\Users\\PC\\Desktop\\gene-expression-cancer-prediction\\rna_seq\\e4e099ea-7207-48b8-a578-d5e6d83054b0\\c7e61a1c-fad6-4fc1-ba1a-49189d4fc0f1.rna_seq.augmented_star_gene_counts.tsv\n",
      "Processing sample: c7e61a1c-fad6-4fc1-ba1a-49189d4fc0f1.rna_seq.augmented_star_gene_counts\n",
      "Finished processing sample: c7e61a1c-fad6-4fc1-ba1a-49189d4fc0f1.rna_seq.augmented_star_gene_counts, shape: (60660, 10)\n",
      "Reading file: C:\\Users\\PC\\Desktop\\gene-expression-cancer-prediction\\rna_seq\\e4f1f27b-24a1-4d01-af87-b2692d092d2a\\b05af4cd-19e2-4752-ad71-c36b886f4507.rna_seq.augmented_star_gene_counts.tsv\n",
      "Processing sample: b05af4cd-19e2-4752-ad71-c36b886f4507.rna_seq.augmented_star_gene_counts\n"
     ]
    },
    {
     "name": "stderr",
     "output_type": "stream",
     "text": [
      "C:\\Users\\PC\\AppData\\Local\\Temp\\ipykernel_4980\\1846137033.py:69: SettingWithCopyWarning: \n",
      "A value is trying to be set on a copy of a slice from a DataFrame.\n",
      "Try using .loc[row_indexer,col_indexer] = value instead\n",
      "\n",
      "See the caveats in the documentation: https://pandas.pydata.org/pandas-docs/stable/user_guide/indexing.html#returning-a-view-versus-a-copy\n",
      "  df_clean['sample_id'] = sample_id\n",
      "C:\\Users\\PC\\AppData\\Local\\Temp\\ipykernel_4980\\1846137033.py:69: SettingWithCopyWarning: \n",
      "A value is trying to be set on a copy of a slice from a DataFrame.\n",
      "Try using .loc[row_indexer,col_indexer] = value instead\n",
      "\n",
      "See the caveats in the documentation: https://pandas.pydata.org/pandas-docs/stable/user_guide/indexing.html#returning-a-view-versus-a-copy\n",
      "  df_clean['sample_id'] = sample_id\n"
     ]
    },
    {
     "name": "stdout",
     "output_type": "stream",
     "text": [
      "Finished processing sample: b05af4cd-19e2-4752-ad71-c36b886f4507.rna_seq.augmented_star_gene_counts, shape: (60660, 10)\n",
      "Reading file: C:\\Users\\PC\\Desktop\\gene-expression-cancer-prediction\\rna_seq\\e4f80aa3-eace-4ab4-afff-69d952ed5442\\ecf14d2a-e353-4674-9b3f-f0d11bcc9900.rna_seq.augmented_star_gene_counts.tsv\n",
      "Processing sample: ecf14d2a-e353-4674-9b3f-f0d11bcc9900.rna_seq.augmented_star_gene_counts\n",
      "Finished processing sample: ecf14d2a-e353-4674-9b3f-f0d11bcc9900.rna_seq.augmented_star_gene_counts, shape: (60660, 10)\n",
      "Reading file: C:\\Users\\PC\\Desktop\\gene-expression-cancer-prediction\\rna_seq\\e5016a2d-c839-4962-aa12-16b6c0e1328b\\9634f770-bc93-4dfa-949c-98a6da30a102.rna_seq.augmented_star_gene_counts.tsv\n",
      "Processing sample: 9634f770-bc93-4dfa-949c-98a6da30a102.rna_seq.augmented_star_gene_counts\n"
     ]
    },
    {
     "name": "stderr",
     "output_type": "stream",
     "text": [
      "C:\\Users\\PC\\AppData\\Local\\Temp\\ipykernel_4980\\1846137033.py:69: SettingWithCopyWarning: \n",
      "A value is trying to be set on a copy of a slice from a DataFrame.\n",
      "Try using .loc[row_indexer,col_indexer] = value instead\n",
      "\n",
      "See the caveats in the documentation: https://pandas.pydata.org/pandas-docs/stable/user_guide/indexing.html#returning-a-view-versus-a-copy\n",
      "  df_clean['sample_id'] = sample_id\n",
      "C:\\Users\\PC\\AppData\\Local\\Temp\\ipykernel_4980\\1846137033.py:69: SettingWithCopyWarning: \n",
      "A value is trying to be set on a copy of a slice from a DataFrame.\n",
      "Try using .loc[row_indexer,col_indexer] = value instead\n",
      "\n",
      "See the caveats in the documentation: https://pandas.pydata.org/pandas-docs/stable/user_guide/indexing.html#returning-a-view-versus-a-copy\n",
      "  df_clean['sample_id'] = sample_id\n"
     ]
    },
    {
     "name": "stdout",
     "output_type": "stream",
     "text": [
      "Finished processing sample: 9634f770-bc93-4dfa-949c-98a6da30a102.rna_seq.augmented_star_gene_counts, shape: (60660, 10)\n",
      "Reading file: C:\\Users\\PC\\Desktop\\gene-expression-cancer-prediction\\rna_seq\\e52108ad-c4ab-4ab4-8636-caaeaae7ea62\\b02ec16a-9dff-4b98-9960-73175454082a.rna_seq.augmented_star_gene_counts.tsv\n",
      "Processing sample: b02ec16a-9dff-4b98-9960-73175454082a.rna_seq.augmented_star_gene_counts\n",
      "Finished processing sample: b02ec16a-9dff-4b98-9960-73175454082a.rna_seq.augmented_star_gene_counts, shape: (60660, 10)\n",
      "Reading file: C:\\Users\\PC\\Desktop\\gene-expression-cancer-prediction\\rna_seq\\e5363f56-84fa-4b66-a005-1e7cdcb84c2f\\7d787768-efb1-462d-b5aa-5cbf6fc543d4.rna_seq.augmented_star_gene_counts.tsv\n",
      "Processing sample: 7d787768-efb1-462d-b5aa-5cbf6fc543d4.rna_seq.augmented_star_gene_counts\n"
     ]
    },
    {
     "name": "stderr",
     "output_type": "stream",
     "text": [
      "C:\\Users\\PC\\AppData\\Local\\Temp\\ipykernel_4980\\1846137033.py:69: SettingWithCopyWarning: \n",
      "A value is trying to be set on a copy of a slice from a DataFrame.\n",
      "Try using .loc[row_indexer,col_indexer] = value instead\n",
      "\n",
      "See the caveats in the documentation: https://pandas.pydata.org/pandas-docs/stable/user_guide/indexing.html#returning-a-view-versus-a-copy\n",
      "  df_clean['sample_id'] = sample_id\n",
      "C:\\Users\\PC\\AppData\\Local\\Temp\\ipykernel_4980\\1846137033.py:69: SettingWithCopyWarning: \n",
      "A value is trying to be set on a copy of a slice from a DataFrame.\n",
      "Try using .loc[row_indexer,col_indexer] = value instead\n",
      "\n",
      "See the caveats in the documentation: https://pandas.pydata.org/pandas-docs/stable/user_guide/indexing.html#returning-a-view-versus-a-copy\n",
      "  df_clean['sample_id'] = sample_id\n"
     ]
    },
    {
     "name": "stdout",
     "output_type": "stream",
     "text": [
      "Finished processing sample: 7d787768-efb1-462d-b5aa-5cbf6fc543d4.rna_seq.augmented_star_gene_counts, shape: (60660, 10)\n",
      "Reading file: C:\\Users\\PC\\Desktop\\gene-expression-cancer-prediction\\rna_seq\\e5393dc3-65d0-4d65-bb75-2fed770af595\\d636f6ce-e820-4e8a-969f-c3ac2d46b191.rna_seq.augmented_star_gene_counts.tsv\n",
      "Processing sample: d636f6ce-e820-4e8a-969f-c3ac2d46b191.rna_seq.augmented_star_gene_counts\n",
      "Finished processing sample: d636f6ce-e820-4e8a-969f-c3ac2d46b191.rna_seq.augmented_star_gene_counts, shape: (60660, 10)\n",
      "Reading file: C:\\Users\\PC\\Desktop\\gene-expression-cancer-prediction\\rna_seq\\e59d6b6e-1a01-4f3f-b298-06f2c6c7b111\\f6ec2075-052d-4677-8423-378ae45593ba.rna_seq.augmented_star_gene_counts.tsv\n",
      "Processing sample: f6ec2075-052d-4677-8423-378ae45593ba.rna_seq.augmented_star_gene_counts\n"
     ]
    },
    {
     "name": "stderr",
     "output_type": "stream",
     "text": [
      "C:\\Users\\PC\\AppData\\Local\\Temp\\ipykernel_4980\\1846137033.py:69: SettingWithCopyWarning: \n",
      "A value is trying to be set on a copy of a slice from a DataFrame.\n",
      "Try using .loc[row_indexer,col_indexer] = value instead\n",
      "\n",
      "See the caveats in the documentation: https://pandas.pydata.org/pandas-docs/stable/user_guide/indexing.html#returning-a-view-versus-a-copy\n",
      "  df_clean['sample_id'] = sample_id\n",
      "C:\\Users\\PC\\AppData\\Local\\Temp\\ipykernel_4980\\1846137033.py:69: SettingWithCopyWarning: \n",
      "A value is trying to be set on a copy of a slice from a DataFrame.\n",
      "Try using .loc[row_indexer,col_indexer] = value instead\n",
      "\n",
      "See the caveats in the documentation: https://pandas.pydata.org/pandas-docs/stable/user_guide/indexing.html#returning-a-view-versus-a-copy\n",
      "  df_clean['sample_id'] = sample_id\n"
     ]
    },
    {
     "name": "stdout",
     "output_type": "stream",
     "text": [
      "Finished processing sample: f6ec2075-052d-4677-8423-378ae45593ba.rna_seq.augmented_star_gene_counts, shape: (60660, 10)\n",
      "Reading file: C:\\Users\\PC\\Desktop\\gene-expression-cancer-prediction\\rna_seq\\e5f6e803-fc44-4f0f-9f6e-562b4e7d77ca\\360280b4-a4eb-40f0-ac1a-35d6858f4aeb.rna_seq.augmented_star_gene_counts.tsv\n",
      "Processing sample: 360280b4-a4eb-40f0-ac1a-35d6858f4aeb.rna_seq.augmented_star_gene_counts\n",
      "Finished processing sample: 360280b4-a4eb-40f0-ac1a-35d6858f4aeb.rna_seq.augmented_star_gene_counts, shape: (60660, 10)\n",
      "Reading file: C:\\Users\\PC\\Desktop\\gene-expression-cancer-prediction\\rna_seq\\e64c5a32-13c4-495e-ab4c-b5000332c09d\\dede0990-1733-4473-bc48-78605f16834c.rna_seq.augmented_star_gene_counts.tsv\n",
      "Processing sample: dede0990-1733-4473-bc48-78605f16834c.rna_seq.augmented_star_gene_counts\n"
     ]
    },
    {
     "name": "stderr",
     "output_type": "stream",
     "text": [
      "C:\\Users\\PC\\AppData\\Local\\Temp\\ipykernel_4980\\1846137033.py:69: SettingWithCopyWarning: \n",
      "A value is trying to be set on a copy of a slice from a DataFrame.\n",
      "Try using .loc[row_indexer,col_indexer] = value instead\n",
      "\n",
      "See the caveats in the documentation: https://pandas.pydata.org/pandas-docs/stable/user_guide/indexing.html#returning-a-view-versus-a-copy\n",
      "  df_clean['sample_id'] = sample_id\n",
      "C:\\Users\\PC\\AppData\\Local\\Temp\\ipykernel_4980\\1846137033.py:69: SettingWithCopyWarning: \n",
      "A value is trying to be set on a copy of a slice from a DataFrame.\n",
      "Try using .loc[row_indexer,col_indexer] = value instead\n",
      "\n",
      "See the caveats in the documentation: https://pandas.pydata.org/pandas-docs/stable/user_guide/indexing.html#returning-a-view-versus-a-copy\n",
      "  df_clean['sample_id'] = sample_id\n"
     ]
    },
    {
     "name": "stdout",
     "output_type": "stream",
     "text": [
      "Finished processing sample: dede0990-1733-4473-bc48-78605f16834c.rna_seq.augmented_star_gene_counts, shape: (60660, 10)\n",
      "Reading file: C:\\Users\\PC\\Desktop\\gene-expression-cancer-prediction\\rna_seq\\e67bbc10-91cf-406e-8d5f-8d44c77315f1\\cbf0063b-68e5-42ee-9292-dfbf918a7b08.rna_seq.augmented_star_gene_counts.tsv\n",
      "Processing sample: cbf0063b-68e5-42ee-9292-dfbf918a7b08.rna_seq.augmented_star_gene_counts\n",
      "Finished processing sample: cbf0063b-68e5-42ee-9292-dfbf918a7b08.rna_seq.augmented_star_gene_counts, shape: (60660, 10)\n",
      "Reading file: C:\\Users\\PC\\Desktop\\gene-expression-cancer-prediction\\rna_seq\\e6cbdcab-7fd1-43a6-be43-68b6a0fb4fe9\\e548b6da-7025-48ef-bac6-50dcf66abe71.rna_seq.augmented_star_gene_counts.tsv\n",
      "Processing sample: e548b6da-7025-48ef-bac6-50dcf66abe71.rna_seq.augmented_star_gene_counts\n"
     ]
    },
    {
     "name": "stderr",
     "output_type": "stream",
     "text": [
      "C:\\Users\\PC\\AppData\\Local\\Temp\\ipykernel_4980\\1846137033.py:69: SettingWithCopyWarning: \n",
      "A value is trying to be set on a copy of a slice from a DataFrame.\n",
      "Try using .loc[row_indexer,col_indexer] = value instead\n",
      "\n",
      "See the caveats in the documentation: https://pandas.pydata.org/pandas-docs/stable/user_guide/indexing.html#returning-a-view-versus-a-copy\n",
      "  df_clean['sample_id'] = sample_id\n",
      "C:\\Users\\PC\\AppData\\Local\\Temp\\ipykernel_4980\\1846137033.py:69: SettingWithCopyWarning: \n",
      "A value is trying to be set on a copy of a slice from a DataFrame.\n",
      "Try using .loc[row_indexer,col_indexer] = value instead\n",
      "\n",
      "See the caveats in the documentation: https://pandas.pydata.org/pandas-docs/stable/user_guide/indexing.html#returning-a-view-versus-a-copy\n",
      "  df_clean['sample_id'] = sample_id\n",
      "C:\\Users\\PC\\AppData\\Local\\Temp\\ipykernel_4980\\1846137033.py:69: SettingWithCopyWarning: \n",
      "A value is trying to be set on a copy of a slice from a DataFrame.\n",
      "Try using .loc[row_indexer,col_indexer] = value instead\n",
      "\n",
      "See the caveats in the documentation: https://pandas.pydata.org/pandas-docs/stable/user_guide/indexing.html#returning-a-view-versus-a-copy\n",
      "  df_clean['sample_id'] = sample_id\n"
     ]
    },
    {
     "name": "stdout",
     "output_type": "stream",
     "text": [
      "Finished processing sample: e548b6da-7025-48ef-bac6-50dcf66abe71.rna_seq.augmented_star_gene_counts, shape: (60660, 10)\n",
      "Reading file: C:\\Users\\PC\\Desktop\\gene-expression-cancer-prediction\\rna_seq\\e6f927ef-840f-438a-9559-863cc64f71e0\\98447eef-e5af-4bfa-a215-7a1edd601c46.rna_seq.augmented_star_gene_counts.tsv\n",
      "Processing sample: 98447eef-e5af-4bfa-a215-7a1edd601c46.rna_seq.augmented_star_gene_counts\n",
      "Finished processing sample: 98447eef-e5af-4bfa-a215-7a1edd601c46.rna_seq.augmented_star_gene_counts, shape: (60660, 10)\n",
      "Reading file: C:\\Users\\PC\\Desktop\\gene-expression-cancer-prediction\\rna_seq\\e748021e-b8ec-4b17-8b59-ce9d0a3d42e1\\a12e5c24-f0ea-4770-9888-20e1c562e436.rna_seq.augmented_star_gene_counts.tsv\n",
      "Processing sample: a12e5c24-f0ea-4770-9888-20e1c562e436.rna_seq.augmented_star_gene_counts\n"
     ]
    },
    {
     "name": "stderr",
     "output_type": "stream",
     "text": [
      "C:\\Users\\PC\\AppData\\Local\\Temp\\ipykernel_4980\\1846137033.py:69: SettingWithCopyWarning: \n",
      "A value is trying to be set on a copy of a slice from a DataFrame.\n",
      "Try using .loc[row_indexer,col_indexer] = value instead\n",
      "\n",
      "See the caveats in the documentation: https://pandas.pydata.org/pandas-docs/stable/user_guide/indexing.html#returning-a-view-versus-a-copy\n",
      "  df_clean['sample_id'] = sample_id\n",
      "C:\\Users\\PC\\AppData\\Local\\Temp\\ipykernel_4980\\1846137033.py:69: SettingWithCopyWarning: \n",
      "A value is trying to be set on a copy of a slice from a DataFrame.\n",
      "Try using .loc[row_indexer,col_indexer] = value instead\n",
      "\n",
      "See the caveats in the documentation: https://pandas.pydata.org/pandas-docs/stable/user_guide/indexing.html#returning-a-view-versus-a-copy\n",
      "  df_clean['sample_id'] = sample_id\n"
     ]
    },
    {
     "name": "stdout",
     "output_type": "stream",
     "text": [
      "Finished processing sample: a12e5c24-f0ea-4770-9888-20e1c562e436.rna_seq.augmented_star_gene_counts, shape: (60660, 10)\n",
      "Reading file: C:\\Users\\PC\\Desktop\\gene-expression-cancer-prediction\\rna_seq\\e7789185-2581-4846-bafd-8b920edc0973\\a29c8616-0f82-4515-870e-68887a628c92.rna_seq.augmented_star_gene_counts.tsv\n",
      "Processing sample: a29c8616-0f82-4515-870e-68887a628c92.rna_seq.augmented_star_gene_counts\n",
      "Finished processing sample: a29c8616-0f82-4515-870e-68887a628c92.rna_seq.augmented_star_gene_counts, shape: (60660, 10)\n",
      "Reading file: C:\\Users\\PC\\Desktop\\gene-expression-cancer-prediction\\rna_seq\\e8149278-3269-4dbe-9500-7045fd56cd2f\\2f05f114-9769-48e4-978c-6bfe1f2f372f.rna_seq.augmented_star_gene_counts.tsv\n",
      "Processing sample: 2f05f114-9769-48e4-978c-6bfe1f2f372f.rna_seq.augmented_star_gene_counts\n"
     ]
    },
    {
     "name": "stderr",
     "output_type": "stream",
     "text": [
      "C:\\Users\\PC\\AppData\\Local\\Temp\\ipykernel_4980\\1846137033.py:69: SettingWithCopyWarning: \n",
      "A value is trying to be set on a copy of a slice from a DataFrame.\n",
      "Try using .loc[row_indexer,col_indexer] = value instead\n",
      "\n",
      "See the caveats in the documentation: https://pandas.pydata.org/pandas-docs/stable/user_guide/indexing.html#returning-a-view-versus-a-copy\n",
      "  df_clean['sample_id'] = sample_id\n",
      "C:\\Users\\PC\\AppData\\Local\\Temp\\ipykernel_4980\\1846137033.py:69: SettingWithCopyWarning: \n",
      "A value is trying to be set on a copy of a slice from a DataFrame.\n",
      "Try using .loc[row_indexer,col_indexer] = value instead\n",
      "\n",
      "See the caveats in the documentation: https://pandas.pydata.org/pandas-docs/stable/user_guide/indexing.html#returning-a-view-versus-a-copy\n",
      "  df_clean['sample_id'] = sample_id\n"
     ]
    },
    {
     "name": "stdout",
     "output_type": "stream",
     "text": [
      "Finished processing sample: 2f05f114-9769-48e4-978c-6bfe1f2f372f.rna_seq.augmented_star_gene_counts, shape: (60660, 10)\n",
      "Reading file: C:\\Users\\PC\\Desktop\\gene-expression-cancer-prediction\\rna_seq\\e855de31-6adc-423f-9295-3064f2449f35\\535047b2-35b4-4e31-8761-f38cf1f57441.rna_seq.augmented_star_gene_counts.tsv\n",
      "Processing sample: 535047b2-35b4-4e31-8761-f38cf1f57441.rna_seq.augmented_star_gene_counts\n",
      "Finished processing sample: 535047b2-35b4-4e31-8761-f38cf1f57441.rna_seq.augmented_star_gene_counts, shape: (60660, 10)\n",
      "Reading file: C:\\Users\\PC\\Desktop\\gene-expression-cancer-prediction\\rna_seq\\e86f9f1b-4e5c-4743-8158-14ec2e83b6f1\\91d22570-2889-46c5-9efe-5c40a4f84e5b.rna_seq.augmented_star_gene_counts.tsv\n",
      "Processing sample: 91d22570-2889-46c5-9efe-5c40a4f84e5b.rna_seq.augmented_star_gene_counts\n"
     ]
    },
    {
     "name": "stderr",
     "output_type": "stream",
     "text": [
      "C:\\Users\\PC\\AppData\\Local\\Temp\\ipykernel_4980\\1846137033.py:69: SettingWithCopyWarning: \n",
      "A value is trying to be set on a copy of a slice from a DataFrame.\n",
      "Try using .loc[row_indexer,col_indexer] = value instead\n",
      "\n",
      "See the caveats in the documentation: https://pandas.pydata.org/pandas-docs/stable/user_guide/indexing.html#returning-a-view-versus-a-copy\n",
      "  df_clean['sample_id'] = sample_id\n",
      "C:\\Users\\PC\\AppData\\Local\\Temp\\ipykernel_4980\\1846137033.py:69: SettingWithCopyWarning: \n",
      "A value is trying to be set on a copy of a slice from a DataFrame.\n",
      "Try using .loc[row_indexer,col_indexer] = value instead\n",
      "\n",
      "See the caveats in the documentation: https://pandas.pydata.org/pandas-docs/stable/user_guide/indexing.html#returning-a-view-versus-a-copy\n",
      "  df_clean['sample_id'] = sample_id\n"
     ]
    },
    {
     "name": "stdout",
     "output_type": "stream",
     "text": [
      "Finished processing sample: 91d22570-2889-46c5-9efe-5c40a4f84e5b.rna_seq.augmented_star_gene_counts, shape: (60660, 10)\n",
      "Reading file: C:\\Users\\PC\\Desktop\\gene-expression-cancer-prediction\\rna_seq\\e8d97ce6-190e-4189-a148-5a8d9f4215c3\\d244c9fe-f289-417a-af42-85591ef4fdc6.rna_seq.augmented_star_gene_counts.tsv\n",
      "Processing sample: d244c9fe-f289-417a-af42-85591ef4fdc6.rna_seq.augmented_star_gene_counts\n",
      "Finished processing sample: d244c9fe-f289-417a-af42-85591ef4fdc6.rna_seq.augmented_star_gene_counts, shape: (60660, 10)\n",
      "Reading file: C:\\Users\\PC\\Desktop\\gene-expression-cancer-prediction\\rna_seq\\e94299a9-67bc-4c30-963c-1476fbb7d5ff\\3cd924c3-5000-49de-a253-92d1cfa9a09a.rna_seq.augmented_star_gene_counts.tsv\n",
      "Processing sample: 3cd924c3-5000-49de-a253-92d1cfa9a09a.rna_seq.augmented_star_gene_counts\n"
     ]
    },
    {
     "name": "stderr",
     "output_type": "stream",
     "text": [
      "C:\\Users\\PC\\AppData\\Local\\Temp\\ipykernel_4980\\1846137033.py:69: SettingWithCopyWarning: \n",
      "A value is trying to be set on a copy of a slice from a DataFrame.\n",
      "Try using .loc[row_indexer,col_indexer] = value instead\n",
      "\n",
      "See the caveats in the documentation: https://pandas.pydata.org/pandas-docs/stable/user_guide/indexing.html#returning-a-view-versus-a-copy\n",
      "  df_clean['sample_id'] = sample_id\n",
      "C:\\Users\\PC\\AppData\\Local\\Temp\\ipykernel_4980\\1846137033.py:69: SettingWithCopyWarning: \n",
      "A value is trying to be set on a copy of a slice from a DataFrame.\n",
      "Try using .loc[row_indexer,col_indexer] = value instead\n",
      "\n",
      "See the caveats in the documentation: https://pandas.pydata.org/pandas-docs/stable/user_guide/indexing.html#returning-a-view-versus-a-copy\n",
      "  df_clean['sample_id'] = sample_id\n"
     ]
    },
    {
     "name": "stdout",
     "output_type": "stream",
     "text": [
      "Finished processing sample: 3cd924c3-5000-49de-a253-92d1cfa9a09a.rna_seq.augmented_star_gene_counts, shape: (60660, 10)\n",
      "Reading file: C:\\Users\\PC\\Desktop\\gene-expression-cancer-prediction\\rna_seq\\e94ef671-995d-452b-bcbe-993e5b437a68\\b29eda98-8a40-4c9f-ab41-7d6eded84d50.rna_seq.augmented_star_gene_counts.tsv\n",
      "Processing sample: b29eda98-8a40-4c9f-ab41-7d6eded84d50.rna_seq.augmented_star_gene_counts\n",
      "Finished processing sample: b29eda98-8a40-4c9f-ab41-7d6eded84d50.rna_seq.augmented_star_gene_counts, shape: (60660, 10)\n",
      "Reading file: C:\\Users\\PC\\Desktop\\gene-expression-cancer-prediction\\rna_seq\\e99a371e-14fa-46f7-89c1-ad36bcd82994\\28b12d43-f858-458b-9305-6581a9498e59.rna_seq.augmented_star_gene_counts.tsv\n",
      "Processing sample: 28b12d43-f858-458b-9305-6581a9498e59.rna_seq.augmented_star_gene_counts\n"
     ]
    },
    {
     "name": "stderr",
     "output_type": "stream",
     "text": [
      "C:\\Users\\PC\\AppData\\Local\\Temp\\ipykernel_4980\\1846137033.py:69: SettingWithCopyWarning: \n",
      "A value is trying to be set on a copy of a slice from a DataFrame.\n",
      "Try using .loc[row_indexer,col_indexer] = value instead\n",
      "\n",
      "See the caveats in the documentation: https://pandas.pydata.org/pandas-docs/stable/user_guide/indexing.html#returning-a-view-versus-a-copy\n",
      "  df_clean['sample_id'] = sample_id\n",
      "C:\\Users\\PC\\AppData\\Local\\Temp\\ipykernel_4980\\1846137033.py:69: SettingWithCopyWarning: \n",
      "A value is trying to be set on a copy of a slice from a DataFrame.\n",
      "Try using .loc[row_indexer,col_indexer] = value instead\n",
      "\n",
      "See the caveats in the documentation: https://pandas.pydata.org/pandas-docs/stable/user_guide/indexing.html#returning-a-view-versus-a-copy\n",
      "  df_clean['sample_id'] = sample_id\n"
     ]
    },
    {
     "name": "stdout",
     "output_type": "stream",
     "text": [
      "Finished processing sample: 28b12d43-f858-458b-9305-6581a9498e59.rna_seq.augmented_star_gene_counts, shape: (60660, 10)\n",
      "Reading file: C:\\Users\\PC\\Desktop\\gene-expression-cancer-prediction\\rna_seq\\e9fe2319-2624-4ac1-9c41-d0ac44608f02\\04ed1bfb-533f-4d97-a7e4-3e7bab103485.rna_seq.augmented_star_gene_counts.tsv\n",
      "Processing sample: 04ed1bfb-533f-4d97-a7e4-3e7bab103485.rna_seq.augmented_star_gene_counts\n",
      "Finished processing sample: 04ed1bfb-533f-4d97-a7e4-3e7bab103485.rna_seq.augmented_star_gene_counts, shape: (60660, 10)\n",
      "Reading file: C:\\Users\\PC\\Desktop\\gene-expression-cancer-prediction\\rna_seq\\ea01e210-0d45-4c23-8644-904771672188\\23b6c182-bb01-403a-9844-560518d059ac.rna_seq.augmented_star_gene_counts.tsv\n",
      "Processing sample: 23b6c182-bb01-403a-9844-560518d059ac.rna_seq.augmented_star_gene_counts\n"
     ]
    },
    {
     "name": "stderr",
     "output_type": "stream",
     "text": [
      "C:\\Users\\PC\\AppData\\Local\\Temp\\ipykernel_4980\\1846137033.py:69: SettingWithCopyWarning: \n",
      "A value is trying to be set on a copy of a slice from a DataFrame.\n",
      "Try using .loc[row_indexer,col_indexer] = value instead\n",
      "\n",
      "See the caveats in the documentation: https://pandas.pydata.org/pandas-docs/stable/user_guide/indexing.html#returning-a-view-versus-a-copy\n",
      "  df_clean['sample_id'] = sample_id\n",
      "C:\\Users\\PC\\AppData\\Local\\Temp\\ipykernel_4980\\1846137033.py:69: SettingWithCopyWarning: \n",
      "A value is trying to be set on a copy of a slice from a DataFrame.\n",
      "Try using .loc[row_indexer,col_indexer] = value instead\n",
      "\n",
      "See the caveats in the documentation: https://pandas.pydata.org/pandas-docs/stable/user_guide/indexing.html#returning-a-view-versus-a-copy\n",
      "  df_clean['sample_id'] = sample_id\n"
     ]
    },
    {
     "name": "stdout",
     "output_type": "stream",
     "text": [
      "Finished processing sample: 23b6c182-bb01-403a-9844-560518d059ac.rna_seq.augmented_star_gene_counts, shape: (60660, 10)\n",
      "Reading file: C:\\Users\\PC\\Desktop\\gene-expression-cancer-prediction\\rna_seq\\ea4c3031-5f48-4048-90ff-a525271cfebc\\671bc03b-e3a8-45f6-88e4-ce138c716886.rna_seq.augmented_star_gene_counts.tsv\n",
      "Processing sample: 671bc03b-e3a8-45f6-88e4-ce138c716886.rna_seq.augmented_star_gene_counts\n",
      "Finished processing sample: 671bc03b-e3a8-45f6-88e4-ce138c716886.rna_seq.augmented_star_gene_counts, shape: (60660, 10)\n",
      "Reading file: C:\\Users\\PC\\Desktop\\gene-expression-cancer-prediction\\rna_seq\\ea5c9d47-1803-4bd5-88da-352e172bc45d\\7c3fbd41-7360-49e2-9c5e-9570dd24fcac.rna_seq.augmented_star_gene_counts.tsv\n",
      "Processing sample: 7c3fbd41-7360-49e2-9c5e-9570dd24fcac.rna_seq.augmented_star_gene_counts\n"
     ]
    },
    {
     "name": "stderr",
     "output_type": "stream",
     "text": [
      "C:\\Users\\PC\\AppData\\Local\\Temp\\ipykernel_4980\\1846137033.py:69: SettingWithCopyWarning: \n",
      "A value is trying to be set on a copy of a slice from a DataFrame.\n",
      "Try using .loc[row_indexer,col_indexer] = value instead\n",
      "\n",
      "See the caveats in the documentation: https://pandas.pydata.org/pandas-docs/stable/user_guide/indexing.html#returning-a-view-versus-a-copy\n",
      "  df_clean['sample_id'] = sample_id\n"
     ]
    },
    {
     "name": "stdout",
     "output_type": "stream",
     "text": [
      "Finished processing sample: 7c3fbd41-7360-49e2-9c5e-9570dd24fcac.rna_seq.augmented_star_gene_counts, shape: (60660, 10)\n",
      "Reading file: C:\\Users\\PC\\Desktop\\gene-expression-cancer-prediction\\rna_seq\\ea7281b8-a53c-453a-93e9-69549c5f0fe8\\3aedd29b-c089-4319-a7cb-61411a737e92.rna_seq.augmented_star_gene_counts.tsv\n",
      "Processing sample: 3aedd29b-c089-4319-a7cb-61411a737e92.rna_seq.augmented_star_gene_counts\n"
     ]
    },
    {
     "name": "stderr",
     "output_type": "stream",
     "text": [
      "C:\\Users\\PC\\AppData\\Local\\Temp\\ipykernel_4980\\1846137033.py:69: SettingWithCopyWarning: \n",
      "A value is trying to be set on a copy of a slice from a DataFrame.\n",
      "Try using .loc[row_indexer,col_indexer] = value instead\n",
      "\n",
      "See the caveats in the documentation: https://pandas.pydata.org/pandas-docs/stable/user_guide/indexing.html#returning-a-view-versus-a-copy\n",
      "  df_clean['sample_id'] = sample_id\n",
      "C:\\Users\\PC\\AppData\\Local\\Temp\\ipykernel_4980\\1846137033.py:69: SettingWithCopyWarning: \n",
      "A value is trying to be set on a copy of a slice from a DataFrame.\n",
      "Try using .loc[row_indexer,col_indexer] = value instead\n",
      "\n",
      "See the caveats in the documentation: https://pandas.pydata.org/pandas-docs/stable/user_guide/indexing.html#returning-a-view-versus-a-copy\n",
      "  df_clean['sample_id'] = sample_id\n"
     ]
    },
    {
     "name": "stdout",
     "output_type": "stream",
     "text": [
      "Finished processing sample: 3aedd29b-c089-4319-a7cb-61411a737e92.rna_seq.augmented_star_gene_counts, shape: (60660, 10)\n",
      "Reading file: C:\\Users\\PC\\Desktop\\gene-expression-cancer-prediction\\rna_seq\\ead53b27-6ad9-4b96-b5d4-0d4f06fb2d13\\dadd1789-354a-4abb-8d4e-8556166cf341.rna_seq.augmented_star_gene_counts.tsv\n",
      "Processing sample: dadd1789-354a-4abb-8d4e-8556166cf341.rna_seq.augmented_star_gene_counts\n",
      "Finished processing sample: dadd1789-354a-4abb-8d4e-8556166cf341.rna_seq.augmented_star_gene_counts, shape: (60660, 10)\n",
      "Reading file: C:\\Users\\PC\\Desktop\\gene-expression-cancer-prediction\\rna_seq\\eb166054-ff70-4a86-883b-9c25a7d2b0e5\\6cc59c3f-0de5-4232-ab7a-7195a92e7d89.rna_seq.augmented_star_gene_counts.tsv\n",
      "Processing sample: 6cc59c3f-0de5-4232-ab7a-7195a92e7d89.rna_seq.augmented_star_gene_counts\n"
     ]
    },
    {
     "name": "stderr",
     "output_type": "stream",
     "text": [
      "C:\\Users\\PC\\AppData\\Local\\Temp\\ipykernel_4980\\1846137033.py:69: SettingWithCopyWarning: \n",
      "A value is trying to be set on a copy of a slice from a DataFrame.\n",
      "Try using .loc[row_indexer,col_indexer] = value instead\n",
      "\n",
      "See the caveats in the documentation: https://pandas.pydata.org/pandas-docs/stable/user_guide/indexing.html#returning-a-view-versus-a-copy\n",
      "  df_clean['sample_id'] = sample_id\n",
      "C:\\Users\\PC\\AppData\\Local\\Temp\\ipykernel_4980\\1846137033.py:69: SettingWithCopyWarning: \n",
      "A value is trying to be set on a copy of a slice from a DataFrame.\n",
      "Try using .loc[row_indexer,col_indexer] = value instead\n",
      "\n",
      "See the caveats in the documentation: https://pandas.pydata.org/pandas-docs/stable/user_guide/indexing.html#returning-a-view-versus-a-copy\n",
      "  df_clean['sample_id'] = sample_id\n"
     ]
    },
    {
     "name": "stdout",
     "output_type": "stream",
     "text": [
      "Finished processing sample: 6cc59c3f-0de5-4232-ab7a-7195a92e7d89.rna_seq.augmented_star_gene_counts, shape: (60660, 10)\n",
      "Reading file: C:\\Users\\PC\\Desktop\\gene-expression-cancer-prediction\\rna_seq\\eba83203-1de1-447a-88d0-2ffbccc24990\\fa94f266-1ed4-440a-8d10-3c72ce4100ba.rna_seq.augmented_star_gene_counts.tsv\n",
      "Processing sample: fa94f266-1ed4-440a-8d10-3c72ce4100ba.rna_seq.augmented_star_gene_counts\n",
      "Finished processing sample: fa94f266-1ed4-440a-8d10-3c72ce4100ba.rna_seq.augmented_star_gene_counts, shape: (60660, 10)\n",
      "Reading file: C:\\Users\\PC\\Desktop\\gene-expression-cancer-prediction\\rna_seq\\ec2687cf-9496-4232-9a96-41b935d6ffb3\\fb5f0118-87fb-409f-89d8-9bd9f06867b9.rna_seq.augmented_star_gene_counts.tsv\n",
      "Processing sample: fb5f0118-87fb-409f-89d8-9bd9f06867b9.rna_seq.augmented_star_gene_counts\n"
     ]
    },
    {
     "name": "stderr",
     "output_type": "stream",
     "text": [
      "C:\\Users\\PC\\AppData\\Local\\Temp\\ipykernel_4980\\1846137033.py:69: SettingWithCopyWarning: \n",
      "A value is trying to be set on a copy of a slice from a DataFrame.\n",
      "Try using .loc[row_indexer,col_indexer] = value instead\n",
      "\n",
      "See the caveats in the documentation: https://pandas.pydata.org/pandas-docs/stable/user_guide/indexing.html#returning-a-view-versus-a-copy\n",
      "  df_clean['sample_id'] = sample_id\n",
      "C:\\Users\\PC\\AppData\\Local\\Temp\\ipykernel_4980\\1846137033.py:69: SettingWithCopyWarning: \n",
      "A value is trying to be set on a copy of a slice from a DataFrame.\n",
      "Try using .loc[row_indexer,col_indexer] = value instead\n",
      "\n",
      "See the caveats in the documentation: https://pandas.pydata.org/pandas-docs/stable/user_guide/indexing.html#returning-a-view-versus-a-copy\n",
      "  df_clean['sample_id'] = sample_id\n"
     ]
    },
    {
     "name": "stdout",
     "output_type": "stream",
     "text": [
      "Finished processing sample: fb5f0118-87fb-409f-89d8-9bd9f06867b9.rna_seq.augmented_star_gene_counts, shape: (60660, 10)\n",
      "Reading file: C:\\Users\\PC\\Desktop\\gene-expression-cancer-prediction\\rna_seq\\ec9437c2-dad0-471a-bd2c-faa61846af57\\fb120cb4-2cee-4848-a60e-6c1fba723dc9.rna_seq.augmented_star_gene_counts.tsv\n",
      "Processing sample: fb120cb4-2cee-4848-a60e-6c1fba723dc9.rna_seq.augmented_star_gene_counts\n",
      "Finished processing sample: fb120cb4-2cee-4848-a60e-6c1fba723dc9.rna_seq.augmented_star_gene_counts, shape: (60660, 10)\n",
      "Reading file: C:\\Users\\PC\\Desktop\\gene-expression-cancer-prediction\\rna_seq\\ec9fb459-42b7-47eb-8c3a-48f492a7b2dc\\3b1b46e1-f475-46f0-af79-0b9296164be3.rna_seq.augmented_star_gene_counts.tsv\n",
      "Processing sample: 3b1b46e1-f475-46f0-af79-0b9296164be3.rna_seq.augmented_star_gene_counts\n"
     ]
    },
    {
     "name": "stderr",
     "output_type": "stream",
     "text": [
      "C:\\Users\\PC\\AppData\\Local\\Temp\\ipykernel_4980\\1846137033.py:69: SettingWithCopyWarning: \n",
      "A value is trying to be set on a copy of a slice from a DataFrame.\n",
      "Try using .loc[row_indexer,col_indexer] = value instead\n",
      "\n",
      "See the caveats in the documentation: https://pandas.pydata.org/pandas-docs/stable/user_guide/indexing.html#returning-a-view-versus-a-copy\n",
      "  df_clean['sample_id'] = sample_id\n",
      "C:\\Users\\PC\\AppData\\Local\\Temp\\ipykernel_4980\\1846137033.py:69: SettingWithCopyWarning: \n",
      "A value is trying to be set on a copy of a slice from a DataFrame.\n",
      "Try using .loc[row_indexer,col_indexer] = value instead\n",
      "\n",
      "See the caveats in the documentation: https://pandas.pydata.org/pandas-docs/stable/user_guide/indexing.html#returning-a-view-versus-a-copy\n",
      "  df_clean['sample_id'] = sample_id\n"
     ]
    },
    {
     "name": "stdout",
     "output_type": "stream",
     "text": [
      "Finished processing sample: 3b1b46e1-f475-46f0-af79-0b9296164be3.rna_seq.augmented_star_gene_counts, shape: (60660, 10)\n",
      "Reading file: C:\\Users\\PC\\Desktop\\gene-expression-cancer-prediction\\rna_seq\\ece7c643-e0b9-4b65-b6f5-89c414c1bfea\\7e6ed4fc-b4bf-46c7-9f31-24a0c32c039e.rna_seq.augmented_star_gene_counts.tsv\n",
      "Processing sample: 7e6ed4fc-b4bf-46c7-9f31-24a0c32c039e.rna_seq.augmented_star_gene_counts\n",
      "Finished processing sample: 7e6ed4fc-b4bf-46c7-9f31-24a0c32c039e.rna_seq.augmented_star_gene_counts, shape: (60660, 10)\n",
      "Reading file: C:\\Users\\PC\\Desktop\\gene-expression-cancer-prediction\\rna_seq\\ecf9996e-0cba-4394-9f5a-51fceab1ac56\\47bdf86d-922f-4615-b7dc-8b19a0cbcf60.rna_seq.augmented_star_gene_counts.tsv\n",
      "Processing sample: 47bdf86d-922f-4615-b7dc-8b19a0cbcf60.rna_seq.augmented_star_gene_counts\n"
     ]
    },
    {
     "name": "stderr",
     "output_type": "stream",
     "text": [
      "C:\\Users\\PC\\AppData\\Local\\Temp\\ipykernel_4980\\1846137033.py:69: SettingWithCopyWarning: \n",
      "A value is trying to be set on a copy of a slice from a DataFrame.\n",
      "Try using .loc[row_indexer,col_indexer] = value instead\n",
      "\n",
      "See the caveats in the documentation: https://pandas.pydata.org/pandas-docs/stable/user_guide/indexing.html#returning-a-view-versus-a-copy\n",
      "  df_clean['sample_id'] = sample_id\n"
     ]
    },
    {
     "name": "stdout",
     "output_type": "stream",
     "text": [
      "Finished processing sample: 47bdf86d-922f-4615-b7dc-8b19a0cbcf60.rna_seq.augmented_star_gene_counts, shape: (60660, 10)\n",
      "Reading file: C:\\Users\\PC\\Desktop\\gene-expression-cancer-prediction\\rna_seq\\ed0aae7b-f815-4dc8-a98f-5844602cbaea\\b773c30d-f37b-4aee-8330-a159d42d3019.rna_seq.augmented_star_gene_counts.tsv\n",
      "Processing sample: b773c30d-f37b-4aee-8330-a159d42d3019.rna_seq.augmented_star_gene_counts\n"
     ]
    },
    {
     "name": "stderr",
     "output_type": "stream",
     "text": [
      "C:\\Users\\PC\\AppData\\Local\\Temp\\ipykernel_4980\\1846137033.py:69: SettingWithCopyWarning: \n",
      "A value is trying to be set on a copy of a slice from a DataFrame.\n",
      "Try using .loc[row_indexer,col_indexer] = value instead\n",
      "\n",
      "See the caveats in the documentation: https://pandas.pydata.org/pandas-docs/stable/user_guide/indexing.html#returning-a-view-versus-a-copy\n",
      "  df_clean['sample_id'] = sample_id\n",
      "C:\\Users\\PC\\AppData\\Local\\Temp\\ipykernel_4980\\1846137033.py:69: SettingWithCopyWarning: \n",
      "A value is trying to be set on a copy of a slice from a DataFrame.\n",
      "Try using .loc[row_indexer,col_indexer] = value instead\n",
      "\n",
      "See the caveats in the documentation: https://pandas.pydata.org/pandas-docs/stable/user_guide/indexing.html#returning-a-view-versus-a-copy\n",
      "  df_clean['sample_id'] = sample_id\n"
     ]
    },
    {
     "name": "stdout",
     "output_type": "stream",
     "text": [
      "Finished processing sample: b773c30d-f37b-4aee-8330-a159d42d3019.rna_seq.augmented_star_gene_counts, shape: (60660, 10)\n",
      "Reading file: C:\\Users\\PC\\Desktop\\gene-expression-cancer-prediction\\rna_seq\\ed1497db-7c6f-4bd2-83ed-ee05fa286f8b\\ca701a41-b397-48b7-bad4-09ef8b4eb462.rna_seq.augmented_star_gene_counts.tsv\n",
      "Processing sample: ca701a41-b397-48b7-bad4-09ef8b4eb462.rna_seq.augmented_star_gene_counts\n",
      "Finished processing sample: ca701a41-b397-48b7-bad4-09ef8b4eb462.rna_seq.augmented_star_gene_counts, shape: (60660, 10)\n",
      "Reading file: C:\\Users\\PC\\Desktop\\gene-expression-cancer-prediction\\rna_seq\\ed76d903-de08-4060-ab15-b4add3c551f0\\05ea028e-6b8a-4352-88aa-057494cf5e80.rna_seq.augmented_star_gene_counts.tsv\n",
      "Processing sample: 05ea028e-6b8a-4352-88aa-057494cf5e80.rna_seq.augmented_star_gene_counts\n"
     ]
    },
    {
     "name": "stderr",
     "output_type": "stream",
     "text": [
      "C:\\Users\\PC\\AppData\\Local\\Temp\\ipykernel_4980\\1846137033.py:69: SettingWithCopyWarning: \n",
      "A value is trying to be set on a copy of a slice from a DataFrame.\n",
      "Try using .loc[row_indexer,col_indexer] = value instead\n",
      "\n",
      "See the caveats in the documentation: https://pandas.pydata.org/pandas-docs/stable/user_guide/indexing.html#returning-a-view-versus-a-copy\n",
      "  df_clean['sample_id'] = sample_id\n",
      "C:\\Users\\PC\\AppData\\Local\\Temp\\ipykernel_4980\\1846137033.py:69: SettingWithCopyWarning: \n",
      "A value is trying to be set on a copy of a slice from a DataFrame.\n",
      "Try using .loc[row_indexer,col_indexer] = value instead\n",
      "\n",
      "See the caveats in the documentation: https://pandas.pydata.org/pandas-docs/stable/user_guide/indexing.html#returning-a-view-versus-a-copy\n",
      "  df_clean['sample_id'] = sample_id\n"
     ]
    },
    {
     "name": "stdout",
     "output_type": "stream",
     "text": [
      "Finished processing sample: 05ea028e-6b8a-4352-88aa-057494cf5e80.rna_seq.augmented_star_gene_counts, shape: (60660, 10)\n",
      "Reading file: C:\\Users\\PC\\Desktop\\gene-expression-cancer-prediction\\rna_seq\\ed797859-4d7e-40e6-bae3-54ef15ad0f0a\\22190dbc-a176-4f26-96d8-c2d2667b64ae.rna_seq.augmented_star_gene_counts.tsv\n",
      "Processing sample: 22190dbc-a176-4f26-96d8-c2d2667b64ae.rna_seq.augmented_star_gene_counts\n",
      "Finished processing sample: 22190dbc-a176-4f26-96d8-c2d2667b64ae.rna_seq.augmented_star_gene_counts, shape: (60660, 10)\n",
      "Reading file: C:\\Users\\PC\\Desktop\\gene-expression-cancer-prediction\\rna_seq\\ee39aea6-23f8-470f-863c-545ef6c5ea77\\b44be803-b398-4e93-b459-40ecdf2cb130.rna_seq.augmented_star_gene_counts.tsv\n",
      "Processing sample: b44be803-b398-4e93-b459-40ecdf2cb130.rna_seq.augmented_star_gene_counts\n"
     ]
    },
    {
     "name": "stderr",
     "output_type": "stream",
     "text": [
      "C:\\Users\\PC\\AppData\\Local\\Temp\\ipykernel_4980\\1846137033.py:69: SettingWithCopyWarning: \n",
      "A value is trying to be set on a copy of a slice from a DataFrame.\n",
      "Try using .loc[row_indexer,col_indexer] = value instead\n",
      "\n",
      "See the caveats in the documentation: https://pandas.pydata.org/pandas-docs/stable/user_guide/indexing.html#returning-a-view-versus-a-copy\n",
      "  df_clean['sample_id'] = sample_id\n",
      "C:\\Users\\PC\\AppData\\Local\\Temp\\ipykernel_4980\\1846137033.py:69: SettingWithCopyWarning: \n",
      "A value is trying to be set on a copy of a slice from a DataFrame.\n",
      "Try using .loc[row_indexer,col_indexer] = value instead\n",
      "\n",
      "See the caveats in the documentation: https://pandas.pydata.org/pandas-docs/stable/user_guide/indexing.html#returning-a-view-versus-a-copy\n",
      "  df_clean['sample_id'] = sample_id\n"
     ]
    },
    {
     "name": "stdout",
     "output_type": "stream",
     "text": [
      "Finished processing sample: b44be803-b398-4e93-b459-40ecdf2cb130.rna_seq.augmented_star_gene_counts, shape: (60660, 10)\n",
      "Reading file: C:\\Users\\PC\\Desktop\\gene-expression-cancer-prediction\\rna_seq\\ee447251-5c90-426f-a0c7-bd2041189761\\06a03e45-7315-4a8d-9fef-d841a4a8043c.rna_seq.augmented_star_gene_counts.tsv\n",
      "Processing sample: 06a03e45-7315-4a8d-9fef-d841a4a8043c.rna_seq.augmented_star_gene_counts\n",
      "Finished processing sample: 06a03e45-7315-4a8d-9fef-d841a4a8043c.rna_seq.augmented_star_gene_counts, shape: (60660, 10)\n",
      "Reading file: C:\\Users\\PC\\Desktop\\gene-expression-cancer-prediction\\rna_seq\\ee89e01e-d54e-4166-a3ae-db9357639523\\207b5c1c-3710-47bd-be2c-e1307631b28f.rna_seq.augmented_star_gene_counts.tsv\n",
      "Processing sample: 207b5c1c-3710-47bd-be2c-e1307631b28f.rna_seq.augmented_star_gene_counts\n"
     ]
    },
    {
     "name": "stderr",
     "output_type": "stream",
     "text": [
      "C:\\Users\\PC\\AppData\\Local\\Temp\\ipykernel_4980\\1846137033.py:69: SettingWithCopyWarning: \n",
      "A value is trying to be set on a copy of a slice from a DataFrame.\n",
      "Try using .loc[row_indexer,col_indexer] = value instead\n",
      "\n",
      "See the caveats in the documentation: https://pandas.pydata.org/pandas-docs/stable/user_guide/indexing.html#returning-a-view-versus-a-copy\n",
      "  df_clean['sample_id'] = sample_id\n",
      "C:\\Users\\PC\\AppData\\Local\\Temp\\ipykernel_4980\\1846137033.py:69: SettingWithCopyWarning: \n",
      "A value is trying to be set on a copy of a slice from a DataFrame.\n",
      "Try using .loc[row_indexer,col_indexer] = value instead\n",
      "\n",
      "See the caveats in the documentation: https://pandas.pydata.org/pandas-docs/stable/user_guide/indexing.html#returning-a-view-versus-a-copy\n",
      "  df_clean['sample_id'] = sample_id\n"
     ]
    },
    {
     "name": "stdout",
     "output_type": "stream",
     "text": [
      "Finished processing sample: 207b5c1c-3710-47bd-be2c-e1307631b28f.rna_seq.augmented_star_gene_counts, shape: (60660, 10)\n",
      "Reading file: C:\\Users\\PC\\Desktop\\gene-expression-cancer-prediction\\rna_seq\\eea8e274-7b23-444d-999d-1741d7a928d2\\20ef7196-2274-44e1-a105-0761f80c893c.rna_seq.augmented_star_gene_counts.tsv\n",
      "Processing sample: 20ef7196-2274-44e1-a105-0761f80c893c.rna_seq.augmented_star_gene_counts\n",
      "Finished processing sample: 20ef7196-2274-44e1-a105-0761f80c893c.rna_seq.augmented_star_gene_counts, shape: (60660, 10)\n",
      "Reading file: C:\\Users\\PC\\Desktop\\gene-expression-cancer-prediction\\rna_seq\\eedfb6fb-3db6-4eae-8c6c-8b6722ae72b6\\d504a28c-f8e7-4c5e-b01a-23b4cdd1dd8a.rna_seq.augmented_star_gene_counts.tsv\n",
      "Processing sample: d504a28c-f8e7-4c5e-b01a-23b4cdd1dd8a.rna_seq.augmented_star_gene_counts\n"
     ]
    },
    {
     "name": "stderr",
     "output_type": "stream",
     "text": [
      "C:\\Users\\PC\\AppData\\Local\\Temp\\ipykernel_4980\\1846137033.py:69: SettingWithCopyWarning: \n",
      "A value is trying to be set on a copy of a slice from a DataFrame.\n",
      "Try using .loc[row_indexer,col_indexer] = value instead\n",
      "\n",
      "See the caveats in the documentation: https://pandas.pydata.org/pandas-docs/stable/user_guide/indexing.html#returning-a-view-versus-a-copy\n",
      "  df_clean['sample_id'] = sample_id\n",
      "C:\\Users\\PC\\AppData\\Local\\Temp\\ipykernel_4980\\1846137033.py:69: SettingWithCopyWarning: \n",
      "A value is trying to be set on a copy of a slice from a DataFrame.\n",
      "Try using .loc[row_indexer,col_indexer] = value instead\n",
      "\n",
      "See the caveats in the documentation: https://pandas.pydata.org/pandas-docs/stable/user_guide/indexing.html#returning-a-view-versus-a-copy\n",
      "  df_clean['sample_id'] = sample_id\n"
     ]
    },
    {
     "name": "stdout",
     "output_type": "stream",
     "text": [
      "Finished processing sample: d504a28c-f8e7-4c5e-b01a-23b4cdd1dd8a.rna_seq.augmented_star_gene_counts, shape: (60660, 10)\n",
      "Reading file: C:\\Users\\PC\\Desktop\\gene-expression-cancer-prediction\\rna_seq\\ef181439-d071-40e0-a185-f29343085f8c\\287f70d5-cb97-459f-963b-68408f92c0f3.rna_seq.augmented_star_gene_counts.tsv\n",
      "Processing sample: 287f70d5-cb97-459f-963b-68408f92c0f3.rna_seq.augmented_star_gene_counts\n",
      "Finished processing sample: 287f70d5-cb97-459f-963b-68408f92c0f3.rna_seq.augmented_star_gene_counts, shape: (60660, 10)\n",
      "Warning: No .tsv file found in C:\\Users\\PC\\Desktop\\gene-expression-cancer-prediction\\rna_seq\\ef227e3c-7a6d-4c43-945f-c1c7b410d50b\n",
      "Reading file: C:\\Users\\PC\\Desktop\\gene-expression-cancer-prediction\\rna_seq\\ef3ba95e-2251-43a6-8910-2bdfb02d22be\\36bbebb5-ba1e-4ac6-83b2-67ccd05e4939.rna_seq.augmented_star_gene_counts.tsv\n",
      "Processing sample: 36bbebb5-ba1e-4ac6-83b2-67ccd05e4939.rna_seq.augmented_star_gene_counts\n"
     ]
    },
    {
     "name": "stderr",
     "output_type": "stream",
     "text": [
      "C:\\Users\\PC\\AppData\\Local\\Temp\\ipykernel_4980\\1846137033.py:69: SettingWithCopyWarning: \n",
      "A value is trying to be set on a copy of a slice from a DataFrame.\n",
      "Try using .loc[row_indexer,col_indexer] = value instead\n",
      "\n",
      "See the caveats in the documentation: https://pandas.pydata.org/pandas-docs/stable/user_guide/indexing.html#returning-a-view-versus-a-copy\n",
      "  df_clean['sample_id'] = sample_id\n",
      "C:\\Users\\PC\\AppData\\Local\\Temp\\ipykernel_4980\\1846137033.py:69: SettingWithCopyWarning: \n",
      "A value is trying to be set on a copy of a slice from a DataFrame.\n",
      "Try using .loc[row_indexer,col_indexer] = value instead\n",
      "\n",
      "See the caveats in the documentation: https://pandas.pydata.org/pandas-docs/stable/user_guide/indexing.html#returning-a-view-versus-a-copy\n",
      "  df_clean['sample_id'] = sample_id\n"
     ]
    },
    {
     "name": "stdout",
     "output_type": "stream",
     "text": [
      "Finished processing sample: 36bbebb5-ba1e-4ac6-83b2-67ccd05e4939.rna_seq.augmented_star_gene_counts, shape: (60660, 10)\n",
      "Reading file: C:\\Users\\PC\\Desktop\\gene-expression-cancer-prediction\\rna_seq\\f0107961-a5e1-46ec-b232-a47f0049bc5f\\a2744918-6659-412c-a5e3-a02b9712890e.rna_seq.augmented_star_gene_counts.tsv\n",
      "Processing sample: a2744918-6659-412c-a5e3-a02b9712890e.rna_seq.augmented_star_gene_counts\n",
      "Finished processing sample: a2744918-6659-412c-a5e3-a02b9712890e.rna_seq.augmented_star_gene_counts, shape: (60660, 10)\n",
      "Reading file: C:\\Users\\PC\\Desktop\\gene-expression-cancer-prediction\\rna_seq\\f03677e2-11ab-40b2-8499-591357c2c9d6\\32fdc0ce-d263-4622-8f8c-3df009bf2535.rna_seq.augmented_star_gene_counts.tsv\n",
      "Processing sample: 32fdc0ce-d263-4622-8f8c-3df009bf2535.rna_seq.augmented_star_gene_counts\n"
     ]
    },
    {
     "name": "stderr",
     "output_type": "stream",
     "text": [
      "C:\\Users\\PC\\AppData\\Local\\Temp\\ipykernel_4980\\1846137033.py:69: SettingWithCopyWarning: \n",
      "A value is trying to be set on a copy of a slice from a DataFrame.\n",
      "Try using .loc[row_indexer,col_indexer] = value instead\n",
      "\n",
      "See the caveats in the documentation: https://pandas.pydata.org/pandas-docs/stable/user_guide/indexing.html#returning-a-view-versus-a-copy\n",
      "  df_clean['sample_id'] = sample_id\n",
      "C:\\Users\\PC\\AppData\\Local\\Temp\\ipykernel_4980\\1846137033.py:69: SettingWithCopyWarning: \n",
      "A value is trying to be set on a copy of a slice from a DataFrame.\n",
      "Try using .loc[row_indexer,col_indexer] = value instead\n",
      "\n",
      "See the caveats in the documentation: https://pandas.pydata.org/pandas-docs/stable/user_guide/indexing.html#returning-a-view-versus-a-copy\n",
      "  df_clean['sample_id'] = sample_id\n"
     ]
    },
    {
     "name": "stdout",
     "output_type": "stream",
     "text": [
      "Finished processing sample: 32fdc0ce-d263-4622-8f8c-3df009bf2535.rna_seq.augmented_star_gene_counts, shape: (60660, 10)\n",
      "Reading file: C:\\Users\\PC\\Desktop\\gene-expression-cancer-prediction\\rna_seq\\f0a63361-78bb-4a7f-9d78-31f7b2980ba2\\1008e8d8-a93c-4779-80b6-1272322e7c52.rna_seq.augmented_star_gene_counts.tsv\n",
      "Processing sample: 1008e8d8-a93c-4779-80b6-1272322e7c52.rna_seq.augmented_star_gene_counts\n",
      "Finished processing sample: 1008e8d8-a93c-4779-80b6-1272322e7c52.rna_seq.augmented_star_gene_counts, shape: (60660, 10)\n",
      "Reading file: C:\\Users\\PC\\Desktop\\gene-expression-cancer-prediction\\rna_seq\\f1934efb-1c8a-4c72-ba94-d263ef0d0cd4\\35da5f48-1c64-488b-8330-01e5fcbd9801.rna_seq.augmented_star_gene_counts.tsv\n",
      "Processing sample: 35da5f48-1c64-488b-8330-01e5fcbd9801.rna_seq.augmented_star_gene_counts\n"
     ]
    },
    {
     "name": "stderr",
     "output_type": "stream",
     "text": [
      "C:\\Users\\PC\\AppData\\Local\\Temp\\ipykernel_4980\\1846137033.py:69: SettingWithCopyWarning: \n",
      "A value is trying to be set on a copy of a slice from a DataFrame.\n",
      "Try using .loc[row_indexer,col_indexer] = value instead\n",
      "\n",
      "See the caveats in the documentation: https://pandas.pydata.org/pandas-docs/stable/user_guide/indexing.html#returning-a-view-versus-a-copy\n",
      "  df_clean['sample_id'] = sample_id\n",
      "C:\\Users\\PC\\AppData\\Local\\Temp\\ipykernel_4980\\1846137033.py:69: SettingWithCopyWarning: \n",
      "A value is trying to be set on a copy of a slice from a DataFrame.\n",
      "Try using .loc[row_indexer,col_indexer] = value instead\n",
      "\n",
      "See the caveats in the documentation: https://pandas.pydata.org/pandas-docs/stable/user_guide/indexing.html#returning-a-view-versus-a-copy\n",
      "  df_clean['sample_id'] = sample_id\n"
     ]
    },
    {
     "name": "stdout",
     "output_type": "stream",
     "text": [
      "Finished processing sample: 35da5f48-1c64-488b-8330-01e5fcbd9801.rna_seq.augmented_star_gene_counts, shape: (60660, 10)\n",
      "Reading file: C:\\Users\\PC\\Desktop\\gene-expression-cancer-prediction\\rna_seq\\f1dc7a14-29f1-4fe1-bc67-01e0776d6b40\\00a26384-1b1c-4db4-9664-75fb9b3febdb.rna_seq.augmented_star_gene_counts.tsv\n",
      "Processing sample: 00a26384-1b1c-4db4-9664-75fb9b3febdb.rna_seq.augmented_star_gene_counts\n",
      "Finished processing sample: 00a26384-1b1c-4db4-9664-75fb9b3febdb.rna_seq.augmented_star_gene_counts, shape: (60660, 10)\n",
      "Reading file: C:\\Users\\PC\\Desktop\\gene-expression-cancer-prediction\\rna_seq\\f205f47f-bd57-42bf-a702-4a17d4391411\\3f32cdec-5a60-4147-b313-7c9a9dfefc78.rna_seq.augmented_star_gene_counts.tsv\n",
      "Processing sample: 3f32cdec-5a60-4147-b313-7c9a9dfefc78.rna_seq.augmented_star_gene_counts\n"
     ]
    },
    {
     "name": "stderr",
     "output_type": "stream",
     "text": [
      "C:\\Users\\PC\\AppData\\Local\\Temp\\ipykernel_4980\\1846137033.py:69: SettingWithCopyWarning: \n",
      "A value is trying to be set on a copy of a slice from a DataFrame.\n",
      "Try using .loc[row_indexer,col_indexer] = value instead\n",
      "\n",
      "See the caveats in the documentation: https://pandas.pydata.org/pandas-docs/stable/user_guide/indexing.html#returning-a-view-versus-a-copy\n",
      "  df_clean['sample_id'] = sample_id\n"
     ]
    },
    {
     "name": "stdout",
     "output_type": "stream",
     "text": [
      "Finished processing sample: 3f32cdec-5a60-4147-b313-7c9a9dfefc78.rna_seq.augmented_star_gene_counts, shape: (60660, 10)\n",
      "Reading file: C:\\Users\\PC\\Desktop\\gene-expression-cancer-prediction\\rna_seq\\f2842246-b121-48f0-a8c5-474a8fb47036\\09f906ba-fa4b-487f-9631-fbd97d9db8f9.rna_seq.augmented_star_gene_counts.tsv\n",
      "Processing sample: 09f906ba-fa4b-487f-9631-fbd97d9db8f9.rna_seq.augmented_star_gene_counts\n"
     ]
    },
    {
     "name": "stderr",
     "output_type": "stream",
     "text": [
      "C:\\Users\\PC\\AppData\\Local\\Temp\\ipykernel_4980\\1846137033.py:69: SettingWithCopyWarning: \n",
      "A value is trying to be set on a copy of a slice from a DataFrame.\n",
      "Try using .loc[row_indexer,col_indexer] = value instead\n",
      "\n",
      "See the caveats in the documentation: https://pandas.pydata.org/pandas-docs/stable/user_guide/indexing.html#returning-a-view-versus-a-copy\n",
      "  df_clean['sample_id'] = sample_id\n"
     ]
    },
    {
     "name": "stdout",
     "output_type": "stream",
     "text": [
      "Finished processing sample: 09f906ba-fa4b-487f-9631-fbd97d9db8f9.rna_seq.augmented_star_gene_counts, shape: (60660, 10)\n",
      "Reading file: C:\\Users\\PC\\Desktop\\gene-expression-cancer-prediction\\rna_seq\\f2a4b38d-bfc0-4363-9a58-b5fa2af26ff3\\4665ff5e-adb6-4b88-8a42-cb25c4fda0a0.rna_seq.augmented_star_gene_counts.tsv\n",
      "Processing sample: 4665ff5e-adb6-4b88-8a42-cb25c4fda0a0.rna_seq.augmented_star_gene_counts\n"
     ]
    },
    {
     "name": "stderr",
     "output_type": "stream",
     "text": [
      "C:\\Users\\PC\\AppData\\Local\\Temp\\ipykernel_4980\\1846137033.py:69: SettingWithCopyWarning: \n",
      "A value is trying to be set on a copy of a slice from a DataFrame.\n",
      "Try using .loc[row_indexer,col_indexer] = value instead\n",
      "\n",
      "See the caveats in the documentation: https://pandas.pydata.org/pandas-docs/stable/user_guide/indexing.html#returning-a-view-versus-a-copy\n",
      "  df_clean['sample_id'] = sample_id\n",
      "C:\\Users\\PC\\AppData\\Local\\Temp\\ipykernel_4980\\1846137033.py:69: SettingWithCopyWarning: \n",
      "A value is trying to be set on a copy of a slice from a DataFrame.\n",
      "Try using .loc[row_indexer,col_indexer] = value instead\n",
      "\n",
      "See the caveats in the documentation: https://pandas.pydata.org/pandas-docs/stable/user_guide/indexing.html#returning-a-view-versus-a-copy\n",
      "  df_clean['sample_id'] = sample_id\n"
     ]
    },
    {
     "name": "stdout",
     "output_type": "stream",
     "text": [
      "Finished processing sample: 4665ff5e-adb6-4b88-8a42-cb25c4fda0a0.rna_seq.augmented_star_gene_counts, shape: (60660, 10)\n",
      "Reading file: C:\\Users\\PC\\Desktop\\gene-expression-cancer-prediction\\rna_seq\\f30b7e3e-f26d-47f7-a87f-6c1a4f074f65\\a7bca7c2-8c54-4ad1-9deb-7f77c962bb07.rna_seq.augmented_star_gene_counts.tsv\n",
      "Processing sample: a7bca7c2-8c54-4ad1-9deb-7f77c962bb07.rna_seq.augmented_star_gene_counts\n",
      "Finished processing sample: a7bca7c2-8c54-4ad1-9deb-7f77c962bb07.rna_seq.augmented_star_gene_counts, shape: (60660, 10)\n",
      "Reading file: C:\\Users\\PC\\Desktop\\gene-expression-cancer-prediction\\rna_seq\\f33b0d9c-486b-482d-b4a6-c2885072db7b\\ab3b04d0-d1fb-48f4-aae2-9ef96c9f5fb2.rna_seq.augmented_star_gene_counts.tsv\n",
      "Processing sample: ab3b04d0-d1fb-48f4-aae2-9ef96c9f5fb2.rna_seq.augmented_star_gene_counts\n"
     ]
    },
    {
     "name": "stderr",
     "output_type": "stream",
     "text": [
      "C:\\Users\\PC\\AppData\\Local\\Temp\\ipykernel_4980\\1846137033.py:69: SettingWithCopyWarning: \n",
      "A value is trying to be set on a copy of a slice from a DataFrame.\n",
      "Try using .loc[row_indexer,col_indexer] = value instead\n",
      "\n",
      "See the caveats in the documentation: https://pandas.pydata.org/pandas-docs/stable/user_guide/indexing.html#returning-a-view-versus-a-copy\n",
      "  df_clean['sample_id'] = sample_id\n",
      "C:\\Users\\PC\\AppData\\Local\\Temp\\ipykernel_4980\\1846137033.py:69: SettingWithCopyWarning: \n",
      "A value is trying to be set on a copy of a slice from a DataFrame.\n",
      "Try using .loc[row_indexer,col_indexer] = value instead\n",
      "\n",
      "See the caveats in the documentation: https://pandas.pydata.org/pandas-docs/stable/user_guide/indexing.html#returning-a-view-versus-a-copy\n",
      "  df_clean['sample_id'] = sample_id\n"
     ]
    },
    {
     "name": "stdout",
     "output_type": "stream",
     "text": [
      "Finished processing sample: ab3b04d0-d1fb-48f4-aae2-9ef96c9f5fb2.rna_seq.augmented_star_gene_counts, shape: (60660, 10)\n",
      "Reading file: C:\\Users\\PC\\Desktop\\gene-expression-cancer-prediction\\rna_seq\\f35ae5c7-6e88-410d-b86f-c5bdae11a5f4\\222dd9b5-4187-45b9-8cb1-fd16ba14425b.rna_seq.augmented_star_gene_counts.tsv\n",
      "Processing sample: 222dd9b5-4187-45b9-8cb1-fd16ba14425b.rna_seq.augmented_star_gene_counts\n",
      "Finished processing sample: 222dd9b5-4187-45b9-8cb1-fd16ba14425b.rna_seq.augmented_star_gene_counts, shape: (60660, 10)\n",
      "Reading file: C:\\Users\\PC\\Desktop\\gene-expression-cancer-prediction\\rna_seq\\f36e613e-af30-4b1c-aaf3-89540e05ddb1\\281a89c1-e817-49d4-afa1-2894c2747919.rna_seq.augmented_star_gene_counts.tsv\n",
      "Processing sample: 281a89c1-e817-49d4-afa1-2894c2747919.rna_seq.augmented_star_gene_counts\n"
     ]
    },
    {
     "name": "stderr",
     "output_type": "stream",
     "text": [
      "C:\\Users\\PC\\AppData\\Local\\Temp\\ipykernel_4980\\1846137033.py:69: SettingWithCopyWarning: \n",
      "A value is trying to be set on a copy of a slice from a DataFrame.\n",
      "Try using .loc[row_indexer,col_indexer] = value instead\n",
      "\n",
      "See the caveats in the documentation: https://pandas.pydata.org/pandas-docs/stable/user_guide/indexing.html#returning-a-view-versus-a-copy\n",
      "  df_clean['sample_id'] = sample_id\n"
     ]
    },
    {
     "name": "stdout",
     "output_type": "stream",
     "text": [
      "Finished processing sample: 281a89c1-e817-49d4-afa1-2894c2747919.rna_seq.augmented_star_gene_counts, shape: (60660, 10)\n",
      "Reading file: C:\\Users\\PC\\Desktop\\gene-expression-cancer-prediction\\rna_seq\\f3746445-b2d0-4455-a6c0-46562188c056\\d89a84a4-4f45-4aab-ab6a-131bf3b359bd.rna_seq.augmented_star_gene_counts.tsv\n",
      "Processing sample: d89a84a4-4f45-4aab-ab6a-131bf3b359bd.rna_seq.augmented_star_gene_counts\n"
     ]
    },
    {
     "name": "stderr",
     "output_type": "stream",
     "text": [
      "C:\\Users\\PC\\AppData\\Local\\Temp\\ipykernel_4980\\1846137033.py:69: SettingWithCopyWarning: \n",
      "A value is trying to be set on a copy of a slice from a DataFrame.\n",
      "Try using .loc[row_indexer,col_indexer] = value instead\n",
      "\n",
      "See the caveats in the documentation: https://pandas.pydata.org/pandas-docs/stable/user_guide/indexing.html#returning-a-view-versus-a-copy\n",
      "  df_clean['sample_id'] = sample_id\n"
     ]
    },
    {
     "name": "stdout",
     "output_type": "stream",
     "text": [
      "Finished processing sample: d89a84a4-4f45-4aab-ab6a-131bf3b359bd.rna_seq.augmented_star_gene_counts, shape: (60660, 10)\n",
      "Reading file: C:\\Users\\PC\\Desktop\\gene-expression-cancer-prediction\\rna_seq\\f377c267-d5eb-4542-bd0d-e87f957f3154\\eed349c6-a5ed-4543-ae8d-67b394b26c7a.rna_seq.augmented_star_gene_counts.tsv\n",
      "Processing sample: eed349c6-a5ed-4543-ae8d-67b394b26c7a.rna_seq.augmented_star_gene_counts\n"
     ]
    },
    {
     "name": "stderr",
     "output_type": "stream",
     "text": [
      "C:\\Users\\PC\\AppData\\Local\\Temp\\ipykernel_4980\\1846137033.py:69: SettingWithCopyWarning: \n",
      "A value is trying to be set on a copy of a slice from a DataFrame.\n",
      "Try using .loc[row_indexer,col_indexer] = value instead\n",
      "\n",
      "See the caveats in the documentation: https://pandas.pydata.org/pandas-docs/stable/user_guide/indexing.html#returning-a-view-versus-a-copy\n",
      "  df_clean['sample_id'] = sample_id\n",
      "C:\\Users\\PC\\AppData\\Local\\Temp\\ipykernel_4980\\1846137033.py:69: SettingWithCopyWarning: \n",
      "A value is trying to be set on a copy of a slice from a DataFrame.\n",
      "Try using .loc[row_indexer,col_indexer] = value instead\n",
      "\n",
      "See the caveats in the documentation: https://pandas.pydata.org/pandas-docs/stable/user_guide/indexing.html#returning-a-view-versus-a-copy\n",
      "  df_clean['sample_id'] = sample_id\n"
     ]
    },
    {
     "name": "stdout",
     "output_type": "stream",
     "text": [
      "Finished processing sample: eed349c6-a5ed-4543-ae8d-67b394b26c7a.rna_seq.augmented_star_gene_counts, shape: (60660, 10)\n",
      "Reading file: C:\\Users\\PC\\Desktop\\gene-expression-cancer-prediction\\rna_seq\\f3d5f550-311d-4c59-8576-81fde80db315\\1990cbfd-497e-4fcb-ad10-251e410c0d29.rna_seq.augmented_star_gene_counts.tsv\n",
      "Processing sample: 1990cbfd-497e-4fcb-ad10-251e410c0d29.rna_seq.augmented_star_gene_counts\n",
      "Finished processing sample: 1990cbfd-497e-4fcb-ad10-251e410c0d29.rna_seq.augmented_star_gene_counts, shape: (60660, 10)\n",
      "Reading file: C:\\Users\\PC\\Desktop\\gene-expression-cancer-prediction\\rna_seq\\f43b97fd-8953-4a5e-bafb-eb572145abe3\\866770c0-c4f1-4ed3-aa96-7ff4f7328323.rna_seq.augmented_star_gene_counts.tsv\n",
      "Processing sample: 866770c0-c4f1-4ed3-aa96-7ff4f7328323.rna_seq.augmented_star_gene_counts\n"
     ]
    },
    {
     "name": "stderr",
     "output_type": "stream",
     "text": [
      "C:\\Users\\PC\\AppData\\Local\\Temp\\ipykernel_4980\\1846137033.py:69: SettingWithCopyWarning: \n",
      "A value is trying to be set on a copy of a slice from a DataFrame.\n",
      "Try using .loc[row_indexer,col_indexer] = value instead\n",
      "\n",
      "See the caveats in the documentation: https://pandas.pydata.org/pandas-docs/stable/user_guide/indexing.html#returning-a-view-versus-a-copy\n",
      "  df_clean['sample_id'] = sample_id\n",
      "C:\\Users\\PC\\AppData\\Local\\Temp\\ipykernel_4980\\1846137033.py:69: SettingWithCopyWarning: \n",
      "A value is trying to be set on a copy of a slice from a DataFrame.\n",
      "Try using .loc[row_indexer,col_indexer] = value instead\n",
      "\n",
      "See the caveats in the documentation: https://pandas.pydata.org/pandas-docs/stable/user_guide/indexing.html#returning-a-view-versus-a-copy\n",
      "  df_clean['sample_id'] = sample_id\n"
     ]
    },
    {
     "name": "stdout",
     "output_type": "stream",
     "text": [
      "Finished processing sample: 866770c0-c4f1-4ed3-aa96-7ff4f7328323.rna_seq.augmented_star_gene_counts, shape: (60660, 10)\n",
      "Reading file: C:\\Users\\PC\\Desktop\\gene-expression-cancer-prediction\\rna_seq\\f502949f-ca10-4617-a7ee-b8f142f7ec93\\3099b2a6-0d46-4404-88b0-a3689b019c38.rna_seq.augmented_star_gene_counts.tsv\n",
      "Processing sample: 3099b2a6-0d46-4404-88b0-a3689b019c38.rna_seq.augmented_star_gene_counts\n",
      "Finished processing sample: 3099b2a6-0d46-4404-88b0-a3689b019c38.rna_seq.augmented_star_gene_counts, shape: (60660, 10)\n",
      "Reading file: C:\\Users\\PC\\Desktop\\gene-expression-cancer-prediction\\rna_seq\\f55eb7a0-34e6-4d0d-9427-7d7896ddf060\\8a7a2dda-c92e-425c-9c18-5f50aaeba203.rna_seq.augmented_star_gene_counts.tsv\n",
      "Processing sample: 8a7a2dda-c92e-425c-9c18-5f50aaeba203.rna_seq.augmented_star_gene_counts\n",
      "Finished processing sample: 8a7a2dda-c92e-425c-9c18-5f50aaeba203.rna_seq.augmented_star_gene_counts, shape: (60660, 10)\n",
      "Reading file: C:\\Users\\PC\\Desktop\\gene-expression-cancer-prediction\\rna_seq\\f6392b6f-24d9-4768-8269-c7c647f8ff8c\\0e062eef-29b8-4622-afd9-0d3f0d1c37d6.rna_seq.augmented_star_gene_counts.tsv\n",
      "Processing sample: 0e062eef-29b8-4622-afd9-0d3f0d1c37d6.rna_seq.augmented_star_gene_counts\n"
     ]
    },
    {
     "name": "stderr",
     "output_type": "stream",
     "text": [
      "C:\\Users\\PC\\AppData\\Local\\Temp\\ipykernel_4980\\1846137033.py:69: SettingWithCopyWarning: \n",
      "A value is trying to be set on a copy of a slice from a DataFrame.\n",
      "Try using .loc[row_indexer,col_indexer] = value instead\n",
      "\n",
      "See the caveats in the documentation: https://pandas.pydata.org/pandas-docs/stable/user_guide/indexing.html#returning-a-view-versus-a-copy\n",
      "  df_clean['sample_id'] = sample_id\n",
      "C:\\Users\\PC\\AppData\\Local\\Temp\\ipykernel_4980\\1846137033.py:69: SettingWithCopyWarning: \n",
      "A value is trying to be set on a copy of a slice from a DataFrame.\n",
      "Try using .loc[row_indexer,col_indexer] = value instead\n",
      "\n",
      "See the caveats in the documentation: https://pandas.pydata.org/pandas-docs/stable/user_guide/indexing.html#returning-a-view-versus-a-copy\n",
      "  df_clean['sample_id'] = sample_id\n"
     ]
    },
    {
     "name": "stdout",
     "output_type": "stream",
     "text": [
      "Finished processing sample: 0e062eef-29b8-4622-afd9-0d3f0d1c37d6.rna_seq.augmented_star_gene_counts, shape: (60660, 10)\n",
      "Reading file: C:\\Users\\PC\\Desktop\\gene-expression-cancer-prediction\\rna_seq\\f6565f25-4317-4615-a437-af79da929ecd\\8643d0bc-0acb-4d6e-b6bd-5a997d2fc39d.rna_seq.augmented_star_gene_counts.tsv\n",
      "Processing sample: 8643d0bc-0acb-4d6e-b6bd-5a997d2fc39d.rna_seq.augmented_star_gene_counts\n",
      "Finished processing sample: 8643d0bc-0acb-4d6e-b6bd-5a997d2fc39d.rna_seq.augmented_star_gene_counts, shape: (60660, 10)\n",
      "Reading file: C:\\Users\\PC\\Desktop\\gene-expression-cancer-prediction\\rna_seq\\f69ca0e5-201f-4066-81a5-c5b9c8a5012c\\23b39087-8003-4e5b-a1f8-b50b0919bcca.rna_seq.augmented_star_gene_counts.tsv\n",
      "Processing sample: 23b39087-8003-4e5b-a1f8-b50b0919bcca.rna_seq.augmented_star_gene_counts\n"
     ]
    },
    {
     "name": "stderr",
     "output_type": "stream",
     "text": [
      "C:\\Users\\PC\\AppData\\Local\\Temp\\ipykernel_4980\\1846137033.py:69: SettingWithCopyWarning: \n",
      "A value is trying to be set on a copy of a slice from a DataFrame.\n",
      "Try using .loc[row_indexer,col_indexer] = value instead\n",
      "\n",
      "See the caveats in the documentation: https://pandas.pydata.org/pandas-docs/stable/user_guide/indexing.html#returning-a-view-versus-a-copy\n",
      "  df_clean['sample_id'] = sample_id\n",
      "C:\\Users\\PC\\AppData\\Local\\Temp\\ipykernel_4980\\1846137033.py:69: SettingWithCopyWarning: \n",
      "A value is trying to be set on a copy of a slice from a DataFrame.\n",
      "Try using .loc[row_indexer,col_indexer] = value instead\n",
      "\n",
      "See the caveats in the documentation: https://pandas.pydata.org/pandas-docs/stable/user_guide/indexing.html#returning-a-view-versus-a-copy\n",
      "  df_clean['sample_id'] = sample_id\n"
     ]
    },
    {
     "name": "stdout",
     "output_type": "stream",
     "text": [
      "Finished processing sample: 23b39087-8003-4e5b-a1f8-b50b0919bcca.rna_seq.augmented_star_gene_counts, shape: (60660, 10)\n",
      "Reading file: C:\\Users\\PC\\Desktop\\gene-expression-cancer-prediction\\rna_seq\\f6cb208f-cc43-4245-8392-dc5ada57bb9b\\ca8b34fa-ab70-42c1-8e81-8b28ba1a8f3a.rna_seq.augmented_star_gene_counts.tsv\n",
      "Processing sample: ca8b34fa-ab70-42c1-8e81-8b28ba1a8f3a.rna_seq.augmented_star_gene_counts\n",
      "Finished processing sample: ca8b34fa-ab70-42c1-8e81-8b28ba1a8f3a.rna_seq.augmented_star_gene_counts, shape: (60660, 10)\n",
      "Reading file: C:\\Users\\PC\\Desktop\\gene-expression-cancer-prediction\\rna_seq\\f7a47166-9593-4a37-b95a-2de86b6d65c9\\511ced4c-a861-4f26-9e29-afcf8d603fab.rna_seq.augmented_star_gene_counts.tsv\n",
      "Processing sample: 511ced4c-a861-4f26-9e29-afcf8d603fab.rna_seq.augmented_star_gene_counts\n"
     ]
    },
    {
     "name": "stderr",
     "output_type": "stream",
     "text": [
      "C:\\Users\\PC\\AppData\\Local\\Temp\\ipykernel_4980\\1846137033.py:69: SettingWithCopyWarning: \n",
      "A value is trying to be set on a copy of a slice from a DataFrame.\n",
      "Try using .loc[row_indexer,col_indexer] = value instead\n",
      "\n",
      "See the caveats in the documentation: https://pandas.pydata.org/pandas-docs/stable/user_guide/indexing.html#returning-a-view-versus-a-copy\n",
      "  df_clean['sample_id'] = sample_id\n",
      "C:\\Users\\PC\\AppData\\Local\\Temp\\ipykernel_4980\\1846137033.py:69: SettingWithCopyWarning: \n",
      "A value is trying to be set on a copy of a slice from a DataFrame.\n",
      "Try using .loc[row_indexer,col_indexer] = value instead\n",
      "\n",
      "See the caveats in the documentation: https://pandas.pydata.org/pandas-docs/stable/user_guide/indexing.html#returning-a-view-versus-a-copy\n",
      "  df_clean['sample_id'] = sample_id\n"
     ]
    },
    {
     "name": "stdout",
     "output_type": "stream",
     "text": [
      "Finished processing sample: 511ced4c-a861-4f26-9e29-afcf8d603fab.rna_seq.augmented_star_gene_counts, shape: (60660, 10)\n",
      "Reading file: C:\\Users\\PC\\Desktop\\gene-expression-cancer-prediction\\rna_seq\\f88ba6a1-27bf-43fa-a2c7-05db1eb9e8ea\\cfba3fd3-4d84-46e6-9c12-8bf8481b35aa.rna_seq.augmented_star_gene_counts.tsv\n",
      "Processing sample: cfba3fd3-4d84-46e6-9c12-8bf8481b35aa.rna_seq.augmented_star_gene_counts\n",
      "Finished processing sample: cfba3fd3-4d84-46e6-9c12-8bf8481b35aa.rna_seq.augmented_star_gene_counts, shape: (60660, 10)\n",
      "Reading file: C:\\Users\\PC\\Desktop\\gene-expression-cancer-prediction\\rna_seq\\f8b403a1-37cf-4acb-b5d7-b3437fafa7f8\\5e4626c1-dcf9-4781-a2e7-f6afca7e2ee7.rna_seq.augmented_star_gene_counts.tsv\n",
      "Processing sample: 5e4626c1-dcf9-4781-a2e7-f6afca7e2ee7.rna_seq.augmented_star_gene_counts\n"
     ]
    },
    {
     "name": "stderr",
     "output_type": "stream",
     "text": [
      "C:\\Users\\PC\\AppData\\Local\\Temp\\ipykernel_4980\\1846137033.py:69: SettingWithCopyWarning: \n",
      "A value is trying to be set on a copy of a slice from a DataFrame.\n",
      "Try using .loc[row_indexer,col_indexer] = value instead\n",
      "\n",
      "See the caveats in the documentation: https://pandas.pydata.org/pandas-docs/stable/user_guide/indexing.html#returning-a-view-versus-a-copy\n",
      "  df_clean['sample_id'] = sample_id\n",
      "C:\\Users\\PC\\AppData\\Local\\Temp\\ipykernel_4980\\1846137033.py:69: SettingWithCopyWarning: \n",
      "A value is trying to be set on a copy of a slice from a DataFrame.\n",
      "Try using .loc[row_indexer,col_indexer] = value instead\n",
      "\n",
      "See the caveats in the documentation: https://pandas.pydata.org/pandas-docs/stable/user_guide/indexing.html#returning-a-view-versus-a-copy\n",
      "  df_clean['sample_id'] = sample_id\n"
     ]
    },
    {
     "name": "stdout",
     "output_type": "stream",
     "text": [
      "Finished processing sample: 5e4626c1-dcf9-4781-a2e7-f6afca7e2ee7.rna_seq.augmented_star_gene_counts, shape: (60660, 10)\n",
      "Reading file: C:\\Users\\PC\\Desktop\\gene-expression-cancer-prediction\\rna_seq\\f8e5691a-e24d-4dba-873e-9ffa3ca12bb6\\80de2366-cd3c-4b51-9957-06ac3e152cf0.rna_seq.augmented_star_gene_counts.tsv\n",
      "Processing sample: 80de2366-cd3c-4b51-9957-06ac3e152cf0.rna_seq.augmented_star_gene_counts\n"
     ]
    },
    {
     "name": "stderr",
     "output_type": "stream",
     "text": [
      "C:\\Users\\PC\\AppData\\Local\\Temp\\ipykernel_4980\\1846137033.py:69: SettingWithCopyWarning: \n",
      "A value is trying to be set on a copy of a slice from a DataFrame.\n",
      "Try using .loc[row_indexer,col_indexer] = value instead\n",
      "\n",
      "See the caveats in the documentation: https://pandas.pydata.org/pandas-docs/stable/user_guide/indexing.html#returning-a-view-versus-a-copy\n",
      "  df_clean['sample_id'] = sample_id\n"
     ]
    },
    {
     "name": "stdout",
     "output_type": "stream",
     "text": [
      "Finished processing sample: 80de2366-cd3c-4b51-9957-06ac3e152cf0.rna_seq.augmented_star_gene_counts, shape: (60660, 10)\n",
      "Reading file: C:\\Users\\PC\\Desktop\\gene-expression-cancer-prediction\\rna_seq\\f90e51cb-b862-4a76-acb0-cc882bfb4ee6\\22aac1ce-7a45-481b-b3f6-6393deeadcd6.rna_seq.augmented_star_gene_counts.tsv\n",
      "Processing sample: 22aac1ce-7a45-481b-b3f6-6393deeadcd6.rna_seq.augmented_star_gene_counts\n"
     ]
    },
    {
     "name": "stderr",
     "output_type": "stream",
     "text": [
      "C:\\Users\\PC\\AppData\\Local\\Temp\\ipykernel_4980\\1846137033.py:69: SettingWithCopyWarning: \n",
      "A value is trying to be set on a copy of a slice from a DataFrame.\n",
      "Try using .loc[row_indexer,col_indexer] = value instead\n",
      "\n",
      "See the caveats in the documentation: https://pandas.pydata.org/pandas-docs/stable/user_guide/indexing.html#returning-a-view-versus-a-copy\n",
      "  df_clean['sample_id'] = sample_id\n"
     ]
    },
    {
     "name": "stdout",
     "output_type": "stream",
     "text": [
      "Finished processing sample: 22aac1ce-7a45-481b-b3f6-6393deeadcd6.rna_seq.augmented_star_gene_counts, shape: (60660, 10)\n",
      "Reading file: C:\\Users\\PC\\Desktop\\gene-expression-cancer-prediction\\rna_seq\\f9418a79-3614-41a1-8ab0-c2b4313c6fd4\\78142fe5-7a8a-49dd-87b5-6a1e6427893e.rna_seq.augmented_star_gene_counts.tsv\n",
      "Processing sample: 78142fe5-7a8a-49dd-87b5-6a1e6427893e.rna_seq.augmented_star_gene_counts\n"
     ]
    },
    {
     "name": "stderr",
     "output_type": "stream",
     "text": [
      "C:\\Users\\PC\\AppData\\Local\\Temp\\ipykernel_4980\\1846137033.py:69: SettingWithCopyWarning: \n",
      "A value is trying to be set on a copy of a slice from a DataFrame.\n",
      "Try using .loc[row_indexer,col_indexer] = value instead\n",
      "\n",
      "See the caveats in the documentation: https://pandas.pydata.org/pandas-docs/stable/user_guide/indexing.html#returning-a-view-versus-a-copy\n",
      "  df_clean['sample_id'] = sample_id\n",
      "C:\\Users\\PC\\AppData\\Local\\Temp\\ipykernel_4980\\1846137033.py:69: SettingWithCopyWarning: \n",
      "A value is trying to be set on a copy of a slice from a DataFrame.\n",
      "Try using .loc[row_indexer,col_indexer] = value instead\n",
      "\n",
      "See the caveats in the documentation: https://pandas.pydata.org/pandas-docs/stable/user_guide/indexing.html#returning-a-view-versus-a-copy\n",
      "  df_clean['sample_id'] = sample_id\n"
     ]
    },
    {
     "name": "stdout",
     "output_type": "stream",
     "text": [
      "Finished processing sample: 78142fe5-7a8a-49dd-87b5-6a1e6427893e.rna_seq.augmented_star_gene_counts, shape: (60660, 10)\n",
      "Reading file: C:\\Users\\PC\\Desktop\\gene-expression-cancer-prediction\\rna_seq\\f94b47fb-764c-456f-946d-907a2fc154db\\f72da140-1607-4609-a6bf-ebe538667a8c.rna_seq.augmented_star_gene_counts.tsv\n",
      "Processing sample: f72da140-1607-4609-a6bf-ebe538667a8c.rna_seq.augmented_star_gene_counts\n",
      "Finished processing sample: f72da140-1607-4609-a6bf-ebe538667a8c.rna_seq.augmented_star_gene_counts, shape: (60660, 10)\n",
      "Reading file: C:\\Users\\PC\\Desktop\\gene-expression-cancer-prediction\\rna_seq\\f979b428-649b-42ac-9eae-31ff4daa7b8f\\2429f1fd-8612-4944-a405-296a52daec57.rna_seq.augmented_star_gene_counts.tsv\n",
      "Processing sample: 2429f1fd-8612-4944-a405-296a52daec57.rna_seq.augmented_star_gene_counts\n"
     ]
    },
    {
     "name": "stderr",
     "output_type": "stream",
     "text": [
      "C:\\Users\\PC\\AppData\\Local\\Temp\\ipykernel_4980\\1846137033.py:69: SettingWithCopyWarning: \n",
      "A value is trying to be set on a copy of a slice from a DataFrame.\n",
      "Try using .loc[row_indexer,col_indexer] = value instead\n",
      "\n",
      "See the caveats in the documentation: https://pandas.pydata.org/pandas-docs/stable/user_guide/indexing.html#returning-a-view-versus-a-copy\n",
      "  df_clean['sample_id'] = sample_id\n"
     ]
    },
    {
     "name": "stdout",
     "output_type": "stream",
     "text": [
      "Finished processing sample: 2429f1fd-8612-4944-a405-296a52daec57.rna_seq.augmented_star_gene_counts, shape: (60660, 10)\n",
      "Reading file: C:\\Users\\PC\\Desktop\\gene-expression-cancer-prediction\\rna_seq\\f9fe6c47-0955-432f-b402-a6dc2665e04d\\d33cdca5-78ec-4d34-be08-51efd97e8bfb.rna_seq.augmented_star_gene_counts.tsv\n",
      "Processing sample: d33cdca5-78ec-4d34-be08-51efd97e8bfb.rna_seq.augmented_star_gene_counts\n"
     ]
    },
    {
     "name": "stderr",
     "output_type": "stream",
     "text": [
      "C:\\Users\\PC\\AppData\\Local\\Temp\\ipykernel_4980\\1846137033.py:69: SettingWithCopyWarning: \n",
      "A value is trying to be set on a copy of a slice from a DataFrame.\n",
      "Try using .loc[row_indexer,col_indexer] = value instead\n",
      "\n",
      "See the caveats in the documentation: https://pandas.pydata.org/pandas-docs/stable/user_guide/indexing.html#returning-a-view-versus-a-copy\n",
      "  df_clean['sample_id'] = sample_id\n",
      "C:\\Users\\PC\\AppData\\Local\\Temp\\ipykernel_4980\\1846137033.py:69: SettingWithCopyWarning: \n",
      "A value is trying to be set on a copy of a slice from a DataFrame.\n",
      "Try using .loc[row_indexer,col_indexer] = value instead\n",
      "\n",
      "See the caveats in the documentation: https://pandas.pydata.org/pandas-docs/stable/user_guide/indexing.html#returning-a-view-versus-a-copy\n",
      "  df_clean['sample_id'] = sample_id\n"
     ]
    },
    {
     "name": "stdout",
     "output_type": "stream",
     "text": [
      "Finished processing sample: d33cdca5-78ec-4d34-be08-51efd97e8bfb.rna_seq.augmented_star_gene_counts, shape: (60660, 10)\n",
      "Reading file: C:\\Users\\PC\\Desktop\\gene-expression-cancer-prediction\\rna_seq\\fa48dda4-5b65-44fa-b0c3-b02d53d928c5\\7830107d-bc45-4391-b95c-787a246cf059.rna_seq.augmented_star_gene_counts.tsv\n",
      "Processing sample: 7830107d-bc45-4391-b95c-787a246cf059.rna_seq.augmented_star_gene_counts\n",
      "Finished processing sample: 7830107d-bc45-4391-b95c-787a246cf059.rna_seq.augmented_star_gene_counts, shape: (60660, 10)\n",
      "Reading file: C:\\Users\\PC\\Desktop\\gene-expression-cancer-prediction\\rna_seq\\fad07753-c9c6-4eba-8f43-09740bff6d69\\4e3fbf45-1a73-437b-8d85-29aa0c8ac6b0.rna_seq.augmented_star_gene_counts.tsv\n",
      "Processing sample: 4e3fbf45-1a73-437b-8d85-29aa0c8ac6b0.rna_seq.augmented_star_gene_counts\n"
     ]
    },
    {
     "name": "stderr",
     "output_type": "stream",
     "text": [
      "C:\\Users\\PC\\AppData\\Local\\Temp\\ipykernel_4980\\1846137033.py:69: SettingWithCopyWarning: \n",
      "A value is trying to be set on a copy of a slice from a DataFrame.\n",
      "Try using .loc[row_indexer,col_indexer] = value instead\n",
      "\n",
      "See the caveats in the documentation: https://pandas.pydata.org/pandas-docs/stable/user_guide/indexing.html#returning-a-view-versus-a-copy\n",
      "  df_clean['sample_id'] = sample_id\n"
     ]
    },
    {
     "name": "stdout",
     "output_type": "stream",
     "text": [
      "Finished processing sample: 4e3fbf45-1a73-437b-8d85-29aa0c8ac6b0.rna_seq.augmented_star_gene_counts, shape: (60660, 10)\n",
      "Reading file: C:\\Users\\PC\\Desktop\\gene-expression-cancer-prediction\\rna_seq\\fae4edd8-db77-4937-94c4-3b16d39fb8c9\\aa3cbc51-b74d-44b1-9043-cb2b9855a72b.rna_seq.augmented_star_gene_counts.tsv\n",
      "Processing sample: aa3cbc51-b74d-44b1-9043-cb2b9855a72b.rna_seq.augmented_star_gene_counts\n"
     ]
    },
    {
     "name": "stderr",
     "output_type": "stream",
     "text": [
      "C:\\Users\\PC\\AppData\\Local\\Temp\\ipykernel_4980\\1846137033.py:69: SettingWithCopyWarning: \n",
      "A value is trying to be set on a copy of a slice from a DataFrame.\n",
      "Try using .loc[row_indexer,col_indexer] = value instead\n",
      "\n",
      "See the caveats in the documentation: https://pandas.pydata.org/pandas-docs/stable/user_guide/indexing.html#returning-a-view-versus-a-copy\n",
      "  df_clean['sample_id'] = sample_id\n",
      "C:\\Users\\PC\\AppData\\Local\\Temp\\ipykernel_4980\\1846137033.py:69: SettingWithCopyWarning: \n",
      "A value is trying to be set on a copy of a slice from a DataFrame.\n",
      "Try using .loc[row_indexer,col_indexer] = value instead\n",
      "\n",
      "See the caveats in the documentation: https://pandas.pydata.org/pandas-docs/stable/user_guide/indexing.html#returning-a-view-versus-a-copy\n",
      "  df_clean['sample_id'] = sample_id\n"
     ]
    },
    {
     "name": "stdout",
     "output_type": "stream",
     "text": [
      "Finished processing sample: aa3cbc51-b74d-44b1-9043-cb2b9855a72b.rna_seq.augmented_star_gene_counts, shape: (60660, 10)\n",
      "Reading file: C:\\Users\\PC\\Desktop\\gene-expression-cancer-prediction\\rna_seq\\fb32f0b1-4fb7-43d5-8091-dc13a1f6d9e8\\1d468785-141d-40ca-acb1-d6d85a8c9d7b.rna_seq.augmented_star_gene_counts.tsv\n",
      "Processing sample: 1d468785-141d-40ca-acb1-d6d85a8c9d7b.rna_seq.augmented_star_gene_counts\n",
      "Finished processing sample: 1d468785-141d-40ca-acb1-d6d85a8c9d7b.rna_seq.augmented_star_gene_counts, shape: (60660, 10)\n",
      "Reading file: C:\\Users\\PC\\Desktop\\gene-expression-cancer-prediction\\rna_seq\\fb397586-1b5b-40e0-a885-8663f9c76f6d\\706fb35c-d467-4f93-b5ea-0cd841533655.rna_seq.augmented_star_gene_counts.tsv\n",
      "Processing sample: 706fb35c-d467-4f93-b5ea-0cd841533655.rna_seq.augmented_star_gene_counts\n"
     ]
    },
    {
     "name": "stderr",
     "output_type": "stream",
     "text": [
      "C:\\Users\\PC\\AppData\\Local\\Temp\\ipykernel_4980\\1846137033.py:69: SettingWithCopyWarning: \n",
      "A value is trying to be set on a copy of a slice from a DataFrame.\n",
      "Try using .loc[row_indexer,col_indexer] = value instead\n",
      "\n",
      "See the caveats in the documentation: https://pandas.pydata.org/pandas-docs/stable/user_guide/indexing.html#returning-a-view-versus-a-copy\n",
      "  df_clean['sample_id'] = sample_id\n",
      "C:\\Users\\PC\\AppData\\Local\\Temp\\ipykernel_4980\\1846137033.py:69: SettingWithCopyWarning: \n",
      "A value is trying to be set on a copy of a slice from a DataFrame.\n",
      "Try using .loc[row_indexer,col_indexer] = value instead\n",
      "\n",
      "See the caveats in the documentation: https://pandas.pydata.org/pandas-docs/stable/user_guide/indexing.html#returning-a-view-versus-a-copy\n",
      "  df_clean['sample_id'] = sample_id\n"
     ]
    },
    {
     "name": "stdout",
     "output_type": "stream",
     "text": [
      "Finished processing sample: 706fb35c-d467-4f93-b5ea-0cd841533655.rna_seq.augmented_star_gene_counts, shape: (60660, 10)\n",
      "Reading file: C:\\Users\\PC\\Desktop\\gene-expression-cancer-prediction\\rna_seq\\fbdb3ca1-c7c8-437e-a315-25e3bc623236\\a740aa2d-a410-443f-99f4-3a123deb2f41.rna_seq.augmented_star_gene_counts.tsv\n",
      "Processing sample: a740aa2d-a410-443f-99f4-3a123deb2f41.rna_seq.augmented_star_gene_counts\n",
      "Finished processing sample: a740aa2d-a410-443f-99f4-3a123deb2f41.rna_seq.augmented_star_gene_counts, shape: (60660, 10)\n",
      "Reading file: C:\\Users\\PC\\Desktop\\gene-expression-cancer-prediction\\rna_seq\\fc0a2d23-31a3-4aab-bdd9-0abb51880043\\0e2d6467-d90b-40dc-813c-fa4f8a0f4d07.rna_seq.augmented_star_gene_counts.tsv\n",
      "Processing sample: 0e2d6467-d90b-40dc-813c-fa4f8a0f4d07.rna_seq.augmented_star_gene_counts\n"
     ]
    },
    {
     "name": "stderr",
     "output_type": "stream",
     "text": [
      "C:\\Users\\PC\\AppData\\Local\\Temp\\ipykernel_4980\\1846137033.py:69: SettingWithCopyWarning: \n",
      "A value is trying to be set on a copy of a slice from a DataFrame.\n",
      "Try using .loc[row_indexer,col_indexer] = value instead\n",
      "\n",
      "See the caveats in the documentation: https://pandas.pydata.org/pandas-docs/stable/user_guide/indexing.html#returning-a-view-versus-a-copy\n",
      "  df_clean['sample_id'] = sample_id\n",
      "C:\\Users\\PC\\AppData\\Local\\Temp\\ipykernel_4980\\1846137033.py:69: SettingWithCopyWarning: \n",
      "A value is trying to be set on a copy of a slice from a DataFrame.\n",
      "Try using .loc[row_indexer,col_indexer] = value instead\n",
      "\n",
      "See the caveats in the documentation: https://pandas.pydata.org/pandas-docs/stable/user_guide/indexing.html#returning-a-view-versus-a-copy\n",
      "  df_clean['sample_id'] = sample_id\n"
     ]
    },
    {
     "name": "stdout",
     "output_type": "stream",
     "text": [
      "Finished processing sample: 0e2d6467-d90b-40dc-813c-fa4f8a0f4d07.rna_seq.augmented_star_gene_counts, shape: (60660, 10)\n",
      "Reading file: C:\\Users\\PC\\Desktop\\gene-expression-cancer-prediction\\rna_seq\\fc0e74d2-ab94-48b1-8e31-808bde7a3fe6\\3f3b6a7b-94f0-40a3-9f16-32bab2854678.rna_seq.augmented_star_gene_counts.tsv\n",
      "Processing sample: 3f3b6a7b-94f0-40a3-9f16-32bab2854678.rna_seq.augmented_star_gene_counts\n",
      "Finished processing sample: 3f3b6a7b-94f0-40a3-9f16-32bab2854678.rna_seq.augmented_star_gene_counts, shape: (60660, 10)\n",
      "Reading file: C:\\Users\\PC\\Desktop\\gene-expression-cancer-prediction\\rna_seq\\fc1ea7f7-814a-43c5-a841-fb0c11734603\\10ce58cf-c9ee-4be2-899d-4c20c788effc.rna_seq.augmented_star_gene_counts.tsv\n",
      "Processing sample: 10ce58cf-c9ee-4be2-899d-4c20c788effc.rna_seq.augmented_star_gene_counts\n"
     ]
    },
    {
     "name": "stderr",
     "output_type": "stream",
     "text": [
      "C:\\Users\\PC\\AppData\\Local\\Temp\\ipykernel_4980\\1846137033.py:69: SettingWithCopyWarning: \n",
      "A value is trying to be set on a copy of a slice from a DataFrame.\n",
      "Try using .loc[row_indexer,col_indexer] = value instead\n",
      "\n",
      "See the caveats in the documentation: https://pandas.pydata.org/pandas-docs/stable/user_guide/indexing.html#returning-a-view-versus-a-copy\n",
      "  df_clean['sample_id'] = sample_id\n",
      "C:\\Users\\PC\\AppData\\Local\\Temp\\ipykernel_4980\\1846137033.py:69: SettingWithCopyWarning: \n",
      "A value is trying to be set on a copy of a slice from a DataFrame.\n",
      "Try using .loc[row_indexer,col_indexer] = value instead\n",
      "\n",
      "See the caveats in the documentation: https://pandas.pydata.org/pandas-docs/stable/user_guide/indexing.html#returning-a-view-versus-a-copy\n",
      "  df_clean['sample_id'] = sample_id\n"
     ]
    },
    {
     "name": "stdout",
     "output_type": "stream",
     "text": [
      "Finished processing sample: 10ce58cf-c9ee-4be2-899d-4c20c788effc.rna_seq.augmented_star_gene_counts, shape: (60660, 10)\n",
      "Reading file: C:\\Users\\PC\\Desktop\\gene-expression-cancer-prediction\\rna_seq\\fc203d80-6254-402c-8c8b-a5500bfa909e\\f4cecad7-2cca-4990-9d88-115b6b201cc5.rna_seq.augmented_star_gene_counts.tsv\n",
      "Processing sample: f4cecad7-2cca-4990-9d88-115b6b201cc5.rna_seq.augmented_star_gene_counts\n",
      "Finished processing sample: f4cecad7-2cca-4990-9d88-115b6b201cc5.rna_seq.augmented_star_gene_counts, shape: (60660, 10)\n",
      "Reading file: C:\\Users\\PC\\Desktop\\gene-expression-cancer-prediction\\rna_seq\\fc9fab5b-52f0-4c79-bdf3-750c650a0fdc\\ea43014e-5b51-4b3c-b16b-6d58df9f4a1d.rna_seq.augmented_star_gene_counts.tsv\n",
      "Processing sample: ea43014e-5b51-4b3c-b16b-6d58df9f4a1d.rna_seq.augmented_star_gene_counts\n"
     ]
    },
    {
     "name": "stderr",
     "output_type": "stream",
     "text": [
      "C:\\Users\\PC\\AppData\\Local\\Temp\\ipykernel_4980\\1846137033.py:69: SettingWithCopyWarning: \n",
      "A value is trying to be set on a copy of a slice from a DataFrame.\n",
      "Try using .loc[row_indexer,col_indexer] = value instead\n",
      "\n",
      "See the caveats in the documentation: https://pandas.pydata.org/pandas-docs/stable/user_guide/indexing.html#returning-a-view-versus-a-copy\n",
      "  df_clean['sample_id'] = sample_id\n",
      "C:\\Users\\PC\\AppData\\Local\\Temp\\ipykernel_4980\\1846137033.py:69: SettingWithCopyWarning: \n",
      "A value is trying to be set on a copy of a slice from a DataFrame.\n",
      "Try using .loc[row_indexer,col_indexer] = value instead\n",
      "\n",
      "See the caveats in the documentation: https://pandas.pydata.org/pandas-docs/stable/user_guide/indexing.html#returning-a-view-versus-a-copy\n",
      "  df_clean['sample_id'] = sample_id\n"
     ]
    },
    {
     "name": "stdout",
     "output_type": "stream",
     "text": [
      "Finished processing sample: ea43014e-5b51-4b3c-b16b-6d58df9f4a1d.rna_seq.augmented_star_gene_counts, shape: (60660, 10)\n",
      "Reading file: C:\\Users\\PC\\Desktop\\gene-expression-cancer-prediction\\rna_seq\\fcb1b40a-85c0-498c-881e-7161edcf39e6\\fd98106a-a2c6-4f23-86f5-66436c2501e5.rna_seq.augmented_star_gene_counts.tsv\n",
      "Processing sample: fd98106a-a2c6-4f23-86f5-66436c2501e5.rna_seq.augmented_star_gene_counts\n",
      "Finished processing sample: fd98106a-a2c6-4f23-86f5-66436c2501e5.rna_seq.augmented_star_gene_counts, shape: (60660, 10)\n",
      "Reading file: C:\\Users\\PC\\Desktop\\gene-expression-cancer-prediction\\rna_seq\\fd121fe6-7529-4a92-a324-2186622180b3\\5c66dcbd-024b-4a7b-b3aa-bbbaaf91ae78.rna_seq.augmented_star_gene_counts.tsv\n",
      "Processing sample: 5c66dcbd-024b-4a7b-b3aa-bbbaaf91ae78.rna_seq.augmented_star_gene_counts\n"
     ]
    },
    {
     "name": "stderr",
     "output_type": "stream",
     "text": [
      "C:\\Users\\PC\\AppData\\Local\\Temp\\ipykernel_4980\\1846137033.py:69: SettingWithCopyWarning: \n",
      "A value is trying to be set on a copy of a slice from a DataFrame.\n",
      "Try using .loc[row_indexer,col_indexer] = value instead\n",
      "\n",
      "See the caveats in the documentation: https://pandas.pydata.org/pandas-docs/stable/user_guide/indexing.html#returning-a-view-versus-a-copy\n",
      "  df_clean['sample_id'] = sample_id\n",
      "C:\\Users\\PC\\AppData\\Local\\Temp\\ipykernel_4980\\1846137033.py:69: SettingWithCopyWarning: \n",
      "A value is trying to be set on a copy of a slice from a DataFrame.\n",
      "Try using .loc[row_indexer,col_indexer] = value instead\n",
      "\n",
      "See the caveats in the documentation: https://pandas.pydata.org/pandas-docs/stable/user_guide/indexing.html#returning-a-view-versus-a-copy\n",
      "  df_clean['sample_id'] = sample_id\n"
     ]
    },
    {
     "name": "stdout",
     "output_type": "stream",
     "text": [
      "Finished processing sample: 5c66dcbd-024b-4a7b-b3aa-bbbaaf91ae78.rna_seq.augmented_star_gene_counts, shape: (60660, 10)\n",
      "Reading file: C:\\Users\\PC\\Desktop\\gene-expression-cancer-prediction\\rna_seq\\fd371070-c312-4eca-b3da-d41b1c8a86a7\\47e6db9a-52b4-4a3b-8c5f-1cb8fa48f7ea.rna_seq.augmented_star_gene_counts.tsv\n",
      "Processing sample: 47e6db9a-52b4-4a3b-8c5f-1cb8fa48f7ea.rna_seq.augmented_star_gene_counts\n",
      "Finished processing sample: 47e6db9a-52b4-4a3b-8c5f-1cb8fa48f7ea.rna_seq.augmented_star_gene_counts, shape: (60660, 10)\n",
      "Reading file: C:\\Users\\PC\\Desktop\\gene-expression-cancer-prediction\\rna_seq\\fd7a6cfc-0ebe-4b79-b93d-d70b9bf533bc\\8997a81b-4046-4c31-91f6-7c1519f1d2ec.rna_seq.augmented_star_gene_counts.tsv\n",
      "Processing sample: 8997a81b-4046-4c31-91f6-7c1519f1d2ec.rna_seq.augmented_star_gene_counts\n"
     ]
    },
    {
     "name": "stderr",
     "output_type": "stream",
     "text": [
      "C:\\Users\\PC\\AppData\\Local\\Temp\\ipykernel_4980\\1846137033.py:69: SettingWithCopyWarning: \n",
      "A value is trying to be set on a copy of a slice from a DataFrame.\n",
      "Try using .loc[row_indexer,col_indexer] = value instead\n",
      "\n",
      "See the caveats in the documentation: https://pandas.pydata.org/pandas-docs/stable/user_guide/indexing.html#returning-a-view-versus-a-copy\n",
      "  df_clean['sample_id'] = sample_id\n",
      "C:\\Users\\PC\\AppData\\Local\\Temp\\ipykernel_4980\\1846137033.py:69: SettingWithCopyWarning: \n",
      "A value is trying to be set on a copy of a slice from a DataFrame.\n",
      "Try using .loc[row_indexer,col_indexer] = value instead\n",
      "\n",
      "See the caveats in the documentation: https://pandas.pydata.org/pandas-docs/stable/user_guide/indexing.html#returning-a-view-versus-a-copy\n",
      "  df_clean['sample_id'] = sample_id\n"
     ]
    },
    {
     "name": "stdout",
     "output_type": "stream",
     "text": [
      "Finished processing sample: 8997a81b-4046-4c31-91f6-7c1519f1d2ec.rna_seq.augmented_star_gene_counts, shape: (60660, 10)\n",
      "Reading file: C:\\Users\\PC\\Desktop\\gene-expression-cancer-prediction\\rna_seq\\fdd73b76-517e-4554-ba4d-1c67b1b758f8\\fc5b682e-c00d-4840-8c11-f17abe059fa8.rna_seq.augmented_star_gene_counts.tsv\n",
      "Processing sample: fc5b682e-c00d-4840-8c11-f17abe059fa8.rna_seq.augmented_star_gene_counts\n",
      "Finished processing sample: fc5b682e-c00d-4840-8c11-f17abe059fa8.rna_seq.augmented_star_gene_counts, shape: (60660, 10)\n",
      "Reading file: C:\\Users\\PC\\Desktop\\gene-expression-cancer-prediction\\rna_seq\\fde3b574-b9be-4dc2-a5ae-aaab8a0bbd26\\ca9d1ab5-ea78-46f4-9225-8147639d013c.rna_seq.augmented_star_gene_counts.tsv\n",
      "Processing sample: ca9d1ab5-ea78-46f4-9225-8147639d013c.rna_seq.augmented_star_gene_counts\n"
     ]
    },
    {
     "name": "stderr",
     "output_type": "stream",
     "text": [
      "C:\\Users\\PC\\AppData\\Local\\Temp\\ipykernel_4980\\1846137033.py:69: SettingWithCopyWarning: \n",
      "A value is trying to be set on a copy of a slice from a DataFrame.\n",
      "Try using .loc[row_indexer,col_indexer] = value instead\n",
      "\n",
      "See the caveats in the documentation: https://pandas.pydata.org/pandas-docs/stable/user_guide/indexing.html#returning-a-view-versus-a-copy\n",
      "  df_clean['sample_id'] = sample_id\n",
      "C:\\Users\\PC\\AppData\\Local\\Temp\\ipykernel_4980\\1846137033.py:69: SettingWithCopyWarning: \n",
      "A value is trying to be set on a copy of a slice from a DataFrame.\n",
      "Try using .loc[row_indexer,col_indexer] = value instead\n",
      "\n",
      "See the caveats in the documentation: https://pandas.pydata.org/pandas-docs/stable/user_guide/indexing.html#returning-a-view-versus-a-copy\n",
      "  df_clean['sample_id'] = sample_id\n"
     ]
    },
    {
     "name": "stdout",
     "output_type": "stream",
     "text": [
      "Finished processing sample: ca9d1ab5-ea78-46f4-9225-8147639d013c.rna_seq.augmented_star_gene_counts, shape: (60660, 10)\n",
      "Reading file: C:\\Users\\PC\\Desktop\\gene-expression-cancer-prediction\\rna_seq\\fe7c2cdd-7c3f-4d76-ad78-2a676116f464\\97a50d88-e662-43d5-9cef-2915545e8968.rna_seq.augmented_star_gene_counts.tsv\n",
      "Processing sample: 97a50d88-e662-43d5-9cef-2915545e8968.rna_seq.augmented_star_gene_counts\n",
      "Finished processing sample: 97a50d88-e662-43d5-9cef-2915545e8968.rna_seq.augmented_star_gene_counts, shape: (60660, 10)\n",
      "Reading file: C:\\Users\\PC\\Desktop\\gene-expression-cancer-prediction\\rna_seq\\fecd341d-a370-4092-be40-e07fc44500e5\\fe00aecb-7b06-4e76-b999-99ee41ad20ea.rna_seq.augmented_star_gene_counts.tsv\n",
      "Processing sample: fe00aecb-7b06-4e76-b999-99ee41ad20ea.rna_seq.augmented_star_gene_counts\n"
     ]
    },
    {
     "name": "stderr",
     "output_type": "stream",
     "text": [
      "C:\\Users\\PC\\AppData\\Local\\Temp\\ipykernel_4980\\1846137033.py:69: SettingWithCopyWarning: \n",
      "A value is trying to be set on a copy of a slice from a DataFrame.\n",
      "Try using .loc[row_indexer,col_indexer] = value instead\n",
      "\n",
      "See the caveats in the documentation: https://pandas.pydata.org/pandas-docs/stable/user_guide/indexing.html#returning-a-view-versus-a-copy\n",
      "  df_clean['sample_id'] = sample_id\n"
     ]
    },
    {
     "name": "stdout",
     "output_type": "stream",
     "text": [
      "Finished processing sample: fe00aecb-7b06-4e76-b999-99ee41ad20ea.rna_seq.augmented_star_gene_counts, shape: (60660, 10)\n",
      "Reading file: C:\\Users\\PC\\Desktop\\gene-expression-cancer-prediction\\rna_seq\\fed0a382-2eee-4acc-af00-53a9fdcd2a61\\2c1b1cbb-6e9f-4416-8faa-abb31d6b4e0e.rna_seq.augmented_star_gene_counts.tsv\n",
      "Processing sample: 2c1b1cbb-6e9f-4416-8faa-abb31d6b4e0e.rna_seq.augmented_star_gene_counts\n"
     ]
    },
    {
     "name": "stderr",
     "output_type": "stream",
     "text": [
      "C:\\Users\\PC\\AppData\\Local\\Temp\\ipykernel_4980\\1846137033.py:69: SettingWithCopyWarning: \n",
      "A value is trying to be set on a copy of a slice from a DataFrame.\n",
      "Try using .loc[row_indexer,col_indexer] = value instead\n",
      "\n",
      "See the caveats in the documentation: https://pandas.pydata.org/pandas-docs/stable/user_guide/indexing.html#returning-a-view-versus-a-copy\n",
      "  df_clean['sample_id'] = sample_id\n",
      "C:\\Users\\PC\\AppData\\Local\\Temp\\ipykernel_4980\\1846137033.py:69: SettingWithCopyWarning: \n",
      "A value is trying to be set on a copy of a slice from a DataFrame.\n",
      "Try using .loc[row_indexer,col_indexer] = value instead\n",
      "\n",
      "See the caveats in the documentation: https://pandas.pydata.org/pandas-docs/stable/user_guide/indexing.html#returning-a-view-versus-a-copy\n",
      "  df_clean['sample_id'] = sample_id\n"
     ]
    },
    {
     "name": "stdout",
     "output_type": "stream",
     "text": [
      "Finished processing sample: 2c1b1cbb-6e9f-4416-8faa-abb31d6b4e0e.rna_seq.augmented_star_gene_counts, shape: (60660, 10)\n",
      "Reading file: C:\\Users\\PC\\Desktop\\gene-expression-cancer-prediction\\rna_seq\\fed5e108-cb1a-45b8-88e8-c5ea6a6bd61a\\967f7008-e212-4114-ab43-dc2a6295f80c.rna_seq.augmented_star_gene_counts.tsv\n",
      "Processing sample: 967f7008-e212-4114-ab43-dc2a6295f80c.rna_seq.augmented_star_gene_counts\n",
      "Finished processing sample: 967f7008-e212-4114-ab43-dc2a6295f80c.rna_seq.augmented_star_gene_counts, shape: (60660, 10)\n",
      "Reading file: C:\\Users\\PC\\Desktop\\gene-expression-cancer-prediction\\rna_seq\\ff1f2f31-8607-4627-b487-c5e39e7c30f5\\deb7967f-9339-4bb1-ae0b-81a72a472bba.rna_seq.augmented_star_gene_counts.tsv\n",
      "Processing sample: deb7967f-9339-4bb1-ae0b-81a72a472bba.rna_seq.augmented_star_gene_counts\n"
     ]
    },
    {
     "name": "stderr",
     "output_type": "stream",
     "text": [
      "C:\\Users\\PC\\AppData\\Local\\Temp\\ipykernel_4980\\1846137033.py:69: SettingWithCopyWarning: \n",
      "A value is trying to be set on a copy of a slice from a DataFrame.\n",
      "Try using .loc[row_indexer,col_indexer] = value instead\n",
      "\n",
      "See the caveats in the documentation: https://pandas.pydata.org/pandas-docs/stable/user_guide/indexing.html#returning-a-view-versus-a-copy\n",
      "  df_clean['sample_id'] = sample_id\n",
      "C:\\Users\\PC\\AppData\\Local\\Temp\\ipykernel_4980\\1846137033.py:69: SettingWithCopyWarning: \n",
      "A value is trying to be set on a copy of a slice from a DataFrame.\n",
      "Try using .loc[row_indexer,col_indexer] = value instead\n",
      "\n",
      "See the caveats in the documentation: https://pandas.pydata.org/pandas-docs/stable/user_guide/indexing.html#returning-a-view-versus-a-copy\n",
      "  df_clean['sample_id'] = sample_id\n"
     ]
    },
    {
     "name": "stdout",
     "output_type": "stream",
     "text": [
      "Finished processing sample: deb7967f-9339-4bb1-ae0b-81a72a472bba.rna_seq.augmented_star_gene_counts, shape: (60660, 10)\n",
      "Reading file: C:\\Users\\PC\\Desktop\\gene-expression-cancer-prediction\\rna_seq\\ff570f9a-a252-496d-a452-344063851a7b\\574d0a5f-8cb7-4783-8d5e-b07c1b3460dc.rna_seq.augmented_star_gene_counts.tsv\n",
      "Processing sample: 574d0a5f-8cb7-4783-8d5e-b07c1b3460dc.rna_seq.augmented_star_gene_counts\n",
      "Finished processing sample: 574d0a5f-8cb7-4783-8d5e-b07c1b3460dc.rna_seq.augmented_star_gene_counts, shape: (60660, 10)\n",
      "Reading file: C:\\Users\\PC\\Desktop\\gene-expression-cancer-prediction\\rna_seq\\ff5f8ada-17c5-497e-9182-63a05e3ab4c5\\64b12ba7-a481-4fdb-9c74-38c94c7ef3c9.rna_seq.augmented_star_gene_counts.tsv\n",
      "Processing sample: 64b12ba7-a481-4fdb-9c74-38c94c7ef3c9.rna_seq.augmented_star_gene_counts\n"
     ]
    },
    {
     "name": "stderr",
     "output_type": "stream",
     "text": [
      "C:\\Users\\PC\\AppData\\Local\\Temp\\ipykernel_4980\\1846137033.py:69: SettingWithCopyWarning: \n",
      "A value is trying to be set on a copy of a slice from a DataFrame.\n",
      "Try using .loc[row_indexer,col_indexer] = value instead\n",
      "\n",
      "See the caveats in the documentation: https://pandas.pydata.org/pandas-docs/stable/user_guide/indexing.html#returning-a-view-versus-a-copy\n",
      "  df_clean['sample_id'] = sample_id\n",
      "C:\\Users\\PC\\AppData\\Local\\Temp\\ipykernel_4980\\1846137033.py:69: SettingWithCopyWarning: \n",
      "A value is trying to be set on a copy of a slice from a DataFrame.\n",
      "Try using .loc[row_indexer,col_indexer] = value instead\n",
      "\n",
      "See the caveats in the documentation: https://pandas.pydata.org/pandas-docs/stable/user_guide/indexing.html#returning-a-view-versus-a-copy\n",
      "  df_clean['sample_id'] = sample_id\n"
     ]
    },
    {
     "name": "stdout",
     "output_type": "stream",
     "text": [
      "Finished processing sample: 64b12ba7-a481-4fdb-9c74-38c94c7ef3c9.rna_seq.augmented_star_gene_counts, shape: (60660, 10)\n",
      "Reading file: C:\\Users\\PC\\Desktop\\gene-expression-cancer-prediction\\rna_seq\\ffeede9a-d9a9-4836-8c56-39f12a5fde0e\\74179e5e-2d3c-417e-8844-6740ea9fb2e5.rna_seq.augmented_star_gene_counts.tsv\n",
      "Processing sample: 74179e5e-2d3c-417e-8844-6740ea9fb2e5.rna_seq.augmented_star_gene_counts\n",
      "Finished processing sample: 74179e5e-2d3c-417e-8844-6740ea9fb2e5.rna_seq.augmented_star_gene_counts, shape: (60660, 10)\n",
      "Total samples processed: 898\n",
      "Combined DataFrame shape: (54472680, 10)\n"
     ]
    },
    {
     "ename": "OSError",
     "evalue": "[Errno 28] No space left on device",
     "output_type": "error",
     "traceback": [
      "\u001b[1;31m---------------------------------------------------------------------------\u001b[0m",
      "\u001b[1;31mOSError\u001b[0m                                   Traceback (most recent call last)",
      "Cell \u001b[1;32mIn[1], line 89\u001b[0m\n\u001b[0;32m     87\u001b[0m     \u001b[38;5;66;03m# Save to file\u001b[39;00m\n\u001b[0;32m     88\u001b[0m     output_path \u001b[38;5;241m=\u001b[39m \u001b[38;5;124m\"\u001b[39m\u001b[38;5;124mcleaned_gene_expression_data1.csv\u001b[39m\u001b[38;5;124m\"\u001b[39m\n\u001b[1;32m---> 89\u001b[0m     \u001b[43mcombined_df\u001b[49m\u001b[38;5;241;43m.\u001b[39;49m\u001b[43mto_csv\u001b[49m\u001b[43m(\u001b[49m\u001b[43moutput_path\u001b[49m\u001b[43m,\u001b[49m\u001b[43m \u001b[49m\u001b[43mindex\u001b[49m\u001b[38;5;241;43m=\u001b[39;49m\u001b[38;5;28;43;01mFalse\u001b[39;49;00m\u001b[43m)\u001b[49m\n\u001b[0;32m     90\u001b[0m     \u001b[38;5;28mprint\u001b[39m(\u001b[38;5;124mf\u001b[39m\u001b[38;5;124m\"\u001b[39m\u001b[38;5;124mSaved cleaned data to \u001b[39m\u001b[38;5;132;01m{\u001b[39;00moutput_path\u001b[38;5;132;01m}\u001b[39;00m\u001b[38;5;124m\"\u001b[39m)\n\u001b[0;32m     91\u001b[0m \u001b[38;5;28;01melse\u001b[39;00m:\n",
      "File \u001b[1;32mc:\\Users\\PC\\Desktop\\BTPYTHON\\myenv\\lib\\site-packages\\pandas\\core\\generic.py:3772\u001b[0m, in \u001b[0;36mNDFrame.to_csv\u001b[1;34m(self, path_or_buf, sep, na_rep, float_format, columns, header, index, index_label, mode, encoding, compression, quoting, quotechar, lineterminator, chunksize, date_format, doublequote, escapechar, decimal, errors, storage_options)\u001b[0m\n\u001b[0;32m   3761\u001b[0m df \u001b[38;5;241m=\u001b[39m \u001b[38;5;28mself\u001b[39m \u001b[38;5;28;01mif\u001b[39;00m \u001b[38;5;28misinstance\u001b[39m(\u001b[38;5;28mself\u001b[39m, ABCDataFrame) \u001b[38;5;28;01melse\u001b[39;00m \u001b[38;5;28mself\u001b[39m\u001b[38;5;241m.\u001b[39mto_frame()\n\u001b[0;32m   3763\u001b[0m formatter \u001b[38;5;241m=\u001b[39m DataFrameFormatter(\n\u001b[0;32m   3764\u001b[0m     frame\u001b[38;5;241m=\u001b[39mdf,\n\u001b[0;32m   3765\u001b[0m     header\u001b[38;5;241m=\u001b[39mheader,\n\u001b[1;32m   (...)\u001b[0m\n\u001b[0;32m   3769\u001b[0m     decimal\u001b[38;5;241m=\u001b[39mdecimal,\n\u001b[0;32m   3770\u001b[0m )\n\u001b[1;32m-> 3772\u001b[0m \u001b[38;5;28;01mreturn\u001b[39;00m \u001b[43mDataFrameRenderer\u001b[49m\u001b[43m(\u001b[49m\u001b[43mformatter\u001b[49m\u001b[43m)\u001b[49m\u001b[38;5;241;43m.\u001b[39;49m\u001b[43mto_csv\u001b[49m\u001b[43m(\u001b[49m\n\u001b[0;32m   3773\u001b[0m \u001b[43m    \u001b[49m\u001b[43mpath_or_buf\u001b[49m\u001b[43m,\u001b[49m\n\u001b[0;32m   3774\u001b[0m \u001b[43m    \u001b[49m\u001b[43mlineterminator\u001b[49m\u001b[38;5;241;43m=\u001b[39;49m\u001b[43mlineterminator\u001b[49m\u001b[43m,\u001b[49m\n\u001b[0;32m   3775\u001b[0m \u001b[43m    \u001b[49m\u001b[43msep\u001b[49m\u001b[38;5;241;43m=\u001b[39;49m\u001b[43msep\u001b[49m\u001b[43m,\u001b[49m\n\u001b[0;32m   3776\u001b[0m \u001b[43m    \u001b[49m\u001b[43mencoding\u001b[49m\u001b[38;5;241;43m=\u001b[39;49m\u001b[43mencoding\u001b[49m\u001b[43m,\u001b[49m\n\u001b[0;32m   3777\u001b[0m \u001b[43m    \u001b[49m\u001b[43merrors\u001b[49m\u001b[38;5;241;43m=\u001b[39;49m\u001b[43merrors\u001b[49m\u001b[43m,\u001b[49m\n\u001b[0;32m   3778\u001b[0m \u001b[43m    \u001b[49m\u001b[43mcompression\u001b[49m\u001b[38;5;241;43m=\u001b[39;49m\u001b[43mcompression\u001b[49m\u001b[43m,\u001b[49m\n\u001b[0;32m   3779\u001b[0m \u001b[43m    \u001b[49m\u001b[43mquoting\u001b[49m\u001b[38;5;241;43m=\u001b[39;49m\u001b[43mquoting\u001b[49m\u001b[43m,\u001b[49m\n\u001b[0;32m   3780\u001b[0m \u001b[43m    \u001b[49m\u001b[43mcolumns\u001b[49m\u001b[38;5;241;43m=\u001b[39;49m\u001b[43mcolumns\u001b[49m\u001b[43m,\u001b[49m\n\u001b[0;32m   3781\u001b[0m \u001b[43m    \u001b[49m\u001b[43mindex_label\u001b[49m\u001b[38;5;241;43m=\u001b[39;49m\u001b[43mindex_label\u001b[49m\u001b[43m,\u001b[49m\n\u001b[0;32m   3782\u001b[0m \u001b[43m    \u001b[49m\u001b[43mmode\u001b[49m\u001b[38;5;241;43m=\u001b[39;49m\u001b[43mmode\u001b[49m\u001b[43m,\u001b[49m\n\u001b[0;32m   3783\u001b[0m \u001b[43m    \u001b[49m\u001b[43mchunksize\u001b[49m\u001b[38;5;241;43m=\u001b[39;49m\u001b[43mchunksize\u001b[49m\u001b[43m,\u001b[49m\n\u001b[0;32m   3784\u001b[0m \u001b[43m    \u001b[49m\u001b[43mquotechar\u001b[49m\u001b[38;5;241;43m=\u001b[39;49m\u001b[43mquotechar\u001b[49m\u001b[43m,\u001b[49m\n\u001b[0;32m   3785\u001b[0m \u001b[43m    \u001b[49m\u001b[43mdate_format\u001b[49m\u001b[38;5;241;43m=\u001b[39;49m\u001b[43mdate_format\u001b[49m\u001b[43m,\u001b[49m\n\u001b[0;32m   3786\u001b[0m \u001b[43m    \u001b[49m\u001b[43mdoublequote\u001b[49m\u001b[38;5;241;43m=\u001b[39;49m\u001b[43mdoublequote\u001b[49m\u001b[43m,\u001b[49m\n\u001b[0;32m   3787\u001b[0m \u001b[43m    \u001b[49m\u001b[43mescapechar\u001b[49m\u001b[38;5;241;43m=\u001b[39;49m\u001b[43mescapechar\u001b[49m\u001b[43m,\u001b[49m\n\u001b[0;32m   3788\u001b[0m \u001b[43m    \u001b[49m\u001b[43mstorage_options\u001b[49m\u001b[38;5;241;43m=\u001b[39;49m\u001b[43mstorage_options\u001b[49m\u001b[43m,\u001b[49m\n\u001b[0;32m   3789\u001b[0m \u001b[43m\u001b[49m\u001b[43m)\u001b[49m\n",
      "File \u001b[1;32mc:\\Users\\PC\\Desktop\\BTPYTHON\\myenv\\lib\\site-packages\\pandas\\io\\formats\\format.py:1186\u001b[0m, in \u001b[0;36mDataFrameRenderer.to_csv\u001b[1;34m(self, path_or_buf, encoding, sep, columns, index_label, mode, compression, quoting, quotechar, lineterminator, chunksize, date_format, doublequote, escapechar, errors, storage_options)\u001b[0m\n\u001b[0;32m   1165\u001b[0m     created_buffer \u001b[38;5;241m=\u001b[39m \u001b[38;5;28;01mFalse\u001b[39;00m\n\u001b[0;32m   1167\u001b[0m csv_formatter \u001b[38;5;241m=\u001b[39m CSVFormatter(\n\u001b[0;32m   1168\u001b[0m     path_or_buf\u001b[38;5;241m=\u001b[39mpath_or_buf,\n\u001b[0;32m   1169\u001b[0m     lineterminator\u001b[38;5;241m=\u001b[39mlineterminator,\n\u001b[1;32m   (...)\u001b[0m\n\u001b[0;32m   1184\u001b[0m     formatter\u001b[38;5;241m=\u001b[39m\u001b[38;5;28mself\u001b[39m\u001b[38;5;241m.\u001b[39mfmt,\n\u001b[0;32m   1185\u001b[0m )\n\u001b[1;32m-> 1186\u001b[0m \u001b[43mcsv_formatter\u001b[49m\u001b[38;5;241;43m.\u001b[39;49m\u001b[43msave\u001b[49m\u001b[43m(\u001b[49m\u001b[43m)\u001b[49m\n\u001b[0;32m   1188\u001b[0m \u001b[38;5;28;01mif\u001b[39;00m created_buffer:\n\u001b[0;32m   1189\u001b[0m     \u001b[38;5;28;01massert\u001b[39;00m \u001b[38;5;28misinstance\u001b[39m(path_or_buf, StringIO)\n",
      "File \u001b[1;32mc:\\Users\\PC\\Desktop\\BTPYTHON\\myenv\\lib\\site-packages\\pandas\\io\\formats\\csvs.py:259\u001b[0m, in \u001b[0;36mCSVFormatter.save\u001b[1;34m(self)\u001b[0m\n\u001b[0;32m    240\u001b[0m \u001b[38;5;28;01mwith\u001b[39;00m get_handle(\n\u001b[0;32m    241\u001b[0m     \u001b[38;5;28mself\u001b[39m\u001b[38;5;241m.\u001b[39mfilepath_or_buffer,\n\u001b[0;32m    242\u001b[0m     \u001b[38;5;28mself\u001b[39m\u001b[38;5;241m.\u001b[39mmode,\n\u001b[1;32m   (...)\u001b[0m\n\u001b[0;32m    247\u001b[0m ) \u001b[38;5;28;01mas\u001b[39;00m handles:\n\u001b[0;32m    248\u001b[0m     \u001b[38;5;66;03m# Note: self.encoding is irrelevant here\u001b[39;00m\n\u001b[0;32m    249\u001b[0m     \u001b[38;5;28mself\u001b[39m\u001b[38;5;241m.\u001b[39mwriter \u001b[38;5;241m=\u001b[39m csvlib\u001b[38;5;241m.\u001b[39mwriter(\n\u001b[0;32m    250\u001b[0m         handles\u001b[38;5;241m.\u001b[39mhandle,\n\u001b[0;32m    251\u001b[0m         lineterminator\u001b[38;5;241m=\u001b[39m\u001b[38;5;28mself\u001b[39m\u001b[38;5;241m.\u001b[39mlineterminator,\n\u001b[1;32m   (...)\u001b[0m\n\u001b[0;32m    256\u001b[0m         quotechar\u001b[38;5;241m=\u001b[39m\u001b[38;5;28mself\u001b[39m\u001b[38;5;241m.\u001b[39mquotechar,\n\u001b[0;32m    257\u001b[0m     )\n\u001b[1;32m--> 259\u001b[0m     \u001b[38;5;28;43mself\u001b[39;49m\u001b[38;5;241;43m.\u001b[39;49m\u001b[43m_save\u001b[49m\u001b[43m(\u001b[49m\u001b[43m)\u001b[49m\n",
      "File \u001b[1;32mc:\\Users\\PC\\Desktop\\BTPYTHON\\myenv\\lib\\site-packages\\pandas\\io\\formats\\csvs.py:264\u001b[0m, in \u001b[0;36mCSVFormatter._save\u001b[1;34m(self)\u001b[0m\n\u001b[0;32m    262\u001b[0m \u001b[38;5;28;01mif\u001b[39;00m \u001b[38;5;28mself\u001b[39m\u001b[38;5;241m.\u001b[39m_need_to_save_header:\n\u001b[0;32m    263\u001b[0m     \u001b[38;5;28mself\u001b[39m\u001b[38;5;241m.\u001b[39m_save_header()\n\u001b[1;32m--> 264\u001b[0m \u001b[38;5;28;43mself\u001b[39;49m\u001b[38;5;241;43m.\u001b[39;49m\u001b[43m_save_body\u001b[49m\u001b[43m(\u001b[49m\u001b[43m)\u001b[49m\n",
      "File \u001b[1;32mc:\\Users\\PC\\Desktop\\BTPYTHON\\myenv\\lib\\site-packages\\pandas\\io\\formats\\csvs.py:302\u001b[0m, in \u001b[0;36mCSVFormatter._save_body\u001b[1;34m(self)\u001b[0m\n\u001b[0;32m    300\u001b[0m \u001b[38;5;28;01mif\u001b[39;00m start_i \u001b[38;5;241m>\u001b[39m\u001b[38;5;241m=\u001b[39m end_i:\n\u001b[0;32m    301\u001b[0m     \u001b[38;5;28;01mbreak\u001b[39;00m\n\u001b[1;32m--> 302\u001b[0m \u001b[38;5;28;43mself\u001b[39;49m\u001b[38;5;241;43m.\u001b[39;49m\u001b[43m_save_chunk\u001b[49m\u001b[43m(\u001b[49m\u001b[43mstart_i\u001b[49m\u001b[43m,\u001b[49m\u001b[43m \u001b[49m\u001b[43mend_i\u001b[49m\u001b[43m)\u001b[49m\n",
      "File \u001b[1;32mc:\\Users\\PC\\Desktop\\BTPYTHON\\myenv\\lib\\site-packages\\pandas\\io\\formats\\csvs.py:313\u001b[0m, in \u001b[0;36mCSVFormatter._save_chunk\u001b[1;34m(self, start_i, end_i)\u001b[0m\n\u001b[0;32m    310\u001b[0m data \u001b[38;5;241m=\u001b[39m [res\u001b[38;5;241m.\u001b[39miget_values(i) \u001b[38;5;28;01mfor\u001b[39;00m i \u001b[38;5;129;01min\u001b[39;00m \u001b[38;5;28mrange\u001b[39m(\u001b[38;5;28mlen\u001b[39m(res\u001b[38;5;241m.\u001b[39mitems))]\n\u001b[0;32m    312\u001b[0m ix \u001b[38;5;241m=\u001b[39m \u001b[38;5;28mself\u001b[39m\u001b[38;5;241m.\u001b[39mdata_index[slicer]\u001b[38;5;241m.\u001b[39m_format_native_types(\u001b[38;5;241m*\u001b[39m\u001b[38;5;241m*\u001b[39m\u001b[38;5;28mself\u001b[39m\u001b[38;5;241m.\u001b[39m_number_format)\n\u001b[1;32m--> 313\u001b[0m \u001b[43mlibwriters\u001b[49m\u001b[38;5;241;43m.\u001b[39;49m\u001b[43mwrite_csv_rows\u001b[49m\u001b[43m(\u001b[49m\n\u001b[0;32m    314\u001b[0m \u001b[43m    \u001b[49m\u001b[43mdata\u001b[49m\u001b[43m,\u001b[49m\n\u001b[0;32m    315\u001b[0m \u001b[43m    \u001b[49m\u001b[43mix\u001b[49m\u001b[43m,\u001b[49m\n\u001b[0;32m    316\u001b[0m \u001b[43m    \u001b[49m\u001b[38;5;28;43mself\u001b[39;49m\u001b[38;5;241;43m.\u001b[39;49m\u001b[43mnlevels\u001b[49m\u001b[43m,\u001b[49m\n\u001b[0;32m    317\u001b[0m \u001b[43m    \u001b[49m\u001b[38;5;28;43mself\u001b[39;49m\u001b[38;5;241;43m.\u001b[39;49m\u001b[43mcols\u001b[49m\u001b[43m,\u001b[49m\n\u001b[0;32m    318\u001b[0m \u001b[43m    \u001b[49m\u001b[38;5;28;43mself\u001b[39;49m\u001b[38;5;241;43m.\u001b[39;49m\u001b[43mwriter\u001b[49m\u001b[43m,\u001b[49m\n\u001b[0;32m    319\u001b[0m \u001b[43m\u001b[49m\u001b[43m)\u001b[49m\n",
      "File \u001b[1;32mc:\\Users\\PC\\Desktop\\BTPYTHON\\myenv\\lib\\site-packages\\pandas\\_libs\\writers.pyx:72\u001b[0m, in \u001b[0;36mpandas._libs.writers.write_csv_rows\u001b[1;34m()\u001b[0m\n",
      "\u001b[1;31mOSError\u001b[0m: [Errno 28] No space left on device"
     ]
    }
   ],
   "source": [
    "import os\n",
    "import pandas as pd\n",
    "\n",
    "# Define the root directory containing all sample subdirectories\n",
    "root_dir = r\"C:\\Users\\PC\\Desktop\\gene-expression-cancer-prediction\\rna_seq\"\n",
    "\n",
    "# Initialize a list to collect cleaned data from all valid samples\n",
    "all_samples_data = []\n",
    "\n",
    "# Traverse all subdirectories in the root directory\n",
    "for sample_folder in os.listdir(root_dir):\n",
    "    sample_path = os.path.join(root_dir, sample_folder)\n",
    "\n",
    "    if not os.path.isdir(sample_path):\n",
    "        continue\n",
    "\n",
    "    # Find the first .tsv file in the sample directory\n",
    "    tsv_files = [f for f in os.listdir(sample_path) if f.endswith('.tsv')]\n",
    "    if not tsv_files:\n",
    "        print(f\"Warning: No .tsv file found in {sample_path}\")\n",
    "        continue\n",
    "\n",
    "    tsv_path = os.path.join(sample_path, tsv_files[0])\n",
    "    print(f\"Reading file: {tsv_path}\")\n",
    "\n",
    "    # Use the file name (without extension) as the sample ID\n",
    "    sample_id = os.path.splitext(tsv_files[0])[0]\n",
    "    print(f\"Processing sample: {sample_id}\")\n",
    "\n",
    "    try:\n",
    "        # Explicitly set dtype for columns to prevent unwanted type inference\n",
    "        df = pd.read_csv(\n",
    "            tsv_path,\n",
    "            sep=\"\\t\",\n",
    "            comment='#',\n",
    "            dtype={\n",
    "                \"gene_id\": str,\n",
    "                \"gene_name\": str,\n",
    "                \"gene_type\": str\n",
    "            },\n",
    "            na_values=[]  # prevent pandas from auto-interpreting values as NaN\n",
    "        )\n",
    "\n",
    "        # Drop rows where gene_id is metadata (e.g., starting with '__')\n",
    "        df = df[~df[\"gene_id\"].astype(str).str.startswith('__')]\n",
    "\n",
    "        if df.empty:\n",
    "            print(f\"No valid data left after removing metadata in {sample_id}\")\n",
    "            continue\n",
    "\n",
    "        # Remove version suffix from gene_id (e.g., ENSG00000000003.15 → ENSG00000000003)\n",
    "        df[\"gene_id\"] = df[\"gene_id\"].astype(str).str.split('.').str[0]\n",
    "\n",
    "        # Convert numeric columns (skip first 3 which are gene_id, gene_name, gene_type)\n",
    "        numeric_cols = df.columns[3:]\n",
    "        df[numeric_cols] = df[numeric_cols].apply(pd.to_numeric, errors='coerce')\n",
    "\n",
    "        # Drop rows with NaNs in expression values\n",
    "        df_clean = df.dropna(subset=[\n",
    "            'unstranded', 'stranded_first', 'stranded_second',\n",
    "            'tpm_unstranded', 'fpkm_unstranded', 'fpkm_uq_unstranded'\n",
    "        ])\n",
    "\n",
    "        if df_clean.empty:\n",
    "            print(f\"No valid data left after dropping NaNs in {sample_id}\")\n",
    "            continue\n",
    "\n",
    "        # Add sample_id column\n",
    "        df_clean['sample_id'] = sample_id\n",
    "\n",
    "        # Reset index\n",
    "        df_clean = df_clean.reset_index(drop=True)\n",
    "\n",
    "        print(f\"Finished processing sample: {sample_id}, shape: {df_clean.shape}\")\n",
    "        all_samples_data.append(df_clean)\n",
    "\n",
    "    except Exception as e:\n",
    "        print(f\"Error processing {sample_id}: {e}\")\n",
    "        continue\n",
    "\n",
    "# Combine all cleaned data\n",
    "if all_samples_data:\n",
    "    combined_df = pd.concat(all_samples_data, ignore_index=True)\n",
    "    print(f\"Total samples processed: {len(all_samples_data)}\")\n",
    "    print(f\"Combined DataFrame shape: {combined_df.shape}\")\n",
    "\n",
    "    # Save to file\n",
    "    output_path = \"cleaned_gene_expression_data1.csv\"\n",
    "    combined_df.to_csv(output_path, index=False)\n",
    "    print(f\"Saved cleaned data to {output_path}\")\n",
    "else:\n",
    "    print(\"No valid samples were processed.\")\n"
   ]
  },
  {
   "cell_type": "code",
   "execution_count": 3,
   "metadata": {},
   "outputs": [
    {
     "name": "stdout",
     "output_type": "stream",
     "text": [
      "0          ba295155-272e-43eb-9d6a-e4c9c392e68b\n",
      "1          ba295155-272e-43eb-9d6a-e4c9c392e68b\n",
      "2          ba295155-272e-43eb-9d6a-e4c9c392e68b\n",
      "3          ba295155-272e-43eb-9d6a-e4c9c392e68b\n",
      "4          ba295155-272e-43eb-9d6a-e4c9c392e68b\n",
      "                           ...                 \n",
      "2730672    507de54a-b4a5-4778-99fc-2f4f45c6daa0\n",
      "2730673    507de54a-b4a5-4778-99fc-2f4f45c6daa0\n",
      "2730674    507de54a-b4a5-4778-99fc-2f4f45c6daa0\n",
      "2730675    507de54a-b4a5-4778-99fc-2f4f45c6daa0\n",
      "2730676    507de54a-b4a5-4778-99fc-2f4f45c6daa0\n",
      "Name: sample_id_clean, Length: 2730677, dtype: object\n"
     ]
    }
   ],
   "source": [
    "import pandas as pd\n",
    "import json\n",
    "\n",
    "csv_file_path = r\"C:\\Users\\PC\\Desktop\\gene-expression-cancer-prediction\\rna_seq\\cleaned_gene_expression_data.csv\"\n",
    "df = pd.read_csv(csv_file_path, sep=\",\")\n",
    "\n",
    "\n",
    "df['sample_id_clean'] = df['sample_id'].apply(lambda x: x.split(\".\")[0])\n",
    "print(df['sample_id_clean'])"
   ]
  },
  {
   "cell_type": "code",
   "execution_count": 4,
   "metadata": {},
   "outputs": [],
   "source": [
    "json_file = r\"C:\\Users\\PC\\Desktop\\gene-expression-cancer-prediction\\rna_seq\\metadata.cart.json\"\n",
    "with open(json_file, 'r') as f:\n",
    "    metadata = json.load(f)\n",
    "    \n",
    "file_mappings = {}\n",
    "for entry in metadata:\n",
    "    file_name = entry.get(\"file_name\", \"\")\n",
    "    # Extract UUID from the file_name\n",
    "    if file_name.endswith(\".rna_seq.augmented_star_gene_counts.tsv\"):\n",
    "        sample_uuid = file_name.split(\".\")[0]\n",
    "        \n",
    "        #Extract case_id from associated_entities if available\n",
    "        case_id = None\n",
    "        associated_entities = entry.get(\"associated_entities\", [])\n",
    "        if associated_entities and isinstance(associated_entities,list):\n",
    "            case_id = associated_entities[0].get(\"case_id\")\n",
    "            \n",
    "        if not case_id:\n",
    "            case_id = entry.get(\"cases\", [{}])[0].get(\"case_id\") or entry.get(\"submitter_id\")\n",
    "            \n",
    "        file_mappings[sample_uuid] = case_id"
   ]
  },
  {
   "cell_type": "code",
   "execution_count": 5,
   "metadata": {},
   "outputs": [],
   "source": [
    "df['case_id'] = df['sample_id_clean'].map(file_mappings)\n",
    "missing = df[df['case_id'].isna()]\n",
    "\n",
    "if not missing.empty:\n",
    "    print(\"Sample IDs not found in metadata:\")\n",
    "    print(missing['sample_id'])"
   ]
  },
  {
   "cell_type": "code",
   "execution_count": 6,
   "metadata": {},
   "outputs": [
    {
     "name": "stdout",
     "output_type": "stream",
     "text": [
      "Output saved to cleaned_gene_expression_data_with_case_id.csv\n"
     ]
    }
   ],
   "source": [
    "output_file = \"cleaned_gene_expression_data_with_case_id.csv\"\n",
    "df.drop(columns=['sample_id_clean'], inplace=True)\n",
    "df.to_csv(output_file, index=False)\n",
    "print(f\"Output saved to {output_file}\")"
   ]
  }
 ],
 "metadata": {
  "kernelspec": {
   "display_name": "myenv",
   "language": "python",
   "name": "python3"
  },
  "language_info": {
   "codemirror_mode": {
    "name": "ipython",
    "version": 3
   },
   "file_extension": ".py",
   "mimetype": "text/x-python",
   "name": "python",
   "nbconvert_exporter": "python",
   "pygments_lexer": "ipython3",
   "version": "3.8.0"
  }
 },
 "nbformat": 4,
 "nbformat_minor": 2
}
