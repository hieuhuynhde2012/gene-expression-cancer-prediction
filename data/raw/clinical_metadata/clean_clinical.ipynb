{
 "cells": [
  {
   "cell_type": "code",
   "execution_count": 1,
   "metadata": {},
   "outputs": [
    {
     "name": "stdout",
     "output_type": "stream",
     "text": [
      "                                case_id    patient_id  age_at_diagnosis  \\\n",
      "0  001cef41-ff86-4d3f-a140-a647ac4b10a1  TCGA-E2-A1IU              61.0   \n",
      "1  001cef41-ff86-4d3f-a140-a647ac4b10a1  TCGA-E2-A1IU              61.0   \n",
      "2  001cef41-ff86-4d3f-a140-a647ac4b10a1  TCGA-E2-A1IU              61.0   \n",
      "3  0045349c-69d9-4306-a403-c9c1fa836644  TCGA-A1-A0SB              70.7   \n",
      "4  00807dae-9f4a-4fd1-aac2-82eb11bf2afb  TCGA-A2-A04W              50.2   \n",
      "\n",
      "   gender  treatment_outcome  survival_time_months  \n",
      "0  female                '--                  11.1  \n",
      "1  female  Treatment Ongoing                  11.1  \n",
      "2  female                '--                  11.1  \n",
      "3  female                '--                   8.5  \n",
      "4  female  Treatment Ongoing                 101.9  \n"
     ]
    },
    {
     "name": "stderr",
     "output_type": "stream",
     "text": [
      "C:\\Users\\PC\\AppData\\Local\\Temp\\ipykernel_5124\\2205384353.py:4: DtypeWarning: Columns (10) have mixed types. Specify dtype option on import or set low_memory=False.\n",
      "  clinical_data = pd.read_csv(r\"C:\\Users\\PC\\Desktop\\gene-expression-cancer-prediction\\clinical_metadata\\clinical.tsv\", sep=\"\\t\")\n",
      "C:\\Users\\PC\\AppData\\Local\\Temp\\ipykernel_5124\\2205384353.py:53: PerformanceWarning: DataFrame is highly fragmented.  This is usually the result of calling `frame.insert` many times, which has poor performance.  Consider joining all columns at once using pd.concat(axis=1) instead. To get a de-fragmented frame, use `newframe = frame.copy()`\n",
      "  clinical_data['days_survival'] = clinical_data['demographic.days_to_death'].fillna(clinical_data['diagnoses.days_to_last_follow_up'])\n"
     ]
    }
   ],
   "source": [
    "import pandas as pd\n",
    "\n",
    "# Assuming clinical data is already loaded\n",
    "clinical_data = pd.read_csv(r\"C:\\Users\\PC\\Desktop\\gene-expression-cancer-prediction\\clinical_metadata\\clinical.tsv\", sep=\"\\t\")\n",
    "\n",
    "try:\n",
    "    # Check if the necessary column exists\n",
    "    if 'demographic.vital_status' in clinical_data.columns and 'demographic.days_to_death' in clinical_data.columns:\n",
    "        \n",
    "        # Handle cases for 'Alive' individuals\n",
    "        clinical_data.loc[clinical_data['demographic.vital_status'] == 'Alive', 'demographic.days_to_death'] = pd.NA\n",
    "        \n",
    "        # For deceased individuals, fill missing 'days_to_death' with median\n",
    "        deceased_data = clinical_data[clinical_data['demographic.vital_status'] == 'Deceased']\n",
    "        \n",
    "        if not deceased_data['demographic.days_to_death'].isna().all():\n",
    "            median_deceased_days = deceased_data['demographic.days_to_death'].median()\n",
    "            clinical_data.loc[clinical_data['demographic.vital_status'] == 'Deceased', 'demographic.days_to_death'] = \\\n",
    "                clinical_data.loc[clinical_data['demographic.vital_status'] == 'Deceased', 'demographic.days_to_death'].fillna(median_deceased_days)\n",
    "        \n",
    "        # Handle other columns with missing data\n",
    "        clinical_data.fillna(value=pd.NA, inplace=True)\n",
    "\n",
    "    else:\n",
    "        print(\"Required columns 'demographic.vital_status' or 'demographic.days_to_death' are missing.\")\n",
    "\n",
    "except KeyError as e:\n",
    "    print(f\"KeyError: The column {e} is missing from the dataset. Please check the dataset.\")\n",
    "\n",
    "except Exception as e:\n",
    "    print(f\"An unexpected error occurred: {e}\")\n",
    "\n",
    "# Ensure the 'days_to_death' and 'days_to_last_follow_up' columns are numeric\n",
    "clinical_data['demographic.days_to_death'] = pd.to_numeric(clinical_data['demographic.days_to_death'], errors='coerce')\n",
    "clinical_data['diagnoses.days_to_last_follow_up'] = pd.to_numeric(clinical_data['diagnoses.days_to_last_follow_up'], errors='coerce')\n",
    "\n",
    "# After handling missing values, extract relevant columns for further processing\n",
    "df_extract = pd.DataFrame()\n",
    "df_extract['case_id'] = clinical_data['cases.case_id']\n",
    "df_extract['patient_id'] = clinical_data['cases.submitter_id']\n",
    "\n",
    "# Convert 'age_at_diagnosis' from days to years if it's stored in days\n",
    "df_extract['age_at_diagnosis'] = pd.to_numeric(clinical_data['diagnoses.age_at_diagnosis'], errors='coerce') / 365.25\n",
    "\n",
    "# Round to 1 decimal place for consistency\n",
    "df_extract['age_at_diagnosis'] = df_extract['age_at_diagnosis'].round(1)\n",
    "\n",
    "df_extract['gender'] = clinical_data['demographic.gender']\n",
    "df_extract['treatment_outcome'] = clinical_data['treatments.treatment_outcome']\n",
    "\n",
    "# Calculate survival time in months (days_to_death or days_to_last_follow_up)\n",
    "# Use 'fillna' to fill missing values in 'days_to_death' with 'days_to_last_follow_up'\n",
    "clinical_data['days_survival'] = clinical_data['demographic.days_to_death'].fillna(clinical_data['diagnoses.days_to_last_follow_up'])\n",
    "\n",
    "# Ensure 'days_survival' is numeric before performing division\n",
    "clinical_data['days_survival'] = pd.to_numeric(clinical_data['days_survival'], errors='coerce')\n",
    "\n",
    "# Calculate survival time in months, handle NaN values if present\n",
    "df_extract['survival_time_months'] = (clinical_data['days_survival'] / 30.44).round(1)  # Convert from days to months\n",
    "\n",
    "# Display the results\n",
    "print(df_extract.head())\n",
    "\n",
    "df_extract.to_csv(\"clinical_data_extracted.csv\", index=False)\n"
   ]
  }
 ],
 "metadata": {
  "kernelspec": {
   "display_name": "myenv",
   "language": "python",
   "name": "python3"
  },
  "language_info": {
   "codemirror_mode": {
    "name": "ipython",
    "version": 3
   },
   "file_extension": ".py",
   "mimetype": "text/x-python",
   "name": "python",
   "nbconvert_exporter": "python",
   "pygments_lexer": "ipython3",
   "version": "3.8.0"
  }
 },
 "nbformat": 4,
 "nbformat_minor": 2
}
